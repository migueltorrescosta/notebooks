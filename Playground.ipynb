{
 "cells": [
  {
   "cell_type": "code",
   "execution_count": 1,
   "id": "93480010-579c-4ab3-a9fc-8d4fbdcee0bb",
   "metadata": {},
   "outputs": [],
   "source": [
    "x = [\"Yes – Si – See\",\"No – No – Noh\",\"Please – Per favore – Pehr fah-voh-reh\",\"Thank you – Grazie – Grah-tsee-eh\",\"You’re welcome – Prego – Preh-goh\",\"Cheers! (To your health) – Salute! – Sah-loo-tay\",\"Excuse me (for attention) – Scusi – Skooh–zee\",\"Excuse me (to pass by) – Permesso – Pehr-mehs-soh\",\"Do you speak English? – Parla Inglese? – Parh-la een-glay-zeh\",\"I don’t understand – Non capisco – Non kah-pee-skoh\",\"I’m sorry – Mi dispiace – Mee dees-pyah-cheh\",\"Good morning (formal) – Buon giorno – Bwohn-johr-noh\",\"Good afternoon (formal) – Buona sera – Bwoh-nah-seh-rah\",\"Good night (formal) – Buona notte – Bwoh–nah–noh–teh\",\"Hi / Bye (informal) – Ciao! – Chow\",\"Good bye (formal) – Arrivederci – Ahr-ree-veh-dehr-chee\",\"My name is … – Mi chiamo – Mee kyah-moh\",\"What is your name? – Come si chiama? – Koh-meh see kyah-mah?\",\"Pleased to meet you – Piacere – Pyah-cheh-reh\",\"How are you? (formal) – Come sta? – Koh-meh stah?\",\"Good thank you – Bene grazie – Beh-neh grah-tsee-eh\",\"One – Uno – Oo-noh\",\"Two – Due – Doo-eh\",\"Three – Tre – Treh\",\"Four – Quattro – Kwah-troh\",\"Five – Cinque – Cheen-kweh\",\"Six – Sei – Say\",\"Seven – Sette – Seht-tey\",\"Eight – Otto – Oh-toh\",\"Nine – Nove – Noh-veh\",\"Ten – Dieci – Dee-EH-chee\",\"Eleven – Undici – Oon–dee-chee\",\"Twelve – Dodici – Doh-dee-chee\",\"In the morning – Di Mattina – Dee mah-teen-ah\",\"In the afternoon – Di pomeriggio – Dee poh-meh-reed-joh\",\"In the evening – Di Sera – Dee seh–rah\",\"Noon – Mezzogiorno – Mehd-dzoh-johr-noh\",\"At what time? – A che ora? – Ah kay oar-ah?\",\"Nine o’clock in the morning – Le nove – Le noh-vay\",\"Eight o’clock in the evening – Le otto di sera /  – Le ot-to dee seh-rah\",\"Monday – Lunedì – Loo-neh-dee\",\"Tuesday – Martedì – Mahr-teh-dee\",\"Wednesday – Mercoledì – Mehr-koh-leh-dee\",\"Thursday – Giovedì – Joh-veh-dee\",\"Friday – Venerdì – Veh-nehr-dee\",\"Saturday – Sabato – Sah-bah-toh\",\"Sunday – Domenica – Doh-meh-nee-kah\",\"Today – Oggi – Ohd-jee\",\"Yesterday – Ieri – Yeh-ree\",\"Tomorrow – Domani – Doh-mah-nee\",\"Can I see the menu please? – Il menu, per favore – Eel men-oo, pehr fah-voh-reh\",\"What do you recommend? – Che cosa ci consiglia? – Kay koh-za chee kon-seel-ya?\",\"I’m allergic to… – Sono allergica/o a... – Son-oh ah-ler-gee-koh / kah ah\",\"Gluten / Dairy / Fish – Glutine / Lattecini / Pesce – Gloo-teen-ay /  Lah-tay-cheen-ee / Pesh-ay\",\"House wine – Vino della casa – Vee-noh del-lah car-sah\",\"Red / white wine – Vino rosso / bianco – Vee–noh ross-oh /  bee-ahn-koh\",\"A glass / bottle – Una bicchiere / una bottiglia – OO-nah beek-kyeh-reh / boht-tee-lyah\",\"Appetizer – Antipasto – Ahn-tee-pah-stoh\",\"First course – Primo – Pree-moh\",\"Second course – Secondo – Sek-kon-doh\",\"Dessert – Dolci – Doll-chee\",\"Two flavors please – Due gusti, per favore – Doo-eh goo-stee, pehr fah-voh-reh\",\"Where’s the bathroom? – Dov’è il bagno? – Doh-veh eel bahn-yoh?\",\"The check (bill) please – Il conto, per favore – Eel kon-toh, pehr fah-voh-reh\",\"Can I pay by card? – Posso pagare con la carta? – Pohs-soh pah-gah-reh kon la cahr-tah?\",\"When does it open / close? – Quando si apri / chiude? – Kwahn-doh see ah-pree / chee-oo-deh?\",\"Two adults / one child – Due adulti / un bambino – Doo-eh ah-dool-tee / oon  bahm-bee-noh\",\"One / two ticket/s – Un / due biglietto/i – Oon beel-yet-toh / tee\",\"One senior – Un pensionato – Oon pen-seyoh-nah-toh\",\"One student – Uno studente – Ooh-noh stoo-den-teh\",\"Where is the bag store / cloak room? – Dov’è la guardaroba? – Doh-veh lah gard-ah-robe-ah?\",\"Where is… ? – Dov’è…? – Doh-veh … ?\",\"Entrance – Entrata – En-trah-tah\",\"Exit – Uscita – Ooh-shee-tah\",\"Left – Sinistra – See–nee-stra\",\"Right – Destra – Deh-stra\",\"Straight ahead – Dritto – Dree-toh\",\"Forward – Avanti – Ah-vahn-tee\",\"Back – Dietro – Dee-et-roh\",\"Where is the train station? – Dov’è la stazione? – Doh-veh lah stah-tzee-oh-neh?\",\"Where is the bus stop? – Dov’è la fermata – Doh-veh lah fur-mah-tah?\",\"One / two ticket/s – Un / due biglietto/i – Oon beel-yet-toh / tee\",\"One way – Andata – Ahn–dah-tah\",\"Return – Ritorno – Ree-torn-oh\",\"What platform for Rome? – Da quale binario per Roma? – Dah kwah-lay bin-ah-rio pehr Roh-mah?\",\"Newstand (for bus tickets) – Tabacchi – Tah-back-kee\",\"I would like… – Vorrei… – Vor-ray…\",\"How much is this? – Quanto costa questo? – Kwahn-toh kohs-tah kwehs-toh??\",\"OK I’ll take it – Va bene, lo prendo – Vah beh-neh, loh prehn-doh\",\"I don’t want it – Non lo voglio – Nohn loh voh-lyoh\",\"Can you ship to…? – Puoi spedire a? – Pwoy sped-ear-eh ah?\",\"Help! – Aiuto! – Ay-oo-toh!\",\"I need a doctor – Ho bisogno di un dottore – Ho biz-ohn-nyo dee oon dot-tor-reh\",\"Call the police – Chiami la polizia – Kee-ya-mee la po-lee-zee-ah\",\"Look out! – Attento! – At–ten-toh\",\"Go away! – Vai via! – Vy vee-ah!\"]"
   ]
  },
  {
   "cell_type": "code",
   "execution_count": 18,
   "id": "9b608c4c-19a7-4925-8a32-ea4ca3bc1ad1",
   "metadata": {},
   "outputs": [
    {
     "name": "stdout",
     "output_type": "stream",
     "text": [
      "Yes\tSi (See)\n",
      "No\tNo (Noh)\n",
      "Please\tPer favore (Pehr fah-voh-reh)\n",
      "Thank you\tGrazie (Grah-tsee-eh)\n",
      "You’re welcome\tPrego (Preh-goh)\n",
      "Cheers! (To your health)\tSalute! (Sah-loo-tay)\n",
      "Excuse me (for attention)\tScusi (Skooh–zee)\n",
      "Excuse me (to pass by)\tPermesso (Pehr-mehs-soh)\n",
      "Do you speak English?\tParla Inglese? (Parh-la een-glay-zeh)\n",
      "I don’t understand\tNon capisco (Non kah-pee-skoh)\n",
      "I’m sorry\tMi dispiace (Mee dees-pyah-cheh)\n",
      "Good morning (formal)\tBuon giorno (Bwohn-johr-noh)\n",
      "Good afternoon (formal)\tBuona sera (Bwoh-nah-seh-rah)\n",
      "Good night (formal)\tBuona notte (Bwoh–nah–noh–teh)\n",
      "Hi / Bye (informal)\tCiao! (Chow)\n",
      "Good bye (formal)\tArrivederci (Ahr-ree-veh-dehr-chee)\n",
      "My name is …\tMi chiamo (Mee kyah-moh)\n",
      "What is your name?\tCome si chiama? (Koh-meh see kyah-mah?)\n",
      "Pleased to meet you\tPiacere (Pyah-cheh-reh)\n",
      "How are you? (formal)\tCome sta? (Koh-meh stah?)\n",
      "Good thank you\tBene grazie (Beh-neh grah-tsee-eh)\n",
      "One\tUno (Oo-noh)\n",
      "Two\tDue (Doo-eh)\n",
      "Three\tTre (Treh)\n",
      "Four\tQuattro (Kwah-troh)\n",
      "Five\tCinque (Cheen-kweh)\n",
      "Six\tSei (Say)\n",
      "Seven\tSette (Seht-tey)\n",
      "Eight\tOtto (Oh-toh)\n",
      "Nine\tNove (Noh-veh)\n",
      "Ten\tDieci (Dee-EH-chee)\n",
      "Eleven\tUndici (Oon–dee-chee)\n",
      "Twelve\tDodici (Doh-dee-chee)\n",
      "In the morning\tDi Mattina (Dee mah-teen-ah)\n",
      "In the afternoon\tDi pomeriggio (Dee poh-meh-reed-joh)\n",
      "In the evening\tDi Sera (Dee seh–rah)\n",
      "Noon\tMezzogiorno (Mehd-dzoh-johr-noh)\n",
      "At what time?\tA che ora? (Ah kay oar-ah?)\n",
      "Nine o’clock in the morning\tLe nove (Le noh-vay)\n",
      "Eight o’clock in the evening\tLe otto di sera /  (Le ot-to dee seh-rah)\n",
      "Monday\tLunedì (Loo-neh-dee)\n",
      "Tuesday\tMartedì (Mahr-teh-dee)\n",
      "Wednesday\tMercoledì (Mehr-koh-leh-dee)\n",
      "Thursday\tGiovedì (Joh-veh-dee)\n",
      "Friday\tVenerdì (Veh-nehr-dee)\n",
      "Saturday\tSabato (Sah-bah-toh)\n",
      "Sunday\tDomenica (Doh-meh-nee-kah)\n",
      "Today\tOggi (Ohd-jee)\n",
      "Yesterday\tIeri (Yeh-ree)\n",
      "Tomorrow\tDomani (Doh-mah-nee)\n",
      "Can I see the menu please?\tIl menu, per favore (Eel men-oo, pehr fah-voh-reh)\n",
      "What do you recommend?\tChe cosa ci consiglia? (Kay koh-za chee kon-seel-ya?)\n",
      "I’m allergic to…\tSono allergica/o a... (Son-oh ah-ler-gee-koh / kah ah)\n",
      "Gluten / Dairy / Fish\tGlutine / Lattecini / Pesce (Gloo-teen-ay /  Lah-tay-cheen-ee / Pesh-ay)\n",
      "House wine\tVino della casa (Vee-noh del-lah car-sah)\n",
      "Red / white wine\tVino rosso / bianco (Vee–noh ross-oh /  bee-ahn-koh)\n",
      "A glass / bottle\tUna bicchiere / una bottiglia (OO-nah beek-kyeh-reh / boht-tee-lyah)\n",
      "Appetizer\tAntipasto (Ahn-tee-pah-stoh)\n",
      "First course\tPrimo (Pree-moh)\n",
      "Second course\tSecondo (Sek-kon-doh)\n",
      "Dessert\tDolci (Doll-chee)\n",
      "Two flavors please\tDue gusti, per favore (Doo-eh goo-stee, pehr fah-voh-reh)\n",
      "Where’s the bathroom?\tDov’è il bagno? (Doh-veh eel bahn-yoh?)\n",
      "The check (bill) please\tIl conto, per favore (Eel kon-toh, pehr fah-voh-reh)\n",
      "Can I pay by card?\tPosso pagare con la carta? (Pohs-soh pah-gah-reh kon la cahr-tah?)\n",
      "When does it open / close?\tQuando si apri / chiude? (Kwahn-doh see ah-pree / chee-oo-deh?)\n",
      "Two adults / one child\tDue adulti / un bambino (Doo-eh ah-dool-tee / oon  bahm-bee-noh)\n",
      "One / two ticket/s\tUn / due biglietto/i (Oon beel-yet-toh / tee)\n",
      "One senior\tUn pensionato (Oon pen-seyoh-nah-toh)\n",
      "One student\tUno studente (Ooh-noh stoo-den-teh)\n",
      "Where is the bag store / cloak room?\tDov’è la guardaroba? (Doh-veh lah gard-ah-robe-ah?)\n",
      "Where is… ?\tDov’è…? (Doh-veh … ?)\n",
      "Entrance\tEntrata (En-trah-tah)\n",
      "Exit\tUscita (Ooh-shee-tah)\n",
      "Left\tSinistra (See–nee-stra)\n",
      "Right\tDestra (Deh-stra)\n",
      "Straight ahead\tDritto (Dree-toh)\n",
      "Forward\tAvanti (Ah-vahn-tee)\n",
      "Back\tDietro (Dee-et-roh)\n",
      "Where is the train station?\tDov’è la stazione? (Doh-veh lah stah-tzee-oh-neh?)\n",
      "Where is the bus stop?\tDov’è la fermata (Doh-veh lah fur-mah-tah?)\n",
      "One / two ticket/s\tUn / due biglietto/i (Oon beel-yet-toh / tee)\n",
      "One way\tAndata (Ahn–dah-tah)\n",
      "Return\tRitorno (Ree-torn-oh)\n",
      "What platform for Rome?\tDa quale binario per Roma? (Dah kwah-lay bin-ah-rio pehr Roh-mah?)\n",
      "Newstand (for bus tickets)\tTabacchi (Tah-back-kee)\n",
      "I would like…\tVorrei… (Vor-ray…)\n",
      "How much is this?\tQuanto costa questo? (Kwahn-toh kohs-tah kwehs-toh??)\n",
      "OK I’ll take it\tVa bene, lo prendo (Vah beh-neh, loh prehn-doh)\n",
      "I don’t want it\tNon lo voglio (Nohn loh voh-lyoh)\n",
      "Can you ship to…?\tPuoi spedire a? (Pwoy sped-ear-eh ah?)\n",
      "Help!\tAiuto! (Ay-oo-toh!)\n",
      "I need a doctor\tHo bisogno di un dottore (Ho biz-ohn-nyo dee oon dot-tor-reh)\n",
      "Call the police\tChiami la polizia (Kee-ya-mee la po-lee-zee-ah)\n",
      "Look out!\tAttento! (At–ten-toh)\n",
      "Go away!\tVai via! (Vy vee-ah!)\n"
     ]
    }
   ],
   "source": [
    "    \n",
    "print(\"\\n\".join([\n",
    "    f\"{a}\\t{b} ({c})\"\n",
    "    for a,b,c\n",
    "    in map(lambda t:t.split(\" – \"), x)\n",
    "]))"
   ]
  },
  {
   "cell_type": "code",
   "execution_count": 9,
   "id": "e5380867-be0d-4686-8dc7-65448c4a4f9f",
   "metadata": {},
   "outputs": [
    {
     "data": {
      "text/plain": [
       "<map at 0x7fd6606f4c70>"
      ]
     },
     "execution_count": 9,
     "metadata": {},
     "output_type": "execute_result"
    }
   ],
   "source": [
    "map(lambda t:t.split(\" – \"), x)"
   ]
  },
  {
   "cell_type": "code",
   "execution_count": null,
   "id": "30c8f580-c85e-415c-890e-f7fc3479bf6d",
   "metadata": {},
   "outputs": [],
   "source": []
  }
 ],
 "metadata": {
  "kernelspec": {
   "display_name": "Python 3 (ipykernel)",
   "language": "python",
   "name": "python3"
  },
  "language_info": {
   "codemirror_mode": {
    "name": "ipython",
    "version": 3
   },
   "file_extension": ".py",
   "mimetype": "text/x-python",
   "name": "python",
   "nbconvert_exporter": "python",
   "pygments_lexer": "ipython3",
   "version": "3.11.6"
  }
 },
 "nbformat": 4,
 "nbformat_minor": 5
}
