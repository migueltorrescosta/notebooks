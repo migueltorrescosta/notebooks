{
 "cells": [
  {
   "cell_type": "code",
   "execution_count": 1,
   "metadata": {},
   "outputs": [],
   "source": [
    "import numpy as np\n",
    "import pandas as pd"
   ]
  },
  {
   "cell_type": "code",
   "execution_count": 2,
   "metadata": {},
   "outputs": [],
   "source": [
    "# Given the illness test percentual efficiency and the % of ill people, returns the df with true positives and false positives\n",
    "# positives : people who show positive in the vaccine_test\n",
    "def sample_percentages(efficiency, illness):\n",
    "    sample = {\n",
    "        \"true_positives\": 1.0 * illness * efficiency,\n",
    "        \"false_positives\": 1.0 * (1 - illness) * (1 - efficiency),\n",
    "        \"true_negatives\": 1.0 * (1 - illness) * efficiency,\n",
    "        \"false_negatives\": 1.0 * illness * (1 - efficiency),\n",
    "    }\n",
    "    return sample\n",
    "\n",
    "\n",
    "# Given the sample, returns the probability of a positive actually being ill\n",
    "\n",
    "\n",
    "def illness_likelihood(sample):\n",
    "    return sample[\"true_positives\"] / (\n",
    "        sample[\"true_positives\"] + sample[\"false_positives\"]\n",
    "    )"
   ]
  },
  {
   "cell_type": "code",
   "execution_count": 3,
   "metadata": {},
   "outputs": [],
   "source": [
    "def main(efficiency, illness):\n",
    "    p = illness_likelihood(sample_percentages(efficiency, illness))\n",
    "    print(\n",
    "        \"Likelihood of having the illness given that we tested positive: {}\".format(p)\n",
    "    )\n",
    "    return p"
   ]
  },
  {
   "cell_type": "code",
   "execution_count": 4,
   "metadata": {},
   "outputs": [],
   "source": [
    "illness = 0.001\n",
    "efficiency = 0.99"
   ]
  },
  {
   "cell_type": "code",
   "execution_count": 5,
   "metadata": {},
   "outputs": [
    {
     "name": "stdout",
     "output_type": "stream",
     "text": [
      "Likelihood of having the illness given that we tested positive: 0.09016393442622944\n"
     ]
    },
    {
     "data": {
      "text/plain": [
       "0.09016393442622944"
      ]
     },
     "execution_count": 5,
     "metadata": {},
     "output_type": "execute_result"
    }
   ],
   "source": [
    "main(efficiency, illness)"
   ]
  }
 ],
 "metadata": {
  "kernelspec": {
   "display_name": "Python 3",
   "language": "python",
   "name": "python3"
  },
  "language_info": {
   "codemirror_mode": {
    "name": "ipython",
    "version": 3
   },
   "file_extension": ".py",
   "mimetype": "text/x-python",
   "name": "python",
   "nbconvert_exporter": "python",
   "pygments_lexer": "ipython3",
   "version": "3.12.3"
  }
 },
 "nbformat": 4,
 "nbformat_minor": 2
}