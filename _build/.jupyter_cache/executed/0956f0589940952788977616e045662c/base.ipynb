{
 "cells": [
  {
   "cell_type": "code",
   "execution_count": 1,
   "id": "13ede32c55c54d1",
   "metadata": {
    "ExecuteTime": {
     "end_time": "2024-05-21T21:19:25.743040Z",
     "start_time": "2024-05-21T21:19:25.728595Z"
    }
   },
   "source": [
    "from bokeh.plotting import output_notebook\n",
    "output_notebook()"
   ],
   "outputs": []
  },
  {
   "cell_type": "code",
   "execution_count": 2,
   "id": "fe857d39620c0ee6",
   "metadata": {
    "ExecuteTime": {
     "end_time": "2024-05-21T22:46:41.448827Z",
     "start_time": "2024-05-21T22:46:41.443753Z"
    }
   },
   "source": [
    "from dataclasses import dataclass\n",
    "import numpy as np\n",
    "\n",
    "@dataclass\n",
    "class PolicySet:\n",
    "    IMI: float = .1\n",
    "    IRS: float = .23\n",
    "    healthcare_budget: int = 20_000_000\n",
    "    education_budget: int = 30_000_000\n",
    "\n",
    "@dataclass\n",
    "class Person:\n",
    "    income: float\n",
    "    \n",
    "    def __init__(self): # Unrealistic model generating incomes used for testing purposes\n",
    "        self.income = np.random.uniform(low=0, high=10_000)\n",
    "        \n",
    "    def tax_burden(self, policy_set: PolicySet) -> float: # total i.e. absolute tax_burden\n",
    "        irs_total = policy_set.IRS * self.income\n",
    "        imi_total = max(self.income-1_000,0) * policy_set.IMI\n",
    "        return min(irs_total + imi_total, self.income) # unrealistic model used for testing purposes \n",
    "\n",
    "@dataclass\n",
    "class Budget:\n",
    "    total: int\n",
    "    healthcare: int\n",
    "    education: int\n",
    "    \n",
    "    @property\n",
    "    def deficit(self):\n",
    "        return self.total - sum([self.healthcare, self.education])"
   ],
   "outputs": []
  },
  {
   "cell_type": "code",
   "execution_count": 3,
   "id": "d950f068d1137c4",
   "metadata": {
    "ExecuteTime": {
     "end_time": "2024-05-21T22:46:41.800650Z",
     "start_time": "2024-05-21T22:46:41.797371Z"
    }
   },
   "source": [
    "from tqdm import tqdm\n",
    "\n",
    "def budget_calculator(\n",
    "        policy_set: PolicySet,\n",
    "        population_size: int = 10_500_000\n",
    ") -> Budget:\n",
    "    tax_contribution_list = [\n",
    "        Person().tax_burden(policy_set)\n",
    "        for _\n",
    "        in tqdm(range(min(population_size,10**5)))\n",
    "    ]\n",
    "    revenue = sum(tax_contribution_list)\n",
    "    return Budget(\n",
    "        total=revenue,\n",
    "        healthcare=PolicySet.healthcare_budget,\n",
    "        education=PolicySet.education_budget,\n",
    "    )"
   ],
   "outputs": []
  },
  {
   "cell_type": "code",
   "execution_count": 4,
   "id": "ca666463d01e2361",
   "metadata": {
    "ExecuteTime": {
     "end_time": "2024-05-21T22:46:42.681010Z",
     "start_time": "2024-05-21T22:46:42.457672Z"
    }
   },
   "source": [
    "budget = budget_calculator(policy_set=PolicySet())\n",
    "budget"
   ],
   "outputs": []
  },
  {
   "cell_type": "code",
   "execution_count": 5,
   "id": "7b22d609d4aa3aef",
   "metadata": {
    "ExecuteTime": {
     "end_time": "2024-05-21T22:46:44.025094Z",
     "start_time": "2024-05-21T22:46:43.121790Z"
    }
   },
   "source": [
    "from matplotlib import pyplot as plt\n",
    "ps = PolicySet()\n",
    "observations = [\n",
    "    (p.income, np.divide(p.tax_burden(ps), p.income))\n",
    "     for p\n",
    "     in [Person() for _ in tqdm(range(10**5))] \n",
    "]\n",
    "[income_array, tax_burden_array] = list(zip(*observations))\n",
    "\n",
    "# Plot\n",
    "fig, ax = plt.subplots(figsize = (15,2))\n",
    "ax.scatter(income_array, tax_burden_array, s=1)\n",
    "ax.set_xscale(\"log\")"
   ],
   "outputs": []
  },
  {
   "cell_type": "code",
   "execution_count": 6,
   "id": "8cae31b5a72fd146",
   "metadata": {
    "ExecuteTime": {
     "end_time": "2024-05-21T22:54:38.893850Z",
     "start_time": "2024-05-21T22:54:38.823351Z"
    }
   },
   "source": [
    "ps_1 = PolicySet()\n",
    "ps_2 = PolicySet(IRS=.4)\n",
    "\n",
    "budget_as_dict = {\n",
    "    \"total\": budget.total,\n",
    "    \"healthcare\": budget.healthcare,\n",
    "    \"education\": budget.education,\n",
    "    # \"deficit\": budget.deficit,\n",
    "}\n",
    "# plt.barh(budget_as_dict.keys(), budget_as_dict.values())\n",
    "plt.bar(x=budget_as_dict.keys(), height=budget_as_dict.values())"
   ],
   "outputs": []
  },
  {
   "cell_type": "code",
   "execution_count": 7,
   "id": "dd74ec98cf061313",
   "metadata": {
    "ExecuteTime": {
     "end_time": "2024-05-21T22:51:37.506837Z",
     "start_time": "2024-05-21T22:51:37.013276Z"
    }
   },
   "source": [
    "from bokeh.layouts import column, row\n",
    "from bokeh.models import ColumnDataSource, CustomJS, Slider\n",
    "from bokeh.plotting import figure, show\n",
    "\n",
    "x = np.linspace(0, 10, 500)\n",
    "y = np.sin(x)\n",
    "\n",
    "source = ColumnDataSource(data=dict(x=x, y=y))\n",
    "\n",
    "plot = figure(y_range=(-10, 10), width=400, height=400)\n",
    "plot.line('x', 'y', source=source, line_width=3, line_alpha=0.6)\n",
    "\n",
    "amp = Slider(start=0.1, end=10, value=1, step=.1, title=\"Amplitude\")\n",
    "freq = Slider(start=0.1, end=10, value=1, step=.1, title=\"Frequency\")\n",
    "phase = Slider(start=-6.4, end=6.4, value=0, step=.1, title=\"Phase\")\n",
    "offset = Slider(start=-9, end=9, value=0, step=.1, title=\"Offset\")\n",
    "\n",
    "callback = CustomJS(\n",
    "    args=dict(source=source, amp=amp, freq=freq, phase=phase, offset=offset),\n",
    "    code=\"\"\"\n",
    "        const A = amp.value\n",
    "        const k = freq.value\n",
    "        const phi = phase.value\n",
    "        const B = offset.value\n",
    "    \n",
    "        const x = source.data.x\n",
    "        const y = Array.from(x, (x) => B + A*Math.sin(k*x+phi))\n",
    "        source.data = { x, y }\n",
    "        \"\"\"\n",
    ")\n",
    "\n",
    "amp.js_on_change('value', callback)\n",
    "freq.js_on_change('value', callback)\n",
    "phase.js_on_change('value', callback)\n",
    "offset.js_on_change('value', callback)\n",
    "\n",
    "show(\n",
    "    row(\n",
    "        plot,\n",
    "        column(amp, freq, phase, offset)\n",
    "    )\n",
    ")"
   ],
   "outputs": []
  },
  {
   "cell_type": "code",
   "execution_count": 8,
   "id": "b7f3e8176fb469df",
   "metadata": {
    "ExecuteTime": {
     "end_time": "2024-05-21T20:57:01.059217Z",
     "start_time": "2024-05-21T20:57:00.985300Z"
    }
   },
   "source": [
    "from bokeh.plotting import figure, show\n",
    "\n",
    "fruits = ['Apples', 'Pears', 'Nectarines', 'Plums', 'Grapes', 'Strawberries']\n",
    "counts = [5, 3, 4, 2, 4, 6]\n",
    "\n",
    "p = figure(\n",
    "    x_range=fruits,\n",
    "    height=350,\n",
    "    title=\"Fruit Counts\",\n",
    "    toolbar_location=None,\n",
    "    tools=\"\"\n",
    ")\n",
    "\n",
    "p.vbar(\n",
    "    x=fruits,\n",
    "    top=counts,\n",
    "    width=0.9\n",
    ")\n",
    "\n",
    "p.xgrid.grid_line_color = None\n",
    "p.y_range.start = 0\n",
    "\n",
    "show(p)\n"
   ],
   "outputs": []
  },
  {
   "cell_type": "code",
   "execution_count": null,
   "id": "6d0849de6b6a4025",
   "metadata": {},
   "source": [],
   "outputs": []
  }
 ],
 "metadata": {
  "kernelspec": {
   "display_name": "Python 3",
   "language": "python",
   "name": "python3"
  },
  "language_info": {
   "codemirror_mode": {
    "name": "ipython",
    "version": 3
   },
   "file_extension": ".py",
   "mimetype": "text/x-python",
   "name": "python",
   "nbconvert_exporter": "python",
   "pygments_lexer": "ipython3",
   "version": "3.12.3"
  }
 },
 "nbformat": 4,
 "nbformat_minor": 5
}
