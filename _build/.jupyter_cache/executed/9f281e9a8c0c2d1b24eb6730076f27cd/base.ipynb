{
 "cells": [
  {
   "cell_type": "code",
   "execution_count": 1,
   "id": "fcb1cb5682a848b5",
   "metadata": {
    "ExecuteTime": {
     "end_time": "2024-04-01T22:05:50.682988Z",
     "start_time": "2024-04-01T22:05:50.677889Z"
    },
    "collapsed": false
   },
   "outputs": [],
   "source": [
    "def f(x: int) -> int:\n",
    "    return 2 * x"
   ]
  },
  {
   "cell_type": "code",
   "id": "27975b1c6dcae962",
   "metadata": {
    "collapsed": false
   },
   "outputs": [],
   "source": []
  }
 ],
 "metadata": {
  "kernelspec": {
   "display_name": "Python 3",
   "language": "python",
   "name": "python3"
  },
  "language_info": {
   "codemirror_mode": {
    "name": "ipython",
    "version": 3
   },
   "file_extension": ".py",
   "mimetype": "text/x-python",
   "name": "python",
   "nbconvert_exporter": "python",
   "pygments_lexer": "ipython3",
   "version": "3.12.3"
  }
 },
 "nbformat": 4,
 "nbformat_minor": 5
}