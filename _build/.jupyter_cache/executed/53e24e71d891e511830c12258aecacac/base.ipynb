{
 "cells": [
  {
   "cell_type": "code",
   "execution_count": 1,
   "id": "initial_id",
   "metadata": {
    "ExecuteTime": {
     "end_time": "2024-05-07T22:31:32.811963Z",
     "start_time": "2024-05-07T22:31:32.791177Z"
    },
    "collapsed": true
   },
   "outputs": [],
   "source": [
    "from qutip import Qobj"
   ]
  },
  {
   "cell_type": "code",
   "execution_count": 2,
   "id": "e507bcbc1235cec1",
   "metadata": {
    "ExecuteTime": {
     "end_time": "2024-05-07T22:31:33.896823Z",
     "start_time": "2024-05-07T22:31:33.885077Z"
    }
   },
   "outputs": [
    {
     "name": "stdout",
     "output_type": "stream",
     "text": [
      "Quantum object: dims=[[1], [1]], shape=(1, 1), type='scalar', dtype=Dense\n",
      "Qobj data =\n",
      "[[nan]]\n"
     ]
    }
   ],
   "source": [
    "print(Qobj())"
   ]
  }
 ],
 "metadata": {
  "kernelspec": {
   "display_name": "Python 3",
   "language": "python",
   "name": "python3"
  },
  "language_info": {
   "codemirror_mode": {
    "name": "ipython",
    "version": 3
   },
   "file_extension": ".py",
   "mimetype": "text/x-python",
   "name": "python",
   "nbconvert_exporter": "python",
   "pygments_lexer": "ipython3",
   "version": "3.12.3"
  }
 },
 "nbformat": 4,
 "nbformat_minor": 5
}