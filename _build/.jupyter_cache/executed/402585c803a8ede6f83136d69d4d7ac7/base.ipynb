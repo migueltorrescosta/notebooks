{
 "cells": [
  {
   "cell_type": "code",
   "execution_count": 1,
   "id": "daa7eca9-6962-4d4b-b894-48b3700defc0",
   "metadata": {},
   "outputs": [],
   "source": [
    "import random\n",
    "import itertools\n",
    "import numpy as np\n",
    "import pandas as pd\n",
    "from scipy.stats import entropy\n",
    "from scipy.optimize import minimize, LinearConstraint\n",
    "import seaborn as sns\n",
    "import matplotlib.pyplot as plt\n",
    "import pprint\n",
    "\n",
    "mp = pprint.PrettyPrinter(indent=2).pprint"
   ]
  },
  {
   "cell_type": "code",
   "execution_count": 2,
   "id": "6895ec70-fbe2-49d6-8238-c04c268535ec",
   "metadata": {},
   "outputs": [
    {
     "data": {
      "image/png": "[encoded data removed]",
      "text/html": [
       "<div style=\"vertical-align: middle;\"><strong>viridis</strong> </div><div class=\"cmap\"><img alt=\"viridis colormap\" title=\"viridis\" style=\"border: 1px solid #555;\" src=\"data:image/png;base64,iVBORw0KGgoAAAANSUhEUgAAAgAAAABACAYAAABsv8+/AAAAFnRFWHRUaXRsZQB2aXJpZGlzIGNvbG9ybWFwrE0mCwAAABx0RVh0RGVzY3JpcHRpb24AdmlyaWRpcyBjb2xvcm1hcAtjl3IAAAAwdEVYdEF1dGhvcgBNYXRwbG90bGliIHYzLjkuMCwgaHR0cHM6Ly9tYXRwbG90bGliLm9yZ/H/4w4AAAAydEVYdFNvZnR3YXJlAE1hdHBsb3RsaWIgdjMuOS4wLCBodHRwczovL21hdHBsb3RsaWIub3Jn31l8KQAAAiJJREFUeJzt1kGSmzAURdEv2FqWkP0vJfQgMhQCGceV2Ttn4pL0EVQPum771X5vVVXVWv39XfrPeV193V5zS98f1sf5/fPjey73zu6/3Hv/uz2cz57f9vP68rxO9+/zre7nhvvG+et6vH92bw3PDfcsD+eX59+/53n96f3362/f87/vf5yr93Of72/fPV9P89tX3zGeH3OT8/07Zs+/32+TuXZZD8/VODf8W5uuH/b7vctlfuv7NazH8/t7ZnP7bz2cD3NL+/Ph3Hl+/efz83vWun/vuL++nquH9eu9w/uu6/vvOO49f/8xf77vOj+8b7Y/fMfse9ca/y7nv+d62a++X+f1vt+G/b7u+/u6TxzzS//tc2053QMABBEAABBIAABAIAEAAIEEAAAEEgAAEEgAAEAgAQAAgQQAAAQSAAAQSAAAQCABAACBBAAABBIAABBIAABAIAEAAIEEAAAEEgAAEEgAAEAgAQAAgQQAAAQSAAAQSAAAQCABAACBBAAABBIAABBIAABAIAEAAIEEAAAEEgAAEEgAAEAgAQAAgQQAAAQSAAAQSAAAQCABAACBBAAABBIAABBIAABAIAEAAIEEAAAEEgAAEEgAAEAgAQAAgQQAAAQSAAAQSAAAQCABAACBBAAABBIAABBIAABAIAEAAIEEAAAEEgAAEEgAAEAgAQAAgQQAAAQSAAAQSAAAQCABAACBBAAABBIAABBIAABAoB9ucImHxcKZtAAAAABJRU5ErkJggg==\"></div><div style=\"vertical-align: middle; max-width: 514px; display: flex; justify-content: space-between;\"><div style=\"float: left;\"><div title=\"#440154ff\" style=\"display: inline-block; width: 1em; height: 1em; margin: 0; vertical-align: middle; border: 1px solid #555; background-color: #440154ff;\"></div> under</div><div style=\"margin: 0 auto; display: inline-block;\">bad <div title=\"#00000000\" style=\"display: inline-block; width: 1em; height: 1em; margin: 0; vertical-align: middle; border: 1px solid #555; background-color: #00000000;\"></div></div><div style=\"float: right;\">over <div title=\"#fde725ff\" style=\"display: inline-block; width: 1em; height: 1em; margin: 0; vertical-align: middle; border: 1px solid #555; background-color: #fde725ff;\"></div></div>"
      ],
      "text/plain": [
       "<matplotlib.colors.ListedColormap at 0x7efc369d2420>"
      ]
     },
     "execution_count": 2,
     "metadata": {},
     "output_type": "execute_result"
    }
   ],
   "source": [
    "# Colour pallette\n",
    "sns.color_palette(\"viridis\", as_cmap=True)"
   ]
  },
  {
   "cell_type": "code",
   "execution_count": 3,
   "id": "67d2f31f-c4ac-4ee9-8238-725e1bb60641",
   "metadata": {},
   "outputs": [],
   "source": [
    "stances = [\"True\", \"False\", \"Unsure\", \"Vague\", \"Unanswered\"]\n",
    "\n",
    "\n",
    "class JointDistribution:\n",
    "    def __init__(self, data=None, baseline=1):\n",
    "        if data == None:\n",
    "            data = [\n",
    "                (a, b, baseline + random.randint(0, 100))\n",
    "                for a, b in itertools.product(stances, repeat=2)\n",
    "            ]\n",
    "        self.votes = pd.DataFrame(\n",
    "            data=data,\n",
    "            columns=[\"statement_a\", \"statement_b\", \"votes\"],\n",
    "        )\n",
    "        self.entropies = {\n",
    "            \"a\": entropy(\n",
    "                list(self.votes.groupby(\"statement_a\").sum()[\"votes\"]), base=2\n",
    "            ),\n",
    "            \"b\": entropy(\n",
    "                list(self.votes.groupby(\"statement_b\").sum()[\"votes\"]), base=2\n",
    "            ),\n",
    "            \"total\": entropy(self.votes[\"votes\"], base=2),\n",
    "        }\n",
    "\n",
    "    def plot(self):\n",
    "        plt.figure(figsize=(2, 2))\n",
    "        g = sns.heatmap(\n",
    "            data=self.votes.pivot(\n",
    "                index=\"statement_a\", columns=\"statement_b\", values=\"votes\"\n",
    "            ),\n",
    "            cmap=\"viridis\",\n",
    "        )\n",
    "\n",
    "    def print_information_summary(self):\n",
    "        mutual_information = {\n",
    "            \"mutual\": self.entropies[\"a\"]\n",
    "            + self.entropies[\"b\"]\n",
    "            - self.entropies[\"total\"]\n",
    "        }\n",
    "        mp(self.entropies | mutual_information)\n",
    "\n",
    "    @staticmethod\n",
    "    def from_flat_array(flat_array):\n",
    "        return JointDistribution(\n",
    "            data=[\n",
    "                (a, b, v)\n",
    "                for (a, b), v in zip(itertools.product(stances, repeat=2), flat_array)\n",
    "            ]\n",
    "        )"
   ]
  },
  {
   "cell_type": "code",
   "execution_count": 4,
   "id": "3de56e5a-d552-4d9d-92a4-6ae83ae0178d",
   "metadata": {},
   "outputs": [
    {
     "data": {
      "text/plain": [
       "2.321928094887362"
      ]
     },
     "execution_count": 4,
     "metadata": {},
     "output_type": "execute_result"
    }
   ],
   "source": [
    "import math\n",
    "\n",
    "math.log(5, 2)"
   ]
  },
  {
   "cell_type": "code",
   "execution_count": 5,
   "id": "097b93be-2bb5-4dbe-b504-4d7f96de16e3",
   "metadata": {},
   "outputs": [
    {
     "name": "stdout",
     "output_type": "stream",
     "text": [
      "{ 'a': 2.3219280948873626,\n",
      "  'b': 2.3219280948873626,\n",
      "  'mutual': 2.321925933437947,\n",
      "  'total': 2.321930256336778}\n"
     ]
    },
    {
     "data": {
      "image/png": "[encoded data removed]",
      "text/plain": [
       "<Figure size 200x200 with 2 Axes>"
      ]
     },
     "metadata": {},
     "output_type": "display_data"
    }
   ],
   "source": [
    "baseline = 0.2\n",
    "jd = JointDistribution(\n",
    "    data=[\n",
    "        (a, b, 10**7 if a == b else baseline)\n",
    "        for a, b in itertools.product(stances, repeat=2)\n",
    "    ]\n",
    ")\n",
    "jd.print_information_summary()\n",
    "jd.plot()"
   ]
  },
  {
   "cell_type": "code",
   "execution_count": 6,
   "id": "5e7eb86c-b049-4d89-a95a-ad790daa5439",
   "metadata": {},
   "outputs": [
    {
     "data": {
      "text/html": [
       "<div>\n",
       "<style scoped>\n",
       "    .dataframe tbody tr th:only-of-type {\n",
       "        vertical-align: middle;\n",
       "    }\n",
       "\n",
       "    .dataframe tbody tr th {\n",
       "        vertical-align: top;\n",
       "    }\n",
       "\n",
       "    .dataframe thead th {\n",
       "        text-align: right;\n",
       "    }\n",
       "</style>\n",
       "<table border=\"1\" class=\"dataframe\">\n",
       "  <thead>\n",
       "    <tr style=\"text-align: right;\">\n",
       "      <th>statement_b</th>\n",
       "      <th>False</th>\n",
       "      <th>True</th>\n",
       "      <th>Unanswered</th>\n",
       "      <th>Unsure</th>\n",
       "      <th>Vague</th>\n",
       "    </tr>\n",
       "    <tr>\n",
       "      <th>statement_a</th>\n",
       "      <th></th>\n",
       "      <th></th>\n",
       "      <th></th>\n",
       "      <th></th>\n",
       "      <th></th>\n",
       "    </tr>\n",
       "  </thead>\n",
       "  <tbody>\n",
       "    <tr>\n",
       "      <th>False</th>\n",
       "      <td>10000000.0</td>\n",
       "      <td>0.2</td>\n",
       "      <td>0.2</td>\n",
       "      <td>0.2</td>\n",
       "      <td>0.2</td>\n",
       "    </tr>\n",
       "    <tr>\n",
       "      <th>True</th>\n",
       "      <td>0.2</td>\n",
       "      <td>10000000.0</td>\n",
       "      <td>0.2</td>\n",
       "      <td>0.2</td>\n",
       "      <td>0.2</td>\n",
       "    </tr>\n",
       "    <tr>\n",
       "      <th>Unanswered</th>\n",
       "      <td>0.2</td>\n",
       "      <td>0.2</td>\n",
       "      <td>10000000.0</td>\n",
       "      <td>0.2</td>\n",
       "      <td>0.2</td>\n",
       "    </tr>\n",
       "    <tr>\n",
       "      <th>Unsure</th>\n",
       "      <td>0.2</td>\n",
       "      <td>0.2</td>\n",
       "      <td>0.2</td>\n",
       "      <td>10000000.0</td>\n",
       "      <td>0.2</td>\n",
       "    </tr>\n",
       "    <tr>\n",
       "      <th>Vague</th>\n",
       "      <td>0.2</td>\n",
       "      <td>0.2</td>\n",
       "      <td>0.2</td>\n",
       "      <td>0.2</td>\n",
       "      <td>10000000.0</td>\n",
       "    </tr>\n",
       "  </tbody>\n",
       "</table>\n",
       "</div>"
      ],
      "text/plain": [
       "statement_b       False        True  Unanswered      Unsure       Vague\n",
       "statement_a                                                            \n",
       "False        10000000.0         0.2         0.2         0.2         0.2\n",
       "True                0.2  10000000.0         0.2         0.2         0.2\n",
       "Unanswered          0.2         0.2  10000000.0         0.2         0.2\n",
       "Unsure              0.2         0.2         0.2  10000000.0         0.2\n",
       "Vague               0.2         0.2         0.2         0.2  10000000.0"
      ]
     },
     "execution_count": 6,
     "metadata": {},
     "output_type": "execute_result"
    }
   ],
   "source": [
    "jd.votes.pivot(index=\"statement_a\", columns=\"statement_b\", values=\"votes\")"
   ]
  },
  {
   "cell_type": "code",
   "execution_count": 7,
   "id": "8c889864-aa50-4899-b9cc-0349ce600acc",
   "metadata": {},
   "outputs": [],
   "source": [
    "def loss_function(vector: np.ndarray) -> float:\n",
    "    jd = JointDistribution.from_flat_array(vector)\n",
    "    return np.divide(\n",
    "        jd.entropies[\"total\"] - jd.entropies[\"b\"],\n",
    "        jd.entropies[\"total\"] - jd.entropies[\"a\"],\n",
    "    )"
   ]
  },
  {
   "cell_type": "code",
   "execution_count": 8,
   "id": "335c8901-9dcd-4916-8ad9-26e848372bfd",
   "metadata": {},
   "outputs": [
    {
     "name": "stdout",
     "output_type": "stream",
     "text": [
      "{ 'a': 0.3265606178997153,\n",
      "  'b': 2.319772731496179,\n",
      "  'mutual': 9.269600793304633e-05,\n",
      "  'total': 2.646240653387961}\n"
     ]
    },
    {
     "data": {
      "image/png": "[encoded data removed]",
      "text/plain": [
       "<Figure size 200x200 with 2 Axes>"
      ]
     },
     "metadata": {},
     "output_type": "display_data"
    }
   ],
   "source": [
    "x = minimize(\n",
    "    x0=[random.randint(1, 5) for _ in range(25)],\n",
    "    # x0=x.x,\n",
    "    fun=loss_function,\n",
    "    method=\"SLSQP\",\n",
    "    constraints={\n",
    "        LinearConstraint(\n",
    "            A=np.diag(np.ones(25)), ub=np.divide(np.ones(25), 0.01), lb=np.ones(25)\n",
    "        )\n",
    "    },\n",
    ")\n",
    "minimal_jd = JointDistribution.from_flat_array(x.x)\n",
    "minimal_jd.print_information_summary()\n",
    "minimal_jd.plot()"
   ]
  }
 ],
 "metadata": {
  "kernelspec": {
   "display_name": "Python 3 (ipykernel)",
   "language": "python",
   "name": "python3"
  },
  "language_info": {
   "codemirror_mode": {
    "name": "ipython",
    "version": 3
   },
   "file_extension": ".py",
   "mimetype": "text/x-python",
   "name": "python",
   "nbconvert_exporter": "python",
   "pygments_lexer": "ipython3",
   "version": "3.12.3"
  }
 },
 "nbformat": 4,
 "nbformat_minor": 5
}