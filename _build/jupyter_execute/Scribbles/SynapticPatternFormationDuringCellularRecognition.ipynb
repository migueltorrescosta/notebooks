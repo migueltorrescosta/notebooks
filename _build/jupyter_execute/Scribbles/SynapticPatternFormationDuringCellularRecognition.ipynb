{
 "cells": [
  {
   "cell_type": "markdown",
   "id": "af23190deb7324df",
   "metadata": {
    "collapsed": false
   },
   "source": [
    "# Goal\n",
    "\n",
    "We want to model solutions to the set of equations described in https://www.pnas.org/doi/full/10.1073/pnas.111536798#T1. These model is described in https://collapsedwave.com/%F0%9F%90%B6-Random/Synaptic-pattern-formation-during-cellular-recognition"
   ]
  },
  {
   "cell_type": "markdown",
   "id": "5d804222470bfc6b",
   "metadata": {
    "collapsed": false
   },
   "source": [
    "# Imports"
   ]
  },
  {
   "cell_type": "code",
   "execution_count": 3,
   "id": "fcb1cb5682a848b5",
   "metadata": {
    "ExecuteTime": {
     "end_time": "2024-04-01T22:05:50.682988Z",
     "start_time": "2024-04-01T22:05:50.677889Z"
    },
    "collapsed": false
   },
   "outputs": [],
   "source": [
    "def f(x: int) -> int:\n",
    "    return 2 * x"
   ]
  },
  {
   "cell_type": "code",
   "id": "27975b1c6dcae962",
   "metadata": {
    "collapsed": false
   },
   "outputs": [],
   "source": []
  }
 ],
 "metadata": {
  "kernelspec": {
   "display_name": "Python 3",
   "language": "python",
   "name": "python3"
  },
  "language_info": {
   "codemirror_mode": {
    "name": "ipython",
    "version": 2
   },
   "file_extension": ".py",
   "mimetype": "text/x-python",
   "name": "python",
   "nbconvert_exporter": "python",
   "pygments_lexer": "ipython2",
   "version": "2.7.6"
  }
 },
 "nbformat": 4,
 "nbformat_minor": 5
}