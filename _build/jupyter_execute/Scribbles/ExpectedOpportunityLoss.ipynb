{
 "cells": [
  {
   "cell_type": "markdown",
   "metadata": {},
   "source": [
    "This methodology is thoroughly described in Douglas Hubbard's book \"How to Measure Anything\" . This is the best source if you want to learn more about this topic."
   ]
  },
  {
   "cell_type": "markdown",
   "metadata": {},
   "source": [
    "The objective of this notebook is to provide a framework for calculating the value of information. To be more specific, there are many unknowns impacting a decision. This framework allows us how much value exists in reducing the uncertainty around a certain unknown."
   ]
  },
  {
   "cell_type": "markdown",
   "metadata": {},
   "source": [
    "# Expected Opportunity Loss\n",
    "\n",
    "Many decisions are influenced by unknown events. After the event we often realise we could have made better choices. This is known as an opportunity loss: We didn't make the most of the situation because we didn't know better at the time.\n",
    "\n",
    "Even though we cannot remove all the randomness of the world, it is possible to quantify our unknowns and understand under which scenarions we will be missing out on some profits, and when it is worth reducing the uncertainty of our predictions. In this booklet we will be using Douglas' framework of Expected Opportunity Loss.\n",
    "\n",
    "For the given framework, I implemented the class above which requires 2 inputs only in order to be initialized:\n",
    "- **Random inputs:** random number generators that model the inputs for the loss function. The random number generators that take a single integer $n$ and return $n$ observations of that input.\n",
    "- **Reward Functions:** Functions that convert an observation from the random number generators into a reward amount.\n",
    "\n",
    "The class internally applies a Monte Carlo Simulation to model the Expected Opportunity Loss using this general framework"
   ]
  },
  {
   "cell_type": "code",
   "execution_count": 1,
   "metadata": {},
   "outputs": [],
   "source": [
    "import numpy as np\n",
    "import pandas as pd\n",
    "from tqdm import tqdm\n",
    "import seaborn as sns\n",
    "from matplotlib import pyplot as plt\n",
    "\n",
    "pd.set_option(\"display.precision\", 2)\n",
    "tqdm.pandas()\n",
    "\n",
    "\n",
    "class ExpectedOpportunityLoss:\n",
    "    \"\"\"\n",
    "    Monte Carlo Simulation Class that models expected loss using a list of random value generators and reward functions.\n",
    "    \"\"\"\n",
    "\n",
    "    def __init__(self, reward_functions, random_inputs, run_default_script=False):\n",
    "        \"\"\"\n",
    "        :param reward_functions: {str: function}\n",
    "            Deterministic reward function that takes a single dictionary as input, whose keys are a subset of the keys in the random_inputs passed.\n",
    "        :param random_inputs: {str: random_generator}\n",
    "            dictionary of random number generators. These are functions that take a single integer input n and return an array of n randomly\n",
    "        \"\"\"\n",
    "\n",
    "        assert isinstance(\n",
    "            reward_functions, dict\n",
    "        ), \"reward_functions must be a dictionary\"\n",
    "        assert isinstance(\n",
    "            random_inputs, dict\n",
    "        ), \"random_value_generators must be a dictionary\"\n",
    "        self.reward_functions = reward_functions\n",
    "        self.random_inputs = random_inputs  # TODO: Allow for dependence of variables in the ramdom inputs.\n",
    "        self.options = reward_functions.keys()\n",
    "        self.data = pd.DataFrame(\n",
    "            columns=list(self.random_inputs.keys())\n",
    "            + list(self.options)\n",
    "            + [option + \" opportunity loss\" for option in self.options]\n",
    "            + [\"Optimal Decision\"]\n",
    "        )\n",
    "        self.colour_map = sns.color_palette(\"RdBu_r\", 7)\n",
    "        if run_default_script:\n",
    "            self.main_script()\n",
    "\n",
    "    def main_script(self):\n",
    "\n",
    "        from IPython.core.display import display, HTML\n",
    "\n",
    "        self.add_data_points(n=10000)\n",
    "\n",
    "        display(\n",
    "            HTML(\n",
    "                \"<h1>Expected Loss and Standard Deviation for each option available</h1>\"\n",
    "            )\n",
    "        )\n",
    "        display(HTML(self.generate_metrics().render()))\n",
    "\n",
    "        display(\n",
    "            HTML(\n",
    "                \"<h1>Expected savings by knowing the inputs quantiles. The input with higher savings is more promising for making a better decision</h1>\"\n",
    "            )\n",
    "        )\n",
    "        display(HTML(self.evaluate_value_of_uncertainty_reduction(bins=4).render()))\n",
    "\n",
    "        display(HTML(\"<h1>Optimal Choices for each quantile / option</h1>\"))\n",
    "        for random_input in tqdm(self.random_inputs):\n",
    "            display(\n",
    "                HTML(self.get_optimal_choice_per_group(random_input, bins=4).to_html())\n",
    "            )\n",
    "\n",
    "    def add_data_points(self, n):\n",
    "        new_data = pd.DataFrame(\n",
    "            {key: random_input(n) for key, random_input in self.random_inputs.items()}\n",
    "        )\n",
    "        for key, reward_function in tqdm(self.reward_functions.items()):\n",
    "            new_data[key] = new_data.apply(reward_function, axis=1)\n",
    "        new_data[\"Optimal Decision\"] = new_data[self.options].apply(max, axis=1)\n",
    "        for key in self.options:\n",
    "            new_data[key + \" opportunity loss\"] = (\n",
    "                new_data[\"Optimal Decision\"] - new_data[key]\n",
    "            )\n",
    "        self.data = pd.concat([self.data, new_data], ignore_index=True).astype(float)\n",
    "\n",
    "    def _generate_single_metric(self, option):\n",
    "        \"\"\"\n",
    "        Generates the expected_loss and std_deviation for a single option\n",
    "        \"\"\"\n",
    "\n",
    "        return {\n",
    "            \"Expected Loss\": np.mean(self.data[option + \" opportunity loss\"]),\n",
    "            \"Standard Deviation\": np.std(self.data[option + \" opportunity loss\"]),\n",
    "        }\n",
    "\n",
    "    def generate_metrics(self):\n",
    "        \"\"\"\n",
    "        Generates the metrics table.\n",
    "        \"\"\"\n",
    "        self.metrics = pd.DataFrame(\n",
    "            {option: self._generate_single_metric(option) for option in self.options}\n",
    "        )\n",
    "        return (\n",
    "            self.metrics.sort_values(\"Expected Loss\", ascending=True, axis=1)\n",
    "            .round(3)\n",
    "            .T.style.bar(subset=[\"Expected Loss\"], color=\"#d65f5f\", vmin=0)\n",
    "        )\n",
    "\n",
    "    def evaluate_value_of_uncertainty_reduction(self, bins=5):\n",
    "        \"\"\"\n",
    "        Metrics for the evaluation of which random inputs are worth decreasing the uncertainty of\n",
    "\n",
    "        :param bins: integer\n",
    "        Number of bins to divide the inputs in. Too small a value might cause you to miss certain relations. Too small a value might cause you to overfit to the data.\n",
    "        \"\"\"\n",
    "\n",
    "        savings = {\n",
    "            random_input: self.metrics.T[\"Expected Loss\"].min()\n",
    "            - self._expected_loss_given_group(\n",
    "                pd.qcut(self.data[random_input], q=bins, duplicates=\"drop\")\n",
    "            )\n",
    "            for random_input in self.random_inputs.keys()\n",
    "        }\n",
    "        savings_df = pd.DataFrame({\"Savings\": savings})\n",
    "        return savings_df.sort_values([\"Savings\"], ascending=False).style.bar(\n",
    "            color=\"#5fba7d\", vmin=0, vmax=self.metrics.T[\"Expected Loss\"].min()\n",
    "        )\n",
    "\n",
    "    def _get_optimal_choices_per_group(self, groups):\n",
    "        \"\"\"\n",
    "        Returns a Dictionary of Optimal Choices per Group\n",
    "        \"\"\"\n",
    "        return (\n",
    "            self.data[[option + \" opportunity loss\" for option in self.options]]\n",
    "            .groupby(groups)\n",
    "            .progress_apply(np.mean)\n",
    "            .idxmin(axis=1)\n",
    "            .to_dict()\n",
    "        )\n",
    "\n",
    "    def _expected_loss_given_group(self, groups):\n",
    "        \"\"\"\n",
    "        Returns the expected loss assuming we know exactly in which group we are from the passed Series.\n",
    "        The series must map the indices in cls.data to the categorical groups\n",
    "        \"\"\"\n",
    "        optimal_choices_per_group = self._get_optimal_choices_per_group(groups)\n",
    "        return self.data.apply(\n",
    "            lambda row: row[optimal_choices_per_group[groups[row.name]]], axis=1\n",
    "        ).mean(axis=0)\n",
    "\n",
    "    def get_optimal_choice_per_group(self, random_input, bins):\n",
    "        assert (\n",
    "            random_input in self.random_inputs\n",
    "        ), \"The selected input is invalid. Make sure you typed it correctly, or check in the randow_inputs attribute which ones are available\"\n",
    "        optimal_choices = self._get_optimal_choices_per_group(\n",
    "            groups=pd.qcut(self.data[random_input], q=bins, duplicates=\"drop\")\n",
    "        )\n",
    "        optimal_choices = {\n",
    "            key: value[:-17] for key, value in optimal_choices.items()\n",
    "        }  # Removes the opportunity loss part of the string\n",
    "        return pd.DataFrame({\"Optimal Choice for \" + random_input: optimal_choices})\n",
    "\n",
    "    def plot_loss_distribution(self, options=None):\n",
    "        \"\"\"\n",
    "        Plots the loss function to\n",
    "        \"\"\"\n",
    "        if options is None:\n",
    "            options = self.options\n",
    "        assert set(options) <= set(\n",
    "            self.options\n",
    "        ), \"You passed choices that were not part of this object's initialization\"\n",
    "        loss_columns = [option + \" opportunity loss\" for option in options]\n",
    "        bins = np.linspace(\n",
    "            self.data[loss_columns].min().min(),\n",
    "            self.data[loss_columns].max().max(),\n",
    "            200,\n",
    "        )\n",
    "        self.data.hist(\n",
    "            column=loss_columns,\n",
    "            figsize=(30, 2 * len(options)),\n",
    "            density=True,\n",
    "            layout=(len(options), 1),\n",
    "            sharex=True,\n",
    "            bins=bins,\n",
    "        )"
   ]
  },
  {
   "cell_type": "markdown",
   "metadata": {},
   "source": [
    "# Study Case 1: Endorsements\n",
    "\n",
    "Nothing better than an example to understand the concepts above. Suppose I believe that, next year, Candidate X will get elected with probability 80%. I can endorse her campaign for 2 million dollars. If I don't endorse her campaign, I get nothing. If I endorse her and she loses, I lose the 2 million dollars invested, whereas if I endorse her and she wins, I get 3 million back for an overal profit of 1 million.\n",
    "\n",
    "As such my best move is to endorse her if she wins, and not if she doesn't. Since I don't know whether she will win or not, I have to make this choice based on probabilities. Using the class above, the first thing I need is to define the loss functions"
   ]
  },
  {
   "cell_type": "code",
   "execution_count": 2,
   "metadata": {},
   "outputs": [],
   "source": [
    "def reward_if_endorse(obs):\n",
    "    if obs[\"Elected\"] == 1:\n",
    "        return 1  # Get 1 million overall if elected\n",
    "    else:\n",
    "        return -2  # Lose 2 million if not elected"
   ]
  },
  {
   "cell_type": "code",
   "execution_count": 3,
   "metadata": {},
   "outputs": [],
   "source": [
    "endorsement_analysis = ExpectedOpportunityLoss(\n",
    "    reward_functions={\n",
    "        \"Endorse\": reward_if_endorse,\n",
    "        \"Don't Endorse\": lambda obs: 0,  # Known profit of 0 if no endorsment happens\n",
    "    },\n",
    "    random_inputs={\"Elected\": lambda n: np.random.binomial(size=n, n=1, p=0.7)},\n",
    ")"
   ]
  },
  {
   "cell_type": "code",
   "execution_count": 4,
   "metadata": {},
   "outputs": [
    {
     "name": "stderr",
     "output_type": "stream",
     "text": [
      "\r",
      "  0%|                                                                                                                                                                                                        | 0/2 [00:00<?, ?it/s]"
     ]
    },
    {
     "name": "stderr",
     "output_type": "stream",
     "text": [
      "\r",
      "100%|███████████████████████████████████████████████████████████████████████████████████████████████████████████████████████████████████████████████████████████████████████████████████████████████| 2/2 [00:00<00:00, 241.73it/s]"
     ]
    },
    {
     "name": "stderr",
     "output_type": "stream",
     "text": [
      "\n"
     ]
    },
    {
     "data": {
      "text/html": [
       "<style type=\"text/css\">\n",
       "#T_dcf5b_row0_col0 {\n",
       "  width: 10em;\n",
       "  background: linear-gradient(90deg, #d65f5f 95.0%, transparent 95.0%);\n",
       "}\n",
       "#T_dcf5b_row1_col0 {\n",
       "  width: 10em;\n",
       "  background: linear-gradient(90deg, #d65f5f 100.0%, transparent 100.0%);\n",
       "}\n",
       "</style>\n",
       "<table id=\"T_dcf5b\">\n",
       "  <thead>\n",
       "    <tr>\n",
       "      <th class=\"blank level0\" >&nbsp;</th>\n",
       "      <th id=\"T_dcf5b_level0_col0\" class=\"col_heading level0 col0\" >Expected Loss</th>\n",
       "      <th id=\"T_dcf5b_level0_col1\" class=\"col_heading level0 col1\" >Standard Deviation</th>\n",
       "    </tr>\n",
       "  </thead>\n",
       "  <tbody>\n",
       "    <tr>\n",
       "      <th id=\"T_dcf5b_level0_row0\" class=\"row_heading level0 row0\" >Endorse</th>\n",
       "      <td id=\"T_dcf5b_row0_col0\" class=\"data row0 col0\" >0.644000</td>\n",
       "      <td id=\"T_dcf5b_row0_col1\" class=\"data row0 col1\" >0.934000</td>\n",
       "    </tr>\n",
       "    <tr>\n",
       "      <th id=\"T_dcf5b_level0_row1\" class=\"row_heading level0 row1\" >Don't Endorse</th>\n",
       "      <td id=\"T_dcf5b_row1_col0\" class=\"data row1 col0\" >0.678000</td>\n",
       "      <td id=\"T_dcf5b_row1_col1\" class=\"data row1 col1\" >0.467000</td>\n",
       "    </tr>\n",
       "  </tbody>\n",
       "</table>\n"
      ],
      "text/plain": [
       "<pandas.io.formats.style.Styler at 0x70cd36fe1a90>"
      ]
     },
     "execution_count": 4,
     "metadata": {},
     "output_type": "execute_result"
    }
   ],
   "source": [
    "endorsement_analysis.add_data_points(1000)\n",
    "endorsement_analysis.generate_metrics()"
   ]
  },
  {
   "cell_type": "markdown",
   "metadata": {},
   "source": [
    "We see that the the lowest expected loss is attainned if we endorse the candidate, for an expected opportunity loss of around 0.6 million if we endorse her versus an expected opportunity loss of 0.7 if we don't endorse.\n",
    "\n",
    "Note that we also have the standard deviation of our losses, since the expected loss only gives us an average value, but we can have two very different distributions for the opportunity loss. This Opportunity Loss can be thought of as a random variable as well, being a function of other random variables. We can see the distribution below"
   ]
  },
  {
   "cell_type": "code",
   "execution_count": 5,
   "metadata": {},
   "outputs": [
    {
     "data": {
      "image/png": "[encoded data removed]",
      "text/plain": [
       "<Figure size 3000x400 with 2 Axes>"
      ]
     },
     "metadata": {},
     "output_type": "display_data"
    }
   ],
   "source": [
    "endorsement_analysis.plot_loss_distribution()  # Need to add labels and overlap the barchart1"
   ]
  },
  {
   "cell_type": "markdown",
   "metadata": {},
   "source": [
    "# Study Case 2: Distribution Centers\n",
    "Now let us try a much harder example. Say we manage a distribution center and on any given day we distribute packages. The costs associated are described by $N_{Trucks} * M $ (the number of trucks multiplied by the average maintenance costs per truck), and the profit is $\\min( N_{packages}, N_{Trucks} * C ) * P$, where the first term represents the number of packages that can be handled for a given day (the minimum between the number of requests made and the capacity that the company has), and the second term represents the average profit per package. As such the overal reward function is given by:\n",
    "\n",
    "$$ \\min( N_{packages}, N_{Trucks} * C ) P - M N_{Trucks}$$\n",
    "\n",
    "In this equation:\n",
    "\n",
    "- $N_{packages}$ is the number of packages sent by clients. Assuming 10 million Portuguese possible clients, each with a probibility of 0.1% of sending a package on a given day, and independent of each other, we get that this is a random variable with a binomial distribution with parameters $n=10^7$ and $p=10^{-3}$.\n",
    "- $N_{trucks}$ Is the only variable we control. Let's assume we currently have 8 trucks, and can get a total of up to 12 trucks.\n",
    "- $C$ represents the truck capacity. This is currently given as $10^3$, for each truck.\n",
    "- $M$ is the costs per truck. Each truck costs us a fixed amount of $50€$ per day, but we could potentially pay up to $500€$ for repairs. As such this is uniform on the interval $(50,500)$.\n",
    "\n",
    "As such our reward functions are given by the distinct choices we can make regarding the number of trucks, and the other variable represent random inputs. The code below represents this"
   ]
  },
  {
   "cell_type": "code",
   "execution_count": 6,
   "metadata": {},
   "outputs": [],
   "source": [
    "options_list = [\n",
    "    x for x in range(13) if x >= 8\n",
    "]  # We already have 8 trucks, and we can buy up to 12"
   ]
  },
  {
   "cell_type": "code",
   "execution_count": 7,
   "metadata": {},
   "outputs": [],
   "source": [
    "def reward_function(obs, number_of_trucks):\n",
    "    truck_capacity = 1000  # A truck can carry 1000 packages a day\n",
    "    return (\n",
    "        min([obs[\"Number of Packages\"], number_of_trucks * truck_capacity])\n",
    "        * obs[\"Profit per Package\"]\n",
    "    ) - (number_of_trucks * obs[\"Maintenance cost per Truck\"])"
   ]
  },
  {
   "cell_type": "code",
   "execution_count": 8,
   "metadata": {},
   "outputs": [],
   "source": [
    "from functools import partial\n",
    "\n",
    "distribution_center_analysis = ExpectedOpportunityLoss(\n",
    "    reward_functions={\n",
    "        f\"{key} trucks\": partial(reward_function, number_of_trucks=key)\n",
    "        for key in options_list\n",
    "    },\n",
    "    random_inputs={\n",
    "        \"Number of Packages\": lambda n: np.random.binomial(\n",
    "            size=n, n=10000000, p=0.001\n",
    "        ),  # There's 10 million people, each of which with .1 % chance of sending a package that day\n",
    "        \"Profit per Package\": lambda n: np.random.exponential(\n",
    "            size=n, scale=3\n",
    "        ),  # Package profits are exponentially distributed, with average 3 euros per package but a lower bound of 1.\n",
    "        \"Maintenance cost per Truck\": lambda n: np.random.uniform(\n",
    "            50, 500, size=n\n",
    "        ),  # Maintenance of trucks has a fixed cost of 50€ per truck (man work) + extra if replacements are needed\n",
    "    },\n",
    ")"
   ]
  },
  {
   "cell_type": "code",
   "execution_count": 9,
   "metadata": {},
   "outputs": [
    {
     "name": "stderr",
     "output_type": "stream",
     "text": [
      "\r",
      "  0%|                                                                                                                                                                                                        | 0/5 [00:00<?, ?it/s]"
     ]
    },
    {
     "name": "stderr",
     "output_type": "stream",
     "text": [
      "\r",
      " 40%|████████████████████████████████████████████████████████████████████████████▊                                                                                                                   | 2/5 [00:00<00:00, 13.04it/s]"
     ]
    },
    {
     "name": "stderr",
     "output_type": "stream",
     "text": [
      "\r",
      " 80%|█████████████████████████████████████████████████████████████████████████████████████████████████████████████████████████████████████████████████████████▌                                      | 4/5 [00:00<00:00, 13.10it/s]"
     ]
    },
    {
     "name": "stderr",
     "output_type": "stream",
     "text": [
      "\r",
      "100%|████████████████████████████████████████████████████████████████████████████████████████████████████████████████████████████████████████████████████████████████████████████████████████████████| 5/5 [00:00<00:00, 12.86it/s]"
     ]
    },
    {
     "name": "stderr",
     "output_type": "stream",
     "text": [
      "\n",
      "/tmp/ipykernel_35288/1171031813.py:80: FutureWarning: The behavior of DataFrame concatenation with empty or all-NA entries is deprecated. In a future version, this will no longer exclude empty or all-NA columns when determining the result dtypes. To retain the old behavior, exclude the relevant entries before the concat operation.\n",
      "  self.data = pd.concat([self.data, new_data], ignore_index=True).astype(float)\n"
     ]
    },
    {
     "data": {
      "text/html": [
       "<style type=\"text/css\">\n",
       "#T_22fd2_row0_col0 {\n",
       "  width: 10em;\n",
       "  background: linear-gradient(90deg, #d65f5f 1.6%, transparent 1.6%);\n",
       "}\n",
       "#T_22fd2_row1_col0 {\n",
       "  width: 10em;\n",
       "  background: linear-gradient(90deg, #d65f5f 4.5%, transparent 4.5%);\n",
       "}\n",
       "#T_22fd2_row2_col0 {\n",
       "  width: 10em;\n",
       "  background: linear-gradient(90deg, #d65f5f 9.7%, transparent 9.7%);\n",
       "}\n",
       "#T_22fd2_row3_col0 {\n",
       "  width: 10em;\n",
       "  background: linear-gradient(90deg, #d65f5f 49.6%, transparent 49.6%);\n",
       "}\n",
       "#T_22fd2_row4_col0 {\n",
       "  width: 10em;\n",
       "  background: linear-gradient(90deg, #d65f5f 100.0%, transparent 100.0%);\n",
       "}\n",
       "</style>\n",
       "<table id=\"T_22fd2\">\n",
       "  <thead>\n",
       "    <tr>\n",
       "      <th class=\"blank level0\" >&nbsp;</th>\n",
       "      <th id=\"T_22fd2_level0_col0\" class=\"col_heading level0 col0\" >Expected Loss</th>\n",
       "      <th id=\"T_22fd2_level0_col1\" class=\"col_heading level0 col1\" >Standard Deviation</th>\n",
       "    </tr>\n",
       "  </thead>\n",
       "  <tbody>\n",
       "    <tr>\n",
       "      <th id=\"T_22fd2_level0_row0\" class=\"row_heading level0 row0\" >10 trucks</th>\n",
       "      <td id=\"T_22fd2_row0_col0\" class=\"data row0 col0\" >84.892000</td>\n",
       "      <td id=\"T_22fd2_row0_col1\" class=\"data row0 col1\" >231.115000</td>\n",
       "    </tr>\n",
       "    <tr>\n",
       "      <th id=\"T_22fd2_level0_row1\" class=\"row_heading level0 row1\" >11 trucks</th>\n",
       "      <td id=\"T_22fd2_row1_col0\" class=\"data row1 col0\" >244.836000</td>\n",
       "      <td id=\"T_22fd2_row1_col1\" class=\"data row1 col1\" >216.693000</td>\n",
       "    </tr>\n",
       "    <tr>\n",
       "      <th id=\"T_22fd2_level0_row2\" class=\"row_heading level0 row2\" >12 trucks</th>\n",
       "      <td id=\"T_22fd2_row2_col0\" class=\"data row2 col0\" >521.368000</td>\n",
       "      <td id=\"T_22fd2_row2_col1\" class=\"data row2 col1\" >315.066000</td>\n",
       "    </tr>\n",
       "    <tr>\n",
       "      <th id=\"T_22fd2_level0_row3\" class=\"row_heading level0 row3\" >9 trucks</th>\n",
       "      <td id=\"T_22fd2_row3_col0\" class=\"data row3 col0\" >2672.568000</td>\n",
       "      <td id=\"T_22fd2_row3_col1\" class=\"data row3 col1\" >2919.943000</td>\n",
       "    </tr>\n",
       "    <tr>\n",
       "      <th id=\"T_22fd2_level0_row4\" class=\"row_heading level0 row4\" >8 trucks</th>\n",
       "      <td id=\"T_22fd2_row4_col0\" class=\"data row4 col0\" >5384.215000</td>\n",
       "      <td id=\"T_22fd2_row4_col1\" class=\"data row4 col1\" >5880.703000</td>\n",
       "    </tr>\n",
       "  </tbody>\n",
       "</table>\n"
      ],
      "text/plain": [
       "<pandas.io.formats.style.Styler at 0x70cd36fd8620>"
      ]
     },
     "execution_count": 9,
     "metadata": {},
     "output_type": "execute_result"
    }
   ],
   "source": [
    "distribution_center_analysis.add_data_points(10000)\n",
    "distribution_center_analysis.generate_metrics()"
   ]
  },
  {
   "cell_type": "markdown",
   "metadata": {},
   "source": [
    "We see that 10 trucks is the best choice, with an expected opportunity loss around 90. The next best choice, 11 trucks, has a much bigger loss, around 240.\n"
   ]
  },
  {
   "cell_type": "code",
   "execution_count": 10,
   "metadata": {},
   "outputs": [
    {
     "data": {
      "image/png": "[encoded data removed]",
      "text/plain": [
       "<Figure size 3000x1000 with 5 Axes>"
      ]
     },
     "metadata": {},
     "output_type": "display_data"
    }
   ],
   "source": [
    "distribution_center_analysis.plot_loss_distribution()"
   ]
  },
  {
   "cell_type": "code",
   "execution_count": 11,
   "metadata": {},
   "outputs": [
    {
     "name": "stderr",
     "output_type": "stream",
     "text": [
      "/tmp/ipykernel_35288/1171031813.py:131: FutureWarning: The default of observed=False is deprecated and will be changed to True in a future version of pandas. Pass observed=False to retain current behavior or observed=True to adopt the future default and silence this warning.\n",
      "  .groupby(groups)\n"
     ]
    },
    {
     "name": "stderr",
     "output_type": "stream",
     "text": [
      "\r",
      "  0%|                                                                                                                                                                                                        | 0/4 [00:00<?, ?it/s]"
     ]
    },
    {
     "name": "stderr",
     "output_type": "stream",
     "text": [
      "\r",
      "100%|██████████████████████████████████████████████████████████████████████████████████████████████████████████████████████████████████████████████████████████████████████████████████████████████| 4/4 [00:00<00:00, 1629.96it/s]"
     ]
    },
    {
     "name": "stderr",
     "output_type": "stream",
     "text": [
      "\n"
     ]
    },
    {
     "ename": "ValueError",
     "evalue": "No axis named 1 for object type Series",
     "output_type": "error",
     "traceback": [
      "\u001b[0;31m---------------------------------------------------------------------------\u001b[0m",
      "\u001b[0;31mKeyError\u001b[0m                                  Traceback (most recent call last)",
      "\u001b[0;32m~/.cache/pypoetry/virtualenvs/collapsedwave-FzXm3nz_-py3.12/lib/python3.12/site-packages/pandas/core/generic.py\u001b[0m in \u001b[0;36m?\u001b[0;34m(cls, axis)\u001b[0m\n\u001b[1;32m    576\u001b[0m             \u001b[0;32mreturn\u001b[0m \u001b[0mcls\u001b[0m\u001b[0;34m.\u001b[0m\u001b[0m_AXIS_TO_AXIS_NUMBER\u001b[0m\u001b[0;34m[\u001b[0m\u001b[0maxis\u001b[0m\u001b[0;34m]\u001b[0m\u001b[0;34m\u001b[0m\u001b[0;34m\u001b[0m\u001b[0m\n\u001b[1;32m    577\u001b[0m         \u001b[0;32mexcept\u001b[0m \u001b[0mKeyError\u001b[0m\u001b[0;34m:\u001b[0m\u001b[0;34m\u001b[0m\u001b[0;34m\u001b[0m\u001b[0m\n\u001b[0;32m--> 578\u001b[0;31m             \u001b[0;32mraise\u001b[0m \u001b[0mValueError\u001b[0m\u001b[0;34m(\u001b[0m\u001b[0;34mf\"\u001b[0m\u001b[0;34mNo axis named \u001b[0m\u001b[0;34m{\u001b[0m\u001b[0maxis\u001b[0m\u001b[0;34m}\u001b[0m\u001b[0;34m for object type \u001b[0m\u001b[0;34m{\u001b[0m\u001b[0mcls\u001b[0m\u001b[0;34m.\u001b[0m\u001b[0m__name__\u001b[0m\u001b[0;34m}\u001b[0m\u001b[0;34m\"\u001b[0m\u001b[0;34m)\u001b[0m\u001b[0;34m\u001b[0m\u001b[0;34m\u001b[0m\u001b[0m\n\u001b[0m",
      "\u001b[0;31mKeyError\u001b[0m: 1",
      "\nDuring handling of the above exception, another exception occurred:\n",
      "\u001b[0;31mValueError\u001b[0m                                Traceback (most recent call last)",
      "\u001b[0;32m/tmp/ipykernel_35288/3663268095.py\u001b[0m in \u001b[0;36m?\u001b[0;34m()\u001b[0m\n\u001b[0;32m----> 1\u001b[0;31m \u001b[0mdistribution_center_analysis\u001b[0m\u001b[0;34m.\u001b[0m\u001b[0mevaluate_value_of_uncertainty_reduction\u001b[0m\u001b[0;34m(\u001b[0m\u001b[0mbins\u001b[0m\u001b[0;34m=\u001b[0m\u001b[0;36m4\u001b[0m\u001b[0;34m)\u001b[0m\u001b[0;34m\u001b[0m\u001b[0;34m\u001b[0m\u001b[0m\n\u001b[0m",
      "\u001b[0;32m/tmp/ipykernel_35288/1171031813.py\u001b[0m in \u001b[0;36m?\u001b[0;34m(self, bins)\u001b[0m\n\u001b[1;32m    109\u001b[0m         \u001b[0;34m:\u001b[0m\u001b[0mparam\u001b[0m \u001b[0mbins\u001b[0m\u001b[0;34m:\u001b[0m \u001b[0minteger\u001b[0m\u001b[0;34m\u001b[0m\u001b[0;34m\u001b[0m\u001b[0m\n\u001b[1;32m    110\u001b[0m         \u001b[0mNumber\u001b[0m \u001b[0mof\u001b[0m \u001b[0mbins\u001b[0m \u001b[0mto\u001b[0m \u001b[0mdivide\u001b[0m \u001b[0mthe\u001b[0m \u001b[0minputs\u001b[0m \u001b[0;32min\u001b[0m\u001b[0;34m.\u001b[0m \u001b[0mToo\u001b[0m \u001b[0msmall\u001b[0m \u001b[0ma\u001b[0m \u001b[0mvalue\u001b[0m \u001b[0mmight\u001b[0m \u001b[0mcause\u001b[0m \u001b[0myou\u001b[0m \u001b[0mto\u001b[0m \u001b[0mmiss\u001b[0m \u001b[0mcertain\u001b[0m \u001b[0mrelations\u001b[0m\u001b[0;34m.\u001b[0m \u001b[0mToo\u001b[0m \u001b[0msmall\u001b[0m \u001b[0ma\u001b[0m \u001b[0mvalue\u001b[0m \u001b[0mmight\u001b[0m \u001b[0mcause\u001b[0m \u001b[0myou\u001b[0m \u001b[0mto\u001b[0m \u001b[0moverfit\u001b[0m \u001b[0mto\u001b[0m \u001b[0mthe\u001b[0m \u001b[0mdata\u001b[0m\u001b[0;34m.\u001b[0m\u001b[0;34m\u001b[0m\u001b[0;34m\u001b[0m\u001b[0m\n\u001b[1;32m    111\u001b[0m         \"\"\"\n\u001b[1;32m    112\u001b[0m \u001b[0;34m\u001b[0m\u001b[0m\n\u001b[0;32m--> 113\u001b[0;31m         savings = {\n\u001b[0m\u001b[1;32m    114\u001b[0m             \u001b[0mrandom_input\u001b[0m\u001b[0;34m:\u001b[0m \u001b[0mself\u001b[0m\u001b[0;34m.\u001b[0m\u001b[0mmetrics\u001b[0m\u001b[0;34m.\u001b[0m\u001b[0mT\u001b[0m\u001b[0;34m[\u001b[0m\u001b[0;34m\"Expected Loss\"\u001b[0m\u001b[0;34m]\u001b[0m\u001b[0;34m.\u001b[0m\u001b[0mmin\u001b[0m\u001b[0;34m(\u001b[0m\u001b[0;34m)\u001b[0m\u001b[0;34m\u001b[0m\u001b[0;34m\u001b[0m\u001b[0m\n\u001b[1;32m    115\u001b[0m             - self._expected_loss_given_group(\n\u001b[1;32m    116\u001b[0m                 \u001b[0mpd\u001b[0m\u001b[0;34m.\u001b[0m\u001b[0mqcut\u001b[0m\u001b[0;34m(\u001b[0m\u001b[0mself\u001b[0m\u001b[0;34m.\u001b[0m\u001b[0mdata\u001b[0m\u001b[0;34m[\u001b[0m\u001b[0mrandom_input\u001b[0m\u001b[0;34m]\u001b[0m\u001b[0;34m,\u001b[0m \u001b[0mq\u001b[0m\u001b[0;34m=\u001b[0m\u001b[0mbins\u001b[0m\u001b[0;34m,\u001b[0m \u001b[0mduplicates\u001b[0m\u001b[0;34m=\u001b[0m\u001b[0;34m\"drop\"\u001b[0m\u001b[0;34m)\u001b[0m\u001b[0;34m\u001b[0m\u001b[0;34m\u001b[0m\u001b[0m\n",
      "\u001b[0;32m/tmp/ipykernel_35288/1171031813.py\u001b[0m in \u001b[0;36m?\u001b[0;34m(self, groups)\u001b[0m\n\u001b[1;32m    138\u001b[0m         \"\"\"\n\u001b[1;32m    139\u001b[0m         \u001b[0mReturns\u001b[0m \u001b[0mthe\u001b[0m \u001b[0mexpected\u001b[0m \u001b[0mloss\u001b[0m \u001b[0massuming\u001b[0m \u001b[0mwe\u001b[0m \u001b[0mknow\u001b[0m \u001b[0mexactly\u001b[0m \u001b[0;32min\u001b[0m \u001b[0mwhich\u001b[0m \u001b[0mgroup\u001b[0m \u001b[0mwe\u001b[0m \u001b[0mare\u001b[0m \u001b[0;32mfrom\u001b[0m \u001b[0mthe\u001b[0m \u001b[0mpassed\u001b[0m \u001b[0mSeries\u001b[0m\u001b[0;34m.\u001b[0m\u001b[0;34m\u001b[0m\u001b[0;34m\u001b[0m\u001b[0m\n\u001b[1;32m    140\u001b[0m         \u001b[0mThe\u001b[0m \u001b[0mseries\u001b[0m \u001b[0mmust\u001b[0m \u001b[0mmap\u001b[0m \u001b[0mthe\u001b[0m \u001b[0mindices\u001b[0m \u001b[0;32min\u001b[0m \u001b[0mcls\u001b[0m\u001b[0;34m.\u001b[0m\u001b[0mdata\u001b[0m \u001b[0mto\u001b[0m \u001b[0mthe\u001b[0m \u001b[0mcategorical\u001b[0m \u001b[0mgroups\u001b[0m\u001b[0;34m\u001b[0m\u001b[0;34m\u001b[0m\u001b[0m\n\u001b[1;32m    141\u001b[0m         \"\"\"\n\u001b[0;32m--> 142\u001b[0;31m         \u001b[0moptimal_choices_per_group\u001b[0m \u001b[0;34m=\u001b[0m \u001b[0mself\u001b[0m\u001b[0;34m.\u001b[0m\u001b[0m_get_optimal_choices_per_group\u001b[0m\u001b[0;34m(\u001b[0m\u001b[0mgroups\u001b[0m\u001b[0;34m)\u001b[0m\u001b[0;34m\u001b[0m\u001b[0;34m\u001b[0m\u001b[0m\n\u001b[0m\u001b[1;32m    143\u001b[0m         return self.data.apply(\n\u001b[1;32m    144\u001b[0m             \u001b[0;32mlambda\u001b[0m \u001b[0mrow\u001b[0m\u001b[0;34m:\u001b[0m \u001b[0mrow\u001b[0m\u001b[0;34m[\u001b[0m\u001b[0moptimal_choices_per_group\u001b[0m\u001b[0;34m[\u001b[0m\u001b[0mgroups\u001b[0m\u001b[0;34m[\u001b[0m\u001b[0mrow\u001b[0m\u001b[0;34m.\u001b[0m\u001b[0mname\u001b[0m\u001b[0;34m]\u001b[0m\u001b[0;34m]\u001b[0m\u001b[0;34m]\u001b[0m\u001b[0;34m,\u001b[0m \u001b[0maxis\u001b[0m\u001b[0;34m=\u001b[0m\u001b[0;36m1\u001b[0m\u001b[0;34m\u001b[0m\u001b[0;34m\u001b[0m\u001b[0m\n\u001b[1;32m    145\u001b[0m         \u001b[0;34m)\u001b[0m\u001b[0;34m.\u001b[0m\u001b[0mmean\u001b[0m\u001b[0;34m(\u001b[0m\u001b[0maxis\u001b[0m\u001b[0;34m=\u001b[0m\u001b[0;36m0\u001b[0m\u001b[0;34m)\u001b[0m\u001b[0;34m\u001b[0m\u001b[0;34m\u001b[0m\u001b[0m\n",
      "\u001b[0;32m/tmp/ipykernel_35288/1171031813.py\u001b[0m in \u001b[0;36m?\u001b[0;34m(self, groups)\u001b[0m\n\u001b[1;32m    129\u001b[0m         return (\n\u001b[1;32m    130\u001b[0m             \u001b[0mself\u001b[0m\u001b[0;34m.\u001b[0m\u001b[0mdata\u001b[0m\u001b[0;34m[\u001b[0m\u001b[0;34m[\u001b[0m\u001b[0moption\u001b[0m \u001b[0;34m+\u001b[0m \u001b[0;34m\" opportunity loss\"\u001b[0m \u001b[0;32mfor\u001b[0m \u001b[0moption\u001b[0m \u001b[0;32min\u001b[0m \u001b[0mself\u001b[0m\u001b[0;34m.\u001b[0m\u001b[0moptions\u001b[0m\u001b[0;34m]\u001b[0m\u001b[0;34m]\u001b[0m\u001b[0;34m\u001b[0m\u001b[0;34m\u001b[0m\u001b[0m\n\u001b[1;32m    131\u001b[0m             \u001b[0;34m.\u001b[0m\u001b[0mgroupby\u001b[0m\u001b[0;34m(\u001b[0m\u001b[0mgroups\u001b[0m\u001b[0;34m)\u001b[0m\u001b[0;34m\u001b[0m\u001b[0;34m\u001b[0m\u001b[0m\n\u001b[1;32m    132\u001b[0m             \u001b[0;34m.\u001b[0m\u001b[0mprogress_apply\u001b[0m\u001b[0;34m(\u001b[0m\u001b[0mnp\u001b[0m\u001b[0;34m.\u001b[0m\u001b[0mmean\u001b[0m\u001b[0;34m)\u001b[0m\u001b[0;34m\u001b[0m\u001b[0;34m\u001b[0m\u001b[0m\n\u001b[0;32m--> 133\u001b[0;31m             \u001b[0;34m.\u001b[0m\u001b[0midxmin\u001b[0m\u001b[0;34m(\u001b[0m\u001b[0maxis\u001b[0m\u001b[0;34m=\u001b[0m\u001b[0;36m1\u001b[0m\u001b[0;34m)\u001b[0m\u001b[0;34m\u001b[0m\u001b[0;34m\u001b[0m\u001b[0m\n\u001b[0m\u001b[1;32m    134\u001b[0m             \u001b[0;34m.\u001b[0m\u001b[0mto_dict\u001b[0m\u001b[0;34m(\u001b[0m\u001b[0;34m)\u001b[0m\u001b[0;34m\u001b[0m\u001b[0;34m\u001b[0m\u001b[0m\n\u001b[1;32m    135\u001b[0m         \u001b[0;34m)\u001b[0m\u001b[0;34m\u001b[0m\u001b[0;34m\u001b[0m\u001b[0m\n",
      "\u001b[0;32m~/.cache/pypoetry/virtualenvs/collapsedwave-FzXm3nz_-py3.12/lib/python3.12/site-packages/pandas/core/series.py\u001b[0m in \u001b[0;36m?\u001b[0;34m(self, axis, skipna, *args, **kwargs)\u001b[0m\n\u001b[1;32m   2667\u001b[0m \u001b[0;34m\u001b[0m\u001b[0m\n\u001b[1;32m   2668\u001b[0m         \u001b[0;34m>>\u001b[0m\u001b[0;34m>\u001b[0m \u001b[0ms\u001b[0m\u001b[0;34m.\u001b[0m\u001b[0midxmin\u001b[0m\u001b[0;34m(\u001b[0m\u001b[0mskipna\u001b[0m\u001b[0;34m=\u001b[0m\u001b[0;32mFalse\u001b[0m\u001b[0;34m)\u001b[0m\u001b[0;34m\u001b[0m\u001b[0;34m\u001b[0m\u001b[0m\n\u001b[1;32m   2669\u001b[0m         \u001b[0mnan\u001b[0m\u001b[0;34m\u001b[0m\u001b[0;34m\u001b[0m\u001b[0m\n\u001b[1;32m   2670\u001b[0m         \"\"\"\n\u001b[0;32m-> 2671\u001b[0;31m         \u001b[0maxis\u001b[0m \u001b[0;34m=\u001b[0m \u001b[0mself\u001b[0m\u001b[0;34m.\u001b[0m\u001b[0m_get_axis_number\u001b[0m\u001b[0;34m(\u001b[0m\u001b[0maxis\u001b[0m\u001b[0;34m)\u001b[0m\u001b[0;34m\u001b[0m\u001b[0;34m\u001b[0m\u001b[0m\n\u001b[0m\u001b[1;32m   2672\u001b[0m         \u001b[0;32mwith\u001b[0m \u001b[0mwarnings\u001b[0m\u001b[0;34m.\u001b[0m\u001b[0mcatch_warnings\u001b[0m\u001b[0;34m(\u001b[0m\u001b[0;34m)\u001b[0m\u001b[0;34m:\u001b[0m\u001b[0;34m\u001b[0m\u001b[0;34m\u001b[0m\u001b[0m\n\u001b[1;32m   2673\u001b[0m             \u001b[0;31m# TODO(3.0): this catching/filtering can be removed\u001b[0m\u001b[0;34m\u001b[0m\u001b[0;34m\u001b[0m\u001b[0m\n\u001b[1;32m   2674\u001b[0m             \u001b[0;31m# ignore warning produced by argmin since we will issue a different\u001b[0m\u001b[0;34m\u001b[0m\u001b[0;34m\u001b[0m\u001b[0m\n",
      "\u001b[0;32m~/.cache/pypoetry/virtualenvs/collapsedwave-FzXm3nz_-py3.12/lib/python3.12/site-packages/pandas/core/generic.py\u001b[0m in \u001b[0;36m?\u001b[0;34m(cls, axis)\u001b[0m\n\u001b[1;32m    574\u001b[0m     \u001b[0;32mdef\u001b[0m \u001b[0m_get_axis_number\u001b[0m\u001b[0;34m(\u001b[0m\u001b[0mcls\u001b[0m\u001b[0;34m,\u001b[0m \u001b[0maxis\u001b[0m\u001b[0;34m:\u001b[0m \u001b[0mAxis\u001b[0m\u001b[0;34m)\u001b[0m \u001b[0;34m->\u001b[0m \u001b[0mAxisInt\u001b[0m\u001b[0;34m:\u001b[0m\u001b[0;34m\u001b[0m\u001b[0;34m\u001b[0m\u001b[0m\n\u001b[1;32m    575\u001b[0m         \u001b[0;32mtry\u001b[0m\u001b[0;34m:\u001b[0m\u001b[0;34m\u001b[0m\u001b[0;34m\u001b[0m\u001b[0m\n\u001b[1;32m    576\u001b[0m             \u001b[0;32mreturn\u001b[0m \u001b[0mcls\u001b[0m\u001b[0;34m.\u001b[0m\u001b[0m_AXIS_TO_AXIS_NUMBER\u001b[0m\u001b[0;34m[\u001b[0m\u001b[0maxis\u001b[0m\u001b[0;34m]\u001b[0m\u001b[0;34m\u001b[0m\u001b[0;34m\u001b[0m\u001b[0m\n\u001b[1;32m    577\u001b[0m         \u001b[0;32mexcept\u001b[0m \u001b[0mKeyError\u001b[0m\u001b[0;34m:\u001b[0m\u001b[0;34m\u001b[0m\u001b[0;34m\u001b[0m\u001b[0m\n\u001b[0;32m--> 578\u001b[0;31m             \u001b[0;32mraise\u001b[0m \u001b[0mValueError\u001b[0m\u001b[0;34m(\u001b[0m\u001b[0;34mf\"\u001b[0m\u001b[0;34mNo axis named \u001b[0m\u001b[0;34m{\u001b[0m\u001b[0maxis\u001b[0m\u001b[0;34m}\u001b[0m\u001b[0;34m for object type \u001b[0m\u001b[0;34m{\u001b[0m\u001b[0mcls\u001b[0m\u001b[0;34m.\u001b[0m\u001b[0m__name__\u001b[0m\u001b[0;34m}\u001b[0m\u001b[0;34m\"\u001b[0m\u001b[0;34m)\u001b[0m\u001b[0;34m\u001b[0m\u001b[0;34m\u001b[0m\u001b[0m\n\u001b[0m",
      "\u001b[0;31mValueError\u001b[0m: No axis named 1 for object type Series"
     ]
    }
   ],
   "source": [
    "distribution_center_analysis.evaluate_value_of_uncertainty_reduction(bins=4)"
   ]
  },
  {
   "cell_type": "markdown",
   "metadata": {},
   "source": [
    "Assuming we knew exactly which distribution quantile we were in for the input variables above, we can see exactly which one provides the biggest improvement in Expected Loss: Knowing the Number of Packages. As such reducing uncertainty around the Number of packages per day is more likely to reduce the expected loss."
   ]
  },
  {
   "cell_type": "code",
   "execution_count": null,
   "metadata": {},
   "outputs": [
    {
     "name": "stderr",
     "output_type": "stream",
     "text": [
      "  0%|          | 0/4 [00:00<?, ?it/s]/opt/conda/lib/python3.10/site-packages/numpy/core/fromnumeric.py:3472: FutureWarning: In a future version, DataFrame.mean(axis=None) will return a scalar mean over the entire DataFrame. To retain the old behavior, use 'frame.mean(axis=0)' or just 'frame.mean()'\n",
      "  return mean(axis=axis, dtype=dtype, out=out, **kwargs)\n",
      "100%|██████████| 4/4 [00:00<00:00, 1911.93it/s]\n"
     ]
    },
    {
     "data": {
      "text/html": [
       "<div>\n",
       "<style scoped>\n",
       "    .dataframe tbody tr th:only-of-type {\n",
       "        vertical-align: middle;\n",
       "    }\n",
       "\n",
       "    .dataframe tbody tr th {\n",
       "        vertical-align: top;\n",
       "    }\n",
       "\n",
       "    .dataframe thead th {\n",
       "        text-align: right;\n",
       "    }\n",
       "</style>\n",
       "<table border=\"1\" class=\"dataframe\">\n",
       "  <thead>\n",
       "    <tr style=\"text-align: right;\">\n",
       "      <th></th>\n",
       "      <th>Optimal Choice for Number of Packages</th>\n",
       "    </tr>\n",
       "  </thead>\n",
       "  <tbody>\n",
       "    <tr>\n",
       "      <th>(9636.999, 9932.0]</th>\n",
       "      <td>10 trucks</td>\n",
       "    </tr>\n",
       "    <tr>\n",
       "      <th>(9932.0, 10002.0]</th>\n",
       "      <td>10 trucks</td>\n",
       "    </tr>\n",
       "    <tr>\n",
       "      <th>(10002.0, 10069.0]</th>\n",
       "      <td>10 trucks</td>\n",
       "    </tr>\n",
       "    <tr>\n",
       "      <th>(10069.0, 10371.0]</th>\n",
       "      <td>11 trucks</td>\n",
       "    </tr>\n",
       "  </tbody>\n",
       "</table>\n",
       "</div>"
      ],
      "text/plain": [
       "                   Optimal Choice for Number of Packages\n",
       "(9636.999, 9932.0]                             10 trucks\n",
       "(9932.0, 10002.0]                              10 trucks\n",
       "(10002.0, 10069.0]                             10 trucks\n",
       "(10069.0, 10371.0]                             11 trucks"
      ]
     },
     "execution_count": 12,
     "metadata": {},
     "output_type": "execute_result"
    }
   ],
   "source": [
    "distribution_center_analysis.get_optimal_choice_per_group(\n",
    "    random_input=\"Number of Packages\", bins=4\n",
    ")"
   ]
  },
  {
   "cell_type": "markdown",
   "metadata": {},
   "source": [
    "Looking at the optimal choice per group, we can observe that the reduction in opportunity loss comes from knowing that in the upper quantile, above roughly 10000 packages, the best option is to get 11 trucks. This makes intuitive sense: If the expected number of packages is higher, more trucks will be needed to handle the demand."
   ]
  },
  {
   "cell_type": "code",
   "execution_count": null,
   "metadata": {},
   "outputs": [
    {
     "name": "stderr",
     "output_type": "stream",
     "text": [
      "  0%|          | 0/10 [00:00<?, ?it/s]/opt/conda/lib/python3.10/site-packages/numpy/core/fromnumeric.py:3472: FutureWarning: In a future version, DataFrame.mean(axis=None) will return a scalar mean over the entire DataFrame. To retain the old behavior, use 'frame.mean(axis=0)' or just 'frame.mean()'\n",
      "  return mean(axis=axis, dtype=dtype, out=out, **kwargs)\n",
      "100%|██████████| 10/10 [00:00<00:00, 3181.12it/s]\n",
      "  0%|          | 0/10 [00:00<?, ?it/s]/opt/conda/lib/python3.10/site-packages/numpy/core/fromnumeric.py:3472: FutureWarning: In a future version, DataFrame.mean(axis=None) will return a scalar mean over the entire DataFrame. To retain the old behavior, use 'frame.mean(axis=0)' or just 'frame.mean()'\n",
      "  return mean(axis=axis, dtype=dtype, out=out, **kwargs)\n",
      "100%|██████████| 10/10 [00:00<00:00, 3136.40it/s]\n",
      "  0%|          | 0/10 [00:00<?, ?it/s]/opt/conda/lib/python3.10/site-packages/numpy/core/fromnumeric.py:3472: FutureWarning: In a future version, DataFrame.mean(axis=None) will return a scalar mean over the entire DataFrame. To retain the old behavior, use 'frame.mean(axis=0)' or just 'frame.mean()'\n",
      "  return mean(axis=axis, dtype=dtype, out=out, **kwargs)\n",
      "100%|██████████| 10/10 [00:00<00:00, 3275.78it/s]\n"
     ]
    },
    {
     "data": {
      "text/html": [
       "<style type=\"text/css\">\n",
       "#T_5543a_row0_col0 {\n",
       "  width: 10em;\n",
       "  background: linear-gradient(90deg, #5fba7d 43.2%, transparent 43.2%);\n",
       "}\n",
       "#T_5543a_row1_col0 {\n",
       "  width: 10em;\n",
       "  background: linear-gradient(90deg, #5fba7d 31.9%, transparent 31.9%);\n",
       "}\n",
       "#T_5543a_row2_col0 {\n",
       "  width: 10em;\n",
       "  background: linear-gradient(90deg, #5fba7d 5.6%, transparent 5.6%);\n",
       "}\n",
       "</style>\n",
       "<table id=\"T_5543a\">\n",
       "  <thead>\n",
       "    <tr>\n",
       "      <th class=\"blank level0\" >&nbsp;</th>\n",
       "      <th id=\"T_5543a_level0_col0\" class=\"col_heading level0 col0\" >Savings</th>\n",
       "    </tr>\n",
       "  </thead>\n",
       "  <tbody>\n",
       "    <tr>\n",
       "      <th id=\"T_5543a_level0_row0\" class=\"row_heading level0 row0\" >Profit per Package</th>\n",
       "      <td id=\"T_5543a_row0_col0\" class=\"data row0 col0\" >36.281961</td>\n",
       "    </tr>\n",
       "    <tr>\n",
       "      <th id=\"T_5543a_level0_row1\" class=\"row_heading level0 row1\" >Number of Packages</th>\n",
       "      <td id=\"T_5543a_row1_col0\" class=\"data row1 col0\" >26.765117</td>\n",
       "    </tr>\n",
       "    <tr>\n",
       "      <th id=\"T_5543a_level0_row2\" class=\"row_heading level0 row2\" >Maintenance cost per Truck</th>\n",
       "      <td id=\"T_5543a_row2_col0\" class=\"data row2 col0\" >4.729900</td>\n",
       "    </tr>\n",
       "  </tbody>\n",
       "</table>\n"
      ],
      "text/plain": [
       "<pandas.io.formats.style.Styler at 0x7f88b031dfc0>"
      ]
     },
     "execution_count": 13,
     "metadata": {},
     "output_type": "execute_result"
    }
   ],
   "source": [
    "distribution_center_analysis.evaluate_value_of_uncertainty_reduction(bins=10)"
   ]
  },
  {
   "cell_type": "markdown",
   "metadata": {},
   "source": [
    "If we knew deciles, however, the picture changes: Knowing the profit per package now surpasses knowing the number of packages. This can be interpreted by thinking of marginal returns: An initial reduction in knowing the expected number of packages reduces our uncertainty significantly up to a certain amount, after which we might be better off reducing uncertainty around the Profit per package."
   ]
  },
  {
   "cell_type": "code",
   "execution_count": null,
   "metadata": {},
   "outputs": [
    {
     "name": "stderr",
     "output_type": "stream",
     "text": [
      "  0%|          | 0/100 [00:00<?, ?it/s]/opt/conda/lib/python3.10/site-packages/numpy/core/fromnumeric.py:3472: FutureWarning: In a future version, DataFrame.mean(axis=None) will return a scalar mean over the entire DataFrame. To retain the old behavior, use 'frame.mean(axis=0)' or just 'frame.mean()'\n",
      "  return mean(axis=axis, dtype=dtype, out=out, **kwargs)\n",
      "100%|██████████| 100/100 [00:00<00:00, 3950.96it/s]\n",
      "  0%|          | 0/100 [00:00<?, ?it/s]/opt/conda/lib/python3.10/site-packages/numpy/core/fromnumeric.py:3472: FutureWarning: In a future version, DataFrame.mean(axis=None) will return a scalar mean over the entire DataFrame. To retain the old behavior, use 'frame.mean(axis=0)' or just 'frame.mean()'\n",
      "  return mean(axis=axis, dtype=dtype, out=out, **kwargs)\n",
      "100%|██████████| 100/100 [00:00<00:00, 4748.23it/s]\n",
      "  0%|          | 0/100 [00:00<?, ?it/s]/opt/conda/lib/python3.10/site-packages/numpy/core/fromnumeric.py:3472: FutureWarning: In a future version, DataFrame.mean(axis=None) will return a scalar mean over the entire DataFrame. To retain the old behavior, use 'frame.mean(axis=0)' or just 'frame.mean()'\n",
      "  return mean(axis=axis, dtype=dtype, out=out, **kwargs)\n",
      "100%|██████████| 100/100 [00:00<00:00, 5022.34it/s]\n"
     ]
    },
    {
     "data": {
      "text/html": [
       "<style type=\"text/css\">\n",
       "#T_fb803_row0_col0 {\n",
       "  width: 10em;\n",
       "  background: linear-gradient(90deg, #5fba7d 44.1%, transparent 44.1%);\n",
       "}\n",
       "#T_fb803_row1_col0 {\n",
       "  width: 10em;\n",
       "  background: linear-gradient(90deg, #5fba7d 32.9%, transparent 32.9%);\n",
       "}\n",
       "#T_fb803_row2_col0 {\n",
       "  width: 10em;\n",
       "  background: linear-gradient(90deg, #5fba7d 7.1%, transparent 7.1%);\n",
       "}\n",
       "</style>\n",
       "<table id=\"T_fb803\">\n",
       "  <thead>\n",
       "    <tr>\n",
       "      <th class=\"blank level0\" >&nbsp;</th>\n",
       "      <th id=\"T_fb803_level0_col0\" class=\"col_heading level0 col0\" >Savings</th>\n",
       "    </tr>\n",
       "  </thead>\n",
       "  <tbody>\n",
       "    <tr>\n",
       "      <th id=\"T_fb803_level0_row0\" class=\"row_heading level0 row0\" >Profit per Package</th>\n",
       "      <td id=\"T_fb803_row0_col0\" class=\"data row0 col0\" >37.027284</td>\n",
       "    </tr>\n",
       "    <tr>\n",
       "      <th id=\"T_fb803_level0_row1\" class=\"row_heading level0 row1\" >Number of Packages</th>\n",
       "      <td id=\"T_fb803_row1_col0\" class=\"data row1 col0\" >27.626619</td>\n",
       "    </tr>\n",
       "    <tr>\n",
       "      <th id=\"T_fb803_level0_row2\" class=\"row_heading level0 row2\" >Maintenance cost per Truck</th>\n",
       "      <td id=\"T_fb803_row2_col0\" class=\"data row2 col0\" >5.936948</td>\n",
       "    </tr>\n",
       "  </tbody>\n",
       "</table>\n"
      ],
      "text/plain": [
       "<pandas.io.formats.style.Styler at 0x7f88b02e2920>"
      ]
     },
     "execution_count": 14,
     "metadata": {},
     "output_type": "execute_result"
    }
   ],
   "source": [
    "distribution_center_analysis.evaluate_value_of_uncertainty_reduction(bins=100)"
   ]
  },
  {
   "cell_type": "markdown",
   "metadata": {},
   "source": [
    "The above shows that even knowing the percentile of a given input is not enough for fully reducing Expected Loss. This reveals one of the limitations of this approach: It only shows improvements related to measuring one variable, while keeping the other ones with their original distribution. This misses interactions between measurements on different inputs.\n",
    "\n",
    "As such we follow a greedy strategy: by the above the greatest improvement comes from measuring the Number of Packages. Afterwards we rerun this class with the new and more accurate distribution, and calculate the next cheapest measurement we can make in order to reduce uncertainty around the final decision."
   ]
  },
  {
   "cell_type": "markdown",
   "metadata": {},
   "source": [
    "# Study case 3: Boeing buybacks decision"
   ]
  },
  {
   "cell_type": "markdown",
   "metadata": {},
   "source": [
    "A few years back, Boeing had a surplus of cash. As such, it had the option of buying back it's shares. With a lerger amount of shares it would own more of it's own profits, in the form of dividends. With more cash, the company is more robust to financial hits due to it's extra liquidity. The question at hand is how much of it's shares should the company buyback. The companies monetary reward is given by:\n",
    "\n",
    "$$ (M-SC) + S(1+r)^5 - KP  $$\n",
    "\n",
    "Where:\n",
    "- $M$ is the initial amount of money\n",
    "- $S$ is the amount of self owned shares / Amount of shares bought\n",
    "- $r$ is the company yearly average return (geometric mean)\n",
    "- $C$ is the current share price\n",
    "- $K$ is the number of kilometres flown by the fleet.\n",
    "- $P$ is the current cost of petrol per kilometrer flown\n",
    "\n",
    "- The profits come from number of tickets bought times average ticket price, plus the companies self owned shares \n",
    "- Costs include flight costs, which is the gasoline cost per mile times the average number of miles flown.\n",
    "\n",
    "\n",
    "\n",
    "As such the formula becomes"
   ]
  },
  {
   "cell_type": "code",
   "execution_count": null,
   "metadata": {},
   "outputs": [],
   "source": [
    "def boeing_reward_function(obs, amount_of_shares_bought):\n",
    "    m = 10  # Initial amount of money: 100 million\n",
    "    boeing_share_price = 500000  # Present cost of Boeing Shares\n",
    "    value_of_shares = (\n",
    "        np.divide(amount_of_shares_bought, boeing_share_price)\n",
    "        * (1 + obs[\"Boeing Shares Return\"]) ** 5\n",
    "    )\n",
    "    flying_costs = obs[\"Kilometres flown\"] * obs[\"Petrol Cost\"]\n",
    "    liquidity = m - (amount_of_shares_bought * boeing_share_price) - flying_costs\n",
    "    if liquidity < 0:\n",
    "        liquidity_value = liquidity * (1 + obs[\"Loan Rate\"]) ** 5\n",
    "    else:\n",
    "        liquidity_value = liquidity\n",
    "    return liquidity_value + value_of_shares"
   ]
  },
  {
   "cell_type": "code",
   "execution_count": null,
   "metadata": {},
   "outputs": [],
   "source": [
    "options = [int(x) for x in np.linspace(1, 5, 6)]\n",
    "boeing_analysis = ExpectedOpportunityLoss(\n",
    "    reward_functions={\n",
    "        f\"Buy {number_of_shares} shares\": partial(\n",
    "            boeing_reward_function, amount_of_shares_bought=number_of_shares\n",
    "        )\n",
    "        for number_of_shares in options\n",
    "    },\n",
    "    random_inputs={\n",
    "        \"Boeing Shares Return\": lambda n: [\n",
    "            np.exp(x) - 1 for x in np.random.normal(size=n, loc=3, scale=0.0001)\n",
    "        ],  # log normally distributed returns, with average 0 and std_dev 1\n",
    "        \"Kilometres flown\": lambda n: np.random.binomial(\n",
    "            size=n, n=100000000, p=0.0001\n",
    "        ),  # The kilometres flown is binomial since it is roughly proportional to the number of kilometres people fly in total\n",
    "        \"Petrol Cost\": lambda n: np.random.uniform(\n",
    "            size=n, low=30, high=40\n",
    "        ),  # The petrol cost is around 30 to 40 a barrel\n",
    "        \"Loan Rate\": lambda n: np.random.uniform(\n",
    "            size=n, low=0.1, high=0.3\n",
    "        ),  # Emergency Loan Rate if the liquidity goes below zero\n",
    "    },\n",
    ")"
   ]
  },
  {
   "cell_type": "code",
   "execution_count": null,
   "metadata": {},
   "outputs": [
    {
     "name": "stderr",
     "output_type": "stream",
     "text": [
      "100%|██████████| 5/5 [00:00<00:00, 10.00it/s]\n"
     ]
    },
    {
     "data": {
      "text/html": [
       "<style type=\"text/css\">\n",
       "#T_39180_row0_col0 {\n",
       "  width: 10em;\n",
       "}\n",
       "#T_39180_row1_col0 {\n",
       "  width: 10em;\n",
       "  background: linear-gradient(90deg, #d65f5f 25.0%, transparent 25.0%);\n",
       "}\n",
       "#T_39180_row2_col0 {\n",
       "  width: 10em;\n",
       "  background: linear-gradient(90deg, #d65f5f 50.0%, transparent 50.0%);\n",
       "}\n",
       "#T_39180_row3_col0 {\n",
       "  width: 10em;\n",
       "  background: linear-gradient(90deg, #d65f5f 75.0%, transparent 75.0%);\n",
       "}\n",
       "#T_39180_row4_col0 {\n",
       "  width: 10em;\n",
       "  background: linear-gradient(90deg, #d65f5f 100.0%, transparent 100.0%);\n",
       "}\n",
       "</style>\n",
       "<table id=\"T_39180\">\n",
       "  <thead>\n",
       "    <tr>\n",
       "      <th class=\"blank level0\" >&nbsp;</th>\n",
       "      <th id=\"T_39180_level0_col0\" class=\"col_heading level0 col0\" >Expected Loss</th>\n",
       "      <th id=\"T_39180_level0_col1\" class=\"col_heading level0 col1\" >Standard Deviation</th>\n",
       "    </tr>\n",
       "  </thead>\n",
       "  <tbody>\n",
       "    <tr>\n",
       "      <th id=\"T_39180_level0_row0\" class=\"row_heading level0 row0\" >Buy 1 shares</th>\n",
       "      <td id=\"T_39180_row0_col0\" class=\"data row0 col0\" >0.000000</td>\n",
       "      <td id=\"T_39180_row0_col1\" class=\"data row0 col1\" >0.000000</td>\n",
       "    </tr>\n",
       "    <tr>\n",
       "      <th id=\"T_39180_level0_row1\" class=\"row_heading level0 row1\" >Buy 2 shares</th>\n",
       "      <td id=\"T_39180_row1_col0\" class=\"data row1 col0\" >1274755.242000</td>\n",
       "      <td id=\"T_39180_row1_col1\" class=\"data row1 col1\" >302286.475000</td>\n",
       "    </tr>\n",
       "    <tr>\n",
       "      <th id=\"T_39180_level0_row2\" class=\"row_heading level0 row2\" >Buy 3 shares</th>\n",
       "      <td id=\"T_39180_row2_col0\" class=\"data row2 col0\" >2549510.484000</td>\n",
       "      <td id=\"T_39180_row2_col1\" class=\"data row2 col1\" >604572.951000</td>\n",
       "    </tr>\n",
       "    <tr>\n",
       "      <th id=\"T_39180_level0_row3\" class=\"row_heading level0 row3\" >Buy 4 shares</th>\n",
       "      <td id=\"T_39180_row3_col0\" class=\"data row3 col0\" >3824265.726000</td>\n",
       "      <td id=\"T_39180_row3_col1\" class=\"data row3 col1\" >906859.426000</td>\n",
       "    </tr>\n",
       "    <tr>\n",
       "      <th id=\"T_39180_level0_row4\" class=\"row_heading level0 row4\" >Buy 5 shares</th>\n",
       "      <td id=\"T_39180_row4_col0\" class=\"data row4 col0\" >5099020.968000</td>\n",
       "      <td id=\"T_39180_row4_col1\" class=\"data row4 col1\" >1209145.902000</td>\n",
       "    </tr>\n",
       "  </tbody>\n",
       "</table>\n"
      ],
      "text/plain": [
       "<pandas.io.formats.style.Styler at 0x7f88b034f640>"
      ]
     },
     "execution_count": 17,
     "metadata": {},
     "output_type": "execute_result"
    }
   ],
   "source": [
    "boeing_analysis.add_data_points(10000)\n",
    "boeing_analysis.generate_metrics()"
   ]
  },
  {
   "cell_type": "code",
   "execution_count": null,
   "metadata": {},
   "outputs": [
    {
     "data": {
      "text/html": [
       "<div>\n",
       "<style scoped>\n",
       "    .dataframe tbody tr th:only-of-type {\n",
       "        vertical-align: middle;\n",
       "    }\n",
       "\n",
       "    .dataframe tbody tr th {\n",
       "        vertical-align: top;\n",
       "    }\n",
       "\n",
       "    .dataframe thead th {\n",
       "        text-align: right;\n",
       "    }\n",
       "</style>\n",
       "<table border=\"1\" class=\"dataframe\">\n",
       "  <thead>\n",
       "    <tr style=\"text-align: right;\">\n",
       "      <th></th>\n",
       "      <th>Boeing Shares Return</th>\n",
       "      <th>Kilometres flown</th>\n",
       "      <th>Petrol Cost</th>\n",
       "      <th>Loan Rate</th>\n",
       "      <th>Buy 1 shares</th>\n",
       "      <th>Buy 2 shares</th>\n",
       "      <th>Buy 3 shares</th>\n",
       "      <th>Buy 4 shares</th>\n",
       "      <th>Buy 5 shares</th>\n",
       "      <th>Buy 1 shares opportunity loss</th>\n",
       "      <th>Buy 2 shares opportunity loss</th>\n",
       "      <th>Buy 3 shares opportunity loss</th>\n",
       "      <th>Buy 4 shares opportunity loss</th>\n",
       "      <th>Buy 5 shares opportunity loss</th>\n",
       "      <th>Optimal Decision</th>\n",
       "    </tr>\n",
       "  </thead>\n",
       "  <tbody>\n",
       "    <tr>\n",
       "      <th>0</th>\n",
       "      <td>19.08</td>\n",
       "      <td>10066.0</td>\n",
       "      <td>32.57</td>\n",
       "      <td>0.20</td>\n",
       "      <td>-2.06e+06</td>\n",
       "      <td>-3.30e+06</td>\n",
       "      <td>-4.54e+06</td>\n",
       "      <td>-5.78e+06</td>\n",
       "      <td>-7.03e+06</td>\n",
       "      <td>0.0</td>\n",
       "      <td>1.24e+06</td>\n",
       "      <td>2.48e+06</td>\n",
       "      <td>3.73e+06</td>\n",
       "      <td>4.97e+06</td>\n",
       "      <td>-2.06e+06</td>\n",
       "    </tr>\n",
       "    <tr>\n",
       "      <th>1</th>\n",
       "      <td>19.09</td>\n",
       "      <td>10107.0</td>\n",
       "      <td>35.05</td>\n",
       "      <td>0.28</td>\n",
       "      <td>-2.99e+06</td>\n",
       "      <td>-4.73e+06</td>\n",
       "      <td>-6.48e+06</td>\n",
       "      <td>-8.23e+06</td>\n",
       "      <td>-9.98e+06</td>\n",
       "      <td>0.0</td>\n",
       "      <td>1.75e+06</td>\n",
       "      <td>3.50e+06</td>\n",
       "      <td>5.24e+06</td>\n",
       "      <td>6.99e+06</td>\n",
       "      <td>-2.99e+06</td>\n",
       "    </tr>\n",
       "    <tr>\n",
       "      <th>2</th>\n",
       "      <td>19.09</td>\n",
       "      <td>10053.0</td>\n",
       "      <td>39.54</td>\n",
       "      <td>0.15</td>\n",
       "      <td>-1.78e+06</td>\n",
       "      <td>-2.76e+06</td>\n",
       "      <td>-3.75e+06</td>\n",
       "      <td>-4.74e+06</td>\n",
       "      <td>-5.73e+06</td>\n",
       "      <td>0.0</td>\n",
       "      <td>9.89e+05</td>\n",
       "      <td>1.98e+06</td>\n",
       "      <td>2.97e+06</td>\n",
       "      <td>3.96e+06</td>\n",
       "      <td>-1.78e+06</td>\n",
       "    </tr>\n",
       "    <tr>\n",
       "      <th>3</th>\n",
       "      <td>19.09</td>\n",
       "      <td>9917.0</td>\n",
       "      <td>38.77</td>\n",
       "      <td>0.14</td>\n",
       "      <td>-1.72e+06</td>\n",
       "      <td>-2.69e+06</td>\n",
       "      <td>-3.65e+06</td>\n",
       "      <td>-4.62e+06</td>\n",
       "      <td>-5.59e+06</td>\n",
       "      <td>0.0</td>\n",
       "      <td>9.70e+05</td>\n",
       "      <td>1.94e+06</td>\n",
       "      <td>2.91e+06</td>\n",
       "      <td>3.88e+06</td>\n",
       "      <td>-1.72e+06</td>\n",
       "    </tr>\n",
       "    <tr>\n",
       "      <th>4</th>\n",
       "      <td>19.08</td>\n",
       "      <td>10049.0</td>\n",
       "      <td>36.54</td>\n",
       "      <td>0.24</td>\n",
       "      <td>-2.57e+06</td>\n",
       "      <td>-4.05e+06</td>\n",
       "      <td>-5.53e+06</td>\n",
       "      <td>-7.02e+06</td>\n",
       "      <td>-8.50e+06</td>\n",
       "      <td>0.0</td>\n",
       "      <td>1.48e+06</td>\n",
       "      <td>2.96e+06</td>\n",
       "      <td>4.45e+06</td>\n",
       "      <td>5.93e+06</td>\n",
       "      <td>-2.57e+06</td>\n",
       "    </tr>\n",
       "  </tbody>\n",
       "</table>\n",
       "</div>"
      ],
      "text/plain": [
       "   Boeing Shares Return  Kilometres flown  Petrol Cost  Loan Rate  \\\n",
       "0                 19.08           10066.0        32.57       0.20   \n",
       "1                 19.09           10107.0        35.05       0.28   \n",
       "2                 19.09           10053.0        39.54       0.15   \n",
       "3                 19.09            9917.0        38.77       0.14   \n",
       "4                 19.08           10049.0        36.54       0.24   \n",
       "\n",
       "   Buy 1 shares  Buy 2 shares  Buy 3 shares  Buy 4 shares  Buy 5 shares  \\\n",
       "0     -2.06e+06     -3.30e+06     -4.54e+06     -5.78e+06     -7.03e+06   \n",
       "1     -2.99e+06     -4.73e+06     -6.48e+06     -8.23e+06     -9.98e+06   \n",
       "2     -1.78e+06     -2.76e+06     -3.75e+06     -4.74e+06     -5.73e+06   \n",
       "3     -1.72e+06     -2.69e+06     -3.65e+06     -4.62e+06     -5.59e+06   \n",
       "4     -2.57e+06     -4.05e+06     -5.53e+06     -7.02e+06     -8.50e+06   \n",
       "\n",
       "   Buy 1 shares opportunity loss  Buy 2 shares opportunity loss  \\\n",
       "0                            0.0                       1.24e+06   \n",
       "1                            0.0                       1.75e+06   \n",
       "2                            0.0                       9.89e+05   \n",
       "3                            0.0                       9.70e+05   \n",
       "4                            0.0                       1.48e+06   \n",
       "\n",
       "   Buy 3 shares opportunity loss  Buy 4 shares opportunity loss  \\\n",
       "0                       2.48e+06                       3.73e+06   \n",
       "1                       3.50e+06                       5.24e+06   \n",
       "2                       1.98e+06                       2.97e+06   \n",
       "3                       1.94e+06                       2.91e+06   \n",
       "4                       2.96e+06                       4.45e+06   \n",
       "\n",
       "   Buy 5 shares opportunity loss  Optimal Decision  \n",
       "0                       4.97e+06         -2.06e+06  \n",
       "1                       6.99e+06         -2.99e+06  \n",
       "2                       3.96e+06         -1.78e+06  \n",
       "3                       3.88e+06         -1.72e+06  \n",
       "4                       5.93e+06         -2.57e+06  "
      ]
     },
     "execution_count": 18,
     "metadata": {},
     "output_type": "execute_result"
    }
   ],
   "source": [
    "boeing_analysis.data.head()"
   ]
  },
  {
   "cell_type": "code",
   "execution_count": null,
   "metadata": {},
   "outputs": [
    {
     "data": {
      "image/png": "[encoded data removed]",
      "text/plain": [
       "<Figure size 3000x1000 with 5 Axes>"
      ]
     },
     "metadata": {},
     "output_type": "display_data"
    }
   ],
   "source": [
    "boeing_analysis.plot_loss_distribution()"
   ]
  },
  {
   "cell_type": "code",
   "execution_count": null,
   "metadata": {},
   "outputs": [
    {
     "name": "stderr",
     "output_type": "stream",
     "text": [
      "  0%|          | 0/100 [00:00<?, ?it/s]/opt/conda/lib/python3.10/site-packages/numpy/core/fromnumeric.py:3472: FutureWarning: In a future version, DataFrame.mean(axis=None) will return a scalar mean over the entire DataFrame. To retain the old behavior, use 'frame.mean(axis=0)' or just 'frame.mean()'\n",
      "  return mean(axis=axis, dtype=dtype, out=out, **kwargs)\n",
      "100%|██████████| 100/100 [00:00<00:00, 5176.43it/s]\n",
      "  0%|          | 0/100 [00:00<?, ?it/s]/opt/conda/lib/python3.10/site-packages/numpy/core/fromnumeric.py:3472: FutureWarning: In a future version, DataFrame.mean(axis=None) will return a scalar mean over the entire DataFrame. To retain the old behavior, use 'frame.mean(axis=0)' or just 'frame.mean()'\n",
      "  return mean(axis=axis, dtype=dtype, out=out, **kwargs)\n",
      "100%|██████████| 100/100 [00:00<00:00, 4647.33it/s]\n",
      "  0%|          | 0/100 [00:00<?, ?it/s]/opt/conda/lib/python3.10/site-packages/numpy/core/fromnumeric.py:3472: FutureWarning: In a future version, DataFrame.mean(axis=None) will return a scalar mean over the entire DataFrame. To retain the old behavior, use 'frame.mean(axis=0)' or just 'frame.mean()'\n",
      "  return mean(axis=axis, dtype=dtype, out=out, **kwargs)\n",
      "100%|██████████| 100/100 [00:00<00:00, 4508.79it/s]\n",
      "  0%|          | 0/100 [00:00<?, ?it/s]/opt/conda/lib/python3.10/site-packages/numpy/core/fromnumeric.py:3472: FutureWarning: In a future version, DataFrame.mean(axis=None) will return a scalar mean over the entire DataFrame. To retain the old behavior, use 'frame.mean(axis=0)' or just 'frame.mean()'\n",
      "  return mean(axis=axis, dtype=dtype, out=out, **kwargs)\n",
      "100%|██████████| 100/100 [00:00<00:00, 4593.18it/s]\n",
      "/opt/conda/lib/python3.10/site-packages/pandas/io/formats/style.py:4152: RuntimeWarning: invalid value encountered in double_scalars\n",
      "  end = (x - left) / (right - left)\n"
     ]
    },
    {
     "data": {
      "text/html": [
       "<style type=\"text/css\">\n",
       "#T_e0ba1_row0_col0, #T_e0ba1_row1_col0, #T_e0ba1_row2_col0, #T_e0ba1_row3_col0 {\n",
       "  width: 10em;\n",
       "}\n",
       "</style>\n",
       "<table id=\"T_e0ba1\">\n",
       "  <thead>\n",
       "    <tr>\n",
       "      <th class=\"blank level0\" >&nbsp;</th>\n",
       "      <th id=\"T_e0ba1_level0_col0\" class=\"col_heading level0 col0\" >Savings</th>\n",
       "    </tr>\n",
       "  </thead>\n",
       "  <tbody>\n",
       "    <tr>\n",
       "      <th id=\"T_e0ba1_level0_row0\" class=\"row_heading level0 row0\" >Boeing Shares Return</th>\n",
       "      <td id=\"T_e0ba1_row0_col0\" class=\"data row0 col0\" >0.000000</td>\n",
       "    </tr>\n",
       "    <tr>\n",
       "      <th id=\"T_e0ba1_level0_row1\" class=\"row_heading level0 row1\" >Kilometres flown</th>\n",
       "      <td id=\"T_e0ba1_row1_col0\" class=\"data row1 col0\" >0.000000</td>\n",
       "    </tr>\n",
       "    <tr>\n",
       "      <th id=\"T_e0ba1_level0_row2\" class=\"row_heading level0 row2\" >Loan Rate</th>\n",
       "      <td id=\"T_e0ba1_row2_col0\" class=\"data row2 col0\" >0.000000</td>\n",
       "    </tr>\n",
       "    <tr>\n",
       "      <th id=\"T_e0ba1_level0_row3\" class=\"row_heading level0 row3\" >Petrol Cost</th>\n",
       "      <td id=\"T_e0ba1_row3_col0\" class=\"data row3 col0\" >0.000000</td>\n",
       "    </tr>\n",
       "  </tbody>\n",
       "</table>\n"
      ],
      "text/plain": [
       "<pandas.io.formats.style.Styler at 0x7f88b0270640>"
      ]
     },
     "execution_count": 20,
     "metadata": {},
     "output_type": "execute_result"
    }
   ],
   "source": [
    "boeing_analysis.evaluate_value_of_uncertainty_reduction(bins=100)"
   ]
  },
  {
   "cell_type": "markdown",
   "metadata": {},
   "source": [
    "# Do you have another study case? Reach out for us to discuss it"
   ]
  }
 ],
 "metadata": {
  "kernelspec": {
   "display_name": "Python 3 (ipykernel)",
   "language": "python",
   "name": "python3"
  },
  "language_info": {
   "codemirror_mode": {
    "name": "ipython",
    "version": 3
   },
   "file_extension": ".py",
   "mimetype": "text/x-python",
   "name": "python",
   "nbconvert_exporter": "python",
   "pygments_lexer": "ipython3",
   "version": "3.12.3"
  }
 },
 "nbformat": 4,
 "nbformat_minor": 4
}