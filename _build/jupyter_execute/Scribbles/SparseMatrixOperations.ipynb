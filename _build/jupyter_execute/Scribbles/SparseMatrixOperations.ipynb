{
 "cells": [
  {
   "cell_type": "markdown",
   "id": "302fcf03250de791",
   "metadata": {
    "collapsed": false
   },
   "source": [
    "    # Sparse Matrix Operations"
   ]
  },
  {
   "cell_type": "code",
   "execution_count": 1,
   "id": "initial_id",
   "metadata": {
    "ExecuteTime": {
     "end_time": "2024-03-30T09:29:36.826176Z",
     "start_time": "2024-03-30T09:29:36.539455Z"
    },
    "collapsed": true
   },
   "outputs": [],
   "source": [
    "import sys\n",
    "import scipy.sparse as sp"
   ]
  },
  {
   "cell_type": "markdown",
   "id": "1c86c55054e46c66",
   "metadata": {
    "collapsed": false
   },
   "source": [
    "# Example matrix"
   ]
  },
  {
   "cell_type": "code",
   "execution_count": 2,
   "id": "a1b751c8eff7e53d",
   "metadata": {
    "ExecuteTime": {
     "end_time": "2024-03-28T13:58:08.412060Z",
     "start_time": "2024-03-28T13:58:08.404884Z"
    },
    "collapsed": false
   },
   "outputs": [],
   "source": [
    "# https://docs.scipy.org/doc/scipy/reference/sparse.html#sparse-array-classes\n",
    "diag_matrix = sp.diags([1, 2, 3])\n",
    "dict_matrix = sp.dok_matrix((3, 3))\n",
    "dict_matrix[1, 2] = 3\n",
    "dict_matrix[0, 0] = -2\n",
    "i = [1, 2, 0]\n",
    "j = [1, 1, 2]\n",
    "v = [3, 9, 2]\n",
    "\n",
    "coo_matrix = sp.coo_matrix((v, (i, j)))"
   ]
  },
  {
   "cell_type": "markdown",
   "id": "86645b41375a9006",
   "metadata": {
    "collapsed": false
   },
   "source": [
    "# Viewing the matrix"
   ]
  },
  {
   "cell_type": "code",
   "execution_count": 3,
   "id": "b7053c01a3ef88a9",
   "metadata": {
    "ExecuteTime": {
     "end_time": "2024-03-28T13:58:23.499380Z",
     "start_time": "2024-03-28T13:58:23.492166Z"
    },
    "collapsed": false
   },
   "outputs": [
    {
     "data": {
      "text/plain": [
       "array([[0, 0, 2],\n",
       "       [0, 3, 0],\n",
       "       [0, 9, 0]])"
      ]
     },
     "execution_count": 3,
     "metadata": {},
     "output_type": "execute_result"
    }
   ],
   "source": [
    "coo_matrix.toarray()"
   ]
  },
  {
   "cell_type": "code",
   "execution_count": 4,
   "id": "65f934a5b6fe6902",
   "metadata": {
    "ExecuteTime": {
     "end_time": "2024-03-28T13:56:33.348992Z",
     "start_time": "2024-03-28T13:56:33.346121Z"
    },
    "collapsed": false
   },
   "outputs": [
    {
     "data": {
      "text/plain": [
       "array([[-2.,  0.,  0.],\n",
       "       [ 0.,  0.,  3.],\n",
       "       [ 0.,  0.,  0.]])"
      ]
     },
     "execution_count": 4,
     "metadata": {},
     "output_type": "execute_result"
    }
   ],
   "source": [
    "dict_matrix.toarray()"
   ]
  },
  {
   "cell_type": "markdown",
   "id": "68af4704f3d360cf",
   "metadata": {
    "collapsed": false
   },
   "source": [
    "# Sparse kronecker product"
   ]
  },
  {
   "cell_type": "code",
   "execution_count": 5,
   "id": "b03d3b8f62ce6f9b",
   "metadata": {
    "ExecuteTime": {
     "end_time": "2024-03-28T13:59:01.449440Z",
     "start_time": "2024-03-28T13:59:01.440974Z"
    },
    "collapsed": false
   },
   "outputs": [
    {
     "data": {
      "text/plain": [
       "array([[  0.,   0.,   0.,   0.,   0.,   0.,  -4.,   0.,   0.],\n",
       "       [  0.,   0.,   0.,   0.,   0.,   0.,   0.,   0.,   6.],\n",
       "       [  0.,   0.,   0.,   0.,   0.,   0.,   0.,   0.,   0.],\n",
       "       [  0.,   0.,   0.,  -6.,   0.,   0.,   0.,   0.,   0.],\n",
       "       [  0.,   0.,   0.,   0.,   0.,   9.,   0.,   0.,   0.],\n",
       "       [  0.,   0.,   0.,   0.,   0.,   0.,   0.,   0.,   0.],\n",
       "       [  0.,   0.,   0., -18.,   0.,   0.,   0.,   0.,   0.],\n",
       "       [  0.,   0.,   0.,   0.,   0.,  27.,   0.,   0.,   0.],\n",
       "       [  0.,   0.,   0.,   0.,   0.,   0.,   0.,   0.,   0.]])"
      ]
     },
     "execution_count": 5,
     "metadata": {},
     "output_type": "execute_result"
    }
   ],
   "source": [
    "# https://docs.scipy.org/doc/scipy/reference/generated/scipy.sparse.kron.html\n",
    "sp.kron(coo_matrix, dict_matrix).toarray()"
   ]
  },
  {
   "cell_type": "markdown",
   "id": "9d667e2f248a0737",
   "metadata": {
    "collapsed": false
   },
   "source": [
    "# Size comparison"
   ]
  },
  {
   "cell_type": "code",
   "execution_count": 6,
   "id": "7050d7d4487bb852",
   "metadata": {
    "ExecuteTime": {
     "end_time": "2024-03-28T13:59:52.781622Z",
     "start_time": "2024-03-28T13:59:52.775619Z"
    },
    "collapsed": false
   },
   "outputs": [],
   "source": [
    "z = sp.kron(coo_matrix, dict_matrix)"
   ]
  },
  {
   "cell_type": "code",
   "execution_count": 7,
   "id": "5a80803e3046a5ad",
   "metadata": {
    "ExecuteTime": {
     "end_time": "2024-03-28T13:59:53.225312Z",
     "start_time": "2024-03-28T13:59:53.218585Z"
    },
    "collapsed": false
   },
   "outputs": [
    {
     "data": {
      "text/plain": [
       "48"
      ]
     },
     "execution_count": 7,
     "metadata": {},
     "output_type": "execute_result"
    }
   ],
   "source": [
    "sys.getsizeof(z)"
   ]
  },
  {
   "cell_type": "code",
   "execution_count": 8,
   "id": "37a0d336c89c86b8",
   "metadata": {
    "ExecuteTime": {
     "end_time": "2024-03-28T14:00:00.254908Z",
     "start_time": "2024-03-28T14:00:00.247710Z"
    },
    "collapsed": false
   },
   "outputs": [
    {
     "data": {
      "text/plain": [
       "128"
      ]
     },
     "execution_count": 8,
     "metadata": {},
     "output_type": "execute_result"
    }
   ],
   "source": [
    "sys.getsizeof(z.toarray())"
   ]
  },
  {
   "cell_type": "markdown",
   "id": "dfa24593395fda9b",
   "metadata": {
    "collapsed": false
   },
   "source": [
    "# Playtest"
   ]
  },
  {
   "cell_type": "code",
   "execution_count": 9,
   "id": "db3c090733702926",
   "metadata": {
    "ExecuteTime": {
     "end_time": "2024-03-30T09:29:39.949908Z",
     "start_time": "2024-03-30T09:29:39.941955Z"
    },
    "collapsed": false
   },
   "outputs": [],
   "source": [
    "i = [0, 1, 0, 1]\n",
    "j = [0, 0, 1, 1]\n",
    "v = [0, 1, 1, 0]\n",
    "\n",
    "sx = sp.coo_matrix(([0, 1, 1, 0], (i, j)))\n",
    "sz = sp.coo_matrix(([1, 0, 0, -1], (i, j)))"
   ]
  },
  {
   "cell_type": "code",
   "execution_count": 10,
   "id": "5f485cdbb19a2f5",
   "metadata": {
    "collapsed": false,
    "is_executing": true
   },
   "outputs": [],
   "source": [
    "import itertools\n",
    "import functools"
   ]
  },
  {
   "cell_type": "code",
   "execution_count": 11,
   "id": "e487004ee562d32f",
   "metadata": {
    "collapsed": false
   },
   "outputs": [
    {
     "ename": "NameError",
     "evalue": "name 'm' is not defined",
     "output_type": "error",
     "traceback": [
      "\u001b[0;31m---------------------------------------------------------------------------\u001b[0m",
      "\u001b[0;31mNameError\u001b[0m                                 Traceback (most recent call last)",
      "Cell \u001b[0;32mIn[11], line 3\u001b[0m\n\u001b[1;32m      1\u001b[0m n \u001b[38;5;241m=\u001b[39m \u001b[38;5;241m10\u001b[39m\n\u001b[1;32m      2\u001b[0m \u001b[38;5;28;01mfor\u001b[39;00m i, j, k \u001b[38;5;129;01min\u001b[39;00m itertools\u001b[38;5;241m.\u001b[39mproduct(\u001b[38;5;28mrange\u001b[39m(n), \u001b[38;5;28mrange\u001b[39m(\u001b[38;5;241m2\u001b[39m\u001b[38;5;241m*\u001b[39m\u001b[38;5;241m*\u001b[39mn), \u001b[38;5;28mrange\u001b[39m(\u001b[38;5;241m2\u001b[39m\u001b[38;5;241m*\u001b[39m\u001b[38;5;241m*\u001b[39mn)):\n\u001b[0;32m----> 3\u001b[0m     \u001b[43mm\u001b[49m[i] \u001b[38;5;241m=\u001b[39m functools\u001b[38;5;241m.\u001b[39mreduce(\n\u001b[1;32m      4\u001b[0m         sp\u001b[38;5;241m.\u001b[39mkron, [sp\u001b[38;5;241m.\u001b[39mdiags([\u001b[38;5;241m1\u001b[39m, \u001b[38;5;241m1\u001b[39m]), sp\u001b[38;5;241m.\u001b[39mdiags([\u001b[38;5;241m1\u001b[39m, \u001b[38;5;241m1\u001b[39m]), sp\u001b[38;5;241m.\u001b[39mdiags([\u001b[38;5;241m1\u001b[39m, \u001b[38;5;241m1\u001b[39m])]\n\u001b[1;32m      5\u001b[0m     )\n",
      "\u001b[0;31mNameError\u001b[0m: name 'm' is not defined"
     ]
    }
   ],
   "source": [
    "n = 10\n",
    "for i, j, k in itertools.product(range(n), range(2**n), range(2**n)):\n",
    "    m[i] = functools.reduce(\n",
    "        sp.kron, [sp.diags([1, 1]), sp.diags([1, 1]), sp.diags([1, 1])]\n",
    "    )"
   ]
  },
  {
   "cell_type": "code",
   "execution_count": null,
   "id": "de2ae239ee84b3cd",
   "metadata": {
    "collapsed": false
   },
   "outputs": [],
   "source": []
  }
 ],
 "metadata": {
  "kernelspec": {
   "display_name": "Python 3",
   "language": "python",
   "name": "python3"
  },
  "language_info": {
   "codemirror_mode": {
    "name": "ipython",
    "version": 3
   },
   "file_extension": ".py",
   "mimetype": "text/x-python",
   "name": "python",
   "nbconvert_exporter": "python",
   "pygments_lexer": "ipython3",
   "version": "3.12.3"
  }
 },
 "nbformat": 4,
 "nbformat_minor": 5
}