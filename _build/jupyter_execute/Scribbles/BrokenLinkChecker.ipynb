{
 "cells": [
  {
   "cell_type": "markdown",
   "id": "ca1f01ab-e361-40e0-9b07-edc915a8c7be",
   "metadata": {},
   "source": [
    "# Setup"
   ]
  },
  {
   "cell_type": "code",
   "execution_count": 1,
   "id": "ce2408d1-ac2c-46fd-b96e-e2eae5f50e03",
   "metadata": {},
   "outputs": [],
   "source": [
    "from urllib.parse import urljoin, urlparse\n",
    "from IPython.display import HTML\n",
    "import pandas as pd\n",
    "import requests\n",
    "from bs4 import BeautifulSoup\n",
    "from tqdm.auto import tqdm"
   ]
  },
  {
   "cell_type": "markdown",
   "id": "d0bf8087-a8c9-4253-9e20-23e667ab741a",
   "metadata": {},
   "source": [
    "# Helper functions"
   ]
  },
  {
   "cell_type": "code",
   "execution_count": 2,
   "id": "540f8504-155b-4a9f-94c7-016751c285d0",
   "metadata": {},
   "outputs": [],
   "source": [
    "def get_links_to_internal_urls(path, netloc):\n",
    "    url = urljoin(f\"https://{netloc}\", path)\n",
    "    response = requests.get(url)\n",
    "    if response.status_code != 200:\n",
    "        message = f\"HTTP {response.status_code}: {url} \"\n",
    "        print(message)\n",
    "        raise ValueError(message)\n",
    "    soup = BeautifulSoup(response.content, \"html.parser\")\n",
    "    links = [\n",
    "        urlparse(l.get(\"href\"))\n",
    "        for l in soup.find_all(\"a\")\n",
    "        if l is not None and l.get(\"href\") is not None\n",
    "    ]\n",
    "    return [l.path for l in links if l.netloc == \"\" or l.netloc == netloc]\n",
    "\n",
    "\n",
    "def show_urls(url_list):\n",
    "    return HTML(url_list.sort_index().to_html(render_links=True, escape=False))"
   ]
  },
  {
   "cell_type": "markdown",
   "id": "bc999456-0d5d-4741-a1c1-8c5ab176da82",
   "metadata": {},
   "source": [
    "# Goal\n",
    "\n",
    "We want to quickly get all broken URLs from a website. The steps will be\n",
    "1. Submit the base URL\n",
    "2. Recursively follow the links to get an exhaustive list of all pages\n",
    "3. If a webpage returns a non 200 result, add it to the list of broken URLs"
   ]
  },
  {
   "cell_type": "code",
   "execution_count": 3,
   "id": "e1200141-ca70-4460-8afc-b4d8a441fffe",
   "metadata": {},
   "outputs": [
    {
     "data": {
      "text/html": [
       "<div>\n",
       "<style scoped>\n",
       "    .dataframe tbody tr th:only-of-type {\n",
       "        vertical-align: middle;\n",
       "    }\n",
       "\n",
       "    .dataframe tbody tr th {\n",
       "        vertical-align: top;\n",
       "    }\n",
       "\n",
       "    .dataframe thead th {\n",
       "        text-align: right;\n",
       "    }\n",
       "</style>\n",
       "<table border=\"1\" class=\"dataframe\">\n",
       "  <thead>\n",
       "    <tr style=\"text-align: right;\">\n",
       "      <th></th>\n",
       "      <th>crawled</th>\n",
       "      <th>broken</th>\n",
       "    </tr>\n",
       "  </thead>\n",
       "  <tbody>\n",
       "    <tr>\n",
       "      <th>/</th>\n",
       "      <td>False</td>\n",
       "      <td>False</td>\n",
       "    </tr>\n",
       "  </tbody>\n",
       "</table>\n",
       "</div>"
      ],
      "text/plain": [
       "   crawled  broken\n",
       "/    False   False"
      ]
     },
     "execution_count": 3,
     "metadata": {},
     "output_type": "execute_result"
    }
   ],
   "source": [
    "starting_url = urlparse(\"https://collapsedwave.com/\")\n",
    "\n",
    "netloc = starting_url.netloc\n",
    "results = pd.DataFrame(\n",
    "    data=[[False, False]], columns=[\"crawled\", \"broken\"], index=[starting_url.path]\n",
    ")\n",
    "results"
   ]
  },
  {
   "cell_type": "code",
   "execution_count": 4,
   "id": "b724927c-bfc1-413b-a648-1c33103041bb",
   "metadata": {},
   "outputs": [
    {
     "data": {
      "application/vnd.jupyter.widget-view+json": {
       "model_id": "b31dd2afd55747e0ab37637b8bea7972",
       "version_major": 2,
       "version_minor": 0
      },
      "text/plain": [
       "0it [00:00, ?it/s]"
      ]
     },
     "metadata": {},
     "output_type": "display_data"
    }
   ],
   "source": [
    "with tqdm() as pbar:\n",
    "    while not results[results[\"crawled\"] == False].empty:\n",
    "        current_url = results[results[\"crawled\"] == False].index[0]\n",
    "        try:\n",
    "            new_links = get_links_to_internal_urls(path=current_url, netloc=netloc)\n",
    "            new_urls = set(new_links).difference(set(results.index))\n",
    "            # print(urljoin(f\"https://{netloc}\", current_url))\n",
    "            # print(new_urls)\n",
    "            for new_url in new_urls:\n",
    "                results.loc[new_url] = [False, False]\n",
    "            results.loc[current_url] = [True, False]\n",
    "        except:\n",
    "            results.loc[current_url] = [True, True]\n",
    "        pbar.update(1)\n",
    "        seen = results[results[\"crawled\"] == True].shape[0]\n",
    "        failed = results[results[\"broken\"] == True].shape[0]\n",
    "        remaining = results[results[\"crawled\"] == False].shape[0]\n",
    "        pbar.total = seen + failed + remaining\n",
    "        pbar.set_description(f\"{seen} seen | {failed} failed | {remaining} remaining\")\n",
    "\n",
    "# Adds the complete url after building the fully explored graph\n",
    "results[\"url\"] = [urljoin(f\"https://{netloc}\", l) for l in list(results.index)]"
   ]
  },
  {
   "cell_type": "code",
   "execution_count": 5,
   "id": "3c550576-af6b-484e-9dd0-17133a219c95",
   "metadata": {},
   "outputs": [
    {
     "data": {
      "text/html": [
       "<table border=\"1\" class=\"dataframe\">\n",
       "  <thead>\n",
       "    <tr style=\"text-align: right;\">\n",
       "      <th></th>\n",
       "      <th>crawled</th>\n",
       "      <th>broken</th>\n",
       "      <th>url</th>\n",
       "    </tr>\n",
       "  </thead>\n",
       "  <tbody>\n",
       "    <tr>\n",
       "      <th>/</th>\n",
       "      <td>True</td>\n",
       "      <td>True</td>\n",
       "      <td><a href=\"https://portale.units.it/\" target=\"_blank\">https://portale.units.it/</a></td>\n",
       "    </tr>\n",
       "  </tbody>\n",
       "</table>"
      ],
      "text/plain": [
       "<IPython.core.display.HTML object>"
      ]
     },
     "execution_count": 5,
     "metadata": {},
     "output_type": "execute_result"
    }
   ],
   "source": [
    "# Broken\n",
    "show_urls(results[results[\"broken\"] == True])"
   ]
  },
  {
   "cell_type": "code",
   "execution_count": 6,
   "id": "8c41a9d5-f750-4481-91bb-87e09ed4f8ec",
   "metadata": {},
   "outputs": [
    {
     "data": {
      "text/html": [
       "<table border=\"1\" class=\"dataframe\">\n",
       "  <thead>\n",
       "    <tr style=\"text-align: right;\">\n",
       "      <th></th>\n",
       "      <th>crawled</th>\n",
       "      <th>broken</th>\n",
       "      <th>url</th>\n",
       "    </tr>\n",
       "  </thead>\n",
       "  <tbody>\n",
       "    <tr>\n",
       "      <th>/</th>\n",
       "      <td>True</td>\n",
       "      <td>True</td>\n",
       "      <td><a href=\"https://portale.units.it/\" target=\"_blank\">https://portale.units.it/</a></td>\n",
       "    </tr>\n",
       "  </tbody>\n",
       "</table>"
      ],
      "text/plain": [
       "<IPython.core.display.HTML object>"
      ]
     },
     "execution_count": 6,
     "metadata": {},
     "output_type": "execute_result"
    }
   ],
   "source": [
    "# External URLs\n",
    "show_urls(results[list(map(lambda x: urlparse(x).path.startswith(\"/\"), results.index))])"
   ]
  },
  {
   "cell_type": "code",
   "execution_count": 7,
   "id": "700df4c2-b6b8-44cc-99b9-fd655bb84752",
   "metadata": {},
   "outputs": [
    {
     "data": {
      "text/html": [
       "<table border=\"1\" class=\"dataframe\">\n",
       "  <thead>\n",
       "    <tr style=\"text-align: right;\">\n",
       "      <th></th>\n",
       "      <th>crawled</th>\n",
       "      <th>broken</th>\n",
       "      <th>url</th>\n",
       "    </tr>\n",
       "  </thead>\n",
       "  <tbody>\n",
       "  </tbody>\n",
       "</table>"
      ],
      "text/plain": [
       "<IPython.core.display.HTML object>"
      ]
     },
     "execution_count": 7,
     "metadata": {},
     "output_type": "execute_result"
    }
   ],
   "source": [
    "# Success\n",
    "show_urls(results[results[\"broken\"] == False])"
   ]
  }
 ],
 "metadata": {
  "kernelspec": {
   "display_name": "Python 3 (ipykernel)",
   "language": "python",
   "name": "python3"
  },
  "language_info": {
   "codemirror_mode": {
    "name": "ipython",
    "version": 3
   },
   "file_extension": ".py",
   "mimetype": "text/x-python",
   "name": "python",
   "nbconvert_exporter": "python",
   "pygments_lexer": "ipython3",
   "version": "3.12.3"
  }
 },
 "nbformat": 4,
 "nbformat_minor": 5
}