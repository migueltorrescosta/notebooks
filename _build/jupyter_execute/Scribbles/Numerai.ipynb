{
 "cells": [
  {
   "cell_type": "markdown",
   "id": "d12d93e45e45a37f",
   "metadata": {
    "collapsed": false
   },
   "source": [
    "# Imports"
   ]
  },
  {
   "cell_type": "code",
   "execution_count": 1,
   "id": "2472c8636a2eac0a",
   "metadata": {
    "ExecuteTime": {
     "end_time": "2024-04-02T14:09:11.392634Z",
     "start_time": "2024-04-02T14:09:10.491139Z"
    },
    "collapsed": false
   },
   "outputs": [],
   "source": [
    "import os\n",
    "\n",
    "import lightgbm as lgb\n",
    "import pandas as pd\n",
    "from numerapi import NumerAPI"
   ]
  },
  {
   "cell_type": "markdown",
   "id": "e4dd28c51a881eb6",
   "metadata": {
    "collapsed": false
   },
   "source": [
    "# Download data"
   ]
  },
  {
   "cell_type": "code",
   "execution_count": 2,
   "id": "966ca43b848d5459",
   "metadata": {
    "ExecuteTime": {
     "end_time": "2024-04-02T14:14:07.556479Z",
     "start_time": "2024-04-02T14:09:11.393567Z"
    },
    "collapsed": false
   },
   "outputs": [
    {
     "name": "stderr",
     "output_type": "stream",
     "text": [
      "2024-05-28 13:05:48,307 INFO numerapi.utils: resuming download\n"
     ]
    },
    {
     "name": "stderr",
     "output_type": "stream",
     "text": [
      "/home/mcosta/.cache/pypoetry/virtualenvs/collapsedwave-FzXm3nz_-py3.12/lib/python3.12/site-packages/urllib3/connectionpool.py:1103: InsecureRequestWarning: Unverified HTTPS request is being made to host 'numerai-datasets-us-west-2.s3.amazonaws.com'. Adding certificate verification is strongly advised. See: https://urllib3.readthedocs.io/en/latest/advanced-usage.html#tls-warnings\n",
      "  warnings.warn(\n"
     ]
    },
    {
     "name": "stderr",
     "output_type": "stream",
     "text": [
      "\r",
      "data/v4.3/train_int8.parquet:   0%|                                                                                                                                                                    | 0.00/2.10G [00:00<?, ?B/s]"
     ]
    },
    {
     "name": "stderr",
     "output_type": "stream",
     "text": [
      "\r",
      "data/v4.3/train_int8.parquet:   0%|▋                                                                                                                                                          | 8.73M/2.10G [00:00<00:47, 43.9MB/s]"
     ]
    },
    {
     "name": "stderr",
     "output_type": "stream",
     "text": [
      "\r",
      "data/v4.3/train_int8.parquet:   1%|▉                                                                                                                                                          | 13.1M/2.10G [00:06<20:48, 1.67MB/s]"
     ]
    },
    {
     "name": "stderr",
     "output_type": "stream",
     "text": [
      "\r",
      "data/v4.3/train_int8.parquet:   1%|█                                                                                                                                                          | 15.0M/2.10G [00:07<21:37, 1.60MB/s]"
     ]
    },
    {
     "name": "stderr",
     "output_type": "stream",
     "text": [
      "\r",
      "data/v4.3/train_int8.parquet:   1%|█▏                                                                                                                                                         | 16.0M/2.10G [00:08<21:24, 1.62MB/s]"
     ]
    },
    {
     "name": "stderr",
     "output_type": "stream",
     "text": [
      "\r",
      "data/v4.3/train_int8.parquet:   1%|█▏                                                                                                                                                         | 16.8M/2.10G [00:08<22:21, 1.55MB/s]"
     ]
    },
    {
     "name": "stderr",
     "output_type": "stream",
     "text": [
      "\r",
      "data/v4.3/train_int8.parquet:   1%|█▎                                                                                                                                                         | 17.3M/2.10G [00:09<22:13, 1.56MB/s]"
     ]
    },
    {
     "name": "stderr",
     "output_type": "stream",
     "text": [
      "\r",
      "data/v4.3/train_int8.parquet:   1%|█▎                                                                                                                                                         | 17.6M/2.10G [00:09<21:54, 1.58MB/s]"
     ]
    },
    {
     "name": "stderr",
     "output_type": "stream",
     "text": [
      "\r",
      "data/v4.3/train_int8.parquet:   1%|█▎                                                                                                                                                         | 18.0M/2.10G [00:09<21:22, 1.62MB/s]"
     ]
    },
    {
     "name": "stderr",
     "output_type": "stream",
     "text": [
      "\r",
      "data/v4.3/train_int8.parquet:   1%|█▎                                                                                                                                                         | 18.6M/2.10G [00:09<19:34, 1.77MB/s]"
     ]
    },
    {
     "name": "stderr",
     "output_type": "stream",
     "text": [
      "\r",
      "data/v4.3/train_int8.parquet:   1%|█▍                                                                                                                                                         | 19.1M/2.10G [00:09<17:20, 2.00MB/s]"
     ]
    },
    {
     "name": "stderr",
     "output_type": "stream",
     "text": [
      "\r",
      "data/v4.3/train_int8.parquet:   1%|█▍                                                                                                                                                         | 19.7M/2.10G [00:10<15:14, 2.27MB/s]"
     ]
    },
    {
     "name": "stderr",
     "output_type": "stream",
     "text": [
      "\r",
      "data/v4.3/train_int8.parquet:   1%|█▌                                                                                                                                                         | 20.4M/2.10G [00:10<13:15, 2.61MB/s]"
     ]
    },
    {
     "name": "stderr",
     "output_type": "stream",
     "text": [
      "\r",
      "data/v4.3/train_int8.parquet:   1%|█▌                                                                                                                                                         | 21.0M/2.10G [00:10<11:36, 2.98MB/s]"
     ]
    },
    {
     "name": "stderr",
     "output_type": "stream",
     "text": [
      "\r",
      "data/v4.3/train_int8.parquet:   1%|█▌                                                                                                                                                         | 21.7M/2.10G [00:10<10:23, 3.33MB/s]"
     ]
    },
    {
     "name": "stderr",
     "output_type": "stream",
     "text": [
      "\r",
      "data/v4.3/train_int8.parquet:   1%|█▋                                                                                                                                                         | 22.4M/2.10G [00:10<09:19, 3.70MB/s]"
     ]
    },
    {
     "name": "stderr",
     "output_type": "stream",
     "text": [
      "\r",
      "data/v4.3/train_int8.parquet:   1%|█▋                                                                                                                                                         | 23.2M/2.10G [00:10<08:17, 4.17MB/s]"
     ]
    },
    {
     "name": "stderr",
     "output_type": "stream",
     "text": [
      "\r",
      "data/v4.3/train_int8.parquet:   1%|█▊                                                                                                                                                         | 23.9M/2.10G [00:10<07:21, 4.70MB/s]"
     ]
    },
    {
     "name": "stderr",
     "output_type": "stream",
     "text": [
      "\r",
      "data/v4.3/train_int8.parquet:   1%|█▊                                                                                                                                                         | 24.4M/2.10G [00:11<08:04, 4.28MB/s]"
     ]
    },
    {
     "name": "stderr",
     "output_type": "stream",
     "text": [
      "\r",
      "data/v4.3/train_int8.parquet:   1%|█▊                                                                                                                                                         | 24.9M/2.10G [00:11<08:13, 4.20MB/s]"
     ]
    },
    {
     "name": "stderr",
     "output_type": "stream",
     "text": [
      "\r",
      "data/v4.3/train_int8.parquet:   1%|█▉                                                                                                                                                         | 25.8M/2.10G [00:11<06:43, 5.13MB/s]"
     ]
    },
    {
     "name": "stderr",
     "output_type": "stream",
     "text": [
      "\r",
      "data/v4.3/train_int8.parquet:   1%|█▉                                                                                                                                                         | 26.3M/2.10G [00:11<06:42, 5.14MB/s]"
     ]
    },
    {
     "name": "stderr",
     "output_type": "stream",
     "text": [
      "\r",
      "data/v4.3/train_int8.parquet:   1%|█▉                                                                                                                                                         | 26.9M/2.10G [00:11<06:40, 5.17MB/s]"
     ]
    },
    {
     "name": "stderr",
     "output_type": "stream",
     "text": [
      "\r",
      "data/v4.3/train_int8.parquet:   1%|██                                                                                                                                                         | 27.7M/2.10G [00:11<05:53, 5.86MB/s]"
     ]
    },
    {
     "name": "stderr",
     "output_type": "stream",
     "text": [
      "\r",
      "data/v4.3/train_int8.parquet:   1%|██                                                                                                                                                         | 28.3M/2.10G [00:11<05:57, 5.79MB/s]"
     ]
    },
    {
     "name": "stderr",
     "output_type": "stream",
     "text": [
      "\r",
      "data/v4.3/train_int8.parquet:   1%|██▏                                                                                                                                                        | 28.9M/2.10G [00:11<05:56, 5.79MB/s]"
     ]
    },
    {
     "name": "stderr",
     "output_type": "stream",
     "text": [
      "\r",
      "data/v4.3/train_int8.parquet:   1%|██▏                                                                                                                                                        | 29.9M/2.10G [00:12<05:05, 6.77MB/s]"
     ]
    },
    {
     "name": "stderr",
     "output_type": "stream",
     "text": [
      "\r",
      "data/v4.3/train_int8.parquet:   1%|██▎                                                                                                                                                        | 30.6M/2.10G [00:12<05:06, 6.74MB/s]"
     ]
    },
    {
     "name": "stderr",
     "output_type": "stream",
     "text": [
      "\r",
      "data/v4.3/train_int8.parquet:   1%|██▎                                                                                                                                                        | 31.2M/2.10G [00:12<05:12, 6.61MB/s]"
     ]
    },
    {
     "name": "stderr",
     "output_type": "stream",
     "text": [
      "\r",
      "data/v4.3/train_int8.parquet:   2%|██▎                                                                                                                                                        | 32.1M/2.10G [00:12<04:44, 7.24MB/s]"
     ]
    },
    {
     "name": "stderr",
     "output_type": "stream",
     "text": [
      "\r",
      "data/v4.3/train_int8.parquet:   2%|██▍                                                                                                                                                        | 32.9M/2.10G [00:12<04:52, 7.06MB/s]"
     ]
    },
    {
     "name": "stderr",
     "output_type": "stream",
     "text": [
      "\r",
      "data/v4.3/train_int8.parquet:   2%|██▍                                                                                                                                                        | 33.8M/2.10G [00:12<04:29, 7.65MB/s]"
     ]
    },
    {
     "name": "stderr",
     "output_type": "stream",
     "text": [
      "\r",
      "data/v4.3/train_int8.parquet:   2%|██▌                                                                                                                                                        | 34.8M/2.10G [00:12<04:08, 8.31MB/s]"
     ]
    },
    {
     "name": "stderr",
     "output_type": "stream",
     "text": [
      "\r",
      "data/v4.3/train_int8.parquet:   2%|██▋                                                                                                                                                        | 35.6M/2.10G [00:12<04:16, 8.04MB/s]"
     ]
    },
    {
     "name": "stderr",
     "output_type": "stream",
     "text": [
      "\r",
      "data/v4.3/train_int8.parquet:   2%|██▋                                                                                                                                                        | 36.6M/2.10G [00:12<04:18, 7.98MB/s]"
     ]
    },
    {
     "name": "stderr",
     "output_type": "stream",
     "text": [
      "\r",
      "data/v4.3/train_int8.parquet:   2%|██▊                                                                                                                                                        | 37.7M/2.10G [00:12<03:52, 8.84MB/s]"
     ]
    },
    {
     "name": "stderr",
     "output_type": "stream",
     "text": [
      "\r",
      "data/v4.3/train_int8.parquet:   2%|██▊                                                                                                                                                        | 38.6M/2.10G [00:13<03:53, 8.80MB/s]"
     ]
    },
    {
     "name": "stderr",
     "output_type": "stream",
     "text": [
      "\r",
      "data/v4.3/train_int8.parquet:   2%|██▉                                                                                                                                                        | 39.7M/2.10G [00:13<03:38, 9.40MB/s]"
     ]
    },
    {
     "name": "stderr",
     "output_type": "stream",
     "text": [
      "\r",
      "data/v4.3/train_int8.parquet:   2%|███                                                                                                                                                        | 40.6M/2.10G [00:13<03:37, 9.44MB/s]"
     ]
    },
    {
     "name": "stderr",
     "output_type": "stream",
     "text": [
      "\r",
      "data/v4.3/train_int8.parquet:   2%|███                                                                                                                                                        | 41.6M/2.10G [00:13<03:34, 9.56MB/s]"
     ]
    },
    {
     "name": "stderr",
     "output_type": "stream",
     "text": [
      "\r",
      "data/v4.3/train_int8.parquet:   2%|███▏                                                                                                                                                       | 42.7M/2.10G [00:13<03:38, 9.42MB/s]"
     ]
    },
    {
     "name": "stderr",
     "output_type": "stream",
     "text": [
      "\r",
      "data/v4.3/train_int8.parquet:   2%|███▎                                                                                                                                                       | 44.3M/2.10G [00:13<03:03, 11.2MB/s]"
     ]
    },
    {
     "name": "stderr",
     "output_type": "stream",
     "text": [
      "\r",
      "data/v4.3/train_int8.parquet:   2%|███▎                                                                                                                                                       | 45.4M/2.10G [00:13<03:08, 10.9MB/s]"
     ]
    },
    {
     "name": "stderr",
     "output_type": "stream",
     "text": [
      "\r",
      "data/v4.3/train_int8.parquet:   2%|███▍                                                                                                                                                       | 46.5M/2.10G [00:13<03:13, 10.6MB/s]"
     ]
    },
    {
     "name": "stderr",
     "output_type": "stream",
     "text": [
      "\r",
      "data/v4.3/train_int8.parquet:   2%|███▌                                                                                                                                                       | 47.8M/2.10G [00:13<03:03, 11.2MB/s]"
     ]
    },
    {
     "name": "stderr",
     "output_type": "stream",
     "text": [
      "\r",
      "data/v4.3/train_int8.parquet:   2%|███▌                                                                                                                                                       | 48.9M/2.10G [00:14<03:04, 11.1MB/s]"
     ]
    },
    {
     "name": "stderr",
     "output_type": "stream",
     "text": [
      "\r",
      "data/v4.3/train_int8.parquet:   2%|███▋                                                                                                                                                       | 50.1M/2.10G [00:14<03:04, 11.1MB/s]"
     ]
    },
    {
     "name": "stderr",
     "output_type": "stream",
     "text": [
      "\r",
      "data/v4.3/train_int8.parquet:   2%|███▊                                                                                                                                                       | 51.4M/2.10G [00:14<02:53, 11.8MB/s]"
     ]
    },
    {
     "name": "stderr",
     "output_type": "stream",
     "text": [
      "\r",
      "data/v4.3/train_int8.parquet:   3%|███▉                                                                                                                                                       | 52.6M/2.10G [00:14<02:57, 11.5MB/s]"
     ]
    },
    {
     "name": "stderr",
     "output_type": "stream",
     "text": [
      "\r",
      "data/v4.3/train_int8.parquet:   3%|███▉                                                                                                                                                       | 53.8M/2.10G [00:14<03:23, 10.0MB/s]"
     ]
    },
    {
     "name": "stderr",
     "output_type": "stream",
     "text": [
      "\r",
      "data/v4.3/train_int8.parquet:   3%|████                                                                                                                                                       | 54.9M/2.10G [00:14<03:15, 10.5MB/s]"
     ]
    },
    {
     "name": "stderr",
     "output_type": "stream",
     "text": [
      "\r",
      "data/v4.3/train_int8.parquet:   3%|████▏                                                                                                                                                      | 56.0M/2.10G [00:14<03:20, 10.2MB/s]"
     ]
    },
    {
     "name": "stderr",
     "output_type": "stream",
     "text": [
      "\r",
      "data/v4.3/train_int8.parquet:   3%|████▏                                                                                                                                                      | 57.0M/2.10G [00:14<03:34, 9.50MB/s]"
     ]
    },
    {
     "name": "stderr",
     "output_type": "stream",
     "text": [
      "\r",
      "data/v4.3/train_int8.parquet:   3%|████▎                                                                                                                                                      | 58.1M/2.10G [00:14<03:35, 9.47MB/s]"
     ]
    },
    {
     "name": "stderr",
     "output_type": "stream",
     "text": [
      "\r",
      "data/v4.3/train_int8.parquet:   3%|████▍                                                                                                                                                      | 59.3M/2.10G [00:15<03:20, 10.2MB/s]"
     ]
    },
    {
     "name": "stderr",
     "output_type": "stream",
     "text": [
      "\r",
      "data/v4.3/train_int8.parquet:   3%|████▍                                                                                                                                                      | 60.3M/2.10G [00:15<03:34, 9.50MB/s]"
     ]
    },
    {
     "name": "stderr",
     "output_type": "stream",
     "text": [
      "\r",
      "data/v4.3/train_int8.parquet:   3%|████▌                                                                                                                                                      | 61.3M/2.10G [00:15<03:36, 9.40MB/s]"
     ]
    },
    {
     "name": "stderr",
     "output_type": "stream",
     "text": [
      "\r",
      "data/v4.3/train_int8.parquet:   3%|████▌                                                                                                                                                      | 62.5M/2.10G [00:15<03:24, 9.93MB/s]"
     ]
    },
    {
     "name": "stderr",
     "output_type": "stream",
     "text": [
      "\r",
      "data/v4.3/train_int8.parquet:   3%|████▋                                                                                                                                                      | 63.5M/2.10G [00:15<03:28, 9.73MB/s]"
     ]
    },
    {
     "name": "stderr",
     "output_type": "stream",
     "text": [
      "\r",
      "data/v4.3/train_int8.parquet:   3%|████▊                                                                                                                                                      | 64.6M/2.10G [00:15<03:26, 9.85MB/s]"
     ]
    },
    {
     "name": "stderr",
     "output_type": "stream",
     "text": [
      "\r",
      "data/v4.3/train_int8.parquet:   3%|████▊                                                                                                                                                      | 65.7M/2.10G [00:15<03:17, 10.3MB/s]"
     ]
    },
    {
     "name": "stderr",
     "output_type": "stream",
     "text": [
      "\r",
      "data/v4.3/train_int8.parquet:   3%|████▉                                                                                                                                                      | 66.7M/2.10G [00:15<03:24, 9.91MB/s]"
     ]
    },
    {
     "name": "stderr",
     "output_type": "stream",
     "text": [
      "\r",
      "data/v4.3/train_int8.parquet:   3%|█████                                                                                                                                                      | 67.9M/2.10G [00:15<03:17, 10.3MB/s]"
     ]
    },
    {
     "name": "stderr",
     "output_type": "stream",
     "text": [
      "\r",
      "data/v4.3/train_int8.parquet:   3%|█████                                                                                                                                                      | 69.0M/2.10G [00:16<03:11, 10.6MB/s]"
     ]
    },
    {
     "name": "stderr",
     "output_type": "stream",
     "text": [
      "\r",
      "data/v4.3/train_int8.parquet:   3%|█████▏                                                                                                                                                     | 70.1M/2.10G [00:16<03:13, 10.5MB/s]"
     ]
    },
    {
     "name": "stderr",
     "output_type": "stream",
     "text": [
      "\r",
      "data/v4.3/train_int8.parquet:   3%|█████▎                                                                                                                                                     | 71.3M/2.10G [00:16<03:06, 10.8MB/s]"
     ]
    },
    {
     "name": "stderr",
     "output_type": "stream",
     "text": [
      "\r",
      "data/v4.3/train_int8.parquet:   3%|█████▎                                                                                                                                                     | 72.4M/2.10G [00:16<03:08, 10.7MB/s]"
     ]
    },
    {
     "name": "stderr",
     "output_type": "stream",
     "text": [
      "\r",
      "data/v4.3/train_int8.parquet:   4%|█████▍                                                                                                                                                     | 73.6M/2.10G [00:16<03:06, 10.8MB/s]"
     ]
    },
    {
     "name": "stderr",
     "output_type": "stream",
     "text": [
      "\r",
      "data/v4.3/train_int8.parquet:   4%|█████▌                                                                                                                                                     | 74.9M/2.10G [00:16<02:53, 11.6MB/s]"
     ]
    },
    {
     "name": "stderr",
     "output_type": "stream",
     "text": [
      "\r",
      "data/v4.3/train_int8.parquet:   4%|█████▋                                                                                                                                                     | 76.1M/2.10G [00:16<02:57, 11.4MB/s]"
     ]
    },
    {
     "name": "stderr",
     "output_type": "stream",
     "text": [
      "\r",
      "data/v4.3/train_int8.parquet:   4%|█████▋                                                                                                                                                     | 77.2M/2.10G [00:16<03:08, 10.7MB/s]"
     ]
    },
    {
     "name": "stderr",
     "output_type": "stream",
     "text": [
      "\r",
      "data/v4.3/train_int8.parquet:   4%|█████▊                                                                                                                                                     | 78.6M/2.10G [00:16<02:53, 11.6MB/s]"
     ]
    },
    {
     "name": "stderr",
     "output_type": "stream",
     "text": [
      "\r",
      "data/v4.3/train_int8.parquet:   4%|█████▉                                                                                                                                                     | 79.8M/2.10G [00:16<02:55, 11.5MB/s]"
     ]
    },
    {
     "name": "stderr",
     "output_type": "stream",
     "text": [
      "\r",
      "data/v4.3/train_int8.parquet:   4%|█████▉                                                                                                                                                     | 81.0M/2.10G [00:17<03:00, 11.2MB/s]"
     ]
    },
    {
     "name": "stderr",
     "output_type": "stream",
     "text": [
      "\r",
      "data/v4.3/train_int8.parquet:   4%|██████                                                                                                                                                     | 82.3M/2.10G [00:17<02:56, 11.4MB/s]"
     ]
    },
    {
     "name": "stderr",
     "output_type": "stream",
     "text": [
      "\r",
      "data/v4.3/train_int8.parquet:   4%|██████▏                                                                                                                                                    | 83.5M/2.10G [00:17<02:56, 11.4MB/s]"
     ]
    },
    {
     "name": "stderr",
     "output_type": "stream",
     "text": [
      "\r",
      "data/v4.3/train_int8.parquet:   4%|██████▎                                                                                                                                                    | 84.6M/2.10G [00:17<02:56, 11.4MB/s]"
     ]
    },
    {
     "name": "stderr",
     "output_type": "stream",
     "text": [
      "\r",
      "data/v4.3/train_int8.parquet:   4%|██████▎                                                                                                                                                    | 85.9M/2.10G [00:17<02:52, 11.7MB/s]"
     ]
    },
    {
     "name": "stderr",
     "output_type": "stream",
     "text": [
      "\r",
      "data/v4.3/train_int8.parquet:   4%|██████▍                                                                                                                                                    | 87.2M/2.10G [00:17<02:48, 11.9MB/s]"
     ]
    },
    {
     "name": "stderr",
     "output_type": "stream",
     "text": [
      "\r",
      "data/v4.3/train_int8.parquet:   4%|██████▌                                                                                                                                                    | 88.4M/2.10G [00:17<02:53, 11.6MB/s]"
     ]
    },
    {
     "name": "stderr",
     "output_type": "stream",
     "text": [
      "\r",
      "data/v4.3/train_int8.parquet:   4%|██████▋                                                                                                                                                    | 89.6M/2.10G [00:17<02:51, 11.7MB/s]"
     ]
    },
    {
     "name": "stderr",
     "output_type": "stream",
     "text": [
      "\r",
      "data/v4.3/train_int8.parquet:   4%|██████▋                                                                                                                                                    | 90.8M/2.10G [00:17<02:51, 11.7MB/s]"
     ]
    },
    {
     "name": "stderr",
     "output_type": "stream",
     "text": [
      "\r",
      "data/v4.3/train_int8.parquet:   4%|██████▊                                                                                                                                                    | 92.1M/2.10G [00:18<02:51, 11.7MB/s]"
     ]
    },
    {
     "name": "stderr",
     "output_type": "stream",
     "text": [
      "\r",
      "data/v4.3/train_int8.parquet:   4%|██████▉                                                                                                                                                    | 93.6M/2.10G [00:18<02:44, 12.2MB/s]"
     ]
    },
    {
     "name": "stderr",
     "output_type": "stream",
     "text": [
      "\r",
      "data/v4.3/train_int8.parquet:   5%|███████                                                                                                                                                    | 94.8M/2.10G [00:18<02:45, 12.1MB/s]"
     ]
    },
    {
     "name": "stderr",
     "output_type": "stream",
     "text": [
      "\r",
      "data/v4.3/train_int8.parquet:   5%|███████                                                                                                                                                    | 96.0M/2.10G [00:18<02:48, 11.8MB/s]"
     ]
    },
    {
     "name": "stderr",
     "output_type": "stream",
     "text": [
      "\r",
      "data/v4.3/train_int8.parquet:   5%|███████▏                                                                                                                                                   | 97.4M/2.10G [00:18<02:38, 12.6MB/s]"
     ]
    },
    {
     "name": "stderr",
     "output_type": "stream",
     "text": [
      "\r",
      "data/v4.3/train_int8.parquet:   5%|███████▎                                                                                                                                                   | 98.7M/2.10G [00:18<02:51, 11.7MB/s]"
     ]
    },
    {
     "name": "stderr",
     "output_type": "stream",
     "text": [
      "\r",
      "data/v4.3/train_int8.parquet:   5%|███████▍                                                                                                                                                    | 100M/2.10G [00:18<02:39, 12.5MB/s]"
     ]
    },
    {
     "name": "stderr",
     "output_type": "stream",
     "text": [
      "\r",
      "data/v4.3/train_int8.parquet:   5%|███████▌                                                                                                                                                    | 101M/2.10G [00:18<02:40, 12.5MB/s]"
     ]
    },
    {
     "name": "stderr",
     "output_type": "stream",
     "text": [
      "\r",
      "data/v4.3/train_int8.parquet:   5%|███████▋                                                                                                                                                    | 103M/2.10G [00:18<02:48, 11.9MB/s]"
     ]
    },
    {
     "name": "stderr",
     "output_type": "stream",
     "text": [
      "\r",
      "data/v4.3/train_int8.parquet:   5%|███████▋                                                                                                                                                    | 104M/2.10G [00:18<02:43, 12.2MB/s]"
     ]
    },
    {
     "name": "stderr",
     "output_type": "stream",
     "text": [
      "\r",
      "data/v4.3/train_int8.parquet:   5%|███████▊                                                                                                                                                    | 105M/2.10G [00:19<02:56, 11.3MB/s]"
     ]
    },
    {
     "name": "stderr",
     "output_type": "stream",
     "text": [
      "\r",
      "data/v4.3/train_int8.parquet:   5%|███████▉                                                                                                                                                    | 106M/2.10G [00:19<03:09, 10.5MB/s]"
     ]
    },
    {
     "name": "stderr",
     "output_type": "stream",
     "text": [
      "\r",
      "data/v4.3/train_int8.parquet:   5%|████████                                                                                                                                                    | 108M/2.10G [00:19<02:59, 11.1MB/s]"
     ]
    },
    {
     "name": "stderr",
     "output_type": "stream",
     "text": [
      "\r",
      "data/v4.3/train_int8.parquet:   5%|████████                                                                                                                                                    | 109M/2.10G [00:19<02:59, 11.1MB/s]"
     ]
    },
    {
     "name": "stderr",
     "output_type": "stream",
     "text": [
      "\r",
      "data/v4.3/train_int8.parquet:   5%|████████▏                                                                                                                                                   | 110M/2.10G [00:19<02:53, 11.4MB/s]"
     ]
    },
    {
     "name": "stderr",
     "output_type": "stream",
     "text": [
      "\r",
      "data/v4.3/train_int8.parquet:   5%|████████▎                                                                                                                                                   | 111M/2.10G [00:19<02:50, 11.6MB/s]"
     ]
    },
    {
     "name": "stderr",
     "output_type": "stream",
     "text": [
      "\r",
      "data/v4.3/train_int8.parquet:   5%|████████▍                                                                                                                                                   | 113M/2.10G [00:19<02:45, 12.0MB/s]"
     ]
    },
    {
     "name": "stderr",
     "output_type": "stream",
     "text": [
      "\r",
      "data/v4.3/train_int8.parquet:   5%|████████▍                                                                                                                                                   | 114M/2.10G [00:19<02:48, 11.7MB/s]"
     ]
    },
    {
     "name": "stderr",
     "output_type": "stream",
     "text": [
      "\r",
      "data/v4.3/train_int8.parquet:   5%|████████▌                                                                                                                                                   | 115M/2.10G [00:19<02:46, 11.9MB/s]"
     ]
    },
    {
     "name": "stderr",
     "output_type": "stream",
     "text": [
      "\r",
      "data/v4.3/train_int8.parquet:   6%|████████▋                                                                                                                                                   | 117M/2.10G [00:20<02:35, 12.7MB/s]"
     ]
    },
    {
     "name": "stderr",
     "output_type": "stream",
     "text": [
      "\r",
      "data/v4.3/train_int8.parquet:   6%|████████▊                                                                                                                                                   | 118M/2.10G [00:20<02:40, 12.4MB/s]"
     ]
    },
    {
     "name": "stderr",
     "output_type": "stream",
     "text": [
      "\r",
      "data/v4.3/train_int8.parquet:   6%|████████▊                                                                                                                                                   | 119M/2.10G [00:20<02:50, 11.6MB/s]"
     ]
    },
    {
     "name": "stderr",
     "output_type": "stream",
     "text": [
      "\r",
      "data/v4.3/train_int8.parquet:   6%|████████▉                                                                                                                                                   | 120M/2.10G [00:20<02:52, 11.4MB/s]"
     ]
    },
    {
     "name": "stderr",
     "output_type": "stream",
     "text": [
      "\r",
      "data/v4.3/train_int8.parquet:   6%|█████████                                                                                                                                                   | 121M/2.10G [00:20<02:52, 11.5MB/s]"
     ]
    },
    {
     "name": "stderr",
     "output_type": "stream",
     "text": [
      "\r",
      "data/v4.3/train_int8.parquet:   6%|█████████                                                                                                                                                   | 123M/2.10G [00:20<02:53, 11.4MB/s]"
     ]
    },
    {
     "name": "stderr",
     "output_type": "stream",
     "text": [
      "\r",
      "data/v4.3/train_int8.parquet:   6%|█████████▏                                                                                                                                                  | 124M/2.10G [00:20<03:42, 8.88MB/s]"
     ]
    },
    {
     "name": "stderr",
     "output_type": "stream",
     "text": [
      "\r",
      "data/v4.3/train_int8.parquet:   6%|█████████▎                                                                                                                                                  | 125M/2.10G [00:20<04:04, 8.06MB/s]"
     ]
    },
    {
     "name": "stderr",
     "output_type": "stream",
     "text": [
      "\r",
      "data/v4.3/train_int8.parquet:   6%|█████████▍                                                                                                                                                  | 126M/2.10G [00:21<03:57, 8.30MB/s]"
     ]
    },
    {
     "name": "stderr",
     "output_type": "stream",
     "text": [
      "\r",
      "data/v4.3/train_int8.parquet:   6%|█████████▍                                                                                                                                                  | 128M/2.10G [00:21<03:49, 8.59MB/s]"
     ]
    },
    {
     "name": "stderr",
     "output_type": "stream",
     "text": [
      "\r",
      "data/v4.3/train_int8.parquet:   6%|█████████▌                                                                                                                                                  | 129M/2.10G [00:21<03:19, 9.86MB/s]"
     ]
    },
    {
     "name": "stderr",
     "output_type": "stream",
     "text": [
      "\r",
      "data/v4.3/train_int8.parquet:   6%|█████████▋                                                                                                                                                  | 130M/2.10G [00:21<03:37, 9.05MB/s]"
     ]
    },
    {
     "name": "stderr",
     "output_type": "stream",
     "text": [
      "\r",
      "data/v4.3/train_int8.parquet:   6%|█████████▋                                                                                                                                                  | 131M/2.10G [00:21<03:45, 8.72MB/s]"
     ]
    },
    {
     "name": "stderr",
     "output_type": "stream",
     "text": [
      "\r",
      "data/v4.3/train_int8.parquet:   6%|█████████▊                                                                                                                                                  | 132M/2.10G [00:21<03:44, 8.77MB/s]"
     ]
    },
    {
     "name": "stderr",
     "output_type": "stream",
     "text": [
      "\r",
      "data/v4.3/train_int8.parquet:   6%|█████████▉                                                                                                                                                  | 133M/2.10G [00:21<03:19, 9.86MB/s]"
     ]
    },
    {
     "name": "stderr",
     "output_type": "stream",
     "text": [
      "\r",
      "data/v4.3/train_int8.parquet:   6%|█████████▉                                                                                                                                                  | 134M/2.10G [00:22<04:56, 6.61MB/s]"
     ]
    },
    {
     "name": "stderr",
     "output_type": "stream",
     "text": [
      "\r",
      "data/v4.3/train_int8.parquet:   6%|██████████                                                                                                                                                  | 135M/2.10G [00:22<04:34, 7.15MB/s]"
     ]
    },
    {
     "name": "stderr",
     "output_type": "stream",
     "text": [
      "\r",
      "data/v4.3/train_int8.parquet:   7%|██████████▏                                                                                                                                                 | 136M/2.10G [00:22<04:12, 7.77MB/s]"
     ]
    },
    {
     "name": "stderr",
     "output_type": "stream",
     "text": [
      "\r",
      "data/v4.3/train_int8.parquet:   7%|██████████▏                                                                                                                                                 | 137M/2.10G [00:22<04:05, 7.99MB/s]"
     ]
    },
    {
     "name": "stderr",
     "output_type": "stream",
     "text": [
      "\r",
      "data/v4.3/train_int8.parquet:   7%|██████████▎                                                                                                                                                 | 138M/2.10G [00:22<04:23, 7.42MB/s]"
     ]
    },
    {
     "name": "stderr",
     "output_type": "stream",
     "text": [
      "\r",
      "data/v4.3/train_int8.parquet:   7%|██████████▎                                                                                                                                                 | 139M/2.10G [00:22<04:42, 6.92MB/s]"
     ]
    },
    {
     "name": "stderr",
     "output_type": "stream",
     "text": [
      "\r",
      "data/v4.3/train_int8.parquet:   7%|██████████▍                                                                                                                                                 | 140M/2.10G [00:22<05:00, 6.51MB/s]"
     ]
    },
    {
     "name": "stderr",
     "output_type": "stream",
     "text": [
      "\r",
      "data/v4.3/train_int8.parquet:   7%|██████████▍                                                                                                                                                 | 141M/2.10G [00:23<04:47, 6.80MB/s]"
     ]
    },
    {
     "name": "stderr",
     "output_type": "stream",
     "text": [
      "\r",
      "data/v4.3/train_int8.parquet:   7%|██████████▌                                                                                                                                                 | 142M/2.10G [00:23<04:38, 7.01MB/s]"
     ]
    },
    {
     "name": "stderr",
     "output_type": "stream",
     "text": [
      "\r",
      "data/v4.3/train_int8.parquet:   7%|██████████▋                                                                                                                                                 | 143M/2.10G [00:23<04:33, 7.14MB/s]"
     ]
    },
    {
     "name": "stderr",
     "output_type": "stream",
     "text": [
      "\r",
      "data/v4.3/train_int8.parquet:   7%|██████████▋                                                                                                                                                 | 144M/2.10G [00:23<04:24, 7.38MB/s]"
     ]
    },
    {
     "name": "stderr",
     "output_type": "stream",
     "text": [
      "\r",
      "data/v4.3/train_int8.parquet:   7%|██████████▊                                                                                                                                                 | 146M/2.10G [00:23<04:18, 7.55MB/s]"
     ]
    },
    {
     "name": "stderr",
     "output_type": "stream",
     "text": [
      "\r",
      "data/v4.3/train_int8.parquet:   7%|██████████▉                                                                                                                                                 | 147M/2.10G [00:23<04:13, 7.70MB/s]"
     ]
    },
    {
     "name": "stderr",
     "output_type": "stream",
     "text": [
      "\r",
      "data/v4.3/train_int8.parquet:   7%|██████████▉                                                                                                                                                 | 148M/2.10G [00:23<03:55, 8.26MB/s]"
     ]
    },
    {
     "name": "stderr",
     "output_type": "stream",
     "text": [
      "\r",
      "data/v4.3/train_int8.parquet:   7%|███████████                                                                                                                                                 | 149M/2.10G [00:24<04:03, 8.01MB/s]"
     ]
    },
    {
     "name": "stderr",
     "output_type": "stream",
     "text": [
      "\r",
      "data/v4.3/train_int8.parquet:   7%|███████████                                                                                                                                                 | 149M/2.10G [00:24<04:28, 7.26MB/s]"
     ]
    },
    {
     "name": "stderr",
     "output_type": "stream",
     "text": [
      "\r",
      "data/v4.3/train_int8.parquet:   7%|███████████▏                                                                                                                                                | 150M/2.10G [00:24<04:31, 7.16MB/s]"
     ]
    },
    {
     "name": "stderr",
     "output_type": "stream",
     "text": [
      "\r",
      "data/v4.3/train_int8.parquet:   7%|███████████▎                                                                                                                                                | 151M/2.10G [00:24<03:54, 8.28MB/s]"
     ]
    },
    {
     "name": "stderr",
     "output_type": "stream",
     "text": [
      "\r",
      "data/v4.3/train_int8.parquet:   7%|███████████▎                                                                                                                                                | 152M/2.10G [00:24<04:17, 7.56MB/s]"
     ]
    },
    {
     "name": "stderr",
     "output_type": "stream",
     "text": [
      "\r",
      "data/v4.3/train_int8.parquet:   7%|███████████▍                                                                                                                                                | 153M/2.10G [00:24<04:22, 7.42MB/s]"
     ]
    },
    {
     "name": "stderr",
     "output_type": "stream",
     "text": [
      "\r",
      "data/v4.3/train_int8.parquet:   7%|███████████▍                                                                                                                                                | 154M/2.10G [00:24<04:15, 7.60MB/s]"
     ]
    },
    {
     "name": "stderr",
     "output_type": "stream",
     "text": [
      "\r",
      "data/v4.3/train_int8.parquet:   7%|███████████▌                                                                                                                                                | 155M/2.10G [00:24<04:10, 7.76MB/s]"
     ]
    },
    {
     "name": "stderr",
     "output_type": "stream",
     "text": [
      "\r",
      "data/v4.3/train_int8.parquet:   7%|███████████▌                                                                                                                                                | 156M/2.10G [00:24<04:13, 7.66MB/s]"
     ]
    },
    {
     "name": "stderr",
     "output_type": "stream",
     "text": [
      "\r",
      "data/v4.3/train_int8.parquet:   7%|███████████▋                                                                                                                                                | 157M/2.10G [00:25<03:58, 8.15MB/s]"
     ]
    },
    {
     "name": "stderr",
     "output_type": "stream",
     "text": [
      "\r",
      "data/v4.3/train_int8.parquet:   8%|███████████▋                                                                                                                                                | 157M/2.10G [00:25<04:04, 7.92MB/s]"
     ]
    },
    {
     "name": "stderr",
     "output_type": "stream",
     "text": [
      "\r",
      "data/v4.3/train_int8.parquet:   8%|███████████▊                                                                                                                                                | 158M/2.10G [00:25<03:56, 8.19MB/s]"
     ]
    },
    {
     "name": "stderr",
     "output_type": "stream",
     "text": [
      "\r",
      "data/v4.3/train_int8.parquet:   8%|███████████▊                                                                                                                                                | 159M/2.10G [00:25<03:52, 8.35MB/s]"
     ]
    },
    {
     "name": "stderr",
     "output_type": "stream",
     "text": [
      "\r",
      "data/v4.3/train_int8.parquet:   8%|███████████▉                                                                                                                                                | 160M/2.10G [00:25<04:00, 8.05MB/s]"
     ]
    },
    {
     "name": "stderr",
     "output_type": "stream",
     "text": [
      "\r",
      "data/v4.3/train_int8.parquet:   8%|███████████▉                                                                                                                                                | 161M/2.10G [00:25<04:05, 7.88MB/s]"
     ]
    },
    {
     "name": "stderr",
     "output_type": "stream",
     "text": [
      "\r",
      "data/v4.3/train_int8.parquet:   8%|████████████                                                                                                                                                | 162M/2.10G [00:25<03:47, 8.50MB/s]"
     ]
    },
    {
     "name": "stderr",
     "output_type": "stream",
     "text": [
      "\r",
      "data/v4.3/train_int8.parquet:   8%|████████████▏                                                                                                                                               | 163M/2.10G [00:25<03:59, 8.06MB/s]"
     ]
    },
    {
     "name": "stderr",
     "output_type": "stream",
     "text": [
      "\r",
      "data/v4.3/train_int8.parquet:   8%|████████████▏                                                                                                                                               | 164M/2.10G [00:25<04:23, 7.34MB/s]"
     ]
    },
    {
     "name": "stderr",
     "output_type": "stream",
     "text": [
      "\r",
      "data/v4.3/train_int8.parquet:   8%|████████████▏                                                                                                                                               | 165M/2.10G [00:26<05:28, 5.88MB/s]"
     ]
    },
    {
     "name": "stderr",
     "output_type": "stream",
     "text": [
      "\r",
      "data/v4.3/train_int8.parquet:   8%|████████████▎                                                                                                                                               | 166M/2.10G [00:26<04:19, 7.43MB/s]"
     ]
    },
    {
     "name": "stderr",
     "output_type": "stream",
     "text": [
      "\r",
      "data/v4.3/train_int8.parquet:   8%|████████████▍                                                                                                                                               | 167M/2.10G [00:26<04:33, 7.06MB/s]"
     ]
    },
    {
     "name": "stderr",
     "output_type": "stream",
     "text": [
      "\r",
      "data/v4.3/train_int8.parquet:   8%|████████████▍                                                                                                                                               | 167M/2.10G [00:26<04:36, 6.97MB/s]"
     ]
    },
    {
     "name": "stderr",
     "output_type": "stream",
     "text": [
      "\r",
      "data/v4.3/train_int8.parquet:   8%|████████████▌                                                                                                                                               | 168M/2.10G [00:26<04:57, 6.49MB/s]"
     ]
    },
    {
     "name": "stderr",
     "output_type": "stream",
     "text": [
      "\r",
      "data/v4.3/train_int8.parquet:   8%|████████████▌                                                                                                                                               | 169M/2.10G [00:26<05:21, 6.00MB/s]"
     ]
    },
    {
     "name": "stderr",
     "output_type": "stream",
     "text": [
      "\r",
      "data/v4.3/train_int8.parquet:   8%|████████████▌                                                                                                                                               | 170M/2.10G [00:26<05:08, 6.24MB/s]"
     ]
    },
    {
     "name": "stderr",
     "output_type": "stream",
     "text": [
      "\r",
      "data/v4.3/train_int8.parquet:   8%|████████████▋                                                                                                                                               | 170M/2.10G [00:27<05:03, 6.35MB/s]"
     ]
    },
    {
     "name": "stderr",
     "output_type": "stream",
     "text": [
      "\r",
      "data/v4.3/train_int8.parquet:   8%|████████████▋                                                                                                                                               | 171M/2.10G [00:27<05:06, 6.29MB/s]"
     ]
    },
    {
     "name": "stderr",
     "output_type": "stream",
     "text": [
      "\r",
      "data/v4.3/train_int8.parquet:   8%|████████████▊                                                                                                                                               | 172M/2.10G [00:27<05:21, 5.99MB/s]"
     ]
    },
    {
     "name": "stderr",
     "output_type": "stream",
     "text": [
      "\r",
      "data/v4.3/train_int8.parquet:   8%|████████████▊                                                                                                                                               | 173M/2.10G [00:27<04:59, 6.42MB/s]"
     ]
    },
    {
     "name": "stderr",
     "output_type": "stream",
     "text": [
      "\r",
      "data/v4.3/train_int8.parquet:   8%|████████████▉                                                                                                                                               | 173M/2.10G [00:27<04:56, 6.49MB/s]"
     ]
    },
    {
     "name": "stderr",
     "output_type": "stream",
     "text": [
      "\r",
      "data/v4.3/train_int8.parquet:   8%|████████████▉                                                                                                                                               | 174M/2.10G [00:27<05:18, 6.03MB/s]"
     ]
    },
    {
     "name": "stderr",
     "output_type": "stream",
     "text": [
      "\r",
      "data/v4.3/train_int8.parquet:   8%|████████████▉                                                                                                                                               | 175M/2.10G [00:27<05:16, 6.07MB/s]"
     ]
    },
    {
     "name": "stderr",
     "output_type": "stream",
     "text": [
      "\r",
      "data/v4.3/train_int8.parquet:   8%|█████████████                                                                                                                                               | 175M/2.10G [00:27<04:55, 6.50MB/s]"
     ]
    },
    {
     "name": "stderr",
     "output_type": "stream",
     "text": [
      "\r",
      "data/v4.3/train_int8.parquet:   8%|█████████████                                                                                                                                               | 176M/2.10G [00:27<05:15, 6.09MB/s]"
     ]
    },
    {
     "ename": "KeyboardInterrupt",
     "evalue": "",
     "output_type": "error",
     "traceback": [
      "\u001b[0;31m---------------------------------------------------------------------------\u001b[0m",
      "\u001b[0;31mKeyboardInterrupt\u001b[0m                         Traceback (most recent call last)",
      "Cell \u001b[0;32mIn[2], line 5\u001b[0m\n\u001b[1;32m      3\u001b[0m remote_file \u001b[38;5;241m=\u001b[39m \u001b[38;5;124m\"\u001b[39m\u001b[38;5;124mv4.3/train_int8.parquet\u001b[39m\u001b[38;5;124m\"\u001b[39m\n\u001b[1;32m      4\u001b[0m local_file \u001b[38;5;241m=\u001b[39m os\u001b[38;5;241m.\u001b[39mpath\u001b[38;5;241m.\u001b[39mjoin(\u001b[38;5;124m\"\u001b[39m\u001b[38;5;124mdata\u001b[39m\u001b[38;5;124m\"\u001b[39m, remote_file)\n\u001b[0;32m----> 5\u001b[0m \u001b[43mnapi\u001b[49m\u001b[38;5;241;43m.\u001b[39;49m\u001b[43mdownload_dataset\u001b[49m\u001b[43m(\u001b[49m\u001b[43mremote_file\u001b[49m\u001b[43m,\u001b[49m\u001b[43m \u001b[49m\u001b[43mdest_path\u001b[49m\u001b[38;5;241;43m=\u001b[39;49m\u001b[43mlocal_file\u001b[49m\u001b[43m)\u001b[49m\n\u001b[1;32m      6\u001b[0m training_data \u001b[38;5;241m=\u001b[39m pd\u001b[38;5;241m.\u001b[39mread_parquet(local_file)\n",
      "File \u001b[0;32m~/.cache/pypoetry/virtualenvs/collapsedwave-FzXm3nz_-py3.12/lib/python3.12/site-packages/numerapi/base_api.py:202\u001b[0m, in \u001b[0;36mApi.download_dataset\u001b[0;34m(self, filename, dest_path, round_num)\u001b[0m\n\u001b[1;32m    199\u001b[0m args \u001b[38;5;241m=\u001b[39m {\u001b[38;5;124m'\u001b[39m\u001b[38;5;124mfilename\u001b[39m\u001b[38;5;124m'\u001b[39m: filename, \u001b[38;5;124m\"\u001b[39m\u001b[38;5;124mround\u001b[39m\u001b[38;5;124m\"\u001b[39m: round_num}\n\u001b[1;32m    201\u001b[0m dataset_url \u001b[38;5;241m=\u001b[39m \u001b[38;5;28mself\u001b[39m\u001b[38;5;241m.\u001b[39mraw_query(query, args)[\u001b[38;5;124m'\u001b[39m\u001b[38;5;124mdata\u001b[39m\u001b[38;5;124m'\u001b[39m][\u001b[38;5;124m'\u001b[39m\u001b[38;5;124mdataset\u001b[39m\u001b[38;5;124m'\u001b[39m]\n\u001b[0;32m--> 202\u001b[0m \u001b[43mutils\u001b[49m\u001b[38;5;241;43m.\u001b[39;49m\u001b[43mdownload_file\u001b[49m\u001b[43m(\u001b[49m\u001b[43mdataset_url\u001b[49m\u001b[43m,\u001b[49m\u001b[43m \u001b[49m\u001b[43mdest_path\u001b[49m\u001b[43m,\u001b[49m\u001b[43m \u001b[49m\u001b[38;5;28;43mself\u001b[39;49m\u001b[38;5;241;43m.\u001b[39;49m\u001b[43mshow_progress_bars\u001b[49m\u001b[43m)\u001b[49m\n\u001b[1;32m    203\u001b[0m \u001b[38;5;28;01mreturn\u001b[39;00m dest_path\n",
      "File \u001b[0;32m~/.cache/pypoetry/virtualenvs/collapsedwave-FzXm3nz_-py3.12/lib/python3.12/site-packages/numerapi/utils.py:85\u001b[0m, in \u001b[0;36mdownload_file\u001b[0;34m(url, dest_path, show_progress_bars)\u001b[0m\n\u001b[1;32m     83\u001b[0m pbar\u001b[38;5;241m.\u001b[39mupdate(file_size)\n\u001b[1;32m     84\u001b[0m \u001b[38;5;28;01mwith\u001b[39;00m \u001b[38;5;28mopen\u001b[39m(temp_path, \u001b[38;5;124m\"\u001b[39m\u001b[38;5;124mab\u001b[39m\u001b[38;5;124m\"\u001b[39m) \u001b[38;5;28;01mas\u001b[39;00m dest_file:\n\u001b[0;32m---> 85\u001b[0m \u001b[43m    \u001b[49m\u001b[38;5;28;43;01mfor\u001b[39;49;00m\u001b[43m \u001b[49m\u001b[43mchunk\u001b[49m\u001b[43m \u001b[49m\u001b[38;5;129;43;01min\u001b[39;49;00m\u001b[43m \u001b[49m\u001b[43mreq\u001b[49m\u001b[38;5;241;43m.\u001b[39;49m\u001b[43miter_content\u001b[49m\u001b[43m(\u001b[49m\u001b[38;5;241;43m1024\u001b[39;49m\u001b[43m)\u001b[49m\u001b[43m:\u001b[49m\n\u001b[1;32m     86\u001b[0m \u001b[43m        \u001b[49m\u001b[43mdest_file\u001b[49m\u001b[38;5;241;43m.\u001b[39;49m\u001b[43mwrite\u001b[49m\u001b[43m(\u001b[49m\u001b[43mchunk\u001b[49m\u001b[43m)\u001b[49m\n\u001b[1;32m     87\u001b[0m \u001b[43m        \u001b[49m\u001b[43mpbar\u001b[49m\u001b[38;5;241;43m.\u001b[39;49m\u001b[43mupdate\u001b[49m\u001b[43m(\u001b[49m\u001b[38;5;241;43m1024\u001b[39;49m\u001b[43m)\u001b[49m\n",
      "File \u001b[0;32m~/.cache/pypoetry/virtualenvs/collapsedwave-FzXm3nz_-py3.12/lib/python3.12/site-packages/requests/models.py:820\u001b[0m, in \u001b[0;36mResponse.iter_content.<locals>.generate\u001b[0;34m()\u001b[0m\n\u001b[1;32m    818\u001b[0m \u001b[38;5;28;01mif\u001b[39;00m \u001b[38;5;28mhasattr\u001b[39m(\u001b[38;5;28mself\u001b[39m\u001b[38;5;241m.\u001b[39mraw, \u001b[38;5;124m\"\u001b[39m\u001b[38;5;124mstream\u001b[39m\u001b[38;5;124m\"\u001b[39m):\n\u001b[1;32m    819\u001b[0m     \u001b[38;5;28;01mtry\u001b[39;00m:\n\u001b[0;32m--> 820\u001b[0m         \u001b[38;5;28;01myield from\u001b[39;00m \u001b[38;5;28mself\u001b[39m\u001b[38;5;241m.\u001b[39mraw\u001b[38;5;241m.\u001b[39mstream(chunk_size, decode_content\u001b[38;5;241m=\u001b[39m\u001b[38;5;28;01mTrue\u001b[39;00m)\n\u001b[1;32m    821\u001b[0m     \u001b[38;5;28;01mexcept\u001b[39;00m ProtocolError \u001b[38;5;28;01mas\u001b[39;00m e:\n\u001b[1;32m    822\u001b[0m         \u001b[38;5;28;01mraise\u001b[39;00m ChunkedEncodingError(e)\n",
      "File \u001b[0;32m~/.cache/pypoetry/virtualenvs/collapsedwave-FzXm3nz_-py3.12/lib/python3.12/site-packages/urllib3/response.py:1043\u001b[0m, in \u001b[0;36mHTTPResponse.stream\u001b[0;34m(self, amt, decode_content)\u001b[0m\n\u001b[1;32m   1041\u001b[0m \u001b[38;5;28;01melse\u001b[39;00m:\n\u001b[1;32m   1042\u001b[0m     \u001b[38;5;28;01mwhile\u001b[39;00m \u001b[38;5;129;01mnot\u001b[39;00m is_fp_closed(\u001b[38;5;28mself\u001b[39m\u001b[38;5;241m.\u001b[39m_fp) \u001b[38;5;129;01mor\u001b[39;00m \u001b[38;5;28mlen\u001b[39m(\u001b[38;5;28mself\u001b[39m\u001b[38;5;241m.\u001b[39m_decoded_buffer) \u001b[38;5;241m>\u001b[39m \u001b[38;5;241m0\u001b[39m:\n\u001b[0;32m-> 1043\u001b[0m         data \u001b[38;5;241m=\u001b[39m \u001b[38;5;28;43mself\u001b[39;49m\u001b[38;5;241;43m.\u001b[39;49m\u001b[43mread\u001b[49m\u001b[43m(\u001b[49m\u001b[43mamt\u001b[49m\u001b[38;5;241;43m=\u001b[39;49m\u001b[43mamt\u001b[49m\u001b[43m,\u001b[49m\u001b[43m \u001b[49m\u001b[43mdecode_content\u001b[49m\u001b[38;5;241;43m=\u001b[39;49m\u001b[43mdecode_content\u001b[49m\u001b[43m)\u001b[49m\n\u001b[1;32m   1045\u001b[0m         \u001b[38;5;28;01mif\u001b[39;00m data:\n\u001b[1;32m   1046\u001b[0m             \u001b[38;5;28;01myield\u001b[39;00m data\n",
      "File \u001b[0;32m~/.cache/pypoetry/virtualenvs/collapsedwave-FzXm3nz_-py3.12/lib/python3.12/site-packages/urllib3/response.py:935\u001b[0m, in \u001b[0;36mHTTPResponse.read\u001b[0;34m(self, amt, decode_content, cache_content)\u001b[0m\n\u001b[1;32m    932\u001b[0m     \u001b[38;5;28;01mif\u001b[39;00m \u001b[38;5;28mlen\u001b[39m(\u001b[38;5;28mself\u001b[39m\u001b[38;5;241m.\u001b[39m_decoded_buffer) \u001b[38;5;241m>\u001b[39m\u001b[38;5;241m=\u001b[39m amt:\n\u001b[1;32m    933\u001b[0m         \u001b[38;5;28;01mreturn\u001b[39;00m \u001b[38;5;28mself\u001b[39m\u001b[38;5;241m.\u001b[39m_decoded_buffer\u001b[38;5;241m.\u001b[39mget(amt)\n\u001b[0;32m--> 935\u001b[0m data \u001b[38;5;241m=\u001b[39m \u001b[38;5;28;43mself\u001b[39;49m\u001b[38;5;241;43m.\u001b[39;49m\u001b[43m_raw_read\u001b[49m\u001b[43m(\u001b[49m\u001b[43mamt\u001b[49m\u001b[43m)\u001b[49m\n\u001b[1;32m    937\u001b[0m flush_decoder \u001b[38;5;241m=\u001b[39m amt \u001b[38;5;129;01mis\u001b[39;00m \u001b[38;5;28;01mNone\u001b[39;00m \u001b[38;5;129;01mor\u001b[39;00m (amt \u001b[38;5;241m!=\u001b[39m \u001b[38;5;241m0\u001b[39m \u001b[38;5;129;01mand\u001b[39;00m \u001b[38;5;129;01mnot\u001b[39;00m data)\n\u001b[1;32m    939\u001b[0m \u001b[38;5;28;01mif\u001b[39;00m \u001b[38;5;129;01mnot\u001b[39;00m data \u001b[38;5;129;01mand\u001b[39;00m \u001b[38;5;28mlen\u001b[39m(\u001b[38;5;28mself\u001b[39m\u001b[38;5;241m.\u001b[39m_decoded_buffer) \u001b[38;5;241m==\u001b[39m \u001b[38;5;241m0\u001b[39m:\n",
      "File \u001b[0;32m~/.cache/pypoetry/virtualenvs/collapsedwave-FzXm3nz_-py3.12/lib/python3.12/site-packages/urllib3/response.py:862\u001b[0m, in \u001b[0;36mHTTPResponse._raw_read\u001b[0;34m(self, amt, read1)\u001b[0m\n\u001b[1;32m    859\u001b[0m fp_closed \u001b[38;5;241m=\u001b[39m \u001b[38;5;28mgetattr\u001b[39m(\u001b[38;5;28mself\u001b[39m\u001b[38;5;241m.\u001b[39m_fp, \u001b[38;5;124m\"\u001b[39m\u001b[38;5;124mclosed\u001b[39m\u001b[38;5;124m\"\u001b[39m, \u001b[38;5;28;01mFalse\u001b[39;00m)\n\u001b[1;32m    861\u001b[0m \u001b[38;5;28;01mwith\u001b[39;00m \u001b[38;5;28mself\u001b[39m\u001b[38;5;241m.\u001b[39m_error_catcher():\n\u001b[0;32m--> 862\u001b[0m     data \u001b[38;5;241m=\u001b[39m \u001b[38;5;28;43mself\u001b[39;49m\u001b[38;5;241;43m.\u001b[39;49m\u001b[43m_fp_read\u001b[49m\u001b[43m(\u001b[49m\u001b[43mamt\u001b[49m\u001b[43m,\u001b[49m\u001b[43m \u001b[49m\u001b[43mread1\u001b[49m\u001b[38;5;241;43m=\u001b[39;49m\u001b[43mread1\u001b[49m\u001b[43m)\u001b[49m \u001b[38;5;28;01mif\u001b[39;00m \u001b[38;5;129;01mnot\u001b[39;00m fp_closed \u001b[38;5;28;01melse\u001b[39;00m \u001b[38;5;124mb\u001b[39m\u001b[38;5;124m\"\u001b[39m\u001b[38;5;124m\"\u001b[39m\n\u001b[1;32m    863\u001b[0m     \u001b[38;5;28;01mif\u001b[39;00m amt \u001b[38;5;129;01mis\u001b[39;00m \u001b[38;5;129;01mnot\u001b[39;00m \u001b[38;5;28;01mNone\u001b[39;00m \u001b[38;5;129;01mand\u001b[39;00m amt \u001b[38;5;241m!=\u001b[39m \u001b[38;5;241m0\u001b[39m \u001b[38;5;129;01mand\u001b[39;00m \u001b[38;5;129;01mnot\u001b[39;00m data:\n\u001b[1;32m    864\u001b[0m         \u001b[38;5;66;03m# Platform-specific: Buggy versions of Python.\u001b[39;00m\n\u001b[1;32m    865\u001b[0m         \u001b[38;5;66;03m# Close the connection when no data is returned\u001b[39;00m\n\u001b[0;32m   (...)\u001b[0m\n\u001b[1;32m    870\u001b[0m         \u001b[38;5;66;03m# not properly close the connection in all cases. There is\u001b[39;00m\n\u001b[1;32m    871\u001b[0m         \u001b[38;5;66;03m# no harm in redundantly calling close.\u001b[39;00m\n\u001b[1;32m    872\u001b[0m         \u001b[38;5;28mself\u001b[39m\u001b[38;5;241m.\u001b[39m_fp\u001b[38;5;241m.\u001b[39mclose()\n",
      "File \u001b[0;32m~/.cache/pypoetry/virtualenvs/collapsedwave-FzXm3nz_-py3.12/lib/python3.12/site-packages/urllib3/response.py:845\u001b[0m, in \u001b[0;36mHTTPResponse._fp_read\u001b[0;34m(self, amt, read1)\u001b[0m\n\u001b[1;32m    842\u001b[0m     \u001b[38;5;28;01mreturn\u001b[39;00m \u001b[38;5;28mself\u001b[39m\u001b[38;5;241m.\u001b[39m_fp\u001b[38;5;241m.\u001b[39mread1(amt) \u001b[38;5;28;01mif\u001b[39;00m amt \u001b[38;5;129;01mis\u001b[39;00m \u001b[38;5;129;01mnot\u001b[39;00m \u001b[38;5;28;01mNone\u001b[39;00m \u001b[38;5;28;01melse\u001b[39;00m \u001b[38;5;28mself\u001b[39m\u001b[38;5;241m.\u001b[39m_fp\u001b[38;5;241m.\u001b[39mread1()\n\u001b[1;32m    843\u001b[0m \u001b[38;5;28;01melse\u001b[39;00m:\n\u001b[1;32m    844\u001b[0m     \u001b[38;5;66;03m# StringIO doesn't like amt=None\u001b[39;00m\n\u001b[0;32m--> 845\u001b[0m     \u001b[38;5;28;01mreturn\u001b[39;00m \u001b[38;5;28;43mself\u001b[39;49m\u001b[38;5;241;43m.\u001b[39;49m\u001b[43m_fp\u001b[49m\u001b[38;5;241;43m.\u001b[39;49m\u001b[43mread\u001b[49m\u001b[43m(\u001b[49m\u001b[43mamt\u001b[49m\u001b[43m)\u001b[49m \u001b[38;5;28;01mif\u001b[39;00m amt \u001b[38;5;129;01mis\u001b[39;00m \u001b[38;5;129;01mnot\u001b[39;00m \u001b[38;5;28;01mNone\u001b[39;00m \u001b[38;5;28;01melse\u001b[39;00m \u001b[38;5;28mself\u001b[39m\u001b[38;5;241m.\u001b[39m_fp\u001b[38;5;241m.\u001b[39mread()\n",
      "File \u001b[0;32m/usr/lib/python3.12/http/client.py:479\u001b[0m, in \u001b[0;36mHTTPResponse.read\u001b[0;34m(self, amt)\u001b[0m\n\u001b[1;32m    476\u001b[0m \u001b[38;5;28;01mif\u001b[39;00m \u001b[38;5;28mself\u001b[39m\u001b[38;5;241m.\u001b[39mlength \u001b[38;5;129;01mis\u001b[39;00m \u001b[38;5;129;01mnot\u001b[39;00m \u001b[38;5;28;01mNone\u001b[39;00m \u001b[38;5;129;01mand\u001b[39;00m amt \u001b[38;5;241m>\u001b[39m \u001b[38;5;28mself\u001b[39m\u001b[38;5;241m.\u001b[39mlength:\n\u001b[1;32m    477\u001b[0m     \u001b[38;5;66;03m# clip the read to the \"end of response\"\u001b[39;00m\n\u001b[1;32m    478\u001b[0m     amt \u001b[38;5;241m=\u001b[39m \u001b[38;5;28mself\u001b[39m\u001b[38;5;241m.\u001b[39mlength\n\u001b[0;32m--> 479\u001b[0m s \u001b[38;5;241m=\u001b[39m \u001b[38;5;28;43mself\u001b[39;49m\u001b[38;5;241;43m.\u001b[39;49m\u001b[43mfp\u001b[49m\u001b[38;5;241;43m.\u001b[39;49m\u001b[43mread\u001b[49m\u001b[43m(\u001b[49m\u001b[43mamt\u001b[49m\u001b[43m)\u001b[49m\n\u001b[1;32m    480\u001b[0m \u001b[38;5;28;01mif\u001b[39;00m \u001b[38;5;129;01mnot\u001b[39;00m s \u001b[38;5;129;01mand\u001b[39;00m amt:\n\u001b[1;32m    481\u001b[0m     \u001b[38;5;66;03m# Ideally, we would raise IncompleteRead if the content-length\u001b[39;00m\n\u001b[1;32m    482\u001b[0m     \u001b[38;5;66;03m# wasn't satisfied, but it might break compatibility.\u001b[39;00m\n\u001b[1;32m    483\u001b[0m     \u001b[38;5;28mself\u001b[39m\u001b[38;5;241m.\u001b[39m_close_conn()\n",
      "File \u001b[0;32m/usr/lib/python3.12/socket.py:707\u001b[0m, in \u001b[0;36mSocketIO.readinto\u001b[0;34m(self, b)\u001b[0m\n\u001b[1;32m    705\u001b[0m \u001b[38;5;28;01mwhile\u001b[39;00m \u001b[38;5;28;01mTrue\u001b[39;00m:\n\u001b[1;32m    706\u001b[0m     \u001b[38;5;28;01mtry\u001b[39;00m:\n\u001b[0;32m--> 707\u001b[0m         \u001b[38;5;28;01mreturn\u001b[39;00m \u001b[38;5;28;43mself\u001b[39;49m\u001b[38;5;241;43m.\u001b[39;49m\u001b[43m_sock\u001b[49m\u001b[38;5;241;43m.\u001b[39;49m\u001b[43mrecv_into\u001b[49m\u001b[43m(\u001b[49m\u001b[43mb\u001b[49m\u001b[43m)\u001b[49m\n\u001b[1;32m    708\u001b[0m     \u001b[38;5;28;01mexcept\u001b[39;00m timeout:\n\u001b[1;32m    709\u001b[0m         \u001b[38;5;28mself\u001b[39m\u001b[38;5;241m.\u001b[39m_timeout_occurred \u001b[38;5;241m=\u001b[39m \u001b[38;5;28;01mTrue\u001b[39;00m\n",
      "File \u001b[0;32m/usr/lib/python3.12/ssl.py:1252\u001b[0m, in \u001b[0;36mSSLSocket.recv_into\u001b[0;34m(self, buffer, nbytes, flags)\u001b[0m\n\u001b[1;32m   1248\u001b[0m     \u001b[38;5;28;01mif\u001b[39;00m flags \u001b[38;5;241m!=\u001b[39m \u001b[38;5;241m0\u001b[39m:\n\u001b[1;32m   1249\u001b[0m         \u001b[38;5;28;01mraise\u001b[39;00m \u001b[38;5;167;01mValueError\u001b[39;00m(\n\u001b[1;32m   1250\u001b[0m           \u001b[38;5;124m\"\u001b[39m\u001b[38;5;124mnon-zero flags not allowed in calls to recv_into() on \u001b[39m\u001b[38;5;132;01m%s\u001b[39;00m\u001b[38;5;124m\"\u001b[39m \u001b[38;5;241m%\u001b[39m\n\u001b[1;32m   1251\u001b[0m           \u001b[38;5;28mself\u001b[39m\u001b[38;5;241m.\u001b[39m\u001b[38;5;18m__class__\u001b[39m)\n\u001b[0;32m-> 1252\u001b[0m     \u001b[38;5;28;01mreturn\u001b[39;00m \u001b[38;5;28;43mself\u001b[39;49m\u001b[38;5;241;43m.\u001b[39;49m\u001b[43mread\u001b[49m\u001b[43m(\u001b[49m\u001b[43mnbytes\u001b[49m\u001b[43m,\u001b[49m\u001b[43m \u001b[49m\u001b[43mbuffer\u001b[49m\u001b[43m)\u001b[49m\n\u001b[1;32m   1253\u001b[0m \u001b[38;5;28;01melse\u001b[39;00m:\n\u001b[1;32m   1254\u001b[0m     \u001b[38;5;28;01mreturn\u001b[39;00m \u001b[38;5;28msuper\u001b[39m()\u001b[38;5;241m.\u001b[39mrecv_into(buffer, nbytes, flags)\n",
      "File \u001b[0;32m/usr/lib/python3.12/ssl.py:1104\u001b[0m, in \u001b[0;36mSSLSocket.read\u001b[0;34m(self, len, buffer)\u001b[0m\n\u001b[1;32m   1102\u001b[0m \u001b[38;5;28;01mtry\u001b[39;00m:\n\u001b[1;32m   1103\u001b[0m     \u001b[38;5;28;01mif\u001b[39;00m buffer \u001b[38;5;129;01mis\u001b[39;00m \u001b[38;5;129;01mnot\u001b[39;00m \u001b[38;5;28;01mNone\u001b[39;00m:\n\u001b[0;32m-> 1104\u001b[0m         \u001b[38;5;28;01mreturn\u001b[39;00m \u001b[38;5;28;43mself\u001b[39;49m\u001b[38;5;241;43m.\u001b[39;49m\u001b[43m_sslobj\u001b[49m\u001b[38;5;241;43m.\u001b[39;49m\u001b[43mread\u001b[49m\u001b[43m(\u001b[49m\u001b[38;5;28;43mlen\u001b[39;49m\u001b[43m,\u001b[49m\u001b[43m \u001b[49m\u001b[43mbuffer\u001b[49m\u001b[43m)\u001b[49m\n\u001b[1;32m   1105\u001b[0m     \u001b[38;5;28;01melse\u001b[39;00m:\n\u001b[1;32m   1106\u001b[0m         \u001b[38;5;28;01mreturn\u001b[39;00m \u001b[38;5;28mself\u001b[39m\u001b[38;5;241m.\u001b[39m_sslobj\u001b[38;5;241m.\u001b[39mread(\u001b[38;5;28mlen\u001b[39m)\n",
      "\u001b[0;31mKeyboardInterrupt\u001b[0m: "
     ]
    }
   ],
   "source": [
    "napi = NumerAPI()\n",
    "# Use int8 to save on storage and memory\n",
    "remote_file = \"v4.3/train_int8.parquet\"\n",
    "local_file = os.path.join(\"data\", remote_file)\n",
    "napi.download_dataset(remote_file, dest_path=local_file)\n",
    "training_data = pd.read_parquet(local_file)"
   ]
  },
  {
   "cell_type": "markdown",
   "id": "c1c163dce44411bd",
   "metadata": {
    "collapsed": false
   },
   "source": [
    "# Template Model"
   ]
  },
  {
   "cell_type": "code",
   "id": "63fe643489961e47",
   "metadata": {
    "collapsed": false
   },
   "outputs": [],
   "source": [
    "features = [f for f in training_data.columns if \"feature\" in f]\n",
    "\n",
    "model = lgb.LGBMRegressor(\n",
    "    n_estimators=2000,\n",
    "    learning_rate=0.01,\n",
    "    max_depth=5,\n",
    "    num_leaves=2 ** 5,\n",
    "    colsample_bytree=0.1\n",
    ")\n",
    "model.fit(\n",
    "    training_data[features],\n",
    "    training_data[\"target\"]\n",
    ")"
   ]
  },
  {
   "cell_type": "markdown",
   "id": "bd12103680c6386",
   "metadata": {
    "collapsed": false
   },
   "source": [
    "# Submit forecast"
   ]
  },
  {
   "cell_type": "markdown",
   "id": "ae2281b41523bc02",
   "metadata": {
    "collapsed": false
   },
   "source": [
    "See the docs on https://docs.numer.ai"
   ]
  },
  {
   "cell_type": "code",
   "id": "93dbee6f6c7dfdde",
   "metadata": {
    "collapsed": false
   },
   "outputs": [],
   "source": []
  }
 ],
 "metadata": {
  "kernelspec": {
   "display_name": "Python 3",
   "language": "python",
   "name": "python3"
  },
  "language_info": {
   "codemirror_mode": {
    "name": "ipython",
    "version": 3
   },
   "file_extension": ".py",
   "mimetype": "text/x-python",
   "name": "python",
   "nbconvert_exporter": "python",
   "pygments_lexer": "ipython3",
   "version": "3.12.3"
  }
 },
 "nbformat": 4,
 "nbformat_minor": 5
}