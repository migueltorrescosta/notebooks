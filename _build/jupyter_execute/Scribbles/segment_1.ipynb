{
 "cells": [
  {
   "cell_type": "markdown",
   "metadata": {},
   "source": [
    "# Getting Volumes"
   ]
  },
  {
   "cell_type": "code",
   "execution_count": 112,
   "metadata": {},
   "outputs": [],
   "source": [
    "import numpy as np\n",
    "from matplotlib import pyplot as plt"
   ]
  },
  {
   "cell_type": "code",
   "execution_count": 94,
   "metadata": {},
   "outputs": [],
   "source": [
    "from sklearn.preprocessing import PolynomialFeatures\n",
    "from sklearn import linear_model\n",
    "\n",
    "x = np.array(\n",
    "    [\n",
    "        347.84015625,\n",
    "        316.726875,\n",
    "        285.69953125,\n",
    "        255.56671875,\n",
    "        241.04328125,\n",
    "        229.8675,\n",
    "        220.93,\n",
    "        212.88703125,\n",
    "        209.55109375,\n",
    "        203.7346875,\n",
    "        199.9925,\n",
    "    ]\n",
    ")\n",
    "y = np.array(\n",
    "    [\n",
    "        -50.44171875,\n",
    "        -51.33234375,\n",
    "        -52.07453125,\n",
    "        -56.2971875,\n",
    "        -62.070625,\n",
    "        -67.1878125,\n",
    "        -78.51984375,\n",
    "        -90.7503125,\n",
    "        -105.02765625,\n",
    "        -121.2503125,\n",
    "        -141.2346875,\n",
    "    ]\n",
    ")"
   ]
  },
  {
   "cell_type": "code",
   "execution_count": 95,
   "metadata": {},
   "outputs": [
    {
     "data": {
      "text/plain": [
       "<matplotlib.collections.PathCollection at 0x7f7132f0cf70>"
      ]
     },
     "execution_count": 95,
     "metadata": {},
     "output_type": "execute_result"
    },
    {
     "data": {
      "image/png": "[encoded data removed]",
      "text/plain": [
       "<Figure size 432x288 with 1 Axes>"
      ]
     },
     "metadata": {
      "needs_background": "light"
     },
     "output_type": "display_data"
    }
   ],
   "source": [
    "plt.scatter(x, y)"
   ]
  },
  {
   "cell_type": "code",
   "execution_count": 87,
   "metadata": {},
   "outputs": [],
   "source": [
    "coeffs = np.polyfit(x, y, deg=2)"
   ]
  },
  {
   "cell_type": "code",
   "execution_count": 91,
   "metadata": {},
   "outputs": [],
   "source": [
    "def function(t):\n",
    "    return coeffs[0] * t * t + coeffs[1] * t + coeffs[2]"
   ]
  },
  {
   "cell_type": "code",
   "execution_count": 92,
   "metadata": {},
   "outputs": [],
   "source": [
    "x_axis = np.linspace(200, 350, 151)\n",
    "y_axis = [function(t) for t in x_axis]"
   ]
  },
  {
   "cell_type": "code",
   "execution_count": 93,
   "metadata": {},
   "outputs": [
    {
     "data": {
      "text/plain": [
       "<matplotlib.collections.PathCollection at 0x7f712ecb4520>"
      ]
     },
     "execution_count": 93,
     "metadata": {},
     "output_type": "execute_result"
    },
    {
     "data": {
      "image/png": "[encoded data removed]",
      "text/plain": [
       "<Figure size 432x288 with 1 Axes>"
      ]
     },
     "metadata": {
      "needs_background": "light"
     },
     "output_type": "display_data"
    }
   ],
   "source": [
    "plt.scatter(x_axis, y_axis)"
   ]
  },
  {
   "cell_type": "code",
   "execution_count": 109,
   "metadata": {},
   "outputs": [],
   "source": [
    "def volume(coeffs, left, right):\n",
    "    a = coeffs[0]\n",
    "    b = coeffs[1]\n",
    "    c = coeffs[2]\n",
    "    integral = (\n",
    "        lambda t: (a**2 * (t**5) / 5)\n",
    "        + (a * b * t**4 / 2)\n",
    "        + ((2 * a * c + b**2) * t**3 / 3)\n",
    "        + (b * c * t**2)\n",
    "        + (c**2 * t)\n",
    "    )\n",
    "    return integral(right) - integral(left)"
   ]
  },
  {
   "cell_type": "code",
   "execution_count": 110,
   "metadata": {},
   "outputs": [
    {
     "data": {
      "text/plain": [
       "572775.010608688"
      ]
     },
     "execution_count": 110,
     "metadata": {},
     "output_type": "execute_result"
    }
   ],
   "source": [
    "volume(coeffs, 200, 340)"
   ]
  },
  {
   "cell_type": "code",
   "execution_count": null,
   "metadata": {},
   "outputs": [],
   "source": []
  }
 ],
 "metadata": {
  "kernelspec": {
   "display_name": "Python 3",
   "language": "python",
   "name": "python3"
  },
  "language_info": {
   "codemirror_mode": {
    "name": "ipython",
    "version": 3
   },
   "file_extension": ".py",
   "mimetype": "text/x-python",
   "name": "python",
   "nbconvert_exporter": "python",
   "pygments_lexer": "ipython3",
   "version": "3.8.2"
  }
 },
 "nbformat": 4,
 "nbformat_minor": 4
}