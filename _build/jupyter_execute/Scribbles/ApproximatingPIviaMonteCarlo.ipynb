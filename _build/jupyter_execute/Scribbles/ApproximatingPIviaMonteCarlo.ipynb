{
 "cells": [
  {
   "cell_type": "markdown",
   "metadata": {},
   "source": [
    "# Approximating $\\pi$ via Monte Carlo"
   ]
  },
  {
   "cell_type": "code",
   "execution_count": 1,
   "metadata": {},
   "outputs": [],
   "source": [
    "import numpy as np"
   ]
  },
  {
   "cell_type": "markdown",
   "metadata": {},
   "source": [
    "# Aux functions"
   ]
  },
  {
   "cell_type": "code",
   "execution_count": 2,
   "metadata": {},
   "outputs": [],
   "source": [
    "# Generates random points on the square x,y in [-1,1]\n",
    "def sample_points(n):\n",
    "    x_coordinates = list(map(lambda x: 2 * x - 1, np.random.rand(n)))\n",
    "    y_coordinates = list(map(lambda x: 2 * x - 1, np.random.rand(n)))\n",
    "    points = list(zip(x_coordinates, y_coordinates))\n",
    "    return points\n",
    "\n",
    "\n",
    "# Returns true if a point is inside the unit circle\n",
    "\n",
    "\n",
    "def valid_point(x):\n",
    "    return x[0] ** 2 + x[1] ** 2 <= 1\n",
    "\n",
    "\n",
    "# Returns the percentage of points inside the unit circle\n",
    "\n",
    "\n",
    "def percentage_of_valid_points(points):\n",
    "    number_of_valid_points = sum(map(lambda x: valid_point(x), points))\n",
    "    return number_of_valid_points * 1.0 / len(points)\n",
    "\n",
    "\n",
    "# Given a percentage p of points inside the circle, returns an approximation of PI\n",
    "\n",
    "\n",
    "def pi_approximation(p):\n",
    "    return 4 * p\n",
    "\n",
    "\n",
    "# Runs the above functions in order\n",
    "\n",
    "\n",
    "def pipeline(n):\n",
    "    points = sample_points(n)\n",
    "    p = percentage_of_valid_points(points)\n",
    "    return pi_approximation(p)"
   ]
  },
  {
   "cell_type": "markdown",
   "metadata": {},
   "source": [
    "# Defining variables"
   ]
  },
  {
   "cell_type": "code",
   "execution_count": 3,
   "metadata": {},
   "outputs": [],
   "source": [
    "number_of_points = 10**7"
   ]
  },
  {
   "cell_type": "markdown",
   "metadata": {},
   "source": [
    "# Running the script"
   ]
  },
  {
   "cell_type": "code",
   "execution_count": 4,
   "metadata": {},
   "outputs": [
    {
     "data": {
      "text/plain": [
       "3.1423784000000001"
      ]
     },
     "execution_count": 4,
     "metadata": {},
     "output_type": "execute_result"
    }
   ],
   "source": [
    "pipeline(number_of_points)"
   ]
  },
  {
   "cell_type": "markdown",
   "metadata": {},
   "source": [
    "### TODO: Plot the pi approximation as the number of samples increase (maybe use log scale for better view of the process)."
   ]
  }
 ],
 "metadata": {
  "kernelspec": {
   "display_name": "Python 3",
   "language": "python",
   "name": "python3"
  },
  "language_info": {
   "codemirror_mode": {
    "name": "ipython",
    "version": 3
   },
   "file_extension": ".py",
   "mimetype": "text/x-python",
   "name": "python",
   "nbconvert_exporter": "python",
   "pygments_lexer": "ipython3",
   "version": "3.5.2"
  }
 },
 "nbformat": 4,
 "nbformat_minor": 2
}