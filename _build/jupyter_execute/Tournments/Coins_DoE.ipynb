{
 "cells": [
  {
   "cell_type": "code",
   "execution_count": 1,
   "id": "pleased-commercial",
   "metadata": {},
   "outputs": [],
   "source": [
    "import pandas as pd\n",
    "from numpy import geomspace\n",
    "import itertools\n",
    "import random\n",
    "from tqdm import tqdm"
   ]
  },
  {
   "cell_type": "markdown",
   "id": "continued-amino",
   "metadata": {},
   "source": [
    "# CoinOracle Class"
   ]
  },
  {
   "cell_type": "code",
   "execution_count": 2,
   "id": "environmental-wisconsin",
   "metadata": {},
   "outputs": [],
   "source": [
    "class CoinOracle:\n",
    "    def __init__(self, n_coins, secret_coin, is_heavier):\n",
    "\n",
    "        assert secret_coin <= n_coins\n",
    "\n",
    "        # Secret attributes\n",
    "        self.__secret_coin = secret_coin\n",
    "        self.__is_heavier = is_heavier\n",
    "        self.__coin_weights = list([5 for _ in range(n_coins + 1)])\n",
    "        self.__coin_weights[secret_coin] = 5.1 if is_heavier else 4.9\n",
    "        self.__experiment_results = []\n",
    "        self.__check_guess_count = 0\n",
    "\n",
    "    def __repr__(self):\n",
    "        return f\"CoinOracle: {self.n_coins} coins and {self.n_tests} tests made\"\n",
    "\n",
    "    def __weight(self, coin_list):\n",
    "        return sum([self.__coin_weights[i] for i in coin_list])\n",
    "\n",
    "    # Accessible attributes\n",
    "    @property\n",
    "    def n_coins(self):\n",
    "        return len(self.__coin_weights) - 1\n",
    "\n",
    "    @property\n",
    "    def n_tests(self):\n",
    "        return len(self.__experiment_results)\n",
    "\n",
    "    @property\n",
    "    def experiment_results(self):\n",
    "        return self.__experiment_results\n",
    "\n",
    "    # Key methods\n",
    "    def is_left_side_heavier(self, left_side, right_side):\n",
    "        if self.__weight(left_side) > self.__weight(right_side):\n",
    "            result = 1\n",
    "        elif self.__weight(left_side) < self.__weight(right_side):\n",
    "            result = -1\n",
    "        else:\n",
    "            result = 0\n",
    "        self.experiment_results.append((left_side, right_side, result))\n",
    "        return result\n",
    "\n",
    "    def check_guess(self, secret_coin, is_heavier):\n",
    "        self.__check_guess_count += 1\n",
    "        return secret_coin == self.__secret_coin and is_heavier == self.__is_heavier"
   ]
  },
  {
   "cell_type": "markdown",
   "id": "egyptian-drive",
   "metadata": {},
   "source": [
    "# Solutions"
   ]
  },
  {
   "cell_type": "markdown",
   "id": "accepted-revision",
   "metadata": {},
   "source": [
    "### Marta"
   ]
  },
  {
   "cell_type": "code",
   "execution_count": 3,
   "id": "resistant-wallpaper",
   "metadata": {},
   "outputs": [],
   "source": [
    "def marta(temp_oracle):\n",
    "    coins = list(range(temp_oracle.n_coins + 1))\n",
    "    last_weigh_diff = ([], None)  # left group, weigh in result\n",
    "\n",
    "    while True:\n",
    "        if len(coins) == 2:\n",
    "            break\n",
    "\n",
    "        chunk_size = len(coins) // 3\n",
    "        chunks = [\n",
    "            coins[i * chunk_size : (i + 1) * chunk_size]\n",
    "            for i in range((len(coins) + chunk_size - 1) // chunk_size)\n",
    "        ]\n",
    "\n",
    "        lf_sd_heavier = temp_oracle.is_left_side_heavier(chunks[0], chunks[1])\n",
    "        if lf_sd_heavier == 0:\n",
    "            coins = [0]\n",
    "            for i in range(2, len(chunks)):\n",
    "                coins += chunks[i]\n",
    "        else:\n",
    "            coins = chunks[0] + chunks[1]\n",
    "            last_weigh_diff = (chunks[0], lf_sd_heavier)\n",
    "\n",
    "    if last_weigh_diff[1] is None:\n",
    "        return (\n",
    "            coins[1],\n",
    "            not temp_oracle.is_left_side_heavier([coins[0]], [coins[1]]) == 1,\n",
    "        )\n",
    "    else:\n",
    "        heavier = (\n",
    "            last_weigh_diff[1] * -1\n",
    "            if coins[1] in last_weigh_diff[0]\n",
    "            else last_weigh_diff[1]\n",
    "        )\n",
    "        return coins[1], not heavier == 1"
   ]
  },
  {
   "cell_type": "markdown",
   "id": "renewable-mexican",
   "metadata": {},
   "source": [
    "### João Carmo"
   ]
  },
  {
   "cell_type": "code",
   "execution_count": 4,
   "id": "gross-manor",
   "metadata": {},
   "outputs": [],
   "source": [
    "from math import floor\n",
    "from typing import List, Tuple\n",
    "\n",
    "# Let the result of is_left_side_heavier(L, R) be one of (-1, 0, 1) as RESULT\n",
    "# The Scenarios Metric below is given by the tuple:\n",
    "# (Sum of RESULT, Sum of abs(RESULT), RESULT(A vs. B))\n",
    "HEAVY_IN_A = (2, 2, 1)\n",
    "HEAVY_IN_B = (0, 2, -1)\n",
    "HEAVY_IN_C = (-2, 2, 0)\n",
    "LIGHT_IN_A = (-2, 2, -1)\n",
    "LIGHT_IN_B = (0, 2, 1)\n",
    "LIGHT_IN_C = (2, 2, 0)\n",
    "\n",
    "\n",
    "def n_sized_split(\n",
    "    original_list: List[int],\n",
    "    n: int,\n",
    ") -> Tuple[List[int], List[int], List[int], List[int]]:\n",
    "    \"\"\"\n",
    "    Returns a list equally divided in 'n' parts and the leftover, assuming the\n",
    "    given list is large enough.\n",
    "    \"\"\"\n",
    "    K = len(original_list)\n",
    "    N = floor(K / n)\n",
    "\n",
    "    split_list = [original_list[i * N : (i + 1) * N] for i in range(0, n)]\n",
    "    rest_list = original_list[n * N :]\n",
    "\n",
    "    split_list.append(rest_list)\n",
    "    return split_list\n",
    "\n",
    "\n",
    "def is_heavier_than_control(temp_oracle, coin: int, control: int = 0) -> bool:\n",
    "    \"\"\"\n",
    "    Determines whether some coin is heavier than the control.\n",
    "    \"\"\"\n",
    "    left = [coin]\n",
    "    right = [control]\n",
    "    result = temp_oracle.is_left_side_heavier(left, right)\n",
    "\n",
    "    if result == 1:\n",
    "        return True\n",
    "\n",
    "    return False\n",
    "\n",
    "\n",
    "def L_vs_R(temp_oracle, L: int, R: int) -> Tuple[int, bool]:\n",
    "    \"\"\"\n",
    "    Determines which coin is heavier, assuming they do not have the same weight.\n",
    "    \"\"\"\n",
    "    coin = 0\n",
    "    is_heavier = None\n",
    "    result_L = temp_oracle.is_left_side_heavier([L], [0])\n",
    "    result_R = temp_oracle.is_left_side_heavier([R], [0])\n",
    "    if result_L == 1:\n",
    "        coin = L\n",
    "        is_heavier = True\n",
    "    elif result_L == -1:\n",
    "        coin = L\n",
    "        is_heavier = False\n",
    "    elif result_R == 1:\n",
    "        coin = R\n",
    "        is_heavier = True\n",
    "    elif result_R == -1:\n",
    "        coin = R\n",
    "        is_heavier = False\n",
    "    return coin, is_heavier\n",
    "\n",
    "\n",
    "def reduce_list(temp_oracle, coin_list: List[int]) -> Tuple[int, bool]:\n",
    "    \"\"\"\n",
    "    Recursive call to reduce a given list of coins until we have the result.\n",
    "    \"\"\"\n",
    "    coin = 0\n",
    "    N = len(coin_list)\n",
    "\n",
    "    # The stop conditions for the recursion which we can easily evaluate\n",
    "    if N == 1:\n",
    "        coin = coin_list[0]\n",
    "        return coin, is_heavier_than_control(temp_oracle, coin)\n",
    "    elif N == 2:\n",
    "        left = coin_list[0]\n",
    "        right = coin_list[1]\n",
    "        return L_vs_R(temp_oracle, left, right)\n",
    "\n",
    "    A, B, C, *rest = n_sized_split(coin_list, 3)\n",
    "    D = rest[0] if len(rest) > 0 else []\n",
    "\n",
    "    # We compare the bundles against each other\n",
    "    result_A_B = temp_oracle.is_left_side_heavier(A, B)\n",
    "    result_A_C = temp_oracle.is_left_side_heavier(A, C)\n",
    "    result_B_C = temp_oracle.is_left_side_heavier(B, C)\n",
    "    # And compute some metrics\n",
    "    result_sum = result_A_B + result_A_C + result_B_C\n",
    "    result_abs_sum = abs(result_A_B) + abs(result_A_C) + abs(result_B_C)\n",
    "\n",
    "    metric = (result_sum, result_abs_sum, result_A_B)\n",
    "\n",
    "    if metric == HEAVY_IN_A or metric == LIGHT_IN_A:\n",
    "        coin = A\n",
    "    elif metric == HEAVY_IN_B or metric == LIGHT_IN_B:\n",
    "        coin = B\n",
    "    elif metric == HEAVY_IN_C or metric == LIGHT_IN_C:\n",
    "        coin = C\n",
    "    else:\n",
    "        coin = D\n",
    "\n",
    "    return reduce_list(temp_oracle, coin)\n",
    "\n",
    "\n",
    "def joao_carmo(temp_oracle) -> Tuple[int, bool]:\n",
    "    # The first coin is a control which we know to be always a good coin\n",
    "    coin = 0\n",
    "    is_heavier = False\n",
    "    N = temp_oracle.n_coins\n",
    "\n",
    "    coin, is_heavier = reduce_list(temp_oracle, list(range(0, N + 1)))\n",
    "\n",
    "    return coin, is_heavier"
   ]
  },
  {
   "cell_type": "markdown",
   "id": "hollow-clerk",
   "metadata": {},
   "source": [
    "### Miguel"
   ]
  },
  {
   "cell_type": "code",
   "execution_count": 5,
   "id": "irish-telephone",
   "metadata": {},
   "outputs": [],
   "source": [
    "def miguel(temp_oracle):\n",
    "    possible_coins = list(range(1, temp_oracle.n_coins + 1))\n",
    "    found_unequal_weights = False\n",
    "\n",
    "    while not found_unequal_weights:\n",
    "        n = len(possible_coins)\n",
    "        left_side = possible_coins[round(n / 3) : round(2 * n / 3)]\n",
    "        right_side = possible_coins[round(2 * n / 3) :]\n",
    "        while len(left_side) < len(right_side):\n",
    "            left_side.append(0)\n",
    "        while len(right_side) < len(left_side):\n",
    "            right_side.append(0)\n",
    "        result = temp_oracle.is_left_side_heavier(left_side, right_side)\n",
    "        found_unequal_weights = result != 0\n",
    "        if not found_unequal_weights:\n",
    "            possible_coins = possible_coins[: round(n / 3)]\n",
    "\n",
    "    left_side_is_heavier = result == 1\n",
    "    if left_side_is_heavier:\n",
    "        heavier_coins, lighter_coins = left_side, right_side\n",
    "    else:\n",
    "        heavier_coins, lighter_coins = right_side, left_side\n",
    "\n",
    "    unique_coin = len(heavier_coins) + len(lighter_coins) < 2\n",
    "\n",
    "    while not unique_coin:\n",
    "        a = len(heavier_coins)\n",
    "        b = len(lighter_coins)\n",
    "        left_side = heavier_coins[: round(a / 3)] + lighter_coins[: round(b / 3)]\n",
    "        right_side = (\n",
    "            heavier_coins[round(a / 3) : round(2 * a / 3)]\n",
    "            + lighter_coins[round(b / 3) : round(2 * b / 3)]\n",
    "        )\n",
    "\n",
    "        while len(left_side) < len(right_side):\n",
    "            left_side.append(0)\n",
    "        while len(right_side) < len(left_side):\n",
    "            right_side.append(0)\n",
    "\n",
    "        result = temp_oracle.is_left_side_heavier(left_side, right_side)\n",
    "\n",
    "        if result == 0:\n",
    "            heavier_coins = heavier_coins[round(2 * a / 3) :]\n",
    "            lighter_coins = lighter_coins[round(2 * b / 3) :]\n",
    "        elif result == 1:\n",
    "            heavier_coins = heavier_coins[: round(a / 3)]\n",
    "            lighter_coins = lighter_coins[round(b / 3) : round(2 * b / 3)]\n",
    "        else:\n",
    "            heavier_coins = heavier_coins[round(a / 3) : round(2 * a / 3)]\n",
    "            lighter_coins = lighter_coins[: round(b / 3)]\n",
    "\n",
    "        unique_coin = len(heavier_coins) + len(lighter_coins) < 2\n",
    "\n",
    "    if heavier_coins:\n",
    "        return (heavier_coins[0], True)\n",
    "    if lighter_coins:\n",
    "        return (lighter_coins[0], False)"
   ]
  },
  {
   "cell_type": "markdown",
   "id": "assigned-charity",
   "metadata": {},
   "source": [
    "# Your solution\n",
    "\n",
    "The solution is similar to a brute force solution, but it stops when the fake coin is found. Can you improve it?"
   ]
  },
  {
   "cell_type": "code",
   "execution_count": 6,
   "id": "acquired-sauce",
   "metadata": {},
   "outputs": [],
   "source": [
    "def your_custom_solution(temp_oracle):\n",
    "    i = 1\n",
    "    while temp_oracle.is_left_side_heavier([i], [0]) == 0:\n",
    "        i += 1\n",
    "    coin = i\n",
    "    is_heavier = temp_oracle.experiment_results[-1][2] == 1\n",
    "    return (coin, is_heavier)"
   ]
  },
  {
   "cell_type": "markdown",
   "id": "pretty-armstrong",
   "metadata": {},
   "source": [
    "# The code below runs games for a given list of solvers"
   ]
  },
  {
   "cell_type": "code",
   "execution_count": 7,
   "id": "incoming-westminster",
   "metadata": {},
   "outputs": [],
   "source": [
    "# Runs one game for each size in sizes, using all solvers passed. Filename is used to store the plot in the end as a file.\n",
    "def run_comparison(sizes, solvers):\n",
    "    df = pd.DataFrame(\n",
    "        max(sizes) + 1, columns=[solver.__name__ for solver in solvers], index=sizes\n",
    "    )\n",
    "\n",
    "    secret_coins = {size: random.choice(range(size)) + 1 for size in sizes}\n",
    "\n",
    "    n_pairs = len(sizes) * len(solvers)\n",
    "    for size, solver in tqdm(itertools.product(sizes, solvers), total=n_pairs):\n",
    "        oracle = CoinOracle(\n",
    "            n_coins=size,\n",
    "            secret_coin=secret_coins[size],\n",
    "            is_heavier=random.choice([True, False]),\n",
    "        )\n",
    "        (guessed_secret_coin, guess_is_heavier) = solver(oracle)\n",
    "        if oracle.check_guess(guessed_secret_coin, guess_is_heavier):\n",
    "            df[solver.__name__][size] = oracle.n_tests\n",
    "        else:\n",
    "            print(\n",
    "                f\"Solver {solver.__name__} incorrectly guessed for size {size} with secret_coin {secret_cois[size]}\"\n",
    "            )\n",
    "\n",
    "    return df"
   ]
  },
  {
   "cell_type": "code",
   "execution_count": 8,
   "id": "silver-strength",
   "metadata": {},
   "outputs": [
    {
     "name": "stderr",
     "output_type": "stream",
     "text": [
      "\r",
      "  0%|                                                                                                                                                                                                     | 0/2757 [00:00<?, ?it/s]"
     ]
    },
    {
     "name": "stderr",
     "output_type": "stream",
     "text": [
      "/tmp/ipykernel_36440/1703611398.py:18: FutureWarning: ChainedAssignmentError: behaviour will change in pandas 3.0!\n",
      "You are setting values through chained assignment. Currently this works in certain cases, but when using Copy-on-Write (which will become the default behaviour in pandas 3.0) this will never work to update the original DataFrame or Series, because the intermediate object on which we are setting values will behave as a copy.\n",
      "A typical example is when you are setting values in a column of a DataFrame, like:\n",
      "\n",
      "df[\"col\"][row_indexer] = value\n",
      "\n",
      "Use `df.loc[row_indexer, \"col\"] = values` instead, to perform the assignment in a single step and ensure this keeps updating the original `df`.\n",
      "\n",
      "See the caveats in the documentation: https://pandas.pydata.org/pandas-docs/stable/user_guide/indexing.html#returning-a-view-versus-a-copy\n",
      "\n",
      "  df[solver.__name__][size] = oracle.n_tests\n",
      "\r",
      "  0%|                                                                                                                                                                                           | 1/2757 [00:01<1:08:14,  1.49s/it]"
     ]
    },
    {
     "name": "stderr",
     "output_type": "stream",
     "text": [
      "\r",
      "  0%|▏                                                                                                                                                                                          | 2/2757 [00:03<1:25:22,  1.86s/it]"
     ]
    },
    {
     "name": "stderr",
     "output_type": "stream",
     "text": [
      "\r",
      "  0%|▏                                                                                                                                                                                          | 3/2757 [00:05<1:19:26,  1.73s/it]"
     ]
    },
    {
     "name": "stderr",
     "output_type": "stream",
     "text": [
      "\r",
      "  0%|▎                                                                                                                                                                                          | 4/2757 [00:06<1:17:59,  1.70s/it]"
     ]
    },
    {
     "name": "stderr",
     "output_type": "stream",
     "text": [
      "\r",
      "  0%|▎                                                                                                                                                                                          | 5/2757 [00:09<1:25:51,  1.87s/it]"
     ]
    },
    {
     "name": "stderr",
     "output_type": "stream",
     "text": [
      "\r",
      "  0%|▍                                                                                                                                                                                          | 6/2757 [00:10<1:16:12,  1.66s/it]"
     ]
    },
    {
     "name": "stderr",
     "output_type": "stream",
     "text": [
      "\r",
      "  0%|▍                                                                                                                                                                                          | 7/2757 [00:11<1:14:37,  1.63s/it]"
     ]
    },
    {
     "name": "stderr",
     "output_type": "stream",
     "text": [
      "\r",
      "  0%|▌                                                                                                                                                                                          | 8/2757 [00:13<1:18:11,  1.71s/it]"
     ]
    },
    {
     "name": "stderr",
     "output_type": "stream",
     "text": [
      "\r",
      "  0%|▌                                                                                                                                                                                          | 9/2757 [00:14<1:12:08,  1.58s/it]"
     ]
    },
    {
     "name": "stderr",
     "output_type": "stream",
     "text": [
      "\r",
      "  0%|▋                                                                                                                                                                                         | 10/2757 [00:16<1:09:28,  1.52s/it]"
     ]
    },
    {
     "name": "stderr",
     "output_type": "stream",
     "text": [
      "\r",
      "  0%|▋                                                                                                                                                                                         | 11/2757 [00:18<1:18:13,  1.71s/it]"
     ]
    },
    {
     "name": "stderr",
     "output_type": "stream",
     "text": [
      "\r",
      "  0%|▊                                                                                                                                                                                         | 12/2757 [00:19<1:14:26,  1.63s/it]"
     ]
    },
    {
     "name": "stderr",
     "output_type": "stream",
     "text": [
      "\r",
      "  0%|▉                                                                                                                                                                                         | 13/2757 [00:21<1:10:37,  1.54s/it]"
     ]
    },
    {
     "name": "stderr",
     "output_type": "stream",
     "text": [
      "\r",
      "  1%|▉                                                                                                                                                                                         | 14/2757 [00:23<1:16:58,  1.68s/it]"
     ]
    },
    {
     "name": "stderr",
     "output_type": "stream",
     "text": [
      "\r",
      "  1%|█                                                                                                                                                                                         | 15/2757 [00:24<1:11:41,  1.57s/it]"
     ]
    },
    {
     "name": "stderr",
     "output_type": "stream",
     "text": [
      "\r",
      "  1%|█                                                                                                                                                                                         | 16/2757 [00:26<1:10:49,  1.55s/it]"
     ]
    },
    {
     "name": "stderr",
     "output_type": "stream",
     "text": [
      "\r",
      "  1%|█▏                                                                                                                                                                                        | 17/2757 [00:28<1:18:27,  1.72s/it]"
     ]
    },
    {
     "name": "stderr",
     "output_type": "stream",
     "text": [
      "\r",
      "  1%|█▏                                                                                                                                                                                        | 18/2757 [00:29<1:11:41,  1.57s/it]"
     ]
    },
    {
     "name": "stderr",
     "output_type": "stream",
     "text": [
      "\r",
      "  1%|█▏                                                                                                                                                                                        | 18/2757 [00:30<1:16:19,  1.67s/it]"
     ]
    },
    {
     "name": "stderr",
     "output_type": "stream",
     "text": [
      "\n"
     ]
    },
    {
     "ename": "KeyboardInterrupt",
     "evalue": "",
     "output_type": "error",
     "traceback": [
      "\u001b[0;31m---------------------------------------------------------------------------\u001b[0m",
      "\u001b[0;31mKeyboardInterrupt\u001b[0m                         Traceback (most recent call last)",
      "Cell \u001b[0;32mIn[8], line 3\u001b[0m\n\u001b[1;32m      1\u001b[0m sizes \u001b[38;5;241m=\u001b[39m \u001b[38;5;28msorted\u001b[39m(\u001b[38;5;28mset\u001b[39m(\u001b[38;5;28mmap\u001b[39m(\u001b[38;5;28;01mlambda\u001b[39;00m x: floor(x), geomspace(\u001b[38;5;241m10\u001b[39m, \u001b[38;5;241m10\u001b[39m\u001b[38;5;241m*\u001b[39m\u001b[38;5;241m*\u001b[39m\u001b[38;5;241m7\u001b[39m, \u001b[38;5;241m1000\u001b[39m))), reverse\u001b[38;5;241m=\u001b[39m\u001b[38;5;28;01mTrue\u001b[39;00m)\n\u001b[1;32m      2\u001b[0m solvers \u001b[38;5;241m=\u001b[39m [marta, joao_carmo, miguel]\n\u001b[0;32m----> 3\u001b[0m df \u001b[38;5;241m=\u001b[39m \u001b[43mrun_comparison\u001b[49m\u001b[43m(\u001b[49m\u001b[43msizes\u001b[49m\u001b[43m,\u001b[49m\u001b[43m \u001b[49m\u001b[43msolvers\u001b[49m\u001b[43m)\u001b[49m\n\u001b[1;32m      4\u001b[0m df\u001b[38;5;241m.\u001b[39mT\n",
      "Cell \u001b[0;32mIn[7], line 16\u001b[0m, in \u001b[0;36mrun_comparison\u001b[0;34m(sizes, solvers)\u001b[0m\n\u001b[1;32m     10\u001b[0m \u001b[38;5;28;01mfor\u001b[39;00m size, solver \u001b[38;5;129;01min\u001b[39;00m tqdm(itertools\u001b[38;5;241m.\u001b[39mproduct(sizes, solvers), total\u001b[38;5;241m=\u001b[39mn_pairs):\n\u001b[1;32m     11\u001b[0m     oracle \u001b[38;5;241m=\u001b[39m CoinOracle(\n\u001b[1;32m     12\u001b[0m         n_coins\u001b[38;5;241m=\u001b[39msize,\n\u001b[1;32m     13\u001b[0m         secret_coin\u001b[38;5;241m=\u001b[39msecret_coins[size],\n\u001b[1;32m     14\u001b[0m         is_heavier\u001b[38;5;241m=\u001b[39mrandom\u001b[38;5;241m.\u001b[39mchoice([\u001b[38;5;28;01mTrue\u001b[39;00m, \u001b[38;5;28;01mFalse\u001b[39;00m]),\n\u001b[1;32m     15\u001b[0m     )\n\u001b[0;32m---> 16\u001b[0m     (guessed_secret_coin, guess_is_heavier) \u001b[38;5;241m=\u001b[39m \u001b[43msolver\u001b[49m\u001b[43m(\u001b[49m\u001b[43moracle\u001b[49m\u001b[43m)\u001b[49m\n\u001b[1;32m     17\u001b[0m     \u001b[38;5;28;01mif\u001b[39;00m oracle\u001b[38;5;241m.\u001b[39mcheck_guess(guessed_secret_coin, guess_is_heavier):\n\u001b[1;32m     18\u001b[0m         df[solver\u001b[38;5;241m.\u001b[39m\u001b[38;5;18m__name__\u001b[39m][size] \u001b[38;5;241m=\u001b[39m oracle\u001b[38;5;241m.\u001b[39mn_tests\n",
      "Cell \u001b[0;32mIn[3], line 2\u001b[0m, in \u001b[0;36mmarta\u001b[0;34m(temp_oracle)\u001b[0m\n\u001b[1;32m      1\u001b[0m \u001b[38;5;28;01mdef\u001b[39;00m \u001b[38;5;21mmarta\u001b[39m(temp_oracle):\n\u001b[0;32m----> 2\u001b[0m     coins \u001b[38;5;241m=\u001b[39m \u001b[38;5;28;43mlist\u001b[39;49m\u001b[43m(\u001b[49m\u001b[38;5;28;43mrange\u001b[39;49m\u001b[43m(\u001b[49m\u001b[43mtemp_oracle\u001b[49m\u001b[38;5;241;43m.\u001b[39;49m\u001b[43mn_coins\u001b[49m\u001b[43m \u001b[49m\u001b[38;5;241;43m+\u001b[39;49m\u001b[43m \u001b[49m\u001b[38;5;241;43m1\u001b[39;49m\u001b[43m)\u001b[49m\u001b[43m)\u001b[49m\n\u001b[1;32m      3\u001b[0m     last_weigh_diff \u001b[38;5;241m=\u001b[39m ([], \u001b[38;5;28;01mNone\u001b[39;00m)  \u001b[38;5;66;03m# left group, weigh in result\u001b[39;00m\n\u001b[1;32m      5\u001b[0m     \u001b[38;5;28;01mwhile\u001b[39;00m \u001b[38;5;28;01mTrue\u001b[39;00m:\n",
      "\u001b[0;31mKeyboardInterrupt\u001b[0m: "
     ]
    }
   ],
   "source": [
    "sizes = sorted(set(map(lambda x: floor(x), geomspace(10, 10**7, 1000))), reverse=True)\n",
    "solvers = [marta, joao_carmo, miguel]\n",
    "df = run_comparison(sizes, solvers)\n",
    "df.T"
   ]
  },
  {
   "cell_type": "markdown",
   "id": "integrated-washer",
   "metadata": {},
   "source": [
    "### The plot below shows the number of experiments conducted by your custom solution vs the theoretical maximum, for multiple sizes. What is the best score you can get?\n",
    "\n",
    "Remark: It is possible that you occasionally get a better result than the theoretical optimal, for example if you happen to be lucky and test the fake coin in the very first run. However it is impossible to consistently beat the theoretical optimal"
   ]
  },
  {
   "cell_type": "code",
   "execution_count": 9,
   "id": "vital-miller",
   "metadata": {},
   "outputs": [],
   "source": [
    "from math import log\n",
    "\n",
    "df[\"theoretical_optimum\"] = list(map(lambda x: log(2 * x, 3), df.index))\n",
    "df.plot.area(figsize=(16, 8), stacked=False, logx=True).figure.savefig(\"results.png\")"
   ]
  }
 ],
 "metadata": {
  "kernelspec": {
   "display_name": "Python 3",
   "language": "python",
   "name": "python3"
  },
  "language_info": {
   "codemirror_mode": {
    "name": "ipython",
    "version": 3
   },
   "file_extension": ".py",
   "mimetype": "text/x-python",
   "name": "python",
   "nbconvert_exporter": "python",
   "pygments_lexer": "ipython3",
   "version": "3.12.3"
  }
 },
 "nbformat": 4,
 "nbformat_minor": 5
}