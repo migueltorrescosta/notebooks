{
 "cells": [
  {
   "cell_type": "markdown",
   "id": "61f0405b-7345-45a4-96b2-c8ef7e2a3003",
   "metadata": {},
   "source": [
    "# Conjecture\n",
    "\n",
    "We see that all roots, when \"propagated back\" to $t=0$ meet and annihalate each other. We believe that this is the case regardless of the starting conditions\n",
    "\n",
    "# Overview\n",
    "\n",
    "1. $H_t(z) := \\int_{0}^{\\infty}e^{tu^2}\\phi (u) \\cos (zu) du$\n",
    "2. $\\Phi (u) := \\sum_{n=1}^{\\infty} (2 \\pi^2n^4 e^{9u} - 3 \\pi n^2 e^{5u}) \\exp{(-\\pi n^2 e^{4u})}$\n",
    "3. The equations above describe the heatflow of the Riemann Equation.\n",
    "4. $\\exists Λ \\in \\mathbb{R}$ such that $\\forall t \\geq Λ$, we have the zeroes of ${H_t}$ being real. This is known as the [de Bruijn–Newman constant](https://en.wikipedia.org/wiki/De_Bruijn%E2%80%93Newman_constant).\n",
    "5. $Λ \\geq 0$ was [proved](https://arxiv.org/pdf/1801.05914.pdf) by Brad Rogers & Terence Tau.\n",
    "6. $Λ > 0$ is equivalent to the Riemann Hypothesis.\n",
    "7. $Λ \\leq .22$ was [proved](https://github.com/km-git-acc/dbn_upper_bound/blob/master/Writeup/debruijn.pdf) as part of the polimath project.\n",
    "8. $H_0(z) = \\int_0^{\\infty}\\phi (u) cos(zu) du$ is the Fourier representation of $H_0(z)$\n",
    "\n",
    "We want to find bounds on $Λ$, following an approach similar to the polymath project\n",
    "\n",
    "# Plan to bound $Λ$\n",
    "\n",
    "1. Choose a $t \\geq Λ$ ( $t>.2$ suffices for the time being )\n",
    "2. Take $n$ zeroes $(x_1, x_2, \\dots , x_n)$ of $H_t$\n",
    "3. Computationally estimate how the $x_i$ evolve backwards in time (i.e. towards $t=0$, getting an estimate of the time $t_k$ at which the trajectories of the various $x_i$ converge to a single point\n",
    "4. Reproduce the above with higher values for $n$, obtaining iteratively better estimates of $Λ$.\n",
    "5. If\n",
    "   1. $G \\approx 0$, we proved nothing 😢.\n",
    "   2. $G$ is statistically far from $0$, we have shown that Riemann's Hypothesis is likely true 🎉\n",
    "  \n",
    "# Pre-requisites\n",
    "1. Do we have examples ( in code or books ) of approximating path trajectories using heatflow?\n",
    "2. What are the best methods known to find zeroes of the Riemann Zeta, i.e. the $(x_1, x_2, ... , x_n)$"
   ]
  },
  {
   "cell_type": "markdown",
   "id": "d0cce21e-f68c-4c16-91b0-c08c75acd68f",
   "metadata": {},
   "source": [
    "# Visualizing $H_t$\n",
    "\n",
    "We approximate $H_t$ by adding more terms to the sum and approximating the integral. Since the exponential in the integral decreases much faster than the $\\Phi$ terms, we can approximate the integral.\n",
    "\n",
    "We will define a function $h(t,u,z,k)=e^{tu^2} \\left [ \\sum_{n=1}^{k} (2 \\pi^2n^4 e^{9u} - 3 \\pi n^2 e^{5u}) \\exp{(-\\pi n^2 e^{4u})} \\right ] \\cos (zu)$, and then approximate the integral over $u$ using QUADPACK\n",
    "\n",
    "1. $H_t(z) := \\int_{0}^{\\infty}e^{tu^2}\\Phi (u) \\cos (zu) du$\n",
    "2. $\\Phi (u) := \\sum_{n=1}^{\\infty} (2 \\pi^2n^4 e^{9u} - 3 \\pi n^2 e^{5u}) \\exp{(-\\pi n^2 e^{4u})}$"
   ]
  },
  {
   "cell_type": "markdown",
   "id": "5c8409f0-3dba-4061-9494-c874e88d74b0",
   "metadata": {
    "jp-MarkdownHeadingCollapsed": true
   },
   "source": [
    "# Imports"
   ]
  },
  {
   "cell_type": "code",
   "execution_count": 1,
   "id": "8fb1197e-335f-4ab3-9612-8eef1d8837f8",
   "metadata": {},
   "outputs": [],
   "source": [
    "import math\n",
    "import numpy as np\n",
    "import pandas as pd\n",
    "from typing import List, Tuple, Dict\n",
    "import seaborn as sns\n",
    "from tqdm.auto import tqdm\n",
    "from matplotlib import pyplot as plt\n",
    "from scipy.integrate import (\n",
    "    quad,\n",
    ")  # https://docs.scipy.org/doc/scipy/reference/generated/scipy.integrate.quad.html#scipy.integrate.quad\n",
    "from scipy.optimize import (\n",
    "    root_scalar,  # https://docs.scipy.org/doc/scipy/reference/generated/scipy.optimize.root_scalar.html#scipy.optimize.root_scalar\n",
    "    fsolve,  # https://docs.scipy.org/doc/scipy/reference/generated/scipy.optimize.fsolve.html\n",
    ")\n",
    "import itertools\n",
    "import functools\n",
    "import multiprocessing\n",
    "import multiprocessing.pool"
   ]
  },
  {
   "cell_type": "code",
   "execution_count": 2,
   "id": "050d225d-4cb2-481f-ad00-d67e231dce27",
   "metadata": {},
   "outputs": [],
   "source": [
    "sns.set_theme(\n",
    "    rc={\"figure.figsize\": (20, 2)}\n",
    ")  # https://seaborn.pydata.org/generated/seaborn.set_theme.html\n",
    "pd.set_option(\"display.float_format\", lambda x: f\"{x:.2e}\")\n",
    "pd.set_option(\n",
    "    \"display.max_rows\", 500\n",
    ")  # https://stackoverflow.com/questions/16424493/pandas-setting-no-of-max-rows\n",
    "pd.set_option(\n",
    "    \"display.max_columns\", 500\n",
    ")  # https://stackoverflow.com/questions/11707586/how-do-i-expand-the-output-display-to-see-more-columns-of-a-pandas-dataframe"
   ]
  },
  {
   "cell_type": "markdown",
   "id": "13b936d4-3ab6-44d5-913e-7ae727ec24b8",
   "metadata": {
    "jp-MarkdownHeadingCollapsed": true
   },
   "source": [
    "# Aux parallelization"
   ]
  },
  {
   "cell_type": "code",
   "execution_count": 3,
   "id": "a213db4c-67d7-40c1-be91-b64060df3ac6",
   "metadata": {},
   "outputs": [],
   "source": [
    "# https://stackoverflow.com/a/57364423\n",
    "def istarmap(self, func, iterable, chunksize=1):\n",
    "    self._check_running()\n",
    "    if chunksize < 1:\n",
    "        raise ValueError(\"Chunksize must be 1+, not {0:n}\".format(chunksize))\n",
    "\n",
    "    task_batches = multiprocessing.pool.Pool._get_tasks(func, iterable, chunksize)\n",
    "    result = multiprocessing.pool.IMapIterator(self)\n",
    "    self._taskqueue.put(\n",
    "        (\n",
    "            self._guarded_task_generation(\n",
    "                result._job, multiprocessing.pool.starmapstar, task_batches\n",
    "            ),\n",
    "            result._set_length,\n",
    "        )\n",
    "    )\n",
    "    return (item for chunk in result for item in chunk)\n",
    "\n",
    "\n",
    "multiprocessing.pool.Pool.istarmap = istarmap"
   ]
  },
  {
   "cell_type": "code",
   "execution_count": 4,
   "id": "732e936e-a6d9-4108-9ce0-13816ea10cb8",
   "metadata": {},
   "outputs": [],
   "source": [
    "# Creates a Pandas Dataframe with a Progress bar using multiprocessing.\n",
    "# It requires an iterable, columns of the df and a function to calculate\n",
    "def create_pandas_dataframe(func, iterable, columns, total=None, raw_data=False):\n",
    "\n",
    "    if total is None:\n",
    "        total = len(iterable)\n",
    "\n",
    "    data = []\n",
    "\n",
    "    with multiprocessing.Pool(processes=multiprocessing.cpu_count()) as pool:\n",
    "        for calculated_row in tqdm(\n",
    "            pool.istarmap(func=func, iterable=iterable), total=total\n",
    "        ):\n",
    "            data.append(calculated_row)\n",
    "\n",
    "    return pd.DataFrame(data=data, columns=columns)"
   ]
  },
  {
   "cell_type": "markdown",
   "id": "260cba8e-3e3d-478f-afd6-2ae9df12355b",
   "metadata": {},
   "source": [
    "# Core maths functions"
   ]
  },
  {
   "cell_type": "markdown",
   "id": "9c020ac2-cac8-4ccf-998d-695bcd978c65",
   "metadata": {},
   "source": [
    "We rearrange the expression for $h_t$ below to avoid overflow errors while calculating exponentials"
   ]
  },
  {
   "cell_type": "code",
   "execution_count": 5,
   "id": "fe4d8886-7da9-44e3-9471-a67ec473068c",
   "metadata": {},
   "outputs": [],
   "source": [
    "def h(t, u, z, k):\n",
    "    return np.product(\n",
    "        [\n",
    "            math.pi,\n",
    "            math.cos(z * u),\n",
    "            np.sum(\n",
    "                [\n",
    "                    (\n",
    "                        2\n",
    "                        * math.pi\n",
    "                        * n**4\n",
    "                        * math.exp(9 * u + t * u**2 - math.pi * n**3 * math.exp(4 * u))\n",
    "                        - 3\n",
    "                        * n**2\n",
    "                        * math.exp(5 * u + t * u**2 - math.pi * n**2 * math.exp(4 * u))\n",
    "                    )\n",
    "                    for n in range(1, k + 1)\n",
    "                ]\n",
    "            ),\n",
    "        ]\n",
    "    )"
   ]
  },
  {
   "cell_type": "code",
   "execution_count": 6,
   "id": "2883574e-410f-4ea6-a035-c9fc8e3a2ac1",
   "metadata": {},
   "outputs": [],
   "source": [
    "def H(t, z, k, b):\n",
    "    function = lambda u: h(t, u, z, k)\n",
    "    return quad(func=function, a=0, b=b)"
   ]
  },
  {
   "cell_type": "markdown",
   "id": "2cd37fb2-16ba-4211-8d1c-1057057e8c16",
   "metadata": {},
   "source": [
    "## Checking how the integrand of $H_t(z)$ varies with $b$ and $k$"
   ]
  },
  {
   "cell_type": "code",
   "execution_count": 7,
   "id": "afd8e3eb-97ae-4f32-9ddd-64161423cefa",
   "metadata": {},
   "outputs": [
    {
     "data": {
      "application/vnd.jupyter.widget-view+json": {
       "model_id": "303e09e4cacb4b73b3ecc245f6381542",
       "version_major": 2,
       "version_minor": 0
      },
      "text/plain": [
       "  0%|          | 0/180 [00:00<?, ?it/s]"
      ]
     },
     "metadata": {},
     "output_type": "display_data"
    },
    {
     "name": "stderr",
     "output_type": "stream",
     "text": [
      "/tmp/ipykernel_34978/3165795679.py:2: DeprecationWarning: `product` is deprecated as of NumPy 1.25.0, and will be removed in NumPy 2.0. Please use `prod` instead.\n",
      "  function = lambda u: h(t, u, z, k)\n"
     ]
    }
   ],
   "source": [
    "z_values = np.linspace(-30, 30, 20)\n",
    "k_values = range(5, 50, 5)\n",
    "ht = pd.DataFrame(\n",
    "    [\n",
    "        {\n",
    "            \"z\": z,\n",
    "            \"k\": k,\n",
    "            \"root\": H(t=0.25, z=z, b=10, k=k)[0],\n",
    "        }\n",
    "        for z, k in tqdm(\n",
    "            itertools.product(z_values, k_values), total=len(z_values) * len(k_values)\n",
    "        )\n",
    "    ]\n",
    ")"
   ]
  },
  {
   "cell_type": "code",
   "execution_count": 8,
   "id": "a51b4458-9fd4-4bc0-b0ae-7e940d2da471",
   "metadata": {},
   "outputs": [
    {
     "data": {
      "text/plain": [
       "<Axes: xlabel='z'>"
      ]
     },
     "execution_count": 8,
     "metadata": {},
     "output_type": "execute_result"
    },
    {
     "data": {
      "image/png": "[encoded data removed]",
      "text/plain": [
       "<Figure size 2000x200 with 1 Axes>"
      ]
     },
     "metadata": {},
     "output_type": "display_data"
    }
   ],
   "source": [
    "sns.lineplot(data=ht.pivot(index=\"z\", columns=\"k\", values=\"root\"))"
   ]
  },
  {
   "cell_type": "code",
   "execution_count": 9,
   "id": "cfeece36-b201-49e2-8134-dc2d7ed9300e",
   "metadata": {},
   "outputs": [
    {
     "data": {
      "application/vnd.jupyter.widget-view+json": {
       "model_id": "375b859ae6c64727ac40ce3f8d40e672",
       "version_major": 2,
       "version_minor": 0
      },
      "text/plain": [
       "  0%|          | 0/900 [00:00<?, ?it/s]"
      ]
     },
     "metadata": {},
     "output_type": "display_data"
    },
    {
     "name": "stderr",
     "output_type": "stream",
     "text": [
      "/tmp/ipykernel_34978/3165795679.py:2: DeprecationWarning: `product` is deprecated as of NumPy 1.25.0, and will be removed in NumPy 2.0. Please use `prod` instead.\n",
      "  function = lambda u: h(t, u, z, k)\n"
     ]
    }
   ],
   "source": [
    "z_values = np.linspace(-200, 200, 100)\n",
    "b_values = range(5, 50, 5)\n",
    "ht = pd.DataFrame(\n",
    "    [\n",
    "        {\n",
    "            \"z\": z,\n",
    "            \"b\": b,\n",
    "            \"root\": H(t=0.25, z=z, b=b, k=5)[0],\n",
    "        }\n",
    "        for z, b in tqdm(\n",
    "            itertools.product(z_values, b_values), total=len(z_values) * len(b_values)\n",
    "        )\n",
    "    ]\n",
    ")"
   ]
  },
  {
   "cell_type": "code",
   "execution_count": 10,
   "id": "2d5219e0-fffd-4a20-895d-12b0913dcd05",
   "metadata": {},
   "outputs": [
    {
     "data": {
      "text/plain": [
       "<Axes: xlabel='z'>"
      ]
     },
     "execution_count": 10,
     "metadata": {},
     "output_type": "execute_result"
    },
    {
     "data": {
      "image/png": "[encoded data removed]",
      "text/plain": [
       "<Figure size 2000x200 with 1 Axes>"
      ]
     },
     "metadata": {},
     "output_type": "display_data"
    }
   ],
   "source": [
    "sns.lineplot(data=ht.pivot(index=\"z\", columns=\"b\", values=\"root\"))"
   ]
  },
  {
   "cell_type": "markdown",
   "id": "55f506f0-7c90-4b55-aefa-5a431ba9475a",
   "metadata": {},
   "source": [
    "THe table above shows that most of the mass of $h$ is in the interval $[-30,30]$. Due to the behaviour of the QUADPACK integration method, this means that it is better to integrate while keeping $b$ inside these bounds"
   ]
  },
  {
   "cell_type": "markdown",
   "id": "1936104f-e91a-477e-90d9-4e66d04e1964",
   "metadata": {
    "jp-MarkdownHeadingCollapsed": true
   },
   "source": [
    "# Visualization Class"
   ]
  },
  {
   "cell_type": "code",
   "execution_count": 11,
   "id": "8491a123-9dcd-4851-bc87-2f27869132e6",
   "metadata": {},
   "outputs": [],
   "source": [
    "def build_observation(k: int, b: float, z: float) -> Dict[str, float]:\n",
    "    return (\n",
    "        k,\n",
    "        b,\n",
    "        z,\n",
    "        H(t=0.25, z=z, k=k, b=b)[0],  # value\n",
    "        H(t=0.25, z=z, k=k, b=b)[1],  # error\n",
    "    )\n",
    "\n",
    "\n",
    "class VisualizeDataFrame:\n",
    "    def __init__(\n",
    "        self, t: float, k_array: List[int], z_array: List[float], b_array: List[float]\n",
    "    ):\n",
    "        \"\"\"\n",
    "        Initializes the data to visualize\n",
    "\n",
    "        :param t: The time we using as a starting point\n",
    "        :param k_array: The number of elements in the sum to take\n",
    "        :param z_array: The input to the function H(z)\n",
    "        :param b_array: We take the integral between 0 and b\n",
    "        \"\"\"\n",
    "        self.t, self.k_array, self.z_array, self.b_array = t, k_array, z_array, b_array\n",
    "\n",
    "        self.df = create_pandas_dataframe(\n",
    "            func=build_observation,\n",
    "            iterable=itertools.product(k_array, b_array, z_array),\n",
    "            columns=[\"k\", \"b\", \"z\", \"h\", \"error\"],\n",
    "            total=len(k_array) * len(b_array) * len(z_array),\n",
    "        )\n",
    "\n",
    "        self.df[\"logerror\"] = [math.log(e, 10) for e in self.df[\"error\"]]\n",
    "        self.df[\"sign\"] = [np.sign(h) for h in self.df[\"h\"]]\n",
    "\n",
    "    def lineplot(self, crop: None | float = None):\n",
    "        # Crops the \"h\" value at +/- crop\n",
    "        if crop is not None:\n",
    "            self.df[\"clipped_h\"] = np.clip(self.df[\"h\"], -1 * crop, crop)\n",
    "\n",
    "        sns.lineplot(\n",
    "            x=\"z\", y=\"h\" if crop is None else \"clipped_h\", hue=\"b\", data=self.df\n",
    "        )\n",
    "        if \"clipped_h\" in self.df.columns.values:\n",
    "            self.df.drop(\"clipped_h\", axis=1)\n",
    "\n",
    "    def signplot(self):\n",
    "        fig, ax = plt.subplots(figsize=(20, 1))\n",
    "        sns.lineplot(x=\"z\", y=\"sign\", hue=\"b\", data=self.df, ax=ax)"
   ]
  },
  {
   "cell_type": "markdown",
   "id": "d69b9eda-3a06-4d71-a269-372943d485fe",
   "metadata": {},
   "source": [
    "# Building the relevant data"
   ]
  },
  {
   "cell_type": "code",
   "execution_count": 12,
   "id": "ba01bdff-9eef-439f-b172-b24bf3bf4ab4",
   "metadata": {},
   "outputs": [
    {
     "name": "stdout",
     "output_type": "stream",
     "text": [
      "Spacing between observations: 0.040\n"
     ]
    },
    {
     "name": "stderr",
     "output_type": "stream",
     "text": [
      "/tmp/ipykernel_34978/3165795679.py:2: DeprecationWarning: `product` is deprecated as of NumPy 1.25.0, and will be removed in NumPy 2.0. Please use `prod` instead.\n",
      "  function = lambda u: h(t, u, z, k)\n"
     ]
    },
    {
     "name": "stderr",
     "output_type": "stream",
     "text": [
      "/tmp/ipykernel_34978/3165795679.py:2: DeprecationWarning: `product` is deprecated as of NumPy 1.25.0, and will be removed in NumPy 2.0. Please use `prod` instead.\n",
      "  function = lambda u: h(t, u, z, k)\n"
     ]
    },
    {
     "name": "stderr",
     "output_type": "stream",
     "text": [
      "/tmp/ipykernel_34978/3165795679.py:2: DeprecationWarning: `product` is deprecated as of NumPy 1.25.0, and will be removed in NumPy 2.0. Please use `prod` instead.\n",
      "  function = lambda u: h(t, u, z, k)\n"
     ]
    },
    {
     "name": "stderr",
     "output_type": "stream",
     "text": [
      "/tmp/ipykernel_34978/3165795679.py:2: DeprecationWarning: `product` is deprecated as of NumPy 1.25.0, and will be removed in NumPy 2.0. Please use `prod` instead.\n",
      "  function = lambda u: h(t, u, z, k)\n"
     ]
    },
    {
     "name": "stderr",
     "output_type": "stream",
     "text": [
      "/tmp/ipykernel_34978/3165795679.py:2: DeprecationWarning: `product` is deprecated as of NumPy 1.25.0, and will be removed in NumPy 2.0. Please use `prod` instead.\n",
      "  function = lambda u: h(t, u, z, k)\n"
     ]
    },
    {
     "name": "stderr",
     "output_type": "stream",
     "text": [
      "/tmp/ipykernel_34978/3165795679.py:2: DeprecationWarning: `product` is deprecated as of NumPy 1.25.0, and will be removed in NumPy 2.0. Please use `prod` instead.\n",
      "  function = lambda u: h(t, u, z, k)\n"
     ]
    },
    {
     "name": "stderr",
     "output_type": "stream",
     "text": [
      "/tmp/ipykernel_34978/3165795679.py:2: DeprecationWarning: `product` is deprecated as of NumPy 1.25.0, and will be removed in NumPy 2.0. Please use `prod` instead.\n",
      "  function = lambda u: h(t, u, z, k)\n"
     ]
    },
    {
     "name": "stderr",
     "output_type": "stream",
     "text": [
      "/tmp/ipykernel_34978/3165795679.py:2: DeprecationWarning: `product` is deprecated as of NumPy 1.25.0, and will be removed in NumPy 2.0. Please use `prod` instead.\n",
      "  function = lambda u: h(t, u, z, k)\n"
     ]
    },
    {
     "name": "stderr",
     "output_type": "stream",
     "text": [
      "/tmp/ipykernel_34978/3165795679.py:2: DeprecationWarning: `product` is deprecated as of NumPy 1.25.0, and will be removed in NumPy 2.0. Please use `prod` instead.\n",
      "  function = lambda u: h(t, u, z, k)\n"
     ]
    },
    {
     "name": "stderr",
     "output_type": "stream",
     "text": [
      "/tmp/ipykernel_34978/3165795679.py:2: DeprecationWarning: `product` is deprecated as of NumPy 1.25.0, and will be removed in NumPy 2.0. Please use `prod` instead.\n",
      "  function = lambda u: h(t, u, z, k)\n"
     ]
    },
    {
     "name": "stderr",
     "output_type": "stream",
     "text": [
      "/tmp/ipykernel_34978/3165795679.py:2: DeprecationWarning: `product` is deprecated as of NumPy 1.25.0, and will be removed in NumPy 2.0. Please use `prod` instead.\n",
      "  function = lambda u: h(t, u, z, k)\n"
     ]
    },
    {
     "name": "stderr",
     "output_type": "stream",
     "text": [
      "/tmp/ipykernel_34978/3165795679.py:2: DeprecationWarning: `product` is deprecated as of NumPy 1.25.0, and will be removed in NumPy 2.0. Please use `prod` instead.\n",
      "  function = lambda u: h(t, u, z, k)\n"
     ]
    },
    {
     "name": "stderr",
     "output_type": "stream",
     "text": [
      "/tmp/ipykernel_34978/3165795679.py:2: DeprecationWarning: `product` is deprecated as of NumPy 1.25.0, and will be removed in NumPy 2.0. Please use `prod` instead.\n",
      "  function = lambda u: h(t, u, z, k)\n"
     ]
    },
    {
     "name": "stderr",
     "output_type": "stream",
     "text": [
      "/tmp/ipykernel_34978/3165795679.py:2: DeprecationWarning: `product` is deprecated as of NumPy 1.25.0, and will be removed in NumPy 2.0. Please use `prod` instead.\n",
      "  function = lambda u: h(t, u, z, k)\n"
     ]
    },
    {
     "name": "stderr",
     "output_type": "stream",
     "text": [
      "/tmp/ipykernel_34978/3165795679.py:2: DeprecationWarning: `product` is deprecated as of NumPy 1.25.0, and will be removed in NumPy 2.0. Please use `prod` instead.\n",
      "  function = lambda u: h(t, u, z, k)\n"
     ]
    },
    {
     "name": "stderr",
     "output_type": "stream",
     "text": [
      "/tmp/ipykernel_34978/3165795679.py:2: DeprecationWarning: `product` is deprecated as of NumPy 1.25.0, and will be removed in NumPy 2.0. Please use `prod` instead.\n",
      "  function = lambda u: h(t, u, z, k)\n"
     ]
    },
    {
     "data": {
      "application/vnd.jupyter.widget-view+json": {
       "model_id": "dc201a6b1dc14c7da523265a31d3f48b",
       "version_major": 2,
       "version_minor": 0
      },
      "text/plain": [
       "  0%|          | 0/50000 [00:00<?, ?it/s]"
      ]
     },
     "metadata": {},
     "output_type": "display_data"
    },
    {
     "name": "stderr",
     "output_type": "stream",
     "text": [
      "Process ForkPoolWorker-7:\n"
     ]
    },
    {
     "name": "stderr",
     "output_type": "stream",
     "text": [
      "Process ForkPoolWorker-10:\n"
     ]
    },
    {
     "name": "stderr",
     "output_type": "stream",
     "text": [
      "Process ForkPoolWorker-11:\n"
     ]
    },
    {
     "name": "stderr",
     "output_type": "stream",
     "text": [
      "Process ForkPoolWorker-9:\n"
     ]
    },
    {
     "name": "stderr",
     "output_type": "stream",
     "text": [
      "Process ForkPoolWorker-15:\n"
     ]
    },
    {
     "name": "stderr",
     "output_type": "stream",
     "text": [
      "Process ForkPoolWorker-2:\n"
     ]
    },
    {
     "name": "stderr",
     "output_type": "stream",
     "text": [
      "Process ForkPoolWorker-6:\n"
     ]
    },
    {
     "name": "stderr",
     "output_type": "stream",
     "text": [
      "Process ForkPoolWorker-5:\n"
     ]
    },
    {
     "name": "stderr",
     "output_type": "stream",
     "text": [
      "Process ForkPoolWorker-8:\n"
     ]
    },
    {
     "name": "stderr",
     "output_type": "stream",
     "text": [
      "Process ForkPoolWorker-13:\n"
     ]
    },
    {
     "name": "stderr",
     "output_type": "stream",
     "text": [
      "Process ForkPoolWorker-14:\n"
     ]
    },
    {
     "name": "stderr",
     "output_type": "stream",
     "text": [
      "Process ForkPoolWorker-3:\n"
     ]
    },
    {
     "name": "stderr",
     "output_type": "stream",
     "text": [
      "Process ForkPoolWorker-12:\n"
     ]
    },
    {
     "name": "stderr",
     "output_type": "stream",
     "text": [
      "Process ForkPoolWorker-16:\n"
     ]
    },
    {
     "name": "stderr",
     "output_type": "stream",
     "text": [
      "Process ForkPoolWorker-1:\n"
     ]
    },
    {
     "name": "stderr",
     "output_type": "stream",
     "text": [
      "Process ForkPoolWorker-4:\n"
     ]
    },
    {
     "ename": "KeyboardInterrupt",
     "evalue": "",
     "output_type": "error",
     "traceback": [
      "\u001b[0;31m---------------------------------------------------------------------------\u001b[0m",
      "\u001b[0;31mIndexError\u001b[0m                                Traceback (most recent call last)",
      "File \u001b[0;32m/usr/lib/python3.12/multiprocessing/pool.py:856\u001b[0m, in \u001b[0;36mIMapIterator.next\u001b[0;34m(self, timeout)\u001b[0m\n\u001b[1;32m    855\u001b[0m \u001b[38;5;28;01mtry\u001b[39;00m:\n\u001b[0;32m--> 856\u001b[0m     item \u001b[38;5;241m=\u001b[39m \u001b[38;5;28;43mself\u001b[39;49m\u001b[38;5;241;43m.\u001b[39;49m\u001b[43m_items\u001b[49m\u001b[38;5;241;43m.\u001b[39;49m\u001b[43mpopleft\u001b[49m\u001b[43m(\u001b[49m\u001b[43m)\u001b[49m\n\u001b[1;32m    857\u001b[0m \u001b[38;5;28;01mexcept\u001b[39;00m \u001b[38;5;167;01mIndexError\u001b[39;00m:\n",
      "\u001b[0;31mIndexError\u001b[0m: pop from an empty deque",
      "\nDuring handling of the above exception, another exception occurred:\n",
      "\u001b[0;31mKeyboardInterrupt\u001b[0m                         Traceback (most recent call last)",
      "Cell \u001b[0;32mIn[12], line 5\u001b[0m\n\u001b[1;32m      3\u001b[0m z_array \u001b[38;5;241m=\u001b[39m np\u001b[38;5;241m.\u001b[39mlinspace(\u001b[38;5;241m-\u001b[39m\u001b[38;5;241m1\u001b[39m \u001b[38;5;241m*\u001b[39m interval, \u001b[38;5;241m1\u001b[39m \u001b[38;5;241m*\u001b[39m interval, n_samples)\n\u001b[1;32m      4\u001b[0m \u001b[38;5;28mprint\u001b[39m(\u001b[38;5;124mf\u001b[39m\u001b[38;5;124m\"\u001b[39m\u001b[38;5;124mSpacing between observations: \u001b[39m\u001b[38;5;132;01m{\u001b[39;00mnp\u001b[38;5;241m.\u001b[39mdivide(\u001b[38;5;241m2\u001b[39m\u001b[38;5;241m*\u001b[39minterval,\u001b[38;5;250m \u001b[39mn_samples)\u001b[38;5;132;01m:\u001b[39;00m\u001b[38;5;124m.3f\u001b[39m\u001b[38;5;132;01m}\u001b[39;00m\u001b[38;5;124m\"\u001b[39m)\n\u001b[0;32m----> 5\u001b[0m results \u001b[38;5;241m=\u001b[39m \u001b[43mVisualizeDataFrame\u001b[49m\u001b[43m(\u001b[49m\n\u001b[1;32m      6\u001b[0m \u001b[43m    \u001b[49m\u001b[43mt\u001b[49m\u001b[38;5;241;43m=\u001b[39;49m\u001b[38;5;241;43m0.25\u001b[39;49m\u001b[43m,\u001b[49m\u001b[43m \u001b[49m\u001b[43mk_array\u001b[49m\u001b[38;5;241;43m=\u001b[39;49m\u001b[43m[\u001b[49m\u001b[38;5;241;43m50\u001b[39;49m\u001b[43m]\u001b[49m\u001b[43m,\u001b[49m\u001b[43m \u001b[49m\u001b[43mb_array\u001b[49m\u001b[38;5;241;43m=\u001b[39;49m\u001b[43m[\u001b[49m\u001b[38;5;241;43m50\u001b[39;49m\u001b[43m]\u001b[49m\u001b[43m,\u001b[49m\u001b[43m \u001b[49m\u001b[43mz_array\u001b[49m\u001b[38;5;241;43m=\u001b[39;49m\u001b[43mz_array\u001b[49m\u001b[43m  \u001b[49m\u001b[38;5;66;43;03m# [2**i for i in range(5)]\u001b[39;49;00m\n\u001b[1;32m      7\u001b[0m \u001b[43m)\u001b[49m\n",
      "Cell \u001b[0;32mIn[11], line 25\u001b[0m, in \u001b[0;36mVisualizeDataFrame.__init__\u001b[0;34m(self, t, k_array, z_array, b_array)\u001b[0m\n\u001b[1;32m     15\u001b[0m \u001b[38;5;250m\u001b[39m\u001b[38;5;124;03m\"\"\"\u001b[39;00m\n\u001b[1;32m     16\u001b[0m \u001b[38;5;124;03mInitializes the data to visualize\u001b[39;00m\n\u001b[1;32m     17\u001b[0m \n\u001b[0;32m   (...)\u001b[0m\n\u001b[1;32m     21\u001b[0m \u001b[38;5;124;03m:param b_array: We take the integral between 0 and b\u001b[39;00m\n\u001b[1;32m     22\u001b[0m \u001b[38;5;124;03m\"\"\"\u001b[39;00m\n\u001b[1;32m     23\u001b[0m \u001b[38;5;28mself\u001b[39m\u001b[38;5;241m.\u001b[39mt, \u001b[38;5;28mself\u001b[39m\u001b[38;5;241m.\u001b[39mk_array, \u001b[38;5;28mself\u001b[39m\u001b[38;5;241m.\u001b[39mz_array, \u001b[38;5;28mself\u001b[39m\u001b[38;5;241m.\u001b[39mb_array \u001b[38;5;241m=\u001b[39m t, k_array, z_array, b_array\n\u001b[0;32m---> 25\u001b[0m \u001b[38;5;28mself\u001b[39m\u001b[38;5;241m.\u001b[39mdf \u001b[38;5;241m=\u001b[39m \u001b[43mcreate_pandas_dataframe\u001b[49m\u001b[43m(\u001b[49m\n\u001b[1;32m     26\u001b[0m \u001b[43m    \u001b[49m\u001b[43mfunc\u001b[49m\u001b[38;5;241;43m=\u001b[39;49m\u001b[43mbuild_observation\u001b[49m\u001b[43m,\u001b[49m\n\u001b[1;32m     27\u001b[0m \u001b[43m    \u001b[49m\u001b[43miterable\u001b[49m\u001b[38;5;241;43m=\u001b[39;49m\u001b[43mitertools\u001b[49m\u001b[38;5;241;43m.\u001b[39;49m\u001b[43mproduct\u001b[49m\u001b[43m(\u001b[49m\u001b[43mk_array\u001b[49m\u001b[43m,\u001b[49m\u001b[43m \u001b[49m\u001b[43mb_array\u001b[49m\u001b[43m,\u001b[49m\u001b[43m \u001b[49m\u001b[43mz_array\u001b[49m\u001b[43m)\u001b[49m\u001b[43m,\u001b[49m\n\u001b[1;32m     28\u001b[0m \u001b[43m    \u001b[49m\u001b[43mcolumns\u001b[49m\u001b[38;5;241;43m=\u001b[39;49m\u001b[43m[\u001b[49m\u001b[38;5;124;43m\"\u001b[39;49m\u001b[38;5;124;43mk\u001b[39;49m\u001b[38;5;124;43m\"\u001b[39;49m\u001b[43m,\u001b[49m\u001b[43m \u001b[49m\u001b[38;5;124;43m\"\u001b[39;49m\u001b[38;5;124;43mb\u001b[39;49m\u001b[38;5;124;43m\"\u001b[39;49m\u001b[43m,\u001b[49m\u001b[43m \u001b[49m\u001b[38;5;124;43m\"\u001b[39;49m\u001b[38;5;124;43mz\u001b[39;49m\u001b[38;5;124;43m\"\u001b[39;49m\u001b[43m,\u001b[49m\u001b[43m \u001b[49m\u001b[38;5;124;43m\"\u001b[39;49m\u001b[38;5;124;43mh\u001b[39;49m\u001b[38;5;124;43m\"\u001b[39;49m\u001b[43m,\u001b[49m\u001b[43m \u001b[49m\u001b[38;5;124;43m\"\u001b[39;49m\u001b[38;5;124;43merror\u001b[39;49m\u001b[38;5;124;43m\"\u001b[39;49m\u001b[43m]\u001b[49m\u001b[43m,\u001b[49m\n\u001b[1;32m     29\u001b[0m \u001b[43m    \u001b[49m\u001b[43mtotal\u001b[49m\u001b[38;5;241;43m=\u001b[39;49m\u001b[38;5;28;43mlen\u001b[39;49m\u001b[43m(\u001b[49m\u001b[43mk_array\u001b[49m\u001b[43m)\u001b[49m\u001b[43m \u001b[49m\u001b[38;5;241;43m*\u001b[39;49m\u001b[43m \u001b[49m\u001b[38;5;28;43mlen\u001b[39;49m\u001b[43m(\u001b[49m\u001b[43mb_array\u001b[49m\u001b[43m)\u001b[49m\u001b[43m \u001b[49m\u001b[38;5;241;43m*\u001b[39;49m\u001b[43m \u001b[49m\u001b[38;5;28;43mlen\u001b[39;49m\u001b[43m(\u001b[49m\u001b[43mz_array\u001b[49m\u001b[43m)\u001b[49m\u001b[43m,\u001b[49m\n\u001b[1;32m     30\u001b[0m \u001b[43m\u001b[49m\u001b[43m)\u001b[49m\n\u001b[1;32m     32\u001b[0m \u001b[38;5;28mself\u001b[39m\u001b[38;5;241m.\u001b[39mdf[\u001b[38;5;124m\"\u001b[39m\u001b[38;5;124mlogerror\u001b[39m\u001b[38;5;124m\"\u001b[39m] \u001b[38;5;241m=\u001b[39m [math\u001b[38;5;241m.\u001b[39mlog(e, \u001b[38;5;241m10\u001b[39m) \u001b[38;5;28;01mfor\u001b[39;00m e \u001b[38;5;129;01min\u001b[39;00m \u001b[38;5;28mself\u001b[39m\u001b[38;5;241m.\u001b[39mdf[\u001b[38;5;124m\"\u001b[39m\u001b[38;5;124merror\u001b[39m\u001b[38;5;124m\"\u001b[39m]]\n\u001b[1;32m     33\u001b[0m \u001b[38;5;28mself\u001b[39m\u001b[38;5;241m.\u001b[39mdf[\u001b[38;5;124m\"\u001b[39m\u001b[38;5;124msign\u001b[39m\u001b[38;5;124m\"\u001b[39m] \u001b[38;5;241m=\u001b[39m [np\u001b[38;5;241m.\u001b[39msign(h) \u001b[38;5;28;01mfor\u001b[39;00m h \u001b[38;5;129;01min\u001b[39;00m \u001b[38;5;28mself\u001b[39m\u001b[38;5;241m.\u001b[39mdf[\u001b[38;5;124m\"\u001b[39m\u001b[38;5;124mh\u001b[39m\u001b[38;5;124m\"\u001b[39m]]\n",
      "Cell \u001b[0;32mIn[4], line 11\u001b[0m, in \u001b[0;36mcreate_pandas_dataframe\u001b[0;34m(func, iterable, columns, total, raw_data)\u001b[0m\n\u001b[1;32m      8\u001b[0m data \u001b[38;5;241m=\u001b[39m []\n\u001b[1;32m     10\u001b[0m \u001b[38;5;28;01mwith\u001b[39;00m multiprocessing\u001b[38;5;241m.\u001b[39mPool(processes\u001b[38;5;241m=\u001b[39mmultiprocessing\u001b[38;5;241m.\u001b[39mcpu_count()) \u001b[38;5;28;01mas\u001b[39;00m pool:\n\u001b[0;32m---> 11\u001b[0m \u001b[43m    \u001b[49m\u001b[38;5;28;43;01mfor\u001b[39;49;00m\u001b[43m \u001b[49m\u001b[43mcalculated_row\u001b[49m\u001b[43m \u001b[49m\u001b[38;5;129;43;01min\u001b[39;49;00m\u001b[43m \u001b[49m\u001b[43mtqdm\u001b[49m\u001b[43m(\u001b[49m\n\u001b[1;32m     12\u001b[0m \u001b[43m        \u001b[49m\u001b[43mpool\u001b[49m\u001b[38;5;241;43m.\u001b[39;49m\u001b[43mistarmap\u001b[49m\u001b[43m(\u001b[49m\u001b[43mfunc\u001b[49m\u001b[38;5;241;43m=\u001b[39;49m\u001b[43mfunc\u001b[49m\u001b[43m,\u001b[49m\u001b[43m \u001b[49m\u001b[43miterable\u001b[49m\u001b[38;5;241;43m=\u001b[39;49m\u001b[43miterable\u001b[49m\u001b[43m)\u001b[49m\u001b[43m,\u001b[49m\u001b[43m \u001b[49m\u001b[43mtotal\u001b[49m\u001b[38;5;241;43m=\u001b[39;49m\u001b[43mtotal\u001b[49m\n\u001b[1;32m     13\u001b[0m \u001b[43m    \u001b[49m\u001b[43m)\u001b[49m\u001b[43m:\u001b[49m\n\u001b[1;32m     14\u001b[0m \u001b[43m        \u001b[49m\u001b[43mdata\u001b[49m\u001b[38;5;241;43m.\u001b[39;49m\u001b[43mappend\u001b[49m\u001b[43m(\u001b[49m\u001b[43mcalculated_row\u001b[49m\u001b[43m)\u001b[49m\n\u001b[1;32m     16\u001b[0m \u001b[38;5;28;01mreturn\u001b[39;00m pd\u001b[38;5;241m.\u001b[39mDataFrame(data\u001b[38;5;241m=\u001b[39mdata, columns\u001b[38;5;241m=\u001b[39mcolumns)\n",
      "File \u001b[0;32m~/.cache/pypoetry/virtualenvs/collapsedwave-FzXm3nz_-py3.12/lib/python3.12/site-packages/tqdm/notebook.py:250\u001b[0m, in \u001b[0;36mtqdm_notebook.__iter__\u001b[0;34m(self)\u001b[0m\n\u001b[1;32m    248\u001b[0m \u001b[38;5;28;01mtry\u001b[39;00m:\n\u001b[1;32m    249\u001b[0m     it \u001b[38;5;241m=\u001b[39m \u001b[38;5;28msuper\u001b[39m()\u001b[38;5;241m.\u001b[39m\u001b[38;5;21m__iter__\u001b[39m()\n\u001b[0;32m--> 250\u001b[0m \u001b[43m    \u001b[49m\u001b[38;5;28;43;01mfor\u001b[39;49;00m\u001b[43m \u001b[49m\u001b[43mobj\u001b[49m\u001b[43m \u001b[49m\u001b[38;5;129;43;01min\u001b[39;49;00m\u001b[43m \u001b[49m\u001b[43mit\u001b[49m\u001b[43m:\u001b[49m\n\u001b[1;32m    251\u001b[0m \u001b[43m        \u001b[49m\u001b[38;5;66;43;03m# return super(tqdm...) will not catch exception\u001b[39;49;00m\n\u001b[1;32m    252\u001b[0m \u001b[43m        \u001b[49m\u001b[38;5;28;43;01myield\u001b[39;49;00m\u001b[43m \u001b[49m\u001b[43mobj\u001b[49m\n\u001b[1;32m    253\u001b[0m \u001b[38;5;66;03m# NB: except ... [ as ...] breaks IPython async KeyboardInterrupt\u001b[39;00m\n",
      "File \u001b[0;32m~/.cache/pypoetry/virtualenvs/collapsedwave-FzXm3nz_-py3.12/lib/python3.12/site-packages/tqdm/std.py:1181\u001b[0m, in \u001b[0;36mtqdm.__iter__\u001b[0;34m(self)\u001b[0m\n\u001b[1;32m   1178\u001b[0m time \u001b[38;5;241m=\u001b[39m \u001b[38;5;28mself\u001b[39m\u001b[38;5;241m.\u001b[39m_time\n\u001b[1;32m   1180\u001b[0m \u001b[38;5;28;01mtry\u001b[39;00m:\n\u001b[0;32m-> 1181\u001b[0m \u001b[43m    \u001b[49m\u001b[38;5;28;43;01mfor\u001b[39;49;00m\u001b[43m \u001b[49m\u001b[43mobj\u001b[49m\u001b[43m \u001b[49m\u001b[38;5;129;43;01min\u001b[39;49;00m\u001b[43m \u001b[49m\u001b[43miterable\u001b[49m\u001b[43m:\u001b[49m\n\u001b[1;32m   1182\u001b[0m \u001b[43m        \u001b[49m\u001b[38;5;28;43;01myield\u001b[39;49;00m\u001b[43m \u001b[49m\u001b[43mobj\u001b[49m\n\u001b[1;32m   1183\u001b[0m \u001b[43m        \u001b[49m\u001b[38;5;66;43;03m# Update and possibly print the progressbar.\u001b[39;49;00m\n\u001b[1;32m   1184\u001b[0m \u001b[43m        \u001b[49m\u001b[38;5;66;43;03m# Note: does not call self.update(1) for speed optimisation.\u001b[39;49;00m\n",
      "Cell \u001b[0;32mIn[3], line 17\u001b[0m, in \u001b[0;36m<genexpr>\u001b[0;34m(.0)\u001b[0m\n\u001b[1;32m      8\u001b[0m result \u001b[38;5;241m=\u001b[39m multiprocessing\u001b[38;5;241m.\u001b[39mpool\u001b[38;5;241m.\u001b[39mIMapIterator(\u001b[38;5;28mself\u001b[39m)\n\u001b[1;32m      9\u001b[0m \u001b[38;5;28mself\u001b[39m\u001b[38;5;241m.\u001b[39m_taskqueue\u001b[38;5;241m.\u001b[39mput(\n\u001b[1;32m     10\u001b[0m     (\n\u001b[1;32m     11\u001b[0m         \u001b[38;5;28mself\u001b[39m\u001b[38;5;241m.\u001b[39m_guarded_task_generation(\n\u001b[0;32m   (...)\u001b[0m\n\u001b[1;32m     15\u001b[0m     )\n\u001b[1;32m     16\u001b[0m )\n\u001b[0;32m---> 17\u001b[0m \u001b[38;5;28;01mreturn\u001b[39;00m \u001b[43m(\u001b[49m\u001b[43mitem\u001b[49m\u001b[43m \u001b[49m\u001b[38;5;28;43;01mfor\u001b[39;49;00m\u001b[43m \u001b[49m\u001b[43mchunk\u001b[49m\u001b[43m \u001b[49m\u001b[38;5;129;43;01min\u001b[39;49;00m\u001b[43m \u001b[49m\u001b[43mresult\u001b[49m\u001b[43m \u001b[49m\u001b[38;5;28;43;01mfor\u001b[39;49;00m\u001b[43m \u001b[49m\u001b[43mitem\u001b[49m\u001b[43m \u001b[49m\u001b[38;5;129;43;01min\u001b[39;49;00m\u001b[43m \u001b[49m\u001b[43mchunk\u001b[49m\u001b[43m)\u001b[49m\n",
      "File \u001b[0;32m/usr/lib/python3.12/multiprocessing/pool.py:861\u001b[0m, in \u001b[0;36mIMapIterator.next\u001b[0;34m(self, timeout)\u001b[0m\n\u001b[1;32m    859\u001b[0m     \u001b[38;5;28mself\u001b[39m\u001b[38;5;241m.\u001b[39m_pool \u001b[38;5;241m=\u001b[39m \u001b[38;5;28;01mNone\u001b[39;00m\n\u001b[1;32m    860\u001b[0m     \u001b[38;5;28;01mraise\u001b[39;00m \u001b[38;5;167;01mStopIteration\u001b[39;00m \u001b[38;5;28;01mfrom\u001b[39;00m \u001b[38;5;28;01mNone\u001b[39;00m\n\u001b[0;32m--> 861\u001b[0m \u001b[38;5;28;43mself\u001b[39;49m\u001b[38;5;241;43m.\u001b[39;49m\u001b[43m_cond\u001b[49m\u001b[38;5;241;43m.\u001b[39;49m\u001b[43mwait\u001b[49m\u001b[43m(\u001b[49m\u001b[43mtimeout\u001b[49m\u001b[43m)\u001b[49m\n\u001b[1;32m    862\u001b[0m \u001b[38;5;28;01mtry\u001b[39;00m:\n\u001b[1;32m    863\u001b[0m     item \u001b[38;5;241m=\u001b[39m \u001b[38;5;28mself\u001b[39m\u001b[38;5;241m.\u001b[39m_items\u001b[38;5;241m.\u001b[39mpopleft()\n",
      "File \u001b[0;32m/usr/lib/python3.12/threading.py:355\u001b[0m, in \u001b[0;36mCondition.wait\u001b[0;34m(self, timeout)\u001b[0m\n\u001b[1;32m    353\u001b[0m \u001b[38;5;28;01mtry\u001b[39;00m:    \u001b[38;5;66;03m# restore state no matter what (e.g., KeyboardInterrupt)\u001b[39;00m\n\u001b[1;32m    354\u001b[0m     \u001b[38;5;28;01mif\u001b[39;00m timeout \u001b[38;5;129;01mis\u001b[39;00m \u001b[38;5;28;01mNone\u001b[39;00m:\n\u001b[0;32m--> 355\u001b[0m         \u001b[43mwaiter\u001b[49m\u001b[38;5;241;43m.\u001b[39;49m\u001b[43macquire\u001b[49m\u001b[43m(\u001b[49m\u001b[43m)\u001b[49m\n\u001b[1;32m    356\u001b[0m         gotit \u001b[38;5;241m=\u001b[39m \u001b[38;5;28;01mTrue\u001b[39;00m\n\u001b[1;32m    357\u001b[0m     \u001b[38;5;28;01melse\u001b[39;00m:\n",
      "\u001b[0;31mKeyboardInterrupt\u001b[0m: "
     ]
    }
   ],
   "source": [
    "interval = 1000\n",
    "n_samples = 50000\n",
    "z_array = np.linspace(-1 * interval, 1 * interval, n_samples)\n",
    "print(f\"Spacing between observations: {np.divide(2*interval, n_samples):.3f}\")\n",
    "results = VisualizeDataFrame(\n",
    "    t=0.25, k_array=[50], b_array=[50], z_array=z_array  # [2**i for i in range(5)]\n",
    ")"
   ]
  },
  {
   "cell_type": "markdown",
   "id": "84f030de-2c78-4491-a72d-ec132bb7000c",
   "metadata": {},
   "source": [
    "# Plotting $H_{0.25}(z)$"
   ]
  },
  {
   "cell_type": "code",
   "execution_count": 13,
   "id": "a35f2cca-3ecd-4c0f-9b06-bf1693d0d971",
   "metadata": {},
   "outputs": [
    {
     "data": {
      "image/png": "[encoded data removed]",
      "text/plain": [
       "<Figure size 2000x200 with 1 Axes>"
      ]
     },
     "metadata": {},
     "output_type": "display_data"
    }
   ],
   "source": [
    "results.lineplot()"
   ]
  },
  {
   "cell_type": "code",
   "execution_count": 14,
   "id": "23d6abc2-6a19-4df6-8c84-e851ff9092e3",
   "metadata": {},
   "outputs": [
    {
     "data": {
      "image/png": "[encoded data removed]",
      "text/plain": [
       "<Figure size 2000x200 with 1 Axes>"
      ]
     },
     "metadata": {},
     "output_type": "display_data"
    }
   ],
   "source": [
    "results.lineplot(crop=10**-2)"
   ]
  },
  {
   "cell_type": "code",
   "execution_count": 15,
   "id": "2910c3a4-cc3d-41c3-b003-024f61e10f57",
   "metadata": {},
   "outputs": [
    {
     "data": {
      "image/png": "[encoded data removed]",
      "text/plain": [
       "<Figure size 2000x200 with 1 Axes>"
      ]
     },
     "metadata": {},
     "output_type": "display_data"
    }
   ],
   "source": [
    "results.lineplot(crop=10**-4)"
   ]
  },
  {
   "cell_type": "code",
   "execution_count": 16,
   "id": "60c266a1-03ce-40ed-baed-c72bf0df7e1f",
   "metadata": {},
   "outputs": [
    {
     "data": {
      "image/png": "[encoded data removed]",
      "text/plain": [
       "<Figure size 2000x200 with 1 Axes>"
      ]
     },
     "metadata": {},
     "output_type": "display_data"
    }
   ],
   "source": [
    "results.lineplot(crop=10**-8)"
   ]
  },
  {
   "cell_type": "code",
   "execution_count": 17,
   "id": "af4e7234-549e-4c04-bb44-281e9fca3412",
   "metadata": {},
   "outputs": [
    {
     "data": {
      "image/png": "[encoded data removed]",
      "text/plain": [
       "<Figure size 2000x200 with 1 Axes>"
      ]
     },
     "metadata": {},
     "output_type": "display_data"
    }
   ],
   "source": [
    "results.lineplot(crop=10**-16)"
   ]
  },
  {
   "cell_type": "markdown",
   "id": "fdcd3f9d-3e21-46e6-879f-3f25d8bd8cd6",
   "metadata": {},
   "source": [
    "# Visualizing the sign of $h$\n",
    "\n",
    "- The location of zeroes become easier to observe: we have a zero whenever the sign of $h$ swaps, as seen below.\n",
    "- The zeroes are not clear from the image above."
   ]
  },
  {
   "cell_type": "code",
   "execution_count": 18,
   "id": "0601d103-cf31-4216-a1d1-7c879bdc9397",
   "metadata": {},
   "outputs": [
    {
     "data": {
      "image/png": "[encoded data removed]",
      "text/plain": [
       "<Figure size 2000x100 with 1 Axes>"
      ]
     },
     "metadata": {},
     "output_type": "display_data"
    }
   ],
   "source": [
    "results.signplot()"
   ]
  },
  {
   "cell_type": "markdown",
   "id": "892edd95-44a9-4e06-8b0b-c79be0831027",
   "metadata": {},
   "source": [
    "The zeroes above are unreliable: we calculated this function using a small $k$ and integrating $h$ only on $\\int_0^{b}$ . They are merely a starting point for finding the zeroes"
   ]
  },
  {
   "cell_type": "markdown",
   "id": "8ad2cae1-4366-4b01-9be2-0a828f514233",
   "metadata": {},
   "source": [
    "# Finding zeroes\n",
    "\n",
    "For\n",
    "1. a time $t$\n",
    "2. a given upper limit $b$ for the integral, i.e. $\\int_0^b$.\n",
    "3. number of elements $k$ used in the sum, i.e. $\\sum_{n=1}^k$\n",
    "\n",
    "We pass a function uni-variate $H(z)$ to scipy's root finder [fsolve](https://docs.scipy.org/doc/scipy/reference/generated/scipy.optimize.fsolve.html), in order to find roots $r$ of the function. We build the dataframe of triplets $(b,h,r_{b,k})$, and plot it to get an overview of the numerical stability of $r$."
   ]
  },
  {
   "cell_type": "code",
   "execution_count": 19,
   "id": "01666314-52ec-4fb6-aa59-6da69d0744bd",
   "metadata": {},
   "outputs": [
    {
     "data": {
      "application/vnd.jupyter.widget-view+json": {
       "model_id": "bb37ab60517c4358936667a6f6462fc1",
       "version_major": 2,
       "version_minor": 0
      },
      "text/plain": [
       "  0%|          | 0/300 [00:00<?, ?it/s]"
      ]
     },
     "metadata": {},
     "output_type": "display_data"
    },
    {
     "name": "stderr",
     "output_type": "stream",
     "text": [
      "/tmp/ipykernel_95379/1141751485.py:3: IntegrationWarning: The maximum number of subdivisions (50) has been achieved.\n",
      "  If increasing the limit yields no improvement it is advised to analyze \n",
      "  the integrand in order to determine the difficulties.  If the position of a \n",
      "  local difficulty can be determined (singularity, discontinuity) one will \n",
      "  probably gain from splitting up the interval and calling the integrator \n",
      "  on the subranges.  Perhaps a special-purpose integrator should be used.\n",
      "  return quad(\n",
      "/tmp/ipykernel_95379/1141751485.py:3: IntegrationWarning: The maximum number of subdivisions (50) has been achieved.\n",
      "  If increasing the limit yields no improvement it is advised to analyze \n",
      "  the integrand in order to determine the difficulties.  If the position of a \n",
      "  local difficulty can be determined (singularity, discontinuity) one will \n",
      "  probably gain from splitting up the interval and calling the integrator \n",
      "  on the subranges.  Perhaps a special-purpose integrator should be used.\n",
      "  return quad(\n",
      "/tmp/ipykernel_95379/1141751485.py:3: IntegrationWarning: The maximum number of subdivisions (50) has been achieved.\n",
      "  If increasing the limit yields no improvement it is advised to analyze \n",
      "  the integrand in order to determine the difficulties.  If the position of a \n",
      "  local difficulty can be determined (singularity, discontinuity) one will \n",
      "  probably gain from splitting up the interval and calling the integrator \n",
      "  on the subranges.  Perhaps a special-purpose integrator should be used.\n",
      "  return quad(\n",
      "/tmp/ipykernel_95379/1141751485.py:3: IntegrationWarning: The maximum number of subdivisions (50) has been achieved.\n",
      "  If increasing the limit yields no improvement it is advised to analyze \n",
      "  the integrand in order to determine the difficulties.  If the position of a \n",
      "  local difficulty can be determined (singularity, discontinuity) one will \n",
      "  probably gain from splitting up the interval and calling the integrator \n",
      "  on the subranges.  Perhaps a special-purpose integrator should be used.\n",
      "  return quad(\n",
      "/tmp/ipykernel_95379/1141751485.py:3: IntegrationWarning: The maximum number of subdivisions (50) has been achieved.\n",
      "  If increasing the limit yields no improvement it is advised to analyze \n",
      "  the integrand in order to determine the difficulties.  If the position of a \n",
      "  local difficulty can be determined (singularity, discontinuity) one will \n",
      "  probably gain from splitting up the interval and calling the integrator \n",
      "  on the subranges.  Perhaps a special-purpose integrator should be used.\n",
      "  return quad(\n",
      "/tmp/ipykernel_95379/1141751485.py:3: IntegrationWarning: The maximum number of subdivisions (50) has been achieved.\n",
      "  If increasing the limit yields no improvement it is advised to analyze \n",
      "  the integrand in order to determine the difficulties.  If the position of a \n",
      "  local difficulty can be determined (singularity, discontinuity) one will \n",
      "  probably gain from splitting up the interval and calling the integrator \n",
      "  on the subranges.  Perhaps a special-purpose integrator should be used.\n",
      "  return quad(\n",
      "/tmp/ipykernel_95379/1141751485.py:3: IntegrationWarning: The integral is probably divergent, or slowly convergent.\n",
      "  return quad(\n",
      "/tmp/ipykernel_95379/1141751485.py:3: IntegrationWarning: The integral is probably divergent, or slowly convergent.\n",
      "  return quad(\n",
      "/tmp/ipykernel_95379/1141751485.py:3: IntegrationWarning: The maximum number of subdivisions (50) has been achieved.\n",
      "  If increasing the limit yields no improvement it is advised to analyze \n",
      "  the integrand in order to determine the difficulties.  If the position of a \n",
      "  local difficulty can be determined (singularity, discontinuity) one will \n",
      "  probably gain from splitting up the interval and calling the integrator \n",
      "  on the subranges.  Perhaps a special-purpose integrator should be used.\n",
      "  return quad(\n",
      "/tmp/ipykernel_95379/1141751485.py:3: IntegrationWarning: The maximum number of subdivisions (50) has been achieved.\n",
      "  If increasing the limit yields no improvement it is advised to analyze \n",
      "  the integrand in order to determine the difficulties.  If the position of a \n",
      "  local difficulty can be determined (singularity, discontinuity) one will \n",
      "  probably gain from splitting up the interval and calling the integrator \n",
      "  on the subranges.  Perhaps a special-purpose integrator should be used.\n",
      "  return quad(\n",
      "/tmp/ipykernel_95379/1141751485.py:3: IntegrationWarning: The integral is probably divergent, or slowly convergent.\n",
      "  return quad(\n",
      "/tmp/ipykernel_95379/1141751485.py:3: IntegrationWarning: The maximum number of subdivisions (50) has been achieved.\n",
      "  If increasing the limit yields no improvement it is advised to analyze \n",
      "  the integrand in order to determine the difficulties.  If the position of a \n",
      "  local difficulty can be determined (singularity, discontinuity) one will \n",
      "  probably gain from splitting up the interval and calling the integrator \n",
      "  on the subranges.  Perhaps a special-purpose integrator should be used.\n",
      "  return quad(\n",
      "/tmp/ipykernel_95379/1141751485.py:3: IntegrationWarning: The maximum number of subdivisions (50) has been achieved.\n",
      "  If increasing the limit yields no improvement it is advised to analyze \n",
      "  the integrand in order to determine the difficulties.  If the position of a \n",
      "  local difficulty can be determined (singularity, discontinuity) one will \n",
      "  probably gain from splitting up the interval and calling the integrator \n",
      "  on the subranges.  Perhaps a special-purpose integrator should be used.\n",
      "  return quad(\n",
      "/tmp/ipykernel_95379/1141751485.py:3: IntegrationWarning: The maximum number of subdivisions (50) has been achieved.\n",
      "  If increasing the limit yields no improvement it is advised to analyze \n",
      "  the integrand in order to determine the difficulties.  If the position of a \n",
      "  local difficulty can be determined (singularity, discontinuity) one will \n",
      "  probably gain from splitting up the interval and calling the integrator \n",
      "  on the subranges.  Perhaps a special-purpose integrator should be used.\n",
      "  return quad(\n",
      "/tmp/ipykernel_95379/1141751485.py:3: IntegrationWarning: The integral is probably divergent, or slowly convergent.\n",
      "  return quad(\n",
      "/tmp/ipykernel_95379/1141751485.py:3: IntegrationWarning: The integral is probably divergent, or slowly convergent.\n",
      "  return quad(\n",
      "/tmp/ipykernel_95379/1141751485.py:3: IntegrationWarning: The integral is probably divergent, or slowly convergent.\n",
      "  return quad(\n",
      "/tmp/ipykernel_95379/1141751485.py:3: IntegrationWarning: The maximum number of subdivisions (50) has been achieved.\n",
      "  If increasing the limit yields no improvement it is advised to analyze \n",
      "  the integrand in order to determine the difficulties.  If the position of a \n",
      "  local difficulty can be determined (singularity, discontinuity) one will \n",
      "  probably gain from splitting up the interval and calling the integrator \n",
      "  on the subranges.  Perhaps a special-purpose integrator should be used.\n",
      "  return quad(\n",
      "/tmp/ipykernel_95379/1141751485.py:3: IntegrationWarning: The integral is probably divergent, or slowly convergent.\n",
      "  return quad(\n",
      "/tmp/ipykernel_95379/1141751485.py:3: IntegrationWarning: The maximum number of subdivisions (50) has been achieved.\n",
      "  If increasing the limit yields no improvement it is advised to analyze \n",
      "  the integrand in order to determine the difficulties.  If the position of a \n",
      "  local difficulty can be determined (singularity, discontinuity) one will \n",
      "  probably gain from splitting up the interval and calling the integrator \n",
      "  on the subranges.  Perhaps a special-purpose integrator should be used.\n",
      "  return quad(\n",
      "/tmp/ipykernel_95379/1141751485.py:3: IntegrationWarning: The integral is probably divergent, or slowly convergent.\n",
      "  return quad(\n",
      "/tmp/ipykernel_95379/1141751485.py:3: IntegrationWarning: The integral is probably divergent, or slowly convergent.\n",
      "  return quad(\n",
      "/tmp/ipykernel_95379/1141751485.py:3: IntegrationWarning: The integral is probably divergent, or slowly convergent.\n",
      "  return quad(\n",
      "/tmp/ipykernel_95379/1141751485.py:3: IntegrationWarning: The integral is probably divergent, or slowly convergent.\n",
      "  return quad(\n",
      "/tmp/ipykernel_95379/1141751485.py:3: IntegrationWarning: The maximum number of subdivisions (50) has been achieved.\n",
      "  If increasing the limit yields no improvement it is advised to analyze \n",
      "  the integrand in order to determine the difficulties.  If the position of a \n",
      "  local difficulty can be determined (singularity, discontinuity) one will \n",
      "  probably gain from splitting up the interval and calling the integrator \n",
      "  on the subranges.  Perhaps a special-purpose integrator should be used.\n",
      "  return quad(\n",
      "/tmp/ipykernel_95379/1141751485.py:3: IntegrationWarning: The maximum number of subdivisions (50) has been achieved.\n",
      "  If increasing the limit yields no improvement it is advised to analyze \n",
      "  the integrand in order to determine the difficulties.  If the position of a \n",
      "  local difficulty can be determined (singularity, discontinuity) one will \n",
      "  probably gain from splitting up the interval and calling the integrator \n",
      "  on the subranges.  Perhaps a special-purpose integrator should be used.\n",
      "  return quad(\n",
      "/tmp/ipykernel_95379/1141751485.py:3: IntegrationWarning: The integral is probably divergent, or slowly convergent.\n",
      "  return quad(\n",
      "/tmp/ipykernel_95379/1141751485.py:3: IntegrationWarning: The maximum number of subdivisions (50) has been achieved.\n",
      "  If increasing the limit yields no improvement it is advised to analyze \n",
      "  the integrand in order to determine the difficulties.  If the position of a \n",
      "  local difficulty can be determined (singularity, discontinuity) one will \n",
      "  probably gain from splitting up the interval and calling the integrator \n",
      "  on the subranges.  Perhaps a special-purpose integrator should be used.\n",
      "  return quad(\n",
      "/tmp/ipykernel_95379/1141751485.py:3: IntegrationWarning: The integral is probably divergent, or slowly convergent.\n",
      "  return quad(\n",
      "/tmp/ipykernel_95379/1141751485.py:3: IntegrationWarning: The integral is probably divergent, or slowly convergent.\n",
      "  return quad(\n",
      "/opt/conda/lib/python3.11/site-packages/scipy/optimize/_minpack_py.py:177: RuntimeWarning: The iteration is not making good progress, as measured by the \n",
      "  improvement from the last ten iterations.\n",
      "  warnings.warn(msg, RuntimeWarning)\n",
      "/opt/conda/lib/python3.11/site-packages/scipy/optimize/_minpack_py.py:177: RuntimeWarning: The iteration is not making good progress, as measured by the \n",
      "  improvement from the last ten iterations.\n",
      "  warnings.warn(msg, RuntimeWarning)\n",
      "/opt/conda/lib/python3.11/site-packages/scipy/optimize/_minpack_py.py:177: RuntimeWarning: The iteration is not making good progress, as measured by the \n",
      "  improvement from the last ten iterations.\n",
      "  warnings.warn(msg, RuntimeWarning)\n",
      "/opt/conda/lib/python3.11/site-packages/scipy/optimize/_minpack_py.py:177: RuntimeWarning: The iteration is not making good progress, as measured by the \n",
      "  improvement from the last ten iterations.\n",
      "  warnings.warn(msg, RuntimeWarning)\n",
      "/opt/conda/lib/python3.11/site-packages/scipy/optimize/_minpack_py.py:177: RuntimeWarning: The iteration is not making good progress, as measured by the \n",
      "  improvement from the last ten iterations.\n",
      "  warnings.warn(msg, RuntimeWarning)\n",
      "/opt/conda/lib/python3.11/site-packages/scipy/optimize/_minpack_py.py:177: RuntimeWarning: The iteration is not making good progress, as measured by the \n",
      "  improvement from the last ten iterations.\n",
      "  warnings.warn(msg, RuntimeWarning)\n",
      "/opt/conda/lib/python3.11/site-packages/scipy/optimize/_minpack_py.py:177: RuntimeWarning: The iteration is not making good progress, as measured by the \n",
      "  improvement from the last ten iterations.\n",
      "  warnings.warn(msg, RuntimeWarning)\n",
      "/opt/conda/lib/python3.11/site-packages/scipy/optimize/_minpack_py.py:177: RuntimeWarning: The iteration is not making good progress, as measured by the \n",
      "  improvement from the last ten iterations.\n",
      "  warnings.warn(msg, RuntimeWarning)\n",
      "/opt/conda/lib/python3.11/site-packages/scipy/optimize/_minpack_py.py:177: RuntimeWarning: The iteration is not making good progress, as measured by the \n",
      "  improvement from the last five Jacobian evaluations.\n",
      "  warnings.warn(msg, RuntimeWarning)\n",
      "/opt/conda/lib/python3.11/site-packages/scipy/optimize/_minpack_py.py:177: RuntimeWarning: The iteration is not making good progress, as measured by the \n",
      "  improvement from the last ten iterations.\n",
      "  warnings.warn(msg, RuntimeWarning)\n",
      "/opt/conda/lib/python3.11/site-packages/scipy/optimize/_minpack_py.py:177: RuntimeWarning: The iteration is not making good progress, as measured by the \n",
      "  improvement from the last five Jacobian evaluations.\n",
      "  warnings.warn(msg, RuntimeWarning)\n",
      "/opt/conda/lib/python3.11/site-packages/scipy/optimize/_minpack_py.py:177: RuntimeWarning: The iteration is not making good progress, as measured by the \n",
      "  improvement from the last ten iterations.\n",
      "  warnings.warn(msg, RuntimeWarning)\n",
      "/opt/conda/lib/python3.11/site-packages/scipy/optimize/_minpack_py.py:177: RuntimeWarning: The iteration is not making good progress, as measured by the \n",
      "  improvement from the last ten iterations.\n",
      "  warnings.warn(msg, RuntimeWarning)\n",
      "/opt/conda/lib/python3.11/site-packages/scipy/optimize/_minpack_py.py:177: RuntimeWarning: The iteration is not making good progress, as measured by the \n",
      "  improvement from the last ten iterations.\n",
      "  warnings.warn(msg, RuntimeWarning)\n",
      "/opt/conda/lib/python3.11/site-packages/scipy/optimize/_minpack_py.py:177: RuntimeWarning: The iteration is not making good progress, as measured by the \n",
      "  improvement from the last ten iterations.\n",
      "  warnings.warn(msg, RuntimeWarning)\n",
      "/opt/conda/lib/python3.11/site-packages/scipy/optimize/_minpack_py.py:177: RuntimeWarning: The iteration is not making good progress, as measured by the \n",
      "  improvement from the last five Jacobian evaluations.\n",
      "  warnings.warn(msg, RuntimeWarning)\n",
      "/tmp/ipykernel_95379/1141751485.py:3: IntegrationWarning: The integral is probably divergent, or slowly convergent.\n",
      "  return quad(\n",
      "/tmp/ipykernel_95379/1141751485.py:3: IntegrationWarning: The integral is probably divergent, or slowly convergent.\n",
      "  return quad(\n",
      "/opt/conda/lib/python3.11/site-packages/scipy/optimize/_minpack_py.py:177: RuntimeWarning: The iteration is not making good progress, as measured by the \n",
      "  improvement from the last five Jacobian evaluations.\n",
      "  warnings.warn(msg, RuntimeWarning)\n",
      "/opt/conda/lib/python3.11/site-packages/scipy/optimize/_minpack_py.py:177: RuntimeWarning: The iteration is not making good progress, as measured by the \n",
      "  improvement from the last five Jacobian evaluations.\n",
      "  warnings.warn(msg, RuntimeWarning)\n",
      "/opt/conda/lib/python3.11/site-packages/scipy/optimize/_minpack_py.py:177: RuntimeWarning: The iteration is not making good progress, as measured by the \n",
      "  improvement from the last five Jacobian evaluations.\n",
      "  warnings.warn(msg, RuntimeWarning)\n",
      "/opt/conda/lib/python3.11/site-packages/scipy/optimize/_minpack_py.py:177: RuntimeWarning: The iteration is not making good progress, as measured by the \n",
      "  improvement from the last five Jacobian evaluations.\n",
      "  warnings.warn(msg, RuntimeWarning)\n",
      "/opt/conda/lib/python3.11/site-packages/scipy/optimize/_minpack_py.py:177: RuntimeWarning: The iteration is not making good progress, as measured by the \n",
      "  improvement from the last ten iterations.\n",
      "  warnings.warn(msg, RuntimeWarning)\n",
      "/opt/conda/lib/python3.11/site-packages/scipy/optimize/_minpack_py.py:177: RuntimeWarning: The iteration is not making good progress, as measured by the \n",
      "  improvement from the last five Jacobian evaluations.\n",
      "  warnings.warn(msg, RuntimeWarning)\n",
      "/opt/conda/lib/python3.11/site-packages/scipy/optimize/_minpack_py.py:177: RuntimeWarning: The iteration is not making good progress, as measured by the \n",
      "  improvement from the last ten iterations.\n",
      "  warnings.warn(msg, RuntimeWarning)\n",
      "/opt/conda/lib/python3.11/site-packages/scipy/optimize/_minpack_py.py:177: RuntimeWarning: The iteration is not making good progress, as measured by the \n",
      "  improvement from the last five Jacobian evaluations.\n",
      "  warnings.warn(msg, RuntimeWarning)\n",
      "/opt/conda/lib/python3.11/site-packages/scipy/optimize/_minpack_py.py:177: RuntimeWarning: The iteration is not making good progress, as measured by the \n",
      "  improvement from the last five Jacobian evaluations.\n",
      "  warnings.warn(msg, RuntimeWarning)\n",
      "/opt/conda/lib/python3.11/site-packages/scipy/optimize/_minpack_py.py:177: RuntimeWarning: The iteration is not making good progress, as measured by the \n",
      "  improvement from the last ten iterations.\n",
      "  warnings.warn(msg, RuntimeWarning)\n",
      "/opt/conda/lib/python3.11/site-packages/scipy/optimize/_minpack_py.py:177: RuntimeWarning: The iteration is not making good progress, as measured by the \n",
      "  improvement from the last five Jacobian evaluations.\n",
      "  warnings.warn(msg, RuntimeWarning)\n",
      "/opt/conda/lib/python3.11/site-packages/scipy/optimize/_minpack_py.py:177: RuntimeWarning: The iteration is not making good progress, as measured by the \n",
      "  improvement from the last five Jacobian evaluations.\n",
      "  warnings.warn(msg, RuntimeWarning)\n",
      "/opt/conda/lib/python3.11/site-packages/scipy/optimize/_minpack_py.py:177: RuntimeWarning: The iteration is not making good progress, as measured by the \n",
      "  improvement from the last five Jacobian evaluations.\n",
      "  warnings.warn(msg, RuntimeWarning)\n",
      "/opt/conda/lib/python3.11/site-packages/scipy/optimize/_minpack_py.py:177: RuntimeWarning: The iteration is not making good progress, as measured by the \n",
      "  improvement from the last five Jacobian evaluations.\n",
      "  warnings.warn(msg, RuntimeWarning)\n",
      "/opt/conda/lib/python3.11/site-packages/scipy/optimize/_minpack_py.py:177: RuntimeWarning: The iteration is not making good progress, as measured by the \n",
      "  improvement from the last five Jacobian evaluations.\n",
      "  warnings.warn(msg, RuntimeWarning)\n",
      "/opt/conda/lib/python3.11/site-packages/scipy/optimize/_minpack_py.py:177: RuntimeWarning: The iteration is not making good progress, as measured by the \n",
      "  improvement from the last five Jacobian evaluations.\n",
      "  warnings.warn(msg, RuntimeWarning)\n"
     ]
    }
   ],
   "source": [
    "k_values = [5, 20, 50]\n",
    "b_values = np.linspace(5, 50, 100)\n",
    "data = []\n",
    "\n",
    "\n",
    "def create_zeroes_row(k, b):\n",
    "    return (k, b, fsolve(func=lambda z: H(z=z, t=0.25, b=b, k=k)[0], x0=1)[0])\n",
    "\n",
    "\n",
    "zeroes_df = create_pandas_dataframe(\n",
    "    func=create_zeroes_row,\n",
    "    columns=[\"k\", \"b\", \"root\"],\n",
    "    iterable=itertools.product(k_values, b_values),\n",
    "    total=len(k_values) * len(b_values),\n",
    ")"
   ]
  },
  {
   "cell_type": "markdown",
   "id": "1b446fdf-4258-4ce9-8f4e-351642367aaf",
   "metadata": {},
   "source": [
    "# Plots"
   ]
  },
  {
   "cell_type": "markdown",
   "id": "274becb4-3add-4d18-aa43-3e0ab94456b9",
   "metadata": {},
   "source": [
    "## Histplot"
   ]
  },
  {
   "cell_type": "code",
   "execution_count": 20,
   "id": "547c0cc7-100f-448b-8b1d-2a76ca629488",
   "metadata": {},
   "outputs": [
    {
     "data": {
      "text/plain": [
       "<Axes: xlabel='root', ylabel='Count'>"
      ]
     },
     "execution_count": 20,
     "metadata": {},
     "output_type": "execute_result"
    },
    {
     "data": {
      "image/png": "[encoded data removed]",
      "text/plain": [
       "<Figure size 2000x200 with 1 Axes>"
      ]
     },
     "metadata": {},
     "output_type": "display_data"
    }
   ],
   "source": [
    "sns.histplot(zeroes_df[\"root\"])"
   ]
  },
  {
   "cell_type": "markdown",
   "id": "6e3061ef-dc61-4956-8066-95151aaf0d94",
   "metadata": {},
   "source": [
    "## Heatmap"
   ]
  },
  {
   "cell_type": "code",
   "execution_count": 21,
   "id": "1e2501c1-0dcc-439c-9525-da3eb8a04f46",
   "metadata": {},
   "outputs": [
    {
     "data": {
      "text/html": [
       "<style type=\"text/css\">\n",
       "#T_88cde_row0_col0, #T_88cde_row0_col9, #T_88cde_row0_col11, #T_88cde_row0_col58, #T_88cde_row0_col87, #T_88cde_row1_col0, #T_88cde_row1_col9, #T_88cde_row1_col11, #T_88cde_row1_col58, #T_88cde_row1_col87, #T_88cde_row2_col0, #T_88cde_row2_col9, #T_88cde_row2_col11, #T_88cde_row2_col58, #T_88cde_row2_col87 {\n",
       "  background-color: #3a538b;\n",
       "  color: #f1f1f1;\n",
       "}\n",
       "#T_88cde_row0_col1, #T_88cde_row0_col13, #T_88cde_row1_col1, #T_88cde_row1_col13, #T_88cde_row2_col1, #T_88cde_row2_col13 {\n",
       "  background-color: #f1e51d;\n",
       "  color: #000000;\n",
       "}\n",
       "#T_88cde_row0_col2, #T_88cde_row0_col6, #T_88cde_row0_col15, #T_88cde_row0_col90, #T_88cde_row1_col2, #T_88cde_row1_col6, #T_88cde_row1_col15, #T_88cde_row1_col90, #T_88cde_row2_col2, #T_88cde_row2_col6, #T_88cde_row2_col15, #T_88cde_row2_col90 {\n",
       "  background-color: #1fa088;\n",
       "  color: #f1f1f1;\n",
       "}\n",
       "#T_88cde_row0_col3, #T_88cde_row1_col3, #T_88cde_row2_col3 {\n",
       "  background-color: #46c06f;\n",
       "  color: #f1f1f1;\n",
       "}\n",
       "#T_88cde_row0_col4, #T_88cde_row0_col19, #T_88cde_row0_col49, #T_88cde_row1_col4, #T_88cde_row1_col19, #T_88cde_row1_col49, #T_88cde_row2_col4, #T_88cde_row2_col19, #T_88cde_row2_col49 {\n",
       "  background-color: #1f978b;\n",
       "  color: #f1f1f1;\n",
       "}\n",
       "#T_88cde_row0_col5, #T_88cde_row1_col5, #T_88cde_row2_col5 {\n",
       "  background-color: #25858e;\n",
       "  color: #f1f1f1;\n",
       "}\n",
       "#T_88cde_row0_col7, #T_88cde_row0_col51, #T_88cde_row1_col7, #T_88cde_row1_col51, #T_88cde_row2_col7, #T_88cde_row2_col51 {\n",
       "  background-color: #1f968b;\n",
       "  color: #f1f1f1;\n",
       "}\n",
       "#T_88cde_row0_col8, #T_88cde_row0_col27, #T_88cde_row0_col65, #T_88cde_row1_col8, #T_88cde_row1_col27, #T_88cde_row1_col65, #T_88cde_row2_col8, #T_88cde_row2_col27, #T_88cde_row2_col65 {\n",
       "  background-color: #472d7b;\n",
       "  color: #f1f1f1;\n",
       "}\n",
       "#T_88cde_row0_col10, #T_88cde_row1_col10, #T_88cde_row2_col10 {\n",
       "  background-color: #27ad81;\n",
       "  color: #f1f1f1;\n",
       "}\n",
       "#T_88cde_row0_col12, #T_88cde_row1_col12, #T_88cde_row2_col12 {\n",
       "  background-color: #f4e61e;\n",
       "  color: #000000;\n",
       "}\n",
       "#T_88cde_row0_col14, #T_88cde_row0_col40, #T_88cde_row1_col14, #T_88cde_row1_col40, #T_88cde_row2_col14, #T_88cde_row2_col40 {\n",
       "  background-color: #cae11f;\n",
       "  color: #000000;\n",
       "}\n",
       "#T_88cde_row0_col16, #T_88cde_row0_col43, #T_88cde_row1_col16, #T_88cde_row1_col43, #T_88cde_row2_col16, #T_88cde_row2_col43 {\n",
       "  background-color: #2e6d8e;\n",
       "  color: #f1f1f1;\n",
       "}\n",
       "#T_88cde_row0_col17, #T_88cde_row1_col17, #T_88cde_row2_col17 {\n",
       "  background-color: #3bbb75;\n",
       "  color: #f1f1f1;\n",
       "}\n",
       "#T_88cde_row0_col18, #T_88cde_row1_col18, #T_88cde_row2_col18 {\n",
       "  background-color: #2eb37c;\n",
       "  color: #f1f1f1;\n",
       "}\n",
       "#T_88cde_row0_col20, #T_88cde_row1_col20, #T_88cde_row2_col20 {\n",
       "  background-color: #2fb47c;\n",
       "  color: #f1f1f1;\n",
       "}\n",
       "#T_88cde_row0_col21, #T_88cde_row1_col21, #T_88cde_row2_col21 {\n",
       "  background-color: #24868e;\n",
       "  color: #f1f1f1;\n",
       "}\n",
       "#T_88cde_row0_col22, #T_88cde_row0_col55, #T_88cde_row1_col22, #T_88cde_row1_col55, #T_88cde_row2_col22, #T_88cde_row2_col55 {\n",
       "  background-color: #440154;\n",
       "  color: #f1f1f1;\n",
       "}\n",
       "#T_88cde_row0_col23, #T_88cde_row0_col29, #T_88cde_row0_col69, #T_88cde_row0_col95, #T_88cde_row1_col23, #T_88cde_row1_col29, #T_88cde_row1_col69, #T_88cde_row1_col95, #T_88cde_row2_col23, #T_88cde_row2_col29, #T_88cde_row2_col69, #T_88cde_row2_col95 {\n",
       "  background-color: #3e4c8a;\n",
       "  color: #f1f1f1;\n",
       "}\n",
       "#T_88cde_row0_col24, #T_88cde_row1_col24, #T_88cde_row2_col24 {\n",
       "  background-color: #32b67a;\n",
       "  color: #f1f1f1;\n",
       "}\n",
       "#T_88cde_row0_col25, #T_88cde_row1_col25, #T_88cde_row2_col25 {\n",
       "  background-color: #46337f;\n",
       "  color: #f1f1f1;\n",
       "}\n",
       "#T_88cde_row0_col26, #T_88cde_row1_col26, #T_88cde_row2_col26 {\n",
       "  background-color: #29798e;\n",
       "  color: #f1f1f1;\n",
       "}\n",
       "#T_88cde_row0_col28, #T_88cde_row1_col28, #T_88cde_row2_col28 {\n",
       "  background-color: #228c8d;\n",
       "  color: #f1f1f1;\n",
       "}\n",
       "#T_88cde_row0_col30, #T_88cde_row1_col30, #T_88cde_row2_col30 {\n",
       "  background-color: #404588;\n",
       "  color: #f1f1f1;\n",
       "}\n",
       "#T_88cde_row0_col31, #T_88cde_row0_col60, #T_88cde_row0_col73, #T_88cde_row1_col31, #T_88cde_row1_col60, #T_88cde_row1_col73, #T_88cde_row2_col31, #T_88cde_row2_col60, #T_88cde_row2_col73 {\n",
       "  background-color: #3d4e8a;\n",
       "  color: #f1f1f1;\n",
       "}\n",
       "#T_88cde_row0_col32, #T_88cde_row1_col32, #T_88cde_row2_col32 {\n",
       "  background-color: #453781;\n",
       "  color: #f1f1f1;\n",
       "}\n",
       "#T_88cde_row0_col33, #T_88cde_row1_col33, #T_88cde_row2_col33 {\n",
       "  background-color: #472f7d;\n",
       "  color: #f1f1f1;\n",
       "}\n",
       "#T_88cde_row0_col34, #T_88cde_row0_col79, #T_88cde_row1_col34, #T_88cde_row1_col79, #T_88cde_row2_col34, #T_88cde_row2_col79 {\n",
       "  background-color: #38588c;\n",
       "  color: #f1f1f1;\n",
       "}\n",
       "#T_88cde_row0_col35, #T_88cde_row1_col35, #T_88cde_row2_col35 {\n",
       "  background-color: #fde725;\n",
       "  color: #000000;\n",
       "}\n",
       "#T_88cde_row0_col36, #T_88cde_row0_col83, #T_88cde_row1_col36, #T_88cde_row1_col83, #T_88cde_row2_col36, #T_88cde_row2_col83 {\n",
       "  background-color: #1e9d89;\n",
       "  color: #f1f1f1;\n",
       "}\n",
       "#T_88cde_row0_col37, #T_88cde_row1_col37, #T_88cde_row2_col37 {\n",
       "  background-color: #4ac16d;\n",
       "  color: #000000;\n",
       "}\n",
       "#T_88cde_row0_col38, #T_88cde_row1_col38, #T_88cde_row2_col38 {\n",
       "  background-color: #39558c;\n",
       "  color: #f1f1f1;\n",
       "}\n",
       "#T_88cde_row0_col39, #T_88cde_row0_col89, #T_88cde_row0_col92, #T_88cde_row1_col39, #T_88cde_row1_col89, #T_88cde_row1_col92, #T_88cde_row2_col39, #T_88cde_row2_col89, #T_88cde_row2_col92 {\n",
       "  background-color: #cde11d;\n",
       "  color: #000000;\n",
       "}\n",
       "#T_88cde_row0_col41, #T_88cde_row1_col41, #T_88cde_row2_col41 {\n",
       "  background-color: #60ca60;\n",
       "  color: #000000;\n",
       "}\n",
       "#T_88cde_row0_col42, #T_88cde_row1_col42, #T_88cde_row2_col42 {\n",
       "  background-color: #32648e;\n",
       "  color: #f1f1f1;\n",
       "}\n",
       "#T_88cde_row0_col44, #T_88cde_row0_col57, #T_88cde_row0_col99, #T_88cde_row1_col44, #T_88cde_row1_col57, #T_88cde_row1_col99, #T_88cde_row2_col44, #T_88cde_row2_col57, #T_88cde_row2_col99 {\n",
       "  background-color: #414487;\n",
       "  color: #f1f1f1;\n",
       "}\n",
       "#T_88cde_row0_col45, #T_88cde_row1_col45, #T_88cde_row2_col45 {\n",
       "  background-color: #44bf70;\n",
       "  color: #f1f1f1;\n",
       "}\n",
       "#T_88cde_row0_col46, #T_88cde_row1_col46, #T_88cde_row2_col46 {\n",
       "  background-color: #31688e;\n",
       "  color: #f1f1f1;\n",
       "}\n",
       "#T_88cde_row0_col47, #T_88cde_row1_col47, #T_88cde_row2_col47 {\n",
       "  background-color: #25848e;\n",
       "  color: #f1f1f1;\n",
       "}\n",
       "#T_88cde_row0_col48, #T_88cde_row1_col48, #T_88cde_row2_col48 {\n",
       "  background-color: #22a785;\n",
       "  color: #f1f1f1;\n",
       "}\n",
       "#T_88cde_row0_col50, #T_88cde_row0_col52, #T_88cde_row1_col50, #T_88cde_row1_col52, #T_88cde_row2_col50, #T_88cde_row2_col52 {\n",
       "  background-color: #30698e;\n",
       "  color: #f1f1f1;\n",
       "}\n",
       "#T_88cde_row0_col53, #T_88cde_row1_col53, #T_88cde_row2_col53 {\n",
       "  background-color: #1f958b;\n",
       "  color: #f1f1f1;\n",
       "}\n",
       "#T_88cde_row0_col54, #T_88cde_row1_col54, #T_88cde_row2_col54 {\n",
       "  background-color: #375a8c;\n",
       "  color: #f1f1f1;\n",
       "}\n",
       "#T_88cde_row0_col56, #T_88cde_row1_col56, #T_88cde_row2_col56 {\n",
       "  background-color: #3e4a89;\n",
       "  color: #f1f1f1;\n",
       "}\n",
       "#T_88cde_row0_col59, #T_88cde_row1_col59, #T_88cde_row2_col59 {\n",
       "  background-color: #443a83;\n",
       "  color: #f1f1f1;\n",
       "}\n",
       "#T_88cde_row0_col61, #T_88cde_row0_col68, #T_88cde_row1_col61, #T_88cde_row1_col68, #T_88cde_row2_col61, #T_88cde_row2_col68 {\n",
       "  background-color: #482576;\n",
       "  color: #f1f1f1;\n",
       "}\n",
       "#T_88cde_row0_col62, #T_88cde_row1_col62, #T_88cde_row2_col62 {\n",
       "  background-color: #481f70;\n",
       "  color: #f1f1f1;\n",
       "}\n",
       "#T_88cde_row0_col63, #T_88cde_row1_col63, #T_88cde_row2_col63 {\n",
       "  background-color: #453882;\n",
       "  color: #f1f1f1;\n",
       "}\n",
       "#T_88cde_row0_col64, #T_88cde_row1_col64, #T_88cde_row2_col64 {\n",
       "  background-color: #306a8e;\n",
       "  color: #f1f1f1;\n",
       "}\n",
       "#T_88cde_row0_col66, #T_88cde_row1_col66, #T_88cde_row2_col66 {\n",
       "  background-color: #277e8e;\n",
       "  color: #f1f1f1;\n",
       "}\n",
       "#T_88cde_row0_col67, #T_88cde_row1_col67, #T_88cde_row2_col67 {\n",
       "  background-color: #238a8d;\n",
       "  color: #f1f1f1;\n",
       "}\n",
       "#T_88cde_row0_col70, #T_88cde_row0_col74, #T_88cde_row1_col70, #T_88cde_row1_col74, #T_88cde_row2_col70, #T_88cde_row2_col74 {\n",
       "  background-color: #482071;\n",
       "  color: #f1f1f1;\n",
       "}\n",
       "#T_88cde_row0_col71, #T_88cde_row1_col71, #T_88cde_row2_col71 {\n",
       "  background-color: #482878;\n",
       "  color: #f1f1f1;\n",
       "}\n",
       "#T_88cde_row0_col72, #T_88cde_row1_col72, #T_88cde_row2_col72 {\n",
       "  background-color: #481b6d;\n",
       "  color: #f1f1f1;\n",
       "}\n",
       "#T_88cde_row0_col75, #T_88cde_row1_col75, #T_88cde_row2_col75 {\n",
       "  background-color: #472e7c;\n",
       "  color: #f1f1f1;\n",
       "}\n",
       "#T_88cde_row0_col76, #T_88cde_row1_col76, #T_88cde_row2_col76 {\n",
       "  background-color: #29af7f;\n",
       "  color: #f1f1f1;\n",
       "}\n",
       "#T_88cde_row0_col77, #T_88cde_row1_col77, #T_88cde_row2_col77 {\n",
       "  background-color: #481668;\n",
       "  color: #f1f1f1;\n",
       "}\n",
       "#T_88cde_row0_col78, #T_88cde_row1_col78, #T_88cde_row2_col78 {\n",
       "  background-color: #38598c;\n",
       "  color: #f1f1f1;\n",
       "}\n",
       "#T_88cde_row0_col80, #T_88cde_row1_col80, #T_88cde_row2_col80 {\n",
       "  background-color: #3f4889;\n",
       "  color: #f1f1f1;\n",
       "}\n",
       "#T_88cde_row0_col81, #T_88cde_row1_col81, #T_88cde_row2_col81 {\n",
       "  background-color: #365c8d;\n",
       "  color: #f1f1f1;\n",
       "}\n",
       "#T_88cde_row0_col82, #T_88cde_row1_col82, #T_88cde_row2_col82 {\n",
       "  background-color: #481a6c;\n",
       "  color: #f1f1f1;\n",
       "}\n",
       "#T_88cde_row0_col84, #T_88cde_row1_col84, #T_88cde_row2_col84 {\n",
       "  background-color: #d2e21b;\n",
       "  color: #000000;\n",
       "}\n",
       "#T_88cde_row0_col85, #T_88cde_row1_col85, #T_88cde_row2_col85 {\n",
       "  background-color: #3dbc74;\n",
       "  color: #f1f1f1;\n",
       "}\n",
       "#T_88cde_row0_col86, #T_88cde_row1_col86, #T_88cde_row2_col86 {\n",
       "  background-color: #33638d;\n",
       "  color: #f1f1f1;\n",
       "}\n",
       "#T_88cde_row0_col88, #T_88cde_row1_col88, #T_88cde_row2_col88 {\n",
       "  background-color: #33628d;\n",
       "  color: #f1f1f1;\n",
       "}\n",
       "#T_88cde_row0_col91, #T_88cde_row1_col91, #T_88cde_row2_col91 {\n",
       "  background-color: #23a983;\n",
       "  color: #f1f1f1;\n",
       "}\n",
       "#T_88cde_row0_col93, #T_88cde_row1_col93, #T_88cde_row2_col93 {\n",
       "  background-color: #355f8d;\n",
       "  color: #f1f1f1;\n",
       "}\n",
       "#T_88cde_row0_col94, #T_88cde_row1_col94, #T_88cde_row2_col94 {\n",
       "  background-color: #3a548c;\n",
       "  color: #f1f1f1;\n",
       "}\n",
       "#T_88cde_row0_col96, #T_88cde_row1_col96, #T_88cde_row2_col96 {\n",
       "  background-color: #2f6b8e;\n",
       "  color: #f1f1f1;\n",
       "}\n",
       "#T_88cde_row0_col97, #T_88cde_row1_col97, #T_88cde_row2_col97 {\n",
       "  background-color: #2ab07f;\n",
       "  color: #f1f1f1;\n",
       "}\n",
       "#T_88cde_row0_col98, #T_88cde_row1_col98, #T_88cde_row2_col98 {\n",
       "  background-color: #404688;\n",
       "  color: #f1f1f1;\n",
       "}\n",
       "</style>\n",
       "<table id=\"T_88cde\">\n",
       "  <thead>\n",
       "    <tr>\n",
       "      <th class=\"index_name level0\" >b</th>\n",
       "      <th id=\"T_88cde_level0_col0\" class=\"col_heading level0 col0\" >5.000000</th>\n",
       "      <th id=\"T_88cde_level0_col1\" class=\"col_heading level0 col1\" >5.454545</th>\n",
       "      <th id=\"T_88cde_level0_col2\" class=\"col_heading level0 col2\" >5.909091</th>\n",
       "      <th id=\"T_88cde_level0_col3\" class=\"col_heading level0 col3\" >6.363636</th>\n",
       "      <th id=\"T_88cde_level0_col4\" class=\"col_heading level0 col4\" >6.818182</th>\n",
       "      <th id=\"T_88cde_level0_col5\" class=\"col_heading level0 col5\" >7.272727</th>\n",
       "      <th id=\"T_88cde_level0_col6\" class=\"col_heading level0 col6\" >7.727273</th>\n",
       "      <th id=\"T_88cde_level0_col7\" class=\"col_heading level0 col7\" >8.181818</th>\n",
       "      <th id=\"T_88cde_level0_col8\" class=\"col_heading level0 col8\" >8.636364</th>\n",
       "      <th id=\"T_88cde_level0_col9\" class=\"col_heading level0 col9\" >9.090909</th>\n",
       "      <th id=\"T_88cde_level0_col10\" class=\"col_heading level0 col10\" >9.545455</th>\n",
       "      <th id=\"T_88cde_level0_col11\" class=\"col_heading level0 col11\" >10.000000</th>\n",
       "      <th id=\"T_88cde_level0_col12\" class=\"col_heading level0 col12\" >10.454545</th>\n",
       "      <th id=\"T_88cde_level0_col13\" class=\"col_heading level0 col13\" >10.909091</th>\n",
       "      <th id=\"T_88cde_level0_col14\" class=\"col_heading level0 col14\" >11.363636</th>\n",
       "      <th id=\"T_88cde_level0_col15\" class=\"col_heading level0 col15\" >11.818182</th>\n",
       "      <th id=\"T_88cde_level0_col16\" class=\"col_heading level0 col16\" >12.272727</th>\n",
       "      <th id=\"T_88cde_level0_col17\" class=\"col_heading level0 col17\" >12.727273</th>\n",
       "      <th id=\"T_88cde_level0_col18\" class=\"col_heading level0 col18\" >13.181818</th>\n",
       "      <th id=\"T_88cde_level0_col19\" class=\"col_heading level0 col19\" >13.636364</th>\n",
       "      <th id=\"T_88cde_level0_col20\" class=\"col_heading level0 col20\" >14.090909</th>\n",
       "      <th id=\"T_88cde_level0_col21\" class=\"col_heading level0 col21\" >14.545455</th>\n",
       "      <th id=\"T_88cde_level0_col22\" class=\"col_heading level0 col22\" >15.000000</th>\n",
       "      <th id=\"T_88cde_level0_col23\" class=\"col_heading level0 col23\" >15.454545</th>\n",
       "      <th id=\"T_88cde_level0_col24\" class=\"col_heading level0 col24\" >15.909091</th>\n",
       "      <th id=\"T_88cde_level0_col25\" class=\"col_heading level0 col25\" >16.363636</th>\n",
       "      <th id=\"T_88cde_level0_col26\" class=\"col_heading level0 col26\" >16.818182</th>\n",
       "      <th id=\"T_88cde_level0_col27\" class=\"col_heading level0 col27\" >17.272727</th>\n",
       "      <th id=\"T_88cde_level0_col28\" class=\"col_heading level0 col28\" >17.727273</th>\n",
       "      <th id=\"T_88cde_level0_col29\" class=\"col_heading level0 col29\" >18.181818</th>\n",
       "      <th id=\"T_88cde_level0_col30\" class=\"col_heading level0 col30\" >18.636364</th>\n",
       "      <th id=\"T_88cde_level0_col31\" class=\"col_heading level0 col31\" >19.090909</th>\n",
       "      <th id=\"T_88cde_level0_col32\" class=\"col_heading level0 col32\" >19.545455</th>\n",
       "      <th id=\"T_88cde_level0_col33\" class=\"col_heading level0 col33\" >20.000000</th>\n",
       "      <th id=\"T_88cde_level0_col34\" class=\"col_heading level0 col34\" >20.454545</th>\n",
       "      <th id=\"T_88cde_level0_col35\" class=\"col_heading level0 col35\" >20.909091</th>\n",
       "      <th id=\"T_88cde_level0_col36\" class=\"col_heading level0 col36\" >21.363636</th>\n",
       "      <th id=\"T_88cde_level0_col37\" class=\"col_heading level0 col37\" >21.818182</th>\n",
       "      <th id=\"T_88cde_level0_col38\" class=\"col_heading level0 col38\" >22.272727</th>\n",
       "      <th id=\"T_88cde_level0_col39\" class=\"col_heading level0 col39\" >22.727273</th>\n",
       "      <th id=\"T_88cde_level0_col40\" class=\"col_heading level0 col40\" >23.181818</th>\n",
       "      <th id=\"T_88cde_level0_col41\" class=\"col_heading level0 col41\" >23.636364</th>\n",
       "      <th id=\"T_88cde_level0_col42\" class=\"col_heading level0 col42\" >24.090909</th>\n",
       "      <th id=\"T_88cde_level0_col43\" class=\"col_heading level0 col43\" >24.545455</th>\n",
       "      <th id=\"T_88cde_level0_col44\" class=\"col_heading level0 col44\" >25.000000</th>\n",
       "      <th id=\"T_88cde_level0_col45\" class=\"col_heading level0 col45\" >25.454545</th>\n",
       "      <th id=\"T_88cde_level0_col46\" class=\"col_heading level0 col46\" >25.909091</th>\n",
       "      <th id=\"T_88cde_level0_col47\" class=\"col_heading level0 col47\" >26.363636</th>\n",
       "      <th id=\"T_88cde_level0_col48\" class=\"col_heading level0 col48\" >26.818182</th>\n",
       "      <th id=\"T_88cde_level0_col49\" class=\"col_heading level0 col49\" >27.272727</th>\n",
       "      <th id=\"T_88cde_level0_col50\" class=\"col_heading level0 col50\" >27.727273</th>\n",
       "      <th id=\"T_88cde_level0_col51\" class=\"col_heading level0 col51\" >28.181818</th>\n",
       "      <th id=\"T_88cde_level0_col52\" class=\"col_heading level0 col52\" >28.636364</th>\n",
       "      <th id=\"T_88cde_level0_col53\" class=\"col_heading level0 col53\" >29.090909</th>\n",
       "      <th id=\"T_88cde_level0_col54\" class=\"col_heading level0 col54\" >29.545455</th>\n",
       "      <th id=\"T_88cde_level0_col55\" class=\"col_heading level0 col55\" >30.000000</th>\n",
       "      <th id=\"T_88cde_level0_col56\" class=\"col_heading level0 col56\" >30.454545</th>\n",
       "      <th id=\"T_88cde_level0_col57\" class=\"col_heading level0 col57\" >30.909091</th>\n",
       "      <th id=\"T_88cde_level0_col58\" class=\"col_heading level0 col58\" >31.363636</th>\n",
       "      <th id=\"T_88cde_level0_col59\" class=\"col_heading level0 col59\" >31.818182</th>\n",
       "      <th id=\"T_88cde_level0_col60\" class=\"col_heading level0 col60\" >32.272727</th>\n",
       "      <th id=\"T_88cde_level0_col61\" class=\"col_heading level0 col61\" >32.727273</th>\n",
       "      <th id=\"T_88cde_level0_col62\" class=\"col_heading level0 col62\" >33.181818</th>\n",
       "      <th id=\"T_88cde_level0_col63\" class=\"col_heading level0 col63\" >33.636364</th>\n",
       "      <th id=\"T_88cde_level0_col64\" class=\"col_heading level0 col64\" >34.090909</th>\n",
       "      <th id=\"T_88cde_level0_col65\" class=\"col_heading level0 col65\" >34.545455</th>\n",
       "      <th id=\"T_88cde_level0_col66\" class=\"col_heading level0 col66\" >35.000000</th>\n",
       "      <th id=\"T_88cde_level0_col67\" class=\"col_heading level0 col67\" >35.454545</th>\n",
       "      <th id=\"T_88cde_level0_col68\" class=\"col_heading level0 col68\" >35.909091</th>\n",
       "      <th id=\"T_88cde_level0_col69\" class=\"col_heading level0 col69\" >36.363636</th>\n",
       "      <th id=\"T_88cde_level0_col70\" class=\"col_heading level0 col70\" >36.818182</th>\n",
       "      <th id=\"T_88cde_level0_col71\" class=\"col_heading level0 col71\" >37.272727</th>\n",
       "      <th id=\"T_88cde_level0_col72\" class=\"col_heading level0 col72\" >37.727273</th>\n",
       "      <th id=\"T_88cde_level0_col73\" class=\"col_heading level0 col73\" >38.181818</th>\n",
       "      <th id=\"T_88cde_level0_col74\" class=\"col_heading level0 col74\" >38.636364</th>\n",
       "      <th id=\"T_88cde_level0_col75\" class=\"col_heading level0 col75\" >39.090909</th>\n",
       "      <th id=\"T_88cde_level0_col76\" class=\"col_heading level0 col76\" >39.545455</th>\n",
       "      <th id=\"T_88cde_level0_col77\" class=\"col_heading level0 col77\" >40.000000</th>\n",
       "      <th id=\"T_88cde_level0_col78\" class=\"col_heading level0 col78\" >40.454545</th>\n",
       "      <th id=\"T_88cde_level0_col79\" class=\"col_heading level0 col79\" >40.909091</th>\n",
       "      <th id=\"T_88cde_level0_col80\" class=\"col_heading level0 col80\" >41.363636</th>\n",
       "      <th id=\"T_88cde_level0_col81\" class=\"col_heading level0 col81\" >41.818182</th>\n",
       "      <th id=\"T_88cde_level0_col82\" class=\"col_heading level0 col82\" >42.272727</th>\n",
       "      <th id=\"T_88cde_level0_col83\" class=\"col_heading level0 col83\" >42.727273</th>\n",
       "      <th id=\"T_88cde_level0_col84\" class=\"col_heading level0 col84\" >43.181818</th>\n",
       "      <th id=\"T_88cde_level0_col85\" class=\"col_heading level0 col85\" >43.636364</th>\n",
       "      <th id=\"T_88cde_level0_col86\" class=\"col_heading level0 col86\" >44.090909</th>\n",
       "      <th id=\"T_88cde_level0_col87\" class=\"col_heading level0 col87\" >44.545455</th>\n",
       "      <th id=\"T_88cde_level0_col88\" class=\"col_heading level0 col88\" >45.000000</th>\n",
       "      <th id=\"T_88cde_level0_col89\" class=\"col_heading level0 col89\" >45.454545</th>\n",
       "      <th id=\"T_88cde_level0_col90\" class=\"col_heading level0 col90\" >45.909091</th>\n",
       "      <th id=\"T_88cde_level0_col91\" class=\"col_heading level0 col91\" >46.363636</th>\n",
       "      <th id=\"T_88cde_level0_col92\" class=\"col_heading level0 col92\" >46.818182</th>\n",
       "      <th id=\"T_88cde_level0_col93\" class=\"col_heading level0 col93\" >47.272727</th>\n",
       "      <th id=\"T_88cde_level0_col94\" class=\"col_heading level0 col94\" >47.727273</th>\n",
       "      <th id=\"T_88cde_level0_col95\" class=\"col_heading level0 col95\" >48.181818</th>\n",
       "      <th id=\"T_88cde_level0_col96\" class=\"col_heading level0 col96\" >48.636364</th>\n",
       "      <th id=\"T_88cde_level0_col97\" class=\"col_heading level0 col97\" >49.090909</th>\n",
       "      <th id=\"T_88cde_level0_col98\" class=\"col_heading level0 col98\" >49.545455</th>\n",
       "      <th id=\"T_88cde_level0_col99\" class=\"col_heading level0 col99\" >50.000000</th>\n",
       "    </tr>\n",
       "    <tr>\n",
       "      <th class=\"index_name level0\" >k</th>\n",
       "      <th class=\"blank col0\" >&nbsp;</th>\n",
       "      <th class=\"blank col1\" >&nbsp;</th>\n",
       "      <th class=\"blank col2\" >&nbsp;</th>\n",
       "      <th class=\"blank col3\" >&nbsp;</th>\n",
       "      <th class=\"blank col4\" >&nbsp;</th>\n",
       "      <th class=\"blank col5\" >&nbsp;</th>\n",
       "      <th class=\"blank col6\" >&nbsp;</th>\n",
       "      <th class=\"blank col7\" >&nbsp;</th>\n",
       "      <th class=\"blank col8\" >&nbsp;</th>\n",
       "      <th class=\"blank col9\" >&nbsp;</th>\n",
       "      <th class=\"blank col10\" >&nbsp;</th>\n",
       "      <th class=\"blank col11\" >&nbsp;</th>\n",
       "      <th class=\"blank col12\" >&nbsp;</th>\n",
       "      <th class=\"blank col13\" >&nbsp;</th>\n",
       "      <th class=\"blank col14\" >&nbsp;</th>\n",
       "      <th class=\"blank col15\" >&nbsp;</th>\n",
       "      <th class=\"blank col16\" >&nbsp;</th>\n",
       "      <th class=\"blank col17\" >&nbsp;</th>\n",
       "      <th class=\"blank col18\" >&nbsp;</th>\n",
       "      <th class=\"blank col19\" >&nbsp;</th>\n",
       "      <th class=\"blank col20\" >&nbsp;</th>\n",
       "      <th class=\"blank col21\" >&nbsp;</th>\n",
       "      <th class=\"blank col22\" >&nbsp;</th>\n",
       "      <th class=\"blank col23\" >&nbsp;</th>\n",
       "      <th class=\"blank col24\" >&nbsp;</th>\n",
       "      <th class=\"blank col25\" >&nbsp;</th>\n",
       "      <th class=\"blank col26\" >&nbsp;</th>\n",
       "      <th class=\"blank col27\" >&nbsp;</th>\n",
       "      <th class=\"blank col28\" >&nbsp;</th>\n",
       "      <th class=\"blank col29\" >&nbsp;</th>\n",
       "      <th class=\"blank col30\" >&nbsp;</th>\n",
       "      <th class=\"blank col31\" >&nbsp;</th>\n",
       "      <th class=\"blank col32\" >&nbsp;</th>\n",
       "      <th class=\"blank col33\" >&nbsp;</th>\n",
       "      <th class=\"blank col34\" >&nbsp;</th>\n",
       "      <th class=\"blank col35\" >&nbsp;</th>\n",
       "      <th class=\"blank col36\" >&nbsp;</th>\n",
       "      <th class=\"blank col37\" >&nbsp;</th>\n",
       "      <th class=\"blank col38\" >&nbsp;</th>\n",
       "      <th class=\"blank col39\" >&nbsp;</th>\n",
       "      <th class=\"blank col40\" >&nbsp;</th>\n",
       "      <th class=\"blank col41\" >&nbsp;</th>\n",
       "      <th class=\"blank col42\" >&nbsp;</th>\n",
       "      <th class=\"blank col43\" >&nbsp;</th>\n",
       "      <th class=\"blank col44\" >&nbsp;</th>\n",
       "      <th class=\"blank col45\" >&nbsp;</th>\n",
       "      <th class=\"blank col46\" >&nbsp;</th>\n",
       "      <th class=\"blank col47\" >&nbsp;</th>\n",
       "      <th class=\"blank col48\" >&nbsp;</th>\n",
       "      <th class=\"blank col49\" >&nbsp;</th>\n",
       "      <th class=\"blank col50\" >&nbsp;</th>\n",
       "      <th class=\"blank col51\" >&nbsp;</th>\n",
       "      <th class=\"blank col52\" >&nbsp;</th>\n",
       "      <th class=\"blank col53\" >&nbsp;</th>\n",
       "      <th class=\"blank col54\" >&nbsp;</th>\n",
       "      <th class=\"blank col55\" >&nbsp;</th>\n",
       "      <th class=\"blank col56\" >&nbsp;</th>\n",
       "      <th class=\"blank col57\" >&nbsp;</th>\n",
       "      <th class=\"blank col58\" >&nbsp;</th>\n",
       "      <th class=\"blank col59\" >&nbsp;</th>\n",
       "      <th class=\"blank col60\" >&nbsp;</th>\n",
       "      <th class=\"blank col61\" >&nbsp;</th>\n",
       "      <th class=\"blank col62\" >&nbsp;</th>\n",
       "      <th class=\"blank col63\" >&nbsp;</th>\n",
       "      <th class=\"blank col64\" >&nbsp;</th>\n",
       "      <th class=\"blank col65\" >&nbsp;</th>\n",
       "      <th class=\"blank col66\" >&nbsp;</th>\n",
       "      <th class=\"blank col67\" >&nbsp;</th>\n",
       "      <th class=\"blank col68\" >&nbsp;</th>\n",
       "      <th class=\"blank col69\" >&nbsp;</th>\n",
       "      <th class=\"blank col70\" >&nbsp;</th>\n",
       "      <th class=\"blank col71\" >&nbsp;</th>\n",
       "      <th class=\"blank col72\" >&nbsp;</th>\n",
       "      <th class=\"blank col73\" >&nbsp;</th>\n",
       "      <th class=\"blank col74\" >&nbsp;</th>\n",
       "      <th class=\"blank col75\" >&nbsp;</th>\n",
       "      <th class=\"blank col76\" >&nbsp;</th>\n",
       "      <th class=\"blank col77\" >&nbsp;</th>\n",
       "      <th class=\"blank col78\" >&nbsp;</th>\n",
       "      <th class=\"blank col79\" >&nbsp;</th>\n",
       "      <th class=\"blank col80\" >&nbsp;</th>\n",
       "      <th class=\"blank col81\" >&nbsp;</th>\n",
       "      <th class=\"blank col82\" >&nbsp;</th>\n",
       "      <th class=\"blank col83\" >&nbsp;</th>\n",
       "      <th class=\"blank col84\" >&nbsp;</th>\n",
       "      <th class=\"blank col85\" >&nbsp;</th>\n",
       "      <th class=\"blank col86\" >&nbsp;</th>\n",
       "      <th class=\"blank col87\" >&nbsp;</th>\n",
       "      <th class=\"blank col88\" >&nbsp;</th>\n",
       "      <th class=\"blank col89\" >&nbsp;</th>\n",
       "      <th class=\"blank col90\" >&nbsp;</th>\n",
       "      <th class=\"blank col91\" >&nbsp;</th>\n",
       "      <th class=\"blank col92\" >&nbsp;</th>\n",
       "      <th class=\"blank col93\" >&nbsp;</th>\n",
       "      <th class=\"blank col94\" >&nbsp;</th>\n",
       "      <th class=\"blank col95\" >&nbsp;</th>\n",
       "      <th class=\"blank col96\" >&nbsp;</th>\n",
       "      <th class=\"blank col97\" >&nbsp;</th>\n",
       "      <th class=\"blank col98\" >&nbsp;</th>\n",
       "      <th class=\"blank col99\" >&nbsp;</th>\n",
       "    </tr>\n",
       "  </thead>\n",
       "  <tbody>\n",
       "    <tr>\n",
       "      <th id=\"T_88cde_level0_row0\" class=\"row_heading level0 row0\" >5</th>\n",
       "      <td id=\"T_88cde_row0_col0\" class=\"data row0 col0\" >1361.024832</td>\n",
       "      <td id=\"T_88cde_row0_col1\" class=\"data row0 col1\" >2389.892369</td>\n",
       "      <td id=\"T_88cde_row0_col2\" class=\"data row0 col2\" >1798.088664</td>\n",
       "      <td id=\"T_88cde_row0_col3\" class=\"data row0 col3\" >2002.720975</td>\n",
       "      <td id=\"T_88cde_row0_col4\" class=\"data row0 col4\" >1751.794880</td>\n",
       "      <td id=\"T_88cde_row0_col5\" class=\"data row0 col5\" >1642.584436</td>\n",
       "      <td id=\"T_88cde_row0_col6\" class=\"data row0 col6\" >1797.788024</td>\n",
       "      <td id=\"T_88cde_row0_col7\" class=\"data row0 col7\" >1746.261815</td>\n",
       "      <td id=\"T_88cde_row0_col8\" class=\"data row0 col8\" >1177.508689</td>\n",
       "      <td id=\"T_88cde_row0_col9\" class=\"data row0 col9\" >1359.196589</td>\n",
       "      <td id=\"T_88cde_row0_col10\" class=\"data row0 col10\" >1882.709164</td>\n",
       "      <td id=\"T_88cde_row0_col11\" class=\"data row0 col11\" >1360.128609</td>\n",
       "      <td id=\"T_88cde_row0_col12\" class=\"data row0 col12\" >2397.974675</td>\n",
       "      <td id=\"T_88cde_row0_col13\" class=\"data row0 col13\" >2389.893192</td>\n",
       "      <td id=\"T_88cde_row0_col14\" class=\"data row0 col14\" >2305.592547</td>\n",
       "      <td id=\"T_88cde_row0_col15\" class=\"data row0 col15\" >1798.088664</td>\n",
       "      <td id=\"T_88cde_row0_col16\" class=\"data row0 col16\" >1499.215233</td>\n",
       "      <td id=\"T_88cde_row0_col17\" class=\"data row0 col17\" >1967.463656</td>\n",
       "      <td id=\"T_88cde_row0_col18\" class=\"data row0 col18\" >1915.373550</td>\n",
       "      <td id=\"T_88cde_row0_col19\" class=\"data row0 col19\" >1751.581720</td>\n",
       "      <td id=\"T_88cde_row0_col20\" class=\"data row0 col20\" >1924.751752</td>\n",
       "      <td id=\"T_88cde_row0_col21\" class=\"data row0 col21\" >1649.899946</td>\n",
       "      <td id=\"T_88cde_row0_col22\" class=\"data row0 col22\" >994.126758</td>\n",
       "      <td id=\"T_88cde_row0_col23\" class=\"data row0 col23\" >1322.178021</td>\n",
       "      <td id=\"T_88cde_row0_col24\" class=\"data row0 col24\" >1933.359483</td>\n",
       "      <td id=\"T_88cde_row0_col25\" class=\"data row0 col25\" >1200.653760</td>\n",
       "      <td id=\"T_88cde_row0_col26\" class=\"data row0 col26\" >1572.732125</td>\n",
       "      <td id=\"T_88cde_row0_col27\" class=\"data row0 col27\" >1177.562752</td>\n",
       "      <td id=\"T_88cde_row0_col28\" class=\"data row0 col28\" >1684.023684</td>\n",
       "      <td id=\"T_88cde_row0_col29\" class=\"data row0 col29\" >1317.621008</td>\n",
       "      <td id=\"T_88cde_row0_col30\" class=\"data row0 col30\" >1287.462659</td>\n",
       "      <td id=\"T_88cde_row0_col31\" class=\"data row0 col31\" >1328.954005</td>\n",
       "      <td id=\"T_88cde_row0_col32\" class=\"data row0 col32\" >1219.886320</td>\n",
       "      <td id=\"T_88cde_row0_col33\" class=\"data row0 col33\" >1188.587124</td>\n",
       "      <td id=\"T_88cde_row0_col34\" class=\"data row0 col34\" >1384.220720</td>\n",
       "      <td id=\"T_88cde_row0_col35\" class=\"data row0 col35\" >2420.836402</td>\n",
       "      <td id=\"T_88cde_row0_col36\" class=\"data row0 col36\" >1784.336701</td>\n",
       "      <td id=\"T_88cde_row0_col37\" class=\"data row0 col37\" >2011.737586</td>\n",
       "      <td id=\"T_88cde_row0_col38\" class=\"data row0 col38\" >1369.117230</td>\n",
       "      <td id=\"T_88cde_row0_col39\" class=\"data row0 col39\" >2309.926288</td>\n",
       "      <td id=\"T_88cde_row0_col40\" class=\"data row0 col40\" >2307.607458</td>\n",
       "      <td id=\"T_88cde_row0_col41\" class=\"data row0 col41\" >2072.022182</td>\n",
       "      <td id=\"T_88cde_row0_col42\" class=\"data row0 col42\" >1448.826177</td>\n",
       "      <td id=\"T_88cde_row0_col43\" class=\"data row0 col43\" >1499.215288</td>\n",
       "      <td id=\"T_88cde_row0_col44\" class=\"data row0 col44\" >1283.173293</td>\n",
       "      <td id=\"T_88cde_row0_col45\" class=\"data row0 col45\" >1995.205538</td>\n",
       "      <td id=\"T_88cde_row0_col46\" class=\"data row0 col46\" >1469.346246</td>\n",
       "      <td id=\"T_88cde_row0_col47\" class=\"data row0 col47\" >1636.701206</td>\n",
       "      <td id=\"T_88cde_row0_col48\" class=\"data row0 col48\" >1846.292730</td>\n",
       "      <td id=\"T_88cde_row0_col49\" class=\"data row0 col49\" >1751.558765</td>\n",
       "      <td id=\"T_88cde_row0_col50\" class=\"data row0 col50\" >1476.219514</td>\n",
       "      <td id=\"T_88cde_row0_col51\" class=\"data row0 col51\" >1744.105851</td>\n",
       "      <td id=\"T_88cde_row0_col52\" class=\"data row0 col52\" >1477.593033</td>\n",
       "      <td id=\"T_88cde_row0_col53\" class=\"data row0 col53\" >1735.487526</td>\n",
       "      <td id=\"T_88cde_row0_col54\" class=\"data row0 col54\" >1391.107147</td>\n",
       "      <td id=\"T_88cde_row0_col55\" class=\"data row0 col55\" >994.125939</td>\n",
       "      <td id=\"T_88cde_row0_col56\" class=\"data row0 col56\" >1315.767217</td>\n",
       "      <td id=\"T_88cde_row0_col57\" class=\"data row0 col57\" >1283.478351</td>\n",
       "      <td id=\"T_88cde_row0_col58\" class=\"data row0 col58\" >1356.826966</td>\n",
       "      <td id=\"T_88cde_row0_col59\" class=\"data row0 col59\" >1234.564784</td>\n",
       "      <td id=\"T_88cde_row0_col60\" class=\"data row0 col60\" >1329.085737</td>\n",
       "      <td id=\"T_88cde_row0_col61\" class=\"data row0 col61\" >1140.491602</td>\n",
       "      <td id=\"T_88cde_row0_col62\" class=\"data row0 col62\" >1114.734715</td>\n",
       "      <td id=\"T_88cde_row0_col63\" class=\"data row0 col63\" >1225.386985</td>\n",
       "      <td id=\"T_88cde_row0_col64\" class=\"data row0 col64\" >1482.211613</td>\n",
       "      <td id=\"T_88cde_row0_col65\" class=\"data row0 col65\" >1177.562752</td>\n",
       "      <td id=\"T_88cde_row0_col66\" class=\"data row0 col66\" >1600.581967</td>\n",
       "      <td id=\"T_88cde_row0_col67\" class=\"data row0 col67\" >1670.791957</td>\n",
       "      <td id=\"T_88cde_row0_col68\" class=\"data row0 col68\" >1143.959891</td>\n",
       "      <td id=\"T_88cde_row0_col69\" class=\"data row0 col69\" >1317.621008</td>\n",
       "      <td id=\"T_88cde_row0_col70\" class=\"data row0 col70\" >1122.235931</td>\n",
       "      <td id=\"T_88cde_row0_col71\" class=\"data row0 col71\" >1151.898718</td>\n",
       "      <td id=\"T_88cde_row0_col72\" class=\"data row0 col72\" >1095.075252</td>\n",
       "      <td id=\"T_88cde_row0_col73\" class=\"data row0 col73\" >1328.973735</td>\n",
       "      <td id=\"T_88cde_row0_col74\" class=\"data row0 col74\" >1119.285963</td>\n",
       "      <td id=\"T_88cde_row0_col75\" class=\"data row0 col75\" >1181.789465</td>\n",
       "      <td id=\"T_88cde_row0_col76\" class=\"data row0 col76\" >1895.643321</td>\n",
       "      <td id=\"T_88cde_row0_col77\" class=\"data row0 col77\" >1074.306106</td>\n",
       "      <td id=\"T_88cde_row0_col78\" class=\"data row0 col78\" >1386.140365</td>\n",
       "      <td id=\"T_88cde_row0_col79\" class=\"data row0 col79\" >1384.219304</td>\n",
       "      <td id=\"T_88cde_row0_col80\" class=\"data row0 col80\" >1305.150714</td>\n",
       "      <td id=\"T_88cde_row0_col81\" class=\"data row0 col81\" >1406.227601</td>\n",
       "      <td id=\"T_88cde_row0_col82\" class=\"data row0 col82\" >1090.439681</td>\n",
       "      <td id=\"T_88cde_row0_col83\" class=\"data row0 col83\" >1782.953306</td>\n",
       "      <td id=\"T_88cde_row0_col84\" class=\"data row0 col84\" >2324.243694</td>\n",
       "      <td id=\"T_88cde_row0_col85\" class=\"data row0 col85\" >1973.610210</td>\n",
       "      <td id=\"T_88cde_row0_col86\" class=\"data row0 col86\" >1442.049777</td>\n",
       "      <td id=\"T_88cde_row0_col87\" class=\"data row0 col87\" >1359.446743</td>\n",
       "      <td id=\"T_88cde_row0_col88\" class=\"data row0 col88\" >1438.410748</td>\n",
       "      <td id=\"T_88cde_row0_col89\" class=\"data row0 col89\" >2309.925962</td>\n",
       "      <td id=\"T_88cde_row0_col90\" class=\"data row0 col90\" >1800.077074</td>\n",
       "      <td id=\"T_88cde_row0_col91\" class=\"data row0 col91\" >1857.475324</td>\n",
       "      <td id=\"T_88cde_row0_col92\" class=\"data row0 col92\" >2310.304252</td>\n",
       "      <td id=\"T_88cde_row0_col93\" class=\"data row0 col93\" >1420.832607</td>\n",
       "      <td id=\"T_88cde_row0_col94\" class=\"data row0 col94\" >1367.374626</td>\n",
       "      <td id=\"T_88cde_row0_col95\" class=\"data row0 col95\" >1322.849022</td>\n",
       "      <td id=\"T_88cde_row0_col96\" class=\"data row0 col96\" >1487.258451</td>\n",
       "      <td id=\"T_88cde_row0_col97\" class=\"data row0 col97\" >1898.739975</td>\n",
       "      <td id=\"T_88cde_row0_col98\" class=\"data row0 col98\" >1294.914317</td>\n",
       "      <td id=\"T_88cde_row0_col99\" class=\"data row0 col99\" >1283.173293</td>\n",
       "    </tr>\n",
       "    <tr>\n",
       "      <th id=\"T_88cde_level0_row1\" class=\"row_heading level0 row1\" >20</th>\n",
       "      <td id=\"T_88cde_row1_col0\" class=\"data row1 col0\" >1361.024832</td>\n",
       "      <td id=\"T_88cde_row1_col1\" class=\"data row1 col1\" >2389.892369</td>\n",
       "      <td id=\"T_88cde_row1_col2\" class=\"data row1 col2\" >1798.088664</td>\n",
       "      <td id=\"T_88cde_row1_col3\" class=\"data row1 col3\" >2002.720975</td>\n",
       "      <td id=\"T_88cde_row1_col4\" class=\"data row1 col4\" >1751.794880</td>\n",
       "      <td id=\"T_88cde_row1_col5\" class=\"data row1 col5\" >1642.584436</td>\n",
       "      <td id=\"T_88cde_row1_col6\" class=\"data row1 col6\" >1797.788024</td>\n",
       "      <td id=\"T_88cde_row1_col7\" class=\"data row1 col7\" >1746.261815</td>\n",
       "      <td id=\"T_88cde_row1_col8\" class=\"data row1 col8\" >1177.508689</td>\n",
       "      <td id=\"T_88cde_row1_col9\" class=\"data row1 col9\" >1359.196589</td>\n",
       "      <td id=\"T_88cde_row1_col10\" class=\"data row1 col10\" >1882.709164</td>\n",
       "      <td id=\"T_88cde_row1_col11\" class=\"data row1 col11\" >1360.128609</td>\n",
       "      <td id=\"T_88cde_row1_col12\" class=\"data row1 col12\" >2397.974675</td>\n",
       "      <td id=\"T_88cde_row1_col13\" class=\"data row1 col13\" >2389.893192</td>\n",
       "      <td id=\"T_88cde_row1_col14\" class=\"data row1 col14\" >2305.592547</td>\n",
       "      <td id=\"T_88cde_row1_col15\" class=\"data row1 col15\" >1798.088664</td>\n",
       "      <td id=\"T_88cde_row1_col16\" class=\"data row1 col16\" >1499.215233</td>\n",
       "      <td id=\"T_88cde_row1_col17\" class=\"data row1 col17\" >1967.463656</td>\n",
       "      <td id=\"T_88cde_row1_col18\" class=\"data row1 col18\" >1915.373550</td>\n",
       "      <td id=\"T_88cde_row1_col19\" class=\"data row1 col19\" >1751.581720</td>\n",
       "      <td id=\"T_88cde_row1_col20\" class=\"data row1 col20\" >1924.751752</td>\n",
       "      <td id=\"T_88cde_row1_col21\" class=\"data row1 col21\" >1649.899946</td>\n",
       "      <td id=\"T_88cde_row1_col22\" class=\"data row1 col22\" >994.126758</td>\n",
       "      <td id=\"T_88cde_row1_col23\" class=\"data row1 col23\" >1322.178021</td>\n",
       "      <td id=\"T_88cde_row1_col24\" class=\"data row1 col24\" >1933.359483</td>\n",
       "      <td id=\"T_88cde_row1_col25\" class=\"data row1 col25\" >1200.653760</td>\n",
       "      <td id=\"T_88cde_row1_col26\" class=\"data row1 col26\" >1572.732125</td>\n",
       "      <td id=\"T_88cde_row1_col27\" class=\"data row1 col27\" >1177.562752</td>\n",
       "      <td id=\"T_88cde_row1_col28\" class=\"data row1 col28\" >1684.023684</td>\n",
       "      <td id=\"T_88cde_row1_col29\" class=\"data row1 col29\" >1317.621008</td>\n",
       "      <td id=\"T_88cde_row1_col30\" class=\"data row1 col30\" >1287.462659</td>\n",
       "      <td id=\"T_88cde_row1_col31\" class=\"data row1 col31\" >1328.954005</td>\n",
       "      <td id=\"T_88cde_row1_col32\" class=\"data row1 col32\" >1219.886320</td>\n",
       "      <td id=\"T_88cde_row1_col33\" class=\"data row1 col33\" >1188.587124</td>\n",
       "      <td id=\"T_88cde_row1_col34\" class=\"data row1 col34\" >1384.220720</td>\n",
       "      <td id=\"T_88cde_row1_col35\" class=\"data row1 col35\" >2420.836402</td>\n",
       "      <td id=\"T_88cde_row1_col36\" class=\"data row1 col36\" >1784.336701</td>\n",
       "      <td id=\"T_88cde_row1_col37\" class=\"data row1 col37\" >2011.737586</td>\n",
       "      <td id=\"T_88cde_row1_col38\" class=\"data row1 col38\" >1369.117230</td>\n",
       "      <td id=\"T_88cde_row1_col39\" class=\"data row1 col39\" >2309.926288</td>\n",
       "      <td id=\"T_88cde_row1_col40\" class=\"data row1 col40\" >2307.607458</td>\n",
       "      <td id=\"T_88cde_row1_col41\" class=\"data row1 col41\" >2072.022182</td>\n",
       "      <td id=\"T_88cde_row1_col42\" class=\"data row1 col42\" >1448.826177</td>\n",
       "      <td id=\"T_88cde_row1_col43\" class=\"data row1 col43\" >1499.215288</td>\n",
       "      <td id=\"T_88cde_row1_col44\" class=\"data row1 col44\" >1283.173293</td>\n",
       "      <td id=\"T_88cde_row1_col45\" class=\"data row1 col45\" >1995.205538</td>\n",
       "      <td id=\"T_88cde_row1_col46\" class=\"data row1 col46\" >1469.346246</td>\n",
       "      <td id=\"T_88cde_row1_col47\" class=\"data row1 col47\" >1636.701206</td>\n",
       "      <td id=\"T_88cde_row1_col48\" class=\"data row1 col48\" >1846.292730</td>\n",
       "      <td id=\"T_88cde_row1_col49\" class=\"data row1 col49\" >1751.558765</td>\n",
       "      <td id=\"T_88cde_row1_col50\" class=\"data row1 col50\" >1476.219514</td>\n",
       "      <td id=\"T_88cde_row1_col51\" class=\"data row1 col51\" >1744.105851</td>\n",
       "      <td id=\"T_88cde_row1_col52\" class=\"data row1 col52\" >1477.593033</td>\n",
       "      <td id=\"T_88cde_row1_col53\" class=\"data row1 col53\" >1735.487526</td>\n",
       "      <td id=\"T_88cde_row1_col54\" class=\"data row1 col54\" >1391.107147</td>\n",
       "      <td id=\"T_88cde_row1_col55\" class=\"data row1 col55\" >994.125939</td>\n",
       "      <td id=\"T_88cde_row1_col56\" class=\"data row1 col56\" >1315.767217</td>\n",
       "      <td id=\"T_88cde_row1_col57\" class=\"data row1 col57\" >1283.478351</td>\n",
       "      <td id=\"T_88cde_row1_col58\" class=\"data row1 col58\" >1356.826966</td>\n",
       "      <td id=\"T_88cde_row1_col59\" class=\"data row1 col59\" >1234.564784</td>\n",
       "      <td id=\"T_88cde_row1_col60\" class=\"data row1 col60\" >1329.085737</td>\n",
       "      <td id=\"T_88cde_row1_col61\" class=\"data row1 col61\" >1140.491602</td>\n",
       "      <td id=\"T_88cde_row1_col62\" class=\"data row1 col62\" >1114.734715</td>\n",
       "      <td id=\"T_88cde_row1_col63\" class=\"data row1 col63\" >1225.386985</td>\n",
       "      <td id=\"T_88cde_row1_col64\" class=\"data row1 col64\" >1482.211613</td>\n",
       "      <td id=\"T_88cde_row1_col65\" class=\"data row1 col65\" >1177.562752</td>\n",
       "      <td id=\"T_88cde_row1_col66\" class=\"data row1 col66\" >1600.581967</td>\n",
       "      <td id=\"T_88cde_row1_col67\" class=\"data row1 col67\" >1670.791957</td>\n",
       "      <td id=\"T_88cde_row1_col68\" class=\"data row1 col68\" >1143.959891</td>\n",
       "      <td id=\"T_88cde_row1_col69\" class=\"data row1 col69\" >1317.621008</td>\n",
       "      <td id=\"T_88cde_row1_col70\" class=\"data row1 col70\" >1122.235931</td>\n",
       "      <td id=\"T_88cde_row1_col71\" class=\"data row1 col71\" >1151.898718</td>\n",
       "      <td id=\"T_88cde_row1_col72\" class=\"data row1 col72\" >1095.075252</td>\n",
       "      <td id=\"T_88cde_row1_col73\" class=\"data row1 col73\" >1328.973735</td>\n",
       "      <td id=\"T_88cde_row1_col74\" class=\"data row1 col74\" >1119.285963</td>\n",
       "      <td id=\"T_88cde_row1_col75\" class=\"data row1 col75\" >1181.789465</td>\n",
       "      <td id=\"T_88cde_row1_col76\" class=\"data row1 col76\" >1895.643321</td>\n",
       "      <td id=\"T_88cde_row1_col77\" class=\"data row1 col77\" >1074.306106</td>\n",
       "      <td id=\"T_88cde_row1_col78\" class=\"data row1 col78\" >1386.140365</td>\n",
       "      <td id=\"T_88cde_row1_col79\" class=\"data row1 col79\" >1384.219304</td>\n",
       "      <td id=\"T_88cde_row1_col80\" class=\"data row1 col80\" >1305.150714</td>\n",
       "      <td id=\"T_88cde_row1_col81\" class=\"data row1 col81\" >1406.227601</td>\n",
       "      <td id=\"T_88cde_row1_col82\" class=\"data row1 col82\" >1090.439681</td>\n",
       "      <td id=\"T_88cde_row1_col83\" class=\"data row1 col83\" >1782.953306</td>\n",
       "      <td id=\"T_88cde_row1_col84\" class=\"data row1 col84\" >2324.243694</td>\n",
       "      <td id=\"T_88cde_row1_col85\" class=\"data row1 col85\" >1973.610210</td>\n",
       "      <td id=\"T_88cde_row1_col86\" class=\"data row1 col86\" >1442.049777</td>\n",
       "      <td id=\"T_88cde_row1_col87\" class=\"data row1 col87\" >1359.446743</td>\n",
       "      <td id=\"T_88cde_row1_col88\" class=\"data row1 col88\" >1438.410748</td>\n",
       "      <td id=\"T_88cde_row1_col89\" class=\"data row1 col89\" >2309.925962</td>\n",
       "      <td id=\"T_88cde_row1_col90\" class=\"data row1 col90\" >1800.077074</td>\n",
       "      <td id=\"T_88cde_row1_col91\" class=\"data row1 col91\" >1857.475324</td>\n",
       "      <td id=\"T_88cde_row1_col92\" class=\"data row1 col92\" >2310.304252</td>\n",
       "      <td id=\"T_88cde_row1_col93\" class=\"data row1 col93\" >1420.832607</td>\n",
       "      <td id=\"T_88cde_row1_col94\" class=\"data row1 col94\" >1367.374626</td>\n",
       "      <td id=\"T_88cde_row1_col95\" class=\"data row1 col95\" >1322.849022</td>\n",
       "      <td id=\"T_88cde_row1_col96\" class=\"data row1 col96\" >1487.258451</td>\n",
       "      <td id=\"T_88cde_row1_col97\" class=\"data row1 col97\" >1898.739975</td>\n",
       "      <td id=\"T_88cde_row1_col98\" class=\"data row1 col98\" >1294.914317</td>\n",
       "      <td id=\"T_88cde_row1_col99\" class=\"data row1 col99\" >1283.173293</td>\n",
       "    </tr>\n",
       "    <tr>\n",
       "      <th id=\"T_88cde_level0_row2\" class=\"row_heading level0 row2\" >50</th>\n",
       "      <td id=\"T_88cde_row2_col0\" class=\"data row2 col0\" >1361.024832</td>\n",
       "      <td id=\"T_88cde_row2_col1\" class=\"data row2 col1\" >2389.892369</td>\n",
       "      <td id=\"T_88cde_row2_col2\" class=\"data row2 col2\" >1798.088664</td>\n",
       "      <td id=\"T_88cde_row2_col3\" class=\"data row2 col3\" >2002.720975</td>\n",
       "      <td id=\"T_88cde_row2_col4\" class=\"data row2 col4\" >1751.794880</td>\n",
       "      <td id=\"T_88cde_row2_col5\" class=\"data row2 col5\" >1642.584436</td>\n",
       "      <td id=\"T_88cde_row2_col6\" class=\"data row2 col6\" >1797.788024</td>\n",
       "      <td id=\"T_88cde_row2_col7\" class=\"data row2 col7\" >1746.261815</td>\n",
       "      <td id=\"T_88cde_row2_col8\" class=\"data row2 col8\" >1177.508689</td>\n",
       "      <td id=\"T_88cde_row2_col9\" class=\"data row2 col9\" >1359.196589</td>\n",
       "      <td id=\"T_88cde_row2_col10\" class=\"data row2 col10\" >1882.709164</td>\n",
       "      <td id=\"T_88cde_row2_col11\" class=\"data row2 col11\" >1360.128609</td>\n",
       "      <td id=\"T_88cde_row2_col12\" class=\"data row2 col12\" >2397.974675</td>\n",
       "      <td id=\"T_88cde_row2_col13\" class=\"data row2 col13\" >2389.893192</td>\n",
       "      <td id=\"T_88cde_row2_col14\" class=\"data row2 col14\" >2305.592547</td>\n",
       "      <td id=\"T_88cde_row2_col15\" class=\"data row2 col15\" >1798.088664</td>\n",
       "      <td id=\"T_88cde_row2_col16\" class=\"data row2 col16\" >1499.215233</td>\n",
       "      <td id=\"T_88cde_row2_col17\" class=\"data row2 col17\" >1967.463656</td>\n",
       "      <td id=\"T_88cde_row2_col18\" class=\"data row2 col18\" >1915.373550</td>\n",
       "      <td id=\"T_88cde_row2_col19\" class=\"data row2 col19\" >1751.581720</td>\n",
       "      <td id=\"T_88cde_row2_col20\" class=\"data row2 col20\" >1924.751752</td>\n",
       "      <td id=\"T_88cde_row2_col21\" class=\"data row2 col21\" >1649.899946</td>\n",
       "      <td id=\"T_88cde_row2_col22\" class=\"data row2 col22\" >994.126758</td>\n",
       "      <td id=\"T_88cde_row2_col23\" class=\"data row2 col23\" >1322.178021</td>\n",
       "      <td id=\"T_88cde_row2_col24\" class=\"data row2 col24\" >1933.359483</td>\n",
       "      <td id=\"T_88cde_row2_col25\" class=\"data row2 col25\" >1200.653760</td>\n",
       "      <td id=\"T_88cde_row2_col26\" class=\"data row2 col26\" >1572.732125</td>\n",
       "      <td id=\"T_88cde_row2_col27\" class=\"data row2 col27\" >1177.562752</td>\n",
       "      <td id=\"T_88cde_row2_col28\" class=\"data row2 col28\" >1684.023684</td>\n",
       "      <td id=\"T_88cde_row2_col29\" class=\"data row2 col29\" >1317.621008</td>\n",
       "      <td id=\"T_88cde_row2_col30\" class=\"data row2 col30\" >1287.462659</td>\n",
       "      <td id=\"T_88cde_row2_col31\" class=\"data row2 col31\" >1328.954005</td>\n",
       "      <td id=\"T_88cde_row2_col32\" class=\"data row2 col32\" >1219.886320</td>\n",
       "      <td id=\"T_88cde_row2_col33\" class=\"data row2 col33\" >1188.587124</td>\n",
       "      <td id=\"T_88cde_row2_col34\" class=\"data row2 col34\" >1384.220720</td>\n",
       "      <td id=\"T_88cde_row2_col35\" class=\"data row2 col35\" >2420.836402</td>\n",
       "      <td id=\"T_88cde_row2_col36\" class=\"data row2 col36\" >1784.336701</td>\n",
       "      <td id=\"T_88cde_row2_col37\" class=\"data row2 col37\" >2011.737586</td>\n",
       "      <td id=\"T_88cde_row2_col38\" class=\"data row2 col38\" >1369.117230</td>\n",
       "      <td id=\"T_88cde_row2_col39\" class=\"data row2 col39\" >2309.926288</td>\n",
       "      <td id=\"T_88cde_row2_col40\" class=\"data row2 col40\" >2307.607458</td>\n",
       "      <td id=\"T_88cde_row2_col41\" class=\"data row2 col41\" >2072.022182</td>\n",
       "      <td id=\"T_88cde_row2_col42\" class=\"data row2 col42\" >1448.826177</td>\n",
       "      <td id=\"T_88cde_row2_col43\" class=\"data row2 col43\" >1499.215288</td>\n",
       "      <td id=\"T_88cde_row2_col44\" class=\"data row2 col44\" >1283.173293</td>\n",
       "      <td id=\"T_88cde_row2_col45\" class=\"data row2 col45\" >1995.205538</td>\n",
       "      <td id=\"T_88cde_row2_col46\" class=\"data row2 col46\" >1469.346246</td>\n",
       "      <td id=\"T_88cde_row2_col47\" class=\"data row2 col47\" >1636.701206</td>\n",
       "      <td id=\"T_88cde_row2_col48\" class=\"data row2 col48\" >1846.292730</td>\n",
       "      <td id=\"T_88cde_row2_col49\" class=\"data row2 col49\" >1751.558765</td>\n",
       "      <td id=\"T_88cde_row2_col50\" class=\"data row2 col50\" >1476.219514</td>\n",
       "      <td id=\"T_88cde_row2_col51\" class=\"data row2 col51\" >1744.105851</td>\n",
       "      <td id=\"T_88cde_row2_col52\" class=\"data row2 col52\" >1477.593033</td>\n",
       "      <td id=\"T_88cde_row2_col53\" class=\"data row2 col53\" >1735.487526</td>\n",
       "      <td id=\"T_88cde_row2_col54\" class=\"data row2 col54\" >1391.107147</td>\n",
       "      <td id=\"T_88cde_row2_col55\" class=\"data row2 col55\" >994.125939</td>\n",
       "      <td id=\"T_88cde_row2_col56\" class=\"data row2 col56\" >1315.767217</td>\n",
       "      <td id=\"T_88cde_row2_col57\" class=\"data row2 col57\" >1283.478351</td>\n",
       "      <td id=\"T_88cde_row2_col58\" class=\"data row2 col58\" >1356.826966</td>\n",
       "      <td id=\"T_88cde_row2_col59\" class=\"data row2 col59\" >1234.564784</td>\n",
       "      <td id=\"T_88cde_row2_col60\" class=\"data row2 col60\" >1329.085737</td>\n",
       "      <td id=\"T_88cde_row2_col61\" class=\"data row2 col61\" >1140.491602</td>\n",
       "      <td id=\"T_88cde_row2_col62\" class=\"data row2 col62\" >1114.734715</td>\n",
       "      <td id=\"T_88cde_row2_col63\" class=\"data row2 col63\" >1225.386985</td>\n",
       "      <td id=\"T_88cde_row2_col64\" class=\"data row2 col64\" >1482.211613</td>\n",
       "      <td id=\"T_88cde_row2_col65\" class=\"data row2 col65\" >1177.562752</td>\n",
       "      <td id=\"T_88cde_row2_col66\" class=\"data row2 col66\" >1600.581967</td>\n",
       "      <td id=\"T_88cde_row2_col67\" class=\"data row2 col67\" >1670.791957</td>\n",
       "      <td id=\"T_88cde_row2_col68\" class=\"data row2 col68\" >1143.959891</td>\n",
       "      <td id=\"T_88cde_row2_col69\" class=\"data row2 col69\" >1317.621008</td>\n",
       "      <td id=\"T_88cde_row2_col70\" class=\"data row2 col70\" >1122.235931</td>\n",
       "      <td id=\"T_88cde_row2_col71\" class=\"data row2 col71\" >1151.898718</td>\n",
       "      <td id=\"T_88cde_row2_col72\" class=\"data row2 col72\" >1095.075252</td>\n",
       "      <td id=\"T_88cde_row2_col73\" class=\"data row2 col73\" >1328.973735</td>\n",
       "      <td id=\"T_88cde_row2_col74\" class=\"data row2 col74\" >1119.285963</td>\n",
       "      <td id=\"T_88cde_row2_col75\" class=\"data row2 col75\" >1181.789465</td>\n",
       "      <td id=\"T_88cde_row2_col76\" class=\"data row2 col76\" >1895.643321</td>\n",
       "      <td id=\"T_88cde_row2_col77\" class=\"data row2 col77\" >1074.306106</td>\n",
       "      <td id=\"T_88cde_row2_col78\" class=\"data row2 col78\" >1386.140365</td>\n",
       "      <td id=\"T_88cde_row2_col79\" class=\"data row2 col79\" >1384.219304</td>\n",
       "      <td id=\"T_88cde_row2_col80\" class=\"data row2 col80\" >1305.150714</td>\n",
       "      <td id=\"T_88cde_row2_col81\" class=\"data row2 col81\" >1406.227601</td>\n",
       "      <td id=\"T_88cde_row2_col82\" class=\"data row2 col82\" >1090.439681</td>\n",
       "      <td id=\"T_88cde_row2_col83\" class=\"data row2 col83\" >1782.953306</td>\n",
       "      <td id=\"T_88cde_row2_col84\" class=\"data row2 col84\" >2324.243694</td>\n",
       "      <td id=\"T_88cde_row2_col85\" class=\"data row2 col85\" >1973.610210</td>\n",
       "      <td id=\"T_88cde_row2_col86\" class=\"data row2 col86\" >1442.049777</td>\n",
       "      <td id=\"T_88cde_row2_col87\" class=\"data row2 col87\" >1359.446743</td>\n",
       "      <td id=\"T_88cde_row2_col88\" class=\"data row2 col88\" >1438.410748</td>\n",
       "      <td id=\"T_88cde_row2_col89\" class=\"data row2 col89\" >2309.925962</td>\n",
       "      <td id=\"T_88cde_row2_col90\" class=\"data row2 col90\" >1800.077074</td>\n",
       "      <td id=\"T_88cde_row2_col91\" class=\"data row2 col91\" >1857.475324</td>\n",
       "      <td id=\"T_88cde_row2_col92\" class=\"data row2 col92\" >2310.304252</td>\n",
       "      <td id=\"T_88cde_row2_col93\" class=\"data row2 col93\" >1420.832607</td>\n",
       "      <td id=\"T_88cde_row2_col94\" class=\"data row2 col94\" >1367.374626</td>\n",
       "      <td id=\"T_88cde_row2_col95\" class=\"data row2 col95\" >1322.849022</td>\n",
       "      <td id=\"T_88cde_row2_col96\" class=\"data row2 col96\" >1487.258451</td>\n",
       "      <td id=\"T_88cde_row2_col97\" class=\"data row2 col97\" >1898.739975</td>\n",
       "      <td id=\"T_88cde_row2_col98\" class=\"data row2 col98\" >1294.914317</td>\n",
       "      <td id=\"T_88cde_row2_col99\" class=\"data row2 col99\" >1283.173293</td>\n",
       "    </tr>\n",
       "  </tbody>\n",
       "</table>\n"
      ],
      "text/plain": [
       "<pandas.io.formats.style.Styler at 0x7f7469c34990>"
      ]
     },
     "execution_count": 21,
     "metadata": {},
     "output_type": "execute_result"
    }
   ],
   "source": [
    "# https://pandas.pydata.org/docs/reference/api/pandas.io.formats.style.Styler.background_gradient.html\n",
    "zeroes_df.pivot(index=\"k\", columns=\"b\", values=\"root\").style.background_gradient(\n",
    "    cmap=\"viridis\", axis=None\n",
    ")"
   ]
  },
  {
   "cell_type": "code",
   "execution_count": null,
   "id": "f23f688e-458c-4ba4-bd79-461f029ed6c8",
   "metadata": {},
   "outputs": [],
   "source": []
  },
  {
   "cell_type": "code",
   "execution_count": null,
   "id": "9ec6ab6a-de70-47cb-a285-366ee4dcc3a0",
   "metadata": {},
   "outputs": [],
   "source": []
  },
  {
   "cell_type": "code",
   "execution_count": null,
   "id": "d03e6696-d4e4-4467-ac6d-876ea15dc96f",
   "metadata": {},
   "outputs": [],
   "source": []
  },
  {
   "cell_type": "markdown",
   "id": "ab584905-639e-49fe-bc22-d46e44fe9ae2",
   "metadata": {},
   "source": [
    "# TESTS TO DO\n",
    "\n",
    "- [ ] Use fsolve with more/less than the actual number of existing roots."
   ]
  }
 ],
 "metadata": {
  "kernelspec": {
   "display_name": "Python 3 (ipykernel)",
   "language": "python",
   "name": "python3"
  },
  "language_info": {
   "codemirror_mode": {
    "name": "ipython",
    "version": 3
   },
   "file_extension": ".py",
   "mimetype": "text/x-python",
   "name": "python",
   "nbconvert_exporter": "python",
   "pygments_lexer": "ipython3",
   "version": "3.12.3"
  }
 },
 "nbformat": 4,
 "nbformat_minor": 5
}