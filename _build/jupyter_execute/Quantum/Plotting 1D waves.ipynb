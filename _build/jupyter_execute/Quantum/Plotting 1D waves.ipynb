{
 "cells": [
  {
   "cell_type": "markdown",
   "id": "f16110a9-6ca3-4302-b4ca-e084eea8d00e",
   "metadata": {
    "jp-MarkdownHeadingCollapsed": true
   },
   "source": [
    "# Imports"
   ]
  },
  {
   "cell_type": "code",
   "execution_count": 1,
   "id": "c5a7c285-a7dc-428a-b252-5788f38f7435",
   "metadata": {},
   "outputs": [],
   "source": [
    "import numpy as np\n",
    "\n",
    "# from scipy import signal\n",
    "import matplotlib.pyplot as plt\n",
    "from matplotlib import animation\n",
    "\n",
    "# import ipywidgets as widgets\n",
    "# from mpl_toolkits import mplot3d"
   ]
  },
  {
   "cell_type": "code",
   "execution_count": 2,
   "id": "5a2d5389-9c48-4ac0-8e8c-618c3dc24c27",
   "metadata": {},
   "outputs": [],
   "source": [
    "%matplotlib widget"
   ]
  },
  {
   "cell_type": "markdown",
   "id": "9a3ee9d0-52f4-4ac7-aa23-48b65d22fe9f",
   "metadata": {},
   "source": [
    "# Classes"
   ]
  },
  {
   "cell_type": "code",
   "execution_count": 3,
   "id": "c032afd4-29e9-4b17-8c9c-2874b02bb84f",
   "metadata": {},
   "outputs": [],
   "source": [
    "class Wave:\n",
    "\n",
    "    def __init__(\n",
    "        self,\n",
    "        wave_function,\n",
    "        label,\n",
    "        weight=1,\n",
    "    ):\n",
    "        self.wave_function = wave_function\n",
    "        self.label = label\n",
    "        self.weight = weight\n",
    "\n",
    "    def evaluate_wave_function(self, t, space_lattice):\n",
    "        return [self.wave_function(x, t) for x in space_lattice]\n",
    "\n",
    "    def __repr__(self):\n",
    "        return self.label"
   ]
  },
  {
   "cell_type": "code",
   "execution_count": 4,
   "id": "8c2324cb-f768-4365-9cfa-f973e7aadef2",
   "metadata": {},
   "outputs": [],
   "source": [
    "def trigonometric_wave_function(\n",
    "    phase=0, amplitude=1, time_frequency=1, space_frequency=1\n",
    "):\n",
    "    return lambda x, t: amplitude * np.sin(\n",
    "        phase + x * space_frequency + t * time_frequency\n",
    "    )"
   ]
  },
  {
   "cell_type": "code",
   "execution_count": 5,
   "id": "6a1eea70-73f9-426f-b703-a1107543dc08",
   "metadata": {},
   "outputs": [],
   "source": [
    "def plot_superposition(\n",
    "    waves,\n",
    "    space_lattice=np.linspace(-10, 10, 200),\n",
    "    time_lattice=np.linspace(0, 100, 10**3),\n",
    "):\n",
    "\n",
    "    def calculate_superposition(t):\n",
    "        return np.divide(\n",
    "            np.sum(\n",
    "                [\n",
    "                    np.multiply(w.evaluate_wave_function(t, space_lattice), w.weight)\n",
    "                    for w in waves\n",
    "                ],\n",
    "                axis=0,\n",
    "            ),\n",
    "            len(waves),\n",
    "        )\n",
    "\n",
    "    fig, all_axes = plt.subplots(\n",
    "        figsize=(15, 3),\n",
    "        nrows=len(waves) + 1,\n",
    "        # sharex=True,\n",
    "    )\n",
    "    painters = [\n",
    "        all_axes[i].plot(\n",
    "            space_lattice,\n",
    "            [wave.wave_function(x, 0) for x in space_lattice],\n",
    "            label=wave.label,\n",
    "        )[0]\n",
    "        for i, wave in enumerate(waves)\n",
    "    ]\n",
    "    for painter in painters:\n",
    "        painter.set_xdata(space_lattice)\n",
    "\n",
    "    painters.append(\n",
    "        all_axes[-1].plot(\n",
    "            space_lattice,\n",
    "            calculate_superposition(t=0),\n",
    "            \"tab:orange\",\n",
    "            label=\"superposition\",\n",
    "        )[0]\n",
    "    )\n",
    "    painters[-1].set_xdata(space_lattice)\n",
    "\n",
    "    for ax in all_axes:\n",
    "        ax.set(xlim=[-10, 10], ylim=[-1, 1])\n",
    "        ax.legend(loc=\"upper right\")\n",
    "\n",
    "    def update(frame):\n",
    "        # update the plots:\n",
    "        for painter, wave in zip(painters[:-1], waves):\n",
    "            painter.set_ydata(\n",
    "                wave.evaluate_wave_function(t=frame, space_lattice=space_lattice)\n",
    "            )\n",
    "        painters[-1].set_ydata(calculate_superposition(t=frame))\n",
    "        return painters\n",
    "\n",
    "    ani = animation.FuncAnimation(fig=fig, func=update, frames=time_lattice, interval=5)\n",
    "    plt.plot()\n",
    "\n",
    "    return ani"
   ]
  },
  {
   "cell_type": "markdown",
   "id": "d7ed2ff5-62bf-46c9-886f-c75dce984cde",
   "metadata": {},
   "source": [
    "# Goal\n",
    "\n",
    "Show the \"superposition\" of a left and right moving wave as a single plot"
   ]
  },
  {
   "cell_type": "code",
   "execution_count": 6,
   "id": "e8553a79-1b6c-4c94-84b9-21ac3f28114e",
   "metadata": {},
   "outputs": [],
   "source": [
    "plot_superposition(\n",
    "    [\n",
    "        Wave(trigonometric_wave_function(space_frequency=2.3), label=\"cos(2.3x+t)\"),\n",
    "        Wave(trigonometric_wave_function(time_frequency=-0.8), label=\"cos(x-.8t)\"),\n",
    "    ]\n",
    ")"
   ]
  },
  {
   "cell_type": "code",
   "execution_count": 9,
   "id": "61e3e3a5-7a00-43ea-baf6-656b324e7ce5",
   "metadata": {},
   "outputs": [],
   "source": [
    "# Show the \"superposition\" of a left and right moving wave as a single plot\n",
    "plot_superposition(\n",
    "    [\n",
    "        Wave(\n",
    "            trigonometric_wave_function(amplitude=1, space_frequency=5),\n",
    "            label=\"cos(5x+t)\",\n",
    "            weight=0.05,\n",
    "        ),\n",
    "        Wave(\n",
    "            lambda x, t: np.exp(-1 * (x - 0.5 * t + 10) ** 2),\n",
    "            label=\"Exp decay moving right\",\n",
    "        ),\n",
    "        Wave(\n",
    "            lambda x, t: np.exp(-1 * (x + 0.5 * t - 10) ** 2),\n",
    "            label=\"Exp decay moving left\",\n",
    "        ),\n",
    "    ],\n",
    "    time_lattice=np.linspace(0, 20, 200),\n",
    ")"
   ]
  },
  {
   "cell_type": "markdown",
   "id": "9e812c97-8abb-4c3f-8ab8-3fd11cdce214",
   "metadata": {},
   "source": [
    "# Next steps\n",
    "\n",
    "Use an example as the one below to plot a \"3D\" curve. This will allows us to see both the complex and real parts of the 1D wave function."
   ]
  },
  {
   "cell_type": "code",
   "execution_count": 10,
   "id": "0e8dad12-292a-456c-a759-9ce25ff1d595",
   "metadata": {},
   "outputs": [],
   "source": [
    "# These lines are comments\n",
    "# Initial setup from an online python notebook tutorial is below.\n",
    "# Note the first line \"%matplotlib inline\" this is how the tutorial has it.\n",
    "# Two solutions 1. use: \"%matplotlib notebook\" graphs appear dynamic in the notebook.\n",
    "#               2. use: \"%matplotlib\" (only) graphs appear dynamic in separate window.\n",
    "#    ( 2. is the best solution for detailed graphs/plots. )\n",
    "\n",
    "%matplotlib widget\n",
    "import pandas as pd\n",
    "import numpy as np\n",
    "import matplotlib as mpl\n",
    "import matplotlib.pyplot as plt\n",
    "from mpl_toolkits.mplot3d import Axes3D\n",
    "\n",
    "\n",
    "# What follows is a copy of the 3D plot example code.\n",
    "# Data is randomly generated so there is no external data import.\n",
    "\n",
    "\n",
    "def randrange(n, vmin, vmax):\n",
    "    return (vmax - vmin) * np.random.rand(n) + vmin\n",
    "\n",
    "\n",
    "fig = plt.figure()\n",
    "ax = fig.add_subplot(111, projection=\"3d\")\n",
    "n = 100\n",
    "for c, m, zl, zh in [(\"r\", \"o\", -60, -25), (\"b\", \"^\", -30, -5)]:\n",
    "    xs = randrange(n, 23, 50)\n",
    "    ys = randrange(n, 0, 100)\n",
    "    zs = randrange(n, zl, zh)\n",
    "    ax.scatter(xs, ys, zs, c=c, marker=m)\n",
    "\n",
    "ax.set_xlabel(\"X Label\")\n",
    "ax.set_ylabel(\"Y Label\")\n",
    "ax.set_zlabel(\"Z Label\")\n",
    "\n",
    "plt.show()"
   ]
  },
  {
   "cell_type": "code",
   "execution_count": null,
   "id": "941d5daf-7bf6-4587-8fa5-0434f7be889f",
   "metadata": {},
   "outputs": [],
   "source": []
  }
 ],
 "metadata": {
  "kernelspec": {
   "display_name": "Python 3 (ipykernel)",
   "language": "python",
   "name": "python3"
  },
  "language_info": {
   "codemirror_mode": {
    "name": "ipython",
    "version": 3
   },
   "file_extension": ".py",
   "mimetype": "text/x-python",
   "name": "python",
   "nbconvert_exporter": "python",
   "pygments_lexer": "ipython3",
   "version": "3.11.6"
  }
 },
 "nbformat": 4,
 "nbformat_minor": 5
}