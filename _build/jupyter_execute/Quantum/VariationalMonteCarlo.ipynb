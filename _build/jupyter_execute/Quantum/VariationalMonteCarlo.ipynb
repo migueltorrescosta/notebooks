{
 "cells": [
  {
   "cell_type": "markdown",
   "id": "0b2e606c-f481-4c53-8e16-31220eb13c97",
   "metadata": {},
   "source": [
    "# Imports"
   ]
  },
  {
   "cell_type": "code",
   "execution_count": 1,
   "id": "b58f8fb2-a5db-481d-aced-f1c120837dce",
   "metadata": {
    "ExecuteTime": {
     "end_time": "2024-04-03T10:22:40.182708Z",
     "start_time": "2024-04-03T10:22:39.730171Z"
    }
   },
   "outputs": [
    {
     "ename": "ModuleNotFoundError",
     "evalue": "No module named 'src'",
     "output_type": "error",
     "traceback": [
      "\u001b[0;31m---------------------------------------------------------------------------\u001b[0m",
      "\u001b[0;31mModuleNotFoundError\u001b[0m                       Traceback (most recent call last)",
      "Cell \u001b[0;32mIn[1], line 5\u001b[0m\n\u001b[1;32m      2\u001b[0m \u001b[38;5;28;01mfrom\u001b[39;00m \u001b[38;5;21;01mIPython\u001b[39;00m\u001b[38;5;21;01m.\u001b[39;00m\u001b[38;5;21;01mcore\u001b[39;00m\u001b[38;5;21;01m.\u001b[39;00m\u001b[38;5;21;01mpylabtools\u001b[39;00m \u001b[38;5;28;01mimport\u001b[39;00m figsize\n\u001b[1;32m      3\u001b[0m \u001b[38;5;28;01mfrom\u001b[39;00m \u001b[38;5;21;01mmatplotlib\u001b[39;00m \u001b[38;5;28;01mimport\u001b[39;00m pyplot \u001b[38;5;28;01mas\u001b[39;00m plt\n\u001b[0;32m----> 5\u001b[0m \u001b[38;5;28;01mfrom\u001b[39;00m \u001b[38;5;21;01msrc\u001b[39;00m\u001b[38;5;21;01m.\u001b[39;00m\u001b[38;5;21;01malgorithms\u001b[39;00m \u001b[38;5;28;01mimport\u001b[39;00m AbstractMetropolisHastings\n\u001b[1;32m      7\u001b[0m figsize(\u001b[38;5;241m20\u001b[39m, \u001b[38;5;241m3\u001b[39m)\n",
      "\u001b[0;31mModuleNotFoundError\u001b[0m: No module named 'src'"
     ]
    }
   ],
   "source": [
    "import numpy as np\n",
    "from IPython.core.pylabtools import figsize\n",
    "from matplotlib import pyplot as plt\n",
    "\n",
    "from src.algorithms import AbstractMetropolisHastings\n",
    "\n",
    "figsize(20, 3)"
   ]
  },
  {
   "cell_type": "markdown",
   "id": "28181b06-4fa9-49d2-8d7b-5dd39ff31393",
   "metadata": {},
   "source": [
    "# VMC Setup"
   ]
  },
  {
   "cell_type": "markdown",
   "id": "17c8412dd547005e",
   "metadata": {
    "collapsed": false
   },
   "source": [
    "The goal of this section is to calculate $\\int ... dR $\n",
    "\n",
    "$$\n",
    "\\left \\{\n",
    "\\begin{array}{rll}\n",
    "H &= - \\frac{\\partial^2}{2 \\partial x^2} +V(x) & \\text{Hamiltonian}\\\\\n",
    "\\psi(R) &= \\exp({-p_0(x-p_1)^2-p_2(x-p_3)^2}) & \\text{Wave function}\\\\\n",
    "E_L(R) &= \\frac{H\\psi(R)}{\\psi(R)} = V(x) - \\frac{1}{2}\\frac{\\partial^2}{\\partial x^2}\\psi(x) & \\text{\"Local\" energy}\\\\\n",
    "V(x) &= \\frac{a_2}{2}x^2 + a_4x^4 & \\text{Potential energy}\\\\\n",
    "G(R,R', \\beta) &= \\braket{R | e^{- \\beta H} | R'} & \\text{???}\\\\\n",
    "\\Pi(R) &\\propto | \\psi(R) |^2 & \\text{Sampling probability???}\\\\\n",
    "\\end{array}\n",
    "\\right .\n",
    "$$"
   ]
  },
  {
   "cell_type": "code",
   "execution_count": 2,
   "id": "2c27417d-e235-4158-ba7f-953f5352b1c0",
   "metadata": {
    "ExecuteTime": {
     "end_time": "2024-04-03T10:22:40.187639Z",
     "start_time": "2024-04-03T10:22:40.184129Z"
    }
   },
   "outputs": [],
   "source": [
    "class VMC(AbstractMetropolisHastings[float]):\n",
    "    a = [1, 0]\n",
    "    p = [.0002, 0, 0, 0]\n",
    "    sigma = 5\n",
    "\n",
    "    def generator_function(self):\n",
    "        return self.current_configuration + np.random.normal(0, self.sigma)\n",
    "\n",
    "    def state_likelihood(self, x: float):\n",
    "        # This is proportional to the state probability\n",
    "        p = self.p\n",
    "        aux_exp = lambda mu, sigma: np.prod([-1, mu, x - sigma, x - sigma])\n",
    "        return np.exp(aux_exp(p[0], p[1]) + aux_exp(p[2], p[3]))\n"
   ]
  },
  {
   "cell_type": "code",
   "execution_count": 3,
   "id": "de27154a1b2f878b",
   "metadata": {
    "ExecuteTime": {
     "end_time": "2024-04-03T10:22:40.198774Z",
     "start_time": "2024-04-03T10:22:40.188478Z"
    },
    "collapsed": false
   },
   "outputs": [],
   "source": [
    "vmc = VMC(initial_configuration=np.random.normal(0, 1))"
   ]
  },
  {
   "cell_type": "markdown",
   "id": "b11646ae7b3a8c4f",
   "metadata": {
    "collapsed": false
   },
   "source": [
    "# Likelihood plot"
   ]
  },
  {
   "cell_type": "code",
   "execution_count": 4,
   "id": "cb18744aab2e59b0",
   "metadata": {
    "ExecuteTime": {
     "end_time": "2024-04-03T10:22:40.447339Z",
     "start_time": "2024-04-03T10:22:40.199459Z"
    },
    "collapsed": false
   },
   "outputs": [],
   "source": [
    "datapoints = np.linspace(-250, 250, 10000)\n",
    "plt.plot(datapoints, [vmc.state_likelihood(x) for x in datapoints])"
   ]
  },
  {
   "cell_type": "markdown",
   "id": "4732f430d792464e",
   "metadata": {
    "collapsed": false
   },
   "source": [
    "# Trial run"
   ]
  },
  {
   "cell_type": "code",
   "execution_count": 5,
   "id": "6a557626-22b1-4ad3-8f01-72c7d8aff5d5",
   "metadata": {
    "ExecuteTime": {
     "end_time": "2024-04-03T10:26:12.941700Z",
     "start_time": "2024-04-03T10:22:40.450050Z"
    }
   },
   "outputs": [],
   "source": [
    "vmc.run_iterations(10 ** 7)"
   ]
  },
  {
   "cell_type": "markdown",
   "id": "ae36c2df754dea61",
   "metadata": {
    "collapsed": false
   },
   "source": [
    "# Plots"
   ]
  },
  {
   "cell_type": "code",
   "execution_count": 8,
   "id": "d7570d4f3c94fd4",
   "metadata": {
    "ExecuteTime": {
     "end_time": "2024-04-03T10:36:54.579525Z",
     "start_time": "2024-04-03T10:36:52.174533Z"
    },
    "collapsed": false
   },
   "outputs": [],
   "source": [
    "plt.plot(vmc.configuration_history)"
   ]
  },
  {
   "cell_type": "code",
   "execution_count": 6,
   "id": "c3e1c0004b6d06b8",
   "metadata": {
    "ExecuteTime": {
     "end_time": "2024-04-03T10:26:25.842353Z",
     "start_time": "2024-04-03T10:26:12.942345Z"
    },
    "collapsed": false
   },
   "outputs": [],
   "source": [
    "# 4*10**5 is used to put both plots in the same scale.\n",
    "# I'd like a neater way of lining the 2 plots\n",
    "plt.plot(datapoints, [4 * 10 ** 5 * vmc.state_likelihood(x) for x in datapoints])\n",
    "plt.hist(vmc.configuration_history, bins=100, density=False)"
   ]
  }
 ],
 "metadata": {
  "kernelspec": {
   "display_name": "Python 3 (ipykernel)",
   "language": "python",
   "name": "python3"
  },
  "language_info": {
   "codemirror_mode": {
    "name": "ipython",
    "version": 3
   },
   "file_extension": ".py",
   "mimetype": "text/x-python",
   "name": "python",
   "nbconvert_exporter": "python",
   "pygments_lexer": "ipython3",
   "version": "3.12.3"
  }
 },
 "nbformat": 4,
 "nbformat_minor": 5
}