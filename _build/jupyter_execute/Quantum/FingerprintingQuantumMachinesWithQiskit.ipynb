{
 "cells": [
  {
   "cell_type": "markdown",
   "id": "3a6431610d2f0d1",
   "metadata": {
    "collapsed": false
   },
   "source": [
    "# Goal\n",
    "\n",
    "It has been shown that [quantum computers can be identified by biases in their results](https://collapsedwave.com/%F0%9F%97%92%EF%B8%8F-Papers/%F0%9F%97%92%EF%B8%8F-Learning-the-noise-fingerprint-of-quantum-devices). In this notebook we aim to build a Quantum Computer identifier, i.e. a predictor that based on the input algorithm and the probability distribution of the results, returns the machine it has likely been built on.\n",
    "\n",
    "# Notation\n",
    "\n",
    "- $a \\in A$ is an algorithm: A quantum algorithm / quantum circuit.\n",
    "- $C \\in \\Omega$ is a Quantum Computer: One of the machines available to run algorithms on\n",
    "- $C_a$ is the true probability distribution of running the algorithm $a$ on the quantum computer $C$.\n",
    "- $T: C_a \\mapsto C$ is our Predictor: A model that maps outputs of a quantum algorithm run on a quantum computer, to the likelihood of which quantum computer it ran on. \n",
    "\n",
    "# Setup\n",
    "\n",
    "## Inputs\n",
    "\n",
    "- We need to be able to map a generic algorithm to an input in our predictor\n",
    "\n",
    "## Predictor\n",
    "\n",
    "- We can add / remove quantum computers to our predictor without having to retrain everything\n",
    "- The predictor returns a weighted array of quantum machine likelihoods\n",
    "- Since the output is a probability distribution, we have:\n",
    "    - Access to the simulated output as the unbiased probability distribution\n",
    "    - Distance metrics between probability distributions that allow us to represent consistent biases in the calculations.\n",
    "- We might be able to represent the dag as THE neural network, and each computer has their own gate mapping that is initialized as the true gate, however we learn the gate's noise as a computer $C$ specific gate. This way the learning problem generalises to generic DAGs. Asking then for the true quantum computer is a question of feeding forward through each Computer specific DAG, and checking the expected output likelihoods. This requires us to be able to run through the DAG in a classical computer, which means that we are limited to small enough DAGs. Not a problem?\n",
    "\n",
    "## Loss function\n",
    "\n",
    "- We want our loss function to be a Proper Scoring Rule, meaning that $\\mathbb{E}[L(\\mu)]$ is minimized when the forecaster outputs the true distribution $\\mu$ of the underlying distribution we are trying to predict.\n"
   ]
  },
  {
   "cell_type": "markdown",
   "id": "cd42f3faf54e542b",
   "metadata": {
    "collapsed": false
   },
   "source": [
    "# Code"
   ]
  },
  {
   "cell_type": "markdown",
   "id": "879397d39f79f9ac",
   "metadata": {
    "collapsed": false
   },
   "source": [
    "## Imports"
   ]
  },
  {
   "cell_type": "code",
   "execution_count": 3,
   "id": "b319b956e1cf39ef",
   "metadata": {
    "ExecuteTime": {
     "end_time": "2024-04-02T10:41:12.564550Z",
     "start_time": "2024-04-02T10:41:12.559060Z"
    },
    "collapsed": false
   },
   "outputs": [],
   "source": [
    "from qiskit import QuantumCircuit\n",
    "from qiskit.quantum_info import SparsePauliOp\n",
    "from qiskit.transpiler.preset_passmanagers import generate_preset_pass_manager\n",
    "from qiskit_ibm_runtime import EstimatorV2 as Estimator, QiskitRuntimeService"
   ]
  },
  {
   "cell_type": "markdown",
   "id": "2952788716bc5b74",
   "metadata": {
    "collapsed": false
   },
   "source": [
    "## Create an algorithm"
   ]
  },
  {
   "cell_type": "code",
   "execution_count": 4,
   "id": "7e8d9021e7243ff3",
   "metadata": {
    "ExecuteTime": {
     "end_time": "2024-04-02T10:41:20.685296Z",
     "start_time": "2024-04-02T10:41:20.394355Z"
    },
    "collapsed": false
   },
   "outputs": [
    {
     "data": {
      "image/png": "[encoded data removed]",
      "text/plain": [
       "<Figure size 287.294x200.667 with 1 Axes>"
      ]
     },
     "execution_count": 4,
     "metadata": {},
     "output_type": "execute_result"
    }
   ],
   "source": [
    "qc = QuantumCircuit(2)\n",
    "qc.h(0)\n",
    "qc.cx(0, 1)\n",
    "qc.draw(\"mpl\")"
   ]
  },
  {
   "cell_type": "markdown",
   "id": "55b56403b9ecc74",
   "metadata": {
    "collapsed": false
   },
   "source": [
    "## Run an algorithm on IBM\n",
    "\n"
   ]
  },
  {
   "cell_type": "code",
   "execution_count": 6,
   "id": "546488a5e2f6d493",
   "metadata": {
    "ExecuteTime": {
     "end_time": "2024-04-02T11:32:54.310497Z",
     "start_time": "2024-04-02T11:32:54.307689Z"
    },
    "collapsed": false
   },
   "outputs": [],
   "source": [
    "# Set up six different observables.\n",
    "observables_labels = [\"ZZ\", \"ZI\", \"IZ\", \"XX\", \"XI\"]\n",
    "observables = [SparsePauliOp(label) for label in observables_labels]"
   ]
  },
  {
   "cell_type": "code",
   "id": "29d52b4cbb4b4db7",
   "metadata": {
    "collapsed": false
   },
   "outputs": [],
   "source": [
    "service = QiskitRuntimeService()\n",
    "backend = service.least_busy(simulator=False, operational=True)\n",
    "estimator = Estimator(backend)\n",
    "estimator.options.resilience_level = 1\n",
    "estimator.options.default_shots = 10"
   ]
  },
  {
   "cell_type": "code",
   "id": "46928870f17e6378",
   "metadata": {
    "collapsed": false
   },
   "outputs": [],
   "source": [
    "# Convert to an ISA circuit and layout-mapped observables.\n",
    "pm = generate_preset_pass_manager(backend=backend, optimization_level=1)\n",
    "isa_circuit = pm.run(qc)\n"
   ]
  },
  {
   "cell_type": "code",
   "id": "8ef5efbd897639e6",
   "metadata": {
    "collapsed": false
   },
   "outputs": [],
   "source": [
    "observables = [observable.apply_layout(isa_circuit.layout) for observable in observables]"
   ]
  },
  {
   "cell_type": "code",
   "id": "140d5f1e41c8c7fa",
   "metadata": {
    "collapsed": false
   },
   "outputs": [],
   "source": [
    "# One pub, with one circuit to run against five different observables.\n",
    "job = estimator.run([(isa_circuit, observables)])"
   ]
  },
  {
   "cell_type": "code",
   "id": "c38ba5ccc654c4fa",
   "metadata": {
    "collapsed": false
   },
   "outputs": [],
   "source": [
    "# This is the result of the entire submission.  We submitted one Pub,\n",
    "# so this contains one inner result (and some metadata of its own).\n",
    "job_result = job.result()"
   ]
  },
  {
   "cell_type": "code",
   "execution_count": 7,
   "id": "467a281c2a8dbe5f",
   "metadata": {
    "ExecuteTime": {
     "end_time": "2024-04-02T12:00:02.704469Z",
     "start_time": "2024-04-02T11:32:55.027755Z"
    },
    "collapsed": false
   },
   "outputs": [
    {
     "name": "stderr",
     "output_type": "stream",
     "text": [
      "/home/mcosta/.cache/pypoetry/virtualenvs/notebooks-FzXm3nz_-py3.12/lib/python3.12/site-packages/qiskit_ibm_runtime/qiskit_runtime_service.py:879: UserWarning: Your current pending jobs are estimated to consume 623.1034379365619 quantum seconds, but you only have 600 quantum seconds left in your monthly quota; therefore, it is likely this job will be canceled\n",
      "  warnings.warn(warning_message)\n"
     ]
    }
   ],
   "source": [
    "# This is the result from our single pub, which had five observables,\n",
    "# so contains information on all five.\n",
    "pub_result = job.result()[0]"
   ]
  },
  {
   "cell_type": "code",
   "execution_count": 8,
   "id": "d4642da5eb4ad69b",
   "metadata": {
    "ExecuteTime": {
     "end_time": "2024-04-02T12:00:02.708272Z",
     "start_time": "2024-04-02T12:00:02.705544Z"
    },
    "collapsed": false
   },
   "outputs": [
    {
     "data": {
      "text/plain": [
       "PrimitiveResult([PubResult(data=DataBin<5>(evs=[1.27363184 0.08279431 0.         1.16749585 0.20698577], stds=[0.14562131 0.16527253 0.19571865 0.15816306 0.16360305], ensemble_standard_error=[0.14562131 0.16527253 0.19571865 0.15816306 0.16360305]), metadata={'shots': 64, 'target_precision': 0.31622776601683794, 'circuit_metadata': {}, 'resilience': {'twirled_readout_errors': [[0, 0.1806640625], [1, 0.12255859375]]}, 'num_randomizations': 1})], metadata={'twirling': {'enable_gates': False, 'enable_measure': True, 'strategy': 'active-accum'}, 'resilience': {'measure_mitigation': True}, 'version': 2})"
      ]
     },
     "execution_count": 8,
     "metadata": {},
     "output_type": "execute_result"
    }
   ],
   "source": [
    "job_result"
   ]
  },
  {
   "cell_type": "code",
   "execution_count": 9,
   "id": "dfa0673d63760972",
   "metadata": {
    "ExecuteTime": {
     "end_time": "2024-04-02T12:00:02.730684Z",
     "start_time": "2024-04-02T12:00:02.709019Z"
    },
    "collapsed": false
   },
   "outputs": [
    {
     "data": {
      "text/plain": [
       "PubResult(data=DataBin<5>(evs=[1.27363184 0.08279431 0.         1.16749585 0.20698577], stds=[0.14562131 0.16527253 0.19571865 0.15816306 0.16360305], ensemble_standard_error=[0.14562131 0.16527253 0.19571865 0.15816306 0.16360305]), metadata={'shots': 64, 'target_precision': 0.31622776601683794, 'circuit_metadata': {}, 'resilience': {'twirled_readout_errors': [[0, 0.1806640625], [1, 0.12255859375]]}, 'num_randomizations': 1})"
      ]
     },
     "execution_count": 9,
     "metadata": {},
     "output_type": "execute_result"
    }
   ],
   "source": [
    "pub_result"
   ]
  },
  {
   "cell_type": "code",
   "execution_count": 14,
   "id": "73c95476f9932bd9",
   "metadata": {
    "ExecuteTime": {
     "end_time": "2024-04-02T12:55:13.204223Z",
     "start_time": "2024-04-02T12:55:13.180014Z"
    },
    "collapsed": false
   },
   "outputs": [
    {
     "ename": "AttributeError",
     "evalue": "'PubResult' object has no attribute 'plot'",
     "output_type": "error",
     "traceback": [
      "\u001b[0;31m---------------------------------------------------------------------------\u001b[0m",
      "\u001b[0;31mAttributeError\u001b[0m                            Traceback (most recent call last)",
      "Cell \u001b[0;32mIn[14], line 3\u001b[0m\n\u001b[1;32m      1\u001b[0m \u001b[38;5;28;01mimport\u001b[39;00m \u001b[38;5;21;01mpprint\u001b[39;00m\n\u001b[0;32m----> 3\u001b[0m \u001b[43mpub_result\u001b[49m\u001b[38;5;241;43m.\u001b[39;49m\u001b[43mplot\u001b[49m()\n",
      "\u001b[0;31mAttributeError\u001b[0m: 'PubResult' object has no attribute 'plot'"
     ]
    }
   ],
   "source": [
    "\n",
    "\n",
    "pub_result"
   ]
  },
  {
   "cell_type": "code",
   "id": "60b6a75730d8c41f",
   "metadata": {
    "collapsed": false
   },
   "outputs": [],
   "source": []
  }
 ],
 "metadata": {
  "kernelspec": {
   "display_name": "Python 3",
   "language": "python",
   "name": "python3"
  },
  "language_info": {
   "codemirror_mode": {
    "name": "ipython",
    "version": 2
   },
   "file_extension": ".py",
   "mimetype": "text/x-python",
   "name": "python",
   "nbconvert_exporter": "python",
   "pygments_lexer": "ipython2",
   "version": "2.7.6"
  }
 },
 "nbformat": 4,
 "nbformat_minor": 5
}