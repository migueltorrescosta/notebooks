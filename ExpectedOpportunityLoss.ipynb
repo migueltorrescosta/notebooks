{
 "cells": [
  {
   "cell_type": "markdown",
   "metadata": {},
   "source": [
    "This methodology is thoroughly described in Douglas Hubbard's book \"How to Measure Anything\" . This is the best source if you want to learn more about this topic."
   ]
  },
  {
   "cell_type": "markdown",
   "metadata": {},
   "source": [
    "# Goal\n",
    "\n",
    "The objective of this notebook is to provide a framework for calculating the value of information. To be more specific, there are many unknowns impacting a decision. This framework allows us how much value exists in reducing the uncertainty around a certain unknown."
   ]
  },
  {
   "cell_type": "markdown",
   "metadata": {},
   "source": [
    "# Expected Opportunity Loss\n",
    "\n",
    "Many decisions are influenced by unknown events. After the event we often realise we could have made better choices. This is known as an opportunity loss: We didn't make the most of the situation because we didn't know better at the time.\n",
    "\n",
    "Even though we cannot remove all the randomness of the world, it is possible to quantify our unknowns and understand under which scenarions we will be missing out on some profits, and when it is worth reducing the uncertainty of our predictions. In this booklet we will be using Douglas' framework of Expected Opportunity Loss.\n",
    "\n",
    "For the given framework, I implemented the class above which requires 2 inputs only in order to be initialized:\n",
    "- **Random inputs:** random number generators that model the inputs for the loss function. The random number generators that take a single integer $n$ and return $n$ observations of that input.\n",
    "- **Reward Functions:** Functions that convert an observation from the random number generators into a reward amount.\n",
    "\n",
    "The class internally applies a Monte Carlo Simulation to model the Expected Opportunity Loss using this general framework"
   ]
  },
  {
   "cell_type": "code",
   "execution_count": 1,
   "metadata": {},
   "outputs": [
    {
     "name": "stderr",
     "output_type": "stream",
     "text": [
      "/home/migueltorrescosta/.local/lib/python3.8/site-packages/tqdm/std.py:666: FutureWarning: The Panel class is removed from pandas. Accessing it from the top-level namespace will also be removed in the next version\n",
      "  from pandas import Panel\n"
     ]
    }
   ],
   "source": [
    "import numpy as np\n",
    "import pandas as pd\n",
    "from tqdm import tqdm\n",
    "import seaborn as sns\n",
    "from matplotlib import pyplot as plt\n",
    "\n",
    "pd.set_option('precision', 2)\n",
    "tqdm.pandas()\n",
    "\n",
    "class ExpectedOpportunityLoss:\n",
    "    \"\"\"\n",
    "    Monte Carlo Simulation Class that models expected loss using a list of random value generators and reward functions.\n",
    "    \"\"\"\n",
    "\n",
    "    def __init__(self, reward_functions, random_inputs, run_default_script=False):\n",
    "        \"\"\"\n",
    "        :param reward_functions: {str: function}\n",
    "            Deterministic reward function that takes a single dictionary as input, whose keys are a subset of the keys in the random_inputs passed.\n",
    "        :param random_inputs: {str: random_generator}\n",
    "            dictionary of random number generators. These are functions that take a single integer input n and return an array of n randomly\n",
    "        \"\"\"\n",
    "\n",
    "        assert isinstance(reward_functions, dict), \"reward_functions must be a dictionary\"\n",
    "        assert isinstance(random_inputs, dict), \"random_value_generators must be a dictionary\"\n",
    "        self.reward_functions = reward_functions\n",
    "        self.random_inputs = random_inputs  # TODO: Allow for dependence of variables in the ramdom inputs.\n",
    "        self.options = reward_functions.keys()\n",
    "        self.data = pd.DataFrame(\n",
    "            columns=list(self.random_inputs.keys()) + list(self.options) +\n",
    "            [option + \" opportunity loss\" for option in self.options] + [\"Optimal Decision\"])\n",
    "        self.colour_map = sns.color_palette(\"RdBu_r\", 7)\n",
    "        if run_default_script:\n",
    "            self.main_script()\n",
    "\n",
    "    def main_script(self):\n",
    "        \n",
    "        from IPython.core.display import display, HTML\n",
    "        self.add_data_points(n=10000)\n",
    "\n",
    "        display(HTML(\"<h1>Expected Loss and Standard Deviation for each option available</h1>\"))\n",
    "        display(HTML(self.generate_metrics().render()))\n",
    "\n",
    "        display(HTML(\"<h1>Expected savings by knowing the inputs quantiles. The input with higher savings is more promising for making a better decision</h1>\"))\n",
    "        display(HTML(self.evaluate_value_of_uncertainty_reduction(bins=4).render()))\n",
    "        \n",
    "        display(HTML(\"<h1>Optimal Choices for each quantile / option</h1>\"))\n",
    "        for random_input in tqdm(self.random_inputs):\n",
    "            display(HTML(self.get_optimal_choice_per_group(random_input, bins=4).to_html()))\n",
    "        \n",
    "        \n",
    "    def add_data_points(self, n):\n",
    "        new_data = pd.DataFrame({key: random_input(n) for key, random_input in self.random_inputs.items()})\n",
    "        for key, reward_function in tqdm(self.reward_functions.items()):\n",
    "            new_data[key] = new_data.apply(reward_function, axis=1)\n",
    "        new_data[\"Optimal Decision\"] = new_data[self.options].apply(max, axis=1)\n",
    "        for key in self.options:\n",
    "            new_data[key + \" opportunity loss\"] = new_data[\"Optimal Decision\"] - new_data[key]\n",
    "        self.data = pd.concat([self.data, new_data], ignore_index=True).astype(float)\n",
    "\n",
    "    def _generate_single_metric(self, option):\n",
    "        \"\"\"\n",
    "        Generates the expected_loss and std_deviation for a single option\n",
    "        \"\"\"\n",
    "\n",
    "        return {\"Expected Loss\": np.mean(self.data[option + \" opportunity loss\"]),\n",
    "                \"Standard Deviation\": np.std(self.data[option + \" opportunity loss\"])}\n",
    "\n",
    "    def generate_metrics(self):\n",
    "        \"\"\"\n",
    "        Generates the metrics table.\n",
    "        \"\"\"\n",
    "        self.metrics = pd.DataFrame({\n",
    "            option: self._generate_single_metric(option) for option in self.options})\n",
    "        return self.metrics.sort_values(\"Expected Loss\", ascending=True, axis=1).round(3).T.style.bar(subset=[\"Expected Loss\"], color='#d65f5f', vmin=0)\n",
    "    \n",
    "    def evaluate_value_of_uncertainty_reduction(self, bins=5):\n",
    "        \"\"\"\n",
    "        Metrics for the evaluation of which random inputs are worth decreasing the uncertainty of\n",
    "        \n",
    "        :param bins: integer\n",
    "        Number of bins to divide the inputs in. Too small a value might cause you to miss certain relations. Too small a value might cause you to overfit to the data.\n",
    "        \"\"\"\n",
    "  \n",
    "        savings = {random_input: self.metrics.T[\"Expected Loss\"].min() - self._expected_loss_given_group(pd.qcut(self.data[random_input],q=bins, duplicates=\"drop\")) for random_input in self.random_inputs.keys()}\n",
    "        savings_df = pd.DataFrame({\"Savings\" : savings})\n",
    "        return savings_df.sort_values([\"Savings\"], ascending=False).style.bar(color = '#5fba7d',\n",
    "                                                                             vmin = 0,\n",
    "                                                                             vmax = self.metrics.T[\"Expected Loss\"].min())        \n",
    "\n",
    "        \n",
    "    def _get_optimal_choices_per_group(self, groups):\n",
    "        \"\"\"\n",
    "        Returns a Dictionary of Optimal Choices per Group\n",
    "        \"\"\"\n",
    "        return self.data[[option + \" opportunity loss\" for option in self.options]].groupby(groups).progress_apply(np.mean).idxmin(axis=1).to_dict()\n",
    "    \n",
    "    def _expected_loss_given_group(self,groups):\n",
    "        \"\"\"\n",
    "        Returns the expected loss assuming we know exactly in which group we are from the passed Series.\n",
    "        The series must map the indices in cls.data to the categorical groups\n",
    "        \"\"\"\n",
    "        optimal_choices_per_group = self._get_optimal_choices_per_group(groups)\n",
    "        return self.data.apply(lambda row: row[optimal_choices_per_group[groups[row.name]]], axis=1).mean()\n",
    "      \n",
    "    def get_optimal_choice_per_group(self, random_input, bins):\n",
    "        assert random_input in self.random_inputs, \"The selected input is invalid. Make sure you typed it correctly, or check in the randow_inputs attribute which ones are available\"\n",
    "        optimal_choices = self._get_optimal_choices_per_group(groups = pd.qcut(self.data[random_input],q=bins, duplicates=\"drop\"))\n",
    "        optimal_choices = {key: value[:-17] for key,value in optimal_choices.items()} # Removes the opportunity loss part of the string\n",
    "        return pd.DataFrame({\"Optimal Choice for \" + random_input: optimal_choices})\n",
    "    \n",
    "    def plot_loss_distribution(self, options=None):\n",
    "        \"\"\"\n",
    "        Plots the loss function to \n",
    "        \"\"\"\n",
    "        if options is None:\n",
    "            options = self.options\n",
    "        assert set(options) <= set(\n",
    "            self.options), \"You passed choices that were not part of this object's initialization\"\n",
    "        loss_columns = [option + \" opportunity loss\" for option in options]\n",
    "        bins = np.linspace(self.data[loss_columns].min().min(),\n",
    "                           self.data[loss_columns].max().max(),\n",
    "                           200)\n",
    "        self.data.hist(column=loss_columns,\n",
    "                       figsize=(30, 2 * len(options)),\n",
    "                       density=True,\n",
    "                       layout=(len(options), 1),\n",
    "                       sharex=True,\n",
    "                       bins=bins)"
   ]
  },
  {
   "cell_type": "markdown",
   "metadata": {},
   "source": [
    "# Study Case 1: Endorsements\n",
    "\n",
    "Nothing better than an example to understand the concepts above. Suppose I believe that, next year, Candidate X will get elected with probability 80%. I can endorse her campaign for 2 million dollars. If I don't endorse her campaign, I get nothing. If I endorse her and she loses, I lose the 2 million dollars invested, whereas if I endorse her and she wins, I get 3 million back for an overal profit of 1 million.\n",
    "\n",
    "As such my best move is to endorse her if she wins, and not if she doesn't. Since I don't know whether she will win or not, I have to make this choice based on probabilities. Using the class above, the first thing I need is to define the loss functions"
   ]
  },
  {
   "cell_type": "code",
   "execution_count": 2,
   "metadata": {},
   "outputs": [],
   "source": [
    "def reward_if_endorse(obs):\n",
    "    if obs[\"Elected\"]==1:\n",
    "        return 1 # Get 1 million overall if elected\n",
    "    else:\n",
    "        return -2 # Lose 2 million if not elected"
   ]
  },
  {
   "cell_type": "code",
   "execution_count": 3,
   "metadata": {},
   "outputs": [],
   "source": [
    "endorsement_analysis = ExpectedOpportunityLoss(\n",
    "    reward_functions = {\n",
    "        \"Endorse\": reward_if_endorse,\n",
    "        \"Don't Endorse\": lambda obs: 0 # Known profit of 0 if no endorsment happens\n",
    "    },\n",
    "    random_inputs = {\n",
    "        \"Elected\": lambda n: np.random.binomial(size=n, n=1, p= 0.7)\n",
    "    }\n",
    ")"
   ]
  },
  {
   "cell_type": "code",
   "execution_count": 4,
   "metadata": {},
   "outputs": [
    {
     "name": "stderr",
     "output_type": "stream",
     "text": [
      "100%|██████████| 2/2 [00:00<00:00, 80.40it/s]\n"
     ]
    },
    {
     "data": {
      "text/html": [
       "<style  type=\"text/css\" >\n",
       "    #T_7a97c326_779b_11ea_81ec_8b3c1710da14row0_col0 {\n",
       "            width:  10em;\n",
       "             height:  80%;\n",
       "            background:  linear-gradient(90deg,#d65f5f 82.9%, transparent 82.9%);\n",
       "        }    #T_7a97c326_779b_11ea_81ec_8b3c1710da14row1_col0 {\n",
       "            width:  10em;\n",
       "             height:  80%;\n",
       "            background:  linear-gradient(90deg,#d65f5f 100.0%, transparent 100.0%);\n",
       "        }</style><table id=\"T_7a97c326_779b_11ea_81ec_8b3c1710da14\" ><thead>    <tr>        <th class=\"blank level0\" ></th>        <th class=\"col_heading level0 col0\" >Expected Loss</th>        <th class=\"col_heading level0 col1\" >Standard Deviation</th>    </tr></thead><tbody>\n",
       "                <tr>\n",
       "                        <th id=\"T_7a97c326_779b_11ea_81ec_8b3c1710da14level0_row0\" class=\"row_heading level0 row0\" >Endorse</th>\n",
       "                        <td id=\"T_7a97c326_779b_11ea_81ec_8b3c1710da14row0_col0\" class=\"data row0 col0\" >0.59</td>\n",
       "                        <td id=\"T_7a97c326_779b_11ea_81ec_8b3c1710da14row0_col1\" class=\"data row0 col1\" >0.91</td>\n",
       "            </tr>\n",
       "            <tr>\n",
       "                        <th id=\"T_7a97c326_779b_11ea_81ec_8b3c1710da14level0_row1\" class=\"row_heading level0 row1\" >Don't Endorse</th>\n",
       "                        <td id=\"T_7a97c326_779b_11ea_81ec_8b3c1710da14row1_col0\" class=\"data row1 col0\" >0.71</td>\n",
       "                        <td id=\"T_7a97c326_779b_11ea_81ec_8b3c1710da14row1_col1\" class=\"data row1 col1\" >0.46</td>\n",
       "            </tr>\n",
       "    </tbody></table>"
      ],
      "text/plain": [
       "<pandas.io.formats.style.Styler at 0x7f06ec222460>"
      ]
     },
     "execution_count": 4,
     "metadata": {},
     "output_type": "execute_result"
    }
   ],
   "source": [
    "endorsement_analysis.add_data_points(1000)\n",
    "endorsement_analysis.generate_metrics()"
   ]
  },
  {
   "cell_type": "markdown",
   "metadata": {},
   "source": [
    "We see that the the lowest expected loss is attainned if we endorse the candidate, for an expected opportunity loss of around 0.6 million if we endorse her versus an expected opportunity loss of 0.7 if we don't endorse.\n",
    "\n",
    "Note that we also have the standard deviation of our losses, since the expected loss only gives us an average value, but we can have two very different distributions for the opportunity loss. This Opportunity Loss can be thought of as a random variable as well, being a function of other random variables. We can see the distribution below"
   ]
  },
  {
   "cell_type": "code",
   "execution_count": 5,
   "metadata": {},
   "outputs": [
    {
     "data": {
      "image/png": "[encoded data removed]",
      "text/plain": [
       "<Figure size 2160x288 with 2 Axes>"
      ]
     },
     "metadata": {
      "needs_background": "light"
     },
     "output_type": "display_data"
    }
   ],
   "source": [
    "endorsement_analysis.plot_loss_distribution() # Need to add labels and overlap the barchart1"
   ]
  },
  {
   "cell_type": "markdown",
   "metadata": {},
   "source": [
    "# Study Case 2: Distribution Centers\n",
    "Now let us try a much harder example. Say we manage a distribution center and on any given day we distribute packages. The costs associated are described by $N_{Trucks} * M $ (the number of trucks multiplied by the average maintenance costs per truck), and the profit is $\\min( N_{packages}, N_{Trucks} * C ) * P$, where the first term represents the number of packages that can be handled for a given day (the minimum between the number of requests made and the capacity that the company has), and the second term represents the average profit per package. As such the overal reward function is given by:\n",
    "\n",
    "$$ \\min( N_{packages}, N_{Trucks} * C ) P - M N_{Trucks}$$\n",
    "\n",
    "In this equation:\n",
    "\n",
    "- $N_{packages}$ is the number of packages sent by clients. Assuming 10 million Portuguese possible clients, each with a probibility of 0.1% of sending a package on a given day, and independent of each other, we get that this is a random variable with a binomial distribution with parameters $n=10^7$ and $p=10^{-3}$.\n",
    "- $N_{trucks}$ Is the only variable we control. Let's assume we currently have 8 trucks, and can get a total of up to 12 trucks.\n",
    "- $C$ represents the truck capacity. This is currently given as $10^3$, for each truck.\n",
    "- $M$ is the costs per truck. Each truck costs us a fixed amount of $50€$ per day, but we could potentially pay up to $500€$ for repairs. As such this is uniform on the interval $(50,500)$.\n",
    "\n",
    "As such our reward functions are given by the distinct choices we can make regarding the number of trucks, and the other variable represent random inputs. The code below represents this"
   ]
  },
  {
   "cell_type": "code",
   "execution_count": 6,
   "metadata": {},
   "outputs": [],
   "source": [
    "options_list = [x for x in range(13) if x>=8] # We already have 8 trucks, and we can buy up to 12"
   ]
  },
  {
   "cell_type": "code",
   "execution_count": 7,
   "metadata": {},
   "outputs": [],
   "source": [
    "def reward_function(obs,number_of_trucks):\n",
    "    truck_capacity = 1000 # A truck can carry 1000 packages a day\n",
    "    return (min([obs[\"Number of Packages\"],number_of_trucks*truck_capacity]) * obs[\"Profit per Package\"]) - (number_of_trucks * obs[\"Maintenance cost per Truck\"])"
   ]
  },
  {
   "cell_type": "code",
   "execution_count": 8,
   "metadata": {},
   "outputs": [],
   "source": [
    "from functools import partial\n",
    "\n",
    "distribution_center_analysis = ExpectedOpportunityLoss(\n",
    "    reward_functions = {\n",
    "        f\"{key} trucks\": partial(reward_function, number_of_trucks=key) for key in options_list\n",
    "    },\n",
    "    random_inputs = {\n",
    "        \"Number of Packages\" : lambda n : np.random.binomial(size=n, n=10000000, p = 0.001), # There's 10 million people, each of which with .1 % chance of sending a package that day\n",
    "        \"Profit per Package\" : lambda n: 1 + np.random.exponential(size=n, scale=2), # Package profits are exponentially distributed, with average 3 euros per package but a lower bound of 1.\n",
    "        \"Maintenance cost per Truck\" : lambda n : np.random.uniform(50,500, size=n) # Maintenance of trucks has a fixed cost of 50€ per truck (man work) + extra if replacements are needed\n",
    "    }\n",
    ")"
   ]
  },
  {
   "cell_type": "code",
   "execution_count": 9,
   "metadata": {},
   "outputs": [
    {
     "name": "stderr",
     "output_type": "stream",
     "text": [
      "100%|██████████| 5/5 [00:01<00:00,  2.84it/s]\n"
     ]
    },
    {
     "data": {
      "text/html": [
       "<style  type=\"text/css\" >\n",
       "    #T_7c97d670_779b_11ea_81ec_8b3c1710da14row0_col0 {\n",
       "            width:  10em;\n",
       "             height:  80%;\n",
       "            background:  linear-gradient(90deg,#d65f5f 0.8%, transparent 0.8%);\n",
       "        }    #T_7c97d670_779b_11ea_81ec_8b3c1710da14row1_col0 {\n",
       "            width:  10em;\n",
       "             height:  80%;\n",
       "            background:  linear-gradient(90deg,#d65f5f 3.7%, transparent 3.7%);\n",
       "        }    #T_7c97d670_779b_11ea_81ec_8b3c1710da14row2_col0 {\n",
       "            width:  10em;\n",
       "             height:  80%;\n",
       "            background:  linear-gradient(90deg,#d65f5f 8.8%, transparent 8.8%);\n",
       "        }    #T_7c97d670_779b_11ea_81ec_8b3c1710da14row3_col0 {\n",
       "            width:  10em;\n",
       "             height:  80%;\n",
       "            background:  linear-gradient(90deg,#d65f5f 49.3%, transparent 49.3%);\n",
       "        }    #T_7c97d670_779b_11ea_81ec_8b3c1710da14row4_col0 {\n",
       "            width:  10em;\n",
       "             height:  80%;\n",
       "            background:  linear-gradient(90deg,#d65f5f 100.0%, transparent 100.0%);\n",
       "        }</style><table id=\"T_7c97d670_779b_11ea_81ec_8b3c1710da14\" ><thead>    <tr>        <th class=\"blank level0\" ></th>        <th class=\"col_heading level0 col0\" >Expected Loss</th>        <th class=\"col_heading level0 col1\" >Standard Deviation</th>    </tr></thead><tbody>\n",
       "                <tr>\n",
       "                        <th id=\"T_7c97d670_779b_11ea_81ec_8b3c1710da14level0_row0\" class=\"row_heading level0 row0\" >10 trucks</th>\n",
       "                        <td id=\"T_7c97d670_779b_11ea_81ec_8b3c1710da14row0_col0\" class=\"data row0 col0\" >45.45</td>\n",
       "                        <td id=\"T_7c97d670_779b_11ea_81ec_8b3c1710da14row0_col1\" class=\"data row0 col1\" >159.16</td>\n",
       "            </tr>\n",
       "            <tr>\n",
       "                        <th id=\"T_7c97d670_779b_11ea_81ec_8b3c1710da14level0_row1\" class=\"row_heading level0 row1\" >11 trucks</th>\n",
       "                        <td id=\"T_7c97d670_779b_11ea_81ec_8b3c1710da14row1_col0\" class=\"data row1 col0\" >202.21</td>\n",
       "                        <td id=\"T_7c97d670_779b_11ea_81ec_8b3c1710da14row1_col1\" class=\"data row1 col1\" >152.40</td>\n",
       "            </tr>\n",
       "            <tr>\n",
       "                        <th id=\"T_7c97d670_779b_11ea_81ec_8b3c1710da14level0_row2\" class=\"row_heading level0 row2\" >12 trucks</th>\n",
       "                        <td id=\"T_7c97d670_779b_11ea_81ec_8b3c1710da14row2_col0\" class=\"data row2 col0\" >477.96</td>\n",
       "                        <td id=\"T_7c97d670_779b_11ea_81ec_8b3c1710da14row2_col1\" class=\"data row2 col1\" >261.81</td>\n",
       "            </tr>\n",
       "            <tr>\n",
       "                        <th id=\"T_7c97d670_779b_11ea_81ec_8b3c1710da14level0_row3\" class=\"row_heading level0 row3\" >9 trucks</th>\n",
       "                        <td id=\"T_7c97d670_779b_11ea_81ec_8b3c1710da14row3_col0\" class=\"data row3 col0\" >2691.11</td>\n",
       "                        <td id=\"T_7c97d670_779b_11ea_81ec_8b3c1710da14row3_col1\" class=\"data row3 col1\" >2046.24</td>\n",
       "            </tr>\n",
       "            <tr>\n",
       "                        <th id=\"T_7c97d670_779b_11ea_81ec_8b3c1710da14level0_row4\" class=\"row_heading level0 row4\" >8 trucks</th>\n",
       "                        <td id=\"T_7c97d670_779b_11ea_81ec_8b3c1710da14row4_col0\" class=\"data row4 col0\" >5458.81</td>\n",
       "                        <td id=\"T_7c97d670_779b_11ea_81ec_8b3c1710da14row4_col1\" class=\"data row4 col1\" >4089.94</td>\n",
       "            </tr>\n",
       "    </tbody></table>"
      ],
      "text/plain": [
       "<pandas.io.formats.style.Styler at 0x7f06a95c3c70>"
      ]
     },
     "execution_count": 9,
     "metadata": {},
     "output_type": "execute_result"
    }
   ],
   "source": [
    "distribution_center_analysis.add_data_points(10000)\n",
    "distribution_center_analysis.generate_metrics()"
   ]
  },
  {
   "cell_type": "markdown",
   "metadata": {},
   "source": [
    "We see that 10 trucks is the best choice, with an expected opportunity loss around 90. The next best choice, 11 trucks, has a much bigger loss, around 240.\n"
   ]
  },
  {
   "cell_type": "code",
   "execution_count": 10,
   "metadata": {},
   "outputs": [
    {
     "data": {
      "image/png": "[encoded data removed]",
      "text/plain": [
       "<Figure size 2160x720 with 5 Axes>"
      ]
     },
     "metadata": {
      "needs_background": "light"
     },
     "output_type": "display_data"
    }
   ],
   "source": [
    "distribution_center_analysis.plot_loss_distribution()"
   ]
  },
  {
   "cell_type": "code",
   "execution_count": 11,
   "metadata": {},
   "outputs": [
    {
     "name": "stderr",
     "output_type": "stream",
     "text": [
      "100%|██████████| 4/4 [00:00<00:00, 375.50it/s]\n",
      "100%|██████████| 4/4 [00:00<00:00, 472.82it/s]\n",
      "100%|██████████| 4/4 [00:00<00:00, 335.05it/s]\n"
     ]
    },
    {
     "data": {
      "text/html": [
       "<style  type=\"text/css\" >\n",
       "    #T_7f42a95e_779b_11ea_81ec_8b3c1710da14row0_col0 {\n",
       "            width:  10em;\n",
       "             height:  80%;\n",
       "            background:  linear-gradient(90deg,#5fba7d 56.8%, transparent 56.8%);\n",
       "        }    #T_7f42a95e_779b_11ea_81ec_8b3c1710da14row1_col0 {\n",
       "            width:  10em;\n",
       "             height:  80%;\n",
       "            background:  linear-gradient(90deg,#5fba7d 10.4%, transparent 10.4%);\n",
       "        }    #T_7f42a95e_779b_11ea_81ec_8b3c1710da14row2_col0 {\n",
       "            width:  10em;\n",
       "             height:  80%;\n",
       "        }</style><table id=\"T_7f42a95e_779b_11ea_81ec_8b3c1710da14\" ><thead>    <tr>        <th class=\"blank level0\" ></th>        <th class=\"col_heading level0 col0\" >Savings</th>    </tr></thead><tbody>\n",
       "                <tr>\n",
       "                        <th id=\"T_7f42a95e_779b_11ea_81ec_8b3c1710da14level0_row0\" class=\"row_heading level0 row0\" >Number of Packages</th>\n",
       "                        <td id=\"T_7f42a95e_779b_11ea_81ec_8b3c1710da14row0_col0\" class=\"data row0 col0\" >25.81</td>\n",
       "            </tr>\n",
       "            <tr>\n",
       "                        <th id=\"T_7f42a95e_779b_11ea_81ec_8b3c1710da14level0_row1\" class=\"row_heading level0 row1\" >Maintenance cost per Truck</th>\n",
       "                        <td id=\"T_7f42a95e_779b_11ea_81ec_8b3c1710da14row1_col0\" class=\"data row1 col0\" >4.71</td>\n",
       "            </tr>\n",
       "            <tr>\n",
       "                        <th id=\"T_7f42a95e_779b_11ea_81ec_8b3c1710da14level0_row2\" class=\"row_heading level0 row2\" >Profit per Package</th>\n",
       "                        <td id=\"T_7f42a95e_779b_11ea_81ec_8b3c1710da14row2_col0\" class=\"data row2 col0\" >0.00</td>\n",
       "            </tr>\n",
       "    </tbody></table>"
      ],
      "text/plain": [
       "<pandas.io.formats.style.Styler at 0x7f06a96da8e0>"
      ]
     },
     "execution_count": 11,
     "metadata": {},
     "output_type": "execute_result"
    }
   ],
   "source": [
    "distribution_center_analysis.evaluate_value_of_uncertainty_reduction(bins=4)"
   ]
  },
  {
   "cell_type": "markdown",
   "metadata": {},
   "source": [
    "Assuming we knew exactly which distribution quantile we were in for the input variables above, we can see exactly which one provides the biggest improvement in Expected Loss: Knowing the Number of Packages. As such reducing uncertainty around the Number of packages per day is more likely to reduce the expected loss."
   ]
  },
  {
   "cell_type": "code",
   "execution_count": 12,
   "metadata": {},
   "outputs": [
    {
     "name": "stderr",
     "output_type": "stream",
     "text": [
      "100%|██████████| 4/4 [00:00<00:00, 279.69it/s]\n"
     ]
    },
    {
     "data": {
      "text/html": [
       "<div>\n",
       "<style scoped>\n",
       "    .dataframe tbody tr th:only-of-type {\n",
       "        vertical-align: middle;\n",
       "    }\n",
       "\n",
       "    .dataframe tbody tr th {\n",
       "        vertical-align: top;\n",
       "    }\n",
       "\n",
       "    .dataframe thead th {\n",
       "        text-align: right;\n",
       "    }\n",
       "</style>\n",
       "<table border=\"1\" class=\"dataframe\">\n",
       "  <thead>\n",
       "    <tr style=\"text-align: right;\">\n",
       "      <th></th>\n",
       "      <th>Optimal Choice for Number of Packages</th>\n",
       "    </tr>\n",
       "  </thead>\n",
       "  <tbody>\n",
       "    <tr>\n",
       "      <th>(9624.999, 9933.0]</th>\n",
       "      <td>10 trucks</td>\n",
       "    </tr>\n",
       "    <tr>\n",
       "      <th>(9933.0, 9998.0]</th>\n",
       "      <td>10 trucks</td>\n",
       "    </tr>\n",
       "    <tr>\n",
       "      <th>(9998.0, 10066.0]</th>\n",
       "      <td>10 trucks</td>\n",
       "    </tr>\n",
       "    <tr>\n",
       "      <th>(10066.0, 10377.0]</th>\n",
       "      <td>11 trucks</td>\n",
       "    </tr>\n",
       "  </tbody>\n",
       "</table>\n",
       "</div>"
      ],
      "text/plain": [
       "                   Optimal Choice for Number of Packages\n",
       "(9624.999, 9933.0]                             10 trucks\n",
       "(9933.0, 9998.0]                               10 trucks\n",
       "(9998.0, 10066.0]                              10 trucks\n",
       "(10066.0, 10377.0]                             11 trucks"
      ]
     },
     "execution_count": 12,
     "metadata": {},
     "output_type": "execute_result"
    }
   ],
   "source": [
    "distribution_center_analysis.get_optimal_choice_per_group(random_input=\"Number of Packages\", bins=4)"
   ]
  },
  {
   "cell_type": "markdown",
   "metadata": {},
   "source": [
    "Looking at the optimal choice per group, we can observe that the reduction in opportunity loss comes from knowing that in the upper quantile, above roughly 10000 packages, the best option is to get 11 trucks. This makes intuitive sense: If the expected number of packages is higher, more trucks will be needed to handle the demand."
   ]
  },
  {
   "cell_type": "code",
   "execution_count": 13,
   "metadata": {},
   "outputs": [
    {
     "name": "stderr",
     "output_type": "stream",
     "text": [
      "100%|██████████| 10/10 [00:00<00:00, 17.87it/s]\n",
      "100%|██████████| 10/10 [00:00<00:00, 17.96it/s]\n",
      "100%|██████████| 10/10 [00:00<00:00, 662.06it/s]\n"
     ]
    },
    {
     "data": {
      "text/html": [
       "<style  type=\"text/css\" >\n",
       "    #T_889a1f5a_779b_11ea_81ec_8b3c1710da14row0_col0 {\n",
       "            width:  10em;\n",
       "             height:  80%;\n",
       "            background:  linear-gradient(90deg,#5fba7d 62.0%, transparent 62.0%);\n",
       "        }    #T_889a1f5a_779b_11ea_81ec_8b3c1710da14row1_col0 {\n",
       "            width:  10em;\n",
       "             height:  80%;\n",
       "            background:  linear-gradient(90deg,#5fba7d 12.3%, transparent 12.3%);\n",
       "        }    #T_889a1f5a_779b_11ea_81ec_8b3c1710da14row2_col0 {\n",
       "            width:  10em;\n",
       "             height:  80%;\n",
       "            background:  linear-gradient(90deg,#5fba7d 5.6%, transparent 5.6%);\n",
       "        }</style><table id=\"T_889a1f5a_779b_11ea_81ec_8b3c1710da14\" ><thead>    <tr>        <th class=\"blank level0\" ></th>        <th class=\"col_heading level0 col0\" >Savings</th>    </tr></thead><tbody>\n",
       "                <tr>\n",
       "                        <th id=\"T_889a1f5a_779b_11ea_81ec_8b3c1710da14level0_row0\" class=\"row_heading level0 row0\" >Number of Packages</th>\n",
       "                        <td id=\"T_889a1f5a_779b_11ea_81ec_8b3c1710da14row0_col0\" class=\"data row0 col0\" >28.18</td>\n",
       "            </tr>\n",
       "            <tr>\n",
       "                        <th id=\"T_889a1f5a_779b_11ea_81ec_8b3c1710da14level0_row1\" class=\"row_heading level0 row1\" >Maintenance cost per Truck</th>\n",
       "                        <td id=\"T_889a1f5a_779b_11ea_81ec_8b3c1710da14row1_col0\" class=\"data row1 col0\" >5.60</td>\n",
       "            </tr>\n",
       "            <tr>\n",
       "                        <th id=\"T_889a1f5a_779b_11ea_81ec_8b3c1710da14level0_row2\" class=\"row_heading level0 row2\" >Profit per Package</th>\n",
       "                        <td id=\"T_889a1f5a_779b_11ea_81ec_8b3c1710da14row2_col0\" class=\"data row2 col0\" >2.56</td>\n",
       "            </tr>\n",
       "    </tbody></table>"
      ],
      "text/plain": [
       "<pandas.io.formats.style.Styler at 0x7f06a97be130>"
      ]
     },
     "execution_count": 13,
     "metadata": {},
     "output_type": "execute_result"
    }
   ],
   "source": [
    "distribution_center_analysis.evaluate_value_of_uncertainty_reduction(bins=10)"
   ]
  },
  {
   "cell_type": "markdown",
   "metadata": {},
   "source": [
    "If we knew deciles, however, the picture changes: Knowing the profit per package now surpasses knowing the number of packages. This can be interpreted by thinking of marginal returns: An initial reduction in knowing the expected number of packages reduces our uncertainty significantly up to a certain amount, after which we might be better off reducing uncertainty around the Profit per package."
   ]
  },
  {
   "cell_type": "code",
   "execution_count": 14,
   "metadata": {},
   "outputs": [
    {
     "name": "stderr",
     "output_type": "stream",
     "text": [
      "100%|██████████| 100/100 [00:00<00:00, 1420.33it/s]\n",
      "100%|██████████| 100/100 [00:00<00:00, 1594.10it/s]\n",
      "100%|██████████| 100/100 [00:00<00:00, 1524.67it/s]\n"
     ]
    },
    {
     "data": {
      "text/html": [
       "<style  type=\"text/css\" >\n",
       "    #T_89ad2c16_779b_11ea_81ec_8b3c1710da14row0_col0 {\n",
       "            width:  10em;\n",
       "             height:  80%;\n",
       "            background:  linear-gradient(90deg,#5fba7d 63.6%, transparent 63.6%);\n",
       "        }    #T_89ad2c16_779b_11ea_81ec_8b3c1710da14row1_col0 {\n",
       "            width:  10em;\n",
       "             height:  80%;\n",
       "            background:  linear-gradient(90deg,#5fba7d 13.8%, transparent 13.8%);\n",
       "        }    #T_89ad2c16_779b_11ea_81ec_8b3c1710da14row2_col0 {\n",
       "            width:  10em;\n",
       "             height:  80%;\n",
       "            background:  linear-gradient(90deg,#5fba7d 8.5%, transparent 8.5%);\n",
       "        }</style><table id=\"T_89ad2c16_779b_11ea_81ec_8b3c1710da14\" ><thead>    <tr>        <th class=\"blank level0\" ></th>        <th class=\"col_heading level0 col0\" >Savings</th>    </tr></thead><tbody>\n",
       "                <tr>\n",
       "                        <th id=\"T_89ad2c16_779b_11ea_81ec_8b3c1710da14level0_row0\" class=\"row_heading level0 row0\" >Number of Packages</th>\n",
       "                        <td id=\"T_89ad2c16_779b_11ea_81ec_8b3c1710da14row0_col0\" class=\"data row0 col0\" >28.92</td>\n",
       "            </tr>\n",
       "            <tr>\n",
       "                        <th id=\"T_89ad2c16_779b_11ea_81ec_8b3c1710da14level0_row1\" class=\"row_heading level0 row1\" >Maintenance cost per Truck</th>\n",
       "                        <td id=\"T_89ad2c16_779b_11ea_81ec_8b3c1710da14row1_col0\" class=\"data row1 col0\" >6.26</td>\n",
       "            </tr>\n",
       "            <tr>\n",
       "                        <th id=\"T_89ad2c16_779b_11ea_81ec_8b3c1710da14level0_row2\" class=\"row_heading level0 row2\" >Profit per Package</th>\n",
       "                        <td id=\"T_89ad2c16_779b_11ea_81ec_8b3c1710da14row2_col0\" class=\"data row2 col0\" >3.86</td>\n",
       "            </tr>\n",
       "    </tbody></table>"
      ],
      "text/plain": [
       "<pandas.io.formats.style.Styler at 0x7f06a94fae80>"
      ]
     },
     "execution_count": 14,
     "metadata": {},
     "output_type": "execute_result"
    }
   ],
   "source": [
    "distribution_center_analysis.evaluate_value_of_uncertainty_reduction(bins=100)"
   ]
  },
  {
   "cell_type": "markdown",
   "metadata": {},
   "source": [
    "The above shows that even knowing the percentile of a given input is not enough for fully reducing Expected Loss. This reveals one of the limitations of this approach: It only shows improvements related to measuring one variable, while keeping the other ones with their original distribution. This misses interactions between measurements on different inputs.\n",
    "\n",
    "As such we follow a greedy strategy: by the above the greatest improvement comes from measuring the Number of Packages. Afterwards we rerun this class with the new and more accurate distribution, and calculate the next cheapest measurement we can make in order to reduce uncertainty around the final decision."
   ]
  },
  {
   "cell_type": "markdown",
   "metadata": {},
   "source": [
    "# Test"
   ]
  },
  {
   "cell_type": "code",
   "execution_count": 15,
   "metadata": {},
   "outputs": [
    {
     "name": "stderr",
     "output_type": "stream",
     "text": [
      "100%|██████████| 5/5 [00:01<00:00,  2.63it/s]\n"
     ]
    },
    {
     "data": {
      "text/html": [
       "<h1>Expected Loss and Standard Deviation for each option available</h1>"
      ],
      "text/plain": [
       "<IPython.core.display.HTML object>"
      ]
     },
     "metadata": {},
     "output_type": "display_data"
    },
    {
     "data": {
      "text/html": [
       "<style  type=\"text/css\" >\n",
       "    #T_8aded9ae_779b_11ea_81ec_8b3c1710da14row0_col0 {\n",
       "            width:  10em;\n",
       "             height:  80%;\n",
       "            background:  linear-gradient(90deg,#d65f5f 1.5%, transparent 1.5%);\n",
       "        }    #T_8aded9ae_779b_11ea_81ec_8b3c1710da14row1_col0 {\n",
       "            width:  10em;\n",
       "             height:  80%;\n",
       "            background:  linear-gradient(90deg,#d65f5f 4.3%, transparent 4.3%);\n",
       "        }    #T_8aded9ae_779b_11ea_81ec_8b3c1710da14row2_col0 {\n",
       "            width:  10em;\n",
       "             height:  80%;\n",
       "            background:  linear-gradient(90deg,#d65f5f 9.3%, transparent 9.3%);\n",
       "        }    #T_8aded9ae_779b_11ea_81ec_8b3c1710da14row3_col0 {\n",
       "            width:  10em;\n",
       "             height:  80%;\n",
       "            background:  linear-gradient(90deg,#d65f5f 49.7%, transparent 49.7%);\n",
       "        }    #T_8aded9ae_779b_11ea_81ec_8b3c1710da14row4_col0 {\n",
       "            width:  10em;\n",
       "             height:  80%;\n",
       "            background:  linear-gradient(90deg,#d65f5f 100.0%, transparent 100.0%);\n",
       "        }</style><table id=\"T_8aded9ae_779b_11ea_81ec_8b3c1710da14\" ><thead>    <tr>        <th class=\"blank level0\" ></th>        <th class=\"col_heading level0 col0\" >Expected Loss</th>        <th class=\"col_heading level0 col1\" >Standard Deviation</th>    </tr></thead><tbody>\n",
       "                <tr>\n",
       "                        <th id=\"T_8aded9ae_779b_11ea_81ec_8b3c1710da14level0_row0\" class=\"row_heading level0 row0\" >10 trucks</th>\n",
       "                        <td id=\"T_8aded9ae_779b_11ea_81ec_8b3c1710da14row0_col0\" class=\"data row0 col0\" >83.15</td>\n",
       "                        <td id=\"T_8aded9ae_779b_11ea_81ec_8b3c1710da14row0_col1\" class=\"data row0 col1\" >239.46</td>\n",
       "            </tr>\n",
       "            <tr>\n",
       "                        <th id=\"T_8aded9ae_779b_11ea_81ec_8b3c1710da14level0_row1\" class=\"row_heading level0 row1\" >11 trucks</th>\n",
       "                        <td id=\"T_8aded9ae_779b_11ea_81ec_8b3c1710da14row1_col0\" class=\"data row1 col0\" >236.38</td>\n",
       "                        <td id=\"T_8aded9ae_779b_11ea_81ec_8b3c1710da14row1_col1\" class=\"data row1 col1\" >212.31</td>\n",
       "            </tr>\n",
       "            <tr>\n",
       "                        <th id=\"T_8aded9ae_779b_11ea_81ec_8b3c1710da14level0_row2\" class=\"row_heading level0 row2\" >12 trucks</th>\n",
       "                        <td id=\"T_8aded9ae_779b_11ea_81ec_8b3c1710da14row2_col0\" class=\"data row2 col0\" >509.47</td>\n",
       "                        <td id=\"T_8aded9ae_779b_11ea_81ec_8b3c1710da14row2_col1\" class=\"data row2 col1\" >310.11</td>\n",
       "            </tr>\n",
       "            <tr>\n",
       "                        <th id=\"T_8aded9ae_779b_11ea_81ec_8b3c1710da14level0_row3\" class=\"row_heading level0 row3\" >9 trucks</th>\n",
       "                        <td id=\"T_8aded9ae_779b_11ea_81ec_8b3c1710da14row3_col0\" class=\"data row3 col0\" >2710.31</td>\n",
       "                        <td id=\"T_8aded9ae_779b_11ea_81ec_8b3c1710da14row3_col1\" class=\"data row3 col1\" >2985.22</td>\n",
       "            </tr>\n",
       "            <tr>\n",
       "                        <th id=\"T_8aded9ae_779b_11ea_81ec_8b3c1710da14level0_row4\" class=\"row_heading level0 row4\" >8 trucks</th>\n",
       "                        <td id=\"T_8aded9ae_779b_11ea_81ec_8b3c1710da14row4_col0\" class=\"data row4 col0\" >5457.80</td>\n",
       "                        <td id=\"T_8aded9ae_779b_11ea_81ec_8b3c1710da14row4_col1\" class=\"data row4 col1\" >5988.14</td>\n",
       "            </tr>\n",
       "    </tbody></table>"
      ],
      "text/plain": [
       "<IPython.core.display.HTML object>"
      ]
     },
     "metadata": {},
     "output_type": "display_data"
    },
    {
     "data": {
      "text/html": [
       "<h1>Expected savings by knowing the inputs quantiles. The input with higher savings is more promising for making a better decision</h1>"
      ],
      "text/plain": [
       "<IPython.core.display.HTML object>"
      ]
     },
     "metadata": {},
     "output_type": "display_data"
    },
    {
     "name": "stderr",
     "output_type": "stream",
     "text": [
      "100%|██████████| 4/4 [00:00<00:00, 316.83it/s]\n",
      "100%|██████████| 4/4 [00:00<00:00, 379.65it/s]\n",
      "100%|██████████| 4/4 [00:00<00:00, 269.86it/s]\n"
     ]
    },
    {
     "data": {
      "text/html": [
       "<style  type=\"text/css\" >\n",
       "    #T_8aded9af_779b_11ea_81ec_8b3c1710da14row0_col0 {\n",
       "            width:  10em;\n",
       "             height:  80%;\n",
       "            background:  linear-gradient(90deg,#5fba7d 31.5%, transparent 31.5%);\n",
       "        }    #T_8aded9af_779b_11ea_81ec_8b3c1710da14row1_col0 {\n",
       "            width:  10em;\n",
       "             height:  80%;\n",
       "            background:  linear-gradient(90deg,#5fba7d 6.0%, transparent 6.0%);\n",
       "        }    #T_8aded9af_779b_11ea_81ec_8b3c1710da14row2_col0 {\n",
       "            width:  10em;\n",
       "             height:  80%;\n",
       "            background:  linear-gradient(90deg,#5fba7d 2.2%, transparent 2.2%);\n",
       "        }</style><table id=\"T_8aded9af_779b_11ea_81ec_8b3c1710da14\" ><thead>    <tr>        <th class=\"blank level0\" ></th>        <th class=\"col_heading level0 col0\" >Savings</th>    </tr></thead><tbody>\n",
       "                <tr>\n",
       "                        <th id=\"T_8aded9af_779b_11ea_81ec_8b3c1710da14level0_row0\" class=\"row_heading level0 row0\" >Number of Packages</th>\n",
       "                        <td id=\"T_8aded9af_779b_11ea_81ec_8b3c1710da14row0_col0\" class=\"data row0 col0\" >26.19</td>\n",
       "            </tr>\n",
       "            <tr>\n",
       "                        <th id=\"T_8aded9af_779b_11ea_81ec_8b3c1710da14level0_row1\" class=\"row_heading level0 row1\" >Maintenance cost per Truck</th>\n",
       "                        <td id=\"T_8aded9af_779b_11ea_81ec_8b3c1710da14row1_col0\" class=\"data row1 col0\" >5.03</td>\n",
       "            </tr>\n",
       "            <tr>\n",
       "                        <th id=\"T_8aded9af_779b_11ea_81ec_8b3c1710da14level0_row2\" class=\"row_heading level0 row2\" >Profit per Package</th>\n",
       "                        <td id=\"T_8aded9af_779b_11ea_81ec_8b3c1710da14row2_col0\" class=\"data row2 col0\" >1.84</td>\n",
       "            </tr>\n",
       "    </tbody></table>"
      ],
      "text/plain": [
       "<IPython.core.display.HTML object>"
      ]
     },
     "metadata": {},
     "output_type": "display_data"
    },
    {
     "data": {
      "text/html": [
       "<h1>Optimal Choices for each quantile / option</h1>"
      ],
      "text/plain": [
       "<IPython.core.display.HTML object>"
      ]
     },
     "metadata": {},
     "output_type": "display_data"
    },
    {
     "name": "stderr",
     "output_type": "stream",
     "text": [
      "  0%|          | 0/3 [00:00<?, ?it/s]\n",
      "100%|██████████| 4/4 [00:00<00:00, 279.89it/s]\n"
     ]
    },
    {
     "data": {
      "text/html": [
       "<table border=\"1\" class=\"dataframe\">\n",
       "  <thead>\n",
       "    <tr style=\"text-align: right;\">\n",
       "      <th></th>\n",
       "      <th>Optimal Choice for Number of Packages</th>\n",
       "    </tr>\n",
       "  </thead>\n",
       "  <tbody>\n",
       "    <tr>\n",
       "      <th>(9631.999, 9932.0]</th>\n",
       "      <td>10 trucks</td>\n",
       "    </tr>\n",
       "    <tr>\n",
       "      <th>(9932.0, 10002.0]</th>\n",
       "      <td>10 trucks</td>\n",
       "    </tr>\n",
       "    <tr>\n",
       "      <th>(10002.0, 10069.0]</th>\n",
       "      <td>10 trucks</td>\n",
       "    </tr>\n",
       "    <tr>\n",
       "      <th>(10069.0, 10439.0]</th>\n",
       "      <td>11 trucks</td>\n",
       "    </tr>\n",
       "  </tbody>\n",
       "</table>"
      ],
      "text/plain": [
       "<IPython.core.display.HTML object>"
      ]
     },
     "metadata": {},
     "output_type": "display_data"
    },
    {
     "name": "stderr",
     "output_type": "stream",
     "text": [
      "\n",
      "100%|██████████| 4/4 [00:00<00:00, 290.23it/s]\n"
     ]
    },
    {
     "data": {
      "text/html": [
       "<table border=\"1\" class=\"dataframe\">\n",
       "  <thead>\n",
       "    <tr style=\"text-align: right;\">\n",
       "      <th></th>\n",
       "      <th>Optimal Choice for Profit per Package</th>\n",
       "    </tr>\n",
       "  </thead>\n",
       "  <tbody>\n",
       "    <tr>\n",
       "      <th>(0.0004599999999999999, 0.904]</th>\n",
       "      <td>10 trucks</td>\n",
       "    </tr>\n",
       "    <tr>\n",
       "      <th>(0.904, 2.081]</th>\n",
       "      <td>10 trucks</td>\n",
       "    </tr>\n",
       "    <tr>\n",
       "      <th>(2.081, 4.2]</th>\n",
       "      <td>10 trucks</td>\n",
       "    </tr>\n",
       "    <tr>\n",
       "      <th>(4.2, 46.014]</th>\n",
       "      <td>11 trucks</td>\n",
       "    </tr>\n",
       "  </tbody>\n",
       "</table>"
      ],
      "text/plain": [
       "<IPython.core.display.HTML object>"
      ]
     },
     "metadata": {},
     "output_type": "display_data"
    },
    {
     "name": "stderr",
     "output_type": "stream",
     "text": [
      " 67%|██████▋   | 2/3 [00:00<00:00, 16.66it/s]\n",
      "100%|██████████| 4/4 [00:00<00:00, 300.88it/s]\n"
     ]
    },
    {
     "data": {
      "text/html": [
       "<table border=\"1\" class=\"dataframe\">\n",
       "  <thead>\n",
       "    <tr style=\"text-align: right;\">\n",
       "      <th></th>\n",
       "      <th>Optimal Choice for Maintenance cost per Truck</th>\n",
       "    </tr>\n",
       "  </thead>\n",
       "  <tbody>\n",
       "    <tr>\n",
       "      <th>(50.013000000000005, 160.861]</th>\n",
       "      <td>11 trucks</td>\n",
       "    </tr>\n",
       "    <tr>\n",
       "      <th>(160.861, 272.738]</th>\n",
       "      <td>10 trucks</td>\n",
       "    </tr>\n",
       "    <tr>\n",
       "      <th>(272.738, 384.308]</th>\n",
       "      <td>10 trucks</td>\n",
       "    </tr>\n",
       "    <tr>\n",
       "      <th>(384.308, 499.947]</th>\n",
       "      <td>10 trucks</td>\n",
       "    </tr>\n",
       "  </tbody>\n",
       "</table>"
      ],
      "text/plain": [
       "<IPython.core.display.HTML object>"
      ]
     },
     "metadata": {},
     "output_type": "display_data"
    },
    {
     "name": "stderr",
     "output_type": "stream",
     "text": [
      "100%|██████████| 3/3 [00:00<00:00, 18.52it/s]\n"
     ]
    }
   ],
   "source": [
    "distribution_center_analysis = ExpectedOpportunityLoss(\n",
    "    reward_functions = {\n",
    "        f\"{key} trucks\": partial(reward_function, number_of_trucks=key) for key in options_list\n",
    "    },\n",
    "    random_inputs = {\n",
    "        \"Number of Packages\" : lambda n : np.random.binomial(size=n, n=10000000, p = 0.001), # There's 10 million people, each of which with .1 % chance of sending a package that day\n",
    "        \"Profit per Package\" : lambda n: np.random.exponential(size=n, scale=3), # Package profits are exponentially distributed, with average 3 euros per package\n",
    "        \"Maintenance cost per Truck\" : lambda n : np.random.uniform(50,500, size=n) # Maintenance of trucks has a fixed cost of 50€ per truck (man work) + extra if replacements are needed\n",
    "    },\n",
    "    run_default_script=True\n",
    ")"
   ]
  },
  {
   "cell_type": "markdown",
   "metadata": {},
   "source": [
    "# Do you have another study case? Reach out for us to discuss it"
   ]
  }
 ],
 "metadata": {
  "kernelspec": {
   "display_name": "Python 3",
   "language": "python",
   "name": "python3"
  },
  "language_info": {
   "codemirror_mode": {
    "name": "ipython",
    "version": 3
   },
   "file_extension": ".py",
   "mimetype": "text/x-python",
   "name": "python",
   "nbconvert_exporter": "python",
   "pygments_lexer": "ipython3",
   "version": "3.8.2"
  }
 },
 "nbformat": 4,
 "nbformat_minor": 4
}
