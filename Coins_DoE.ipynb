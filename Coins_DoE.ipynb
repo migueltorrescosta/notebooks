{
 "cells": [
  {
   "cell_type": "code",
   "execution_count": 1,
   "id": "pleased-commercial",
   "metadata": {},
   "outputs": [],
   "source": [
    "import pandas as pd\n",
    "import itertools\n",
    "import random\n",
    "from tqdm import tqdm"
   ]
  },
  {
   "cell_type": "markdown",
   "id": "thirty-evening",
   "metadata": {},
   "source": [
    "# CoinOracle Class"
   ]
  },
  {
   "cell_type": "code",
   "execution_count": 2,
   "id": "environmental-wisconsin",
   "metadata": {},
   "outputs": [],
   "source": [
    "class CoinOracle:\n",
    "    def __init__(self, n_coins, secret_coin, is_heavier):\n",
    "\n",
    "        assert secret_coin <= n_coins \n",
    "\n",
    "        # Secret attributes\n",
    "        self.__secret_coin = secret_coin\n",
    "        self.__is_heavier = is_heavier\n",
    "        self.__coin_weights = list([5 for _ in range(n_coins+1)])\n",
    "        self.__coin_weights[secret_coin] = 5.1 if is_heavier else 4.9\n",
    "        self.__experiment_results = []\n",
    "        self.__check_guess_count = 0\n",
    "\n",
    "    def __repr__(self):\n",
    "        return f\"CoinOracle: {self.n_coins} coins and {self.n_tests} tests made\"\n",
    "\n",
    "    def __weight(self,coin_list):\n",
    "        return sum([self.__coin_weights[i] for i in coin_list])\n",
    "\n",
    "    # Accessible attributes\n",
    "    @property\n",
    "    def n_coins(self):\n",
    "        return len(self.__coin_weights)-1\n",
    "\n",
    "    @property\n",
    "    def n_tests(self):\n",
    "        return len(self.__experiment_results)\n",
    "\n",
    "    @property\n",
    "    def experiment_results(self):\n",
    "        return self.__experiment_results\n",
    "\n",
    "    # Key methods\n",
    "    def is_left_side_heavier(self, left_side, right_side):\n",
    "        if self.__weight(left_side) >  self.__weight(right_side):\n",
    "            result = 1\n",
    "        elif self.__weight(left_side) <  self.__weight(right_side):\n",
    "            result = -1\n",
    "        else:\n",
    "            result = 0\n",
    "        self.experiment_results.append((left_side,right_side, result))\n",
    "        return result\n",
    "\n",
    "    def check_guess(self, secret_coin, is_heavier):\n",
    "        self.__check_guess_count += 1\n",
    "        return secret_coin==self.__secret_coin and is_heavier==self.__is_heavier"
   ]
  },
  {
   "cell_type": "markdown",
   "id": "irish-subsection",
   "metadata": {},
   "source": [
    "# Brute Force Solution"
   ]
  },
  {
   "cell_type": "code",
   "execution_count": 3,
   "id": "resistant-wallpaper",
   "metadata": {},
   "outputs": [],
   "source": [
    "def brute_force_solution(temp_oracle):\n",
    "    for i in range(0,temp_oracle.n_coins):\n",
    "        temp_oracle.is_left_side_heavier([i+1],[0])\n",
    "    result = [result for result in temp_oracle.experiment_results if result[2]!=0][0]\n",
    "    coin = result[0][0]\n",
    "    is_heavier = result[2]==1\n",
    "    return (coin, is_heavier)"
   ]
  },
  {
   "cell_type": "markdown",
   "id": "minor-following",
   "metadata": {},
   "source": [
    "# Your solution\n",
    "\n",
    "The solution is similar to a brute force solution, but it stops when the fake coin is found. Can you improve it?"
   ]
  },
  {
   "cell_type": "code",
   "execution_count": 4,
   "id": "third-influence",
   "metadata": {},
   "outputs": [],
   "source": [
    "def your_custom_solution(temp_oracle):\n",
    "    i=1\n",
    "    while temp_oracle.is_left_side_heavier([i],[0])==0:\n",
    "        i+=1\n",
    "    coin = i\n",
    "    is_heavier = temp_oracle.experiment_results[-1][2]==1\n",
    "    return (coin, is_heavier)"
   ]
  },
  {
   "cell_type": "markdown",
   "id": "former-personal",
   "metadata": {},
   "source": [
    "# The code below runs games for a given list of solvers"
   ]
  },
  {
   "cell_type": "code",
   "execution_count": 5,
   "id": "incoming-westminster",
   "metadata": {},
   "outputs": [],
   "source": [
    "# Runs one game for each size in sizes, using all solvers passed. Filename is used to store the plot in the end as a file.\n",
    "def run_comparison(sizes, solvers):\n",
    "    df = pd.DataFrame(\n",
    "        max(sizes)+1,\n",
    "        columns=[solver.__name__ for solver in solvers],\n",
    "        index=sizes\n",
    "    )\n",
    "    \n",
    "    secret_coins = {size: random.choice(range(size))+1 for size in sizes}\n",
    "    \n",
    "    n_pairs = len(sizes)*len(solvers)\n",
    "    for (size, solver) in tqdm(itertools.product(sizes, solvers), total=n_pairs):\n",
    "        oracle = CoinOracle(\n",
    "            n_coins = size,\n",
    "            secret_coin = secret_coins[size],\n",
    "            is_heavier = random.choice([True,False])\n",
    "        )\n",
    "        (guessed_secret_coin, guess_is_heavier) = solver(oracle)\n",
    "        if oracle.check_guess(guessed_secret_coin, guess_is_heavier):\n",
    "            df[solver.__name__][size] = oracle.n_tests\n",
    "    \n",
    "    return df"
   ]
  },
  {
   "cell_type": "code",
   "execution_count": 6,
   "id": "silver-strength",
   "metadata": {},
   "outputs": [
    {
     "name": "stderr",
     "output_type": "stream",
     "text": [
      "100%|██████████| 36/36 [00:00<00:00, 3159.35it/s]\n"
     ]
    },
    {
     "data": {
      "text/html": [
       "<div>\n",
       "<style scoped>\n",
       "    .dataframe tbody tr th:only-of-type {\n",
       "        vertical-align: middle;\n",
       "    }\n",
       "\n",
       "    .dataframe tbody tr th {\n",
       "        vertical-align: top;\n",
       "    }\n",
       "\n",
       "    .dataframe thead th {\n",
       "        text-align: right;\n",
       "    }\n",
       "</style>\n",
       "<table border=\"1\" class=\"dataframe\">\n",
       "  <thead>\n",
       "    <tr style=\"text-align: right;\">\n",
       "      <th></th>\n",
       "      <th>10</th>\n",
       "      <th>15</th>\n",
       "      <th>20</th>\n",
       "      <th>25</th>\n",
       "      <th>30</th>\n",
       "      <th>35</th>\n",
       "      <th>40</th>\n",
       "      <th>45</th>\n",
       "      <th>50</th>\n",
       "      <th>55</th>\n",
       "      <th>60</th>\n",
       "      <th>65</th>\n",
       "      <th>70</th>\n",
       "      <th>75</th>\n",
       "      <th>80</th>\n",
       "      <th>85</th>\n",
       "      <th>90</th>\n",
       "      <th>95</th>\n",
       "    </tr>\n",
       "  </thead>\n",
       "  <tbody>\n",
       "    <tr>\n",
       "      <th>brute_force_solution</th>\n",
       "      <td>10</td>\n",
       "      <td>15</td>\n",
       "      <td>20</td>\n",
       "      <td>25</td>\n",
       "      <td>30</td>\n",
       "      <td>35</td>\n",
       "      <td>40</td>\n",
       "      <td>45</td>\n",
       "      <td>50</td>\n",
       "      <td>55</td>\n",
       "      <td>60</td>\n",
       "      <td>65</td>\n",
       "      <td>70</td>\n",
       "      <td>75</td>\n",
       "      <td>80</td>\n",
       "      <td>85</td>\n",
       "      <td>90</td>\n",
       "      <td>95</td>\n",
       "    </tr>\n",
       "    <tr>\n",
       "      <th>your_custom_solution</th>\n",
       "      <td>3</td>\n",
       "      <td>9</td>\n",
       "      <td>2</td>\n",
       "      <td>25</td>\n",
       "      <td>12</td>\n",
       "      <td>14</td>\n",
       "      <td>37</td>\n",
       "      <td>11</td>\n",
       "      <td>37</td>\n",
       "      <td>23</td>\n",
       "      <td>41</td>\n",
       "      <td>48</td>\n",
       "      <td>3</td>\n",
       "      <td>34</td>\n",
       "      <td>76</td>\n",
       "      <td>67</td>\n",
       "      <td>27</td>\n",
       "      <td>29</td>\n",
       "    </tr>\n",
       "  </tbody>\n",
       "</table>\n",
       "</div>"
      ],
      "text/plain": [
       "                      10  15  20  25  30  35  40  45  50  55  60  65  70  75  \\\n",
       "brute_force_solution  10  15  20  25  30  35  40  45  50  55  60  65  70  75   \n",
       "your_custom_solution   3   9   2  25  12  14  37  11  37  23  41  48   3  34   \n",
       "\n",
       "                      80  85  90  95  \n",
       "brute_force_solution  80  85  90  95  \n",
       "your_custom_solution  76  67  27  29  "
      ]
     },
     "execution_count": 6,
     "metadata": {},
     "output_type": "execute_result"
    }
   ],
   "source": [
    "sizes = list(range(10,100,5))\n",
    "solvers = [brute_force_solution, your_custom_solution]\n",
    "df = run_comparison(sizes, solvers)\n",
    "df.T"
   ]
  },
  {
   "cell_type": "markdown",
   "id": "rental-consultation",
   "metadata": {},
   "source": [
    "### The plot below shows the number of experiments conducted by your custom solution vs a brute force attack, for multiple sizes. What is the best score you can get? "
   ]
  },
  {
   "cell_type": "code",
   "execution_count": 7,
   "id": "vital-miller",
   "metadata": {},
   "outputs": [
    {
     "data": {
      "image/png": "[encoded data removed]",
      "text/plain": [
       "<Figure size 1152x576 with 1 Axes>"
      ]
     },
     "metadata": {
      "needs_background": "light"
     },
     "output_type": "display_data"
    }
   ],
   "source": [
    "df.plot.area(figsize=(16,8), stacked=False).figure.savefig('results.png')"
   ]
  }
 ],
 "metadata": {
  "kernelspec": {
   "display_name": "Python 3",
   "language": "python",
   "name": "python3"
  },
  "language_info": {
   "codemirror_mode": {
    "name": "ipython",
    "version": 3
   },
   "file_extension": ".py",
   "mimetype": "text/x-python",
   "name": "python",
   "nbconvert_exporter": "python",
   "pygments_lexer": "ipython3",
   "version": "3.8.6"
  }
 },
 "nbformat": 4,
 "nbformat_minor": 5
}
