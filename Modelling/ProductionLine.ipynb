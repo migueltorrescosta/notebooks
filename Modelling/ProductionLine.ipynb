{
 "cells": [
  {
   "cell_type": "markdown",
   "id": "fc113db8-83c7-4ddb-9233-5d72e6541b8d",
   "metadata": {},
   "source": [
    "# Goal\n",
    "\n",
    "We want to clarify and optimize production lines. We describe production lines as a set of operators $\\{ T_i \\}$ that transform \"raw\" materials into products. An operator $T_i$ has\n",
    "1. Weighted inputs $I_i$\n",
    "2. Weighted outputs $O_i$\n",
    "3. A maintenance cost $M_i$\n",
    "4. A construction cost $C_i$\n",
    "\n",
    "Given a desired outputs and constraints on the total construction and maintenance costs, we want to find optimal setups for the production line."
   ]
  },
  {
   "cell_type": "markdown",
   "id": "b3e9218e-0a77-4dc9-a509-ba78bc5f2fe6",
   "metadata": {},
   "source": [
    "# Imports"
   ]
  },
  {
   "cell_type": "code",
   "execution_count": 24,
   "id": "43ef44f7-06b9-46c6-a544-f1e2d710de0b",
   "metadata": {},
   "outputs": [],
   "source": [
    "from dataclasses import dataclass\n",
    "from typing import Dict, List\n",
    "from enum import Enum"
   ]
  },
  {
   "cell_type": "markdown",
   "id": "3ae0932d-bc1c-45d2-afd5-1fb32bc2dd33",
   "metadata": {},
   "source": [
    "# Aux"
   ]
  },
  {
   "cell_type": "code",
   "execution_count": 58,
   "id": "c1804b7a-9f99-44be-baad-c3def7036a59",
   "metadata": {},
   "outputs": [],
   "source": [
    "class MaterialType(Enum):\n",
    "    CANNON = \"Cannon\"\n",
    "    COAL = \"Coal\"\n",
    "    GOLD = \"Gold\"\n",
    "    GOLD_ORE = \"GoldOre\"\n",
    "    HEMP = \"Hemp\"\n",
    "    IRON = \"Iron\"\n",
    "    IRON_ORE = \"IronOre\"\n",
    "    PAPER = \"Paper\"\n",
    "    ROPE = \"Rope\"\n",
    "    SILK = \"Silk\"\n",
    "    TOOL = \"Tool\"\n",
    "    TREE = \"Tree\"\n",
    "    WEAPON = \"Weapon\"\n",
    "    WOOD = \"Wood\"\n",
    "    INDIGO = \"Indigo\"\n",
    "\n",
    "    def with_quantity(self, quantity: float) -> Material:\n",
    "        return Material(type=self, quantity=quantity)"
   ]
  },
  {
   "cell_type": "code",
   "execution_count": 59,
   "id": "9edc1243-14f0-409b-8921-f2f96851b046",
   "metadata": {},
   "outputs": [],
   "source": [
    "@dataclass\n",
    "class Material:\n",
    "    type: MaterialType\n",
    "    quantity: float"
   ]
  },
  {
   "cell_type": "code",
   "execution_count": 60,
   "id": "0ff61d8e-5633-4a98-aa2d-3a6f8d21df31",
   "metadata": {},
   "outputs": [],
   "source": [
    "@dataclass\n",
    "class Operator:\n",
    "    materials: List[Material]"
   ]
  },
  {
   "cell_type": "code",
   "execution_count": 61,
   "id": "aab889d6-92cc-4d44-909e-1e1ff9576e69",
   "metadata": {},
   "outputs": [],
   "source": [
    "class ProductionLine:\n",
    "\n",
    "    def __init__(self, operators: List[Operator]):\n",
    "        self.operators = operators\n",
    "\n",
    "    def get_mermaid_diagram(self):\n",
    "        diagram_text = (\n",
    "            \"stateDiagram\\n\\n    classDef building stroke-width:2px,stroke:yellow;\"\n",
    "        )\n",
    "        operator_titles = self.operators.keys()\n",
    "        return diagram_text"
   ]
  },
  {
   "cell_type": "markdown",
   "id": "24120aee-93fa-4387-9de4-ece03de16ef4",
   "metadata": {},
   "source": [
    "## Operators"
   ]
  },
  {
   "cell_type": "code",
   "execution_count": 62,
   "id": "a5a0bb70-27ee-41ad-9faf-08ec014be0f8",
   "metadata": {},
   "outputs": [],
   "source": [
    "CannonFoundry = Operator(\n",
    "    [\n",
    "        MaterialType.WOOD.with_quantity(-3),\n",
    "        MaterialType.IRON.with_quantity(-1.5),\n",
    "        MaterialType.COAL.with_quantity(-1.5),\n",
    "        MaterialType.CANNON.with_quantity(1),\n",
    "    ]\n",
    ")\n",
    "CarpetWorkshop = Operator([])\n",
    "CharcoalBurnerHutI = Operator(\n",
    "    [MaterialType.TREE.with_quantity(-120), MaterialType.COAL.with_quantity(2)]\n",
    ")\n",
    "GoldMine = Operator(\n",
    "    [\n",
    "        # MaterialType.GOLD_DEPOSIT.with_quantity()\n",
    "        MaterialType.GOLD.with_quantity(1.5),\n",
    "    ]\n",
    ")\n",
    "GoldSmelter = Operator(\n",
    "    [\n",
    "        MaterialType.GOLD_ORE.with_quantity(-1.5),\n",
    "        MaterialType.COAL.with_quantity(-1.5),\n",
    "        MaterialType.GOLD.with_quantity(1.5),\n",
    "    ]\n",
    ")\n",
    "HempPlantation = Operator([])\n",
    "CarpetWorkshop = Operator([])\n",
    "CharcoalBurnerHutI = Operator([])\n",
    "GoldMine = Operator([])\n",
    "GoldSmelter = Operator([])\n",
    "HempPlantation = Operator([MaterialType.HEMP.with_quantity(1)])\n",
    "IndigoFarm = Operator([MaterialType.INDIGO.with_quantity(1.5)])\n",
    "IronSmelter = Operator([])\n",
    "LumberjackHut = Operator(\n",
    "    [MaterialType.TREE.with_quantity(-33), MaterialType.WOOD.with_quantity(1.5)]\n",
    ")\n",
    "PaperMill = Operator(\n",
    "    [MaterialType.WOOD.with_quantity(-6), MaterialType.PAPER.with_quantity(3)]\n",
    ")\n",
    "Ropeyard = Operator([])\n",
    "SilkPlantation = Operator([MaterialType.SILK.with_quantity(1.5)])\n",
    "ToolmakerWorkshop = Operator([])\n",
    "WeaponSmithy = Operator(\n",
    "    [\n",
    "        MaterialType.IRON.with_quantity(-1.5),\n",
    "        MaterialType.COAL.with_quantity(-1.5),\n",
    "        MaterialType.WEAPON.with_quantity(2),\n",
    "    ]\n",
    ")\n",
    "IndigoFarm = Operator([MaterialType.INDIGO.with_quantity(1.5)])\n",
    "IronSmelter = Operator(\n",
    "    [MaterialType.IRON_ORE.with_quantity(-2), MaterialType.COAL.with_quantity(2)]\n",
    ")\n",
    "LumberjackHut = Operator(\n",
    "    [\n",
    "        MaterialType.TREE.with_quantity(-33),\n",
    "        MaterialType.WOOD.with_quantity(1.5),\n",
    "    ]\n",
    ")\n",
    "PaperMill = Operator(\n",
    "    [MaterialType.WOOD.with_quantity(-6), MaterialType.PAPER.with_quantity(3)]\n",
    ")\n",
    "Ropeyard = Operator(\n",
    "    [MaterialType.HEMP.with_quantity(-2), MaterialType.ROPE.with_quantity(2)]\n",
    ")\n",
    "SilkPlantation = Operator([])\n",
    "ToolmakerWorkshop = Operator(\n",
    "    [\n",
    "        MaterialType.IRON.with_quantity(-0.75),\n",
    "        MaterialType.COAL.with_quantity(-0.75),\n",
    "        MaterialType.TOOL.with_quantity(1),\n",
    "    ]\n",
    ")\n",
    "WeaponSmithy = Operator([])"
   ]
  },
  {
   "cell_type": "markdown",
   "id": "21a222d9-1e5b-435c-b10e-7ddcbc47c531",
   "metadata": {},
   "source": [
    "## Production Line"
   ]
  },
  {
   "cell_type": "code",
   "execution_count": 63,
   "id": "6aa4fb9d-5655-43a4-98c4-200c5e2bcf02",
   "metadata": {},
   "outputs": [],
   "source": [
    "pl = ProductionLine(\n",
    "    operators=[\n",
    "        CannonFoundry,\n",
    "        CarpetWorkshop,\n",
    "        CharcoalBurnerHutI,\n",
    "        GoldMine,\n",
    "        GoldSmelter,\n",
    "        HempPlantation,\n",
    "        IndigoFarm,\n",
    "        IronSmelter,\n",
    "        LumberjackHut,\n",
    "        PaperMill,\n",
    "        Ropeyard,\n",
    "        SilkPlantation,\n",
    "        ToolmakerWorkshop,\n",
    "        WeaponSmithy,\n",
    "    ]\n",
    ")"
   ]
  },
  {
   "cell_type": "code",
   "execution_count": 64,
   "id": "5fdd16a7-5e49-4f32-830f-7a3346fc861d",
   "metadata": {},
   "outputs": [
    {
     "ename": "AttributeError",
     "evalue": "'list' object has no attribute 'keys'",
     "output_type": "error",
     "traceback": [
      "\u001b[0;31m---------------------------------------------------------------------------\u001b[0m",
      "\u001b[0;31mAttributeError\u001b[0m                            Traceback (most recent call last)",
      "Cell \u001b[0;32mIn[64], line 1\u001b[0m\n\u001b[0;32m----> 1\u001b[0m \u001b[43mpl\u001b[49m\u001b[38;5;241;43m.\u001b[39;49m\u001b[43mget_mermaid_diagram\u001b[49m\u001b[43m(\u001b[49m\u001b[43m)\u001b[49m\n",
      "Cell \u001b[0;32mIn[61], line 8\u001b[0m, in \u001b[0;36mProductionLine.get_mermaid_diagram\u001b[0;34m(self)\u001b[0m\n\u001b[1;32m      6\u001b[0m \u001b[38;5;28;01mdef\u001b[39;00m \u001b[38;5;21mget_mermaid_diagram\u001b[39m(\u001b[38;5;28mself\u001b[39m):\n\u001b[1;32m      7\u001b[0m     diagram_text \u001b[38;5;241m=\u001b[39m \u001b[38;5;124m\"\u001b[39m\u001b[38;5;124mstateDiagram\u001b[39m\u001b[38;5;130;01m\\n\u001b[39;00m\u001b[38;5;130;01m\\n\u001b[39;00m\u001b[38;5;124m    classDef building stroke-width:2px,stroke:yellow;\u001b[39m\u001b[38;5;124m\"\u001b[39m\n\u001b[0;32m----> 8\u001b[0m     operator_titles \u001b[38;5;241m=\u001b[39m \u001b[38;5;28;43mself\u001b[39;49m\u001b[38;5;241;43m.\u001b[39;49m\u001b[43moperators\u001b[49m\u001b[38;5;241;43m.\u001b[39;49m\u001b[43mkeys\u001b[49m()\n\u001b[1;32m      9\u001b[0m     \u001b[38;5;28;01mreturn\u001b[39;00m diagram_text\n",
      "\u001b[0;31mAttributeError\u001b[0m: 'list' object has no attribute 'keys'"
     ]
    }
   ],
   "source": [
    "pl.get_mermaid_diagram()"
   ]
  },
  {
   "cell_type": "code",
   "execution_count": 69,
   "id": "0d076e17-f395-483f-adfe-dc4dc0629f3b",
   "metadata": {},
   "outputs": [
    {
     "ename": "NameError",
     "evalue": "name 'varname' is not defined",
     "output_type": "error",
     "traceback": [
      "\u001b[0;31m---------------------------------------------------------------------------\u001b[0m",
      "\u001b[0;31mNameError\u001b[0m                                 Traceback (most recent call last)",
      "Cell \u001b[0;32mIn[69], line 1\u001b[0m\n\u001b[0;32m----> 1\u001b[0m \u001b[43mvarname\u001b[49m(pl\u001b[38;5;241m.\u001b[39moperators)\n",
      "\u001b[0;31mNameError\u001b[0m: name 'varname' is not defined"
     ]
    }
   ],
   "source": [
    "varname(pl.operators)"
   ]
  },
  {
   "cell_type": "code",
   "execution_count": null,
   "id": "b9cecfd9-349b-4dbd-8cbf-914814f70a5e",
   "metadata": {},
   "outputs": [],
   "source": []
  }
 ],
 "metadata": {
  "kernelspec": {
   "display_name": "Python 3 (ipykernel)",
   "language": "python",
   "name": "python3"
  },
  "language_info": {
   "codemirror_mode": {
    "name": "ipython",
    "version": 3
   },
   "file_extension": ".py",
   "mimetype": "text/x-python",
   "name": "python",
   "nbconvert_exporter": "python",
   "pygments_lexer": "ipython3",
   "version": "3.11.6"
  }
 },
 "nbformat": 4,
 "nbformat_minor": 5
}
