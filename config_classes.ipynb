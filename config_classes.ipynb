{
 "cells": [
  {
   "cell_type": "code",
   "execution_count": 1,
   "metadata": {},
   "outputs": [],
   "source": [
    "import numpy as np\n",
    "import matplotlib.pyplot as plt"
   ]
  },
  {
   "cell_type": "markdown",
   "metadata": {},
   "source": [
    "For Daniel"
   ]
  },
  {
   "cell_type": "code",
   "execution_count": 2,
   "metadata": {},
   "outputs": [],
   "source": [
    "class Config():\n",
    "    def __init__(self,\n",
    "                 lower_bound,\n",
    "                 upper_bound,\n",
    "                 normalization_mean,\n",
    "                 normalization_std_dev):\n",
    "        self.lower_bound = lower_bound\n",
    "        self.upper_bound = upper_bound\n",
    "        self.normalization_mean = normalization_mean\n",
    "        self.normalization_std_dev = normalization_std_dev\n",
    "        \n",
    "    def __repr__(self):\n",
    "        return f\"\"\"lower_bound: {self.lower_bound}\n",
    "upper_bound: {self.upper_bound}\n",
    "normalization_mean: {self.normalization_mean}\n",
    "normalization_std_dev: {self.normalization_std_dev}\"\"\""
   ]
  },
  {
   "cell_type": "code",
   "execution_count": 3,
   "metadata": {},
   "outputs": [],
   "source": [
    "class DataCleaner():\n",
    "    \n",
    "    def __init__(self,data, config):\n",
    "        self.data = data\n",
    "        self.config = config\n",
    "        self.redo_metrics()\n",
    "        \n",
    "    def redo_metrics(self):\n",
    "        self.mean = np.mean(self.data)\n",
    "        self.std_dev = np.std(self.data)   \n",
    "        \n",
    "    def run_default_pipeline(self):\n",
    "        self.trim()\n",
    "        self.normalize()\n",
    "        \n",
    "    def trim(self):\n",
    "        self.data = np.clip(self.data, self.config.lower_bound, self.config.upper_bound)\n",
    "        self.redo_metrics()\n",
    "    \n",
    "    def normalize(self):\n",
    "        self.data = np.divide(self.data - self.mean, self.std_dev)\n",
    "        self.data = self.data * self.config.normalization_std_dev + self.config.normalization_mean\n",
    "        self.redo_metrics()\n",
    "        "
   ]
  },
  {
   "cell_type": "code",
   "execution_count": 4,
   "metadata": {},
   "outputs": [],
   "source": [
    "raw_data = [1,5,2,7,4,8,4,9,3,6,5,4]"
   ]
  },
  {
   "cell_type": "code",
   "execution_count": 5,
   "metadata": {},
   "outputs": [
    {
     "data": {
      "text/plain": [
       "lower_bound: 3\n",
       "upper_bound: 7\n",
       "normalization_mean: 5\n",
       "normalization_std_dev: 1"
      ]
     },
     "execution_count": 5,
     "metadata": {},
     "output_type": "execute_result"
    }
   ],
   "source": [
    "config_1 = Config(lower_bound=3,upper_bound=7, normalization_mean=5, normalization_std_dev=1)\n",
    "test_1 = DataCleaner(raw_data, config_1)\n",
    "test_1.trim()\n",
    "test_1.normalize()\n",
    "test_1.trim()\n",
    "config_1"
   ]
  },
  {
   "cell_type": "code",
   "execution_count": 6,
   "metadata": {},
   "outputs": [
    {
     "data": {
      "text/plain": [
       "lower_bound: 1\n",
       "upper_bound: 9\n",
       "normalization_mean: 5\n",
       "normalization_std_dev: 1"
      ]
     },
     "execution_count": 6,
     "metadata": {},
     "output_type": "execute_result"
    }
   ],
   "source": [
    "config_2 = Config(lower_bound=1,upper_bound=9, normalization_mean=5, normalization_std_dev=1)\n",
    "test_2 = DataCleaner(raw_data, config_2)\n",
    "test_2.trim()\n",
    "test_2.normalize()\n",
    "config_2"
   ]
  },
  {
   "cell_type": "code",
   "execution_count": 13,
   "metadata": {},
   "outputs": [
    {
     "name": "stdout",
     "output_type": "stream",
     "text": [
      "========================================\n",
      "lower_bound: 3\n",
      "upper_bound: 7\n",
      "normalization_mean: 5\n",
      "normalization_std_dev: 1\n",
      "Random metric: for demonstration purposes: 1.0\n",
      "========================================\n",
      "lower_bound: 1\n",
      "upper_bound: 9\n",
      "normalization_mean: 5\n",
      "normalization_std_dev: 1\n",
      "Random metric: for demonstration purposes: 0.9999999999999999\n"
     ]
    }
   ],
   "source": [
    "for config in [config_1,config_2]:\n",
    "    test = DataCleaner(raw_data, config)\n",
    "    test.trim()\n",
    "    test.normalize()\n",
    "    print(\"=\"*40)\n",
    "    print(config)\n",
    "    print(f\"Random metric: for demonstration purposes: {test.std_dev}\")"
   ]
  },
  {
   "cell_type": "code",
   "execution_count": 7,
   "metadata": {},
   "outputs": [
    {
     "data": {
      "text/plain": [
       "<matplotlib.collections.PathCollection at 0x7f2b7257a7f0>"
      ]
     },
     "execution_count": 7,
     "metadata": {},
     "output_type": "execute_result"
    },
    {
     "data": {
      "image/png": "[encoded data removed]",
      "text/plain": [
       "<Figure size 432x288 with 1 Axes>"
      ]
     },
     "metadata": {
      "needs_background": "light"
     },
     "output_type": "display_data"
    }
   ],
   "source": [
    "plt.scatter(x=test_1.data, y=test_2.data,)"
   ]
  },
  {
   "cell_type": "code",
   "execution_count": null,
   "metadata": {},
   "outputs": [],
   "source": []
  }
 ],
 "metadata": {
  "kernelspec": {
   "display_name": "Python 3",
   "language": "python",
   "name": "python3"
  },
  "language_info": {
   "codemirror_mode": {
    "name": "ipython",
    "version": 3
   },
   "file_extension": ".py",
   "mimetype": "text/x-python",
   "name": "python",
   "nbconvert_exporter": "python",
   "pygments_lexer": "ipython3",
   "version": "3.8.2"
  }
 },
 "nbformat": 4,
 "nbformat_minor": 4
}
