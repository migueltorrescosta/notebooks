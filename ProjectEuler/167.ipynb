{
 "cells": [
  {
   "cell_type": "code",
   "execution_count": 1,
   "id": "7d65cdbd-e644-4b71-8af7-8a431b527e77",
   "metadata": {},
   "source": [
    "import itertools\n",
    "from collections import Counter"
   ],
   "outputs": []
  },
  {
   "cell_type": "code",
   "execution_count": 2,
   "id": "ea7f27aa-fac6-465c-acb3-2b42e6236ed3",
   "metadata": {},
   "source": [
    "x = Counter([10, 21, 21])\n",
    "x"
   ],
   "outputs": []
  },
  {
   "cell_type": "code",
   "execution_count": 3,
   "id": "fa23f552-3e08-42b0-949f-f963844a8dde",
   "metadata": {},
   "source": [
    "x.keys()"
   ],
   "outputs": []
  },
  {
   "cell_type": "code",
   "execution_count": 13,
   "id": "c7c80a3d-c8f0-4950-bd5b-616b019b6fcb",
   "metadata": {},
   "source": [
    "def u(a, b, k):\n",
    "    if k == 1:\n",
    "        return {a}\n",
    "    elif k == 2:\n",
    "        return {a, b}\n",
    "    previous_members = u(a, b, k - 1)\n",
    "    sums = Counter(\n",
    "        [\n",
    "            i + j\n",
    "            for (i, j) in itertools.product(previous_members, previous_members)\n",
    "            if i < j\n",
    "        ]\n",
    "    )\n",
    "    least_unique = min(\n",
    "        {\n",
    "            number\n",
    "            for number, count in sums.items()\n",
    "            if count == 1 and number > max(previous_members)\n",
    "        }\n",
    "    )\n",
    "    return u(a, b, k - 1).union({least_unique})"
   ],
   "outputs": []
  },
  {
   "cell_type": "code",
   "execution_count": 14,
   "id": "77b6ab16-c523-4e5a-b9d8-f30e007aa56f",
   "metadata": {},
   "source": [
    "u(2, 11, 20)"
   ],
   "outputs": []
  },
  {
   "cell_type": "code",
   "execution_count": 15,
   "id": "30895538-2f46-464c-9383-8d1394061b5c",
   "metadata": {},
   "source": [
    "min({number for number, count in x.items() if count == 1 and number > max({1, 3})})"
   ],
   "outputs": []
  },
  {
   "cell_type": "code",
   "execution_count": 17,
   "id": "ff1492cf-ed7f-4f89-9525-5998133a45da",
   "metadata": {},
   "source": [
    "u(1, 2, 20)"
   ],
   "outputs": []
  },
  {
   "cell_type": "code",
   "execution_count": null,
   "id": "d66f21ac-0bc7-4851-aa96-343356c91934",
   "metadata": {},
   "source": [],
   "outputs": []
  }
 ],
 "metadata": {
  "kernelspec": {
   "display_name": "Python 3 (ipykernel)",
   "language": "python",
   "name": "python3"
  },
  "language_info": {
   "codemirror_mode": {
    "name": "ipython",
    "version": 3
   },
   "file_extension": ".py",
   "mimetype": "text/x-python",
   "name": "python",
   "nbconvert_exporter": "python",
   "pygments_lexer": "ipython3",
   "version": "3.11.6"
  }
 },
 "nbformat": 4,
 "nbformat_minor": 5
}
