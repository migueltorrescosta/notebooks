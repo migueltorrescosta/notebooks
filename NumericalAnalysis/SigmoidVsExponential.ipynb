{
 "cells": [
  {
   "cell_type": "code",
   "execution_count": 55,
   "metadata": {},
   "source": [
    "import matplotlib.pyplot as plt\n",
    "import functools\n",
    "import numpy as np\n",
    "import pandas as pd\n",
    "import math"
   ],
   "outputs": []
  },
  {
   "cell_type": "markdown",
   "metadata": {},
   "source": [
    "# Sigmoid vs Exponential Modelling"
   ]
  },
  {
   "cell_type": "markdown",
   "metadata": {},
   "source": [
    "The goal of this notebook is to study the differences in behaviour between sigmoids and exponentials prior to the sigmoids inflection point\n",
    "\n",
    "A sigmoid is described by $ \\frac{1}{1+e^{-x}}$, or if we want to take into account a center and scale factors it can be described as $ \\frac{\\beta}{1+e^{-\\alpha(x-c)}}+h$, so that the sigmoid has an inflection point at $c$, the $x$ axis is scaled by $\\alpha$ and the $y$ axis is scaled by $\\beta$\n",
    "\n",
    "An exponential is usually written as $e^x$, but can be described as $e^{\\alpha(x-c)}+h$ where $\\alpha$ is a scale factor and $c$ gives us a translation on the $x$ axis."
   ]
  },
  {
   "cell_type": "code",
   "execution_count": 11,
   "metadata": {},
   "source": [
    "def sigmoid(a, b, c, h, x):\n",
    "    return np.divide(b, 1 + math.exp(-a * (x - c))) + h\n",
    "\n",
    "\n",
    "def exponential(a, c, h, x):\n",
    "    return math.exp(a * (x - c)) + h"
   ],
   "outputs": []
  },
  {
   "cell_type": "code",
   "execution_count": 24,
   "metadata": {},
   "source": [
    "plt.scatter(\n",
    "    x=np.linspace(-5, 5, 101),\n",
    "    y=[sigmoid(a=1, b=1, c=0, h=0, x=x) for x in np.linspace(-5, 5, 101)],\n",
    ")"
   ],
   "outputs": []
  },
  {
   "cell_type": "code",
   "execution_count": 25,
   "metadata": {},
   "source": [
    "plt.scatter(\n",
    "    x=np.linspace(-5, 5, 101),\n",
    "    y=[exponential(a=1, c=0, h=0, x=x) for x in np.linspace(-5, 5, 101)],\n",
    ")"
   ],
   "outputs": []
  },
  {
   "cell_type": "markdown",
   "metadata": {},
   "source": [
    "Our methodology here will be to generate a few samples of either distribution, try to find the best fit to the data using both exponential and sigmoid functions, and compare how easy it is to distingush them.\n",
    "A key test will be to see if we can correctly guess the original dsitribution even though there is noise involved."
   ]
  },
  {
   "cell_type": "code",
   "execution_count": 60,
   "metadata": {},
   "source": [
    "class FittingClass:\n",
    "    def __init__(\n",
    "        self, distribution, lower_bound, upper_bound, sample_size, noise_function\n",
    "    ):\n",
    "        \"\"\"\n",
    "        :param distribution: a one parameter distribution over time. This will usually be a sigmoid or an exponential.\n",
    "        :param lower_bound: the moment at which we start gethering data on the given function\n",
    "        :param upper_bound: the last moment at which we start gethering data\n",
    "        :param sample_size: the number of data points we want to gather.\n",
    "        :param noise_function: A function that given an integer n, returns the noise for n data points. Usually these are assumed to be independent, but this might not be the case.\n",
    "        \"\"\"\n",
    "        self.lower_bound = lower_bound\n",
    "        self.upper_bound = upper_bound\n",
    "        self.distribution = distribution\n",
    "        self.noise_function = noise_function\n",
    "        self.sample_size = sample_size\n",
    "        self.sample = self.generate_sample()\n",
    "        self.plot_sample()\n",
    "\n",
    "    def generate_sample(self):\n",
    "        x = np.linspace(self.lower_bound, self.upper_bound, self.sample_size)\n",
    "        y = np.array([self.distribution(x=z) for z in x]) + np.array(\n",
    "            self.noise_function(self.sample_size)\n",
    "        )\n",
    "        return pd.DataFrame({\"x\": x, \"y\": y})\n",
    "\n",
    "    def fit_sigmoid(self):\n",
    "        pass\n",
    "\n",
    "    def fit_exponential(self):\n",
    "        pass\n",
    "\n",
    "    def print_metrics(self):\n",
    "        pass\n",
    "\n",
    "    def plot_sample(self):\n",
    "        plt.scatter(x=self.sample[\"x\"], y=self.sample[\"y\"])"
   ],
   "outputs": []
  },
  {
   "cell_type": "code",
   "execution_count": 65,
   "metadata": {},
   "source": [
    "z = FittingClass(\n",
    "    distribution=functools.partial(sigmoid, a=1, b=1, c=3, h=0),\n",
    "    lower_bound=0,\n",
    "    upper_bound=3,\n",
    "    sample_size=21,\n",
    "    noise_function=lambda n: [0] * n,\n",
    ")"
   ],
   "outputs": []
  },
  {
   "cell_type": "code",
   "execution_count": null,
   "metadata": {},
   "source": [],
   "outputs": []
  }
 ],
 "metadata": {
  "kernelspec": {
   "display_name": "Python 3 (ipykernel)",
   "language": "python",
   "name": "python3"
  },
  "language_info": {
   "codemirror_mode": {
    "name": "ipython",
    "version": 3
   },
   "file_extension": ".py",
   "mimetype": "text/x-python",
   "name": "python",
   "nbconvert_exporter": "python",
   "pygments_lexer": "ipython3",
   "version": "3.11.6"
  }
 },
 "nbformat": 4,
 "nbformat_minor": 4
}
