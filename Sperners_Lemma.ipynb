{
 "cells": [
  {
   "cell_type": "markdown",
   "id": "2eec8858-1255-4344-a00a-80910633dc6a",
   "metadata": {},
   "source": [
    "# Methodology for splitting $a$ assets fairly between $n$ people\n",
    "\n",
    "## Rought idea\n",
    "\n",
    "We have $a$ assets and $p$ people. Each assets gets priced individually. By asking people about preferences, we can update the prices, adjusting for group ( average ) preferences and individual preferences. [Sperner's Lemma](https://en.wikipedia.org/wiki/Sperner%27s_lemma) ensures that there will always be a solution where everyone is satisfied with the asset division. The challenge is to minimize the number of questions we ask before we reach an optimal solution\n",
    "\n",
    "## Approach\n",
    "\n",
    "1. Given that we have $n$ people, each question will divide the assets into $n$ groups, and ask the user to choose their favorite asset.\n",
    "2. The group can provide estimates of the original prices ( to speed up finding a solution ).\n",
    "3. We will store our belief of prices as an $a$-dimentional normal distribution.\n",
    "4. With every question, we are drawing a line in the possible values of the prices, and asking the user on which side of the line the true price is. To avoid fully blocking out regions of the $\\mathbb{Z}^a$ plane, we will take the new mean and variance of the now [Truncateed Gaussian Distribution](https://en.wikipedia.org/wiki/Truncated_normal_distribution), and model our new knowledge as a Gaussian still.\n",
    "5. We model both the average price $X$, and the individual user adjustments $X_i$, such that we have the constraints $\\sum_{i}^{p}X_i = 0$, and user $i$'s preferences are correctly represented by $X+X_i$\n",
    "6. After some iterations we should have a split of the assets in $n$ groups, such that each individual chooses a different group."
   ]
  }
 ],
 "metadata": {
  "kernelspec": {
   "display_name": "Python 3 (ipykernel)",
   "language": "python",
   "name": "python3"
  },
  "language_info": {
   "codemirror_mode": {
    "name": "ipython",
    "version": 3
   },
   "file_extension": ".py",
   "mimetype": "text/x-python",
   "name": "python",
   "nbconvert_exporter": "python",
   "pygments_lexer": "ipython3",
   "version": "3.11.3"
  }
 },
 "nbformat": 4,
 "nbformat_minor": 5
}
