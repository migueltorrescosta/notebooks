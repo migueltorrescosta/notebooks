{
 "cells": [
  {
   "metadata": {},
   "cell_type": "markdown",
   "source": [
    "# Goal\n",
    "\n",
    "We want to migrate our machines and apps to a new system. To do so we consider having:\n",
    "- $N$ machines, each having different CPU/Memory abilities.\n",
    "- $A$ apps, which have distinct CPU/memory requirements and can run in any subset of the $N$ machines\n",
    "- A source and target cluster manager. At first All physical machines are running in the source, and we want the all to run in the target cluster."
   ],
   "id": "181a24df68a74df"
  },
  {
   "metadata": {
    "ExecuteTime": {
     "end_time": "2024-07-31T12:02:27.511818Z",
     "start_time": "2024-07-31T12:02:27.500786Z"
    }
   },
   "cell_type": "code",
   "source": [
    "from dataclasses import dataclass\n",
    "from typing import List, Set\n",
    "\n",
    "@dataclass(frozen=True)\n",
    "class Machine:\n",
    "    name: str\n",
    "    cpu: int\n",
    "    memory: int\n",
    "    migrated: bool = False\n",
    "    \n",
    "    @property \n",
    "    def id(self):\n",
    "        return self.__hash__()\n",
    "\n",
    "@dataclass(frozen=True)\n",
    "class App:\n",
    "    name: str\n",
    "    cpu: int\n",
    "    memory: int\n",
    "    machines: Set[Machine]\n",
    "    \n",
    "    @property \n",
    "    def id(self):\n",
    "        return self.__hash__()"
   ],
   "id": "5856f57fb660e545",
   "outputs": [],
   "execution_count": 72
  },
  {
   "metadata": {},
   "cell_type": "markdown",
   "source": [
    "# State\n",
    "\n",
    "We define the state of our system as the list of machines and associated apps. We also provide a \"slack\" function that approximates the "
   ],
   "id": "ae375d35c0549789"
  },
  {
   "metadata": {
    "ExecuteTime": {
     "end_time": "2024-07-31T12:02:29.685729Z",
     "start_time": "2024-07-31T12:02:29.671520Z"
    }
   },
   "cell_type": "code",
   "source": [
    "@dataclass(frozen=True)\n",
    "class State:\n",
    "    machines: Set[Machine]\n",
    "    apps: Set[App]\n",
    "    \n",
    "    @property \n",
    "    def id(self):\n",
    "        return self.__hash__()\n",
    "    \n",
    "    # This method is good enough for finding solutions, but better slack functions exist\n",
    "    def minimum_slack_for_an_app(self) -> float:\n",
    "        minimum_cpu_slack = float(\"inf\")\n",
    "        minimum_memory_slack = float(\"inf\")\n",
    "        \n",
    "        for app in self.apps:\n",
    "            \n",
    "            cpu_slack = 0\n",
    "            memory_slack = 0\n",
    "            \n",
    "            for machine in app.machines:\n",
    "                cpu_needed = sum([app.cpu for app in self.apps if machine in app.machines])\n",
    "                cpu_slack += machine.cpu - cpu_needed\n",
    "                memory_needed = sum([app.memory for app in self.apps if machine in app.machines])\n",
    "                memory_slack += machine.cpu - memory_needed\n",
    "\n",
    "            minimum_cpu_slack = min(minimum_cpu_slack, cpu_slack)\n",
    "            minimum_memory_slack = min(minimum_memory_slack, memory_slack)\n",
    "            \n",
    "        return min(minimum_cpu_slack, minimum_memory_slack)\n",
    "\n",
    "\n",
    "    def n_machines_to_migrate(self) -> int:\n",
    "        return len([m for m in self.machines if not m.migrated])\n",
    "    \n",
    "    def least_number_of_apps_in_non_migrated_machine(self) -> float:\n",
    "        assert len([machine for machine in self.machines if machine.migrated==False]), \"All machines have been migrated\"\n",
    "        return min([\n",
    "            len([app for app in self.apps if machine in app.machines])\n",
    "            for machine\n",
    "            in self.machines\n",
    "            if machine.migrated==False\n",
    "        ])"
   ],
   "id": "fcdc39c86ad32462",
   "outputs": [],
   "execution_count": 73
  },
  {
   "metadata": {
    "ExecuteTime": {
     "end_time": "2024-07-31T12:02:31.251322Z",
     "start_time": "2024-07-31T12:02:31.243657Z"
    }
   },
   "cell_type": "code",
   "source": [
    "machines = [\n",
    "    Machine(name=\"M1\", cpu=5, memory=6, migrated=False),\n",
    "    Machine(name=\"M2\", cpu=3, memory=4, migrated=False),\n",
    "    Machine(name=\"M3\", cpu=2, memory=2, migrated=False),\n",
    "]\n",
    "apps = [\n",
    "    App(name=\"A1\", cpu=1, memory=1, machines=frozenset(machines[0:2])),\n",
    "    App(name=\"A2\", cpu=1, memory=1, machines=frozenset(machines[2:3])),\n",
    "]\n",
    "state = State(machines=frozenset(machines), apps=frozenset(apps))"
   ],
   "id": "c71daca9aafb3fc6",
   "outputs": [],
   "execution_count": 74
  },
  {
   "metadata": {},
   "cell_type": "markdown",
   "source": [
    "# A* algorithm\n",
    "\n",
    "Given that we have structured our states, we can apply the A* algorithm. We require a\n",
    "- generate_neighbours function, which sets both the path cost $f$ and remaining estimated cost $h$\n",
    "- boolean method to determine whether a state is a target "
   ],
   "id": "a2458b19e97092fb"
  },
  {
   "metadata": {},
   "cell_type": "code",
   "outputs": [],
   "execution_count": null,
   "source": [
    "from abc import ABC, abstractmethod\n",
    "from typing import Generic, TypeVar, Dict, Optional\n",
    "from dataclasses import field\n",
    "\n",
    "T = TypeVar(\"T\")\n",
    "\n",
    "@dataclass\n",
    "class Path:\n",
    "    head: T\n",
    "    previous_state: Optional[Path]\n",
    "    message: Optional[str] = None\n",
    "    path: List[T] = field(default_factory=lambda: [])\n",
    "    f: float = 0\n",
    "    h: float = float(\"inf\")\n",
    "\n",
    "class MigrateClusters:\n",
    "    # https://en.wikipedia.org/wiki/A*_search_algorithm\n",
    "\n",
    "    def __init__(self, initial_configuration: T):\n",
    "        self.paths_to_explore: Set[Path] = {Path(head=initial_configuration)}\n",
    "        self.explored_states: Set[T] = set()\n",
    "    \n",
    "    @abstractmethod\n",
    "    def neighbours(self, state: Path) -> Set[Path]:\n",
    "        pass\n",
    "    \n",
    "    @abstractmethod\n",
    "    def is_target_state(self, state: Path) -> bool:\n",
    "        pass\n",
    "    \n",
    "    # This contains the core of the A* algorithm\n",
    "    def get_result(self):\n",
    "        \n",
    "        is_target_reached = len([\n",
    "            partial_path\n",
    "            for partial_path\n",
    "            in self.paths_to_explore\n",
    "            if self.is_target_state(partial_path.head)\n",
    "        ]) > 0 \n",
    "        if is_target_reached:\n",
    "            return [state for state in self.paths_to_explore.keys() if self.is_target_state(state)][0]\n",
    "        \n",
    "        current_path = min(self.paths_to_explore, key=lambda pp: pp.f + pp.h)\n",
    "        new_neighbours = [\n",
    "            n\n",
    "            for n in self.neighbours(current_path)\n",
    "            if n.head not in \n",
    "               [p.head for p in self.explored_states + self.paths_to_explore]\n",
    "        ] # TODO: I should keep the minimum cost here rather than the 1st found solution :/\n",
    "        self.paths_to_explore |= new_neighbours \n",
    "        "
   ],
   "id": "7ac065491967e7"
  },
  {
   "metadata": {
    "ExecuteTime": {
     "end_time": "2024-07-31T10:52:39.463430Z",
     "start_time": "2024-07-31T10:52:39.458294Z"
    }
   },
   "cell_type": "code",
   "source": "z = {1,2}",
   "id": "6b918af5f05ba503",
   "outputs": [],
   "execution_count": 22
  },
  {
   "metadata": {
    "ExecuteTime": {
     "end_time": "2024-07-31T10:54:03.023319Z",
     "start_time": "2024-07-31T10:54:03.019430Z"
    }
   },
   "cell_type": "code",
   "source": [
    "z |= {6,4}\n",
    "z"
   ],
   "id": "6578348c5f9676d6",
   "outputs": [
    {
     "data": {
      "text/plain": [
       "{1, 2, 3, 4, 6}"
      ]
     },
     "execution_count": 31,
     "metadata": {},
     "output_type": "execute_result"
    }
   ],
   "execution_count": 31
  },
  {
   "metadata": {
    "ExecuteTime": {
     "end_time": "2024-07-31T10:53:56.916335Z",
     "start_time": "2024-07-31T10:53:56.912234Z"
    }
   },
   "cell_type": "code",
   "source": "{1,2} | {5,4}",
   "id": "773a2816d1d0c76",
   "outputs": [
    {
     "data": {
      "text/plain": [
       "{1, 2, 4, 5}"
      ]
     },
     "execution_count": 30,
     "metadata": {},
     "output_type": "execute_result"
    }
   ],
   "execution_count": 30
  },
  {
   "metadata": {},
   "cell_type": "code",
   "outputs": [],
   "execution_count": null,
   "source": "",
   "id": "b13a67aa12a5a1bf"
  }
 ],
 "metadata": {
  "kernelspec": {
   "display_name": "Python 3",
   "language": "python",
   "name": "python3"
  },
  "language_info": {
   "codemirror_mode": {
    "name": "ipython",
    "version": 2
   },
   "file_extension": ".py",
   "mimetype": "text/x-python",
   "name": "python",
   "nbconvert_exporter": "python",
   "pygments_lexer": "ipython2",
   "version": "2.7.6"
  }
 },
 "nbformat": 4,
 "nbformat_minor": 5
}
