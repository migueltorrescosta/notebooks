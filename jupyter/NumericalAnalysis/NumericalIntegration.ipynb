{
 "cells": [
  {
   "metadata": {},
   "cell_type": "markdown",
   "source": [
    "# Goal\n",
    "\n",
    "We want to compare the stability of different numerical integration solutions. A few considerations:\n",
    "- For simplicity, we only considered one dimensional functions, $\\mathbb{R} \\rightarrow \\mathbb{R}$.\n",
    "- We will vary the interval of integration using exponentially distributed endpoints, i.e. we calculate $\\int_a^b$ with $a,b \\sim Exp(1)$. This implies that $a,b \\in \\mathbb{R}^+$\n",
    "- We will consider different test functions to compare the performance of the numerical integrator under different behaviours.\n",
    "- We will NOT have singularities in any interval. Singularities might exist at $0$, such as with the test function $\\sin ( x^{-1} )$\n"
   ],
   "id": "8585ccd505cf9396"
  },
  {
   "metadata": {
    "ExecuteTime": {
     "end_time": "2024-08-01T09:02:17.610737Z",
     "start_time": "2024-08-01T09:02:17.606305Z"
    }
   },
   "cell_type": "code",
   "source": [
    "from dataclasses import dataclass\n",
    "from collections.abc import Callable\n",
    "\n",
    "@dataclass\n",
    "class TestFunction:\n",
    "        name: str\n",
    "        distribution: Callable[[float], float] # f(x)\n",
    "        cumulative: Callable[[float], float] # F(x)\n",
    "        \n",
    "@dataclass\n",
    "class Integrator:\n",
    "        name: str\n",
    "        integral: Callable[[Callable[[float], float], float, float], float]"
   ],
   "id": "2a6f2f9c4cad13d3",
   "execution_count": 1,
   "outputs": []
  },
  {
   "metadata": {},
   "cell_type": "markdown",
   "source": "# Test functions",
   "id": "9cfeb00716ea4a5d"
  },
  {
   "metadata": {
    "ExecuteTime": {
     "end_time": "2024-08-01T09:02:17.631816Z",
     "start_time": "2024-08-01T09:02:17.612117Z"
    }
   },
   "cell_type": "code",
   "source": [
    "import math\n",
    "test_functions = [\n",
    "        TestFunction(name=\"sin\", distribution=math.sin, cumulative=lambda x: - 1 * math.cos(x)),\n",
    "        TestFunction(name=\"quadratic\", distribution=lambda x: x**2, cumulative=lambda x: x**3/3),\n",
    "        TestFunction(name=\"asymmetric\", distribution=lambda x: x**(-11), cumulative=lambda x: -1 * x**(-10)/10),\n",
    "        TestFunction(name=\"step\", distribution=lambda x: 1 if x<3 else 0, cumulative=lambda x: x if x<3 else 3)\n",
    "]"
   ],
   "id": "f0d6a7c5833a467e",
   "execution_count": 2,
   "outputs": []
  },
  {
   "metadata": {
    "ExecuteTime": {
     "end_time": "2024-08-01T09:02:17.786177Z",
     "start_time": "2024-08-01T09:02:17.633100Z"
    }
   },
   "cell_type": "code",
   "source": [
    "import matplotlib.pyplot as plt \n",
    "import numpy as np\n",
    "\n",
    "x = np.arange(0.05,10,.01)\n",
    " \n",
    "plt.figure(figsize=(15,3))\n",
    "for function in test_functions:\n",
    "        plt.plot(x, [function.distribution(z) for z in x], label = function.name)\n",
    "plt.legend()\n",
    "plt.ylim(-1.5, 5)\n",
    "plt.show()"
   ],
   "id": "ca227ed166fb67e0",
   "execution_count": 3,
   "outputs": []
  },
  {
   "metadata": {},
   "cell_type": "markdown",
   "source": "# Integrators",
   "id": "995e050420c77526"
  },
  {
   "metadata": {
    "ExecuteTime": {
     "end_time": "2024-08-01T09:02:17.790420Z",
     "start_time": "2024-08-01T09:02:17.787144Z"
    }
   },
   "cell_type": "code",
   "source": [
    "import scipy\n",
    "integrators = [\n",
    "        Integrator(name=\"scipy_quad\", integral=lambda fun, a, b: scipy.integrate.quad(fun, a, b)[0]),\n",
    "        Integrator(name=\"fixed_quad\", integral=lambda fun, a, b: scipy.integrate.fixed_quad(lambda x: fun(x[0]), a, b)[0]),\n",
    "        # IntegrationAlgorithm(name=\"scipy_qmc_quad\", integral=lambda fun, a, b: scipy.integrate.qmc_quad(lambda (x,n): [fun(z) for z in x], [a], [b]).integral),\n",
    "]"
   ],
   "id": "75350ef06705c271",
   "execution_count": 4,
   "outputs": []
  },
  {
   "metadata": {},
   "cell_type": "markdown",
   "source": "# Dataset creation",
   "id": "a92e9e679bd51fa3"
  },
  {
   "metadata": {
    "ExecuteTime": {
     "end_time": "2024-08-01T09:02:23.144323Z",
     "start_time": "2024-08-01T09:02:17.791432Z"
    }
   },
   "cell_type": "code",
   "source": [
    "from itertools import product\n",
    "from tqdm import tqdm\n",
    "import pandas as pd\n",
    "import numpy as np\n",
    "\n",
    "df = pd.DataFrame(columns=[\"test_function\", \"integration_algorithm\", \"a\", \"b\", \"integral\", \"estimated_integral\"])\n",
    "n_samples = 1000\n",
    "iterator = product(\n",
    "        test_functions,\n",
    "        integrators,\n",
    "        np.random.exponential(1, size=(n_samples, 2))\n",
    ")\n",
    "total = len(test_functions) * len(integrators) * n_samples\n",
    "\n",
    "for function, integrator, bounds in tqdm(iterator, total=total):\n",
    "        \n",
    "        lower_bound, upper_bound = min(bounds), max(bounds)\n",
    "        df.loc[len(df.index)] = [\n",
    "                function.name,\n",
    "                integrator.name,\n",
    "                lower_bound,\n",
    "                upper_bound,\n",
    "                function.cumulative(upper_bound) - function.cumulative(lower_bound),\n",
    "                integrator.integral(function.distribution, lower_bound, upper_bound)\n",
    "        ] "
   ],
   "id": "49cc2cf61a5fdb62",
   "execution_count": 5,
   "outputs": []
  },
  {
   "metadata": {},
   "cell_type": "markdown",
   "source": "# Analysis of results",
   "id": "771808e4ea29cdff"
  },
  {
   "metadata": {
    "ExecuteTime": {
     "end_time": "2024-08-01T09:02:23.155926Z",
     "start_time": "2024-08-01T09:02:23.145275Z"
    }
   },
   "cell_type": "code",
   "source": [
    "df[\"relative_error\"] = (df[\"estimated_integral\"] - df[\"integral\"])/ df[\"integral\"]\n",
    "df.head()"
   ],
   "id": "9c6a6e5a31bbcd20",
   "execution_count": 6,
   "outputs": []
  },
  {
   "metadata": {},
   "cell_type": "markdown",
   "source": "# Relative errors",
   "id": "1611fbeee77382eb"
  },
  {
   "metadata": {
    "ExecuteTime": {
     "end_time": "2024-08-01T09:02:23.512939Z",
     "start_time": "2024-08-01T09:02:23.156895Z"
    }
   },
   "cell_type": "code",
   "source": [
    "import seaborn as sns\n",
    "from matplotlib import pyplot as plt\n",
    "fig, ax = plt.subplots(figsize=(15,3))\n",
    "sns.scatterplot(x='estimated_integral', y='integral', hue='integration_algorithm', data=df)\n",
    "plt.xlim(-2,20)\n",
    "plt.ylim(-2,20)\n",
    "plt.show()"
   ],
   "id": "23976517f6032e25",
   "execution_count": 7,
   "outputs": []
  },
  {
   "metadata": {},
   "cell_type": "markdown",
   "source": [
    "# Higher errors\n",
    "\n",
    "Most of the integrals with high errors use the `fixed_quad` approach on the assymetric $x^{-10}$ function, which is natural given that the value of the integral explodes in that range"
   ],
   "id": "250c46da86df89d6"
  },
  {
   "metadata": {
    "ExecuteTime": {
     "end_time": "2024-08-01T09:02:23.517432Z",
     "start_time": "2024-08-01T09:02:23.514386Z"
    }
   },
   "cell_type": "code",
   "source": "outliers = np.logical_or(df[\"relative_error\"]<-.5, df[\"relative_error\"]>.5)",
   "id": "ff9233b0b2c75e02",
   "execution_count": 8,
   "outputs": []
  },
  {
   "metadata": {
    "ExecuteTime": {
     "end_time": "2024-08-01T09:02:23.766350Z",
     "start_time": "2024-08-01T09:02:23.518431Z"
    }
   },
   "cell_type": "code",
   "source": [
    "fig, ax = plt.subplots(figsize=(15,3))\n",
    "sns.scatterplot(x='b', y='a', hue='test_function', data=df[outliers]) \n",
    "plt.show()"
   ],
   "id": "b9ec27c2ff57faed",
   "execution_count": 9,
   "outputs": []
  },
  {
   "metadata": {
    "ExecuteTime": {
     "end_time": "2024-08-01T09:02:23.954494Z",
     "start_time": "2024-08-01T09:02:23.767360Z"
    }
   },
   "cell_type": "code",
   "source": [
    "fig, ax = plt.subplots(figsize=(15,3))\n",
    "sns.scatterplot(x='b', y='a', hue='integration_algorithm', data=df[outliers]) \n",
    "plt.show()"
   ],
   "id": "b7fb5b5cb4f7323d",
   "execution_count": 10,
   "outputs": []
  }
 ],
 "metadata": {
  "kernelspec": {
   "display_name": "Python 3",
   "language": "python",
   "name": "python3"
  },
  "language_info": {
   "codemirror_mode": {
    "name": "ipython",
    "version": 2
   },
   "file_extension": ".py",
   "mimetype": "text/x-python",
   "name": "python",
   "nbconvert_exporter": "python",
   "pygments_lexer": "ipython2",
   "version": "2.7.6"
  }
 },
 "nbformat": 4,
 "nbformat_minor": 5
}
