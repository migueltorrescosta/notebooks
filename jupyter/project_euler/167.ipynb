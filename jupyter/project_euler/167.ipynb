{
 "cells": [
  {
   "cell_type": "code",
   "id": "7d65cdbd-e644-4b71-8af7-8a431b527e77",
   "metadata": {
    "ExecuteTime": {
     "end_time": "2024-12-24T12:58:05.353224Z",
     "start_time": "2024-12-24T12:58:05.349988Z"
    }
   },
   "source": [
    "# https://projecteuler.net/problem=167\n",
    "import itertools\n",
    "from collections import Counter"
   ],
   "outputs": [],
   "execution_count": 1
  },
  {
   "cell_type": "code",
   "id": "ea7f27aa-fac6-465c-acb3-2b42e6236ed3",
   "metadata": {
    "ExecuteTime": {
     "end_time": "2024-12-24T12:58:05.411177Z",
     "start_time": "2024-12-24T12:58:05.398912Z"
    }
   },
   "source": [
    "x = Counter([10, 21, 21])\n",
    "x"
   ],
   "outputs": [
    {
     "data": {
      "text/plain": [
       "Counter({21: 2, 10: 1})"
      ]
     },
     "execution_count": 2,
     "metadata": {},
     "output_type": "execute_result"
    }
   ],
   "execution_count": 2
  },
  {
   "cell_type": "code",
   "id": "fa23f552-3e08-42b0-949f-f963844a8dde",
   "metadata": {
    "ExecuteTime": {
     "end_time": "2024-12-24T12:58:05.616877Z",
     "start_time": "2024-12-24T12:58:05.613347Z"
    }
   },
   "source": [
    "x.keys()"
   ],
   "outputs": [
    {
     "data": {
      "text/plain": [
       "dict_keys([10, 21])"
      ]
     },
     "execution_count": 3,
     "metadata": {},
     "output_type": "execute_result"
    }
   ],
   "execution_count": 3
  },
  {
   "cell_type": "code",
   "id": "c7c80a3d-c8f0-4950-bd5b-616b019b6fcb",
   "metadata": {
    "ExecuteTime": {
     "end_time": "2024-12-24T12:58:05.668934Z",
     "start_time": "2024-12-24T12:58:05.661098Z"
    }
   },
   "source": [
    "def u(a, b, k):\n",
    "    if k == 1:\n",
    "        return {a}\n",
    "    elif k == 2:\n",
    "        return {a, b}\n",
    "    previous_members = u(a, b, k - 1)\n",
    "    sums = Counter(\n",
    "        [\n",
    "            i + j\n",
    "            for (i, j) in itertools.product(previous_members, previous_members)\n",
    "            if i < j\n",
    "        ]\n",
    "    )\n",
    "    least_unique = min(\n",
    "        {\n",
    "            number\n",
    "            for number, count in sums.items()\n",
    "            if count == 1 and number > max(previous_members)\n",
    "        }\n",
    "    )\n",
    "    return u(a, b, k - 1).union({least_unique})"
   ],
   "outputs": [],
   "execution_count": 4
  },
  {
   "cell_type": "code",
   "id": "77b6ab16-c523-4e5a-b9d8-f30e007aa56f",
   "metadata": {
    "ExecuteTime": {
     "end_time": "2024-12-24T12:58:06.638568Z",
     "start_time": "2024-12-24T12:58:05.710306Z"
    }
   },
   "source": [
    "u(2, 11, 20)"
   ],
   "outputs": [
    {
     "data": {
      "text/plain": [
       "{2, 11, 13, 15, 17, 19, 21, 23, 24, 25, 27, 29, 31, 33, 37, 41, 45, 49, 53, 57}"
      ]
     },
     "execution_count": 5,
     "metadata": {},
     "output_type": "execute_result"
    }
   ],
   "execution_count": 5
  },
  {
   "cell_type": "code",
   "id": "30895538-2f46-464c-9383-8d1394061b5c",
   "metadata": {
    "ExecuteTime": {
     "end_time": "2024-12-24T12:58:06.662458Z",
     "start_time": "2024-12-24T12:58:06.657237Z"
    }
   },
   "source": [
    "min({number for number, count in x.items() if count == 1 and number > max({1, 3})})"
   ],
   "outputs": [
    {
     "data": {
      "text/plain": [
       "10"
      ]
     },
     "execution_count": 6,
     "metadata": {},
     "output_type": "execute_result"
    }
   ],
   "execution_count": 6
  },
  {
   "cell_type": "code",
   "id": "ff1492cf-ed7f-4f89-9525-5998133a45da",
   "metadata": {
    "ExecuteTime": {
     "end_time": "2024-12-24T12:58:07.587680Z",
     "start_time": "2024-12-24T12:58:06.707355Z"
    }
   },
   "source": [
    "u(1, 2, 20)"
   ],
   "outputs": [
    {
     "data": {
      "text/plain": [
       "{1, 2, 3, 4, 6, 8, 11, 13, 16, 18, 26, 28, 36, 38, 47, 48, 53, 57, 62, 69}"
      ]
     },
     "execution_count": 7,
     "metadata": {},
     "output_type": "execute_result"
    }
   ],
   "execution_count": 7
  },
  {
   "cell_type": "code",
   "id": "d66f21ac-0bc7-4851-aa96-343356c91934",
   "metadata": {
    "ExecuteTime": {
     "end_time": "2024-12-24T12:59:25.957836Z",
     "start_time": "2024-12-24T12:59:25.027363Z"
    }
   },
   "source": [
    "import numpy as np\n",
    "[max(u(2, 2*n+1, 10**11)) for n in range(2, 11)]"
   ],
   "outputs": [
    {
     "ename": "RecursionError",
     "evalue": "maximum recursion depth exceeded",
     "output_type": "error",
     "traceback": [
      "\u001B[0;31m---------------------------------------------------------------------------\u001B[0m",
      "\u001B[0;31mRecursionError\u001B[0m                            Traceback (most recent call last)",
      "Cell \u001B[0;32mIn[13], line 2\u001B[0m\n\u001B[1;32m      1\u001B[0m \u001B[38;5;28;01mimport\u001B[39;00m \u001B[38;5;21;01mnumpy\u001B[39;00m \u001B[38;5;28;01mas\u001B[39;00m \u001B[38;5;21;01mnp\u001B[39;00m\n\u001B[0;32m----> 2\u001B[0m [\u001B[38;5;28mmax\u001B[39m(\u001B[43mu\u001B[49m\u001B[43m(\u001B[49m\u001B[38;5;241;43m2\u001B[39;49m\u001B[43m,\u001B[49m\u001B[43m \u001B[49m\u001B[38;5;241;43m2\u001B[39;49m\u001B[38;5;241;43m*\u001B[39;49m\u001B[43mn\u001B[49m\u001B[38;5;241;43m+\u001B[39;49m\u001B[38;5;241;43m1\u001B[39;49m\u001B[43m,\u001B[49m\u001B[43m \u001B[49m\u001B[38;5;241;43m10\u001B[39;49m\u001B[38;5;241;43m*\u001B[39;49m\u001B[38;5;241;43m*\u001B[39;49m\u001B[38;5;241;43m11\u001B[39;49m\u001B[43m)\u001B[49m) \u001B[38;5;28;01mfor\u001B[39;00m n \u001B[38;5;129;01min\u001B[39;00m \u001B[38;5;28mrange\u001B[39m(\u001B[38;5;241m2\u001B[39m, \u001B[38;5;241m11\u001B[39m)]\n",
      "Cell \u001B[0;32mIn[4], line 6\u001B[0m, in \u001B[0;36mu\u001B[0;34m(a, b, k)\u001B[0m\n\u001B[1;32m      4\u001B[0m \u001B[38;5;28;01melif\u001B[39;00m k \u001B[38;5;241m==\u001B[39m \u001B[38;5;241m2\u001B[39m:\n\u001B[1;32m      5\u001B[0m     \u001B[38;5;28;01mreturn\u001B[39;00m {a, b}\n\u001B[0;32m----> 6\u001B[0m previous_members \u001B[38;5;241m=\u001B[39m \u001B[43mu\u001B[49m\u001B[43m(\u001B[49m\u001B[43ma\u001B[49m\u001B[43m,\u001B[49m\u001B[43m \u001B[49m\u001B[43mb\u001B[49m\u001B[43m,\u001B[49m\u001B[43m \u001B[49m\u001B[43mk\u001B[49m\u001B[43m \u001B[49m\u001B[38;5;241;43m-\u001B[39;49m\u001B[43m \u001B[49m\u001B[38;5;241;43m1\u001B[39;49m\u001B[43m)\u001B[49m\n\u001B[1;32m      7\u001B[0m sums \u001B[38;5;241m=\u001B[39m Counter(\n\u001B[1;32m      8\u001B[0m     [\n\u001B[1;32m      9\u001B[0m         i \u001B[38;5;241m+\u001B[39m j\n\u001B[0;32m   (...)\u001B[0m\n\u001B[1;32m     12\u001B[0m     ]\n\u001B[1;32m     13\u001B[0m )\n\u001B[1;32m     14\u001B[0m least_unique \u001B[38;5;241m=\u001B[39m \u001B[38;5;28mmin\u001B[39m(\n\u001B[1;32m     15\u001B[0m     {\n\u001B[1;32m     16\u001B[0m         number\n\u001B[0;32m   (...)\u001B[0m\n\u001B[1;32m     19\u001B[0m     }\n\u001B[1;32m     20\u001B[0m )\n",
      "Cell \u001B[0;32mIn[4], line 6\u001B[0m, in \u001B[0;36mu\u001B[0;34m(a, b, k)\u001B[0m\n\u001B[1;32m      4\u001B[0m \u001B[38;5;28;01melif\u001B[39;00m k \u001B[38;5;241m==\u001B[39m \u001B[38;5;241m2\u001B[39m:\n\u001B[1;32m      5\u001B[0m     \u001B[38;5;28;01mreturn\u001B[39;00m {a, b}\n\u001B[0;32m----> 6\u001B[0m previous_members \u001B[38;5;241m=\u001B[39m \u001B[43mu\u001B[49m\u001B[43m(\u001B[49m\u001B[43ma\u001B[49m\u001B[43m,\u001B[49m\u001B[43m \u001B[49m\u001B[43mb\u001B[49m\u001B[43m,\u001B[49m\u001B[43m \u001B[49m\u001B[43mk\u001B[49m\u001B[43m \u001B[49m\u001B[38;5;241;43m-\u001B[39;49m\u001B[43m \u001B[49m\u001B[38;5;241;43m1\u001B[39;49m\u001B[43m)\u001B[49m\n\u001B[1;32m      7\u001B[0m sums \u001B[38;5;241m=\u001B[39m Counter(\n\u001B[1;32m      8\u001B[0m     [\n\u001B[1;32m      9\u001B[0m         i \u001B[38;5;241m+\u001B[39m j\n\u001B[0;32m   (...)\u001B[0m\n\u001B[1;32m     12\u001B[0m     ]\n\u001B[1;32m     13\u001B[0m )\n\u001B[1;32m     14\u001B[0m least_unique \u001B[38;5;241m=\u001B[39m \u001B[38;5;28mmin\u001B[39m(\n\u001B[1;32m     15\u001B[0m     {\n\u001B[1;32m     16\u001B[0m         number\n\u001B[0;32m   (...)\u001B[0m\n\u001B[1;32m     19\u001B[0m     }\n\u001B[1;32m     20\u001B[0m )\n",
      "    \u001B[0;31m[... skipping similar frames: u at line 6 (2974 times)]\u001B[0m\n",
      "Cell \u001B[0;32mIn[4], line 6\u001B[0m, in \u001B[0;36mu\u001B[0;34m(a, b, k)\u001B[0m\n\u001B[1;32m      4\u001B[0m \u001B[38;5;28;01melif\u001B[39;00m k \u001B[38;5;241m==\u001B[39m \u001B[38;5;241m2\u001B[39m:\n\u001B[1;32m      5\u001B[0m     \u001B[38;5;28;01mreturn\u001B[39;00m {a, b}\n\u001B[0;32m----> 6\u001B[0m previous_members \u001B[38;5;241m=\u001B[39m \u001B[43mu\u001B[49m\u001B[43m(\u001B[49m\u001B[43ma\u001B[49m\u001B[43m,\u001B[49m\u001B[43m \u001B[49m\u001B[43mb\u001B[49m\u001B[43m,\u001B[49m\u001B[43m \u001B[49m\u001B[43mk\u001B[49m\u001B[43m \u001B[49m\u001B[38;5;241;43m-\u001B[39;49m\u001B[43m \u001B[49m\u001B[38;5;241;43m1\u001B[39;49m\u001B[43m)\u001B[49m\n\u001B[1;32m      7\u001B[0m sums \u001B[38;5;241m=\u001B[39m Counter(\n\u001B[1;32m      8\u001B[0m     [\n\u001B[1;32m      9\u001B[0m         i \u001B[38;5;241m+\u001B[39m j\n\u001B[0;32m   (...)\u001B[0m\n\u001B[1;32m     12\u001B[0m     ]\n\u001B[1;32m     13\u001B[0m )\n\u001B[1;32m     14\u001B[0m least_unique \u001B[38;5;241m=\u001B[39m \u001B[38;5;28mmin\u001B[39m(\n\u001B[1;32m     15\u001B[0m     {\n\u001B[1;32m     16\u001B[0m         number\n\u001B[0;32m   (...)\u001B[0m\n\u001B[1;32m     19\u001B[0m     }\n\u001B[1;32m     20\u001B[0m )\n",
      "\u001B[0;31mRecursionError\u001B[0m: maximum recursion depth exceeded"
     ]
    }
   ],
   "execution_count": 13
  },
  {
   "metadata": {},
   "cell_type": "code",
   "outputs": [],
   "execution_count": null,
   "source": "",
   "id": "c12606eaaad652e6"
  }
 ],
 "metadata": {
  "kernelspec": {
   "display_name": "Python 3 (ipykernel)",
   "language": "python",
   "name": "python3"
  },
  "language_info": {
   "codemirror_mode": {
    "name": "ipython",
    "version": 3
   },
   "file_extension": ".py",
   "mimetype": "text/x-python",
   "name": "python",
   "nbconvert_exporter": "python",
   "pygments_lexer": "ipython3",
   "version": "3.11.6"
  }
 },
 "nbformat": 4,
 "nbformat_minor": 5
}
