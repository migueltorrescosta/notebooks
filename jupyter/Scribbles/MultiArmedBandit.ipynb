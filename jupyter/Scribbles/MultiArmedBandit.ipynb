{
 "cells": [
  {
   "cell_type": "markdown",
   "metadata": {},
   "source": "# Multi Armed Bandit"
  },
  {
   "cell_type": "code",
   "execution_count": 1,
   "metadata": {},
   "source": [
    "import numpy as np\n",
    "import functools\n",
    "import itertools\n",
    "\n",
    "import seaborn as sns\n",
    "import matplotlib.pyplot as plt\n",
    "import matplotlib.patches as mpatches"
   ],
   "outputs": []
  },
  {
   "cell_type": "markdown",
   "metadata": {},
   "source": [
    "# Mathsy Aux Functions"
   ]
  },
  {
   "cell_type": "code",
   "execution_count": 2,
   "metadata": {},
   "source": [
    "# Returns the probability of n theta bernoulli variables getting r positives multiplied by\n",
    "def bernoulli_prob(n, r, theta):\n",
    "    theta *= 1.0\n",
    "    return (theta ** r) * (1 - theta) ** (n - r)\n",
    "\n",
    "\n",
    "# Scales a vector to have L1 length equal to 1\n",
    "\n",
    "\n",
    "def normalize_vector(vect):\n",
    "    return np.divide(vect, sum(vect))\n",
    "\n",
    "\n",
    "# Given a pair of values and probabilities, it returns E[f(x)]\n",
    "\n",
    "\n",
    "def expectation(values, probabilities, function):\n",
    "    values = list(map(function, values))\n",
    "    return np.average(values, weights=probabilities)\n",
    "\n",
    "\n",
    "# Given distribution A and distribution B on np.linspace(0,1,len(distribution))\n",
    "# It returns the expected value\n",
    "\n",
    "\n",
    "def expectations(distribution_A, distribution_B, function):\n",
    "    a = zip(distribution_A, np.linspace(0, 1, len(distribution_A)))\n",
    "    b = zip(distribution_B, np.linspace(0, 1, len(distribution_B)))\n",
    "    c = itertools.product(a, b)\n",
    "\n",
    "    def f(x):\n",
    "        return (x[0][0] * x[1][0], function(x[0][1], x[1][1]))\n",
    "\n",
    "    d = map(f, c)\n",
    "    return list(d)"
   ],
   "outputs": []
  },
  {
   "cell_type": "markdown",
   "metadata": {},
   "source": [
    "# pdfs Aux Functions"
   ]
  },
  {
   "cell_type": "code",
   "execution_count": 3,
   "metadata": {},
   "source": [
    "# Returns a pdf from a number of observations and number of transactions, assuming a initial uniform pdf\n",
    "# TODO: If n is too big the probabilities get set to zero due to floating point errors\n",
    "# TODO: Need to start using BigInt types or find another way around this\n",
    "def generate_pdf(n, r, bins=10 ** 3):\n",
    "    # n : number of observations\n",
    "    # r : number of positives\n",
    "    # bins : number of points in the x coordinate to be generated\n",
    "    x_coordinate = np.linspace(0, 1, bins + 1)\n",
    "    f = functools.partial(bernoulli_prob, n, r)\n",
    "    y_coordinate = list(map(f, x_coordinate))\n",
    "    # TODO: Find a better way to normalize a vector\n",
    "    y_coordinate = np.multiply(y_coordinate, (bins * 1.0 / sum(y_coordinate)))\n",
    "    return y_coordinate\n",
    "\n",
    "\n",
    "# Updates the confidence interval based on the original pdf\n",
    "\n",
    "\n",
    "def bayesian_update(original_pdf, update_factor, bins):\n",
    "    assert len(original_pdf) == bins\n",
    "    assert len(update_factor) == bins\n",
    "    updated_pdf = np.multiply(original_pdf, update_factor)\n",
    "    # TODO: Find a better way to normalize a vector\n",
    "    updated_pdf = np.multiply(updated_pdf, bins * 1.0 / sum(updated_pdf))\n",
    "    return updated_pdf"
   ],
   "outputs": []
  },
  {
   "cell_type": "markdown",
   "metadata": {},
   "source": [
    "# Plot Aux Functions"
   ]
  },
  {
   "cell_type": "code",
   "execution_count": 29,
   "metadata": {},
   "source": [
    "def plot_function(distribution, fig_width=20, fig_height=3):\n",
    "    distribution.sort(key=lambda t: t[1])\n",
    "    plt.rcParams[\"figure.figsize\"] = [fig_width, fig_height]\n",
    "    x, y = list(zip(*distribution))\n",
    "    plt.plot(x, y)\n",
    "    plt.ylabel(\"Expected value\")\n",
    "    plt.show()\n",
    "\n",
    "\n",
    "# Compares the plots given arrays of equal length\n",
    "\n",
    "\n",
    "def plot_pdfs(distributions, bins=1000, fig_width=20, fig_height=3):\n",
    "    plt.rcParams[\"figure.figsize\"] = [fig_width, fig_height]\n",
    "    patches = []\n",
    "    for distribution, color, name in distributions:\n",
    "        y_coordinate = distribution\n",
    "        x_coordinate = np.linspace(0, 1, len(y_coordinate))\n",
    "        plt.plot(x_coordinate, y_coordinate, color)\n",
    "        patches.append(mpatches.Patch(color=color, label=name))\n",
    "    plt.legend(handles=patches)\n",
    "    plt.ylabel(\"probabiity density function\")\n",
    "    plt.show()"
   ],
   "outputs": []
  },
  {
   "cell_type": "markdown",
   "metadata": {},
   "source": [
    "# Main"
   ]
  },
  {
   "cell_type": "code",
   "execution_count": 18,
   "metadata": {},
   "source": [
    "obs = [\n",
    "    (10, 2, \"g\", \"alternative_1\"),\n",
    "    (100, 3, \"b\", \"alternative_2\"),\n",
    "    (100, 4, \"r\", \"control\"),\n",
    "]\n",
    "\n",
    "\n",
    "def f(a):\n",
    "    return (generate_pdf(a[0], a[1]), a[2], a[3])\n",
    "\n",
    "\n",
    "obs = list(map(f, obs))"
   ],
   "outputs": []
  },
  {
   "cell_type": "code",
   "execution_count": 19,
   "metadata": {},
   "source": [
    "plot_pdfs(obs)"
   ],
   "outputs": []
  },
  {
   "cell_type": "code",
   "execution_count": 20,
   "metadata": {},
   "source": [
    "def f(a, b):\n",
    "    return a - b"
   ],
   "outputs": []
  },
  {
   "cell_type": "code",
   "execution_count": 21,
   "metadata": {},
   "source": [
    "obs[0][0]"
   ],
   "outputs": []
  },
  {
   "cell_type": "code",
   "execution_count": 22,
   "metadata": {},
   "source": [
    "obs[1][0]"
   ],
   "outputs": []
  },
  {
   "cell_type": "code",
   "execution_count": 23,
   "metadata": {},
   "source": [
    "vect = expectations(obs[0][0], obs[1][0], f)"
   ],
   "outputs": []
  },
  {
   "cell_type": "code",
   "execution_count": 24,
   "metadata": {},
   "source": [
    "vect[:10]"
   ],
   "outputs": []
  },
  {
   "cell_type": "code",
   "execution_count": 25,
   "metadata": {},
   "source": [
    "plot_function(vect)"
   ],
   "outputs": []
  },
  {
   "cell_type": "code",
   "execution_count": null,
   "metadata": {},
   "source": [],
   "outputs": []
  }
 ],
 "metadata": {
  "kernelspec": {
   "display_name": "Python 3",
   "language": "python",
   "name": "python3"
  },
  "language_info": {
   "codemirror_mode": {
    "name": "ipython",
    "version": 3
   },
   "file_extension": ".py",
   "mimetype": "text/x-python",
   "name": "python",
   "nbconvert_exporter": "python",
   "pygments_lexer": "ipython3",
   "version": "3.5.2"
  }
 },
 "nbformat": 4,
 "nbformat_minor": 2
}
