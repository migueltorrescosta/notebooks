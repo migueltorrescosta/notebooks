{
 "cells": [
  {
   "cell_type": "code",
   "execution_count": 1,
   "id": "f8353e14",
   "metadata": {},
   "source": [
    "import pandas as pd\n",
    "import numpy as np\n",
    "from matplotlib import pyplot as plt"
   ],
   "outputs": []
  },
  {
   "cell_type": "code",
   "execution_count": 2,
   "id": "9a65adb0",
   "metadata": {},
   "source": [
    "class BayesUpdate:\n",
    "\n",
    "    def __init__(self, df):\n",
    "        \"Dataframe with a likelihood and prior column\"\n",
    "        assert set(df.columns) == {\"prior\", \"likelihood\"}\n",
    "        self.df = df\n",
    "        self.calculate_posterior()\n",
    "        self.normalize_columns()\n",
    "        self.categorical = not df.index.is_numeric()\n",
    "\n",
    "    def normalize_columns(self):\n",
    "        self.df = self.df / self.df.sum(axis=0)\n",
    "\n",
    "    def calculate_posterior(self):\n",
    "        posterior = self.df[\"prior\"] * self.df[\"likelihood\"]\n",
    "        self.df[\"posterior\"] = posterior / sum(posterior)\n",
    "\n",
    "    def plot(self):\n",
    "        fig, ax = plt.subplots(figsize=(15, 5), ncols=3, sharey=True)\n",
    "        if self.categorical:\n",
    "            self.df.plot.bar(ax=ax, subplots=True)\n",
    "        else:\n",
    "            self.df.plot.area(ax=ax, subplots=True)"
   ],
   "outputs": []
  },
  {
   "cell_type": "markdown",
   "id": "b44533f6",
   "metadata": {},
   "source": [
    "# Linear Updates"
   ]
  },
  {
   "cell_type": "code",
   "execution_count": 3,
   "id": "29150ada",
   "metadata": {},
   "source": [
    "df = pd.DataFrame(\n",
    "    {\"prior\": np.linspace(0, 1, 101), \"likelihood\": np.linspace(0, 1, 101)},\n",
    "    index=np.linspace(0, 1, 101),\n",
    ")\n",
    "BayesUpdate(df).plot()"
   ],
   "outputs": []
  },
  {
   "cell_type": "code",
   "execution_count": 4,
   "id": "4435c5d7",
   "metadata": {},
   "source": [
    "df = pd.DataFrame(\n",
    "    {\"prior\": np.linspace(0, 1, 101), \"likelihood\": np.linspace(1, 0, 101)},\n",
    "    index=np.linspace(0, 1, 101),\n",
    ")\n",
    "BayesUpdate(df).plot()"
   ],
   "outputs": []
  },
  {
   "cell_type": "code",
   "execution_count": 5,
   "id": "27064a51",
   "metadata": {},
   "source": [
    "df = pd.DataFrame(\n",
    "    {\"prior\": np.geomspace(0.1, 10, 101), \"likelihood\": np.geomspace(0.1, 10, 101)},\n",
    "    index=np.linspace(0, 1, 101),\n",
    ")\n",
    "BayesUpdate(df).plot()"
   ],
   "outputs": []
  },
  {
   "cell_type": "code",
   "execution_count": 6,
   "id": "5366a442",
   "metadata": {},
   "source": [
    "df = pd.DataFrame(\n",
    "    {\"prior\": np.geomspace(0.1, 10, 101), \"likelihood\": np.geomspace(10, 0.1, 101)},\n",
    "    index=np.linspace(0, 1, 101),\n",
    ")\n",
    "BayesUpdate(df).plot()"
   ],
   "outputs": []
  },
  {
   "cell_type": "code",
   "execution_count": 7,
   "id": "d2beb3d3",
   "metadata": {},
   "source": [
    "df = pd.DataFrame(\n",
    "    {\n",
    "        \"prior\": [999, 1],  # Disease that affects .1% of the population\n",
    "        \"likelihood\": [1, 99],  # 99% accurate test\n",
    "    },\n",
    "    index=[\"Healthy\", \"Sick\"],\n",
    ")\n",
    "z = BayesUpdate(df)\n",
    "z.plot()\n",
    "z.df"
   ],
   "outputs": []
  }
 ],
 "metadata": {
  "kernelspec": {
   "display_name": "Python 3",
   "language": "python",
   "name": "python3"
  },
  "language_info": {
   "codemirror_mode": {
    "name": "ipython",
    "version": 3
   },
   "file_extension": ".py",
   "mimetype": "text/x-python",
   "name": "python",
   "nbconvert_exporter": "python",
   "pygments_lexer": "ipython3",
   "version": "3.9.2"
  }
 },
 "nbformat": 4,
 "nbformat_minor": 5
}
