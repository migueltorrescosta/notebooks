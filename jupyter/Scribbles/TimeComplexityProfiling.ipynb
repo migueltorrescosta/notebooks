{
 "cells": [
  {
   "cell_type": "markdown",
   "id": "ba9eb4e3-5728-4978-9623-b2326be78b6a",
   "metadata": {},
   "source": [
    "# Time Complexity Profiling\n",
    "\n",
    "Given a Python function, we want to profile the bottlenecks in time complexity, so that we can optimize the important parts"
   ]
  },
  {
   "cell_type": "code",
   "execution_count": 24,
   "id": "6d1bf691-a6c5-4c6c-a3ef-31eeb5d2a346",
   "metadata": {},
   "source": [
    "import cProfile\n",
    "import numpy as np"
   ],
   "outputs": []
  },
  {
   "cell_type": "markdown",
   "id": "4d54a559-a6f6-42f4-8994-b1aa735790bb",
   "metadata": {},
   "source": [
    "# Test functions"
   ]
  },
  {
   "cell_type": "code",
   "execution_count": 25,
   "id": "845c1b70-eae9-4832-a632-6c1d7fd91b1c",
   "metadata": {},
   "source": [
    "def slow_fib(n):\n",
    "    if n < 0:\n",
    "        raise Exception(\"Fibonacci is not defined for negative numbers\")\n",
    "    elif n == 0 or n == 1:\n",
    "        return 1\n",
    "    else:\n",
    "        return slow_fib(n - 2) + slow_fib(n - 1)"
   ],
   "outputs": []
  },
  {
   "cell_type": "code",
   "execution_count": 26,
   "id": "e19a88f8-ecfb-4c99-882e-787187e3d5f1",
   "metadata": {},
   "source": [
    "cProfile.run(\"slow_fib(30)\")"
   ],
   "outputs": []
  },
  {
   "cell_type": "code",
   "execution_count": 27,
   "id": "bf60db7c-9e37-4258-87b3-e10aab656305",
   "metadata": {},
   "source": [
    "def fast_fib(n, a=1, b=1):\n",
    "    if n < 0:\n",
    "        raise Exception(\"Fibonacci is not defined for negative numbers\")\n",
    "    elif n == 0 or n == 1:\n",
    "        return a\n",
    "    else:\n",
    "        return fast_fib(n=n - 1, a=a + b, b=a)"
   ],
   "outputs": []
  },
  {
   "cell_type": "code",
   "execution_count": 28,
   "id": "10b2cef0-647e-4ee3-baff-edaf058570ed",
   "metadata": {},
   "source": [
    "cProfile.run(\"fast_fib(1000)\")"
   ],
   "outputs": []
  },
  {
   "cell_type": "code",
   "execution_count": 41,
   "id": "4df37c9a-3877-48ab-a63a-10a9831131ae",
   "metadata": {},
   "source": [
    "def analytical_fib(n):\n",
    "    return int(\n",
    "        0.5\n",
    "        + np.divide(\n",
    "            np.divide(np.sqrt(5) + 1, 2) ** (n + 1)\n",
    "            + np.divide(np.sqrt(5) - 1, 2) ** (n + 1),\n",
    "            np.sqrt(5),\n",
    "        )\n",
    "    )"
   ],
   "outputs": []
  },
  {
   "cell_type": "code",
   "execution_count": null,
   "id": "8c9e99b9-2e08-49c4-ae9a-85ee1a83c7f9",
   "metadata": {},
   "source": [],
   "outputs": []
  }
 ],
 "metadata": {
  "kernelspec": {
   "display_name": "Python 3 (ipykernel)",
   "language": "python",
   "name": "python3"
  },
  "language_info": {
   "codemirror_mode": {
    "name": "ipython",
    "version": 3
   },
   "file_extension": ".py",
   "mimetype": "text/x-python",
   "name": "python",
   "nbconvert_exporter": "python",
   "pygments_lexer": "ipython3",
   "version": "3.11.6"
  }
 },
 "nbformat": 4,
 "nbformat_minor": 5
}
