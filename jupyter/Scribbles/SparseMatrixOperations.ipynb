{
 "cells": [
  {
   "cell_type": "markdown",
   "source": "    # Sparse Matrix Operations",
   "metadata": {
    "collapsed": false
   },
   "id": "302fcf03250de791"
  },
  {
   "cell_type": "code",
   "execution_count": 2,
   "id": "initial_id",
   "metadata": {
    "collapsed": true,
    "ExecuteTime": {
     "end_time": "2024-03-30T09:29:36.826176Z",
     "start_time": "2024-03-30T09:29:36.539455Z"
    }
   },
   "source": [
    "import sys\n",
    "import scipy.sparse as sp"
   ],
   "outputs": []
  },
  {
   "cell_type": "markdown",
   "source": [
    "# Example matrix"
   ],
   "metadata": {
    "collapsed": false
   },
   "id": "1c86c55054e46c66"
  },
  {
   "cell_type": "code",
   "source": [
    "# https://docs.scipy.org/doc/scipy/reference/sparse.html#sparse-array-classes\n",
    "diag_matrix = sp.diags([1, 2, 3])\n",
    "dict_matrix = sp.dok_matrix((3, 3))\n",
    "dict_matrix[1, 2] = 3\n",
    "dict_matrix[0, 0] = -2\n",
    "i = [1, 2, 0]\n",
    "j = [1, 1, 2]\n",
    "v = [3, 9, 2]\n",
    "\n",
    "coo_matrix = sp.coo_matrix((v, (i, j)))"
   ],
   "metadata": {
    "collapsed": false,
    "ExecuteTime": {
     "end_time": "2024-03-28T13:58:08.412060Z",
     "start_time": "2024-03-28T13:58:08.404884Z"
    }
   },
   "id": "a1b751c8eff7e53d",
   "execution_count": 27,
   "outputs": []
  },
  {
   "cell_type": "markdown",
   "source": [
    "# Viewing the matrix"
   ],
   "metadata": {
    "collapsed": false
   },
   "id": "86645b41375a9006"
  },
  {
   "cell_type": "code",
   "source": [
    "coo_matrix.toarray()"
   ],
   "metadata": {
    "collapsed": false,
    "ExecuteTime": {
     "end_time": "2024-03-28T13:58:23.499380Z",
     "start_time": "2024-03-28T13:58:23.492166Z"
    }
   },
   "id": "b7053c01a3ef88a9",
   "execution_count": 29,
   "outputs": []
  },
  {
   "cell_type": "code",
   "source": [
    "dict_matrix.toarray()"
   ],
   "metadata": {
    "collapsed": false,
    "ExecuteTime": {
     "end_time": "2024-03-28T13:56:33.348992Z",
     "start_time": "2024-03-28T13:56:33.346121Z"
    }
   },
   "id": "65f934a5b6fe6902",
   "execution_count": 21,
   "outputs": []
  },
  {
   "cell_type": "markdown",
   "source": [
    "# Sparse kronecker product"
   ],
   "metadata": {
    "collapsed": false
   },
   "id": "68af4704f3d360cf"
  },
  {
   "cell_type": "code",
   "source": [
    "# https://docs.scipy.org/doc/scipy/reference/generated/scipy.sparse.kron.html\n",
    "sp.kron(coo_matrix, dict_matrix).toarray()"
   ],
   "metadata": {
    "collapsed": false,
    "ExecuteTime": {
     "end_time": "2024-03-28T13:59:01.449440Z",
     "start_time": "2024-03-28T13:59:01.440974Z"
    }
   },
   "id": "b03d3b8f62ce6f9b",
   "execution_count": 30,
   "outputs": []
  },
  {
   "cell_type": "markdown",
   "source": [
    "# Size comparison"
   ],
   "metadata": {
    "collapsed": false
   },
   "id": "9d667e2f248a0737"
  },
  {
   "cell_type": "code",
   "source": [
    "z = sp.kron(coo_matrix, dict_matrix)"
   ],
   "metadata": {
    "collapsed": false,
    "ExecuteTime": {
     "end_time": "2024-03-28T13:59:52.781622Z",
     "start_time": "2024-03-28T13:59:52.775619Z"
    }
   },
   "id": "7050d7d4487bb852",
   "execution_count": 32,
   "outputs": []
  },
  {
   "cell_type": "code",
   "source": [
    "sys.getsizeof(z)"
   ],
   "metadata": {
    "collapsed": false,
    "ExecuteTime": {
     "end_time": "2024-03-28T13:59:53.225312Z",
     "start_time": "2024-03-28T13:59:53.218585Z"
    }
   },
   "id": "5a80803e3046a5ad",
   "execution_count": 33,
   "outputs": []
  },
  {
   "cell_type": "code",
   "source": [
    "sys.getsizeof(z.toarray())"
   ],
   "metadata": {
    "collapsed": false,
    "ExecuteTime": {
     "end_time": "2024-03-28T14:00:00.254908Z",
     "start_time": "2024-03-28T14:00:00.247710Z"
    }
   },
   "id": "37a0d336c89c86b8",
   "execution_count": 34,
   "outputs": []
  },
  {
   "cell_type": "markdown",
   "source": [
    "# Playtest"
   ],
   "metadata": {
    "collapsed": false
   },
   "id": "dfa24593395fda9b"
  },
  {
   "cell_type": "code",
   "source": [
    "i = [0, 1, 0, 1]\n",
    "j = [0, 0, 1, 1]\n",
    "v = [0, 1, 1, 0]\n",
    "\n",
    "sx = sp.coo_matrix(([0, 1, 1, 0], (i, j)))\n",
    "sz = sp.coo_matrix(([1, 0, 0, -1], (i, j)))"
   ],
   "metadata": {
    "collapsed": false,
    "ExecuteTime": {
     "end_time": "2024-03-30T09:29:39.949908Z",
     "start_time": "2024-03-30T09:29:39.941955Z"
    }
   },
   "id": "db3c090733702926",
   "execution_count": 3,
   "outputs": []
  },
  {
   "cell_type": "code",
   "source": [
    "import itertools\n",
    "import functools"
   ],
   "metadata": {
    "collapsed": false,
    "is_executing": true
   },
   "id": "5f485cdbb19a2f5",
   "execution_count": null,
   "outputs": []
  },
  {
   "cell_type": "code",
   "source": [
    "n = 10\n",
    "for i, j, k in itertools.product(range(n), range(2**n), range(2**n)):\n",
    "    m[i] = functools.reduce(\n",
    "        sp.kron, [sp.diags([1, 1]), sp.diags([1, 1]), sp.diags([1, 1])]\n",
    "    )"
   ],
   "metadata": {
    "collapsed": false
   },
   "id": "e487004ee562d32f",
   "execution_count": null,
   "outputs": []
  },
  {
   "cell_type": "code",
   "source": [],
   "metadata": {
    "collapsed": false
   },
   "id": "de2ae239ee84b3cd",
   "execution_count": null,
   "outputs": []
  }
 ],
 "metadata": {
  "kernelspec": {
   "display_name": "Python 3",
   "language": "python",
   "name": "python3"
  },
  "language_info": {
   "codemirror_mode": {
    "name": "ipython",
    "version": 2
   },
   "file_extension": ".py",
   "mimetype": "text/x-python",
   "name": "python",
   "nbconvert_exporter": "python",
   "pygments_lexer": "ipython2",
   "version": "2.7.6"
  }
 },
 "nbformat": 4,
 "nbformat_minor": 5
}
