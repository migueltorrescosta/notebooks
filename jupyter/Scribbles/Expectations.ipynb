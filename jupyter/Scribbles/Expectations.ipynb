{
 "cells": [
  {
   "cell_type": "markdown",
   "metadata": {},
   "source": "# Expectations"
  },
  {
   "cell_type": "code",
   "metadata": {
    "ExecuteTime": {
     "end_time": "2024-07-30T16:38:43.612520Z",
     "start_time": "2024-07-30T16:38:43.610914Z"
    }
   },
   "source": [
    "import numpy as np\n",
    "import pandas as pd\n",
    "import seaborn as sns\n",
    "import math\n",
    "from matplotlib import pyplot as plt"
   ],
   "execution_count": 1,
   "outputs": []
  },
  {
   "cell_type": "markdown",
   "metadata": {},
   "source": [
    "# Auxiliary functions"
   ]
  },
  {
   "cell_type": "code",
   "metadata": {
    "ExecuteTime": {
     "end_time": "2024-07-30T16:38:43.637310Z",
     "start_time": "2024-07-30T16:38:43.613027Z"
    }
   },
   "source": [
    "# Turns a numpy array into a frequency dictionary\n",
    "def frequency_dict(x):\n",
    "    counts = np.unique(x, return_counts=True)\n",
    "    counts = map(lambda x, y: (x, y), counts[0], counts[1])\n",
    "    counts = {x[0]: x[1] for x in counts}\n",
    "    return counts"
   ],
   "execution_count": 2,
   "outputs": []
  },
  {
   "cell_type": "code",
   "metadata": {
    "ExecuteTime": {
     "end_time": "2024-07-30T16:38:43.648942Z",
     "start_time": "2024-07-30T16:38:43.638306Z"
    }
   },
   "source": [
    "# from a df with probability distribution build a sample observations set\n",
    "def random_dataframe(dist, samples):\n",
    "    df = pd.DataFrame()\n",
    "    df[\"Outcome\"] = np.random.choice(dist[\"Values\"], p=dist[\"Probs\"], size=samples)\n",
    "    return_mapping = pd.Series(dist[\"Returns\"].values, index=dist[\"Values\"]).to_dict()\n",
    "    df[\"Returns\"] = list(map(lambda x: return_mapping[x], df[\"Outcome\"]))\n",
    "    return df"
   ],
   "execution_count": 3,
   "outputs": []
  },
  {
   "cell_type": "code",
   "metadata": {
    "ExecuteTime": {
     "end_time": "2024-07-30T16:38:43.660036Z",
     "start_time": "2024-07-30T16:38:43.649862Z"
    }
   },
   "source": [
    "def distribution_plots(dist):\n",
    "    %matplotlib inline\n",
    "    fig, (ax1, ax2, ax3) = plt.subplots(ncols=3, sharey=False, figsize=(20, 6))\n",
    "    ax1.title.set_text(\"Probabilities i.e. expected frequencies\")\n",
    "    sns.barplot(x=\"Values\", y=\"Probs\", data=dist, ax=ax1)\n",
    "    ax2.title.set_text(\"Returns per outcome\")\n",
    "    sns.barplot(x=\"Values\", y=\"Returns\", data=dist, ax=ax2)\n",
    "    ax3.title.set_text(\"Weighted expected returns per outcome\")\n",
    "    sns.barplot(x=\"Values\", y=\"Expected Returns\", data=dist, ax=ax3)"
   ],
   "execution_count": 4,
   "outputs": []
  },
  {
   "cell_type": "code",
   "metadata": {
    "ExecuteTime": {
     "end_time": "2024-07-30T16:38:43.671640Z",
     "start_time": "2024-07-30T16:38:43.661008Z"
    }
   },
   "source": [
    "def results_plots(df):\n",
    "    %matplotlib inline\n",
    "    fig, (ax1, ax2) = plt.subplots(ncols=2, sharey=True, figsize=(20, 6))\n",
    "    ax1.title.set_text(\"Table of frequences per outcome\")\n",
    "    sns.countplot(df[\"Outcome\"], ax=ax1)\n",
    "    ax2.title.set_text(\"Table of frequences per return\")\n",
    "    sns.countplot(df[\"Returns\"], ax=ax2)"
   ],
   "execution_count": 5,
   "outputs": []
  },
  {
   "cell_type": "code",
   "metadata": {
    "ExecuteTime": {
     "end_time": "2024-07-30T16:38:43.682901Z",
     "start_time": "2024-07-30T16:38:43.672654Z"
    }
   },
   "source": [
    "def gen_dist(values, probs, returns):\n",
    "    dist = pd.DataFrame()\n",
    "    dist[\"Values\"] = values\n",
    "    dist[\"Probs\"] = probs\n",
    "    dist[\"Returns\"] = returns\n",
    "    dist[\"Expected Returns\"] = list(\n",
    "        map(lambda x, y: x * y, dist[\"Probs\"], dist[\"Returns\"])\n",
    "    )\n",
    "    expected_returns = np.dot(dist[\"Probs\"], dist[\"Returns\"])\n",
    "    print(\"Expected_Return: {}\".format(round(expected_returns, 4)))\n",
    "    print(\"Total_expected_returns: {}\".format(round(expected_returns * sample_size, 4)))\n",
    "    return dist, expected_returns"
   ],
   "execution_count": 6,
   "outputs": []
  },
  {
   "cell_type": "markdown",
   "metadata": {},
   "source": [
    "# Setting up our distribution"
   ]
  },
  {
   "cell_type": "code",
   "metadata": {
    "ExecuteTime": {
     "end_time": "2024-07-30T16:38:43.701240Z",
     "start_time": "2024-07-30T16:38:43.683934Z"
    }
   },
   "source": [
    "dist = pd.DataFrame()\n",
    "sample_size = 10**6\n",
    "price = 3.5\n",
    "dist[\"Values\"] = [1, 2, 3, 4, 5, 6]\n",
    "dist[\"Probs\"] = [1.0 / 6, 1.0 / 6, 1.0 / 6, 1.0 / 6, 1.0 / 6, 1.0 / 6]\n",
    "dist[\"Returns\"] = [5, 4, 9, 8, 20, 100]\n",
    "# dist['Returns'] = list(map(lambda x:x-price,dist['Values']))"
   ],
   "execution_count": 7,
   "outputs": []
  },
  {
   "cell_type": "markdown",
   "metadata": {},
   "source": [
    "# Dist info"
   ]
  },
  {
   "cell_type": "code",
   "metadata": {
    "ExecuteTime": {
     "end_time": "2024-07-30T16:38:44.051237Z",
     "start_time": "2024-07-30T16:38:43.702176Z"
    }
   },
   "source": [
    "dist, expected_returns = gen_dist(dist[\"Values\"], dist[\"Probs\"], dist[\"Returns\"])\n",
    "distribution_plots(dist)\n",
    "dist"
   ],
   "execution_count": 8,
   "outputs": []
  },
  {
   "cell_type": "markdown",
   "metadata": {},
   "source": [
    "# Results"
   ]
  },
  {
   "cell_type": "code",
   "metadata": {
    "jupyter": {
     "is_executing": true
    },
    "ExecuteTime": {
     "start_time": "2024-07-30T16:38:44.052005Z"
    }
   },
   "source": [
    "df = random_dataframe(dist, sample_size)\n",
    "results_plots(df)"
   ],
   "execution_count": null,
   "outputs": []
  },
  {
   "cell_type": "markdown",
   "metadata": {},
   "source": [
    "# Comparison of expectations"
   ]
  },
  {
   "cell_type": "code",
   "metadata": {
    "jupyter": {
     "is_executing": true
    }
   },
   "source": [
    "total_expected_returns = np.sum(df[\"Returns\"])\n",
    "pd.DataFrame(\n",
    "    {\n",
    "        \"Expected\": [expected_returns, expected_returns * len(df)],\n",
    "        \"Observed\": [total_expected_returns / len(df), total_expected_returns],\n",
    "    },\n",
    "    index=[\"Average Returns\", \"Total Returns\"],\n",
    ")"
   ],
   "execution_count": null,
   "outputs": []
  }
 ],
 "metadata": {
  "kernelspec": {
   "display_name": "Python 3 (ipykernel)",
   "language": "python",
   "name": "python3"
  },
  "language_info": {
   "codemirror_mode": {
    "name": "ipython",
    "version": 3
   },
   "file_extension": ".py",
   "mimetype": "text/x-python",
   "name": "python",
   "nbconvert_exporter": "python",
   "pygments_lexer": "ipython3",
   "version": "3.11.6"
  }
 },
 "nbformat": 4,
 "nbformat_minor": 4
}
