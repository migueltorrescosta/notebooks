{
 "cells": [
  {
   "metadata": {},
   "cell_type": "markdown",
   "source": [
    "# A* algorithm\n",
    "\n",
    "Given that we have structured our states, we can apply the A* algorithm. We require a\n",
    "- generate_neighbours function, which sets both the path cost $f$ and remaining estimated cost $h$\n",
    "- boolean method to determine whether a state is a target "
   ],
   "id": "27ca9fabc6ab3630"
  },
  {
   "metadata": {
    "ExecuteTime": {
     "end_time": "2024-07-31T17:11:36.683146Z",
     "start_time": "2024-07-31T17:11:36.669795Z"
    }
   },
   "cell_type": "code",
   "source": [
    "import copy\n",
    "from dataclasses import dataclass\n",
    "from abc import ABC, abstractmethod\n",
    "from typing import Generic, TypeVar, Optional, Set, Self, Dict\n",
    "\n",
    "T = TypeVar(\"T\")\n",
    "\n",
    "@dataclass\n",
    "class Path:\n",
    "    state: T\n",
    "    previous_state: Optional[Self] = None\n",
    "    message: Optional[str] = None\n",
    "    f: float = 0\n",
    "    h: float = float(\"inf\")\n",
    "\n",
    "    @property\n",
    "    def id(self):\n",
    "        return self.state.id\n",
    "\n",
    "class AbstractAStarAlgorithm(ABC, Generic[T]):\n",
    "    # https://en.wikipedia.org/wiki/A*_search_algorithm\n",
    "\n",
    "    def __init__(self, initial_configuration: T):\n",
    "        self.next_paths: Dict[int, Path] = {\n",
    "            initial_configuration.id: Path(state=initial_configuration)\n",
    "        }\n",
    "        self.explored_states: Dict[int, T] = dict()\n",
    "\n",
    "    @abstractmethod\n",
    "    def neighbours(self, path: Path) -> Set[Path]:\n",
    "        pass\n",
    "\n",
    "    @abstractmethod\n",
    "    def is_target_state(self, path: Path) -> bool:\n",
    "        pass\n",
    "\n",
    "    def add_new_path(self, path: Path) -> None:\n",
    "        if path.id in self.explored_states.keys():\n",
    "            self.explored_states[path.id] = min(\n",
    "                [self.explored_states[path.id], path],\n",
    "                key = lambda p: p.f\n",
    "            )\n",
    "        if path.id in self.next_paths.keys():\n",
    "            # Keep the path leading to the current node, with the least distance travelled\n",
    "            self.next_paths[path.id] = min(\n",
    "                [self.next_paths[path.id], path],\n",
    "                key = lambda p: p.f\n",
    "            )\n",
    "        else: self.next_paths[path.id] = self.explored_states[path.id]\n",
    "                \n",
    "    def explore_next_path(self) -> None:\n",
    "\n",
    "        current_path = min(self.next_paths.values(), key=lambda pp: pp.f + pp.h)\n",
    "        \n",
    "        new_paths = self.neighbours(current_path)\n",
    "        for path in new_paths:\n",
    "            self.add_new_path(path)\n",
    "        \n",
    "        self.explored_states[current_path.id] = current_path\n",
    "        del self.next_paths[current_path.id]\n",
    "\n",
    "    def run_astar_algorithm(self):\n",
    "        \n",
    "        while True:\n",
    "            \n",
    "            is_target_reached = len([\n",
    "                path\n",
    "                for path\n",
    "                in self.next_paths.values()\n",
    "                if self.is_target_state(path)\n",
    "            ]) > 0 \n",
    "            if is_target_reached:\n",
    "                return next(path for path in self.next_paths.values() if self.is_target_state(path))\n",
    "            \n",
    "            assert self.next_paths, \"Exhausted all paths without reaching target\"\n",
    "            \n",
    "            self.explore_next_path()"
   ],
   "id": "71200f50b6b5af10",
   "outputs": [],
   "execution_count": 1
  },
  {
   "metadata": {},
   "cell_type": "markdown",
   "source": [
    "# Application: service migration\n",
    "\n",
    "We want to migrate our machines and apps to a new system. To do so we consider having:\n",
    "- $N$ machines, each having different CPU/Memory abilities.\n",
    "- $A$ apps, which have distinct CPU/memory requirements and can run in any subset of the $N$ machines\n",
    "- A source and target cluster manager. At first All physical machines are running in the source, and we want the all to run in the target cluster."
   ],
   "id": "5bd1cc595596f3c0"
  },
  {
   "metadata": {
    "ExecuteTime": {
     "end_time": "2024-07-31T17:11:36.703982Z",
     "start_time": "2024-07-31T17:11:36.684860Z"
    }
   },
   "cell_type": "code",
   "source": [
    "from dataclasses import dataclass\n",
    "from typing import Set\n",
    "\n",
    "@dataclass(frozen=True)\n",
    "class Machine:\n",
    "    name: str\n",
    "    cpu: int\n",
    "    memory: int\n",
    "    migrated: bool = False\n",
    "    \n",
    "    @property \n",
    "    def id(self):\n",
    "        return self.__hash__()\n",
    "\n",
    "@dataclass(frozen=True)\n",
    "class App:\n",
    "    name: str\n",
    "    cpu: int\n",
    "    memory: int\n",
    "    machines: Set[int]\n",
    "    \n",
    "    @property \n",
    "    def id(self):\n",
    "        return self.__hash__()"
   ],
   "id": "d5f9ba08891f5f02",
   "outputs": [],
   "execution_count": 2
  },
  {
   "metadata": {
    "ExecuteTime": {
     "end_time": "2024-07-31T17:11:36.723035Z",
     "start_time": "2024-07-31T17:11:36.706530Z"
    }
   },
   "cell_type": "code",
   "source": [
    "@dataclass(frozen=True)\n",
    "class State:\n",
    "    machines: Dict[int, Machine]\n",
    "    apps: Dict[int, App]\n",
    "    \n",
    "    @property \n",
    "    def id(self):\n",
    "        return self.__hash__()\n",
    "    \n",
    "    # This method is good enough for finding solutions, but better slack functions exist\n",
    "    def minimum_slack_for_an_app(self) -> float:\n",
    "        minimum_cpu_slack = float(\"inf\")\n",
    "        minimum_memory_slack = float(\"inf\")\n",
    "        \n",
    "        for app_id, app in self.apps:\n",
    "            \n",
    "            cpu_slack = 0\n",
    "            memory_slack = 0\n",
    "            \n",
    "            for machine in app.machines.values():\n",
    "                cpu_needed = sum([app.cpu for app in self.apps if machine in app.machines])\n",
    "                cpu_slack += machine.cpu - cpu_needed\n",
    "                memory_needed = sum([app.memory for app in self.apps if machine in app.machines])\n",
    "                memory_slack += machine.cpu - memory_needed\n",
    "\n",
    "            minimum_cpu_slack = min(minimum_cpu_slack, cpu_slack)\n",
    "            minimum_memory_slack = min(minimum_memory_slack, memory_slack)\n",
    "            \n",
    "        return min(minimum_cpu_slack, minimum_memory_slack)\n",
    "\n",
    "\n",
    "    def n_machines_to_migrate(self) -> int:\n",
    "        return len([m for m in self.machines.values() if not m.migrated])\n",
    "    \n",
    "    def least_number_of_apps_in_non_migrated_machine(self) -> float:\n",
    "        assert len([m for m in self.machines.values() if m.migrated==False]), \"All machines have been migrated\"\n",
    "        return min([\n",
    "            len([app for app in self.apps.values() if machine.id in app.machines.keys()])\n",
    "            for machine\n",
    "            in self.machines.values()\n",
    "            if machine.migrated==False\n",
    "        ])"
   ],
   "id": "32e0ded429634ff6",
   "outputs": [],
   "execution_count": 3
  },
  {
   "metadata": {
    "ExecuteTime": {
     "end_time": "2024-07-31T17:11:36.740351Z",
     "start_time": "2024-07-31T17:11:36.724741Z"
    }
   },
   "cell_type": "code",
   "source": [
    "import itertools\n",
    "\n",
    "class MigratePlan(AbstractAStarAlgorithm[State]):\n",
    "    \n",
    "    def neighbours(self, path: Path) -> Set[Path]:\n",
    "        next_paths = set()\n",
    "        \n",
    "        # Migrate machines that have no running apps\n",
    "        for machine_id, machine in path.state.machines:\n",
    "            \n",
    "            running_apps = [\n",
    "                app for app\n",
    "                in path.state.apps.values()\n",
    "                if machine_id not in app.machines.keys()\n",
    "            ]\n",
    "            \n",
    "            if not running_apps:\n",
    "                new_state = copy.deepcopy(path.state)\n",
    "                new_state.machines[machine_id] = Machine(\n",
    "                    name=machine.name,\n",
    "                    cpu=machine.cpu,\n",
    "                    memory=machine.memory,\n",
    "                    migrated=True\n",
    "                )\n",
    "                next_paths.add(Path(\n",
    "                    state= new_state,\n",
    "                    previous_state=path.state,\n",
    "                    message=f\"Migrate machine {machine.name}\",\n",
    "                    f=path.f,\n",
    "                    h=path.state.h - 1,\n",
    "                ))\n",
    "\n",
    "        for app_id, machine_id in itertools.product(path.state.apps.keys(), path.state.machines.keys()):\n",
    "            \n",
    "            # Remove app if in machine\n",
    "            if machine_id in path.state.apps[app_id].machines.keys():\n",
    "                new_state = copy.deepcopy(path.state)\n",
    "                new_state.apps[app_id] = App(\n",
    "                    name=new_state.apps[app_id].name,\n",
    "                    cpu=new_state.apps[app_id].cpu,\n",
    "                    memory=new_state.apps[app_id].memory,\n",
    "                    machines=new_state.apps[app_id].machines - {machine_id}\n",
    "                )\n",
    "                next_paths.add(Path(\n",
    "                    state= new_state,\n",
    "                    previous_state=path.state,\n",
    "                    message=f\"Remove app {new_state.apps[app_id].name} from machine {new_state.machines[machine_id].name}\",\n",
    "                    f=path.f + .01,\n",
    "                    h=new_state.n_machines_to_migrate(),\n",
    "                ))\n",
    "                \n",
    "            # Add app if not in machine\n",
    "            else:\n",
    "                new_state = copy.deepcopy(path.state)\n",
    "                new_state.apps[app_id] = App(\n",
    "                    name=new_state.apps[app_id].name,\n",
    "                    cpu=new_state.apps[app_id].cpu,\n",
    "                    memory=new_state.apps[app_id].memory,\n",
    "                    machines=new_state.apps[app_id].machines + {machine_id}\n",
    "                )\n",
    "                next_paths.add(Path(\n",
    "                    state= new_state,\n",
    "                    previous_state=path.state,\n",
    "                    message=f\"Remove app {new_state.apps[app_id].name} from machine {new_state.machines[machine_id].name}\",\n",
    "                    f=path.f + .01,\n",
    "                    h=new_state.n_machines_to_migrate(),\n",
    "                ))\n",
    "                \n",
    "        return next_paths\n",
    "                \n",
    "    def is_target_state(self, path: Path) -> bool:\n",
    "        return all([machine.migrated for machine in path.state.machines])"
   ],
   "id": "a7f947af139b54fa",
   "outputs": [],
   "execution_count": 4
  },
  {
   "metadata": {},
   "cell_type": "markdown",
   "source": "# Example Run",
   "id": "da366677e1defb1d"
  },
  {
   "metadata": {
    "ExecuteTime": {
     "end_time": "2024-07-31T17:13:16.545731Z",
     "start_time": "2024-07-31T17:13:16.538873Z"
    }
   },
   "cell_type": "code",
   "source": [
    "machines = [\n",
    "    Machine(name=\"M1\", cpu=5, memory=6, migrated=False),\n",
    "    Machine(name=\"M2\", cpu=3, memory=4, migrated=False),\n",
    "    Machine(name=\"M3\", cpu=2, memory=2, migrated=False),\n",
    "]\n",
    "apps = [\n",
    "    App(name=\"A1\", cpu=1, memory=1, machines=frozenset(machines[0:2])),\n",
    "    App(name=\"A2\", cpu=1, memory=1, machines=frozenset(machines[2:3])),\n",
    "]\n",
    "state = State(\n",
    "    machines={m.id: m for m in machines},\n",
    "    apps={a.id:a for a in apps},\n",
    ")"
   ],
   "id": "7c3371a0a888b40d",
   "outputs": [],
   "execution_count": 8
  },
  {
   "metadata": {
    "ExecuteTime": {
     "end_time": "2024-07-31T17:13:17.019362Z",
     "start_time": "2024-07-31T17:13:16.971237Z"
    }
   },
   "cell_type": "code",
   "source": "mp = MigratePlan(initial_configuration=state)",
   "id": "6e832e0a38ea98dd",
   "outputs": [
    {
     "ename": "TypeError",
     "evalue": "unhashable type: 'dict'",
     "output_type": "error",
     "traceback": [
      "\u001B[0;31m---------------------------------------------------------------------------\u001B[0m",
      "\u001B[0;31mTypeError\u001B[0m                                 Traceback (most recent call last)",
      "Cell \u001B[0;32mIn[9], line 1\u001B[0m\n\u001B[0;32m----> 1\u001B[0m mp \u001B[38;5;241m=\u001B[39m \u001B[43mMigratePlan\u001B[49m\u001B[43m(\u001B[49m\u001B[43minitial_configuration\u001B[49m\u001B[38;5;241;43m=\u001B[39;49m\u001B[43mstate\u001B[49m\u001B[43m)\u001B[49m\n",
      "Cell \u001B[0;32mIn[1], line 25\u001B[0m, in \u001B[0;36mAbstractAStarAlgorithm.__init__\u001B[0;34m(self, initial_configuration)\u001B[0m\n\u001B[1;32m     23\u001B[0m \u001B[38;5;28;01mdef\u001B[39;00m \u001B[38;5;21m__init__\u001B[39m(\u001B[38;5;28mself\u001B[39m, initial_configuration: T):\n\u001B[1;32m     24\u001B[0m     \u001B[38;5;28mself\u001B[39m\u001B[38;5;241m.\u001B[39mnext_paths: Dict[\u001B[38;5;28mint\u001B[39m, Path] \u001B[38;5;241m=\u001B[39m {\n\u001B[0;32m---> 25\u001B[0m         \u001B[43minitial_configuration\u001B[49m\u001B[38;5;241;43m.\u001B[39;49m\u001B[43mid\u001B[49m: Path(state\u001B[38;5;241m=\u001B[39minitial_configuration)\n\u001B[1;32m     26\u001B[0m     }\n\u001B[1;32m     27\u001B[0m     \u001B[38;5;28mself\u001B[39m\u001B[38;5;241m.\u001B[39mexplored_states: Dict[\u001B[38;5;28mint\u001B[39m, T] \u001B[38;5;241m=\u001B[39m \u001B[38;5;28mdict\u001B[39m()\n",
      "Cell \u001B[0;32mIn[3], line 8\u001B[0m, in \u001B[0;36mState.id\u001B[0;34m(self)\u001B[0m\n\u001B[1;32m      6\u001B[0m \u001B[38;5;129m@property\u001B[39m \n\u001B[1;32m      7\u001B[0m \u001B[38;5;28;01mdef\u001B[39;00m \u001B[38;5;21mid\u001B[39m(\u001B[38;5;28mself\u001B[39m):\n\u001B[0;32m----> 8\u001B[0m     \u001B[38;5;28;01mreturn\u001B[39;00m \u001B[38;5;28;43mself\u001B[39;49m\u001B[38;5;241;43m.\u001B[39;49m\u001B[38;5;21;43m__hash__\u001B[39;49m\u001B[43m(\u001B[49m\u001B[43m)\u001B[49m\n",
      "File \u001B[0;32m<string>:3\u001B[0m, in \u001B[0;36m__hash__\u001B[0;34m(self)\u001B[0m\n",
      "\u001B[0;31mTypeError\u001B[0m: unhashable type: 'dict'"
     ]
    }
   ],
   "execution_count": 9
  },
  {
   "metadata": {
    "ExecuteTime": {
     "end_time": "2024-07-31T17:13:17.543550Z",
     "start_time": "2024-07-31T17:13:17.501906Z"
    }
   },
   "cell_type": "code",
   "source": "mp.run_astar_algorithm()",
   "id": "cbf0223521f36358",
   "outputs": [
    {
     "ename": "TypeError",
     "evalue": "cannot unpack non-iterable Machine object",
     "output_type": "error",
     "traceback": [
      "\u001B[0;31m---------------------------------------------------------------------------\u001B[0m",
      "\u001B[0;31mTypeError\u001B[0m                                 Traceback (most recent call last)",
      "Cell \u001B[0;32mIn[10], line 1\u001B[0m\n\u001B[0;32m----> 1\u001B[0m \u001B[43mmp\u001B[49m\u001B[38;5;241;43m.\u001B[39;49m\u001B[43mrun_astar_algorithm\u001B[49m\u001B[43m(\u001B[49m\u001B[43m)\u001B[49m\n",
      "Cell \u001B[0;32mIn[1], line 77\u001B[0m, in \u001B[0;36mAbstractAStarAlgorithm.run_astar_algorithm\u001B[0;34m(self)\u001B[0m\n\u001B[1;32m     73\u001B[0m     \u001B[38;5;28;01mreturn\u001B[39;00m \u001B[38;5;28mnext\u001B[39m(path \u001B[38;5;28;01mfor\u001B[39;00m path \u001B[38;5;129;01min\u001B[39;00m \u001B[38;5;28mself\u001B[39m\u001B[38;5;241m.\u001B[39mnext_paths\u001B[38;5;241m.\u001B[39mvalues() \u001B[38;5;28;01mif\u001B[39;00m \u001B[38;5;28mself\u001B[39m\u001B[38;5;241m.\u001B[39mis_target_state(path))\n\u001B[1;32m     75\u001B[0m \u001B[38;5;28;01massert\u001B[39;00m \u001B[38;5;28mself\u001B[39m\u001B[38;5;241m.\u001B[39mnext_paths, \u001B[38;5;124m\"\u001B[39m\u001B[38;5;124mExhausted all paths without reaching target\u001B[39m\u001B[38;5;124m\"\u001B[39m\n\u001B[0;32m---> 77\u001B[0m \u001B[38;5;28;43mself\u001B[39;49m\u001B[38;5;241;43m.\u001B[39;49m\u001B[43mexplore_next_path\u001B[49m\u001B[43m(\u001B[49m\u001B[43m)\u001B[49m\n",
      "Cell \u001B[0;32mIn[1], line 55\u001B[0m, in \u001B[0;36mAbstractAStarAlgorithm.explore_next_path\u001B[0;34m(self)\u001B[0m\n\u001B[1;32m     51\u001B[0m \u001B[38;5;28;01mdef\u001B[39;00m \u001B[38;5;21mexplore_next_path\u001B[39m(\u001B[38;5;28mself\u001B[39m) \u001B[38;5;241m-\u001B[39m\u001B[38;5;241m>\u001B[39m \u001B[38;5;28;01mNone\u001B[39;00m:\n\u001B[1;32m     53\u001B[0m     current_path \u001B[38;5;241m=\u001B[39m \u001B[38;5;28mmin\u001B[39m(\u001B[38;5;28mself\u001B[39m\u001B[38;5;241m.\u001B[39mnext_paths\u001B[38;5;241m.\u001B[39mvalues(), key\u001B[38;5;241m=\u001B[39m\u001B[38;5;28;01mlambda\u001B[39;00m pp: pp\u001B[38;5;241m.\u001B[39mf \u001B[38;5;241m+\u001B[39m pp\u001B[38;5;241m.\u001B[39mh)\n\u001B[0;32m---> 55\u001B[0m     new_paths \u001B[38;5;241m=\u001B[39m \u001B[38;5;28;43mself\u001B[39;49m\u001B[38;5;241;43m.\u001B[39;49m\u001B[43mneighbours\u001B[49m\u001B[43m(\u001B[49m\u001B[43mcurrent_path\u001B[49m\u001B[43m)\u001B[49m\n\u001B[1;32m     56\u001B[0m     \u001B[38;5;28;01mfor\u001B[39;00m path \u001B[38;5;129;01min\u001B[39;00m new_paths:\n\u001B[1;32m     57\u001B[0m         \u001B[38;5;28mself\u001B[39m\u001B[38;5;241m.\u001B[39madd_new_path(path)\n",
      "Cell \u001B[0;32mIn[4], line 9\u001B[0m, in \u001B[0;36mMigratePlan.neighbours\u001B[0;34m(self, path)\u001B[0m\n\u001B[1;32m      6\u001B[0m next_paths \u001B[38;5;241m=\u001B[39m \u001B[38;5;28mset\u001B[39m()\n\u001B[1;32m      8\u001B[0m \u001B[38;5;66;03m# Migrate machines that have no running apps\u001B[39;00m\n\u001B[0;32m----> 9\u001B[0m \u001B[38;5;28;01mfor\u001B[39;00m machine_id, machine \u001B[38;5;129;01min\u001B[39;00m path\u001B[38;5;241m.\u001B[39mstate\u001B[38;5;241m.\u001B[39mmachines:\n\u001B[1;32m     11\u001B[0m     running_apps \u001B[38;5;241m=\u001B[39m [\n\u001B[1;32m     12\u001B[0m         app \u001B[38;5;28;01mfor\u001B[39;00m app\n\u001B[1;32m     13\u001B[0m         \u001B[38;5;129;01min\u001B[39;00m path\u001B[38;5;241m.\u001B[39mstate\u001B[38;5;241m.\u001B[39mapps\u001B[38;5;241m.\u001B[39mvalues()\n\u001B[1;32m     14\u001B[0m         \u001B[38;5;28;01mif\u001B[39;00m machine_id \u001B[38;5;129;01mnot\u001B[39;00m \u001B[38;5;129;01min\u001B[39;00m app\u001B[38;5;241m.\u001B[39mmachines\u001B[38;5;241m.\u001B[39mkeys()\n\u001B[1;32m     15\u001B[0m     ]\n\u001B[1;32m     17\u001B[0m     \u001B[38;5;28;01mif\u001B[39;00m \u001B[38;5;129;01mnot\u001B[39;00m running_apps:\n",
      "\u001B[0;31mTypeError\u001B[0m: cannot unpack non-iterable Machine object"
     ]
    }
   ],
   "execution_count": 10
  },
  {
   "metadata": {},
   "cell_type": "code",
   "source": "[] == []",
   "id": "a4c36a3651f078ed",
   "outputs": [],
   "execution_count": null
  },
  {
   "metadata": {},
   "cell_type": "code",
   "source": "",
   "id": "3bb3313d473a355f",
   "outputs": [],
   "execution_count": null
  }
 ],
 "metadata": {
  "kernelspec": {
   "display_name": "Python 3",
   "language": "python",
   "name": "python3"
  },
  "language_info": {
   "codemirror_mode": {
    "name": "ipython",
    "version": 2
   },
   "file_extension": ".py",
   "mimetype": "text/x-python",
   "name": "python",
   "nbconvert_exporter": "python",
   "pygments_lexer": "ipython2",
   "version": "2.7.6"
  }
 },
 "nbformat": 4,
 "nbformat_minor": 5
}
