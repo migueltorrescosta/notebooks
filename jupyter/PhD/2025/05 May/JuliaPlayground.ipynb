{
 "cells": [
  {
   "cell_type": "code",
   "id": "initial_id",
   "metadata": {
    "collapsed": true,
    "ExecuteTime": {
     "end_time": "2025-05-29T07:52:28.330Z",
     "start_time": "2025-05-29T07:52:27.402Z"
    }
   },
   "source": "using ITensors",
   "outputs": [],
   "execution_count": 2
  },
  {
   "metadata": {
    "ExecuteTime": {
     "end_time": "2025-05-29T07:53:08.890Z",
     "start_time": "2025-05-29T07:53:07.479Z"
    }
   },
   "cell_type": "code",
   "source": [
    "let\n",
    "   i = Index(2, \"i\")\n",
    "   j = Index(3, \"j\")\n",
    "   T = random_itensor(i,j)\n",
    "   @show T\n",
    "end"
   ],
   "id": "c71a9b38610464b0",
   "outputs": [
    {
     "name": "stdout",
     "output_type": "stream",
     "text": [
      "T = ITensor ord=2\n",
      "Dim 1: (dim=2|id=414|\"i\")\n",
      "Dim 2: (dim=3|id=51|\"j\")\n",
      "NDTensors.Dense{Float64, Vector{Float64}}\n",
      " 2×3\n",
      " 1.6286147693729647   1.0054020472311742   1.6826353945973094\n",
      " 1.334259931799032   -1.594540614106492   -0.6361052283745877\n"
     ]
    },
    {
     "data": {
      "text/plain": [
       "ITensor ord=2 (dim=2|id=414|\"i\") (dim=3|id=51|\"j\")\n",
       "NDTensors.Dense{Float64, Vector{Float64}}"
      ]
     },
     "execution_count": 4,
     "metadata": {},
     "output_type": "execute_result"
    }
   ],
   "execution_count": 4
  },
  {
   "metadata": {
    "ExecuteTime": {
     "end_time": "2025-05-29T07:53:33.964Z",
     "start_time": "2025-05-29T07:53:33.945Z"
    }
   },
   "cell_type": "code",
   "source": [
    "using ITensors\n",
    "\n",
    "function main(; d1 = 2, d2 = 3)\n",
    "  # For example:\n",
    "  i = Index(d1,\"i\")\n",
    "  j = Index(d2,\"j\")\n",
    "  T = random_itensor(i,j)\n",
    "  @show T\n",
    "end\n",
    "\n",
    "main(; d1 = 4, d2 = 5)"
   ],
   "id": "3f312a32ee1c55e7",
   "outputs": [
    {
     "name": "stdout",
     "output_type": "stream",
     "text": [
      "T = ITensor ord=2\n",
      "Dim 1: (dim=4|id=297|\"i\")\n",
      "Dim 2: (dim=5|id=235|\"j\")\n",
      "NDTensors.Dense{Float64, Vector{Float64}}\n",
      " 4×5\n",
      " 1.198057858186284     0.8926889911540691  -0.6890804947513375   0.21660322204381324   0.5540857150216846\n",
      " 1.5186106468859861   -1.5804280829931836   0.916251097601279    1.011532084838806    -0.9675146881943785\n",
      " 1.3085059488955746   -1.2245206077258457  -0.7136180781453758   1.2487114824717116   -1.0028900476578566\n",
      " 0.41575886041623855  -1.085587900933968   -0.4108660334949384  -0.9564731299885045   -0.5750054519957531\n"
     ]
    },
    {
     "data": {
      "text/plain": [
       "ITensor ord=2 (dim=4|id=297|\"i\") (dim=5|id=235|\"j\")\n",
       "NDTensors.Dense{Float64, Vector{Float64}}"
      ]
     },
     "execution_count": 5,
     "metadata": {},
     "output_type": "execute_result"
    }
   ],
   "execution_count": 5
  },
  {
   "metadata": {},
   "cell_type": "code",
   "outputs": [],
   "execution_count": null,
   "source": "",
   "id": "4320e5a1209a738a"
  }
 ],
 "metadata": {
  "kernelspec": {
   "display_name": "Julia 1.11.5",
   "language": "julia",
   "name": "julia-1.11"
  },
  "language_info": {
   "codemirror_mode": {
    "name": "ipython",
    "version": 2
   },
   "file_extension": ".py",
   "mimetype": "text/x-python",
   "name": "python",
   "nbconvert_exporter": "python",
   "pygments_lexer": "ipython2",
   "version": "2.7.6"
  }
 },
 "nbformat": 4,
 "nbformat_minor": 5
}
