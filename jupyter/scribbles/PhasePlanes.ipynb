{
 "cells": [
  {
   "cell_type": "markdown",
   "id": "veterinary-material",
   "metadata": {},
   "source": [
    "# Phase Planes\n",
    "\n",
    "Our goal is to study differential equations in 2 dimentions by drawing out their phase planes. This will have three parts:\n",
    "    \n",
    "### 1. Linear Differential Equations\n",
    "    \n",
    "We start by only considering linear phase planes $z' = Az, A \\in \\mathbb{R}^{2 \\times 2 }$\n",
    "\n",
    "### 2. General Differential Equations\n",
    "\n",
    "We draw the phase plane for general equations. This can be done easily with the aid of a computer, not so much by hand.\n",
    "\n",
    "### 3. Linearization of phase planes around equilibrium points\n",
    "\n",
    "We can find equilibrium points easily, and by linearizing the differential equations around this points we can understand their behavior"
   ]
  },
  {
   "cell_type": "markdown",
   "id": "binary-circulation",
   "metadata": {},
   "source": [
    "# Imports"
   ]
  },
  {
   "cell_type": "code",
   "id": "appropriate-greene",
   "metadata": {
    "ExecuteTime": {
     "end_time": "2024-05-22T13:46:56.045968Z",
     "start_time": "2024-05-22T13:46:55.255070Z"
    }
   },
   "source": [
    "import numpy as np\n",
    "import matplotlib.pyplot as plt"
   ],
   "execution_count": 1,
   "outputs": []
  },
  {
   "cell_type": "markdown",
   "id": "careful-technical",
   "metadata": {},
   "source": [
    "# Aux function"
   ]
  },
  {
   "cell_type": "code",
   "id": "extended-marathon",
   "metadata": {
    "ExecuteTime": {
     "end_time": "2024-05-22T13:46:56.052920Z",
     "start_time": "2024-05-22T13:46:56.047726Z"
    }
   },
   "source": [
    "class PhasePlane:\n",
    "    # Class used to draw phase planes. x_prime and y_prime must be real functions of 2 parameters, x and y.\n",
    "\n",
    "    def __init__(self, x_prime, y_prime):\n",
    "        self.x_prime = x_prime\n",
    "        self.y_prime = y_prime\n",
    "\n",
    "    def plot(self, width=3, center=(0, 0)):\n",
    "        Y, X = np.mgrid[-width:width:100j, -width:width:100j]\n",
    "        X += center[0]\n",
    "        Y += center[1]\n",
    "        U = np.array([self.x_prime(x, y) for (x, y) in zip(X, Y)])\n",
    "        V = np.array([self.y_prime(x, y) for (x, y) in zip(X, Y)])\n",
    "        fig, ax = plt.subplots(figsize=(10, 5))\n",
    "\n",
    "        strm = ax.streamplot(X, Y, U, V, color=U, linewidth=1, cmap=\"viridis\")\n",
    "        fig.colorbar(strm.lines)\n",
    "        ax.set_title(\"Phase Plane\")"
   ],
   "execution_count": 2,
   "outputs": []
  },
  {
   "cell_type": "markdown",
   "id": "interested-relations",
   "metadata": {},
   "source": [
    "# 1. Linear Differential Equations\n",
    "\n",
    "Whenever we have a differential equation of the form $z' = Az, A \\in \\mathbb{R}^{2 \\times 2 }$, the behaviour of the solutions is scale invariant (i.e. when the magnitude of $z$ increases, the magnitude of $z'$ increases proportionally), which gives us scaling symmetry. As such the solutions always end up in one of the following four cases, which can be immediately distinguished by calculating the eigenvalues $\\lambda_1 , \\lambda_2 $ of $A$: \n",
    "\n",
    "1. **Node:** $\\lambda_1 \\lambda_2 > 0$\n",
    "2. **Saddle:** $\\lambda_1 \\lambda_2 < 0$\n",
    "3. **Focus:** $\\Re ( \\lambda_1 ) , \\Re (\\lambda_2) \\neq 0$\n",
    "4. **Center:** $\\Re ( \\lambda_1 ) , \\Re (\\lambda_2) = 0$\n",
    "\n",
    "If at least one of the eigenvalues (or their real part) is positive, the equilibrium point will be unstable. If both are negative, then it will be stable and any starting point around it will converge to the equilibrium point\n",
    "\n",
    "*Remarks:*\n",
    "- *$\\Re ( \\lambda ) $ denotes the real part of $ \\lambda $*\n",
    "- *In the plots below yellow represents higher \"speed\", blue represents \"lower\" speed*"
   ]
  },
  {
   "cell_type": "markdown",
   "id": "stainless-hamilton",
   "metadata": {},
   "source": [
    "### Stable Node\n",
    "\n",
    "$ A = \\begin{bmatrix} -2 & 1\\\\ 1 & -2 \\end{bmatrix} $ with eigenvalues / eigenvectors $\\left\\{ \\begin{matrix} \\lambda = -1 \\implies & v = [1,1]\\\\ \\lambda = -3 \\implies & v = [1,-1] \\end{matrix} \\right . $\n",
    "\n",
    "Since the eigenvalues are negative, this is a **stable** equilibrium: all paths converge to the $(0,0)$ point"
   ]
  },
  {
   "cell_type": "code",
   "id": "tired-rescue",
   "metadata": {
    "ExecuteTime": {
     "end_time": "2024-05-22T13:46:56.738658Z",
     "start_time": "2024-05-22T13:46:56.054559Z"
    }
   },
   "source": [
    "PhasePlane(lambda x, y: -2 * x + y, lambda x, y: +x - 2 * y).plot(width=5)"
   ],
   "execution_count": 3,
   "outputs": []
  },
  {
   "cell_type": "markdown",
   "id": "varying-youth",
   "metadata": {},
   "source": [
    "### Unstable Node\n",
    "\n",
    "$ A = \\begin{bmatrix} 1 & -1\\\\ 0 & 2 \\end{bmatrix} $ with eigenvalues / eigenvectors $\\left\\{ \\begin{matrix} \\lambda = 1 \\implies & v = [1,0]\\\\ \\lambda = 2 \\implies & v = [1,-1] \\end{matrix} \\right . $\n",
    "\n",
    "Since the eigenvalues are positive, this is an **unstable** equilibrium : all path solutions diverge from $(0,0)$"
   ]
  },
  {
   "cell_type": "code",
   "id": "arctic-grocery",
   "metadata": {
    "ExecuteTime": {
     "end_time": "2024-05-22T13:46:57.422275Z",
     "start_time": "2024-05-22T13:46:56.740504Z"
    }
   },
   "source": [
    "PhasePlane(lambda x, y: x - y, lambda x, y: 2 * y).plot(width=5)"
   ],
   "execution_count": 4,
   "outputs": []
  },
  {
   "cell_type": "markdown",
   "id": "catholic-sessions",
   "metadata": {},
   "source": [
    "### Saddle\n",
    "\n",
    "$ A = \\begin{bmatrix} 1 & 0\\\\ 1 & -1 \\end{bmatrix} $ with eigenvalues / eigenvectors $\\left\\{ \\begin{matrix} \\lambda = 1 \\implies & v = [2,1]\\\\ \\lambda = -1 \\implies & v = [0,1] \\end{matrix} \\right . $\n",
    "\n",
    "Notice how the eigenvectors are clear in the image below: The $ \\lambda = -1 $ is observed in the convergence along the vector $[0,1]$, and the $ \\lambda = 1 $ is observed in the divergence along the vector $[2,1]$"
   ]
  },
  {
   "cell_type": "code",
   "id": "confirmed-louisiana",
   "metadata": {
    "ExecuteTime": {
     "end_time": "2024-05-22T13:46:58.212878Z",
     "start_time": "2024-05-22T13:46:57.423436Z"
    }
   },
   "source": [
    "PhasePlane(lambda x, y: x, lambda x, y: x - y).plot(width=5)"
   ],
   "execution_count": 5,
   "outputs": []
  },
  {
   "cell_type": "markdown",
   "id": "western-confirmation",
   "metadata": {},
   "source": [
    "### Stable Focus\n",
    "\n",
    "$ A = \\begin{bmatrix} -1 & 4\\\\ -1 & -1 \\end{bmatrix} $ with eigenvalues / eigenvectors $\\left\\{ \\begin{matrix} \\lambda = -1 + 2i \\implies & v = [2i,-1]\\\\ \\lambda = -1-2i \\implies & v = [2i,1] \\end{matrix} \\right . $\n",
    "\n",
    "Since the real part of the eigenvalues is negative, we get that $(0,0)$ is a stable focus, and the solution paths rotate around it while converging"
   ]
  },
  {
   "cell_type": "code",
   "id": "collected-swift",
   "metadata": {
    "ExecuteTime": {
     "end_time": "2024-05-22T13:46:58.860049Z",
     "start_time": "2024-05-22T13:46:58.214303Z"
    }
   },
   "source": [
    "PhasePlane(lambda x, y: -x + 4 * y, lambda x, y: -x - y).plot(width=5)"
   ],
   "execution_count": 6,
   "outputs": []
  },
  {
   "cell_type": "markdown",
   "id": "according-disclaimer",
   "metadata": {},
   "source": [
    "### Unstable Focus\n",
    "\n",
    "$ A = \\begin{bmatrix} 1 & 4\\\\ -1 & 1 \\end{bmatrix} $ with eigenvalues / eigenvectors $\\left\\{ \\begin{matrix} \\lambda = 1 + 2i \\implies & v = [2i,-1]\\\\ \\lambda = 1-2i \\implies & v = [2i,1] \\end{matrix} \\right .$\n",
    "\n",
    "Since the real part of the eigenvalues is positive, we get that $(0,0)$ is an unstable focus, and the solution paths rotate around it while diverging"
   ]
  },
  {
   "cell_type": "code",
   "id": "early-shakespeare",
   "metadata": {
    "ExecuteTime": {
     "end_time": "2024-05-22T13:46:59.394153Z",
     "start_time": "2024-05-22T13:46:58.861070Z"
    }
   },
   "source": [
    "PhasePlane(lambda x, y: x + 4 * y, lambda x, y: -x + y).plot(width=5)"
   ],
   "execution_count": 7,
   "outputs": []
  },
  {
   "cell_type": "markdown",
   "id": "fundamental-marks",
   "metadata": {},
   "source": [
    "### Center\n",
    "\n",
    "$ A = \\begin{bmatrix} 0 & 4\\\\ -1 & 0 \\end{bmatrix} $, with eigenvalues /eigenvectors $\\left\\{ \\begin{matrix} \\lambda = 2i \\implies & v = [2,i]\\\\ \\lambda = -2i \\implies & v = [2,-i] \\end{matrix} \\right .$\n",
    "\n",
    "Since the real part of the eigenvalues is zero, we get that $(0,0)$ is a center, and the solution paths rotate around it."
   ]
  },
  {
   "cell_type": "code",
   "id": "threatened-electron",
   "metadata": {
    "ExecuteTime": {
     "end_time": "2024-05-22T13:46:59.962760Z",
     "start_time": "2024-05-22T13:46:59.395447Z"
    }
   },
   "source": [
    "PhasePlane(lambda x, y: 4 * y, lambda x, y: -x).plot(width=5)"
   ],
   "execution_count": 8,
   "outputs": []
  },
  {
   "cell_type": "markdown",
   "id": "nervous-dayton",
   "metadata": {},
   "source": [
    "### Weird One\n",
    "\n",
    "$ A = \\begin{bmatrix} -1 & 1\\\\ 1 & -1 \\end{bmatrix} $, with eigenvalues / eigenvectors $\\left\\{ \\begin{matrix} \\lambda = 0 \\implies & v = [1,1]\\\\ \\lambda = -2 \\implies & v = [1,-1] \\end{matrix} \\right. $\n",
    "\n",
    "We get an eigenvalue of zero with eigenvector $[1,1]$, meaning that all points in that line are equilibrium points, and no solution paths cross it. Above and below that line we get solutions. This example can be seen as a limit case of the center equilibrium, where the speed along one of the eigenvectors converges to zero, so the ellipse around it gets elongated to infinity"
   ]
  },
  {
   "cell_type": "code",
   "id": "constitutional-columbus",
   "metadata": {
    "ExecuteTime": {
     "end_time": "2024-05-22T13:47:00.706109Z",
     "start_time": "2024-05-22T13:46:59.964094Z"
    }
   },
   "source": [
    "PhasePlane(lambda x, y: -x + y, lambda x, y: y - x).plot(width=5)"
   ],
   "execution_count": 9,
   "outputs": []
  },
  {
   "cell_type": "markdown",
   "id": "hairy-museum",
   "metadata": {},
   "source": [
    "# 2. General Differential Equations\n",
    "\n",
    "General Differential Equations have much weirder phase planes. We simply showcase a few below, without much study around it"
   ]
  },
  {
   "cell_type": "markdown",
   "id": "incorporate-spouse",
   "metadata": {},
   "source": [
    "### Case Study\n",
    "\n",
    "$ \\left\\{\\begin{matrix}\n",
    "x' = & x^2 + y^2 \\\\ \n",
    "y' = & x^2 - y^2\n",
    "\\end{matrix}\\right. $"
   ]
  },
  {
   "cell_type": "code",
   "id": "younger-template",
   "metadata": {
    "ExecuteTime": {
     "end_time": "2024-05-22T13:47:01.345813Z",
     "start_time": "2024-05-22T13:47:00.707023Z"
    }
   },
   "source": [
    "PhasePlane(lambda x, y: x**2 + y**2, lambda x, y: x**2 - y**2).plot()"
   ],
   "execution_count": 10,
   "outputs": []
  },
  {
   "cell_type": "markdown",
   "id": "framed-anthropology",
   "metadata": {},
   "source": [
    "### Case Study\n",
    "\n",
    "$ \\left\\{\\begin{matrix}\n",
    "x' = & x + y^2 \\\\ \n",
    "y' = & x^2 - y^2\n",
    "\\end{matrix}\\right. $"
   ]
  },
  {
   "cell_type": "code",
   "id": "manual-cattle",
   "metadata": {
    "ExecuteTime": {
     "end_time": "2024-05-22T13:47:02.209775Z",
     "start_time": "2024-05-22T13:47:01.346860Z"
    }
   },
   "source": [
    "PhasePlane(lambda x, y: x + y**2, lambda x, y: x**2 - y**2).plot()"
   ],
   "execution_count": 11,
   "outputs": []
  },
  {
   "cell_type": "markdown",
   "id": "prompt-review",
   "metadata": {},
   "source": [
    "### Case Study\n",
    "\n",
    "$ \\left\\{\\begin{matrix}\n",
    "x' = & \\sin ( y ) \\\\ \n",
    "y' = & \\cos ( x )\n",
    "\\end{matrix}\\right. $"
   ]
  },
  {
   "cell_type": "code",
   "id": "responsible-oxygen",
   "metadata": {
    "ExecuteTime": {
     "end_time": "2024-05-22T13:47:02.986454Z",
     "start_time": "2024-05-22T13:47:02.211800Z"
    }
   },
   "source": [
    "PhasePlane(lambda x, y: np.sin(y), lambda x, y: np.cos(x)).plot(width=6)"
   ],
   "execution_count": 12,
   "outputs": []
  },
  {
   "cell_type": "markdown",
   "id": "bizarre-sierra",
   "metadata": {},
   "source": [
    "### Case Study\n",
    "\n",
    "$ \\left\\{\\begin{matrix}\n",
    "x' = & - x / y \\\\ \n",
    "y' = & x-y\n",
    "\\end{matrix}\\right. $"
   ]
  },
  {
   "cell_type": "code",
   "id": "explicit-latvia",
   "metadata": {
    "ExecuteTime": {
     "end_time": "2024-05-22T13:47:03.598458Z",
     "start_time": "2024-05-22T13:47:02.988170Z"
    }
   },
   "source": [
    "PhasePlane(lambda x, y: -np.divide(x, y), lambda x, y: x - y).plot(width=30)"
   ],
   "execution_count": 13,
   "outputs": []
  },
  {
   "cell_type": "markdown",
   "id": "victorian-yukon",
   "metadata": {},
   "source": [
    "# 3. Linearization of phase planes around equilibrium points"
   ]
  },
  {
   "cell_type": "markdown",
   "id": "adjacent-collection",
   "metadata": {},
   "source": [
    "### Case study\n",
    "\n",
    "$ \\left\\{\\begin{matrix}\n",
    "x' = & (1-x^2)(x+y) \\\\ \n",
    "y' = & (x^2 + y^2-1)\n",
    "\\end{matrix}\\right. $"
   ]
  },
  {
   "cell_type": "code",
   "id": "effective-student",
   "metadata": {
    "ExecuteTime": {
     "end_time": "2024-05-22T13:47:04.274275Z",
     "start_time": "2024-05-22T13:47:03.600119Z"
    }
   },
   "source": [
    "phase_plane = PhasePlane(\n",
    "    lambda x, y: (1 - x**2) * (x + y), lambda x, y: (x**2 + y**2 - 1)\n",
    ")\n",
    "phase_plane.plot()"
   ],
   "execution_count": 14,
   "outputs": []
  },
  {
   "cell_type": "markdown",
   "id": "informed-heart",
   "metadata": {},
   "source": [
    "By solving the system of equations \n",
    "\n",
    "$ \\left\\{\\begin{matrix}\n",
    "x' & = & 0 \\\\ \n",
    "y' & = & 0\n",
    "\\end{matrix}\\right. \\Leftrightarrow \\left\\{\\begin{matrix}\n",
    "(1-x^2)(x+y) & = & 0 \\\\ \n",
    "(x^2 + y^2-1) & = & 0\n",
    "\\end{matrix}\\right. $\n",
    "\n",
    "we get the equilibrium points\n",
    "\n",
    "\n",
    "$(1,0)\\\\ (-1,0)\\\\ \\frac{1}{\\sqrt{2}} ( 1, -1)\\\\ \\frac{1}{\\sqrt{2}}( -1, 1)$"
   ]
  },
  {
   "cell_type": "markdown",
   "id": "acute-premises",
   "metadata": {},
   "source": [
    "#### Studying the equilibrium point $(1,0)$\n",
    "\n",
    "First lets have a look at the phase plane around this equilibrium below. It converges so it looks like a stable node."
   ]
  },
  {
   "cell_type": "code",
   "id": "voluntary-amplifier",
   "metadata": {
    "ExecuteTime": {
     "end_time": "2024-05-22T13:47:04.994399Z",
     "start_time": "2024-05-22T13:47:04.275445Z"
    }
   },
   "source": [
    "phase_plane.plot(center=(1, 0), width=0.1)"
   ],
   "execution_count": 15,
   "outputs": []
  },
  {
   "cell_type": "markdown",
   "id": "visible-quebec",
   "metadata": {},
   "source": [
    "Analytically, this can be done by linearizing the set of equations around $(1,0)$, similar to how Taylor Series are calculated. Given a general equilibrium point $(x_0, y_0)$, and the diferential equation given by $[x',y'] = f(x,y) $, we want to write\n",
    "\n",
    "$(x', y') \\approx f(x_0,y_0) + \\frac{\\partial}{\\partial x} f(x,y) \\Big|_{(x_0,y_0)} (x-x_0) + \\frac{\\partial}{\\partial y} f(x,y)\\Big|_{(x_0,y_0)} (y-y_0)$\n",
    "\n",
    "To make better sense of this, let's quickly apply this to our example. We have\n",
    "\n",
    "$ \\left\\{\\begin{matrix}\n",
    "x' = & (1-x^2)(x+y) \\\\ \n",
    "y' = & (x^2 + y^2-1)\n",
    "\\end{matrix}\\right. $\n",
    "\n",
    "so\n",
    "\n",
    "$f(x,y) = \\left [ \\begin{matrix}\n",
    "(1-x^2)(x+y) \\\\ \n",
    "(x^2 + y^2-1)\n",
    "\\end{matrix}\\right ] $\n",
    "\n",
    "$ \\frac{\\partial}{\\partial x} f(x,y)\\Big|_{(1,0)} = \\left [ \\begin{matrix}\n",
    "-2x(x+y) + (1-x^2) \\\\ \n",
    "2x \n",
    "\\end{matrix}\\right ]\\Big|_{(1,0)} = \\left [ \\begin{matrix} -2 \\\\ 2 \\end{matrix}\\right ]$\n",
    "\n",
    "$ \\frac{\\partial}{\\partial y} f(x,y)\\Big|_{(1,0)} = \\left [ \\begin{matrix}\n",
    "(1-x^2) \\\\ \n",
    "2y \n",
    "\\end{matrix}\\right ]\\Big|_{(1,0)} = \\left [ \\begin{matrix} 0 \\\\ 0 \\end{matrix}\\right ]$\n",
    "\n",
    "By concatenating the 2 matrices, we get that \n",
    "\n",
    "$ \\left [ \\begin{matrix} x' \\\\ y' \\end{matrix}\\right ] \\approx \n",
    "\\left [ \\begin{matrix}\n",
    "-2 & 0\\\\ \n",
    "2 & 0\n",
    "\\end{matrix}\\right ]\n",
    "\\left [ \\begin{matrix} x-1 \\\\ y \\end{matrix}\\right ]\n",
    "$\n",
    "\n",
    "By analysing the matrix $A= \\left [ \\begin{matrix} -2 & 0\\\\ 2 & 0 \\end{matrix}\\right ]$, we get the eigenvalues / eigenvectors $\\left\\{ \\begin{matrix} \\lambda = 0 \\implies & v = [0,1]\\\\ \\lambda = -2 \\implies & v = [1,-1] \\end{matrix} \\right. $\n",
    "\n",
    "Indeed, we notice that along the vector $[1,-1]$ we converge to the equilibrium point, whereas aling the vector $[0,1]$ no lines cross.\n",
    "\n",
    "Since this linearization only gives us an approximation of the actual solution, I compare below the phase plane of the original equation with the phase plane of the linearized approximation."
   ]
  },
  {
   "cell_type": "code",
   "id": "emotional-ground",
   "metadata": {
    "ExecuteTime": {
     "end_time": "2024-05-22T13:47:05.787051Z",
     "start_time": "2024-05-22T13:47:04.995462Z"
    }
   },
   "source": [
    "phase_plane.plot(center=(1, 0), width=0.1)"
   ],
   "execution_count": 16,
   "outputs": []
  },
  {
   "cell_type": "code",
   "id": "rough-southeast",
   "metadata": {
    "ExecuteTime": {
     "end_time": "2024-05-22T13:47:06.683278Z",
     "start_time": "2024-05-22T13:47:05.788060Z"
    }
   },
   "source": [
    "PhasePlane(lambda x, y: -2 * x, lambda x, y: 2 * x).plot()"
   ],
   "execution_count": 17,
   "outputs": []
  },
  {
   "cell_type": "markdown",
   "id": "differential-depth",
   "metadata": {},
   "source": [
    "# Playground\n",
    "\n",
    "Use this cell to test out the phase plane for linear differential equations $z' = Az, A \\in \\mathbb{R}^{2 \\times 2 }$, with $A= \\left [ \\begin{matrix} a & b\\\\ c & d \\end{matrix}\\right ]$"
   ]
  },
  {
   "cell_type": "code",
   "id": "exposed-exploration",
   "metadata": {
    "ExecuteTime": {
     "end_time": "2024-05-22T13:47:07.332664Z",
     "start_time": "2024-05-22T13:47:06.684312Z"
    }
   },
   "source": [
    "a = 0\n",
    "b = -2\n",
    "c = 2\n",
    "d = 2\n",
    "\n",
    "PhasePlane(lambda x, y: a * x + b * y, lambda x, y: c * x + d * y).plot(width=2)"
   ],
   "execution_count": 18,
   "outputs": []
  }
 ],
 "metadata": {
  "kernelspec": {
   "display_name": "Python 3",
   "language": "python",
   "name": "python3"
  },
  "language_info": {
   "codemirror_mode": {
    "name": "ipython",
    "version": 3
   },
   "file_extension": ".py",
   "mimetype": "text/x-python",
   "name": "python",
   "nbconvert_exporter": "python",
   "pygments_lexer": "ipython3",
   "version": "3.8.8"
  }
 },
 "nbformat": 4,
 "nbformat_minor": 5
}
