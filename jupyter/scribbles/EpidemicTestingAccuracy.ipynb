{
 "cells": [
  {
   "cell_type": "code",
   "execution_count": 8,
   "metadata": {},
   "source": [
    "import numpy as np\n",
    "import seaborn as sns\n",
    "import itertools"
   ],
   "outputs": []
  },
  {
   "cell_type": "code",
   "execution_count": 35,
   "metadata": {},
   "source": [
    "def false_positives(infection_rate, accuracy):\n",
    "    return np.divide(\n",
    "        infection_rate * accuracy,\n",
    "        infection_rate * accuracy + (1 - infection_rate) * (1 - accuracy),\n",
    "    )"
   ],
   "outputs": []
  },
  {
   "cell_type": "code",
   "execution_count": 34,
   "metadata": {},
   "source": [
    "a = 10\n",
    "b = 10\n",
    "infection_rates = np.linspace(1 / a, 1 - 1 / a, a - 1)\n",
    "accuracies = np.linspace(1 / b, 1 - 1 / b, b - 1)\n",
    "rates = np.array(\n",
    "    [\n",
    "        false_positives(rate, accuracy)\n",
    "        for (rate, accuracy) in itertools.product(infection_rates, accuracies)\n",
    "    ]\n",
    ").reshape(a - 1, b - 1)"
   ],
   "outputs": []
  },
  {
   "cell_type": "code",
   "execution_count": 33,
   "metadata": {},
   "source": [
    "sns.heatmap(rates)"
   ],
   "outputs": []
  },
  {
   "cell_type": "markdown",
   "metadata": {},
   "source": [
    "The 50% false positive line roughly matches the y=x line. As such for a disease that infects 1 in a million people, we need a test which fails at most once in a million in order to get 50% of the tests to be false positives. This is a rough value."
   ]
  },
  {
   "cell_type": "code",
   "execution_count": null,
   "metadata": {},
   "source": [],
   "outputs": []
  }
 ],
 "metadata": {
  "kernelspec": {
   "display_name": "Python 3 (ipykernel)",
   "language": "python",
   "name": "python3"
  },
  "language_info": {
   "codemirror_mode": {
    "name": "ipython",
    "version": 3
   },
   "file_extension": ".py",
   "mimetype": "text/x-python",
   "name": "python",
   "nbconvert_exporter": "python",
   "pygments_lexer": "ipython3",
   "version": "3.11.6"
  }
 },
 "nbformat": 4,
 "nbformat_minor": 4
}
