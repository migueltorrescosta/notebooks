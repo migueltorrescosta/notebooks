{
 "cells": [
  {
   "cell_type": "markdown",
   "id": "07e0c734-c06c-43a6-babd-83eed437a0c7",
   "metadata": {},
   "source": [
    "# Comparison\n",
    "We plot the growth of $m \\log m = \\log n \\Leftrightarrow me^m = n$"
   ]
  },
  {
   "cell_type": "code",
   "execution_count": 4,
   "id": "837bde51-81c1-4377-97ae-660b643c5113",
   "metadata": {},
   "source": [
    "import numpy as np\n",
    "from matplotlib import pyplot as plt"
   ],
   "outputs": []
  },
  {
   "cell_type": "code",
   "execution_count": 19,
   "id": "fc6868ba-c4d4-4fb1-b98c-d6f63fb3bd15",
   "metadata": {},
   "source": [
    "np.log(3)"
   ],
   "outputs": []
  },
  {
   "cell_type": "code",
   "execution_count": null,
   "id": "8b4f205d-0672-4210-ad55-5fbc77e20248",
   "metadata": {},
   "source": [
    "np.geomspace"
   ],
   "outputs": []
  },
  {
   "cell_type": "code",
   "execution_count": 27,
   "id": "d675586e-cdf6-4614-8696-1470dfb5d305",
   "metadata": {},
   "source": [
    "x = range(1, 100)"
   ],
   "outputs": []
  },
  {
   "cell_type": "code",
   "execution_count": 28,
   "id": "e4aa5a3d-2641-4afa-9ef4-a0b4cc7cb5c4",
   "metadata": {},
   "source": [
    "plt.scatter(x=x, y=[np.log(t) * t for t in x])"
   ],
   "outputs": []
  },
  {
   "cell_type": "code",
   "execution_count": null,
   "id": "60b1881d-3a0c-4110-88f5-42a683098322",
   "metadata": {},
   "source": [],
   "outputs": []
  }
 ],
 "metadata": {
  "kernelspec": {
   "display_name": "Python 3 (ipykernel)",
   "language": "python",
   "name": "python3"
  },
  "language_info": {
   "codemirror_mode": {
    "name": "ipython",
    "version": 3
   },
   "file_extension": ".py",
   "mimetype": "text/x-python",
   "name": "python",
   "nbconvert_exporter": "python",
   "pygments_lexer": "ipython3",
   "version": "3.11.6"
  }
 },
 "nbformat": 4,
 "nbformat_minor": 5
}
