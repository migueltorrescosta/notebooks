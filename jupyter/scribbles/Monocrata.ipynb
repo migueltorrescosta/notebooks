{
 "cells": [
  {
   "metadata": {
    "ExecuteTime": {
     "end_time": "2024-05-22T17:04:24.670879Z",
     "start_time": "2024-05-22T17:04:24.659025Z"
    }
   },
   "cell_type": "code",
   "source": [
    "from bokeh.plotting import output_notebook\n",
    "output_notebook()"
   ],
   "id": "13ede32c55c54d1",
   "execution_count": 61,
   "outputs": []
  },
  {
   "metadata": {},
   "cell_type": "markdown",
   "source": [
    "# Monocrata\n",
    "\n",
    "Our goal is to provide a simple interface, where we can control different Policies the government can take, and see the impact they have on different parts of our system. This is a toy model, which does NOT take into account the complexities of the real world. I hope this illuminates some of the trade-offs of some of these decisions.\n",
    "\n",
    "## Implementation\n",
    "\n",
    "- Inputs\n",
    "    - `PolicySet`: The decisions available to the client.\n",
    "    - `Person`: Description of an individual, for tax purposes. Contains the methods:\n",
    "        - `random` to generate an individual following a sensible distribution.\n",
    "        - `tax_burden` to calculate how much this person owns in taxes.\n",
    "    - `PopulationSize`: Total number of individuals.\n",
    "- Results:\n",
    "    - `Budget`: The distribution of the available budget per sector, together with the yearly surplus/deficit."
   ],
   "id": "cc7a6a444cf85555"
  },
  {
   "metadata": {},
   "cell_type": "markdown",
   "source": [
    "## Code\n",
    "\n",
    "The 2 classes below define inputs and outputs needed for this model"
   ],
   "id": "25bf5026a76e69f6"
  },
  {
   "metadata": {
    "ExecuteTime": {
     "end_time": "2024-05-22T17:04:24.684468Z",
     "start_time": "2024-05-22T17:04:24.672075Z"
    }
   },
   "cell_type": "code",
   "source": [
    "from dataclasses import dataclass\n",
    "import numpy as np\n",
    "\n",
    "@dataclass\n",
    "class PolicySet:\n",
    "    IMI: float = .1\n",
    "    IRS: float = .23\n",
    "    healthcare_budget: int = 20_000_000\n",
    "    education_budget: int = 30_000_000\n",
    "\n",
    "@dataclass\n",
    "class Person:\n",
    "    income: float\n",
    "    \n",
    "    def __init__(self): # Unrealistic model generating incomes used for testing purposes\n",
    "        self.income = np.random.uniform(low=0, high=10_000)\n",
    "\n",
    "    def tax_burden(self, policy_set: PolicySet) -> float: # total i.e. absolute tax_burden\n",
    "        irs_total = policy_set.IRS * self.income\n",
    "        imi_total = max(self.income-1_000,0) * policy_set.IMI\n",
    "        return min(irs_total + imi_total, self.income) # unrealistic model used for testing purposes \n",
    "\n",
    "@dataclass\n",
    "class Budget:\n",
    "    total: int\n",
    "    healthcare: int\n",
    "    education: int\n",
    "    \n",
    "    @property\n",
    "    def deficit(self):\n",
    "        return self.total - sum([self.healthcare, self.education])"
   ],
   "id": "fe857d39620c0ee6",
   "execution_count": 62,
   "outputs": []
  },
  {
   "metadata": {},
   "cell_type": "markdown",
   "source": "The simulator represents our model of how inputs map to results for our country. It calculates the tax_burden first. Then we use a Markov simulation to obtain the expected budget. Finally",
   "id": "25e71a0db595f2f2"
  },
  {
   "metadata": {
    "ExecuteTime": {
     "end_time": "2024-05-22T17:04:24.704327Z",
     "start_time": "2024-05-22T17:04:24.685856Z"
    }
   },
   "cell_type": "code",
   "source": [
    "from tqdm import tqdm\n",
    "\n",
    "def national_budget_calculator(\n",
    "        policy_set: PolicySet,\n",
    "        population_size: int = 10_500_000\n",
    ") -> Budget:\n",
    "    tax_contribution_list = [\n",
    "        Person().tax_burden(policy_set)\n",
    "        for _\n",
    "        in tqdm(range(min(population_size,10**5)))\n",
    "    ]\n",
    "    revenue = sum(tax_contribution_list)\n",
    "    return Budget(\n",
    "        total=revenue,\n",
    "        healthcare=PolicySet.healthcare_budget,\n",
    "        education=PolicySet.education_budget,\n",
    "    )"
   ],
   "id": "d950f068d1137c4",
   "execution_count": 63,
   "outputs": []
  },
  {
   "metadata": {},
   "cell_type": "markdown",
   "source": "# Visualized",
   "id": "4f8410a6f4743dda"
  },
  {
   "metadata": {},
   "cell_type": "markdown",
   "source": "We chose to use the default values for both policies and population distributions",
   "id": "5ac2dce40136e250"
  },
  {
   "metadata": {
    "ExecuteTime": {
     "end_time": "2024-05-22T17:04:25.103147Z",
     "start_time": "2024-05-22T17:04:24.708339Z"
    }
   },
   "cell_type": "code",
   "source": [
    "budget = national_budget_calculator(policy_set=PolicySet())\n",
    "budget"
   ],
   "id": "ca666463d01e2361",
   "execution_count": 64,
   "outputs": []
  },
  {
   "metadata": {},
   "cell_type": "markdown",
   "source": [
    "## Tax burden\n",
    "\n",
    "The plot below showcases the tax burden as a function of a person's income"
   ],
   "id": "41d4ed2bb81fb287"
  },
  {
   "metadata": {
    "ExecuteTime": {
     "end_time": "2024-05-22T17:04:26.640977Z",
     "start_time": "2024-05-22T17:04:25.104489Z"
    }
   },
   "cell_type": "code",
   "source": [
    "from matplotlib import pyplot as plt\n",
    "ps = PolicySet()\n",
    "observations = [\n",
    "    (p.income, np.divide(p.tax_burden(ps), p.income))\n",
    "     for p\n",
    "     in [Person() for _ in tqdm(range(10**5))] \n",
    "]\n",
    "[income_array, tax_burden_array] = list(zip(*observations))\n",
    "\n",
    "# Plot\n",
    "fig, ax = plt.subplots(figsize = (15,2))\n",
    "ax.scatter(income_array, tax_burden_array, s=1)\n",
    "ax.set_xscale(\"log\")\n",
    "ax.set_ylim(ymin=0, ymax=1)"
   ],
   "id": "7b22d609d4aa3aef",
   "execution_count": 65,
   "outputs": []
  },
  {
   "metadata": {},
   "cell_type": "markdown",
   "source": [
    "## Budget\n",
    "\n",
    "Summary of the expenses"
   ],
   "id": "6026a91fe77c9588"
  },
  {
   "metadata": {
    "ExecuteTime": {
     "end_time": "2024-05-22T17:15:05.722179Z",
     "start_time": "2024-05-22T17:15:05.561222Z"
    }
   },
   "cell_type": "code",
   "source": [
    "import matplotlib.pyplot as plt\n",
    "import numpy as np\n",
    "\n",
    "# data from https://allisonhorst.github.io/palmerpenguins/\n",
    "\n",
    "species = (\n",
    "    \"Adelie\",\n",
    "    \"Chinstrap\",\n",
    "    \"Gentoo\",\n",
    ")\n",
    "weight_counts = {\n",
    "    \"Below\": np.array([70, 31, 58]),\n",
    "    \"Above\": np.array([82, 37, 66]),\n",
    "}\n",
    "width = 0.5\n",
    "\n",
    "fig, ax = plt.subplots()\n",
    "bottom = np.zeros(3)\n",
    "\n",
    "for boolean, budget_value in weight_counts.items():\n",
    "    p = ax.bar(species, budget_value, width, label=boolean, bottom=bottom)\n",
    "    bottom += budget_value\n",
    "\n",
    "ax.set_title(\"Number of penguins with above average body mass\")\n",
    "ax.legend(loc=\"upper right\")\n",
    "\n",
    "plt.show()"
   ],
   "id": "491fbf5eae62a998",
   "execution_count": 71,
   "outputs": []
  },
  {
   "metadata": {
    "ExecuteTime": {
     "end_time": "2024-05-22T21:41:16.812643Z",
     "start_time": "2024-05-22T21:41:16.313622Z"
    }
   },
   "cell_type": "code",
   "source": [
    "budget_1 = national_budget_calculator(policy_set=PolicySet())\n",
    "budget_2 = national_budget_calculator(policy_set=PolicySet(IRS=.4))\n",
    "\n",
    "policies = [\"ps_1\", \"ps_2\"]\n",
    "columns = [\"total\", \"healthcare\", \"education\", \"deficit\"]\n",
    "\n",
    "budget_as_dict = {\n",
    "    c: [budget_1.__getattribute__(c), budget_2.__getattribute__(c)]\n",
    "    for c in columns   \n",
    "}\n",
    "\n",
    "fig, ax = plt.subplots()\n",
    "bottom = np.zeros(2)\n",
    "\n",
    "for boolean, budget_value in budget_as_dict.items():\n",
    "    p = ax.bar(policies, budget_value, width, label=boolean, bottom=bottom)\n",
    "    bottom += budget_value\n",
    "\n",
    "ax.set_title(\"Number of penguins with above average body mass\")\n",
    "ax.legend(loc=\"upper right\")\n",
    "\n",
    "plt.show()"
   ],
   "id": "8cae31b5a72fd146",
   "execution_count": 82,
   "outputs": []
  },
  {
   "metadata": {},
   "cell_type": "markdown",
   "source": "# Unrelated",
   "id": "e3d1969aa173c91c"
  },
  {
   "metadata": {
    "ExecuteTime": {
     "end_time": "2024-05-22T17:04:26.808669Z",
     "start_time": "2024-05-22T17:04:26.746105Z"
    }
   },
   "cell_type": "code",
   "source": [
    "from bokeh.layouts import column, row\n",
    "from bokeh.models import ColumnDataSource, CustomJS, Slider\n",
    "from bokeh.plotting import figure, show\n",
    "\n",
    "x = np.linspace(0, 10, 500)\n",
    "y = np.sin(x)\n",
    "\n",
    "source = ColumnDataSource(data=dict(x=x, y=y))\n",
    "\n",
    "plot = figure(y_range=(-10, 10), width=400, height=400)\n",
    "plot.line('x', 'y', source=source, line_width=3, line_alpha=0.6)\n",
    "\n",
    "amp = Slider(start=0.1, end=10, value=1, step=.1, title=\"Amplitude\")\n",
    "freq = Slider(start=0.1, end=10, value=1, step=.1, title=\"Frequency\")\n",
    "phase = Slider(start=-6.4, end=6.4, value=0, step=.1, title=\"Phase\")\n",
    "offset = Slider(start=-9, end=9, value=0, step=.1, title=\"Offset\")\n",
    "\n",
    "callback = CustomJS(\n",
    "    args=dict(source=source, amp=amp, freq=freq, phase=phase, offset=offset),\n",
    "    code=\"\"\"\n",
    "        const A = amp.value\n",
    "        const k = freq.value\n",
    "        const phi = phase.value\n",
    "        const B = offset.value\n",
    "    \n",
    "        const x = source.data.x\n",
    "        const y = Array.from(x, (x) => B + A*Math.sin(k*x+phi))\n",
    "        source.data = { x, y }\n",
    "        \"\"\"\n",
    ")\n",
    "\n",
    "amp.js_on_change('value', callback)\n",
    "freq.js_on_change('value', callback)\n",
    "phase.js_on_change('value', callback)\n",
    "offset.js_on_change('value', callback)\n",
    "\n",
    "show(\n",
    "    row(\n",
    "        plot,\n",
    "        column(amp, freq, phase, offset)\n",
    "    )\n",
    ")"
   ],
   "id": "dd74ec98cf061313",
   "execution_count": 67,
   "outputs": []
  },
  {
   "metadata": {
    "ExecuteTime": {
     "end_time": "2024-05-22T17:04:26.858540Z",
     "start_time": "2024-05-22T17:04:26.810101Z"
    }
   },
   "cell_type": "code",
   "source": [
    "from bokeh.plotting import figure, show\n",
    "\n",
    "fruits = ['Apples', 'Pears', 'Nectarines', 'Plums', 'Grapes', 'Strawberries']\n",
    "counts = [5, 3, 4, 2, 4, 6]\n",
    "\n",
    "p = figure(\n",
    "    x_range=fruits,\n",
    "    height=350,\n",
    "    title=\"Fruit Counts\",\n",
    "    toolbar_location=None,\n",
    "    tools=\"\"\n",
    ")\n",
    "\n",
    "p.vbar(\n",
    "    x=fruits,\n",
    "    top=counts,\n",
    "    width=0.9\n",
    ")\n",
    "\n",
    "p.xgrid.grid_line_color = None\n",
    "p.y_range.start = 0\n",
    "\n",
    "show(p)\n"
   ],
   "id": "b7f3e8176fb469df",
   "execution_count": 68,
   "outputs": []
  },
  {
   "metadata": {
    "ExecuteTime": {
     "end_time": "2024-05-22T17:04:26.862756Z",
     "start_time": "2024-05-22T17:04:26.859752Z"
    }
   },
   "cell_type": "code",
   "source": "",
   "id": "6d0849de6b6a4025",
   "execution_count": 68,
   "outputs": []
  }
 ],
 "metadata": {
  "kernelspec": {
   "display_name": "Python 3",
   "language": "python",
   "name": "python3"
  },
  "language_info": {
   "codemirror_mode": {
    "name": "ipython",
    "version": 2
   },
   "file_extension": ".py",
   "mimetype": "text/x-python",
   "name": "python",
   "nbconvert_exporter": "python",
   "pygments_lexer": "ipython2",
   "version": "2.7.6"
  }
 },
 "nbformat": 4,
 "nbformat_minor": 5
}
