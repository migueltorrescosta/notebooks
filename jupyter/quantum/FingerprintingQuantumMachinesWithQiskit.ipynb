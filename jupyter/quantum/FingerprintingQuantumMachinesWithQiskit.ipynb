{
 "cells": [
  {
   "cell_type": "markdown",
   "source": [
    "# Goal\n",
    "\n",
    "It has been shown that [quantum computers can be identified by biases in their results](https://collapsedwave.com/%F0%9F%97%92%EF%B8%8F-Papers/%F0%9F%97%92%EF%B8%8F-Learning-the-noise-fingerprint-of-quantum-devices). In this notebook we aim to build a Quantum Computer identifier, i.e. a predictor that based on the input algorithm and the probability distribution of the results, returns the machine it has likely been built on.\n",
    "\n",
    "# Notation\n",
    "\n",
    "- $a \\in A$ is an algorithm: A quantum algorithm / quantum circuit.\n",
    "- $C \\in \\Omega$ is a Quantum Computer: One of the machines available to run algorithms on\n",
    "- $C_a$ is the true probability distribution of running the algorithm $a$ on the quantum computer $C$.\n",
    "- $T: C_a \\mapsto C$ is our Predictor: A model that maps outputs of a quantum algorithm run on a quantum computer, to the likelihood of which quantum computer it ran on. \n",
    "\n",
    "# Setup\n",
    "\n",
    "## Inputs\n",
    "\n",
    "- We need to be able to map a generic algorithm to an input in our predictor\n",
    "\n",
    "## Predictor\n",
    "\n",
    "- We can add / remove quantum computers to our predictor without having to retrain everything\n",
    "- The predictor returns a weighted array of quantum machine likelihoods\n",
    "- Since the output is a probability distribution, we have:\n",
    "    - Access to the simulated output as the unbiased probability distribution\n",
    "    - Distance metrics between probability distributions that allow us to represent consistent biases in the calculations.\n",
    "- We might be able to represent the dag as THE neural network, and each computer has their own gate mapping that is initialized as the true gate, however we learn the gate's noise as a computer $C$ specific gate. This way the learning problem generalises to generic DAGs. Asking then for the true quantum computer is a question of feeding forward through each Computer specific DAG, and checking the expected output likelihoods. This requires us to be able to run through the DAG in a classical computer, which means that we are limited to small enough DAGs. Not a problem?\n",
    "\n",
    "## Loss function\n",
    "\n",
    "- We want our loss function to be a Proper Scoring Rule, meaning that $\\mathbb{E}[L(\\mu)]$ is minimized when the forecaster outputs the true distribution $\\mu$ of the underlying distribution we are trying to predict.\n"
   ],
   "metadata": {
    "collapsed": false
   },
   "id": "3a6431610d2f0d1"
  },
  {
   "cell_type": "markdown",
   "source": [
    "# Code"
   ],
   "metadata": {
    "collapsed": false
   },
   "id": "cd42f3faf54e542b"
  },
  {
   "cell_type": "markdown",
   "source": [
    "## Imports"
   ],
   "metadata": {
    "collapsed": false
   },
   "id": "879397d39f79f9ac"
  },
  {
   "cell_type": "code",
   "source": [
    "from qiskit import QuantumCircuit\n",
    "from qiskit.quantum_info import SparsePauliOp\n",
    "from qiskit.transpiler.preset_passmanagers import generate_preset_pass_manager\n",
    "from qiskit_ibm_runtime import EstimatorV2 as Estimator, QiskitRuntimeService"
   ],
   "metadata": {
    "collapsed": false,
    "ExecuteTime": {
     "end_time": "2025-04-11T11:24:42.608940Z",
     "start_time": "2025-04-11T11:24:40.943504Z"
    }
   },
   "id": "b319b956e1cf39ef",
   "outputs": [],
   "execution_count": 1
  },
  {
   "cell_type": "markdown",
   "source": [
    "## Create an algorithm"
   ],
   "metadata": {
    "collapsed": false
   },
   "id": "2952788716bc5b74"
  },
  {
   "cell_type": "code",
   "source": [
    "qc = QuantumCircuit(2)\n",
    "qc.h(0)\n",
    "qc.cx(0, 1)\n",
    "qc.draw(\"mpl\")"
   ],
   "metadata": {
    "collapsed": false,
    "ExecuteTime": {
     "end_time": "2025-04-11T11:24:42.912065Z",
     "start_time": "2025-04-11T11:24:42.617306Z"
    }
   },
   "id": "7e8d9021e7243ff3",
   "outputs": [
    {
     "data": {
      "text/plain": [
       "<Figure size 287.294x200.667 with 1 Axes>"
      ],
      "image/png": "[encoded data removed]"
     },
     "execution_count": 2,
     "metadata": {},
     "output_type": "execute_result"
    }
   ],
   "execution_count": 2
  },
  {
   "cell_type": "markdown",
   "source": [
    "## Run an algorithm on IBM\n",
    "\n"
   ],
   "metadata": {
    "collapsed": false
   },
   "id": "55b56403b9ecc74"
  },
  {
   "cell_type": "code",
   "source": [
    "# Set up six different observables.\n",
    "observables_labels = [\"ZZ\", \"ZI\", \"IZ\", \"XX\", \"XI\"]\n",
    "observables = [SparsePauliOp(label) for label in observables_labels]"
   ],
   "metadata": {
    "collapsed": false,
    "ExecuteTime": {
     "end_time": "2025-04-11T12:00:10.999471Z",
     "start_time": "2025-04-11T12:00:10.995770Z"
    }
   },
   "id": "546488a5e2f6d493",
   "outputs": [],
   "execution_count": 7
  },
  {
   "cell_type": "code",
   "source": [
    "service = QiskitRuntimeService(channel=\"ibm_quantum\", token=token)\n",
    "backend = service.least_busy(simulator=False, operational=True)\n",
    "estimator = Estimator(backend)\n",
    "estimator.options.resilience_level = 1\n",
    "estimator.options.default_shots = 10"
   ],
   "metadata": {
    "collapsed": false,
    "ExecuteTime": {
     "end_time": "2025-04-11T12:00:49.200641Z",
     "start_time": "2025-04-11T12:00:32.349469Z"
    }
   },
   "id": "29d52b4cbb4b4db7",
   "outputs": [],
   "execution_count": 10
  },
  {
   "cell_type": "code",
   "source": [
    "# Convert to an ISA circuit and layout-mapped observables.\n",
    "pm = generate_preset_pass_manager(backend=backend, optimization_level=1)\n",
    "isa_circuit = pm.run(qc)\n"
   ],
   "metadata": {
    "collapsed": false,
    "ExecuteTime": {
     "end_time": "2025-04-11T12:02:14.429079Z",
     "start_time": "2025-04-11T12:02:14.272229Z"
    }
   },
   "id": "46928870f17e6378",
   "outputs": [],
   "execution_count": 11
  },
  {
   "cell_type": "code",
   "source": [
    "observables = [observable.apply_layout(isa_circuit.layout) for observable in observables]"
   ],
   "metadata": {
    "collapsed": false,
    "ExecuteTime": {
     "end_time": "2025-04-11T12:02:14.439541Z",
     "start_time": "2025-04-11T12:02:14.435950Z"
    }
   },
   "id": "8ef5efbd897639e6",
   "outputs": [],
   "execution_count": 12
  },
  {
   "cell_type": "code",
   "source": [
    "# One pub, with one circuit to run against five different observables.\n",
    "job = estimator.run([(isa_circuit, observables)])"
   ],
   "metadata": {
    "collapsed": false,
    "ExecuteTime": {
     "end_time": "2025-04-11T12:02:17.353869Z",
     "start_time": "2025-04-11T12:02:14.577467Z"
    }
   },
   "id": "140d5f1e41c8c7fa",
   "outputs": [],
   "execution_count": 13
  },
  {
   "cell_type": "code",
   "source": [
    "# This is the result of the entire submission.  We submitted one Pub,\n",
    "# so this contains one inner result (and some metadata of its own).\n",
    "job_result = job.result()"
   ],
   "metadata": {
    "collapsed": false,
    "ExecuteTime": {
     "end_time": "2025-04-11T12:02:34.622573Z",
     "start_time": "2025-04-11T12:02:17.360845Z"
    }
   },
   "id": "c38ba5ccc654c4fa",
   "outputs": [],
   "execution_count": 14
  },
  {
   "cell_type": "code",
   "source": [
    "# This is the result from our single pub, which had five observables,\n",
    "# so contains information on all five.\n",
    "pub_result = job.result()[0]"
   ],
   "metadata": {
    "collapsed": false,
    "ExecuteTime": {
     "end_time": "2025-04-11T12:02:35.676638Z",
     "start_time": "2025-04-11T12:02:34.644864Z"
    }
   },
   "id": "467a281c2a8dbe5f",
   "outputs": [],
   "execution_count": 15
  },
  {
   "cell_type": "code",
   "source": [
    "job_result"
   ],
   "metadata": {
    "collapsed": false,
    "ExecuteTime": {
     "end_time": "2025-04-11T12:02:35.703220Z",
     "start_time": "2025-04-11T12:02:35.700841Z"
    }
   },
   "id": "d4642da5eb4ad69b",
   "outputs": [
    {
     "data": {
      "text/plain": [
       "PrimitiveResult([PubResult(data=DataBin(evs=np.ndarray(<shape=(5,), dtype=float64>), stds=np.ndarray(<shape=(5,), dtype=float64>), ensemble_standard_error=np.ndarray(<shape=(5,), dtype=float64>)), metadata={'shots': 64, 'target_precision': 0.31622776601683794, 'circuit_metadata': {}, 'resilience': {}, 'num_randomizations': 1})], metadata={'dynamical_decoupling': {'enable': False, 'sequence_type': 'XX', 'extra_slack_distribution': 'middle', 'scheduling_method': 'alap'}, 'twirling': {'enable_gates': False, 'enable_measure': True, 'num_randomizations': 'auto', 'shots_per_randomization': 'auto', 'interleave_randomizations': True, 'strategy': 'active-accum'}, 'resilience': {'measure_mitigation': True, 'zne_mitigation': False, 'pec_mitigation': False}, 'version': 2})"
      ]
     },
     "execution_count": 16,
     "metadata": {},
     "output_type": "execute_result"
    }
   ],
   "execution_count": 16
  },
  {
   "cell_type": "code",
   "source": [
    "pub_result"
   ],
   "metadata": {
    "collapsed": false,
    "ExecuteTime": {
     "end_time": "2025-04-11T12:02:35.760190Z",
     "start_time": "2025-04-11T12:02:35.754917Z"
    }
   },
   "id": "dfa0673d63760972",
   "outputs": [
    {
     "data": {
      "text/plain": [
       "PubResult(data=DataBin(evs=np.ndarray(<shape=(5,), dtype=float64>), stds=np.ndarray(<shape=(5,), dtype=float64>), ensemble_standard_error=np.ndarray(<shape=(5,), dtype=float64>)), metadata={'shots': 64, 'target_precision': 0.31622776601683794, 'circuit_metadata': {}, 'resilience': {}, 'num_randomizations': 1})"
      ]
     },
     "execution_count": 17,
     "metadata": {},
     "output_type": "execute_result"
    }
   ],
   "execution_count": 17
  },
  {
   "cell_type": "code",
   "source": [
    "channel=\"ibm_quantum\"\n",
    "\n",
    "pub_result"
   ],
   "metadata": {
    "collapsed": false,
    "ExecuteTime": {
     "end_time": "2025-04-11T12:02:35.807520Z",
     "start_time": "2025-04-11T12:02:35.804585Z"
    }
   },
   "id": "73c95476f9932bd9",
   "outputs": [
    {
     "data": {
      "text/plain": [
       "PubResult(data=DataBin(evs=np.ndarray(<shape=(5,), dtype=float64>), stds=np.ndarray(<shape=(5,), dtype=float64>), ensemble_standard_error=np.ndarray(<shape=(5,), dtype=float64>)), metadata={'shots': 64, 'target_precision': 0.31622776601683794, 'circuit_metadata': {}, 'resilience': {}, 'num_randomizations': 1})"
      ]
     },
     "execution_count": 18,
     "metadata": {},
     "output_type": "execute_result"
    }
   ],
   "execution_count": 18
  },
  {
   "cell_type": "code",
   "source": [],
   "metadata": {
    "collapsed": false,
    "ExecuteTime": {
     "end_time": "2025-04-11T12:02:35.853752Z",
     "start_time": "2025-04-11T12:02:35.852103Z"
    }
   },
   "id": "60b6a75730d8c41f",
   "outputs": [],
   "execution_count": null
  },
  {
   "metadata": {},
   "cell_type": "code",
   "outputs": [],
   "execution_count": null,
   "source": "",
   "id": "be04b2e4dcbca3e8"
  }
 ],
 "metadata": {
  "kernelspec": {
   "display_name": "Python 3",
   "language": "python",
   "name": "python3"
  },
  "language_info": {
   "codemirror_mode": {
    "name": "ipython",
    "version": 2
   },
   "file_extension": ".py",
   "mimetype": "text/x-python",
   "name": "python",
   "nbconvert_exporter": "python",
   "pygments_lexer": "ipython2",
   "version": "2.7.6"
  }
 },
 "nbformat": 4,
 "nbformat_minor": 5
}
