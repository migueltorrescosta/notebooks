{
 "cells": [
  {
   "cell_type": "markdown",
   "source": [
    "# Metropolis Hastings applied to a Doublet\n",
    "\n",
    "This notebook shows that the starting position of a MetropolisHastings algorithm run can get stuck on local maxima. The parameters for the likelihood and generator function are chosen so that we can see the occasional jump from one area to another"
   ],
   "metadata": {
    "collapsed": false
   },
   "id": "9edfdb56880182c5"
  },
  {
   "cell_type": "markdown",
   "source": [
    "# Imports"
   ],
   "metadata": {
    "collapsed": false
   },
   "id": "f6dd3096cd590919"
  },
  {
   "cell_type": "code",
   "source": [
    "import numpy as np\n",
    "import seaborn as sns\n",
    "from matplotlib import pyplot as plt\n",
    "\n",
    "from src.algorithms import AbstractMetropolisHastings"
   ],
   "metadata": {
    "collapsed": false,
    "ExecuteTime": {
     "end_time": "2024-04-04T09:50:13.550077Z",
     "start_time": "2024-04-04T09:50:13.543192Z"
    }
   },
   "id": "5dfa250df807d083",
   "execution_count": 1,
   "outputs": []
  },
  {
   "cell_type": "markdown",
   "source": [
    "# Setup"
   ],
   "metadata": {
    "collapsed": false
   },
   "id": "ba24b5ba99d50d8b"
  },
  {
   "cell_type": "markdown",
   "source": [
    "We use the likelihood function $e^{-a_0(x-a_1)^2} + e^{-a_2(x-a_3)^2}$"
   ],
   "metadata": {
    "collapsed": false
   },
   "id": "62fc8da13e76b3c2"
  },
  {
   "cell_type": "code",
   "source": [
    "class Doublet(AbstractMetropolisHastings[float]):\n",
    "\n",
    "    def generator_function(self):\n",
    "        sigma = 1\n",
    "        return self.current_configuration + np.random.normal(0, sigma)\n",
    "\n",
    "    def state_likelihood(self, configuration: float):\n",
    "        d = 4\n",
    "        a = [1, -1 * d, 1, d]\n",
    "        aux_exp = lambda mu, sigma: np.exp(np.prod([-1, mu, configuration - sigma, configuration - sigma]))\n",
    "        return aux_exp(a[0], a[1]) + aux_exp(a[2], a[3])\n",
    "\n",
    "    def __repr__(self):\n",
    "        # Useful for outputting the class\n",
    "        return f\"{self.current_configuration:e}\""
   ],
   "metadata": {
    "collapsed": false,
    "ExecuteTime": {
     "end_time": "2024-04-04T09:50:13.562833Z",
     "start_time": "2024-04-04T09:50:13.550603Z"
    }
   },
   "id": "a79e75e7526b1d77",
   "execution_count": 2,
   "outputs": []
  },
  {
   "cell_type": "markdown",
   "source": [
    "# Trial run"
   ],
   "metadata": {
    "collapsed": false
   },
   "id": "a0a9a1326c0b0b81"
  },
  {
   "cell_type": "code",
   "source": [
    "doublet = Doublet(initial_configuration=np.random.normal(0, 1))\n",
    "doublet.run_iterations(n=10 ** 7)"
   ],
   "metadata": {
    "collapsed": false,
    "ExecuteTime": {
     "end_time": "2024-04-04T09:55:43.204713Z",
     "start_time": "2024-04-04T09:50:13.563453Z"
    }
   },
   "id": "369071a2e84c8928",
   "execution_count": 3,
   "outputs": []
  },
  {
   "metadata": {},
   "cell_type": "markdown",
   "source": "# Plot",
   "id": "7b81997327466d8"
  },
  {
   "metadata": {},
   "cell_type": "markdown",
   "source": "",
   "id": "7895952edc7bea4e"
  },
  {
   "cell_type": "code",
   "source": [
    "y = doublet.configuration_history\n",
    "x = range(len(y))\n",
    "\n",
    "grid = sns.JointGrid(x=x, y=y, ratio=4)\n",
    "grid.plot_joint(plt.plot)\n",
    "grid.ax_joint.plot(x, y, c='C0')\n",
    "\n",
    "plt.sca(grid.ax_marg_y)\n",
    "sns.histplot(y=grid.y, kde=True)\n",
    "\n",
    "# override a bunch of the default JointGrid style options\n",
    "grid.fig.set_size_inches(20, 3)\n",
    "grid.ax_marg_x.remove()\n",
    "grid.ax_joint.spines['top'].set_visible(True)"
   ],
   "metadata": {
    "collapsed": false,
    "ExecuteTime": {
     "end_time": "2024-04-04T09:56:13.107321Z",
     "start_time": "2024-04-04T09:55:43.205369Z"
    }
   },
   "id": "9029a242307e568",
   "execution_count": 4,
   "outputs": []
  }
 ],
 "metadata": {
  "kernelspec": {
   "display_name": "Python 3",
   "language": "python",
   "name": "python3"
  },
  "language_info": {
   "codemirror_mode": {
    "name": "ipython",
    "version": 2
   },
   "file_extension": ".py",
   "mimetype": "text/x-python",
   "name": "python",
   "nbconvert_exporter": "python",
   "pygments_lexer": "ipython2",
   "version": "2.7.6"
  }
 },
 "nbformat": 4,
 "nbformat_minor": 5
}
