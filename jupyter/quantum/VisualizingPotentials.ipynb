{
 "cells": [
  {
   "cell_type": "markdown",
   "source": [
    "# Imports"
   ],
   "metadata": {
    "collapsed": false
   },
   "id": "6dfc77fe8b0067d2"
  },
  {
   "cell_type": "code",
   "id": "a5e06436-8514-40de-b0c7-c5056500c93e",
   "metadata": {
    "ExecuteTime": {
     "end_time": "2024-05-02T23:21:23.347741Z",
     "start_time": "2024-05-02T23:21:20.892941Z"
    }
   },
   "source": [
    "import pandas as pd\n",
    "import numpy as np\n",
    "from IPython.core.pylabtools import figsize\n",
    "from tqdm import tqdm\n",
    "\n",
    "figsize(20, 10)"
   ],
   "execution_count": 1,
   "outputs": []
  },
  {
   "cell_type": "markdown",
   "source": [
    "# Potentials"
   ],
   "metadata": {
    "collapsed": false
   },
   "id": "5bd94c88855dfc14"
  },
  {
   "cell_type": "code",
   "source": [
    "df = pd.DataFrame.from_records([{\n",
    "    \"x\": x,\n",
    "    \"quadratic\": 1+x**2,\n",
    "    \"quartic\": 1+x**4,\n",
    "    \"single-well\": 23 if np.abs(x)<1.5 else 80,\n",
    "    \"double-well\": 51 if np.abs(x)>2 else (32 if np.abs(x)>1 else 76),\n",
    "    } for x in tqdm(np.linspace(-3,3,10**5))]\n",
    ")"
   ],
   "metadata": {
    "collapsed": false,
    "ExecuteTime": {
     "end_time": "2024-05-02T23:21:24.002427Z",
     "start_time": "2024-05-02T23:21:23.349592Z"
    }
   },
   "id": "1ae07fb88a37b129",
   "execution_count": 2,
   "outputs": []
  },
  {
   "cell_type": "markdown",
   "source": [
    "## Linear scale"
   ],
   "metadata": {
    "collapsed": false
   },
   "id": "4e2a3f645478e3e0"
  },
  {
   "cell_type": "code",
   "source": [
    "df.plot(x=\"x\")"
   ],
   "metadata": {
    "collapsed": false,
    "ExecuteTime": {
     "end_time": "2024-05-02T23:21:27.179932Z",
     "start_time": "2024-05-02T23:21:24.004664Z"
    }
   },
   "id": "69613f1c1a9f095b",
   "execution_count": 3,
   "outputs": []
  },
  {
   "cell_type": "markdown",
   "source": [
    "## Log y scale"
   ],
   "metadata": {
    "collapsed": false
   },
   "id": "58928672b87eb549"
  },
  {
   "cell_type": "code",
   "source": [
    "df.plot(x=\"x\", logy=True)"
   ],
   "metadata": {
    "collapsed": false,
    "ExecuteTime": {
     "end_time": "2024-05-02T23:21:28.463948Z",
     "start_time": "2024-05-02T23:21:27.183679Z"
    }
   },
   "id": "8e2444a4a814d1df",
   "execution_count": 4,
   "outputs": []
  }
 ],
 "metadata": {
  "kernelspec": {
   "display_name": "Python 3 (ipykernel)",
   "language": "python",
   "name": "python3"
  },
  "language_info": {
   "codemirror_mode": {
    "name": "ipython",
    "version": 3
   },
   "file_extension": ".py",
   "mimetype": "text/x-python",
   "name": "python",
   "nbconvert_exporter": "python",
   "pygments_lexer": "ipython3",
   "version": "3.11.6"
  }
 },
 "nbformat": 4,
 "nbformat_minor": 5
}
