{
 "cells": [
  {
   "metadata": {},
   "cell_type": "markdown",
   "source": "# Quantum Error Correction",
   "id": "9af2ba8d92b48c6e"
  },
  {
   "metadata": {
    "ExecuteTime": {
     "end_time": "2024-05-24T21:46:33.632057Z",
     "start_time": "2024-05-24T21:46:32.937161Z"
    }
   },
   "cell_type": "code",
   "source": [
    "from qiskit import QuantumCircuit\n",
    "# noinspection PyUnresolvedReferences\n",
    "from qiskit_aer import AerSimulator  # needed to make the qc.save_statevector available"
   ],
   "id": "e5ff1a817a975bd8",
   "execution_count": 1,
   "outputs": []
  },
  {
   "metadata": {},
   "cell_type": "markdown",
   "source": "# Setup Service and Backend",
   "id": "a5b53569380ac223"
  },
  {
   "metadata": {
    "ExecuteTime": {
     "end_time": "2024-05-24T21:46:54.596944Z",
     "start_time": "2024-05-24T21:46:33.634816Z"
    }
   },
   "cell_type": "code",
   "source": [
    "from qiskit_ibm_runtime import QiskitRuntimeService, EstimatorV2 as Estimator\n",
    "\n",
    "service = QiskitRuntimeService()\n",
    "backend = service.least_busy(operational=True, simulator=False, min_num_qubits=127)\n",
    "estimator = Estimator(backend)"
   ],
   "id": "e551bb7ccdedd271",
   "execution_count": 2,
   "outputs": []
  },
  {
   "metadata": {},
   "cell_type": "markdown",
   "source": "# Circuit",
   "id": "db1699ce9cfcf3a5"
  },
  {
   "metadata": {
    "ExecuteTime": {
     "end_time": "2024-05-24T21:46:55.340463Z",
     "start_time": "2024-05-24T21:46:54.598619Z"
    }
   },
   "cell_type": "code",
   "source": [
    "from qiskit.quantum_info import Statevector\n",
    "\n",
    "\n",
    "# See https://en.wikipedia.org/wiki/Five-qubit_error_correcting_code\n",
    "def quantum_circuit_creator(state: Statevector):  # state must have 5 qubits\n",
    "    qc = QuantumCircuit(10, 4)  # I use a 10th qubit to measure how much $\\psi$ changed\n",
    "    qc.prepare_state(state, [5, 6, 7, 8])\n",
    "    qc.cx(0, 5)\n",
    "\n",
    "    qc.cz(0, 6)\n",
    "    # qc.ci(0,5) I don't think a Control Identity makes sense?\n",
    "\n",
    "    qc.cz(0, 7)\n",
    "    qc.cx(1, 6)\n",
    "    qc.cx(2, 5)\n",
    "\n",
    "    qc.cx(0, 8)\n",
    "    qc.cz(1, 7)\n",
    "    qc.cz(3, 5)\n",
    "\n",
    "    qc.cz(1, 7)\n",
    "    qc.cx(2, 6)\n",
    "    qc.cx(3, 5)\n",
    "\n",
    "    qc.cx(1, 8)\n",
    "    qc.cz(2, 7)\n",
    "\n",
    "    qc.cz(2, 8)\n",
    "    qc.cx(3, 7)\n",
    "\n",
    "    qc.cz(3, 8)\n",
    "\n",
    "    qc.measure([5, 6, 7, 8], [0, 1, 2, 3])\n",
    "    qc.barrier()\n",
    "    qc.draw(\"mpl\")\n",
    "    \n",
    "    return qc\n",
    "    \n",
    "\n",
    "qc = quantum_circuit_creator(state=Statevector.from_label(\"+-rl\"))"
   ],
   "id": "7deb08ea986a0d02",
   "execution_count": 3,
   "outputs": []
  },
  {
   "metadata": {
    "ExecuteTime": {
     "end_time": "2024-05-24T21:46:55.345861Z",
     "start_time": "2024-05-24T21:46:55.342045Z"
    }
   },
   "cell_type": "code",
   "source": [
    "from qiskit.transpiler.preset_passmanagers import generate_preset_pass_manager\n",
    "\n",
    "n_qubits = 127\n",
    "\n",
    "# mat = np.real(random_hermitian(n_qubits, seed=1234))\n",
    "qc.measure_all()"
   ],
   "id": "6ef64c663a16d645",
   "execution_count": 4,
   "outputs": []
  },
  {
   "metadata": {
    "ExecuteTime": {
     "end_time": "2024-05-24T21:47:02.404902Z",
     "start_time": "2024-05-24T21:46:55.347302Z"
    }
   },
   "cell_type": "code",
   "source": [
    "pm = generate_preset_pass_manager(optimization_level=1, backend=backend)\n",
    "isa_circuit = pm.run(qc)"
   ],
   "id": "b37236f7332e0aa8",
   "execution_count": 5,
   "outputs": []
  },
  {
   "metadata": {},
   "cell_type": "markdown",
   "source": "# Setup Sampler",
   "id": "357ef4bf18738d49"
  },
  {
   "metadata": {
    "ExecuteTime": {
     "end_time": "2024-05-24T21:47:02.409720Z",
     "start_time": "2024-05-24T21:47:02.406575Z"
    }
   },
   "cell_type": "code",
   "source": [
    "from qiskit_ibm_runtime import SamplerV2 as Sampler\n",
    "\n",
    "sampler = Sampler(backend=backend)"
   ],
   "id": "a21d47cf4832c7a6",
   "execution_count": 6,
   "outputs": []
  },
  {
   "metadata": {},
   "cell_type": "markdown",
   "source": "# Run",
   "id": "553eeade28472ae7"
  },
  {
   "metadata": {
    "ExecuteTime": {
     "end_time": "2024-05-20T12:59:23.076663Z",
     "start_time": "2024-05-20T12:59:20.653360Z"
    }
   },
   "cell_type": "code",
   "source": [
    "job = sampler.run([isa_circuit])\n",
    "print(f\">>> Job ID: {job.job_id()}\")\n",
    "print(f\">>> Job Status: {job.status()}\")"
   ],
   "id": "255a7ee83a0455b0",
   "execution_count": 11,
   "outputs": []
  },
  {
   "metadata": {
    "ExecuteTime": {
     "end_time": "2024-05-20T14:13:42.662020Z",
     "start_time": "2024-05-20T12:59:23.078494Z"
    }
   },
   "cell_type": "code",
   "source": [
    "result = job.result()\n",
    "\n",
    "# Get results for the first (and only) PUB\n",
    "pub_result = result[0]\n",
    "print(f\"Counts for the meas output register: {pub_result.data.meas.get_counts()}\")"
   ],
   "id": "bc6a03c94097fedd",
   "execution_count": 12,
   "outputs": []
  },
  {
   "metadata": {
    "ExecuteTime": {
     "end_time": "2024-05-20T14:13:44.117470Z",
     "start_time": "2024-05-20T14:13:42.665640Z"
    }
   },
   "cell_type": "code",
   "source": [
    "from qiskit.visualization import plot_histogram\n",
    "\n",
    "plot_histogram(pub_result.data.meas.get_counts())"
   ],
   "id": "a576e503062c6530",
   "execution_count": 13,
   "outputs": []
  },
  {
   "metadata": {
    "ExecuteTime": {
     "end_time": "2024-05-20T14:18:27.299902Z",
     "start_time": "2024-05-20T14:18:27.283222Z"
    }
   },
   "cell_type": "code",
   "source": "\" | \".join([f\"{v}: {k}\" for k,v in sorted(pub_result.data.meas.get_counts().items(), key = lambda x: -x[1])])",
   "id": "decf2c4d1975b096",
   "execution_count": 26,
   "outputs": []
  }
 ],
 "metadata": {
  "kernelspec": {
   "display_name": "Python 3",
   "language": "python",
   "name": "python3"
  },
  "language_info": {
   "codemirror_mode": {
    "name": "ipython",
    "version": 2
   },
   "file_extension": ".py",
   "mimetype": "text/x-python",
   "name": "python",
   "nbconvert_exporter": "python",
   "pygments_lexer": "ipython2",
   "version": "2.7.6"
  }
 },
 "nbformat": 4,
 "nbformat_minor": 5
}
