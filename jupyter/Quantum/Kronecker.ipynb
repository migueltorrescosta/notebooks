{
 "cells": [
  {
   "cell_type": "markdown",
   "id": "3d7e6322-560d-425d-8ba9-00125fac057e",
   "metadata": {},
   "source": [
    "# Goal\n",
    "\n",
    "Explicitly calculate the kronecker product of 2 matrices"
   ]
  },
  {
   "cell_type": "code",
   "execution_count": 1,
   "id": "504b3f9c-d481-4521-aed3-263ee0bd6fa8",
   "metadata": {},
   "source": [
    "import numpy as np"
   ],
   "outputs": []
  },
  {
   "cell_type": "code",
   "execution_count": 5,
   "id": "886dce7e-bb26-4469-b7bf-b45389b5d2b9",
   "metadata": {},
   "source": [
    "s_z = np.array([[1, 0], [0, -1]])\n",
    "identity = np.array([[1, 0], [0, 1]])"
   ],
   "outputs": []
  },
  {
   "cell_type": "code",
   "execution_count": 9,
   "id": "b1e3e753-632c-45bd-9cde-3be0a3204334",
   "metadata": {},
   "source": [
    "z_1 = np.kron(s_z, identity)\n",
    "z_1"
   ],
   "outputs": []
  },
  {
   "cell_type": "code",
   "execution_count": 10,
   "id": "dbc6c022-f19d-4dbd-9c51-6f1434abb872",
   "metadata": {},
   "source": [
    "z_2 = np.kron(identity, s_z)\n",
    "z_2"
   ],
   "outputs": []
  },
  {
   "cell_type": "code",
   "execution_count": 17,
   "id": "e9a53333-db42-40e9-8e9a-524dfc9f0176",
   "metadata": {},
   "source": [
    "prod_1 = np.kron(s_z, s_z)\n",
    "prod_1"
   ],
   "outputs": []
  },
  {
   "cell_type": "code",
   "execution_count": 18,
   "id": "b7dc7e96-fc6e-43a6-a2f4-adf0c484c34b",
   "metadata": {},
   "source": [
    "prod_2 = np.kron(identity, identity)\n",
    "prod_2"
   ],
   "outputs": []
  },
  {
   "cell_type": "code",
   "execution_count": 20,
   "id": "19572b63-e3bf-474b-b43d-8ca102b9c1a9",
   "metadata": {},
   "source": [
    "z_1 @ z_2"
   ],
   "outputs": []
  }
 ],
 "metadata": {
  "kernelspec": {
   "display_name": "Python 3 (ipykernel)",
   "language": "python",
   "name": "python3"
  },
  "language_info": {
   "codemirror_mode": {
    "name": "ipython",
    "version": 3
   },
   "file_extension": ".py",
   "mimetype": "text/x-python",
   "name": "python",
   "nbconvert_exporter": "python",
   "pygments_lexer": "ipython3",
   "version": "3.11.6"
  }
 },
 "nbformat": 4,
 "nbformat_minor": 5
}
