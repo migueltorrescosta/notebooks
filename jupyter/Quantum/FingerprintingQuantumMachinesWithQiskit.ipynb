{
 "cells": [
  {
   "cell_type": "markdown",
   "source": [
    "# Goal\n",
    "\n",
    "It has been shown that [quantum computers can be identified by biases in their results](https://collapsedwave.com/%F0%9F%97%92%EF%B8%8F-Papers/%F0%9F%97%92%EF%B8%8F-Learning-the-noise-fingerprint-of-quantum-devices). In this notebook we aim to build a Quantum Computer identifier, i.e. a predictor that based on the input algorithm and the probability distribution of the results, returns the machine it has likely been built on.\n",
    "\n",
    "# Notation\n",
    "\n",
    "- $a \\in A$ is an algorithm: A quantum algorithm / quantum circuit.\n",
    "- $C \\in \\Omega$ is a Quantum Computer: One of the machines available to run algorithms on\n",
    "- $C_a$ is the true probability distribution of running the algorithm $a$ on the quantum computer $C$.\n",
    "- $T: C_a \\mapsto C$ is our Predictor: A model that maps outputs of a quantum algorithm run on a quantum computer, to the likelihood of which quantum computer it ran on. \n",
    "\n",
    "# Setup\n",
    "\n",
    "## Inputs\n",
    "\n",
    "- We need to be able to map a generic algorithm to an input in our predictor\n",
    "\n",
    "## Predictor\n",
    "\n",
    "- We can add / remove quantum computers to our predictor without having to retrain everything\n",
    "- The predictor returns a weighted array of quantum machine likelihoods\n",
    "- Since the output is a probability distribution, we have:\n",
    "    - Access to the simulated output as the unbiased probability distribution\n",
    "    - Distance metrics between probability distributions that allow us to represent consistent biases in the calculations.\n",
    "- We might be able to represent the dag as THE neural network, and each computer has their own gate mapping that is initialized as the true gate, however we learn the gate's noise as a computer $C$ specific gate. This way the learning problem generalises to generic DAGs. Asking then for the true quantum computer is a question of feeding forward through each Computer specific DAG, and checking the expected output likelihoods. This requires us to be able to run through the DAG in a classical computer, which means that we are limited to small enough DAGs. Not a problem?\n",
    "\n",
    "## Loss function\n",
    "\n",
    "- We want our loss function to be a Proper Scoring Rule, meaning that $\\mathbb{E}[L(\\mu)]$ is minimized when the forecaster outputs the true distribution $\\mu$ of the underlying distribution we are trying to predict.\n"
   ],
   "metadata": {
    "collapsed": false
   },
   "id": "3a6431610d2f0d1"
  },
  {
   "cell_type": "markdown",
   "source": [
    "# Code"
   ],
   "metadata": {
    "collapsed": false
   },
   "id": "cd42f3faf54e542b"
  },
  {
   "cell_type": "markdown",
   "source": [
    "## Imports"
   ],
   "metadata": {
    "collapsed": false
   },
   "id": "879397d39f79f9ac"
  },
  {
   "cell_type": "code",
   "source": [
    "from qiskit import QuantumCircuit\n",
    "from qiskit.quantum_info import SparsePauliOp\n",
    "from qiskit.transpiler.preset_passmanagers import generate_preset_pass_manager\n",
    "from qiskit_ibm_runtime import EstimatorV2 as Estimator, QiskitRuntimeService"
   ],
   "metadata": {
    "collapsed": false,
    "ExecuteTime": {
     "end_time": "2024-04-02T10:41:12.564550Z",
     "start_time": "2024-04-02T10:41:12.559060Z"
    }
   },
   "id": "b319b956e1cf39ef",
   "execution_count": 3,
   "outputs": []
  },
  {
   "cell_type": "markdown",
   "source": [
    "## Create an algorithm"
   ],
   "metadata": {
    "collapsed": false
   },
   "id": "2952788716bc5b74"
  },
  {
   "cell_type": "code",
   "source": [
    "qc = QuantumCircuit(2)\n",
    "qc.h(0)\n",
    "qc.cx(0, 1)\n",
    "qc.draw(\"mpl\")"
   ],
   "metadata": {
    "collapsed": false,
    "ExecuteTime": {
     "end_time": "2024-04-02T10:41:20.685296Z",
     "start_time": "2024-04-02T10:41:20.394355Z"
    }
   },
   "id": "7e8d9021e7243ff3",
   "execution_count": 4,
   "outputs": []
  },
  {
   "cell_type": "markdown",
   "source": [
    "## Run an algorithm on IBM\n",
    "\n"
   ],
   "metadata": {
    "collapsed": false
   },
   "id": "55b56403b9ecc74"
  },
  {
   "cell_type": "code",
   "source": [
    "# Set up six different observables.\n",
    "observables_labels = [\"ZZ\", \"ZI\", \"IZ\", \"XX\", \"XI\"]\n",
    "observables = [SparsePauliOp(label) for label in observables_labels]"
   ],
   "metadata": {
    "collapsed": false,
    "ExecuteTime": {
     "end_time": "2024-04-02T11:32:54.310497Z",
     "start_time": "2024-04-02T11:32:54.307689Z"
    }
   },
   "id": "546488a5e2f6d493",
   "execution_count": 6,
   "outputs": []
  },
  {
   "cell_type": "code",
   "source": [
    "service = QiskitRuntimeService()\n",
    "backend = service.least_busy(simulator=False, operational=True)\n",
    "estimator = Estimator(backend)\n",
    "estimator.options.resilience_level = 1\n",
    "estimator.options.default_shots = 10"
   ],
   "metadata": {
    "collapsed": false
   },
   "id": "29d52b4cbb4b4db7",
   "execution_count": null,
   "outputs": []
  },
  {
   "cell_type": "code",
   "source": [
    "# Convert to an ISA circuit and layout-mapped observables.\n",
    "pm = generate_preset_pass_manager(backend=backend, optimization_level=1)\n",
    "isa_circuit = pm.run(qc)\n"
   ],
   "metadata": {
    "collapsed": false
   },
   "id": "46928870f17e6378",
   "execution_count": null,
   "outputs": []
  },
  {
   "cell_type": "code",
   "source": [
    "observables = [observable.apply_layout(isa_circuit.layout) for observable in observables]"
   ],
   "metadata": {
    "collapsed": false
   },
   "id": "8ef5efbd897639e6",
   "execution_count": null,
   "outputs": []
  },
  {
   "cell_type": "code",
   "source": [
    "# One pub, with one circuit to run against five different observables.\n",
    "job = estimator.run([(isa_circuit, observables)])"
   ],
   "metadata": {
    "collapsed": false
   },
   "id": "140d5f1e41c8c7fa",
   "execution_count": null,
   "outputs": []
  },
  {
   "cell_type": "code",
   "source": [
    "# This is the result of the entire submission.  We submitted one Pub,\n",
    "# so this contains one inner result (and some metadata of its own).\n",
    "job_result = job.result()"
   ],
   "metadata": {
    "collapsed": false
   },
   "id": "c38ba5ccc654c4fa",
   "execution_count": null,
   "outputs": []
  },
  {
   "cell_type": "code",
   "source": [
    "# This is the result from our single pub, which had five observables,\n",
    "# so contains information on all five.\n",
    "pub_result = job.result()[0]"
   ],
   "metadata": {
    "collapsed": false,
    "ExecuteTime": {
     "end_time": "2024-04-02T12:00:02.704469Z",
     "start_time": "2024-04-02T11:32:55.027755Z"
    }
   },
   "id": "467a281c2a8dbe5f",
   "execution_count": 7,
   "outputs": []
  },
  {
   "cell_type": "code",
   "source": [
    "job_result"
   ],
   "metadata": {
    "collapsed": false,
    "ExecuteTime": {
     "end_time": "2024-04-02T12:00:02.708272Z",
     "start_time": "2024-04-02T12:00:02.705544Z"
    }
   },
   "id": "d4642da5eb4ad69b",
   "execution_count": 8,
   "outputs": []
  },
  {
   "cell_type": "code",
   "source": [
    "pub_result"
   ],
   "metadata": {
    "collapsed": false,
    "ExecuteTime": {
     "end_time": "2024-04-02T12:00:02.730684Z",
     "start_time": "2024-04-02T12:00:02.709019Z"
    }
   },
   "id": "dfa0673d63760972",
   "execution_count": 9,
   "outputs": []
  },
  {
   "cell_type": "code",
   "source": [
    "\n",
    "\n",
    "pub_result"
   ],
   "metadata": {
    "collapsed": false,
    "ExecuteTime": {
     "end_time": "2024-04-02T12:55:13.204223Z",
     "start_time": "2024-04-02T12:55:13.180014Z"
    }
   },
   "id": "73c95476f9932bd9",
   "execution_count": 14,
   "outputs": []
  },
  {
   "cell_type": "code",
   "source": [],
   "metadata": {
    "collapsed": false
   },
   "id": "60b6a75730d8c41f",
   "execution_count": null,
   "outputs": []
  }
 ],
 "metadata": {
  "kernelspec": {
   "display_name": "Python 3",
   "language": "python",
   "name": "python3"
  },
  "language_info": {
   "codemirror_mode": {
    "name": "ipython",
    "version": 2
   },
   "file_extension": ".py",
   "mimetype": "text/x-python",
   "name": "python",
   "nbconvert_exporter": "python",
   "pygments_lexer": "ipython2",
   "version": "2.7.6"
  }
 },
 "nbformat": 4,
 "nbformat_minor": 5
}
