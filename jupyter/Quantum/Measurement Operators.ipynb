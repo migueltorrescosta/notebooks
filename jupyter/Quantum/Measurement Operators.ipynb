{
 "cells": [
  {
   "cell_type": "markdown",
   "id": "95747143-5421-4b3e-866b-1c01f95a2293",
   "metadata": {},
   "source": [
    "# Imports"
   ]
  },
  {
   "cell_type": "code",
   "execution_count": 1,
   "id": "689cead6-5550-41f0-8b00-094def7f084f",
   "metadata": {},
   "source": [
    "import numpy as np\n",
    "import scipy"
   ],
   "outputs": []
  },
  {
   "cell_type": "markdown",
   "id": "864eac31-39d7-4ae5-9639-768e69c421a0",
   "metadata": {},
   "source": [
    "# Goal\n",
    "This notebook looks at single qubit measurements. Given a $2 \\times 2$ matrix representing the measurement operator, we return:\n",
    "1. Eigenvalue/Eigenstate pairs\n",
    "2. Measurement Probabilities as a functional on the quantum states"
   ]
  },
  {
   "cell_type": "code",
   "execution_count": 2,
   "id": "a27995ff-c48a-410d-a6ea-06cd1310b4c6",
   "metadata": {},
   "source": [
    "class MeasurementOperator:\n",
    "    def __init__(self, density_matrix: np.array):\n",
    "        self.density_matrix = density_matrix\n",
    "        self.eigenvalues, self.eigenstates = scipy.linalg.eig(density_matrix)\n",
    "\n",
    "    def get_amplitudes(self, quantum_state: np.array) -> np.array:\n",
    "        quantum_state = np.divide(quantum_state, scipy.linalg.norm(quantum_state))\n",
    "        return self.eigenstates @ quantum_state @ self.eigenstates.T\n",
    "\n",
    "    def get_probabilities(self, quantum_state: np.array) -> np.array:\n",
    "        return self.get_amplitudes(quantum_state=quantum_state) ** 2\n",
    "\n",
    "    def summary(self) -> None:\n",
    "        pass"
   ],
   "outputs": []
  },
  {
   "cell_type": "markdown",
   "id": "db422257-4612-488f-99ed-373d8f2019d3",
   "metadata": {},
   "source": [
    "# Usage\n",
    "\n",
    "We initialize the `MeasurementOperator` with the density matrix. After that, we can get the probabilities of each measurement using the get_probabilities method, which requires a quantum state as input"
   ]
  },
  {
   "cell_type": "code",
   "execution_count": 3,
   "id": "d55bf6cd-8561-4e49-8b27-2d98007b6f00",
   "metadata": {},
   "source": [
    "density_matrix = [[1, 0], [0, -1]]\n",
    "mo = MeasurementOperator(density_matrix)"
   ],
   "outputs": []
  },
  {
   "cell_type": "code",
   "execution_count": 4,
   "id": "cfc1221b-ff2c-4240-8684-bf2bbae9d82f",
   "metadata": {},
   "source": [
    "mo.get_probabilities([1, 1])"
   ],
   "outputs": []
  },
  {
   "cell_type": "markdown",
   "id": "3b58f60b-c2c3-4cd4-985b-6ecac218777a",
   "metadata": {},
   "source": [
    "# Example: Separating quantum states\n",
    "\n",
    "We want to separate the quantum states $\\ket{0}$ and $\\frac{\\ket{0}+\\ket{1}}{\\sqrt{2}}$. We do this by assembling:\n",
    "- $E_1 := \\frac{\\sqrt{2}}{1+\\sqrt{2}} \\ket{1} \\bra{1}$\n",
    "- $E_2 := \\frac{\\sqrt{2}}{1+\\sqrt{2}} \\frac{(\\ket{0} - \\ket{1})(\\bra{0} - \\bra{1})}{2}$\n",
    "- $E_3 := I - E_1 - E_2$"
   ]
  },
  {
   "cell_type": "code",
   "execution_count": 5,
   "id": "5762ba35-0de5-43fb-84da-ba8e8337f014",
   "metadata": {},
   "source": [
    "factor = np.divide(np.sqrt(2), 1 + np.sqrt(2))\n",
    "e_1 = factor * np.array([[0, 0], [0, 1]])\n",
    "e_2 = factor * np.array([[1, -1], [-1, 1]])\n",
    "e_3 = np.array([[1, 0], [0, 1]]) - e_1 - e_2"
   ],
   "outputs": []
  },
  {
   "cell_type": "markdown",
   "id": "4ccd7ad2-bb1b-415d-b10c-0e0d41f01f2b",
   "metadata": {},
   "source": [
    "We build the measurement matrix $M=E_1 + 2E_2 + 3E_3$"
   ]
  },
  {
   "cell_type": "code",
   "execution_count": 6,
   "id": "45aeca99-72e6-4632-886c-82e1bb9f8987",
   "metadata": {},
   "source": [
    "density_matrix = 1 * e_1 + 2 * e_2 + 3 * e_3\n",
    "mo = MeasurementOperator(density_matrix)\n",
    "mo.density_matrix"
   ],
   "outputs": []
  },
  {
   "cell_type": "markdown",
   "id": "73f4935c-715d-4448-9f7b-4fba479d61b8",
   "metadata": {},
   "source": [
    "We calculate the probabilities for the quantum state $\\ket{0}$"
   ]
  },
  {
   "cell_type": "code",
   "execution_count": 7,
   "id": "49b98edb-4862-4e4e-ad81-3de02e4d211b",
   "metadata": {},
   "source": [
    "mo.get_probabilities([1, 0])"
   ],
   "outputs": []
  },
  {
   "cell_type": "markdown",
   "id": "1cbb222f-bc40-4c7d-9df6-2a0f5b0a7bff",
   "metadata": {},
   "source": [
    "We calculate the probabilities for the quantum state $\\frac{\\ket{0} + \\ket{1}}{2}$"
   ]
  },
  {
   "cell_type": "code",
   "execution_count": 8,
   "id": "6be42a8a-534f-4361-bf84-c92f6b64582d",
   "metadata": {},
   "source": [
    "mo.get_probabilities([1, 1])"
   ],
   "outputs": []
  },
  {
   "cell_type": "code",
   "execution_count": null,
   "id": "30a6d838-1cea-4439-89df-967469e33399",
   "metadata": {},
   "source": [],
   "outputs": []
  },
  {
   "cell_type": "code",
   "execution_count": null,
   "id": "f704478c-27f2-4c6e-87a8-051a765fdf75",
   "metadata": {},
   "source": [],
   "outputs": []
  }
 ],
 "metadata": {
  "kernelspec": {
   "display_name": "Python 3 (ipykernel)",
   "language": "python",
   "name": "python3"
  },
  "language_info": {
   "codemirror_mode": {
    "name": "ipython",
    "version": 3
   },
   "file_extension": ".py",
   "mimetype": "text/x-python",
   "name": "python",
   "nbconvert_exporter": "python",
   "pygments_lexer": "ipython3",
   "version": "3.11.6"
  }
 },
 "nbformat": 4,
 "nbformat_minor": 5
}
