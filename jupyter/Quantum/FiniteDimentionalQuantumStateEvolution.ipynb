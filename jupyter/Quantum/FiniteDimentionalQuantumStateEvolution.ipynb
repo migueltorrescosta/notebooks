{
 "cells": [
  {
   "metadata": {},
   "cell_type": "markdown",
   "source": [
    "# Goal\n",
    "\n",
    "As we are working with a finite dimentional system, we can describe our Hamiltonian $H \\in M_n(\\mathbb{C})$ using a $n \\times n$ matrix. Self-adjointness requires us to have $H = H^\\dagger$. With this setup and with an initial quantum state $\\rho_0$, we want to be able to describe the time evolution given by $\\rho_t = e^{-\\frac{i}{\\hbar}Ht} \\rho_0 e^{\\frac{i}{\\hbar}Ht}$.\n",
    "\n",
    "# Approach\n",
    "\n",
    "[Numpy provides the exponential form](https://docs.scipy.org/doc/scipy/reference/linalg.html#matrix-functions) most needed operations: This allows us to directly calculate the exponentials needed."
   ],
   "id": "b1e80e824d2ea9fa"
  },
  {
   "metadata": {},
   "cell_type": "markdown",
   "source": "# Imports",
   "id": "36f5bb05f48598a6"
  },
  {
   "metadata": {
    "ExecuteTime": {
     "end_time": "2024-04-11T10:21:05.111523Z",
     "start_time": "2024-04-11T10:21:04.727552Z"
    }
   },
   "cell_type": "code",
   "source": [
    "import numpy as np\n",
    "from IPython.core.pylabtools import figsize\n",
    "\n",
    "from src_notebooks import visualization\n",
    "\n",
    "figsize(20, 3)"
   ],
   "id": "cb5018e7c5b32792",
   "execution_count": 1,
   "outputs": []
  },
  {
   "metadata": {},
   "cell_type": "markdown",
   "source": "# Heatmap view",
   "id": "c2e97b275e75172e"
  },
  {
   "metadata": {
    "ExecuteTime": {
     "end_time": "2024-04-11T10:21:05.209470Z",
     "start_time": "2024-04-11T10:21:05.112512Z"
    }
   },
   "cell_type": "code",
   "source": [
    "visualization.quantum_state_heatmap(\n",
    "    hamiltonian=np.array([\n",
    "        [0, 1, 0],\n",
    "        [1, 0, 0],\n",
    "        [0, 0, 1]\n",
    "    ]),\n",
    "    rho0=np.array([\n",
    "        [1, 0, 0],\n",
    "        [0, 0, 0],\n",
    "        [0, 0, 0]\n",
    "    ]),\n",
    ")"
   ],
   "id": "c5e1c139f72c7572",
   "execution_count": 2,
   "outputs": []
  },
  {
   "metadata": {},
   "cell_type": "markdown",
   "source": "# Coherences over time",
   "id": "ecb5c938a34edde1"
  },
  {
   "metadata": {
    "ExecuteTime": {
     "end_time": "2024-04-11T10:21:05.493249Z",
     "start_time": "2024-04-11T10:21:05.210108Z"
    }
   },
   "cell_type": "code",
   "source": [
    "visualization.finite_dimensional_populations_over_time(\n",
    "    hamiltonian=np.array([\n",
    "        [0, 1, .1],\n",
    "        [1, 0, 0],\n",
    "        [.1, 0, 1]\n",
    "    ]),\n",
    "    rho0=np.array([\n",
    "        [.6, 0, 0],\n",
    "        [0, 0, 0],\n",
    "        [0, 0, .4]\n",
    "    ]),\n",
    ")"
   ],
   "id": "31ab1853bd9d163c",
   "execution_count": 3,
   "outputs": []
  },
  {
   "metadata": {},
   "cell_type": "markdown",
   "source": "# 2 state evolution",
   "id": "c62541cbbcaf5e2"
  },
  {
   "metadata": {
    "ExecuteTime": {
     "end_time": "2024-04-11T10:21:05.496586Z",
     "start_time": "2024-04-11T10:21:05.494331Z"
    }
   },
   "cell_type": "code",
   "source": [
    "def plot_2_state_evolution(delta: float, gamma: float, **kwargs) -> None:\n",
    "    sx = np.array([[0, 1], [1, 0]])\n",
    "    sz = np.array([[1, 0], [0, -1]])\n",
    "    h = -1 * (delta * sx + gamma + sz)\n",
    "    rho0 = np.array([[1, 0], [0, 0]])\n",
    "    visualization.finite_dimensional_populations_over_time(hamiltonian=h, rho0=rho0, **kwargs)"
   ],
   "id": "c9cd4afc90d9da6f",
   "execution_count": 4,
   "outputs": []
  },
  {
   "metadata": {
    "ExecuteTime": {
     "end_time": "2024-04-11T10:21:05.786974Z",
     "start_time": "2024-04-11T10:21:05.497531Z"
    }
   },
   "cell_type": "code",
   "source": "plot_2_state_evolution(delta=.2, gamma=.4)",
   "id": "55b0526a7b1eeb9a",
   "execution_count": 5,
   "outputs": []
  },
  {
   "metadata": {
    "ExecuteTime": {
     "end_time": "2024-04-11T10:21:06.070688Z",
     "start_time": "2024-04-11T10:21:05.787578Z"
    }
   },
   "cell_type": "code",
   "source": "plot_2_state_evolution(delta=.8, gamma=1)",
   "id": "f0f43c7a34f3ec77",
   "execution_count": 6,
   "outputs": []
  },
  {
   "metadata": {
    "ExecuteTime": {
     "end_time": "2024-04-11T10:22:41.987558Z",
     "start_time": "2024-04-11T10:22:41.678400Z"
    }
   },
   "cell_type": "code",
   "source": "plot_2_state_evolution(delta=5, gamma=1)",
   "id": "4a621969e75412e9",
   "execution_count": 9,
   "outputs": []
  },
  {
   "metadata": {
    "ExecuteTime": {
     "end_time": "2024-04-11T10:24:04.727547Z",
     "start_time": "2024-04-11T10:24:04.451477Z"
    }
   },
   "cell_type": "code",
   "source": "plot_2_state_evolution(delta=5, gamma=.1)",
   "id": "bdc286970edd8f7b",
   "execution_count": 12,
   "outputs": []
  },
  {
   "metadata": {},
   "cell_type": "code",
   "execution_count": null,
   "source": "",
   "id": "f16569a0eaf56906",
   "outputs": []
  }
 ],
 "metadata": {
  "kernelspec": {
   "display_name": "Python 3",
   "language": "python",
   "name": "python3"
  },
  "language_info": {
   "codemirror_mode": {
    "name": "ipython",
    "version": 2
   },
   "file_extension": ".py",
   "mimetype": "text/x-python",
   "name": "python",
   "nbconvert_exporter": "python",
   "pygments_lexer": "ipython2",
   "version": "2.7.6"
  }
 },
 "nbformat": 4,
 "nbformat_minor": 5
}
