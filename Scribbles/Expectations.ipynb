{
 "cells": [
  {
   "cell_type": "markdown",
   "metadata": {},
   "source": "# Expectations"
  },
  {
   "cell_type": "code",
   "metadata": {
    "ExecuteTime": {
     "end_time": "2024-07-30T16:38:43.612520Z",
     "start_time": "2024-07-30T16:38:43.610914Z"
    }
   },
   "source": [
    "import numpy as np\n",
    "import pandas as pd\n",
    "import seaborn as sns\n",
    "import math\n",
    "from matplotlib import pyplot as plt"
   ],
   "outputs": [],
   "execution_count": 1
  },
  {
   "cell_type": "markdown",
   "metadata": {},
   "source": [
    "# Auxiliary functions"
   ]
  },
  {
   "cell_type": "code",
   "metadata": {
    "ExecuteTime": {
     "end_time": "2024-07-30T16:38:43.637310Z",
     "start_time": "2024-07-30T16:38:43.613027Z"
    }
   },
   "source": [
    "# Turns a numpy array into a frequency dictionary\n",
    "def frequency_dict(x):\n",
    "    counts = np.unique(x, return_counts=True)\n",
    "    counts = map(lambda x, y: (x, y), counts[0], counts[1])\n",
    "    counts = {x[0]: x[1] for x in counts}\n",
    "    return counts"
   ],
   "outputs": [],
   "execution_count": 2
  },
  {
   "cell_type": "code",
   "metadata": {
    "ExecuteTime": {
     "end_time": "2024-07-30T16:38:43.648942Z",
     "start_time": "2024-07-30T16:38:43.638306Z"
    }
   },
   "source": [
    "# from a df with probability distribution build a sample observations set\n",
    "def random_dataframe(dist, samples):\n",
    "    df = pd.DataFrame()\n",
    "    df[\"Outcome\"] = np.random.choice(dist[\"Values\"], p=dist[\"Probs\"], size=samples)\n",
    "    return_mapping = pd.Series(dist[\"Returns\"].values, index=dist[\"Values\"]).to_dict()\n",
    "    df[\"Returns\"] = list(map(lambda x: return_mapping[x], df[\"Outcome\"]))\n",
    "    return df"
   ],
   "outputs": [],
   "execution_count": 3
  },
  {
   "cell_type": "code",
   "metadata": {
    "ExecuteTime": {
     "end_time": "2024-07-30T16:38:43.660036Z",
     "start_time": "2024-07-30T16:38:43.649862Z"
    }
   },
   "source": [
    "def distribution_plots(dist):\n",
    "    %matplotlib inline\n",
    "    fig, (ax1, ax2, ax3) = plt.subplots(ncols=3, sharey=False, figsize=(20, 6))\n",
    "    ax1.title.set_text(\"Probabilities i.e. expected frequencies\")\n",
    "    sns.barplot(x=\"Values\", y=\"Probs\", data=dist, ax=ax1)\n",
    "    ax2.title.set_text(\"Returns per outcome\")\n",
    "    sns.barplot(x=\"Values\", y=\"Returns\", data=dist, ax=ax2)\n",
    "    ax3.title.set_text(\"Weighted expected returns per outcome\")\n",
    "    sns.barplot(x=\"Values\", y=\"Expected Returns\", data=dist, ax=ax3)"
   ],
   "outputs": [],
   "execution_count": 4
  },
  {
   "cell_type": "code",
   "metadata": {
    "ExecuteTime": {
     "end_time": "2024-07-30T16:38:43.671640Z",
     "start_time": "2024-07-30T16:38:43.661008Z"
    }
   },
   "source": [
    "def results_plots(df):\n",
    "    %matplotlib inline\n",
    "    fig, (ax1, ax2) = plt.subplots(ncols=2, sharey=True, figsize=(20, 6))\n",
    "    ax1.title.set_text(\"Table of frequences per outcome\")\n",
    "    sns.countplot(df[\"Outcome\"], ax=ax1)\n",
    "    ax2.title.set_text(\"Table of frequences per return\")\n",
    "    sns.countplot(df[\"Returns\"], ax=ax2)"
   ],
   "outputs": [],
   "execution_count": 5
  },
  {
   "cell_type": "code",
   "metadata": {
    "ExecuteTime": {
     "end_time": "2024-07-30T16:38:43.682901Z",
     "start_time": "2024-07-30T16:38:43.672654Z"
    }
   },
   "source": [
    "def gen_dist(values, probs, returns):\n",
    "    dist = pd.DataFrame()\n",
    "    dist[\"Values\"] = values\n",
    "    dist[\"Probs\"] = probs\n",
    "    dist[\"Returns\"] = returns\n",
    "    dist[\"Expected Returns\"] = list(\n",
    "        map(lambda x, y: x * y, dist[\"Probs\"], dist[\"Returns\"])\n",
    "    )\n",
    "    expected_returns = np.dot(dist[\"Probs\"], dist[\"Returns\"])\n",
    "    print(\"Expected_Return: {}\".format(round(expected_returns, 4)))\n",
    "    print(\"Total_expected_returns: {}\".format(round(expected_returns * sample_size, 4)))\n",
    "    return dist, expected_returns"
   ],
   "outputs": [],
   "execution_count": 6
  },
  {
   "cell_type": "markdown",
   "metadata": {},
   "source": [
    "# Setting up our distribution"
   ]
  },
  {
   "cell_type": "code",
   "metadata": {
    "ExecuteTime": {
     "end_time": "2024-07-30T16:38:43.701240Z",
     "start_time": "2024-07-30T16:38:43.683934Z"
    }
   },
   "source": [
    "dist = pd.DataFrame()\n",
    "sample_size = 10**6\n",
    "price = 3.5\n",
    "dist[\"Values\"] = [1, 2, 3, 4, 5, 6]\n",
    "dist[\"Probs\"] = [1.0 / 6, 1.0 / 6, 1.0 / 6, 1.0 / 6, 1.0 / 6, 1.0 / 6]\n",
    "dist[\"Returns\"] = [5, 4, 9, 8, 20, 100]\n",
    "# dist['Returns'] = list(map(lambda x:x-price,dist['Values']))"
   ],
   "outputs": [],
   "execution_count": 7
  },
  {
   "cell_type": "markdown",
   "metadata": {},
   "source": [
    "# Dist info"
   ]
  },
  {
   "cell_type": "code",
   "metadata": {
    "ExecuteTime": {
     "end_time": "2024-07-30T16:38:44.051237Z",
     "start_time": "2024-07-30T16:38:43.702176Z"
    }
   },
   "source": [
    "dist, expected_returns = gen_dist(dist[\"Values\"], dist[\"Probs\"], dist[\"Returns\"])\n",
    "distribution_plots(dist)\n",
    "dist"
   ],
   "outputs": [
    {
     "name": "stdout",
     "output_type": "stream",
     "text": [
      "Expected_Return: 24.3333\n",
      "Total_expected_returns: 24333333.3333\n"
     ]
    },
    {
     "data": {
      "text/plain": [
       "   Values     Probs  Returns  Expected Returns\n",
       "0       1  0.166667        5          0.833333\n",
       "1       2  0.166667        4          0.666667\n",
       "2       3  0.166667        9          1.500000\n",
       "3       4  0.166667        8          1.333333\n",
       "4       5  0.166667       20          3.333333\n",
       "5       6  0.166667      100         16.666667"
      ],
      "text/html": [
       "<div>\n",
       "<style scoped>\n",
       "    .dataframe tbody tr th:only-of-type {\n",
       "        vertical-align: middle;\n",
       "    }\n",
       "\n",
       "    .dataframe tbody tr th {\n",
       "        vertical-align: top;\n",
       "    }\n",
       "\n",
       "    .dataframe thead th {\n",
       "        text-align: right;\n",
       "    }\n",
       "</style>\n",
       "<table border=\"1\" class=\"dataframe\">\n",
       "  <thead>\n",
       "    <tr style=\"text-align: right;\">\n",
       "      <th></th>\n",
       "      <th>Values</th>\n",
       "      <th>Probs</th>\n",
       "      <th>Returns</th>\n",
       "      <th>Expected Returns</th>\n",
       "    </tr>\n",
       "  </thead>\n",
       "  <tbody>\n",
       "    <tr>\n",
       "      <th>0</th>\n",
       "      <td>1</td>\n",
       "      <td>0.166667</td>\n",
       "      <td>5</td>\n",
       "      <td>0.833333</td>\n",
       "    </tr>\n",
       "    <tr>\n",
       "      <th>1</th>\n",
       "      <td>2</td>\n",
       "      <td>0.166667</td>\n",
       "      <td>4</td>\n",
       "      <td>0.666667</td>\n",
       "    </tr>\n",
       "    <tr>\n",
       "      <th>2</th>\n",
       "      <td>3</td>\n",
       "      <td>0.166667</td>\n",
       "      <td>9</td>\n",
       "      <td>1.500000</td>\n",
       "    </tr>\n",
       "    <tr>\n",
       "      <th>3</th>\n",
       "      <td>4</td>\n",
       "      <td>0.166667</td>\n",
       "      <td>8</td>\n",
       "      <td>1.333333</td>\n",
       "    </tr>\n",
       "    <tr>\n",
       "      <th>4</th>\n",
       "      <td>5</td>\n",
       "      <td>0.166667</td>\n",
       "      <td>20</td>\n",
       "      <td>3.333333</td>\n",
       "    </tr>\n",
       "    <tr>\n",
       "      <th>5</th>\n",
       "      <td>6</td>\n",
       "      <td>0.166667</td>\n",
       "      <td>100</td>\n",
       "      <td>16.666667</td>\n",
       "    </tr>\n",
       "  </tbody>\n",
       "</table>\n",
       "</div>"
      ]
     },
     "execution_count": 8,
     "metadata": {},
     "output_type": "execute_result"
    },
    {
     "data": {
      "text/plain": [
       "<Figure size 2000x600 with 3 Axes>"
      ],
      "image/png": "[encoded data removed]"
     },
     "metadata": {},
     "output_type": "display_data"
    }
   ],
   "execution_count": 8
  },
  {
   "cell_type": "markdown",
   "metadata": {},
   "source": [
    "# Results"
   ]
  },
  {
   "cell_type": "code",
   "metadata": {
    "jupyter": {
     "is_executing": true
    },
    "ExecuteTime": {
     "start_time": "2024-07-30T16:38:44.052005Z"
    }
   },
   "source": [
    "df = random_dataframe(dist, sample_size)\n",
    "results_plots(df)"
   ],
   "outputs": [],
   "execution_count": null
  },
  {
   "cell_type": "markdown",
   "metadata": {},
   "source": [
    "# Comparison of expectations"
   ]
  },
  {
   "cell_type": "code",
   "metadata": {
    "jupyter": {
     "is_executing": true
    }
   },
   "source": [
    "total_expected_returns = np.sum(df[\"Returns\"])\n",
    "pd.DataFrame(\n",
    "    {\n",
    "        \"Expected\": [expected_returns, expected_returns * len(df)],\n",
    "        \"Observed\": [total_expected_returns / len(df), total_expected_returns],\n",
    "    },\n",
    "    index=[\"Average Returns\", \"Total Returns\"],\n",
    ")"
   ],
   "outputs": [],
   "execution_count": null
  }
 ],
 "metadata": {
  "kernelspec": {
   "display_name": "Python 3 (ipykernel)",
   "language": "python",
   "name": "python3"
  },
  "language_info": {
   "codemirror_mode": {
    "name": "ipython",
    "version": 3
   },
   "file_extension": ".py",
   "mimetype": "text/x-python",
   "name": "python",
   "nbconvert_exporter": "python",
   "pygments_lexer": "ipython3",
   "version": "3.11.6"
  }
 },
 "nbformat": 4,
 "nbformat_minor": 4
}
