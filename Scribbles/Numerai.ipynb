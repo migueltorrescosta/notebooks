{
 "cells": [
  {
   "cell_type": "markdown",
   "source": [
    "# Imports"
   ],
   "metadata": {
    "collapsed": false
   },
   "id": "d12d93e45e45a37f"
  },
  {
   "cell_type": "code",
   "outputs": [],
   "source": [
    "import os\n",
    "\n",
    "import lightgbm as lgb\n",
    "import pandas as pd\n",
    "from numerapi import NumerAPI"
   ],
   "metadata": {
    "collapsed": false
   },
   "id": "2472c8636a2eac0a",
   "execution_count": null
  },
  {
   "cell_type": "markdown",
   "source": [
    "# Download data"
   ],
   "metadata": {
    "collapsed": false
   },
   "id": "e4dd28c51a881eb6"
  },
  {
   "cell_type": "code",
   "outputs": [],
   "source": [
    "napi = NumerAPI()\n",
    "# Use int8 to save on storage and memory\n",
    "remote_file = \"v4.3/train_int8.parquet\"\n",
    "local_file = os.path.join(\"data\", remote_file)\n",
    "napi.download_dataset(remote_file, dest_path=local_file)\n",
    "training_data = pd.read_parquet(local_file)"
   ],
   "metadata": {
    "collapsed": false
   },
   "id": "966ca43b848d5459",
   "execution_count": null
  },
  {
   "cell_type": "markdown",
   "source": [
    "# Template Model"
   ],
   "metadata": {
    "collapsed": false
   },
   "id": "c1c163dce44411bd"
  },
  {
   "cell_type": "code",
   "outputs": [],
   "source": [
    "features = [f for f in training_data.columns if \"feature\" in f]\n",
    "\n",
    "model = lgb.LGBMRegressor(\n",
    "    n_estimators=2000,\n",
    "    learning_rate=0.01,\n",
    "    max_depth=5,\n",
    "    num_leaves=2 ** 5,\n",
    "    colsample_bytree=0.1\n",
    ")\n",
    "model.fit(\n",
    "    training_data[features],\n",
    "    training_data[\"target\"]\n",
    ")"
   ],
   "metadata": {
    "collapsed": false
   },
   "id": "63fe643489961e47"
  },
  {
   "cell_type": "markdown",
   "source": [
    "# Submit forecast"
   ],
   "metadata": {
    "collapsed": false
   },
   "id": "bd12103680c6386"
  },
  {
   "cell_type": "markdown",
   "source": [
    "See the docs on https://docs.numer.ai"
   ],
   "metadata": {
    "collapsed": false
   },
   "id": "ae2281b41523bc02"
  },
  {
   "cell_type": "code",
   "outputs": [],
   "source": [],
   "metadata": {
    "collapsed": false
   },
   "id": "93dbee6f6c7dfdde"
  }
 ],
 "metadata": {
  "kernelspec": {
   "display_name": "Python 3",
   "language": "python",
   "name": "python3"
  },
  "language_info": {
   "codemirror_mode": {
    "name": "ipython",
    "version": 2
   },
   "file_extension": ".py",
   "mimetype": "text/x-python",
   "name": "python",
   "nbconvert_exporter": "python",
   "pygments_lexer": "ipython2",
   "version": "2.7.6"
  }
 },
 "nbformat": 4,
 "nbformat_minor": 5
}
