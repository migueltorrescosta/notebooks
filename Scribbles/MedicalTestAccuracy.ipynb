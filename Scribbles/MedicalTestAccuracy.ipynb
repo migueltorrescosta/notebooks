{
 "cells": [
  {
   "cell_type": "markdown",
   "metadata": {},
   "source": "# Medical Test Accuracy"
  },
  {
   "cell_type": "code",
   "execution_count": 1,
   "metadata": {},
   "source": [
    "import numpy as np\n",
    "import pandas as pd"
   ],
   "outputs": []
  },
  {
   "cell_type": "markdown",
   "metadata": {},
   "source": [
    "# Aux functions"
   ]
  },
  {
   "cell_type": "code",
   "execution_count": 2,
   "metadata": {},
   "source": [
    "# Given the illness test percentual efficiency and the % of ill people, returns the df with true positives and false positives\n",
    "# positives : people who show positive in the vaccine_test\n",
    "def sample_percentages(efficiency, illness):\n",
    "    sample = {\n",
    "        \"true_positives\": 1.0 * illness * efficiency,\n",
    "        \"false_positives\": 1.0 * (1 - illness) * (1 - efficiency),\n",
    "        \"true_negatives\": 1.0 * (1 - illness) * efficiency,\n",
    "        \"false_negatives\": 1.0 * illness * (1 - efficiency),\n",
    "    }\n",
    "    return sample\n",
    "\n",
    "\n",
    "# Given the sample, returns the probability of a positive actually being ill\n",
    "\n",
    "\n",
    "def illness_likelihood(sample):\n",
    "    return sample[\"true_positives\"] / (\n",
    "        sample[\"true_positives\"] + sample[\"false_positives\"]\n",
    "    )"
   ],
   "outputs": []
  },
  {
   "cell_type": "markdown",
   "metadata": {},
   "source": [
    "# Main function"
   ]
  },
  {
   "cell_type": "code",
   "execution_count": 3,
   "metadata": {},
   "source": [
    "def main(efficiency, illness):\n",
    "    p = illness_likelihood(sample_percentages(efficiency, illness))\n",
    "    print(\n",
    "        \"Likelihood of having the illness given that we tested positive: {}\".format(p)\n",
    "    )\n",
    "    return p"
   ],
   "outputs": []
  },
  {
   "cell_type": "markdown",
   "metadata": {},
   "source": [
    "# Setting variables"
   ]
  },
  {
   "cell_type": "code",
   "execution_count": 4,
   "metadata": {},
   "source": [
    "illness = 0.001\n",
    "efficiency = 0.99"
   ],
   "outputs": []
  },
  {
   "cell_type": "markdown",
   "metadata": {},
   "source": [
    "# Running the script"
   ]
  },
  {
   "cell_type": "code",
   "execution_count": 5,
   "metadata": {},
   "source": [
    "main(efficiency, illness)"
   ],
   "outputs": []
  },
  {
   "cell_type": "markdown",
   "metadata": {},
   "source": [
    "# TODO: Add graph for visualizing group sizes (maybe log scale since the true positives are usually overwhelmingly large)"
   ]
  }
 ],
 "metadata": {
  "kernelspec": {
   "display_name": "Python 3",
   "language": "python",
   "name": "python3"
  },
  "language_info": {
   "codemirror_mode": {
    "name": "ipython",
    "version": 3
   },
   "file_extension": ".py",
   "mimetype": "text/x-python",
   "name": "python",
   "nbconvert_exporter": "python",
   "pygments_lexer": "ipython3",
   "version": "3.5.2"
  }
 },
 "nbformat": 4,
 "nbformat_minor": 2
}
