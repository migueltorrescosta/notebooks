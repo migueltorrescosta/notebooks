{
 "cells": [
  {
   "cell_type": "code",
   "id": "initial_id",
   "metadata": {
    "collapsed": true,
    "ExecuteTime": {
     "end_time": "2024-08-10T09:02:12.824395Z",
     "start_time": "2024-08-10T09:02:12.782275Z"
    }
   },
   "source": [
    "import pandas as pd\n",
    "\n",
    "# Data from https://gs.statcounter.com/os-market-share/desktop/worldwide/#monthly-200901-202408\n",
    "raw_df = pd.read_csv(\"data/os_marketshare/desktop_worldwide.csv\")\n",
    "raw_df.head()"
   ],
   "execution_count": 36,
   "outputs": []
  },
  {
   "metadata": {
    "ExecuteTime": {
     "end_time": "2024-08-10T09:02:13.704645Z",
     "start_time": "2024-08-10T09:02:13.392283Z"
    }
   },
   "cell_type": "code",
   "source": [
    "df = raw_df[['Date', 'OS X', 'Unknown', 'Linux', 'Chrome OS', 'iOS', 'Android', 'Playstation', 'Other', 'Windows']] # reordered columns\n",
    "df.plot.area(x=\"Date\", figsize=(15,5))"
   ],
   "id": "ea4b904c4c5376ef",
   "execution_count": 38,
   "outputs": []
  },
  {
   "metadata": {
    "ExecuteTime": {
     "end_time": "2024-08-10T09:16:19.196905Z",
     "start_time": "2024-08-10T09:16:19.075898Z"
    }
   },
   "cell_type": "code",
   "source": "df.iloc[[-1]][[\"Windows\", \"OS X\", \"Linux\"]].T.plot.pie(subplots=True)",
   "id": "ca7e57ff29f00ba7",
   "execution_count": 56,
   "outputs": []
  },
  {
   "metadata": {},
   "cell_type": "code",
   "execution_count": null,
   "source": "",
   "id": "dfd2ff15a4b0065",
   "outputs": []
  }
 ],
 "metadata": {
  "kernelspec": {
   "display_name": "Python 3",
   "language": "python",
   "name": "python3"
  },
  "language_info": {
   "codemirror_mode": {
    "name": "ipython",
    "version": 2
   },
   "file_extension": ".py",
   "mimetype": "text/x-python",
   "name": "python",
   "nbconvert_exporter": "python",
   "pygments_lexer": "ipython2",
   "version": "2.7.6"
  }
 },
 "nbformat": 4,
 "nbformat_minor": 5
}
