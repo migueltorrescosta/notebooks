{
 "cells": [
  {
   "metadata": {},
   "cell_type": "markdown",
   "source": [
    "# Goal\n",
    "\n",
    "We want to compare the performance of different numerical integration packages against one dimentional functions. We will model their quality by taking 2 exponentially distributed real numbers, and integrating test functions on their interval $[a, b], b>a$. If the test function has a singularity, we will have it at $ 0 $, to ensure that it is outside the integration interval, however it is still arbitrarely close to the integration interval, such as $\\sin( x^{-1} )$"
   ],
   "id": "8585ccd505cf9396"
  },
  {
   "metadata": {
    "ExecuteTime": {
     "end_time": "2024-07-30T10:47:33.022983Z",
     "start_time": "2024-07-30T10:47:33.016325Z"
    }
   },
   "cell_type": "code",
   "source": [
    "from dataclasses import dataclass\n",
    "from typing import Callable\n",
    "\n",
    "@dataclass\n",
    "class TestFunction:\n",
    "        name: str\n",
    "        distribution: Callable[[float], float]\n",
    "        cumulative: Callable[[float], float]\n",
    "        \n",
    "@dataclass\n",
    "class IntegrationAlgorithm:\n",
    "        name: str\n",
    "        integral: Callable[[Callable[[float], float], float, float], float]"
   ],
   "id": "2a6f2f9c4cad13d3",
   "outputs": [],
   "execution_count": 20
  },
  {
   "metadata": {},
   "cell_type": "markdown",
   "source": "# Test functions",
   "id": "9cfeb00716ea4a5d"
  },
  {
   "metadata": {
    "ExecuteTime": {
     "end_time": "2024-07-30T10:47:33.329171Z",
     "start_time": "2024-07-30T10:47:33.324305Z"
    }
   },
   "cell_type": "code",
   "source": [
    "import math\n",
    "test_functions = [\n",
    "        TestFunction(name=\"sin\", distribution=math.sin, cumulative=lambda x: - 1 * math.cos(x)),\n",
    "        TestFunction(name=\"quadratic\", distribution=lambda x: x**2, cumulative=lambda x: x**3/3),\n",
    "        TestFunction(name=\"asymmetric\", distribution=lambda x: x**(-11), cumulative=lambda x: -1 * x**(-10)/10)\n",
    "]"
   ],
   "id": "f0d6a7c5833a467e",
   "outputs": [],
   "execution_count": 21
  },
  {
   "metadata": {},
   "cell_type": "markdown",
   "source": "# Integration algorithms",
   "id": "995e050420c77526"
  },
  {
   "metadata": {
    "ExecuteTime": {
     "end_time": "2024-07-30T12:49:27.657315Z",
     "start_time": "2024-07-30T12:49:27.654716Z"
    }
   },
   "cell_type": "code",
   "source": [
    "import scipy\n",
    "integration_algorithms = [\n",
    "        IntegrationAlgorithm(name=\"scipy_quad\", integral=lambda fun, a, b: scipy.integrate.quad(fun, a, b)[0]),\n",
    "        IntegrationAlgorithm(name=\"fixed_quad\", integral=lambda fun, a, b: scipy.integrate.fixed_quad(lambda x: fun(x[0]), a, b)[0]),\n",
    "        # IntegrationAlgorithm(name=\"scipy_qmc_quad\", integral=lambda fun, a, b: scipy.integrate.qmc_quad(lambda (x,n): [fun(z) for z in x], [a], [b]).integral),\n",
    "]"
   ],
   "id": "75350ef06705c271",
   "outputs": [],
   "execution_count": 65
  },
  {
   "metadata": {},
   "cell_type": "markdown",
   "source": "# Dataset creation",
   "id": "a92e9e679bd51fa3"
  },
  {
   "metadata": {
    "ExecuteTime": {
     "end_time": "2024-07-30T12:49:28.450867Z",
     "start_time": "2024-07-30T12:49:28.199622Z"
    }
   },
   "cell_type": "code",
   "source": [
    "from itertools import product\n",
    "from tqdm import tqdm\n",
    "import pandas as pd\n",
    "import numpy as np\n",
    "\n",
    "df = pd.DataFrame(columns=[\"test_function\", \"integration_algorithm\", \"a\", \"b\", \"integral\", \"estimated_integral\"])\n",
    "n_samples = 10\n",
    "iterator = product(\n",
    "        test_functions,\n",
    "        integration_algorithms,\n",
    "        np.random.exponential(1, size=n_samples),\n",
    "        np.random.exponential(1, size=n_samples)\n",
    ")\n",
    "for function, algorithm, lower_bound, upper_bound in tqdm(iterator, total=len(test_functions)* len(integration_algorithms)*n_samples**2):\n",
    "        lower_bound,upper_bound = min(lower_bound, upper_bound), max(lower_bound, upper_bound)\n",
    "        df.loc[len(df.index)] = [function.name, algorithm.name, lower_bound, upper_bound, function.cumulative(upper_bound) - function.cumulative(lower_bound), algorithm.integral(function.distribution, lower_bound, upper_bound)] "
   ],
   "id": "49cc2cf61a5fdb62",
   "outputs": [
    {
     "name": "stderr",
     "output_type": "stream",
     "text": [
      "100%|██████████| 600/600 [00:00<00:00, 2479.63it/s]\n"
     ]
    }
   ],
   "execution_count": 67
  },
  {
   "metadata": {},
   "cell_type": "markdown",
   "source": "# Analysis of results",
   "id": "771808e4ea29cdff"
  },
  {
   "metadata": {
    "ExecuteTime": {
     "end_time": "2024-07-30T12:51:36.693395Z",
     "start_time": "2024-07-30T12:51:36.684703Z"
    }
   },
   "cell_type": "code",
   "source": "df[\"relative_error\"] = (df[\"estimated_integral\"] - df[\"integral\"])/ df[\"integral\"]\n",
   "id": "9c6a6e5a31bbcd20",
   "outputs": [
    {
     "data": {
      "text/plain": [
       "    test_function integration_algorithm         a         b      integral  \\\n",
       "0             sin            scipy_quad  0.251466  0.836857  2.987488e-01   \n",
       "1             sin            scipy_quad  0.251466  2.002791  1.387231e+00   \n",
       "2             sin            scipy_quad  0.177883  0.251466  1.567187e-02   \n",
       "3             sin            scipy_quad  0.251466  0.463737  7.416159e-02   \n",
       "4             sin            scipy_quad  0.204424  0.251466  1.062946e-02   \n",
       "..            ...                   ...       ...       ...           ...   \n",
       "595    asymmetric            fixed_quad  0.911635  1.128563  2.223898e-01   \n",
       "596    asymmetric            fixed_quad  0.781501  0.911635  9.245770e-01   \n",
       "597    asymmetric            fixed_quad  0.179396  0.911635  2.896428e+06   \n",
       "598    asymmetric            fixed_quad  0.390083  0.911635  1.225588e+03   \n",
       "599    asymmetric            fixed_quad  0.911635  0.913911  6.210458e-03   \n",
       "\n",
       "     estimated_integral  relative_error  \n",
       "0          2.987488e-01    3.716243e-16  \n",
       "1          1.387231e+00    0.000000e+00  \n",
       "2          1.567187e-02   -2.877946e-15  \n",
       "3          7.416159e-02   -3.742581e-16  \n",
       "4          1.062946e-02    1.631996e-15  \n",
       "..                  ...             ...  \n",
       "595        5.311940e-01    1.388572e+00  \n",
       "596        1.798841e+00    9.455829e-01  \n",
       "597        1.720996e+07    4.941787e+00  \n",
       "598        8.393957e+03    5.848925e+00  \n",
       "599        6.287937e-03    1.247549e-02  \n",
       "\n",
       "[600 rows x 7 columns]"
      ],
      "text/html": [
       "<div>\n",
       "<style scoped>\n",
       "    .dataframe tbody tr th:only-of-type {\n",
       "        vertical-align: middle;\n",
       "    }\n",
       "\n",
       "    .dataframe tbody tr th {\n",
       "        vertical-align: top;\n",
       "    }\n",
       "\n",
       "    .dataframe thead th {\n",
       "        text-align: right;\n",
       "    }\n",
       "</style>\n",
       "<table border=\"1\" class=\"dataframe\">\n",
       "  <thead>\n",
       "    <tr style=\"text-align: right;\">\n",
       "      <th></th>\n",
       "      <th>test_function</th>\n",
       "      <th>integration_algorithm</th>\n",
       "      <th>a</th>\n",
       "      <th>b</th>\n",
       "      <th>integral</th>\n",
       "      <th>estimated_integral</th>\n",
       "      <th>relative_error</th>\n",
       "    </tr>\n",
       "  </thead>\n",
       "  <tbody>\n",
       "    <tr>\n",
       "      <th>0</th>\n",
       "      <td>sin</td>\n",
       "      <td>scipy_quad</td>\n",
       "      <td>0.251466</td>\n",
       "      <td>0.836857</td>\n",
       "      <td>2.987488e-01</td>\n",
       "      <td>2.987488e-01</td>\n",
       "      <td>3.716243e-16</td>\n",
       "    </tr>\n",
       "    <tr>\n",
       "      <th>1</th>\n",
       "      <td>sin</td>\n",
       "      <td>scipy_quad</td>\n",
       "      <td>0.251466</td>\n",
       "      <td>2.002791</td>\n",
       "      <td>1.387231e+00</td>\n",
       "      <td>1.387231e+00</td>\n",
       "      <td>0.000000e+00</td>\n",
       "    </tr>\n",
       "    <tr>\n",
       "      <th>2</th>\n",
       "      <td>sin</td>\n",
       "      <td>scipy_quad</td>\n",
       "      <td>0.177883</td>\n",
       "      <td>0.251466</td>\n",
       "      <td>1.567187e-02</td>\n",
       "      <td>1.567187e-02</td>\n",
       "      <td>-2.877946e-15</td>\n",
       "    </tr>\n",
       "    <tr>\n",
       "      <th>3</th>\n",
       "      <td>sin</td>\n",
       "      <td>scipy_quad</td>\n",
       "      <td>0.251466</td>\n",
       "      <td>0.463737</td>\n",
       "      <td>7.416159e-02</td>\n",
       "      <td>7.416159e-02</td>\n",
       "      <td>-3.742581e-16</td>\n",
       "    </tr>\n",
       "    <tr>\n",
       "      <th>4</th>\n",
       "      <td>sin</td>\n",
       "      <td>scipy_quad</td>\n",
       "      <td>0.204424</td>\n",
       "      <td>0.251466</td>\n",
       "      <td>1.062946e-02</td>\n",
       "      <td>1.062946e-02</td>\n",
       "      <td>1.631996e-15</td>\n",
       "    </tr>\n",
       "    <tr>\n",
       "      <th>...</th>\n",
       "      <td>...</td>\n",
       "      <td>...</td>\n",
       "      <td>...</td>\n",
       "      <td>...</td>\n",
       "      <td>...</td>\n",
       "      <td>...</td>\n",
       "      <td>...</td>\n",
       "    </tr>\n",
       "    <tr>\n",
       "      <th>595</th>\n",
       "      <td>asymmetric</td>\n",
       "      <td>fixed_quad</td>\n",
       "      <td>0.911635</td>\n",
       "      <td>1.128563</td>\n",
       "      <td>2.223898e-01</td>\n",
       "      <td>5.311940e-01</td>\n",
       "      <td>1.388572e+00</td>\n",
       "    </tr>\n",
       "    <tr>\n",
       "      <th>596</th>\n",
       "      <td>asymmetric</td>\n",
       "      <td>fixed_quad</td>\n",
       "      <td>0.781501</td>\n",
       "      <td>0.911635</td>\n",
       "      <td>9.245770e-01</td>\n",
       "      <td>1.798841e+00</td>\n",
       "      <td>9.455829e-01</td>\n",
       "    </tr>\n",
       "    <tr>\n",
       "      <th>597</th>\n",
       "      <td>asymmetric</td>\n",
       "      <td>fixed_quad</td>\n",
       "      <td>0.179396</td>\n",
       "      <td>0.911635</td>\n",
       "      <td>2.896428e+06</td>\n",
       "      <td>1.720996e+07</td>\n",
       "      <td>4.941787e+00</td>\n",
       "    </tr>\n",
       "    <tr>\n",
       "      <th>598</th>\n",
       "      <td>asymmetric</td>\n",
       "      <td>fixed_quad</td>\n",
       "      <td>0.390083</td>\n",
       "      <td>0.911635</td>\n",
       "      <td>1.225588e+03</td>\n",
       "      <td>8.393957e+03</td>\n",
       "      <td>5.848925e+00</td>\n",
       "    </tr>\n",
       "    <tr>\n",
       "      <th>599</th>\n",
       "      <td>asymmetric</td>\n",
       "      <td>fixed_quad</td>\n",
       "      <td>0.911635</td>\n",
       "      <td>0.913911</td>\n",
       "      <td>6.210458e-03</td>\n",
       "      <td>6.287937e-03</td>\n",
       "      <td>1.247549e-02</td>\n",
       "    </tr>\n",
       "  </tbody>\n",
       "</table>\n",
       "<p>600 rows × 7 columns</p>\n",
       "</div>"
      ]
     },
     "execution_count": 71,
     "metadata": {},
     "output_type": "execute_result"
    }
   ],
   "execution_count": 71
  },
  {
   "metadata": {
    "ExecuteTime": {
     "end_time": "2024-07-30T12:53:34.292603Z",
     "start_time": "2024-07-30T12:53:33.722784Z"
    }
   },
   "cell_type": "code",
   "source": [
    "import seaborn as sns\n",
    "from matplotlib import pyplot as plt\n",
    "fig, ax = plt.subplots(figsize=(8,6))\n",
    "sns.scatterplot(x='relative_error', y='a', hue='integration_algorithm', data=df) \n",
    "plt.show()"
   ],
   "id": "23976517f6032e25",
   "outputs": [
    {
     "data": {
      "text/plain": [
       "<Figure size 800x600 with 1 Axes>"
      ],
      "image/png": "[encoded data removed]"
     },
     "metadata": {},
     "output_type": "display_data"
    }
   ],
   "execution_count": 73
  },
  {
   "metadata": {},
   "cell_type": "code",
   "outputs": [],
   "execution_count": null,
   "source": "",
   "id": "bdbbba5cbec11904"
  }
 ],
 "metadata": {
  "kernelspec": {
   "display_name": "Python 3",
   "language": "python",
   "name": "python3"
  },
  "language_info": {
   "codemirror_mode": {
    "name": "ipython",
    "version": 2
   },
   "file_extension": ".py",
   "mimetype": "text/x-python",
   "name": "python",
   "nbconvert_exporter": "python",
   "pygments_lexer": "ipython2",
   "version": "2.7.6"
  }
 },
 "nbformat": 4,
 "nbformat_minor": 5
}
