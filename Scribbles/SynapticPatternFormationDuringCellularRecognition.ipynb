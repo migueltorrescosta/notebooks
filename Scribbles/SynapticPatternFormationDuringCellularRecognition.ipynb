{
 "cells": [
  {
   "cell_type": "markdown",
   "source": [
    "# Goal\n",
    "\n",
    "We want to model solutions to the set of equations described in https://www.pnas.org/doi/full/10.1073/pnas.111536798#T1. These model is described in https://collapsedwave.com/%F0%9F%90%B6-Random/Synaptic-pattern-formation-during-cellular-recognition"
   ],
   "metadata": {
    "collapsed": false
   },
   "id": "af23190deb7324df"
  },
  {
   "cell_type": "markdown",
   "source": [
    "# Imports"
   ],
   "metadata": {
    "collapsed": false
   },
   "id": "5d804222470bfc6b"
  },
  {
   "cell_type": "code",
   "outputs": [],
   "source": [],
   "metadata": {
    "collapsed": false
   },
   "id": "a23ff58583656cf"
  }
 ],
 "metadata": {
  "kernelspec": {
   "display_name": "Python 3",
   "language": "python",
   "name": "python3"
  },
  "language_info": {
   "codemirror_mode": {
    "name": "ipython",
    "version": 2
   },
   "file_extension": ".py",
   "mimetype": "text/x-python",
   "name": "python",
   "nbconvert_exporter": "python",
   "pygments_lexer": "ipython2",
   "version": "2.7.6"
  }
 },
 "nbformat": 4,
 "nbformat_minor": 5
}
