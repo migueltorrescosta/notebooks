{
 "cells": [
  {
   "cell_type": "markdown",
   "metadata": {},
   "source": [
    "# Handle imports"
   ]
  },
  {
   "cell_type": "code",
   "execution_count": 1,
   "metadata": {
    "collapsed": true
   },
   "outputs": [],
   "source": [
    "import numpy as np\n",
    "import pandas as pd\n",
    "import seaborn as sns\n",
    "import math\n",
    "from matplotlib import pyplot as plt"
   ]
  },
  {
   "cell_type": "markdown",
   "metadata": {},
   "source": [
    "# Auxiliary functions"
   ]
  },
  {
   "cell_type": "code",
   "execution_count": 2,
   "metadata": {
    "collapsed": true
   },
   "outputs": [],
   "source": [
    "# Turns a numpy array into a frequency dictionary\n",
    "def frequency_dict(x):\n",
    "    counts = np.unique(x,return_counts=True)\n",
    "    counts = map(lambda x,y:(x,y),counts[0],counts[1])\n",
    "    counts = {x[0]:x[1] for x in counts}\n",
    "    return counts"
   ]
  },
  {
   "cell_type": "code",
   "execution_count": 3,
   "metadata": {
    "collapsed": true
   },
   "outputs": [],
   "source": [
    "# from a df with probability distribution build a sample observations set\n",
    "def random_dataframe(dist,samples):\n",
    "    df = pd.DataFrame()\n",
    "    df['Outcome'] = np.random.choice(dist['Values'], p=dist['Probs'],size = samples)\n",
    "    return_mapping = pd.Series(dist['Returns'].values,index=dist['Values']).to_dict()\n",
    "    df['Returns'] = list(map(lambda x: return_mapping[x],df['Outcome']))\n",
    "    return df"
   ]
  },
  {
   "cell_type": "code",
   "execution_count": 4,
   "metadata": {
    "collapsed": true
   },
   "outputs": [],
   "source": [
    "def distribution_plots(dist):\n",
    "    %matplotlib inline\n",
    "    fig, (ax1, ax2, ax3) = plt.subplots(ncols=3, sharey=False, figsize = (20,6))\n",
    "    ax1.title.set_text(\"Probabilities i.e. expected frequencies\")\n",
    "    sns.barplot(x='Values',y='Probs',data=dist, ax=ax1)\n",
    "    ax2.title.set_text(\"Returns per outcome\")\n",
    "    sns.barplot(x='Values',y='Returns',data=dist, ax=ax2)\n",
    "    ax3.title.set_text(\"Weighted expected returns per outcome\")\n",
    "    sns.barplot(x='Values',y='Expected Returns',data=dist, ax=ax3)"
   ]
  },
  {
   "cell_type": "code",
   "execution_count": 5,
   "metadata": {
    "collapsed": true
   },
   "outputs": [],
   "source": [
    "def results_plots(df):\n",
    "    %matplotlib inline\n",
    "    fig, (ax1, ax2) = plt.subplots(ncols=2, sharey=True, figsize = (20,6))\n",
    "    ax1.title.set_text('Table of frequences per outcome')\n",
    "    sns.countplot(df['Outcome'], ax=ax1)\n",
    "    ax2.title.set_text('Table of frequences per return')\n",
    "    sns.countplot(df['Returns'], ax=ax2)"
   ]
  },
  {
   "cell_type": "code",
   "execution_count": 6,
   "metadata": {
    "collapsed": true
   },
   "outputs": [],
   "source": [
    "def gen_dist(values,probs,returns):\n",
    "    dist = pd.DataFrame()\n",
    "    dist['Values'] = values\n",
    "    dist['Probs'] = probs\n",
    "    dist['Returns'] = returns\n",
    "    dist['Expected Returns'] = list(map(lambda x,y:x*y,dist['Probs'],dist['Returns']))\n",
    "    expected_returns = np.dot(dist['Probs'],dist['Returns'])\n",
    "    print(\"Expected_Return: {}\".format(round(expected_returns,4)))\n",
    "    print(\"Total_expected_returns: {}\".format(round(expected_returns*sample_size,4)))\n",
    "    return dist, expected_returns"
   ]
  },
  {
   "cell_type": "markdown",
   "metadata": {},
   "source": [
    "# Setting up our distribution"
   ]
  },
  {
   "cell_type": "code",
   "execution_count": 7,
   "metadata": {
    "collapsed": true
   },
   "outputs": [],
   "source": [
    "dist = pd.DataFrame()\n",
    "sample_size = 10**6\n",
    "price = 25./3\n",
    "dist['Values'] = [3,5,7,9,11,13]\n",
    "dist['Probs'] = [1./9,1./9,2./9,2./9,2./9,1./9]\n",
    "# dist['Returns'] = [3,-2]\n",
    "dist['Returns'] = list(map(lambda x:x-price,dist['Values']))"
   ]
  },
  {
   "cell_type": "markdown",
   "metadata": {},
   "source": [
    "# Dist info"
   ]
  },
  {
   "cell_type": "code",
   "execution_count": 8,
   "metadata": {
    "scrolled": false
   },
   "outputs": [
    {
     "name": "stdout",
     "output_type": "stream",
     "text": [
      "Expected_Return: -0.0\n",
      "Total_expected_returns: -0.0\n"
     ]
    },
    {
     "data": {
      "text/html": [
       "<div>\n",
       "<style>\n",
       "    .dataframe thead tr:only-child th {\n",
       "        text-align: right;\n",
       "    }\n",
       "\n",
       "    .dataframe thead th {\n",
       "        text-align: left;\n",
       "    }\n",
       "\n",
       "    .dataframe tbody tr th {\n",
       "        vertical-align: top;\n",
       "    }\n",
       "</style>\n",
       "<table border=\"1\" class=\"dataframe\">\n",
       "  <thead>\n",
       "    <tr style=\"text-align: right;\">\n",
       "      <th></th>\n",
       "      <th>Values</th>\n",
       "      <th>Probs</th>\n",
       "      <th>Returns</th>\n",
       "      <th>Expected Returns</th>\n",
       "    </tr>\n",
       "  </thead>\n",
       "  <tbody>\n",
       "    <tr>\n",
       "      <th>0</th>\n",
       "      <td>3</td>\n",
       "      <td>0.111111</td>\n",
       "      <td>-5.333333</td>\n",
       "      <td>-0.592593</td>\n",
       "    </tr>\n",
       "    <tr>\n",
       "      <th>1</th>\n",
       "      <td>5</td>\n",
       "      <td>0.111111</td>\n",
       "      <td>-3.333333</td>\n",
       "      <td>-0.370370</td>\n",
       "    </tr>\n",
       "    <tr>\n",
       "      <th>2</th>\n",
       "      <td>7</td>\n",
       "      <td>0.222222</td>\n",
       "      <td>-1.333333</td>\n",
       "      <td>-0.296296</td>\n",
       "    </tr>\n",
       "    <tr>\n",
       "      <th>3</th>\n",
       "      <td>9</td>\n",
       "      <td>0.222222</td>\n",
       "      <td>0.666667</td>\n",
       "      <td>0.148148</td>\n",
       "    </tr>\n",
       "    <tr>\n",
       "      <th>4</th>\n",
       "      <td>11</td>\n",
       "      <td>0.222222</td>\n",
       "      <td>2.666667</td>\n",
       "      <td>0.592593</td>\n",
       "    </tr>\n",
       "    <tr>\n",
       "      <th>5</th>\n",
       "      <td>13</td>\n",
       "      <td>0.111111</td>\n",
       "      <td>4.666667</td>\n",
       "      <td>0.518519</td>\n",
       "    </tr>\n",
       "  </tbody>\n",
       "</table>\n",
       "</div>"
      ],
      "text/plain": [
       "   Values     Probs   Returns  Expected Returns\n",
       "0       3  0.111111 -5.333333         -0.592593\n",
       "1       5  0.111111 -3.333333         -0.370370\n",
       "2       7  0.222222 -1.333333         -0.296296\n",
       "3       9  0.222222  0.666667          0.148148\n",
       "4      11  0.222222  2.666667          0.592593\n",
       "5      13  0.111111  4.666667          0.518519"
      ]
     },
     "execution_count": 8,
     "metadata": {},
     "output_type": "execute_result"
    },
    {
     "data": {
      "image/png": "[encoded data removed]",
      "text/plain": [
       "<matplotlib.figure.Figure at 0x7f602ba04940>"
      ]
     },
     "metadata": {},
     "output_type": "display_data"
    }
   ],
   "source": [
    "dist, expected_returns = gen_dist(dist['Values'],dist['Probs'],dist['Returns'])\n",
    "distribution_plots(dist)\n",
    "dist"
   ]
  },
  {
   "cell_type": "markdown",
   "metadata": {},
   "source": [
    "# Results"
   ]
  },
  {
   "cell_type": "code",
   "execution_count": 9,
   "metadata": {},
   "outputs": [
    {
     "data": {
      "image/png": "[encoded data removed]",
      "text/plain": [
       "<matplotlib.figure.Figure at 0x7f602c1d1470>"
      ]
     },
     "metadata": {},
     "output_type": "display_data"
    }
   ],
   "source": [
    "df = random_dataframe(dist,sample_size)\n",
    "results_plots(df)"
   ]
  },
  {
   "cell_type": "markdown",
   "metadata": {},
   "source": [
    "# Comparison of expectations"
   ]
  },
  {
   "cell_type": "code",
   "execution_count": 10,
   "metadata": {},
   "outputs": [
    {
     "data": {
      "text/html": [
       "<div>\n",
       "<style>\n",
       "    .dataframe thead tr:only-child th {\n",
       "        text-align: right;\n",
       "    }\n",
       "\n",
       "    .dataframe thead th {\n",
       "        text-align: left;\n",
       "    }\n",
       "\n",
       "    .dataframe tbody tr th {\n",
       "        vertical-align: top;\n",
       "    }\n",
       "</style>\n",
       "<table border=\"1\" class=\"dataframe\">\n",
       "  <thead>\n",
       "    <tr style=\"text-align: right;\">\n",
       "      <th></th>\n",
       "      <th>Expected</th>\n",
       "      <th>Observed</th>\n",
       "    </tr>\n",
       "  </thead>\n",
       "  <tbody>\n",
       "    <tr>\n",
       "      <th>Average Returns</th>\n",
       "      <td>-7.771561e-16</td>\n",
       "      <td>-0.000205</td>\n",
       "    </tr>\n",
       "    <tr>\n",
       "      <th>Total Returns</th>\n",
       "      <td>-7.771561e-10</td>\n",
       "      <td>-205.333333</td>\n",
       "    </tr>\n",
       "  </tbody>\n",
       "</table>\n",
       "</div>"
      ],
      "text/plain": [
       "                     Expected    Observed\n",
       "Average Returns -7.771561e-16   -0.000205\n",
       "Total Returns   -7.771561e-10 -205.333333"
      ]
     },
     "execution_count": 10,
     "metadata": {},
     "output_type": "execute_result"
    }
   ],
   "source": [
    "total_expected_returns = np.sum(df['Returns'])\n",
    "pd.DataFrame({'Expected':[expected_returns,expected_returns*len(df)],'Observed':[total_expected_returns/len(df),total_expected_returns]}, index = ['Average Returns','Total Returns'])"
   ]
  },
  {
   "cell_type": "markdown",
   "metadata": {
    "collapsed": true
   },
   "source": [
    "###### "
   ]
  }
 ],
 "metadata": {
  "kernelspec": {
   "display_name": "Python 3",
   "language": "python",
   "name": "python3"
  },
  "language_info": {
   "codemirror_mode": {
    "name": "ipython",
    "version": 3
   },
   "file_extension": ".py",
   "mimetype": "text/x-python",
   "name": "python",
   "nbconvert_exporter": "python",
   "pygments_lexer": "ipython3",
   "version": "3.5.2"
  }
 },
 "nbformat": 4,
 "nbformat_minor": 2
}
