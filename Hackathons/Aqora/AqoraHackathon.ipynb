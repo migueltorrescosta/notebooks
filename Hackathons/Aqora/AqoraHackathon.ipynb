{
 "cells": [
  {
   "metadata": {},
   "cell_type": "markdown",
   "source": "# Aqora"
  },
  {
   "cell_type": "markdown",
   "metadata": {},
   "source": [
    "**Aqora** helps you manage your development environment! You can click `Run All` above and select `Python Environments > .venv` when picking a kernel.\n",
    "\n",
    "To add dependencies you can open a new Terminal with `Terminal > New Terminal` and run `aqora add <dependency name>`"
   ]
  },
  {
   "cell_type": "code",
   "metadata": {
    "ExecuteTime": {
     "end_time": "2024-05-28T11:02:22.853566Z",
     "start_time": "2024-05-28T11:02:21.785497Z"
    }
   },
   "source": [
    "import cv2\n",
    "from matplotlib import image\n",
    "from matplotlib import pyplot as plt\n",
    "from typing import Tuple, List\n",
    "import cv2 as cv\n",
    "import numpy as np\n",
    "from scipy.optimize import minimize"
   ],
   "execution_count": 1,
   "outputs": []
  },
  {
   "metadata": {},
   "cell_type": "markdown",
   "source": "# Ideal Court"
  },
  {
   "metadata": {
    "ExecuteTime": {
     "end_time": "2024-05-28T11:02:23.093557Z",
     "start_time": "2024-05-28T11:02:22.855855Z"
    }
   },
   "cell_type": "code",
   "source": [
    "ideal_court = image.imread(\"ideal_court.png\", format=0)  # The zero makes it grayscale\n",
    "plt.imshow(ideal_court, cmap=\"gray\")"
   ],
   "execution_count": 2,
   "outputs": []
  },
  {
   "metadata": {},
   "cell_type": "markdown",
   "source": "# Image loading"
  },
  {
   "metadata": {
    "ExecuteTime": {
     "end_time": "2024-05-28T11:02:23.403277Z",
     "start_time": "2024-05-28T11:02:23.094618Z"
    }
   },
   "cell_type": "code",
   "source": [
    "# id = \"E3iMgC0-Hxw_250\"\n",
    "id = \"0Ke1MYdxsgg_2000\"\n",
    "img = image.imread(f\"data/{id}.png\")\n",
    "plt.imshow(img)"
   ],
   "execution_count": 3,
   "outputs": []
  },
  {
   "metadata": {},
   "cell_type": "markdown",
   "source": "# Apply Homographic transform"
  },
  {
   "metadata": {
    "ExecuteTime": {
     "end_time": "2024-05-28T11:02:23.408129Z",
     "start_time": "2024-05-28T11:02:23.404320Z"
    }
   },
   "cell_type": "code",
   "source": [
    "def apply_homography(\n",
    "        image: cv.typing.MatLike,\n",
    "        theta: List[List[float]],\n",
    "        target_shape: Tuple[float] | None = None\n",
    ") -> cv.typing.MatLike:\n",
    "    transformation_matrix = cv2.getPerspectiveTransform(\n",
    "        src=np.array([[150, 590], [250, 200], [880, 200], [1150, 590]], dtype=np.float32),\n",
    "        dst=np.array(theta, dtype=np.float32),\n",
    "    )\n",
    "    return cv.warpPerspective(\n",
    "        src=image,\n",
    "        M=transformation_matrix,\n",
    "        dsize=target_shape if target_shape is not None else image.shape[:2][::-1],\n",
    "    )\n",
    "    # src: coordinates in the source image\n"
   ],
   "execution_count": 4,
   "outputs": []
  },
  {
   "metadata": {
    "ExecuteTime": {
     "end_time": "2024-05-28T11:02:23.683299Z",
     "start_time": "2024-05-28T11:02:23.409769Z"
    }
   },
   "cell_type": "code",
   "source": [
    "plt.imshow(\n",
    "    np.mean(\n",
    "        apply_homography(\n",
    "            image=img,\n",
    "            theta=[[200, 700], [-100, 200], [1100, 200], [1100, 700]]\n",
    "        ),\n",
    "        axis=2\n",
    "    ),\n",
    "    cmap=\"gray\"\n",
    ")"
   ],
   "execution_count": 5,
   "outputs": []
  },
  {
   "metadata": {},
   "cell_type": "markdown",
   "source": [
    "# Remove shadows\n",
    "\n",
    "1. Sample the most common colour\n",
    "2. Apply the mask for equality with the mode\n",
    "3. Calculate the boxFilter with $7 \\times 7$\n",
    "4. Apply the filter for at least 4 common codes, and the center pixel is not in the mode"
   ]
  },
  {
   "metadata": {},
   "cell_type": "markdown",
   "source": "## Auxiliary"
  },
  {
   "metadata": {
    "ExecuteTime": {
     "end_time": "2024-05-28T11:02:23.688805Z",
     "start_time": "2024-05-28T11:02:23.684923Z"
    }
   },
   "cell_type": "code",
   "source": [
    "def show_img_compar(img_1, img_2):\n",
    "    f, ax = plt.subplots(1, 2, figsize=(10, 10))\n",
    "    ax[0].imshow(img_1)\n",
    "    ax[1].imshow(img_2)\n",
    "    ax[0].axis('off')  #hide the axis\n",
    "    ax[1].axis('off')\n",
    "    f.tight_layout()\n",
    "    plt.show()"
   ],
   "execution_count": 6,
   "outputs": []
  },
  {
   "metadata": {
    "ExecuteTime": {
     "end_time": "2024-05-28T11:02:23.714867Z",
     "start_time": "2024-05-28T11:02:23.690151Z"
    }
   },
   "cell_type": "code",
   "source": [
    "def get_mode_colour(image: cv.typing.MatLike) -> np.array:\n",
    "    img_temp = img.copy()\n",
    "    unique, counts = np.unique(img_temp.reshape(-1, 3), axis=0, return_counts=True)\n",
    "    return unique[np.argmax(counts)]\n",
    "    # img_temp[:, :, 0], img_temp[:, :, 1], img_temp[:, :, 2] = unique[np.argmax(counts)]\n",
    "    # \n",
    "    # show_img_compar(img, img_temp)"
   ],
   "execution_count": 7,
   "outputs": []
  },
  {
   "metadata": {
    "ExecuteTime": {
     "end_time": "2024-05-28T11:02:24.008151Z",
     "start_time": "2024-05-28T11:02:23.716543Z"
    }
   },
   "cell_type": "code",
   "source": "plt.imshow(img)",
   "execution_count": 8,
   "outputs": []
  },
  {
   "metadata": {
    "ExecuteTime": {
     "end_time": "2024-05-28T11:02:25.334946Z",
     "start_time": "2024-05-28T11:02:24.009754Z"
    }
   },
   "cell_type": "code",
   "source": [
    "mode_colour = get_mode_colour(image=img)\n",
    "(img == mode_colour).shape"
   ],
   "execution_count": 9,
   "outputs": []
  },
  {
   "metadata": {
    "ExecuteTime": {
     "end_time": "2024-05-28T11:02:25.578833Z",
     "start_time": "2024-05-28T11:02:25.336658Z"
    }
   },
   "cell_type": "code",
   "source": [
    "# Get colour detection\n",
    "filtered_image = (np.sum(np.abs(img[:, :, 0:3] - mode_colour) ** 2, axis=2) < .1).astype(int)\n",
    "plt.imshow(filtered_image, cmap=\"gray\")"
   ],
   "execution_count": 10,
   "outputs": []
  },
  {
   "metadata": {},
   "cell_type": "markdown",
   "source": ""
  },
  {
   "metadata": {
    "ExecuteTime": {
     "end_time": "2024-05-28T11:02:25.814576Z",
     "start_time": "2024-05-28T11:02:25.580060Z"
    }
   },
   "cell_type": "code",
   "source": [
    "# boxFilter\n",
    "box_filtered = cv.boxFilter(filtered_image.astype(float), ddepth=-1, ksize=(5, 5), normalize=True)\n",
    "plt.imshow(box_filtered, cmap=\"gray\")"
   ],
   "execution_count": 11,
   "outputs": []
  },
  {
   "metadata": {
    "ExecuteTime": {
     "end_time": "2024-05-28T11:02:26.177721Z",
     "start_time": "2024-05-28T11:02:25.815639Z"
    }
   },
   "cell_type": "code",
   "source": [
    "# Shadowless image\n",
    "custom_filter = np.vectorize(lambda x, y: x < .16 or y == 0)\n",
    "final_image = custom_filter(box_filtered, filtered_image).astype(int)\n",
    "plt.imshow(final_image, cmap=\"gray\")"
   ],
   "execution_count": 12,
   "outputs": []
  },
  {
   "metadata": {},
   "cell_type": "markdown",
   "source": "# Jaccard Similarity"
  },
  {
   "metadata": {
    "ExecuteTime": {
     "end_time": "2024-05-28T11:02:26.183249Z",
     "start_time": "2024-05-28T11:02:26.178986Z"
    }
   },
   "cell_type": "code",
   "source": [
    "def jaccard_similarity(\n",
    "        image: cv.typing.MatLike,\n",
    "        base_img: cv.typing.MatLike = ideal_court\n",
    ") -> float:\n",
    "    assert image.shape == base_img.shape, f\"You need to have images of equal size to use the Jaccard index ( {image.shape} != {base_img.shape})\"\n",
    "    # Only works for monochromatic data\n",
    "    numerator = np.vectorize(lambda i, b: b == 1 and i == 1)\n",
    "    denominator = np.vectorize(lambda i, b: b == 1)\n",
    "    return np.divide(\n",
    "        sum(sum(numerator(image, base_img))),\n",
    "        sum(sum(denominator(image, base_img)))\n",
    "    )"
   ],
   "execution_count": 13,
   "outputs": []
  },
  {
   "metadata": {},
   "cell_type": "markdown",
   "source": "## sanity check"
  },
  {
   "metadata": {
    "ExecuteTime": {
     "end_time": "2024-05-28T11:02:26.204788Z",
     "start_time": "2024-05-28T11:02:26.185794Z"
    }
   },
   "cell_type": "code",
   "source": "ideal_court.shape",
   "execution_count": 14,
   "outputs": []
  },
  {
   "metadata": {
    "ExecuteTime": {
     "end_time": "2024-05-28T11:02:26.438290Z",
     "start_time": "2024-05-28T11:02:26.205869Z"
    }
   },
   "cell_type": "code",
   "source": "jaccard_similarity(filtered_image, filtered_image)",
   "execution_count": 15,
   "outputs": []
  },
  {
   "metadata": {
    "ExecuteTime": {
     "end_time": "2024-05-28T11:02:26.654823Z",
     "start_time": "2024-05-28T11:02:26.439483Z"
    }
   },
   "cell_type": "code",
   "source": "jaccard_similarity(filtered_image, filtered_image[::-1])",
   "execution_count": 16,
   "outputs": []
  },
  {
   "metadata": {
    "ExecuteTime": {
     "end_time": "2024-05-28T11:02:26.659010Z",
     "start_time": "2024-05-28T11:02:26.656201Z"
    }
   },
   "cell_type": "code",
   "source": [
    "# Requires resizing\n",
    "# jaccard_similarity(filtered_image, ideal_court)"
   ],
   "execution_count": 17,
   "outputs": []
  },
  {
   "metadata": {},
   "cell_type": "markdown",
   "source": "# Loss function"
  },
  {
   "metadata": {
    "ExecuteTime": {
     "end_time": "2024-05-28T11:02:26.680859Z",
     "start_time": "2024-05-28T11:02:26.660730Z"
    }
   },
   "cell_type": "code",
   "source": [
    "def loss_function(\n",
    "        image: cv.typing.MatLike,\n",
    "        theta: List[List[float]],\n",
    "        target: cv.typing.MatLike = ideal_court\n",
    ") -> float:\n",
    "    transformed_image = apply_homography(\n",
    "        image=filtered_image.astype(float),\n",
    "        theta=theta,\n",
    "        target_shape=list(target.shape)[::-1]\n",
    "    ).astype(int)\n",
    "    return jaccard_similarity(transformed_image, ideal_court)"
   ],
   "execution_count": 18,
   "outputs": []
  },
  {
   "metadata": {
    "ExecuteTime": {
     "end_time": "2024-05-28T11:02:27.104247Z",
     "start_time": "2024-05-28T11:02:26.682060Z"
    }
   },
   "cell_type": "code",
   "source": "loss_function(img, theta=[[200, 600], [200, 200], [1100, 200], [1100, 600]])",
   "execution_count": 19,
   "outputs": []
  },
  {
   "metadata": {},
   "cell_type": "markdown",
   "source": "# Optimize with scipy"
  },
  {
   "metadata": {
    "ExecuteTime": {
     "end_time": "2024-05-28T11:02:27.109588Z",
     "start_time": "2024-05-28T11:02:27.105554Z"
    }
   },
   "cell_type": "code",
   "source": [
    "def our_minimization(\n",
    "        img: cv.typing.MatLike,\n",
    "        theta_0: np.array\n",
    "):\n",
    "    def flattened_loss(flat_theta):\n",
    "        return loss_function(\n",
    "            image=img,\n",
    "            theta=flat_theta.reshape(4, 2),\n",
    "            target=ideal_court,\n",
    "        )\n",
    "\n",
    "    return minimize(\n",
    "        flattened_loss,\n",
    "        x0=theta_0.flatten(),\n",
    "        method=\"Nelder-Mead\",\n",
    "    )"
   ],
   "execution_count": 20,
   "outputs": []
  },
  {
   "metadata": {
    "ExecuteTime": {
     "end_time": "2024-05-28T11:04:47.993907Z",
     "start_time": "2024-05-28T11:02:27.110900Z"
    }
   },
   "cell_type": "code",
   "source": [
    "our_minimization(\n",
    "    img=filtered_image,\n",
    "    theta_0=np.array([[200, 600], [200, 200], [1100, 200], [1100, 600]]),\n",
    ")"
   ],
   "execution_count": 21,
   "outputs": []
  },
  {
   "metadata": {
    "ExecuteTime": {
     "end_time": "2024-05-28T11:04:47.998336Z",
     "start_time": "2024-05-28T11:04:47.995642Z"
    }
   },
   "cell_type": "code",
   "source": "",
   "execution_count": 21,
   "outputs": []
  }
 ],
 "metadata": {
  "kernelspec": {
   "display_name": ".venv",
   "language": "python",
   "name": "python3"
  },
  "language_info": {
   "codemirror_mode": {
    "name": "ipython",
    "version": 3
   },
   "file_extension": ".py",
   "mimetype": "text/x-python",
   "name": "python",
   "nbconvert_exporter": "python",
   "pygments_lexer": "ipython3",
   "version": "3.10.12"
  }
 },
 "nbformat": 4,
 "nbformat_minor": 2
}
