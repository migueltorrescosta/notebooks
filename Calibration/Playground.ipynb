{
 "cells": [
  {
   "cell_type": "code",
   "execution_count": 1,
   "id": "defensive-blend",
   "metadata": {},
   "outputs": [],
   "source": [
    "import pandas as pd\n",
    "import numpy as np\n",
    "from scipy.stats import norm\n",
    "from tqdm import tqdm\n",
    "import itertools\n",
    "import matplotlib.pyplot as plt"
   ]
  },
  {
   "cell_type": "markdown",
   "id": "north-straight",
   "metadata": {},
   "source": [
    "# Notebook settings"
   ]
  },
  {
   "cell_type": "code",
   "execution_count": 2,
   "id": "crazy-fraud",
   "metadata": {},
   "outputs": [
    {
     "data": {
      "text/html": [
       "<style>.container { width:100% !important; }</style>"
      ],
      "text/plain": [
       "<IPython.core.display.HTML object>"
      ]
     },
     "metadata": {},
     "output_type": "display_data"
    }
   ],
   "source": [
    "from IPython.core.display import display, HTML\n",
    "\n",
    "display(HTML(\"<style>.container { width:100% !important; }</style>\"))\n",
    "\n",
    "pd.set_option(\"precision\", 3)"
   ]
  },
  {
   "cell_type": "markdown",
   "id": "cleared-ontario",
   "metadata": {},
   "source": [
    "# Data Cleaning"
   ]
  },
  {
   "cell_type": "code",
   "execution_count": 3,
   "id": "tamil-newton",
   "metadata": {},
   "outputs": [],
   "source": [
    "df = pd.read_csv(\"data/calibration-2021-03-13.csv\")"
   ]
  },
  {
   "cell_type": "code",
   "execution_count": 49,
   "id": "eight-orbit",
   "metadata": {},
   "outputs": [
    {
     "name": "stderr",
     "output_type": "stream",
     "text": [
      "/opt/conda/lib/python3.8/site-packages/pandas/core/arraylike.py:358: RuntimeWarning: divide by zero encountered in log\n",
      "  result = getattr(ufunc, method)(*inputs, **kwargs)\n",
      "/opt/conda/lib/python3.8/site-packages/pandas/core/arraylike.py:358: RuntimeWarning: invalid value encountered in log\n",
      "  result = getattr(ufunc, method)(*inputs, **kwargs)\n"
     ]
    }
   ],
   "source": [
    "# Removing irrelevant columns, id, state and question\n",
    "df = df[[\"user\", \"lo\", \"hi\", \"ci\", \"solution\"]]\n",
    "# z: How many std deviations away is the solution from the hi/lo inferred normal\n",
    "df[\"z\"] = np.divide(\n",
    "    2 * df[\"solution\"] - (df[\"hi\"] + df[\"lo\"]), (df[\"hi\"] - df[\"lo\"]) / norm.ppf(0.95)\n",
    ")\n",
    "# The percentaliz based on the std_deviatins\n",
    "df[\"z-percentile\"] = df[\"z\"].apply(norm.cdf)\n",
    "# log(z): How many std deviations away is the solution from the hi/lo inferred lognormal\n",
    "df[\"loglo\"] = np.log(df[\"lo\"])\n",
    "df[\"loghi\"] = np.log(df[\"hi\"])\n",
    "df[\"logsolution\"] = np.log(df[\"solution\"])\n",
    "df[\"logz\"] = np.divide(\n",
    "    2 * df[\"solution\"] - (df[\"loghi\"] + df[\"loglo\"]),\n",
    "    (df[\"loghi\"] - df[\"loglo\"]) / norm.ppf(0.95),\n",
    ")\n",
    "# log(z): How many std deviations away is the solution from the hi/lo inferred lognormal\n",
    "df[\"logz-percentile\"] = df[\"logz\"].apply(norm.cdf)"
   ]
  },
  {
   "cell_type": "code",
   "execution_count": 50,
   "id": "finished-tsunami",
   "metadata": {},
   "outputs": [
    {
     "data": {
      "text/html": [
       "<div>\n",
       "<style scoped>\n",
       "    .dataframe tbody tr th:only-of-type {\n",
       "        vertical-align: middle;\n",
       "    }\n",
       "\n",
       "    .dataframe tbody tr th {\n",
       "        vertical-align: top;\n",
       "    }\n",
       "\n",
       "    .dataframe thead th {\n",
       "        text-align: right;\n",
       "    }\n",
       "</style>\n",
       "<table border=\"1\" class=\"dataframe\">\n",
       "  <thead>\n",
       "    <tr style=\"text-align: right;\">\n",
       "      <th></th>\n",
       "      <th>user</th>\n",
       "      <th>lo</th>\n",
       "      <th>hi</th>\n",
       "      <th>ci</th>\n",
       "      <th>solution</th>\n",
       "      <th>z</th>\n",
       "      <th>z-percentile</th>\n",
       "      <th>loglo</th>\n",
       "      <th>loghi</th>\n",
       "      <th>logsolution</th>\n",
       "      <th>logz</th>\n",
       "      <th>logz-percentile</th>\n",
       "    </tr>\n",
       "  </thead>\n",
       "  <tbody>\n",
       "    <tr>\n",
       "      <th>0</th>\n",
       "      <td>user1</td>\n",
       "      <td>1800.0</td>\n",
       "      <td>2020</td>\n",
       "      <td>0.9</td>\n",
       "      <td>1987.0</td>\n",
       "      <td>1.151</td>\n",
       "      <td>0.875</td>\n",
       "      <td>7.496</td>\n",
       "      <td>7.611</td>\n",
       "      <td>7.594</td>\n",
       "      <td>56471.708</td>\n",
       "      <td>1.0</td>\n",
       "    </tr>\n",
       "    <tr>\n",
       "      <th>1</th>\n",
       "      <td>user1</td>\n",
       "      <td>1.0</td>\n",
       "      <td>100</td>\n",
       "      <td>0.9</td>\n",
       "      <td>53.0</td>\n",
       "      <td>0.083</td>\n",
       "      <td>0.533</td>\n",
       "      <td>0.000</td>\n",
       "      <td>4.605</td>\n",
       "      <td>3.970</td>\n",
       "      <td>36.216</td>\n",
       "      <td>1.0</td>\n",
       "    </tr>\n",
       "    <tr>\n",
       "      <th>2</th>\n",
       "      <td>user1</td>\n",
       "      <td>0.0</td>\n",
       "      <td>600</td>\n",
       "      <td>0.9</td>\n",
       "      <td>10.0</td>\n",
       "      <td>-1.590</td>\n",
       "      <td>0.056</td>\n",
       "      <td>-inf</td>\n",
       "      <td>6.397</td>\n",
       "      <td>2.303</td>\n",
       "      <td>NaN</td>\n",
       "      <td>NaN</td>\n",
       "    </tr>\n",
       "    <tr>\n",
       "      <th>3</th>\n",
       "      <td>user2</td>\n",
       "      <td>0.0</td>\n",
       "      <td>20</td>\n",
       "      <td>0.9</td>\n",
       "      <td>70.0</td>\n",
       "      <td>9.869</td>\n",
       "      <td>1.000</td>\n",
       "      <td>-inf</td>\n",
       "      <td>2.996</td>\n",
       "      <td>4.248</td>\n",
       "      <td>NaN</td>\n",
       "      <td>NaN</td>\n",
       "    </tr>\n",
       "    <tr>\n",
       "      <th>4</th>\n",
       "      <td>user3</td>\n",
       "      <td>0.0</td>\n",
       "      <td>16</td>\n",
       "      <td>0.9</td>\n",
       "      <td>70.0</td>\n",
       "      <td>12.748</td>\n",
       "      <td>1.000</td>\n",
       "      <td>-inf</td>\n",
       "      <td>2.773</td>\n",
       "      <td>4.248</td>\n",
       "      <td>NaN</td>\n",
       "      <td>NaN</td>\n",
       "    </tr>\n",
       "  </tbody>\n",
       "</table>\n",
       "</div>"
      ],
      "text/plain": [
       "    user      lo    hi   ci  solution       z  z-percentile  loglo  loghi  \\\n",
       "0  user1  1800.0  2020  0.9    1987.0   1.151         0.875  7.496  7.611   \n",
       "1  user1     1.0   100  0.9      53.0   0.083         0.533  0.000  4.605   \n",
       "2  user1     0.0   600  0.9      10.0  -1.590         0.056   -inf  6.397   \n",
       "3  user2     0.0    20  0.9      70.0   9.869         1.000   -inf  2.996   \n",
       "4  user3     0.0    16  0.9      70.0  12.748         1.000   -inf  2.773   \n",
       "\n",
       "   logsolution       logz  logz-percentile  \n",
       "0        7.594  56471.708              1.0  \n",
       "1        3.970     36.216              1.0  \n",
       "2        2.303        NaN              NaN  \n",
       "3        4.248        NaN              NaN  \n",
       "4        4.248        NaN              NaN  "
      ]
     },
     "execution_count": 50,
     "metadata": {},
     "output_type": "execute_result"
    }
   ],
   "source": [
    "df.head()"
   ]
  },
  {
   "cell_type": "code",
   "execution_count": 51,
   "id": "comfortable-saver",
   "metadata": {},
   "outputs": [
    {
     "data": {
      "text/plain": [
       "False    348\n",
       "True      18\n",
       "Name: logz, dtype: int64"
      ]
     },
     "execution_count": 51,
     "metadata": {},
     "output_type": "execute_result"
    }
   ],
   "source": [
    "df.logz.isna().value_counts()"
   ]
  },
  {
   "cell_type": "markdown",
   "id": "separated-lesbian",
   "metadata": {},
   "source": [
    "# z-score density"
   ]
  },
  {
   "cell_type": "code",
   "execution_count": 52,
   "id": "pretty-potential",
   "metadata": {},
   "outputs": [
    {
     "data": {
      "text/plain": [
       "0.15865525393145707"
      ]
     },
     "execution_count": 52,
     "metadata": {},
     "output_type": "execute_result"
    }
   ],
   "source": [
    "norm.cdf(-1)"
   ]
  },
  {
   "cell_type": "code",
   "execution_count": 53,
   "id": "magnetic-still",
   "metadata": {},
   "outputs": [
    {
     "data": {
      "text/plain": [
       "-1.6448536269514729"
      ]
     },
     "execution_count": 53,
     "metadata": {},
     "output_type": "execute_result"
    }
   ],
   "source": [
    "norm.ppf(0.05)"
   ]
  },
  {
   "cell_type": "code",
   "execution_count": 63,
   "id": "undefined-methodology",
   "metadata": {},
   "outputs": [
    {
     "data": {
      "text/html": [
       "<div>\n",
       "<style scoped>\n",
       "    .dataframe tbody tr th:only-of-type {\n",
       "        vertical-align: middle;\n",
       "    }\n",
       "\n",
       "    .dataframe tbody tr th {\n",
       "        vertical-align: top;\n",
       "    }\n",
       "\n",
       "    .dataframe thead th {\n",
       "        text-align: right;\n",
       "    }\n",
       "</style>\n",
       "<table border=\"1\" class=\"dataframe\">\n",
       "  <thead>\n",
       "    <tr style=\"text-align: right;\">\n",
       "      <th></th>\n",
       "      <th>user</th>\n",
       "      <th>lo</th>\n",
       "      <th>hi</th>\n",
       "      <th>ci</th>\n",
       "      <th>solution</th>\n",
       "      <th>z</th>\n",
       "      <th>z-percentile</th>\n",
       "      <th>loglo</th>\n",
       "      <th>loghi</th>\n",
       "      <th>logsolution</th>\n",
       "      <th>logz</th>\n",
       "      <th>logz-percentile</th>\n",
       "    </tr>\n",
       "  </thead>\n",
       "  <tbody>\n",
       "    <tr>\n",
       "      <th>2</th>\n",
       "      <td>user1</td>\n",
       "      <td>0.0</td>\n",
       "      <td>600</td>\n",
       "      <td>0.9</td>\n",
       "      <td>10.00</td>\n",
       "      <td>-1.590</td>\n",
       "      <td>0.056</td>\n",
       "      <td>-inf</td>\n",
       "      <td>6.397</td>\n",
       "      <td>2.303</td>\n",
       "      <td>NaN</td>\n",
       "      <td>NaN</td>\n",
       "    </tr>\n",
       "    <tr>\n",
       "      <th>10</th>\n",
       "      <td>user3</td>\n",
       "      <td>1.0</td>\n",
       "      <td>100000000</td>\n",
       "      <td>0.9</td>\n",
       "      <td>1000000.00</td>\n",
       "      <td>-1.612</td>\n",
       "      <td>0.053</td>\n",
       "      <td>0.000</td>\n",
       "      <td>18.421</td>\n",
       "      <td>13.816</td>\n",
       "      <td>178586.069</td>\n",
       "      <td>1.000</td>\n",
       "    </tr>\n",
       "    <tr>\n",
       "      <th>11</th>\n",
       "      <td>user2</td>\n",
       "      <td>1.0</td>\n",
       "      <td>1000</td>\n",
       "      <td>0.9</td>\n",
       "      <td>8.00</td>\n",
       "      <td>-1.622</td>\n",
       "      <td>0.052</td>\n",
       "      <td>0.000</td>\n",
       "      <td>6.908</td>\n",
       "      <td>2.079</td>\n",
       "      <td>2.165</td>\n",
       "      <td>0.985</td>\n",
       "    </tr>\n",
       "    <tr>\n",
       "      <th>13</th>\n",
       "      <td>user3</td>\n",
       "      <td>0.0</td>\n",
       "      <td>500</td>\n",
       "      <td>0.9</td>\n",
       "      <td>10.00</td>\n",
       "      <td>-1.579</td>\n",
       "      <td>0.057</td>\n",
       "      <td>-inf</td>\n",
       "      <td>6.215</td>\n",
       "      <td>2.303</td>\n",
       "      <td>NaN</td>\n",
       "      <td>NaN</td>\n",
       "    </tr>\n",
       "    <tr>\n",
       "      <th>18</th>\n",
       "      <td>user3</td>\n",
       "      <td>0.0</td>\n",
       "      <td>10000</td>\n",
       "      <td>0.9</td>\n",
       "      <td>1.28</td>\n",
       "      <td>-1.644</td>\n",
       "      <td>0.050</td>\n",
       "      <td>-inf</td>\n",
       "      <td>9.210</td>\n",
       "      <td>0.247</td>\n",
       "      <td>NaN</td>\n",
       "      <td>NaN</td>\n",
       "    </tr>\n",
       "    <tr>\n",
       "      <th>...</th>\n",
       "      <td>...</td>\n",
       "      <td>...</td>\n",
       "      <td>...</td>\n",
       "      <td>...</td>\n",
       "      <td>...</td>\n",
       "      <td>...</td>\n",
       "      <td>...</td>\n",
       "      <td>...</td>\n",
       "      <td>...</td>\n",
       "      <td>...</td>\n",
       "      <td>...</td>\n",
       "      <td>...</td>\n",
       "    </tr>\n",
       "    <tr>\n",
       "      <th>356</th>\n",
       "      <td>user2</td>\n",
       "      <td>0.1</td>\n",
       "      <td>100</td>\n",
       "      <td>0.9</td>\n",
       "      <td>6.00</td>\n",
       "      <td>-1.451</td>\n",
       "      <td>0.073</td>\n",
       "      <td>-2.303</td>\n",
       "      <td>4.605</td>\n",
       "      <td>1.792</td>\n",
       "      <td>2.309</td>\n",
       "      <td>0.990</td>\n",
       "    </tr>\n",
       "    <tr>\n",
       "      <th>357</th>\n",
       "      <td>user3</td>\n",
       "      <td>5.0</td>\n",
       "      <td>110</td>\n",
       "      <td>0.9</td>\n",
       "      <td>6.00</td>\n",
       "      <td>-1.614</td>\n",
       "      <td>0.053</td>\n",
       "      <td>1.609</td>\n",
       "      <td>4.700</td>\n",
       "      <td>1.792</td>\n",
       "      <td>3.028</td>\n",
       "      <td>0.999</td>\n",
       "    </tr>\n",
       "    <tr>\n",
       "      <th>358</th>\n",
       "      <td>user2</td>\n",
       "      <td>1.0</td>\n",
       "      <td>1000</td>\n",
       "      <td>0.9</td>\n",
       "      <td>50.00</td>\n",
       "      <td>-1.483</td>\n",
       "      <td>0.069</td>\n",
       "      <td>0.000</td>\n",
       "      <td>6.908</td>\n",
       "      <td>3.912</td>\n",
       "      <td>22.167</td>\n",
       "      <td>1.000</td>\n",
       "    </tr>\n",
       "    <tr>\n",
       "      <th>359</th>\n",
       "      <td>user3</td>\n",
       "      <td>50.0</td>\n",
       "      <td>900</td>\n",
       "      <td>0.9</td>\n",
       "      <td>50.00</td>\n",
       "      <td>-1.645</td>\n",
       "      <td>0.050</td>\n",
       "      <td>3.912</td>\n",
       "      <td>6.802</td>\n",
       "      <td>3.912</td>\n",
       "      <td>50.811</td>\n",
       "      <td>1.000</td>\n",
       "    </tr>\n",
       "    <tr>\n",
       "      <th>364</th>\n",
       "      <td>user2</td>\n",
       "      <td>1.0</td>\n",
       "      <td>1000000</td>\n",
       "      <td>0.9</td>\n",
       "      <td>7700.00</td>\n",
       "      <td>-1.620</td>\n",
       "      <td>0.053</td>\n",
       "      <td>0.000</td>\n",
       "      <td>13.816</td>\n",
       "      <td>8.949</td>\n",
       "      <td>1831.856</td>\n",
       "      <td>1.000</td>\n",
       "    </tr>\n",
       "  </tbody>\n",
       "</table>\n",
       "<p>119 rows × 12 columns</p>\n",
       "</div>"
      ],
      "text/plain": [
       "      user    lo         hi   ci    solution      z  z-percentile  loglo  \\\n",
       "2    user1   0.0        600  0.9       10.00 -1.590         0.056   -inf   \n",
       "10   user3   1.0  100000000  0.9  1000000.00 -1.612         0.053  0.000   \n",
       "11   user2   1.0       1000  0.9        8.00 -1.622         0.052  0.000   \n",
       "13   user3   0.0        500  0.9       10.00 -1.579         0.057   -inf   \n",
       "18   user3   0.0      10000  0.9        1.28 -1.644         0.050   -inf   \n",
       "..     ...   ...        ...  ...         ...    ...           ...    ...   \n",
       "356  user2   0.1        100  0.9        6.00 -1.451         0.073 -2.303   \n",
       "357  user3   5.0        110  0.9        6.00 -1.614         0.053  1.609   \n",
       "358  user2   1.0       1000  0.9       50.00 -1.483         0.069  0.000   \n",
       "359  user3  50.0        900  0.9       50.00 -1.645         0.050  3.912   \n",
       "364  user2   1.0    1000000  0.9     7700.00 -1.620         0.053  0.000   \n",
       "\n",
       "      loghi  logsolution        logz  logz-percentile  \n",
       "2     6.397        2.303         NaN              NaN  \n",
       "10   18.421       13.816  178586.069            1.000  \n",
       "11    6.908        2.079       2.165            0.985  \n",
       "13    6.215        2.303         NaN              NaN  \n",
       "18    9.210        0.247         NaN              NaN  \n",
       "..      ...          ...         ...              ...  \n",
       "356   4.605        1.792       2.309            0.990  \n",
       "357   4.700        1.792       3.028            0.999  \n",
       "358   6.908        3.912      22.167            1.000  \n",
       "359   6.802        3.912      50.811            1.000  \n",
       "364  13.816        8.949    1831.856            1.000  \n",
       "\n",
       "[119 rows x 12 columns]"
      ]
     },
     "execution_count": 63,
     "metadata": {},
     "output_type": "execute_result"
    }
   ],
   "source": [
    "df[df[\"z-percentile\"].between(0.05, 0.15)]"
   ]
  },
  {
   "cell_type": "code",
   "execution_count": 64,
   "id": "comfortable-riverside",
   "metadata": {},
   "outputs": [
    {
     "data": {
      "text/plain": [
       "array([[<AxesSubplot:title={'center':'z-percentile'}>]], dtype=object)"
      ]
     },
     "execution_count": 64,
     "metadata": {},
     "output_type": "execute_result"
    },
    {
     "data": {
      "image/png": "[encoded data removed]",
      "text/plain": [
       "<Figure size 2880x360 with 1 Axes>"
      ]
     },
     "metadata": {
      "needs_background": "light"
     },
     "output_type": "display_data"
    }
   ],
   "source": [
    "df.hist(\"z-percentile\", bins=100, figsize=(40, 5))"
   ]
  },
  {
   "cell_type": "code",
   "execution_count": 58,
   "id": "becoming-investment",
   "metadata": {},
   "outputs": [
    {
     "data": {
      "text/plain": [
       "array([[<AxesSubplot:title={'center':'logz-percentile'}>]], dtype=object)"
      ]
     },
     "execution_count": 58,
     "metadata": {},
     "output_type": "execute_result"
    },
    {
     "data": {
      "image/png": "[encoded data removed]",
      "text/plain": [
       "<Figure size 2880x360 with 1 Axes>"
      ]
     },
     "metadata": {
      "needs_background": "light"
     },
     "output_type": "display_data"
    }
   ],
   "source": [
    "df.hist(\"logz-percentile\", bins=100, figsize=(40, 5))"
   ]
  },
  {
   "cell_type": "markdown",
   "id": "every-cause",
   "metadata": {},
   "source": [
    "# Auxiliary functions "
   ]
  },
  {
   "cell_type": "code",
   "execution_count": 57,
   "id": "level-montgomery",
   "metadata": {},
   "outputs": [],
   "source": [
    "def get_user_table(user):\n",
    "    return df[df[\"user\"] == user][[col for col in df.columns if col != \"user\"]]"
   ]
  },
  {
   "cell_type": "markdown",
   "id": "exempt-theory",
   "metadata": {},
   "source": [
    "# Add metrics"
   ]
  },
  {
   "cell_type": "code",
   "execution_count": 11,
   "id": "consolidated-organizer",
   "metadata": {},
   "outputs": [
    {
     "name": "stdout",
     "output_type": "stream",
     "text": [
      "[0.05 0.1  0.15 0.2  0.25 0.3  0.35 0.4  0.45 0.5  0.55 0.6  0.65 0.7\n",
      " 0.75 0.8  0.85 0.9  0.95]\n"
     ]
    }
   ],
   "source": [
    "n_buckets = 20\n",
    "buckets = np.divide(range(1, n_buckets, 1), n_buckets)\n",
    "print(buckets)"
   ]
  },
  {
   "cell_type": "code",
   "execution_count": 12,
   "id": "rough-prototype",
   "metadata": {},
   "outputs": [
    {
     "name": "stderr",
     "output_type": "stream",
     "text": [
      "100%|██████████| 19/19 [00:02<00:00,  7.73it/s]\n",
      "100%|██████████| 19/19 [00:02<00:00,  8.58it/s]\n"
     ]
    }
   ],
   "source": [
    "for ci_size in tqdm(buckets):\n",
    "    alpha = np.divide(1 - ci_size, 2)\n",
    "    df[f\"ci-{ci_size}\"] = df[\"z\"].map(\n",
    "        lambda x: x > norm.ppf(alpha) and x < norm.ppf(1 - alpha)\n",
    "    )\n",
    "\n",
    "for ci_size in tqdm(buckets):\n",
    "    alpha = np.divide(1 - ci_size, 2)\n",
    "    df[f\"log_ci-{ci_size}\"] = df[\"logz\"].map(\n",
    "        lambda x: x > norm.ppf(alpha) and x < norm.ppf(1 - alpha)\n",
    "    )"
   ]
  },
  {
   "cell_type": "code",
   "execution_count": 13,
   "id": "common-warren",
   "metadata": {},
   "outputs": [
    {
     "data": {
      "text/html": [
       "<div>\n",
       "<style scoped>\n",
       "    .dataframe tbody tr th:only-of-type {\n",
       "        vertical-align: middle;\n",
       "    }\n",
       "\n",
       "    .dataframe tbody tr th {\n",
       "        vertical-align: top;\n",
       "    }\n",
       "\n",
       "    .dataframe thead th {\n",
       "        text-align: right;\n",
       "    }\n",
       "</style>\n",
       "<table border=\"1\" class=\"dataframe\">\n",
       "  <thead>\n",
       "    <tr style=\"text-align: right;\">\n",
       "      <th></th>\n",
       "      <th>user</th>\n",
       "      <th>lo</th>\n",
       "      <th>hi</th>\n",
       "      <th>ci</th>\n",
       "      <th>solution</th>\n",
       "      <th>z</th>\n",
       "      <th>z-percentile</th>\n",
       "      <th>loglo</th>\n",
       "      <th>loghi</th>\n",
       "      <th>logsolution</th>\n",
       "      <th>...</th>\n",
       "      <th>log_ci-0.5</th>\n",
       "      <th>log_ci-0.55</th>\n",
       "      <th>log_ci-0.6</th>\n",
       "      <th>log_ci-0.65</th>\n",
       "      <th>log_ci-0.7</th>\n",
       "      <th>log_ci-0.75</th>\n",
       "      <th>log_ci-0.8</th>\n",
       "      <th>log_ci-0.85</th>\n",
       "      <th>log_ci-0.9</th>\n",
       "      <th>log_ci-0.95</th>\n",
       "    </tr>\n",
       "  </thead>\n",
       "  <tbody>\n",
       "    <tr>\n",
       "      <th>0</th>\n",
       "      <td>user1</td>\n",
       "      <td>1800.0</td>\n",
       "      <td>2020</td>\n",
       "      <td>0.9</td>\n",
       "      <td>1987.0</td>\n",
       "      <td>0.213</td>\n",
       "      <td>0.584</td>\n",
       "      <td>7.496</td>\n",
       "      <td>7.611</td>\n",
       "      <td>7.594</td>\n",
       "      <td>...</td>\n",
       "      <td>False</td>\n",
       "      <td>False</td>\n",
       "      <td>False</td>\n",
       "      <td>False</td>\n",
       "      <td>False</td>\n",
       "      <td>False</td>\n",
       "      <td>False</td>\n",
       "      <td>False</td>\n",
       "      <td>False</td>\n",
       "      <td>False</td>\n",
       "    </tr>\n",
       "    <tr>\n",
       "      <th>1</th>\n",
       "      <td>user1</td>\n",
       "      <td>1.0</td>\n",
       "      <td>100</td>\n",
       "      <td>0.9</td>\n",
       "      <td>53.0</td>\n",
       "      <td>0.015</td>\n",
       "      <td>0.506</td>\n",
       "      <td>0.000</td>\n",
       "      <td>4.605</td>\n",
       "      <td>3.970</td>\n",
       "      <td>...</td>\n",
       "      <td>False</td>\n",
       "      <td>False</td>\n",
       "      <td>False</td>\n",
       "      <td>False</td>\n",
       "      <td>False</td>\n",
       "      <td>False</td>\n",
       "      <td>False</td>\n",
       "      <td>False</td>\n",
       "      <td>False</td>\n",
       "      <td>False</td>\n",
       "    </tr>\n",
       "    <tr>\n",
       "      <th>2</th>\n",
       "      <td>user1</td>\n",
       "      <td>0.0</td>\n",
       "      <td>600</td>\n",
       "      <td>0.9</td>\n",
       "      <td>10.0</td>\n",
       "      <td>-0.294</td>\n",
       "      <td>0.384</td>\n",
       "      <td>-inf</td>\n",
       "      <td>6.397</td>\n",
       "      <td>2.303</td>\n",
       "      <td>...</td>\n",
       "      <td>False</td>\n",
       "      <td>False</td>\n",
       "      <td>False</td>\n",
       "      <td>False</td>\n",
       "      <td>False</td>\n",
       "      <td>False</td>\n",
       "      <td>False</td>\n",
       "      <td>False</td>\n",
       "      <td>False</td>\n",
       "      <td>False</td>\n",
       "    </tr>\n",
       "    <tr>\n",
       "      <th>3</th>\n",
       "      <td>user2</td>\n",
       "      <td>0.0</td>\n",
       "      <td>20</td>\n",
       "      <td>0.9</td>\n",
       "      <td>70.0</td>\n",
       "      <td>1.824</td>\n",
       "      <td>0.966</td>\n",
       "      <td>-inf</td>\n",
       "      <td>2.996</td>\n",
       "      <td>4.248</td>\n",
       "      <td>...</td>\n",
       "      <td>False</td>\n",
       "      <td>False</td>\n",
       "      <td>False</td>\n",
       "      <td>False</td>\n",
       "      <td>False</td>\n",
       "      <td>False</td>\n",
       "      <td>False</td>\n",
       "      <td>False</td>\n",
       "      <td>False</td>\n",
       "      <td>False</td>\n",
       "    </tr>\n",
       "    <tr>\n",
       "      <th>4</th>\n",
       "      <td>user3</td>\n",
       "      <td>0.0</td>\n",
       "      <td>16</td>\n",
       "      <td>0.9</td>\n",
       "      <td>70.0</td>\n",
       "      <td>2.356</td>\n",
       "      <td>0.991</td>\n",
       "      <td>-inf</td>\n",
       "      <td>2.773</td>\n",
       "      <td>4.248</td>\n",
       "      <td>...</td>\n",
       "      <td>False</td>\n",
       "      <td>False</td>\n",
       "      <td>False</td>\n",
       "      <td>False</td>\n",
       "      <td>False</td>\n",
       "      <td>False</td>\n",
       "      <td>False</td>\n",
       "      <td>False</td>\n",
       "      <td>False</td>\n",
       "      <td>False</td>\n",
       "    </tr>\n",
       "  </tbody>\n",
       "</table>\n",
       "<p>5 rows × 50 columns</p>\n",
       "</div>"
      ],
      "text/plain": [
       "    user      lo    hi   ci  solution      z  z-percentile  loglo  loghi  \\\n",
       "0  user1  1800.0  2020  0.9    1987.0  0.213         0.584  7.496  7.611   \n",
       "1  user1     1.0   100  0.9      53.0  0.015         0.506  0.000  4.605   \n",
       "2  user1     0.0   600  0.9      10.0 -0.294         0.384   -inf  6.397   \n",
       "3  user2     0.0    20  0.9      70.0  1.824         0.966   -inf  2.996   \n",
       "4  user3     0.0    16  0.9      70.0  2.356         0.991   -inf  2.773   \n",
       "\n",
       "   logsolution  ...  log_ci-0.5  log_ci-0.55  log_ci-0.6  log_ci-0.65  \\\n",
       "0        7.594  ...       False        False       False        False   \n",
       "1        3.970  ...       False        False       False        False   \n",
       "2        2.303  ...       False        False       False        False   \n",
       "3        4.248  ...       False        False       False        False   \n",
       "4        4.248  ...       False        False       False        False   \n",
       "\n",
       "   log_ci-0.7  log_ci-0.75  log_ci-0.8  log_ci-0.85  log_ci-0.9  log_ci-0.95  \n",
       "0       False        False       False        False       False        False  \n",
       "1       False        False       False        False       False        False  \n",
       "2       False        False       False        False       False        False  \n",
       "3       False        False       False        False       False        False  \n",
       "4       False        False       False        False       False        False  \n",
       "\n",
       "[5 rows x 50 columns]"
      ]
     },
     "execution_count": 13,
     "metadata": {},
     "output_type": "execute_result"
    }
   ],
   "source": [
    "df.head()"
   ]
  },
  {
   "cell_type": "markdown",
   "id": "amino-sunglasses",
   "metadata": {},
   "source": [
    "# Calculating the buckets"
   ]
  },
  {
   "cell_type": "code",
   "execution_count": 14,
   "id": "beautiful-paraguay",
   "metadata": {},
   "outputs": [],
   "source": [
    "def get_percentage(user, column):\n",
    "    results = df[df[\"user\"] == user][column].value_counts()\n",
    "    return np.divide(results[True], results[True] + results[False])"
   ]
  },
  {
   "cell_type": "code",
   "execution_count": 15,
   "id": "careful-patent",
   "metadata": {},
   "outputs": [
    {
     "ename": "KeyError",
     "evalue": "True",
     "output_type": "error",
     "traceback": [
      "\u001b[0;31m---------------------------------------------------------------------------\u001b[0m",
      "\u001b[0;31mKeyError\u001b[0m                                  Traceback (most recent call last)",
      "\u001b[0;32m/opt/conda/lib/python3.8/site-packages/pandas/core/indexes/base.py\u001b[0m in \u001b[0;36mget_loc\u001b[0;34m(self, key, method, tolerance)\u001b[0m\n\u001b[1;32m   3079\u001b[0m             \u001b[0;32mtry\u001b[0m\u001b[0;34m:\u001b[0m\u001b[0;34m\u001b[0m\u001b[0;34m\u001b[0m\u001b[0m\n\u001b[0;32m-> 3080\u001b[0;31m                 \u001b[0;32mreturn\u001b[0m \u001b[0mself\u001b[0m\u001b[0;34m.\u001b[0m\u001b[0m_engine\u001b[0m\u001b[0;34m.\u001b[0m\u001b[0mget_loc\u001b[0m\u001b[0;34m(\u001b[0m\u001b[0mcasted_key\u001b[0m\u001b[0;34m)\u001b[0m\u001b[0;34m\u001b[0m\u001b[0;34m\u001b[0m\u001b[0m\n\u001b[0m\u001b[1;32m   3081\u001b[0m             \u001b[0;32mexcept\u001b[0m \u001b[0mKeyError\u001b[0m \u001b[0;32mas\u001b[0m \u001b[0merr\u001b[0m\u001b[0;34m:\u001b[0m\u001b[0;34m\u001b[0m\u001b[0;34m\u001b[0m\u001b[0m\n",
      "\u001b[0;32mpandas/_libs/index.pyx\u001b[0m in \u001b[0;36mpandas._libs.index.IndexEngine.get_loc\u001b[0;34m()\u001b[0m\n",
      "\u001b[0;32mpandas/_libs/index.pyx\u001b[0m in \u001b[0;36mpandas._libs.index.IndexEngine.get_loc\u001b[0;34m()\u001b[0m\n",
      "\u001b[0;32mpandas/_libs/hashtable_class_helper.pxi\u001b[0m in \u001b[0;36mpandas._libs.hashtable.PyObjectHashTable.get_item\u001b[0;34m()\u001b[0m\n",
      "\u001b[0;32mpandas/_libs/hashtable_class_helper.pxi\u001b[0m in \u001b[0;36mpandas._libs.hashtable.PyObjectHashTable.get_item\u001b[0;34m()\u001b[0m\n",
      "\u001b[0;31mKeyError\u001b[0m: True",
      "\nThe above exception was the direct cause of the following exception:\n",
      "\u001b[0;31mKeyError\u001b[0m                                  Traceback (most recent call last)",
      "\u001b[0;32m<ipython-input-15-8162eabdd839>\u001b[0m in \u001b[0;36m<module>\u001b[0;34m\u001b[0m\n\u001b[1;32m      2\u001b[0m \u001b[0mdf_metrics\u001b[0m \u001b[0;34m=\u001b[0m \u001b[0mpd\u001b[0m\u001b[0;34m.\u001b[0m\u001b[0mDataFrame\u001b[0m\u001b[0;34m(\u001b[0m\u001b[0mindex\u001b[0m \u001b[0;34m=\u001b[0m \u001b[0musers\u001b[0m\u001b[0;34m)\u001b[0m\u001b[0;34m\u001b[0m\u001b[0;34m\u001b[0m\u001b[0m\n\u001b[1;32m      3\u001b[0m \u001b[0;32mfor\u001b[0m \u001b[0mci\u001b[0m \u001b[0;32min\u001b[0m \u001b[0mbuckets\u001b[0m\u001b[0;34m:\u001b[0m\u001b[0;34m\u001b[0m\u001b[0;34m\u001b[0m\u001b[0m\n\u001b[0;32m----> 4\u001b[0;31m     \u001b[0mdf_metrics\u001b[0m\u001b[0;34m[\u001b[0m\u001b[0mci\u001b[0m\u001b[0;34m]\u001b[0m \u001b[0;34m=\u001b[0m \u001b[0mdf_metrics\u001b[0m\u001b[0;34m.\u001b[0m\u001b[0mindex\u001b[0m\u001b[0;34m.\u001b[0m\u001b[0mmap\u001b[0m\u001b[0;34m(\u001b[0m\u001b[0;32mlambda\u001b[0m \u001b[0muser\u001b[0m\u001b[0;34m:\u001b[0m \u001b[0mget_percentage\u001b[0m\u001b[0;34m(\u001b[0m\u001b[0muser\u001b[0m\u001b[0;34m,\u001b[0m\u001b[0;34mf\"ci-{ci}\"\u001b[0m\u001b[0;34m)\u001b[0m\u001b[0;34m)\u001b[0m\u001b[0;34m\u001b[0m\u001b[0;34m\u001b[0m\u001b[0m\n\u001b[0m\u001b[1;32m      5\u001b[0m \u001b[0;34m\u001b[0m\u001b[0m\n\u001b[1;32m      6\u001b[0m \u001b[0mdf_metrics\u001b[0m\u001b[0;34m.\u001b[0m\u001b[0mloc\u001b[0m\u001b[0;34m[\u001b[0m\u001b[0;34m\"perfect\"\u001b[0m\u001b[0;34m]\u001b[0m \u001b[0;34m=\u001b[0m \u001b[0mbuckets\u001b[0m\u001b[0;34m\u001b[0m\u001b[0;34m\u001b[0m\u001b[0m\n",
      "\u001b[0;32m/opt/conda/lib/python3.8/site-packages/pandas/core/indexes/base.py\u001b[0m in \u001b[0;36mmap\u001b[0;34m(self, mapper, na_action)\u001b[0m\n\u001b[1;32m   5096\u001b[0m         \u001b[0;32mfrom\u001b[0m \u001b[0mpandas\u001b[0m\u001b[0;34m.\u001b[0m\u001b[0mcore\u001b[0m\u001b[0;34m.\u001b[0m\u001b[0mindexes\u001b[0m\u001b[0;34m.\u001b[0m\u001b[0mmulti\u001b[0m \u001b[0;32mimport\u001b[0m \u001b[0mMultiIndex\u001b[0m\u001b[0;34m\u001b[0m\u001b[0;34m\u001b[0m\u001b[0m\n\u001b[1;32m   5097\u001b[0m \u001b[0;34m\u001b[0m\u001b[0m\n\u001b[0;32m-> 5098\u001b[0;31m         \u001b[0mnew_values\u001b[0m \u001b[0;34m=\u001b[0m \u001b[0msuper\u001b[0m\u001b[0;34m(\u001b[0m\u001b[0;34m)\u001b[0m\u001b[0;34m.\u001b[0m\u001b[0m_map_values\u001b[0m\u001b[0;34m(\u001b[0m\u001b[0mmapper\u001b[0m\u001b[0;34m,\u001b[0m \u001b[0mna_action\u001b[0m\u001b[0;34m=\u001b[0m\u001b[0mna_action\u001b[0m\u001b[0;34m)\u001b[0m\u001b[0;34m\u001b[0m\u001b[0;34m\u001b[0m\u001b[0m\n\u001b[0m\u001b[1;32m   5099\u001b[0m \u001b[0;34m\u001b[0m\u001b[0m\n\u001b[1;32m   5100\u001b[0m         \u001b[0mattributes\u001b[0m \u001b[0;34m=\u001b[0m \u001b[0mself\u001b[0m\u001b[0;34m.\u001b[0m\u001b[0m_get_attributes_dict\u001b[0m\u001b[0;34m(\u001b[0m\u001b[0;34m)\u001b[0m\u001b[0;34m\u001b[0m\u001b[0;34m\u001b[0m\u001b[0m\n",
      "\u001b[0;32m/opt/conda/lib/python3.8/site-packages/pandas/core/base.py\u001b[0m in \u001b[0;36m_map_values\u001b[0;34m(self, mapper, na_action)\u001b[0m\n\u001b[1;32m    935\u001b[0m \u001b[0;34m\u001b[0m\u001b[0m\n\u001b[1;32m    936\u001b[0m         \u001b[0;31m# mapper is a function\u001b[0m\u001b[0;34m\u001b[0m\u001b[0;34m\u001b[0m\u001b[0;34m\u001b[0m\u001b[0m\n\u001b[0;32m--> 937\u001b[0;31m         \u001b[0mnew_values\u001b[0m \u001b[0;34m=\u001b[0m \u001b[0mmap_f\u001b[0m\u001b[0;34m(\u001b[0m\u001b[0mvalues\u001b[0m\u001b[0;34m,\u001b[0m \u001b[0mmapper\u001b[0m\u001b[0;34m)\u001b[0m\u001b[0;34m\u001b[0m\u001b[0;34m\u001b[0m\u001b[0m\n\u001b[0m\u001b[1;32m    938\u001b[0m \u001b[0;34m\u001b[0m\u001b[0m\n\u001b[1;32m    939\u001b[0m         \u001b[0;32mreturn\u001b[0m \u001b[0mnew_values\u001b[0m\u001b[0;34m\u001b[0m\u001b[0;34m\u001b[0m\u001b[0m\n",
      "\u001b[0;32mpandas/_libs/lib.pyx\u001b[0m in \u001b[0;36mpandas._libs.lib.map_infer\u001b[0;34m()\u001b[0m\n",
      "\u001b[0;32m<ipython-input-15-8162eabdd839>\u001b[0m in \u001b[0;36m<lambda>\u001b[0;34m(user)\u001b[0m\n\u001b[1;32m      2\u001b[0m \u001b[0mdf_metrics\u001b[0m \u001b[0;34m=\u001b[0m \u001b[0mpd\u001b[0m\u001b[0;34m.\u001b[0m\u001b[0mDataFrame\u001b[0m\u001b[0;34m(\u001b[0m\u001b[0mindex\u001b[0m \u001b[0;34m=\u001b[0m \u001b[0musers\u001b[0m\u001b[0;34m)\u001b[0m\u001b[0;34m\u001b[0m\u001b[0;34m\u001b[0m\u001b[0m\n\u001b[1;32m      3\u001b[0m \u001b[0;32mfor\u001b[0m \u001b[0mci\u001b[0m \u001b[0;32min\u001b[0m \u001b[0mbuckets\u001b[0m\u001b[0;34m:\u001b[0m\u001b[0;34m\u001b[0m\u001b[0;34m\u001b[0m\u001b[0m\n\u001b[0;32m----> 4\u001b[0;31m     \u001b[0mdf_metrics\u001b[0m\u001b[0;34m[\u001b[0m\u001b[0mci\u001b[0m\u001b[0;34m]\u001b[0m \u001b[0;34m=\u001b[0m \u001b[0mdf_metrics\u001b[0m\u001b[0;34m.\u001b[0m\u001b[0mindex\u001b[0m\u001b[0;34m.\u001b[0m\u001b[0mmap\u001b[0m\u001b[0;34m(\u001b[0m\u001b[0;32mlambda\u001b[0m \u001b[0muser\u001b[0m\u001b[0;34m:\u001b[0m \u001b[0mget_percentage\u001b[0m\u001b[0;34m(\u001b[0m\u001b[0muser\u001b[0m\u001b[0;34m,\u001b[0m\u001b[0;34mf\"ci-{ci}\"\u001b[0m\u001b[0;34m)\u001b[0m\u001b[0;34m)\u001b[0m\u001b[0;34m\u001b[0m\u001b[0;34m\u001b[0m\u001b[0m\n\u001b[0m\u001b[1;32m      5\u001b[0m \u001b[0;34m\u001b[0m\u001b[0m\n\u001b[1;32m      6\u001b[0m \u001b[0mdf_metrics\u001b[0m\u001b[0;34m.\u001b[0m\u001b[0mloc\u001b[0m\u001b[0;34m[\u001b[0m\u001b[0;34m\"perfect\"\u001b[0m\u001b[0;34m]\u001b[0m \u001b[0;34m=\u001b[0m \u001b[0mbuckets\u001b[0m\u001b[0;34m\u001b[0m\u001b[0;34m\u001b[0m\u001b[0m\n",
      "\u001b[0;32m<ipython-input-14-affe6c46e3cd>\u001b[0m in \u001b[0;36mget_percentage\u001b[0;34m(user, column)\u001b[0m\n\u001b[1;32m      1\u001b[0m \u001b[0;32mdef\u001b[0m \u001b[0mget_percentage\u001b[0m\u001b[0;34m(\u001b[0m\u001b[0muser\u001b[0m\u001b[0;34m,\u001b[0m \u001b[0mcolumn\u001b[0m\u001b[0;34m)\u001b[0m\u001b[0;34m:\u001b[0m\u001b[0;34m\u001b[0m\u001b[0;34m\u001b[0m\u001b[0m\n\u001b[1;32m      2\u001b[0m     \u001b[0mresults\u001b[0m \u001b[0;34m=\u001b[0m \u001b[0mdf\u001b[0m\u001b[0;34m[\u001b[0m\u001b[0mdf\u001b[0m\u001b[0;34m[\u001b[0m\u001b[0;34m\"user\"\u001b[0m\u001b[0;34m]\u001b[0m\u001b[0;34m==\u001b[0m\u001b[0muser\u001b[0m\u001b[0;34m]\u001b[0m\u001b[0;34m[\u001b[0m\u001b[0mcolumn\u001b[0m\u001b[0;34m]\u001b[0m\u001b[0;34m.\u001b[0m\u001b[0mvalue_counts\u001b[0m\u001b[0;34m(\u001b[0m\u001b[0;34m)\u001b[0m\u001b[0;34m\u001b[0m\u001b[0;34m\u001b[0m\u001b[0m\n\u001b[0;32m----> 3\u001b[0;31m     \u001b[0;32mreturn\u001b[0m \u001b[0mnp\u001b[0m\u001b[0;34m.\u001b[0m\u001b[0mdivide\u001b[0m\u001b[0;34m(\u001b[0m\u001b[0mresults\u001b[0m\u001b[0;34m[\u001b[0m\u001b[0;32mTrue\u001b[0m\u001b[0;34m]\u001b[0m\u001b[0;34m,\u001b[0m\u001b[0mresults\u001b[0m\u001b[0;34m[\u001b[0m\u001b[0;32mTrue\u001b[0m\u001b[0;34m]\u001b[0m\u001b[0;34m+\u001b[0m\u001b[0mresults\u001b[0m\u001b[0;34m[\u001b[0m\u001b[0;32mFalse\u001b[0m\u001b[0;34m]\u001b[0m\u001b[0;34m)\u001b[0m\u001b[0;34m\u001b[0m\u001b[0;34m\u001b[0m\u001b[0m\n\u001b[0m",
      "\u001b[0;32m/opt/conda/lib/python3.8/site-packages/pandas/core/series.py\u001b[0m in \u001b[0;36m__getitem__\u001b[0;34m(self, key)\u001b[0m\n\u001b[1;32m    822\u001b[0m \u001b[0;34m\u001b[0m\u001b[0m\n\u001b[1;32m    823\u001b[0m         \u001b[0;32melif\u001b[0m \u001b[0mkey_is_scalar\u001b[0m\u001b[0;34m:\u001b[0m\u001b[0;34m\u001b[0m\u001b[0;34m\u001b[0m\u001b[0m\n\u001b[0;32m--> 824\u001b[0;31m             \u001b[0;32mreturn\u001b[0m \u001b[0mself\u001b[0m\u001b[0;34m.\u001b[0m\u001b[0m_get_value\u001b[0m\u001b[0;34m(\u001b[0m\u001b[0mkey\u001b[0m\u001b[0;34m)\u001b[0m\u001b[0;34m\u001b[0m\u001b[0;34m\u001b[0m\u001b[0m\n\u001b[0m\u001b[1;32m    825\u001b[0m \u001b[0;34m\u001b[0m\u001b[0m\n\u001b[1;32m    826\u001b[0m         \u001b[0;32mif\u001b[0m \u001b[0mis_hashable\u001b[0m\u001b[0;34m(\u001b[0m\u001b[0mkey\u001b[0m\u001b[0;34m)\u001b[0m\u001b[0;34m:\u001b[0m\u001b[0;34m\u001b[0m\u001b[0;34m\u001b[0m\u001b[0m\n",
      "\u001b[0;32m/opt/conda/lib/python3.8/site-packages/pandas/core/series.py\u001b[0m in \u001b[0;36m_get_value\u001b[0;34m(self, label, takeable)\u001b[0m\n\u001b[1;32m    930\u001b[0m \u001b[0;34m\u001b[0m\u001b[0m\n\u001b[1;32m    931\u001b[0m         \u001b[0;31m# Similar to Index.get_value, but we do not fall back to positional\u001b[0m\u001b[0;34m\u001b[0m\u001b[0;34m\u001b[0m\u001b[0;34m\u001b[0m\u001b[0m\n\u001b[0;32m--> 932\u001b[0;31m         \u001b[0mloc\u001b[0m \u001b[0;34m=\u001b[0m \u001b[0mself\u001b[0m\u001b[0;34m.\u001b[0m\u001b[0mindex\u001b[0m\u001b[0;34m.\u001b[0m\u001b[0mget_loc\u001b[0m\u001b[0;34m(\u001b[0m\u001b[0mlabel\u001b[0m\u001b[0;34m)\u001b[0m\u001b[0;34m\u001b[0m\u001b[0;34m\u001b[0m\u001b[0m\n\u001b[0m\u001b[1;32m    933\u001b[0m         \u001b[0;32mreturn\u001b[0m \u001b[0mself\u001b[0m\u001b[0;34m.\u001b[0m\u001b[0mindex\u001b[0m\u001b[0;34m.\u001b[0m\u001b[0m_get_values_for_loc\u001b[0m\u001b[0;34m(\u001b[0m\u001b[0mself\u001b[0m\u001b[0;34m,\u001b[0m \u001b[0mloc\u001b[0m\u001b[0;34m,\u001b[0m \u001b[0mlabel\u001b[0m\u001b[0;34m)\u001b[0m\u001b[0;34m\u001b[0m\u001b[0;34m\u001b[0m\u001b[0m\n\u001b[1;32m    934\u001b[0m \u001b[0;34m\u001b[0m\u001b[0m\n",
      "\u001b[0;32m/opt/conda/lib/python3.8/site-packages/pandas/core/indexes/base.py\u001b[0m in \u001b[0;36mget_loc\u001b[0;34m(self, key, method, tolerance)\u001b[0m\n\u001b[1;32m   3080\u001b[0m                 \u001b[0;32mreturn\u001b[0m \u001b[0mself\u001b[0m\u001b[0;34m.\u001b[0m\u001b[0m_engine\u001b[0m\u001b[0;34m.\u001b[0m\u001b[0mget_loc\u001b[0m\u001b[0;34m(\u001b[0m\u001b[0mcasted_key\u001b[0m\u001b[0;34m)\u001b[0m\u001b[0;34m\u001b[0m\u001b[0;34m\u001b[0m\u001b[0m\n\u001b[1;32m   3081\u001b[0m             \u001b[0;32mexcept\u001b[0m \u001b[0mKeyError\u001b[0m \u001b[0;32mas\u001b[0m \u001b[0merr\u001b[0m\u001b[0;34m:\u001b[0m\u001b[0;34m\u001b[0m\u001b[0;34m\u001b[0m\u001b[0m\n\u001b[0;32m-> 3082\u001b[0;31m                 \u001b[0;32mraise\u001b[0m \u001b[0mKeyError\u001b[0m\u001b[0;34m(\u001b[0m\u001b[0mkey\u001b[0m\u001b[0;34m)\u001b[0m \u001b[0;32mfrom\u001b[0m \u001b[0merr\u001b[0m\u001b[0;34m\u001b[0m\u001b[0;34m\u001b[0m\u001b[0m\n\u001b[0m\u001b[1;32m   3083\u001b[0m \u001b[0;34m\u001b[0m\u001b[0m\n\u001b[1;32m   3084\u001b[0m         \u001b[0;32mif\u001b[0m \u001b[0mtolerance\u001b[0m \u001b[0;32mis\u001b[0m \u001b[0;32mnot\u001b[0m \u001b[0;32mNone\u001b[0m\u001b[0;34m:\u001b[0m\u001b[0;34m\u001b[0m\u001b[0;34m\u001b[0m\u001b[0m\n",
      "\u001b[0;31mKeyError\u001b[0m: True"
     ]
    }
   ],
   "source": [
    "users = df.user.unique()\n",
    "df_metrics = pd.DataFrame(index=users)\n",
    "for ci in buckets:\n",
    "    df_metrics[ci] = df_metrics.index.map(lambda user: get_percentage(user, f\"ci-{ci}\"))\n",
    "\n",
    "df_metrics.loc[\"perfect\"] = buckets"
   ]
  },
  {
   "cell_type": "code",
   "execution_count": null,
   "id": "younger-insulation",
   "metadata": {},
   "outputs": [],
   "source": [
    "df_metrics.T.style.background_gradient(cmap=\"viridis\", axis=1)"
   ]
  },
  {
   "cell_type": "code",
   "execution_count": null,
   "id": "sublime-document",
   "metadata": {},
   "outputs": [],
   "source": [
    "df_metrics.loc[\"user3\"].plot(legend=True, figsize=(20, 5))\n",
    "df_metrics.loc[\"perfect\"].plot(legend=True, figsize=(20, 5))"
   ]
  },
  {
   "cell_type": "code",
   "execution_count": null,
   "id": "medical-seller",
   "metadata": {},
   "outputs": [],
   "source": [
    "for user in df_metrics.index:\n",
    "    df_metrics.loc[user].plot(legend=True, figsize=(20, 5))"
   ]
  },
  {
   "cell_type": "code",
   "execution_count": null,
   "id": "domestic-reggae",
   "metadata": {},
   "outputs": [],
   "source": [
    "df_metrics[\"avg_abs_error\"] = np.mean(np.abs(df_metrics[buckets] - buckets), axis=1)\n",
    "df_metrics[\"bias\"] = np.mean(df_metrics[buckets] - buckets, axis=1)\n",
    "df_metrics.T.style.background_gradient(cmap=\"viridis\", axis=1)"
   ]
  },
  {
   "cell_type": "code",
   "execution_count": null,
   "id": "australian-subdivision",
   "metadata": {},
   "outputs": [],
   "source": []
  },
  {
   "cell_type": "code",
   "execution_count": null,
   "id": "wrapped-cabinet",
   "metadata": {},
   "outputs": [],
   "source": []
  }
 ],
 "metadata": {
  "kernelspec": {
   "display_name": "Python 3",
   "language": "python",
   "name": "python3"
  },
  "language_info": {
   "codemirror_mode": {
    "name": "ipython",
    "version": 3
   },
   "file_extension": ".py",
   "mimetype": "text/x-python",
   "name": "python",
   "nbconvert_exporter": "python",
   "pygments_lexer": "ipython3",
   "version": "3.8.6"
  }
 },
 "nbformat": 4,
 "nbformat_minor": 5
}
