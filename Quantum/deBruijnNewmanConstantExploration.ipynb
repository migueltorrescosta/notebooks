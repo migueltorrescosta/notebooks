{
 "cells": [
  {
   "cell_type": "markdown",
   "id": "61f0405b-7345-45a4-96b2-c8ef7e2a3003",
   "metadata": {},
   "source": [
    "# Conjecture\n",
    "\n",
    "We see that all roots, when \"propagated back\" to $t=0$ meet and annihalate each other. We believe that this is the case regardless of the starting conditions\n",
    "\n",
    "# Overview\n",
    "\n",
    "1. $H_t(z) := \\int_{0}^{\\infty}e^{tu^2}\\phi (u) \\cos (zu) du$\n",
    "2. $\\Phi (u) := \\sum_{n=1}^{\\infty} (2 \\pi^2n^4 e^{9u} - 3 \\pi n^2 e^{5u}) \\exp{(-\\pi n^2 e^{4u})}$\n",
    "3. The equations above describe the heatflow of the Riemann Equation.\n",
    "4. $\\exists Λ \\in \\mathbb{R}$ such that $\\forall t \\geq Λ$, we have the zeroes of ${H_t}$ being real. This is known as the [de Bruijn–Newman constant](https://en.wikipedia.org/wiki/De_Bruijn%E2%80%93Newman_constant).\n",
    "5. $Λ \\geq 0$ was [proved](https://arxiv.org/pdf/1801.05914.pdf) by Brad Rogers & Terence Tau.\n",
    "6. $Λ > 0$ is equivalent to the Riemann Hypothesis.\n",
    "7. $Λ \\leq .22$ was [proved](https://github.com/km-git-acc/dbn_upper_bound/blob/master/Writeup/debruijn.pdf) as part of the polimath project.\n",
    "8. $H_0(z) = \\int_0^{\\infty}\\phi (u) cos(zu) du$ is the Fourier representation of $H_0(z)$\n",
    "\n",
    "We want to find bounds on $Λ$, following an approach similar to the polymath project\n",
    "\n",
    "# Plan to bound $Λ$\n",
    "\n",
    "1. Choose a $t \\geq Λ$ ( $t>.2$ suffices for the time being )\n",
    "2. Take $n$ zeroes $(x_1, x_2, \\dots , x_n)$ of $H_t$\n",
    "3. Computationally estimate how the $x_i$ evolve backwards in time (i.e. towards $t=0$, getting an estimate of the time $t_k$ at which the trajectories of the various $x_i$ converge to a single point\n",
    "4. Reproduce the above with higher values for $n$, obtaining iteratively better estimates of $Λ$.\n",
    "5. If\n",
    "   1. $G \\approx 0$, we proved nothing 😢.\n",
    "   2. $G$ is statistically far from $0$, we have shown that Riemann's Hypothesis is likely true 🎉\n",
    "  \n",
    "# Pre-requisites\n",
    "1. Do we have examples ( in code or books ) of approximating path trajectories using heatflow?\n",
    "2. What are the best methods known to find zeroes of the Riemann Zeta, i.e. the $(x_1, x_2, ... , x_n)$"
   ]
  },
  {
   "cell_type": "markdown",
   "id": "d0cce21e-f68c-4c16-91b0-c08c75acd68f",
   "metadata": {},
   "source": [
    "# Visualizing $H_t$\n",
    "\n",
    "We approximate $H_t$ by adding more terms to the sum and approximating the integral. Since the exponential in the integral decreases much faster than the $\\Phi$ terms, we can approximate the integral.\n",
    "\n",
    "We will define a function $h(t,u,z,k)=e^{tu^2} \\left [ \\sum_{n=1}^{k} (2 \\pi^2n^4 e^{9u} - 3 \\pi n^2 e^{5u}) \\exp{(-\\pi n^2 e^{4u})} \\right ] \\cos (zu)$, and then approximate the integral over $u$ using QUADPACK\n",
    "\n",
    "1. $H_t(z) := \\int_{0}^{\\infty}e^{tu^2}\\Phi (u) \\cos (zu) du$\n",
    "2. $\\Phi (u) := \\sum_{n=1}^{\\infty} (2 \\pi^2n^4 e^{9u} - 3 \\pi n^2 e^{5u}) \\exp{(-\\pi n^2 e^{4u})}$"
   ]
  },
  {
   "cell_type": "markdown",
   "id": "5c8409f0-3dba-4061-9494-c874e88d74b0",
   "metadata": {
    "jp-MarkdownHeadingCollapsed": true
   },
   "source": [
    "# Imports"
   ]
  },
  {
   "cell_type": "code",
   "execution_count": 1,
   "id": "8fb1197e-335f-4ab3-9612-8eef1d8837f8",
   "metadata": {},
   "source": [
    "import math\n",
    "import numpy as np\n",
    "import pandas as pd\n",
    "from typing import List, Tuple, Dict\n",
    "import seaborn as sns\n",
    "from tqdm.auto import tqdm\n",
    "from matplotlib import pyplot as plt\n",
    "from scipy.integrate import (\n",
    "    quad,\n",
    ")  # https://docs.scipy.org/doc/scipy/reference/generated/scipy.integrate.quad.html#scipy.integrate.quad\n",
    "from scipy.optimize import (\n",
    "    root_scalar,  # https://docs.scipy.org/doc/scipy/reference/generated/scipy.optimize.root_scalar.html#scipy.optimize.root_scalar\n",
    "    fsolve,  # https://docs.scipy.org/doc/scipy/reference/generated/scipy.optimize.fsolve.html\n",
    ")\n",
    "import itertools\n",
    "import functools\n",
    "import multiprocessing\n",
    "import multiprocessing.pool"
   ],
   "outputs": []
  },
  {
   "cell_type": "code",
   "execution_count": 2,
   "id": "050d225d-4cb2-481f-ad00-d67e231dce27",
   "metadata": {},
   "source": [
    "sns.set_theme(\n",
    "    rc={\"figure.figsize\": (20, 2)}\n",
    ")  # https://seaborn.pydata.org/generated/seaborn.set_theme.html\n",
    "pd.set_option(\"display.float_format\", lambda x: f\"{x:.2e}\")\n",
    "pd.set_option(\n",
    "    \"display.max_rows\", 500\n",
    ")  # https://stackoverflow.com/questions/16424493/pandas-setting-no-of-max-rows\n",
    "pd.set_option(\n",
    "    \"display.max_columns\", 500\n",
    ")  # https://stackoverflow.com/questions/11707586/how-do-i-expand-the-output-display-to-see-more-columns-of-a-pandas-dataframe"
   ],
   "outputs": []
  },
  {
   "cell_type": "markdown",
   "id": "13b936d4-3ab6-44d5-913e-7ae727ec24b8",
   "metadata": {
    "jp-MarkdownHeadingCollapsed": true
   },
   "source": [
    "# Aux parallelization"
   ]
  },
  {
   "cell_type": "code",
   "execution_count": 3,
   "id": "a213db4c-67d7-40c1-be91-b64060df3ac6",
   "metadata": {},
   "source": [
    "# https://stackoverflow.com/a/57364423\n",
    "def istarmap(self, func, iterable, chunksize=1):\n",
    "    self._check_running()\n",
    "    if chunksize < 1:\n",
    "        raise ValueError(\"Chunksize must be 1+, not {0:n}\".format(chunksize))\n",
    "\n",
    "    task_batches = multiprocessing.pool.Pool._get_tasks(func, iterable, chunksize)\n",
    "    result = multiprocessing.pool.IMapIterator(self)\n",
    "    self._taskqueue.put(\n",
    "        (\n",
    "            self._guarded_task_generation(\n",
    "                result._job, multiprocessing.pool.starmapstar, task_batches\n",
    "            ),\n",
    "            result._set_length,\n",
    "        )\n",
    "    )\n",
    "    return (item for chunk in result for item in chunk)\n",
    "\n",
    "\n",
    "multiprocessing.pool.Pool.istarmap = istarmap"
   ],
   "outputs": []
  },
  {
   "cell_type": "code",
   "execution_count": 4,
   "id": "732e936e-a6d9-4108-9ce0-13816ea10cb8",
   "metadata": {},
   "source": [
    "# Creates a Pandas Dataframe with a Progress bar using multiprocessing.\n",
    "# It requires an iterable, columns of the df and a function to calculate\n",
    "def create_pandas_dataframe(func, iterable, columns, total=None, raw_data=False):\n",
    "\n",
    "    if total is None:\n",
    "        total = len(iterable)\n",
    "\n",
    "    data = []\n",
    "\n",
    "    with multiprocessing.Pool(processes=multiprocessing.cpu_count()) as pool:\n",
    "        for calculated_row in tqdm(\n",
    "            pool.istarmap(func=func, iterable=iterable), total=total\n",
    "        ):\n",
    "            data.append(calculated_row)\n",
    "\n",
    "    return pd.DataFrame(data=data, columns=columns)"
   ],
   "outputs": []
  },
  {
   "cell_type": "markdown",
   "id": "260cba8e-3e3d-478f-afd6-2ae9df12355b",
   "metadata": {},
   "source": [
    "# Core maths functions"
   ]
  },
  {
   "cell_type": "markdown",
   "id": "9c020ac2-cac8-4ccf-998d-695bcd978c65",
   "metadata": {},
   "source": [
    "We rearrange the expression for $h_t$ below to avoid overflow errors while calculating exponentials"
   ]
  },
  {
   "cell_type": "code",
   "execution_count": 5,
   "id": "fe4d8886-7da9-44e3-9471-a67ec473068c",
   "metadata": {},
   "source": [
    "def h(t, u, z, k):\n",
    "    return np.product(\n",
    "        [\n",
    "            math.pi,\n",
    "            math.cos(z * u),\n",
    "            np.sum(\n",
    "                [\n",
    "                    (\n",
    "                        2\n",
    "                        * math.pi\n",
    "                        * n**4\n",
    "                        * math.exp(9 * u + t * u**2 - math.pi * n**3 * math.exp(4 * u))\n",
    "                        - 3\n",
    "                        * n**2\n",
    "                        * math.exp(5 * u + t * u**2 - math.pi * n**2 * math.exp(4 * u))\n",
    "                    )\n",
    "                    for n in range(1, k + 1)\n",
    "                ]\n",
    "            ),\n",
    "        ]\n",
    "    )"
   ],
   "outputs": []
  },
  {
   "cell_type": "code",
   "execution_count": 6,
   "id": "2883574e-410f-4ea6-a035-c9fc8e3a2ac1",
   "metadata": {},
   "source": [
    "def H(t, z, k, b):\n",
    "    function = lambda u: h(t, u, z, k)\n",
    "    return quad(func=function, a=0, b=b)"
   ],
   "outputs": []
  },
  {
   "cell_type": "markdown",
   "id": "2cd37fb2-16ba-4211-8d1c-1057057e8c16",
   "metadata": {},
   "source": [
    "## Checking how the integrand of $H_t(z)$ varies with $b$ and $k$"
   ]
  },
  {
   "cell_type": "code",
   "execution_count": 7,
   "id": "afd8e3eb-97ae-4f32-9ddd-64161423cefa",
   "metadata": {},
   "source": [
    "z_values = np.linspace(-30, 30, 20)\n",
    "k_values = range(5, 50, 5)\n",
    "ht = pd.DataFrame(\n",
    "    [\n",
    "        {\n",
    "            \"z\": z,\n",
    "            \"k\": k,\n",
    "            \"root\": H(t=0.25, z=z, b=10, k=k)[0],\n",
    "        }\n",
    "        for z, k in tqdm(\n",
    "            itertools.product(z_values, k_values), total=len(z_values) * len(k_values)\n",
    "        )\n",
    "    ]\n",
    ")"
   ],
   "outputs": []
  },
  {
   "cell_type": "code",
   "execution_count": 8,
   "id": "a51b4458-9fd4-4bc0-b0ae-7e940d2da471",
   "metadata": {},
   "source": [
    "sns.lineplot(data=ht.pivot(index=\"z\", columns=\"k\", values=\"root\"))"
   ],
   "outputs": []
  },
  {
   "cell_type": "code",
   "execution_count": 9,
   "id": "cfeece36-b201-49e2-8134-dc2d7ed9300e",
   "metadata": {},
   "source": [
    "z_values = np.linspace(-200, 200, 100)\n",
    "b_values = range(5, 50, 5)\n",
    "ht = pd.DataFrame(\n",
    "    [\n",
    "        {\n",
    "            \"z\": z,\n",
    "            \"b\": b,\n",
    "            \"root\": H(t=0.25, z=z, b=b, k=5)[0],\n",
    "        }\n",
    "        for z, b in tqdm(\n",
    "            itertools.product(z_values, b_values), total=len(z_values) * len(b_values)\n",
    "        )\n",
    "    ]\n",
    ")"
   ],
   "outputs": []
  },
  {
   "cell_type": "code",
   "execution_count": 10,
   "id": "2d5219e0-fffd-4a20-895d-12b0913dcd05",
   "metadata": {},
   "source": [
    "sns.lineplot(data=ht.pivot(index=\"z\", columns=\"b\", values=\"root\"))"
   ],
   "outputs": []
  },
  {
   "cell_type": "markdown",
   "id": "55f506f0-7c90-4b55-aefa-5a431ba9475a",
   "metadata": {},
   "source": [
    "THe table above shows that most of the mass of $h$ is in the interval $[-30,30]$. Due to the behaviour of the QUADPACK integration method, this means that it is better to integrate while keeping $b$ inside these bounds"
   ]
  },
  {
   "cell_type": "markdown",
   "id": "1936104f-e91a-477e-90d9-4e66d04e1964",
   "metadata": {
    "jp-MarkdownHeadingCollapsed": true
   },
   "source": [
    "# Visualization Class"
   ]
  },
  {
   "cell_type": "code",
   "execution_count": 11,
   "id": "8491a123-9dcd-4851-bc87-2f27869132e6",
   "metadata": {},
   "source": [
    "def build_observation(k: int, b: float, z: float) -> Dict[str, float]:\n",
    "    return (\n",
    "        k,\n",
    "        b,\n",
    "        z,\n",
    "        H(t=0.25, z=z, k=k, b=b)[0],  # value\n",
    "        H(t=0.25, z=z, k=k, b=b)[1],  # error\n",
    "    )\n",
    "\n",
    "\n",
    "class VisualizeDataFrame:\n",
    "    def __init__(\n",
    "        self, t: float, k_array: List[int], z_array: List[float], b_array: List[float]\n",
    "    ):\n",
    "        \"\"\"\n",
    "        Initializes the data to visualize\n",
    "\n",
    "        :param t: The time we using as a starting point\n",
    "        :param k_array: The number of elements in the sum to take\n",
    "        :param z_array: The input to the function H(z)\n",
    "        :param b_array: We take the integral between 0 and b\n",
    "        \"\"\"\n",
    "        self.t, self.k_array, self.z_array, self.b_array = t, k_array, z_array, b_array\n",
    "\n",
    "        self.df = create_pandas_dataframe(\n",
    "            func=build_observation,\n",
    "            iterable=itertools.product(k_array, b_array, z_array),\n",
    "            columns=[\"k\", \"b\", \"z\", \"h\", \"error\"],\n",
    "            total=len(k_array) * len(b_array) * len(z_array),\n",
    "        )\n",
    "\n",
    "        self.df[\"logerror\"] = [math.log(e, 10) for e in self.df[\"error\"]]\n",
    "        self.df[\"sign\"] = [np.sign(h) for h in self.df[\"h\"]]\n",
    "\n",
    "    def lineplot(self, crop: None | float = None):\n",
    "        # Crops the \"h\" value at +/- crop\n",
    "        if crop is not None:\n",
    "            self.df[\"clipped_h\"] = np.clip(self.df[\"h\"], -1 * crop, crop)\n",
    "\n",
    "        sns.lineplot(\n",
    "            x=\"z\", y=\"h\" if crop is None else \"clipped_h\", hue=\"b\", data=self.df\n",
    "        )\n",
    "        if \"clipped_h\" in self.df.columns.values:\n",
    "            self.df.drop(\"clipped_h\", axis=1)\n",
    "\n",
    "    def signplot(self):\n",
    "        fig, ax = plt.subplots(figsize=(20, 1))\n",
    "        sns.lineplot(x=\"z\", y=\"sign\", hue=\"b\", data=self.df, ax=ax)"
   ],
   "outputs": []
  },
  {
   "cell_type": "markdown",
   "id": "d69b9eda-3a06-4d71-a269-372943d485fe",
   "metadata": {},
   "source": [
    "# Building the relevant data"
   ]
  },
  {
   "cell_type": "code",
   "execution_count": 12,
   "id": "ba01bdff-9eef-439f-b172-b24bf3bf4ab4",
   "metadata": {},
   "source": [
    "interval = 1000\n",
    "n_samples = 50000\n",
    "z_array = np.linspace(-1 * interval, 1 * interval, n_samples)\n",
    "print(f\"Spacing between observations: {np.divide(2*interval, n_samples):.3f}\")\n",
    "results = VisualizeDataFrame(\n",
    "    t=0.25, k_array=[50], b_array=[50], z_array=z_array  # [2**i for i in range(5)]\n",
    ")"
   ],
   "outputs": []
  },
  {
   "cell_type": "markdown",
   "id": "84f030de-2c78-4491-a72d-ec132bb7000c",
   "metadata": {},
   "source": [
    "# Plotting $H_{0.25}(z)$"
   ]
  },
  {
   "cell_type": "code",
   "execution_count": 13,
   "id": "a35f2cca-3ecd-4c0f-9b06-bf1693d0d971",
   "metadata": {},
   "source": [
    "results.lineplot()"
   ],
   "outputs": []
  },
  {
   "cell_type": "code",
   "execution_count": 14,
   "id": "23d6abc2-6a19-4df6-8c84-e851ff9092e3",
   "metadata": {},
   "source": [
    "results.lineplot(crop=10**-2)"
   ],
   "outputs": []
  },
  {
   "cell_type": "code",
   "execution_count": 15,
   "id": "2910c3a4-cc3d-41c3-b003-024f61e10f57",
   "metadata": {},
   "source": [
    "results.lineplot(crop=10**-4)"
   ],
   "outputs": []
  },
  {
   "cell_type": "code",
   "execution_count": 16,
   "id": "60c266a1-03ce-40ed-baed-c72bf0df7e1f",
   "metadata": {},
   "source": [
    "results.lineplot(crop=10**-8)"
   ],
   "outputs": []
  },
  {
   "cell_type": "code",
   "execution_count": 17,
   "id": "af4e7234-549e-4c04-bb44-281e9fca3412",
   "metadata": {},
   "source": [
    "results.lineplot(crop=10**-16)"
   ],
   "outputs": []
  },
  {
   "cell_type": "markdown",
   "id": "fdcd3f9d-3e21-46e6-879f-3f25d8bd8cd6",
   "metadata": {},
   "source": [
    "# Visualizing the sign of $h$\n",
    "\n",
    "- The location of zeroes become easier to observe: we have a zero whenever the sign of $h$ swaps, as seen below.\n",
    "- The zeroes are not clear from the image above."
   ]
  },
  {
   "cell_type": "code",
   "execution_count": 18,
   "id": "0601d103-cf31-4216-a1d1-7c879bdc9397",
   "metadata": {},
   "source": [
    "results.signplot()"
   ],
   "outputs": []
  },
  {
   "cell_type": "markdown",
   "id": "892edd95-44a9-4e06-8b0b-c79be0831027",
   "metadata": {},
   "source": [
    "The zeroes above are unreliable: we calculated this function using a small $k$ and integrating $h$ only on $\\int_0^{b}$ . They are merely a starting point for finding the zeroes"
   ]
  },
  {
   "cell_type": "markdown",
   "id": "8ad2cae1-4366-4b01-9be2-0a828f514233",
   "metadata": {},
   "source": [
    "# Finding zeroes\n",
    "\n",
    "For\n",
    "1. a time $t$\n",
    "2. a given upper limit $b$ for the integral, i.e. $\\int_0^b$.\n",
    "3. number of elements $k$ used in the sum, i.e. $\\sum_{n=1}^k$\n",
    "\n",
    "We pass a function uni-variate $H(z)$ to scipy's root finder [fsolve](https://docs.scipy.org/doc/scipy/reference/generated/scipy.optimize.fsolve.html), in order to find roots $r$ of the function. We build the dataframe of triplets $(b,h,r_{b,k})$, and plot it to get an overview of the numerical stability of $r$."
   ]
  },
  {
   "cell_type": "code",
   "execution_count": 19,
   "id": "01666314-52ec-4fb6-aa59-6da69d0744bd",
   "metadata": {},
   "source": [
    "k_values = [5, 20, 50]\n",
    "b_values = np.linspace(5, 50, 100)\n",
    "data = []\n",
    "\n",
    "\n",
    "def create_zeroes_row(k, b):\n",
    "    return (k, b, fsolve(func=lambda z: H(z=z, t=0.25, b=b, k=k)[0], x0=1)[0])\n",
    "\n",
    "\n",
    "zeroes_df = create_pandas_dataframe(\n",
    "    func=create_zeroes_row,\n",
    "    columns=[\"k\", \"b\", \"root\"],\n",
    "    iterable=itertools.product(k_values, b_values),\n",
    "    total=len(k_values) * len(b_values),\n",
    ")"
   ],
   "outputs": []
  },
  {
   "cell_type": "markdown",
   "id": "1b446fdf-4258-4ce9-8f4e-351642367aaf",
   "metadata": {},
   "source": [
    "# Plots"
   ]
  },
  {
   "cell_type": "markdown",
   "id": "274becb4-3add-4d18-aa43-3e0ab94456b9",
   "metadata": {},
   "source": [
    "## Histplot"
   ]
  },
  {
   "cell_type": "code",
   "execution_count": 20,
   "id": "547c0cc7-100f-448b-8b1d-2a76ca629488",
   "metadata": {},
   "source": [
    "sns.histplot(zeroes_df[\"root\"])"
   ],
   "outputs": []
  },
  {
   "cell_type": "markdown",
   "id": "6e3061ef-dc61-4956-8066-95151aaf0d94",
   "metadata": {},
   "source": [
    "## Heatmap"
   ]
  },
  {
   "cell_type": "code",
   "execution_count": 21,
   "id": "1e2501c1-0dcc-439c-9525-da3eb8a04f46",
   "metadata": {},
   "source": [
    "# https://pandas.pydata.org/docs/reference/api/pandas.io.formats.style.Styler.background_gradient.html\n",
    "zeroes_df.pivot(index=\"k\", columns=\"b\", values=\"root\").style.background_gradient(\n",
    "    cmap=\"viridis\", axis=None\n",
    ")"
   ],
   "outputs": []
  },
  {
   "cell_type": "code",
   "execution_count": null,
   "id": "f23f688e-458c-4ba4-bd79-461f029ed6c8",
   "metadata": {},
   "source": [],
   "outputs": []
  },
  {
   "cell_type": "code",
   "execution_count": null,
   "id": "9ec6ab6a-de70-47cb-a285-366ee4dcc3a0",
   "metadata": {},
   "source": [],
   "outputs": []
  },
  {
   "cell_type": "code",
   "execution_count": null,
   "id": "d03e6696-d4e4-4467-ac6d-876ea15dc96f",
   "metadata": {},
   "source": [],
   "outputs": []
  },
  {
   "cell_type": "markdown",
   "id": "ab584905-639e-49fe-bc22-d46e44fe9ae2",
   "metadata": {},
   "source": [
    "# TESTS TO DO\n",
    "\n",
    "- [ ] Use fsolve with more/less than the actual number of existing roots."
   ]
  }
 ],
 "metadata": {
  "kernelspec": {
   "display_name": "Python 3 (ipykernel)",
   "language": "python",
   "name": "python3"
  },
  "language_info": {
   "codemirror_mode": {
    "name": "ipython",
    "version": 3
   },
   "file_extension": ".py",
   "mimetype": "text/x-python",
   "name": "python",
   "nbconvert_exporter": "python",
   "pygments_lexer": "ipython3",
   "version": "3.11.6"
  }
 },
 "nbformat": 4,
 "nbformat_minor": 5
}
