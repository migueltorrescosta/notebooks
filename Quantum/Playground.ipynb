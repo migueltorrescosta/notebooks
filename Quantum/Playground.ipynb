{
 "cells": [
  {
   "cell_type": "markdown",
   "id": "e6f47e38-ec7f-4b78-9158-088e43a5db06",
   "metadata": {},
   "source": [
    "# Imports"
   ]
  },
  {
   "cell_type": "code",
   "execution_count": 5,
   "id": "f2118b41-3c94-4789-88e6-47a77676a55d",
   "metadata": {},
   "source": [
    "!pip install qiskit"
   ],
   "outputs": []
  },
  {
   "cell_type": "code",
   "execution_count": 6,
   "id": "b851926a-1755-486e-8c28-b104ab585b07",
   "metadata": {},
   "source": [
    "import numpy as np\n",
    "from qiskit import QuantumCircuit"
   ],
   "outputs": []
  },
  {
   "cell_type": "markdown",
   "id": "15ad9d0d-1823-4f8d-982d-b2d7e7f6302e",
   "metadata": {},
   "source": [
    "### Setup a quantum circuit for preparing the quantum state $|000> + i |111>$"
   ]
  },
  {
   "cell_type": "code",
   "execution_count": 7,
   "id": "a1e177c4-9975-4c57-9ca6-7ad6fff902d9",
   "metadata": {},
   "source": [
    "qc_example = QuantumCircuit(3)\n",
    "qc_example.h(0)  # generate superpostion\n",
    "qc_example.p(np.pi / 2, 0)  # add quantum phase\n",
    "qc_example.cx(0, 1)  # 0th-qubit-Controlled-NOT gate on 1st qubit\n",
    "qc_example.cx(0, 2)  # 0th-qubit-Controlled-NOT gate on 2nd qubit"
   ],
   "outputs": []
  },
  {
   "cell_type": "markdown",
   "id": "ef5676db-fcbd-4d81-94e5-165c6ceb2d85",
   "metadata": {},
   "source": [
    "### Add the classical output in the form of measurement of all qubits"
   ]
  },
  {
   "cell_type": "code",
   "execution_count": null,
   "id": "e11f0c89-32f2-42fc-8f2d-735b476dce21",
   "metadata": {},
   "source": [
    "qc_measured = qc_example.measure_all(inplace=False)"
   ],
   "outputs": []
  },
  {
   "cell_type": "markdown",
   "id": "664626b1-e704-40f9-bc42-89f93d513939",
   "metadata": {},
   "source": [
    "### Execute using the [Sampler](https://docs.quantum.ibm.com/api/qiskit/qiskit.primitives.Sampler) primitive"
   ]
  },
  {
   "cell_type": "code",
   "execution_count": 28,
   "id": "8b630dcd-ba63-4eb3-b8f5-955da910fb36",
   "metadata": {},
   "source": [
    "from qiskit.primitives.sampler import Sampler\n",
    "\n",
    "sampler = Sampler()\n",
    "job = sampler.run(qc_measured, shots=10**18)\n",
    "result = job.result()\n",
    "print(f\" > Quasi probability distribution: {result.quasi_dists}\")"
   ],
   "outputs": []
  },
  {
   "cell_type": "markdown",
   "id": "6e8a69a4-e164-49be-91e2-bfae6cc1aa4a",
   "metadata": {},
   "source": [
    "### Define the observable to be measured "
   ]
  },
  {
   "cell_type": "code",
   "execution_count": 8,
   "id": "42ae10ba-42d4-4484-b560-9c41c5287365",
   "metadata": {},
   "source": [
    "from qiskit.quantum_info import SparsePauliOp\n",
    "\n",
    "operator = SparsePauliOp.from_list([(\"XXY\", 1), (\"XYX\", 1), (\"YXX\", 1), (\"YYY\", -1)])"
   ],
   "outputs": []
  },
  {
   "cell_type": "markdown",
   "id": "9e9309a7-4cd2-4275-ab35-6d71986c0771",
   "metadata": {},
   "source": [
    "### Execute using the Estimator primitive"
   ]
  },
  {
   "cell_type": "code",
   "execution_count": 15,
   "id": "b6717a2a-1015-4187-b2f2-f50d0ae414e8",
   "metadata": {},
   "source": [
    "from qiskit.primitives import Estimator\n",
    "\n",
    "estimator = Estimator()\n",
    "job = estimator.run(qc_example, operator, shots=100)\n",
    "result = job.result()\n",
    "print(f\" > Expectation values: {result.values}\")"
   ],
   "outputs": []
  },
  {
   "cell_type": "code",
   "execution_count": 20,
   "id": "1e5e833b-ed01-4df2-91b0-83e0c6fbfd32",
   "metadata": {},
   "source": [
    "def t(shots):\n",
    "    estimator = Estimator()\n",
    "    job = estimator.run(qc_example, operator, shots=shots)\n",
    "    return job.result()"
   ],
   "outputs": []
  },
  {
   "cell_type": "code",
   "execution_count": 24,
   "id": "5e4426e0-081b-43fb-b546-b4428392d8b2",
   "metadata": {},
   "source": [
    "# Generate measurement examples"
   ],
   "outputs": []
  },
  {
   "cell_type": "code",
   "execution_count": 41,
   "id": "9dc05ef7-1b10-4675-8996-bb01d24798e7",
   "metadata": {},
   "source": [
    "import pandas as pd\n",
    "\n",
    "pd.set_option(\"display.max_columns\", 500)\n",
    "n = 1000\n",
    "data = pd.DataFrame(\n",
    "    {\"measurements\": [t(shots=i).values[0] for i in range(1, n)], \"shots\": range(1, n)}\n",
    ")"
   ],
   "outputs": []
  },
  {
   "cell_type": "markdown",
   "id": "1cf9560a-8c49-4ac8-b9c8-2caca411771e",
   "metadata": {},
   "source": [
    "# Plot data distribution"
   ]
  },
  {
   "cell_type": "code",
   "execution_count": 45,
   "id": "0d5f6fca-63c5-49e0-ba35-0695065072f6",
   "metadata": {},
   "source": [
    "import seaborn as sns\n",
    "\n",
    "sns.set_theme(style=\"white\", color_codes=True)\n",
    "mpg = sns.load_dataset(\"mpg\")\n",
    "\n",
    "# Use JointGrid directly to draw a custom plot\n",
    "g = sns.JointGrid(data=data, x=\"shots\", y=\"measurements\", space=0, ratio=20)\n",
    "g.plot_joint(sns.scatterplot, color=\"g\", alpha=0.6, legend=False)\n",
    "g.plot_marginals(sns.rugplot, height=1, color=\"g\", alpha=0.6)"
   ],
   "outputs": []
  },
  {
   "cell_type": "code",
   "execution_count": 43,
   "id": "accbab16-5f97-46d1-9413-02911477d017",
   "metadata": {},
   "source": [
    "data.T"
   ],
   "outputs": []
  },
  {
   "cell_type": "code",
   "execution_count": 46,
   "id": "b2e699f7-9f97-46cf-aaa1-d7213a26ce09",
   "metadata": {},
   "source": [
    "data[\"measurements\"][0]"
   ],
   "outputs": []
  },
  {
   "cell_type": "code",
   "execution_count": null,
   "id": "63287a9c-fb93-4463-989f-873440119f7d",
   "metadata": {},
   "source": [],
   "outputs": []
  }
 ],
 "metadata": {
  "kernelspec": {
   "display_name": "Python 3 (ipykernel)",
   "language": "python",
   "name": "python3"
  },
  "language_info": {
   "codemirror_mode": {
    "name": "ipython",
    "version": 3
   },
   "file_extension": ".py",
   "mimetype": "text/x-python",
   "name": "python",
   "nbconvert_exporter": "python",
   "pygments_lexer": "ipython3",
   "version": "3.11.6"
  }
 },
 "nbformat": 4,
 "nbformat_minor": 5
}
