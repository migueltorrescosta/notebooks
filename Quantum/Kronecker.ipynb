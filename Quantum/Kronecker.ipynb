{
 "cells": [
  {
   "cell_type": "markdown",
   "id": "3d7e6322-560d-425d-8ba9-00125fac057e",
   "metadata": {},
   "source": [
    "# Goal\n",
    "\n",
    "Explicitly calculate the kronecker product of 2 matrices"
   ]
  },
  {
   "cell_type": "code",
   "execution_count": 1,
   "id": "504b3f9c-d481-4521-aed3-263ee0bd6fa8",
   "metadata": {},
   "outputs": [],
   "source": [
    "import numpy as np"
   ]
  },
  {
   "cell_type": "code",
   "execution_count": 5,
   "id": "886dce7e-bb26-4469-b7bf-b45389b5d2b9",
   "metadata": {},
   "outputs": [],
   "source": [
    "s_z = np.array([[1, 0], [0, -1]])\n",
    "identity = np.array([[1, 0], [0, 1]])"
   ]
  },
  {
   "cell_type": "code",
   "execution_count": 9,
   "id": "b1e3e753-632c-45bd-9cde-3be0a3204334",
   "metadata": {},
   "outputs": [
    {
     "data": {
      "text/plain": [
       "array([[ 1,  0,  0,  0],\n",
       "       [ 0,  1,  0,  0],\n",
       "       [ 0,  0, -1,  0],\n",
       "       [ 0,  0,  0, -1]])"
      ]
     },
     "execution_count": 9,
     "metadata": {},
     "output_type": "execute_result"
    }
   ],
   "source": [
    "z_1 = np.kron(s_z, identity)\n",
    "z_1"
   ]
  },
  {
   "cell_type": "code",
   "execution_count": 10,
   "id": "dbc6c022-f19d-4dbd-9c51-6f1434abb872",
   "metadata": {},
   "outputs": [
    {
     "data": {
      "text/plain": [
       "array([[ 1,  0,  0,  0],\n",
       "       [ 0, -1,  0,  0],\n",
       "       [ 0,  0,  1,  0],\n",
       "       [ 0,  0,  0, -1]])"
      ]
     },
     "execution_count": 10,
     "metadata": {},
     "output_type": "execute_result"
    }
   ],
   "source": [
    "z_2 = np.kron(identity, s_z)\n",
    "z_2"
   ]
  },
  {
   "cell_type": "code",
   "execution_count": 17,
   "id": "e9a53333-db42-40e9-8e9a-524dfc9f0176",
   "metadata": {},
   "outputs": [
    {
     "data": {
      "text/plain": [
       "array([[ 1,  0,  0,  0],\n",
       "       [ 0, -1,  0,  0],\n",
       "       [ 0,  0, -1,  0],\n",
       "       [ 0,  0,  0,  1]])"
      ]
     },
     "execution_count": 17,
     "metadata": {},
     "output_type": "execute_result"
    }
   ],
   "source": [
    "prod_1 = np.kron(s_z, s_z)\n",
    "prod_1"
   ]
  },
  {
   "cell_type": "code",
   "execution_count": 18,
   "id": "b7dc7e96-fc6e-43a6-a2f4-adf0c484c34b",
   "metadata": {},
   "outputs": [
    {
     "data": {
      "text/plain": [
       "array([[1, 0, 0, 0],\n",
       "       [0, 1, 0, 0],\n",
       "       [0, 0, 1, 0],\n",
       "       [0, 0, 0, 1]])"
      ]
     },
     "execution_count": 18,
     "metadata": {},
     "output_type": "execute_result"
    }
   ],
   "source": [
    "prod_2 = np.kron(identity, identity)\n",
    "prod_2"
   ]
  },
  {
   "cell_type": "code",
   "execution_count": 20,
   "id": "19572b63-e3bf-474b-b43d-8ca102b9c1a9",
   "metadata": {},
   "outputs": [
    {
     "data": {
      "text/plain": [
       "array([[ 1,  0,  0,  0],\n",
       "       [ 0, -1,  0,  0],\n",
       "       [ 0,  0, -1,  0],\n",
       "       [ 0,  0,  0,  1]])"
      ]
     },
     "execution_count": 20,
     "metadata": {},
     "output_type": "execute_result"
    }
   ],
   "source": [
    "z_1 @ z_2"
   ]
  },
  {
   "cell_type": "code",
   "execution_count": null,
   "id": "b50cbff1-1535-41f2-80c0-0c7bdf82c5d0",
   "metadata": {},
   "outputs": [],
   "source": [
    "The above shows that $"
   ]
  },
  {
   "cell_type": "code",
   "execution_count": null,
   "id": "8c1d7cf1-f3d5-4c9a-9bef-e58086a5f850",
   "metadata": {},
   "outputs": [],
   "source": []
  },
  {
   "cell_type": "code",
   "execution_count": null,
   "id": "17c6d46f-4b06-4270-ac1f-ef47b1264b84",
   "metadata": {},
   "outputs": [],
   "source": []
  }
 ],
 "metadata": {
  "kernelspec": {
   "display_name": "Python 3 (ipykernel)",
   "language": "python",
   "name": "python3"
  },
  "language_info": {
   "codemirror_mode": {
    "name": "ipython",
    "version": 3
   },
   "file_extension": ".py",
   "mimetype": "text/x-python",
   "name": "python",
   "nbconvert_exporter": "python",
   "pygments_lexer": "ipython3",
   "version": "3.11.6"
  }
 },
 "nbformat": 4,
 "nbformat_minor": 5
}
