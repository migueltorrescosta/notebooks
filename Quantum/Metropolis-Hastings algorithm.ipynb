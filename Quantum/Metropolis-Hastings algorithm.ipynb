{
 "cells": [
  {
   "cell_type": "markdown",
   "id": "0b2e606c-f481-4c53-8e16-31220eb13c97",
   "metadata": {},
   "source": [
    "# Imports"
   ]
  },
  {
   "cell_type": "code",
   "execution_count": 1,
   "id": "b58f8fb2-a5db-481d-aced-f1c120837dce",
   "metadata": {
    "ExecuteTime": {
     "end_time": "2024-04-01T19:24:27.105609Z",
     "start_time": "2024-04-01T19:24:25.379525Z"
    }
   },
   "outputs": [],
   "source": [
    "from typing import TypeVar, Generic, List\n",
    "from tqdm import trange\n",
    "import numpy as np\n",
    "from abc import ABC, abstractmethod\n",
    "from matplotlib import pyplot as plt\n",
    "T = TypeVar(\"T\")\n",
    "\n",
    "from IPython.core.pylabtools import figsize\n",
    "figsize(20, 5)"
   ]
  },
  {
   "cell_type": "markdown",
   "id": "e12a2f07-0b5c-4992-becd-270b5cc665e3",
   "metadata": {},
   "source": [
    "# MetropolisHastings ABC"
   ]
  },
  {
   "cell_type": "code",
   "execution_count": 2,
   "id": "76a35ed7-3ae3-4bd4-bd1c-45d7e2085e94",
   "metadata": {
    "ExecuteTime": {
     "end_time": "2024-04-01T19:24:27.113187Z",
     "start_time": "2024-04-01T19:24:27.107060Z"
    }
   },
   "outputs": [],
   "source": [
    "class AbstractMetropolisHastings(ABC, Generic[T]):\n",
    "    def __init__(self, initial_configuration: T):\n",
    "        self.configuration_history: List[T] = [initial_configuration] # This array evolves over time :D\n",
    "        self.accepted_configuration_count:int = 0\n",
    "        self.rejected_configuration_count:int = 0\n",
    "\n",
    "    @property\n",
    "    def current_configuration(self) -> T:\n",
    "        return self.configuration_history[-1]\n",
    "    \n",
    "    @abstractmethod\n",
    "    def generator_function(self) -> T:\n",
    "        pass\n",
    "\n",
    "    @abstractmethod\n",
    "    def approval_function(self, new_configuration: T) -> bool:\n",
    "        pass\n",
    "\n",
    "    def run_single_iteration(self, limit_tries=10**5) -> T:\n",
    "        tries = 0\n",
    "        while True:\n",
    "            new_state = self.generator_function()\n",
    "            if self.approval_function(new_state):\n",
    "                self.configuration_history.append(new_state)\n",
    "                self.accepted_configuration_count += 1\n",
    "                return new_state\n",
    "\n",
    "            self.rejected_configuration_count += 1\n",
    "            tries+=1\n",
    "            if tries >= limit_tries:\n",
    "                # Useful for debugging\n",
    "                tries = 0\n",
    "                limit_tries *=2\n",
    "                print(f\"{new_state:e}\", end=\", \")\n",
    "\n",
    "    def run_iterations(self, n: int) -> None:\n",
    "        pbar = trange(n, desc='Bar desc', leave=True)\n",
    "        for _ in pbar:\n",
    "            self.run_single_iteration()\n",
    "            if (self.accepted_configuration_count + self.rejected_configuration_count) % 10**3 == 0:\n",
    "                pbar.set_description(\n",
    "                    f\"({self.rejected_configuration_count}/{self.accepted_configuration_count  +self.rejected_configuration_count}) {self.current_configuration:e} \",\n",
    "                    refresh=True\n",
    "                )\n",
    "\n",
    "    def plot(self) -> None:\n",
    "        plt.plot(self.configuration_history)"
   ]
  },
  {
   "cell_type": "markdown",
   "id": "28181b06-4fa9-49d2-8d7b-5dd39ff31393",
   "metadata": {},
   "source": [
    "## Applied to VMC"
   ]
  },
  {
   "cell_type": "markdown",
   "source": [
    "The goal of this section is to calculate $\\int ... dR $\n",
    "\n",
    "$$\n",
    "\\left \\{\n",
    "\\begin{array}{rll}\n",
    "H &= - \\frac{\\partial^2}{2 \\partial x^2} +V(x) & \\text{Hamiltonian}\\\\\n",
    "\\psi(R) &= \\exp({-p_0(x-p_1)^2-p_2(x-p_3)^2}) & \\text{Wave function}\\\\\n",
    "E_L(R) &= \\frac{H\\psi(R)}{\\psi(R)} = V(x) - \\frac{1}{2}\\frac{\\partial^2}{\\partial x^2}\\psi(x) & \\text{\"Local\" energy}\\\\\n",
    "V(x) &= \\frac{a_2}{2}x^2 + a_4x^4 & \\text{Potential energy}\\\\\n",
    "G(R,R', \\beta) &= \\braket{R | e^{- \\beta H} | R'} & \\text{???}\\\\\n",
    "\\Pi(R) &\\propto | \\psi(R) |^2 & \\text{Sampling probability???}\\\\\n",
    "\\end{array}\n",
    "\\right .\n",
    "$$"
   ],
   "metadata": {
    "collapsed": false
   },
   "id": "17c8412dd547005e"
  },
  {
   "cell_type": "code",
   "execution_count": 3,
   "id": "2c27417d-e235-4158-ba7f-953f5352b1c0",
   "metadata": {
    "ExecuteTime": {
     "end_time": "2024-04-01T19:24:27.129258Z",
     "start_time": "2024-04-01T19:24:27.114195Z"
    }
   },
   "outputs": [],
   "source": [
    "class VMC(AbstractMetropolisHastings[float]):\n",
    "    a = [1, 0]\n",
    "    p = [2, 0, 0, 0]\n",
    "    sigma = .5\n",
    "\n",
    "    def generator_function(self):\n",
    "        return self.current_configuration + np.random.normal(0, self.sigma)\n",
    "\n",
    "    def approval_function(self, new_configuration):\n",
    "\n",
    "        p = self.p\n",
    "        amplitude_calculator = lambda x: np.prod([-1,p[0],x-p[1],x-p[1]]) + np.prod([-1,p[2],x-p[3],x-p[3]])\n",
    "        logged_old_amplitude = amplitude_calculator(self.current_configuration)  \n",
    "        logged_new_amplitude = amplitude_calculator(new_configuration)  \n",
    "        return 2*(logged_old_amplitude-logged_new_amplitude) <= np.log(np.random.random())"
   ]
  },
  {
   "cell_type": "code",
   "execution_count": 4,
   "id": "d277647d-33d8-4da8-90aa-16732d3d1a4f",
   "metadata": {
    "ExecuteTime": {
     "end_time": "2024-04-01T19:24:27.159932Z",
     "start_time": "2024-04-01T19:24:27.130260Z"
    }
   },
   "outputs": [],
   "source": [
    "vmc = VMC(initial_configuration=10**2)"
   ]
  },
  {
   "cell_type": "code",
   "execution_count": null,
   "id": "6a557626-22b1-4ad3-8f01-72c7d8aff5d5",
   "metadata": {
    "is_executing": true,
    "ExecuteTime": {
     "start_time": "2024-04-01T19:24:27.161204Z"
    }
   },
   "outputs": [
    {
     "name": "stderr",
     "output_type": "stream",
     "text": [
      "Bar desc:   0%|          | 261/100000 [00:00<03:28, 478.77it/s]"
     ]
    },
    {
     "name": "stdout",
     "output_type": "stream",
     "text": [
      "-8.364439e-01, -5.654411e-01, "
     ]
    },
    {
     "name": "stderr",
     "output_type": "stream",
     "text": [
      "Bar desc:   0%|          | 261/100000 [00:20<03:28, 478.77it/s]"
     ]
    },
    {
     "name": "stdout",
     "output_type": "stream",
     "text": [
      "-7.172337e-01, "
     ]
    },
    {
     "name": "stderr",
     "output_type": "stream",
     "text": [
      "Bar desc:   0%|          | 262/100000 [00:34<5:09:12,  5.38it/s]"
     ]
    },
    {
     "name": "stdout",
     "output_type": "stream",
     "text": [
      "8.494189e-01, -3.983267e-01, -1.920538e-01, "
     ]
    }
   ],
   "source": [
    "vmc.run_iterations(10**5)"
   ]
  },
  {
   "cell_type": "code",
   "execution_count": null,
   "id": "fd6f11c6-13bb-4290-9797-f13833792d7d",
   "metadata": {
    "is_executing": true
   },
   "outputs": [],
   "source": [
    "vmc.plot()"
   ]
  },
  {
   "cell_type": "code",
   "outputs": [],
   "source": [],
   "metadata": {
    "collapsed": false,
    "is_executing": true
   },
   "id": "ccfaf50a9d5d0a20",
   "execution_count": null
  }
 ],
 "metadata": {
  "kernelspec": {
   "display_name": "Python 3 (ipykernel)",
   "language": "python",
   "name": "python3"
  },
  "language_info": {
   "codemirror_mode": {
    "name": "ipython",
    "version": 3
   },
   "file_extension": ".py",
   "mimetype": "text/x-python",
   "name": "python",
   "nbconvert_exporter": "python",
   "pygments_lexer": "ipython3",
   "version": "3.11.6"
  }
 },
 "nbformat": 4,
 "nbformat_minor": 5
}
