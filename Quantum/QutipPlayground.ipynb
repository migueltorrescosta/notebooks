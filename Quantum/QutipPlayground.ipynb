{
 "cells": [
  {
   "cell_type": "code",
   "id": "initial_id",
   "metadata": {
    "collapsed": true,
    "ExecuteTime": {
     "end_time": "2024-05-07T22:31:32.811963Z",
     "start_time": "2024-05-07T22:31:32.791177Z"
    }
   },
   "source": "from qutip import Qobj",
   "outputs": [
    {
     "ename": "ModuleNotFoundError",
     "evalue": "No module named 'qutip'",
     "output_type": "error",
     "traceback": [
      "\u001B[0;31m---------------------------------------------------------------------------\u001B[0m",
      "\u001B[0;31mModuleNotFoundError\u001B[0m                       Traceback (most recent call last)",
      "Cell \u001B[0;32mIn[5], line 1\u001B[0m\n\u001B[0;32m----> 1\u001B[0m \u001B[38;5;28;01mfrom\u001B[39;00m \u001B[38;5;21;01mqutip\u001B[39;00m \u001B[38;5;28;01mimport\u001B[39;00m Qobj\n",
      "\u001B[0;31mModuleNotFoundError\u001B[0m: No module named 'qutip'"
     ]
    }
   ],
   "execution_count": 5
  },
  {
   "metadata": {
    "ExecuteTime": {
     "end_time": "2024-05-07T22:31:33.896823Z",
     "start_time": "2024-05-07T22:31:33.885077Z"
    }
   },
   "cell_type": "code",
   "source": "print(Qobj())",
   "id": "e507bcbc1235cec1",
   "outputs": [
    {
     "ename": "NameError",
     "evalue": "name 'Qobj' is not defined",
     "output_type": "error",
     "traceback": [
      "\u001B[0;31m---------------------------------------------------------------------------\u001B[0m",
      "\u001B[0;31mNameError\u001B[0m                                 Traceback (most recent call last)",
      "Cell \u001B[0;32mIn[6], line 1\u001B[0m\n\u001B[0;32m----> 1\u001B[0m \u001B[38;5;28mprint\u001B[39m(\u001B[43mQobj\u001B[49m())\n",
      "\u001B[0;31mNameError\u001B[0m: name 'Qobj' is not defined"
     ]
    }
   ],
   "execution_count": 6
  }
 ],
 "metadata": {
  "kernelspec": {
   "display_name": "Python 3",
   "language": "python",
   "name": "python3"
  },
  "language_info": {
   "codemirror_mode": {
    "name": "ipython",
    "version": 2
   },
   "file_extension": ".py",
   "mimetype": "text/x-python",
   "name": "python",
   "nbconvert_exporter": "python",
   "pygments_lexer": "ipython2",
   "version": "2.7.6"
  }
 },
 "nbformat": 4,
 "nbformat_minor": 5
}
