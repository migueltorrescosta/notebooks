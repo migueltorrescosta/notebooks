{
 "cells": [
  {
   "cell_type": "markdown",
   "id": "b250371f-4d2e-4bd1-9b95-cd70d79413dd",
   "metadata": {},
   "source": [
    "# Lecture 1"
   ]
  },
  {
   "cell_type": "code",
   "execution_count": 2,
   "id": "33d79416-43ff-4cdf-ac1c-e5a5ddca6302",
   "metadata": {},
   "outputs": [
    {
     "name": "stdout",
     "output_type": "stream",
     "text": [
      "Collecting git+https://github.com/joselado/dmrgpy.git@master\n",
      "  Cloning https://github.com/joselado/dmrgpy.git (to revision master) to /tmp/pip-req-build-7ts2du43\n",
      "  Running command git clone --filter=blob:none --quiet https://github.com/joselado/dmrgpy.git /tmp/pip-req-build-7ts2du43\n",
      "  Resolved https://github.com/joselado/dmrgpy.git to commit 5540b739376d546f387381f171c1d9d877eac3be\n",
      "\u001b[31mERROR: git+https://github.com/joselado/dmrgpy.git@master does not appear to be a Python project: neither 'setup.py' nor 'pyproject.toml' found.\u001b[0m\u001b[31m\n",
      "\u001b[0m"
     ]
    }
   ],
   "source": [
    "!pip install git+https://github.com/joselado/dmrgpy.git@master"
   ]
  },
  {
   "cell_type": "markdown",
   "id": "f9ca2c84-50a2-4fa5-911a-775b93159aae",
   "metadata": {},
   "source": [
    "## Static correlator of an S=1/2 spin chain"
   ]
  },
  {
   "cell_type": "code",
   "execution_count": null,
   "id": "f7ec6e52-77f3-4f3d-bdef-c390c74ef95a",
   "metadata": {},
   "outputs": [],
   "source": [
    "from dmrgpy import spinchain\n",
    "spins = [\"S=1/2\" for i in range(5)] # spins in each site\n",
    "sc = spinchain.Spin_Chain(spins) # create spin chain object\n",
    "h = 0 # initialize Hamiltonian\n",
    "for i in range(len(spins)-1): \n",
    "  h = h + sc.Sx[i]*sc.Sx[i+1]\n",
    "  h = h + sc.Sy[i]*sc.Sy[i+1]\n",
    "  h = h + sc.Sz[i]*sc.Sz[i+1]\n",
    "\n",
    "sc.set_hamiltonian(h) # create the Hamiltonian\n",
    "print(\"Ground state energy\",sc.gs_energy())"
   ]
  },
  {
   "cell_type": "markdown",
   "id": "14c6b2f9-55aa-4b34-b06c-6388660d7c8d",
   "metadata": {},
   "source": [
    "## Factorization"
   ]
  },
  {
   "cell_type": "code",
   "execution_count": null,
   "id": "b496f261-58dd-4edf-8255-0e4b1cc9a23b",
   "metadata": {},
   "outputs": [],
   "source": [
    "import numpy as np\n",
    "eigenvalues, eigenvectors = np.linalg.eigh(np.array([[1,2],[3,4]]))\n",
    "for value, vector in zip(eigenvalues, eigenvectors):\n",
    "    print(f\"{value}: {vector}\")"
   ]
  },
  {
   "cell_type": "code",
   "execution_count": null,
   "id": "f7b9c4d5-3be0-4475-b116-61fbd44e8ac7",
   "metadata": {},
   "outputs": [],
   "source": []
  }
 ],
 "metadata": {
  "kernelspec": {
   "display_name": "Python 3 (ipykernel)",
   "language": "python",
   "name": "python3"
  },
  "language_info": {
   "codemirror_mode": {
    "name": "ipython",
    "version": 3
   },
   "file_extension": ".py",
   "mimetype": "text/x-python",
   "name": "python",
   "nbconvert_exporter": "python",
   "pygments_lexer": "ipython3",
   "version": "3.11.6"
  }
 },
 "nbformat": 4,
 "nbformat_minor": 5
}
