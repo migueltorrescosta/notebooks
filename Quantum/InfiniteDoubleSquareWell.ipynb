{
 "cells": [
  {
   "metadata": {},
   "cell_type": "markdown",
   "source": [
    "# Goal\n",
    "\n",
    "We want to better understand the impact on higher energy levels on the evolution of the left and right wavefunctions. This will be done by plotting the solutions of a double quantum well, and compare them with the evolution of $\\psi_L, \\psi_R$ vs the evolution of $\\frac{1}{2}(\\psi_0 \\pm \\psi_1)$. We describe our potential as:\n",
    "\n",
    "$$\n",
    "V(x) =\n",
    "\\left \\{\n",
    "\\begin{array}{ll}\n",
    "C & |x| \\leq \\alpha \\\\\n",
    "0 & |x| \\in [\\alpha, L] \\\\\n",
    "\\infty & |x| \\geq L \\\\\n",
    "\\end{array}\n",
    "\\right .\n",
    "$$"
   ],
   "id": "f3b6f39cfc82727"
  },
  {
   "metadata": {
    "ExecuteTime": {
     "end_time": "2024-06-13T11:59:45.547690Z",
     "start_time": "2024-06-13T11:59:45.545761Z"
    }
   },
   "cell_type": "code",
   "source": [
    "# Constants required\n",
    "alpha = 1\n",
    "L = 2\n",
    "C = 3"
   ],
   "id": "c9706da2a0dc5070",
   "execution_count": 1,
   "outputs": []
  },
  {
   "metadata": {},
   "cell_type": "markdown",
   "source": [
    "# Solutions on each interval\n",
    "\n",
    "On $ |x| \\geq L$ we have an infinite potential, hence the solution there is $0$. We will consider the time-independent Schrodinger equation $E \\psi = H \\psi$ on each interval, for an energy $E \\in [0,C]$. Since any solution can be decomposed into even and odd parts, it suffices to consider solutions with support on $[0, L]$, excluding the negative side $[-L, 0]$. This results in the generic solutions:\n",
    "\n",
    "$$\n",
    "\\psi ( x ) = \n",
    "\\left \\{\n",
    "\\begin{array}{ll}\n",
    "A \\cos \\left ( \\frac{\\sqrt{2mE}}{\\hbar}{x} \\right ) + B \\sin \\left ( \\frac{\\sqrt{2mE}}{\\hbar}{x} \\right ) & x \\in [0, \\alpha]\\\\\n",
    "C \\exp \\left ( \\frac{\\sqrt{2m(C-E)}}{\\hbar}{x} \\right ) + D \\exp \\left ( - \\frac{\\sqrt{2m(C-E)}}{\\hbar}{x} \\right ) & x \\in [\\alpha, L]\\\\\n",
    "\\end{array}\n",
    "\\right .\n",
    "$$\n",
    "\n",
    "Defining the spatial frequencies as $\\omega_E := \\frac{\\sqrt{2mE}}{\\hbar}$ and $\\omega_C := \\frac{\\sqrt{2m(C-E)}}{\\hbar}$ we get the simpler expression\n",
    "\n",
    "$$\n",
    "\\psi ( x ) = \n",
    "\\left \\{\n",
    "\\begin{array}{ll}\n",
    "A \\cos \\left ( \\omega_E x \\right ) + B \\sin \\left ( \\omega_E x \\right ) & x \\in [0, \\alpha]\\\\\n",
    "C \\exp \\left ( \\omega_C x \\right ) + D \\exp \\left ( - \\omega_C x \\right ) & x \\in [\\alpha, L]\\\\\n",
    "\\end{array}\n",
    "\\right .\n",
    "$$\n",
    "\n",
    "In order to reduce our state space, we consider even and odd solutions separately:\n",
    "\n",
    "$$\n",
    "\\psi_{EVEN} ( x ) = \n",
    "\\left \\{\n",
    "\\begin{array}{ll}\n",
    "A \\cos \\left ( \\omega_E x \\right ) & x \\in [0, \\alpha]\\\\\n",
    "B \\exp \\left ( \\omega_C x \\right ) + B \\exp \\left ( - \\omega_C x \\right ) & x \\in [\\alpha, L]\\\\\n",
    "\\end{array}\n",
    "\\right .\n",
    "$$\n",
    "\n",
    "$$\n",
    "\\psi_{ODD} ( x ) = \n",
    "\\left \\{\n",
    "\\begin{array}{ll}\n",
    "A \\sin \\left ( \\omega_E x \\right ) & x \\in [0, \\alpha]\\\\\n",
    "B \\exp \\left ( \\omega_C x \\right ) - B \\exp \\left ( - \\omega_C x \\right ) & x \\in [\\alpha, L]\\\\\n",
    "\\end{array}\n",
    "\\right .\n",
    "$$\n",
    "\n",
    "Since we require $\\psi(x)|_{\\pm L} = 0$, we get that for even solutions $\\omega_E \\in \\frac{2 \\pi}{L} \\mathbb{Z}$ and that for odd solutions $\\omega_E \\in \\frac{2 \\pi}{L} \\mathbb{Z} + \\frac{\\pi}{L}$\n",
    "\n",
    "By evaluating $\\psi(x) | \\alpha$ and enforcing boundary conditions, we are able to find the proportionality constant $A/B$. "
   ],
   "id": "f4c2231f095888b5"
  },
  {
   "metadata": {
    "ExecuteTime": {
     "end_time": "2024-06-13T12:18:29.079331Z",
     "start_time": "2024-06-13T12:18:29.076735Z"
    }
   },
   "cell_type": "code",
   "source": "",
   "id": "cf908f8ccf7ee417",
   "execution_count": 2,
   "outputs": []
  },
  {
   "metadata": {},
   "cell_type": "code",
   "execution_count": null,
   "source": "",
   "id": "35823bddf0a81639",
   "outputs": []
  }
 ],
 "metadata": {
  "kernelspec": {
   "display_name": "Python 3",
   "language": "python",
   "name": "python3"
  },
  "language_info": {
   "codemirror_mode": {
    "name": "ipython",
    "version": 2
   },
   "file_extension": ".py",
   "mimetype": "text/x-python",
   "name": "python",
   "nbconvert_exporter": "python",
   "pygments_lexer": "ipython2",
   "version": "2.7.6"
  }
 },
 "nbformat": 4,
 "nbformat_minor": 5
}
