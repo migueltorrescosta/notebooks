{
 "cells": [
  {
   "cell_type": "markdown",
   "id": "0b2e606c-f481-4c53-8e16-31220eb13c97",
   "metadata": {},
   "source": [
    "# Imports"
   ]
  },
  {
   "cell_type": "code",
   "execution_count": 1,
   "id": "b58f8fb2-a5db-481d-aced-f1c120837dce",
   "metadata": {
    "ExecuteTime": {
     "end_time": "2024-04-01T22:33:59.245533Z",
     "start_time": "2024-04-01T22:33:58.734513Z"
    }
   },
   "outputs": [],
   "source": [
    "from src.algorithms import AbstractMetropolisHastings\n",
    "import numpy as np\n",
    "\n",
    "from IPython.core.pylabtools import figsize\n",
    "\n",
    "figsize(20, 5)"
   ]
  },
  {
   "cell_type": "markdown",
   "id": "28181b06-4fa9-49d2-8d7b-5dd39ff31393",
   "metadata": {},
   "source": [
    "## Applied to VMC"
   ]
  },
  {
   "cell_type": "markdown",
   "source": [
    "The goal of this section is to calculate $\\int ... dR $\n",
    "\n",
    "$$\n",
    "\\left \\{\n",
    "\\begin{array}{rll}\n",
    "H &= - \\frac{\\partial^2}{2 \\partial x^2} +V(x) & \\text{Hamiltonian}\\\\\n",
    "\\psi(R) &= \\exp({-p_0(x-p_1)^2-p_2(x-p_3)^2}) & \\text{Wave function}\\\\\n",
    "E_L(R) &= \\frac{H\\psi(R)}{\\psi(R)} = V(x) - \\frac{1}{2}\\frac{\\partial^2}{\\partial x^2}\\psi(x) & \\text{\"Local\" energy}\\\\\n",
    "V(x) &= \\frac{a_2}{2}x^2 + a_4x^4 & \\text{Potential energy}\\\\\n",
    "G(R,R', \\beta) &= \\braket{R | e^{- \\beta H} | R'} & \\text{???}\\\\\n",
    "\\Pi(R) &\\propto | \\psi(R) |^2 & \\text{Sampling probability???}\\\\\n",
    "\\end{array}\n",
    "\\right .\n",
    "$$"
   ],
   "metadata": {
    "collapsed": false
   },
   "id": "17c8412dd547005e"
  },
  {
   "cell_type": "code",
   "execution_count": 2,
   "id": "2c27417d-e235-4158-ba7f-953f5352b1c0",
   "metadata": {
    "ExecuteTime": {
     "end_time": "2024-04-01T22:33:59.251178Z",
     "start_time": "2024-04-01T22:33:59.247144Z"
    }
   },
   "outputs": [],
   "source": [
    "class VMC(AbstractMetropolisHastings[float]):\n",
    "    a = [1, 0]\n",
    "    p = [2, 0, 0, 0]\n",
    "    sigma = 0.5\n",
    "\n",
    "    def generator_function(self):\n",
    "        return self.current_configuration + np.random.normal(0, self.sigma)\n",
    "\n",
    "    def approval_function(self, new_configuration):\n",
    "\n",
    "        p = self.p\n",
    "        amplitude_calculator = lambda x: np.prod(\n",
    "            [-1, p[0], x - p[1], x - p[1]]\n",
    "        ) + np.prod([-1, p[2], x - p[3], x - p[3]])\n",
    "        logged_old_amplitude = amplitude_calculator(self.current_configuration)\n",
    "        logged_new_amplitude = amplitude_calculator(new_configuration)\n",
    "        return 2 * (logged_old_amplitude - logged_new_amplitude) <= np.log(\n",
    "            np.random.random()\n",
    "        )"
   ]
  },
  {
   "cell_type": "code",
   "execution_count": 3,
   "id": "d277647d-33d8-4da8-90aa-16732d3d1a4f",
   "metadata": {
    "ExecuteTime": {
     "end_time": "2024-04-01T22:33:59.263293Z",
     "start_time": "2024-04-01T22:33:59.251828Z"
    }
   },
   "outputs": [],
   "source": [
    "vmc = VMC(initial_configuration=10**5)"
   ]
  },
  {
   "cell_type": "code",
   "execution_count": null,
   "id": "6a557626-22b1-4ad3-8f01-72c7d8aff5d5",
   "metadata": {
    "is_executing": true,
    "ExecuteTime": {
     "start_time": "2024-04-01T22:33:59.264634Z"
    }
   },
   "outputs": [
    {
     "name": "stderr",
     "output_type": "stream",
     "text": [
      "(63396/127000) 7.463730e+04 :  63%|██████▎   | 63405/100000 [00:03<00:01, 20587.38it/s]"
     ]
    }
   ],
   "source": [
    "vmc.run_iterations(10**5)"
   ]
  },
  {
   "cell_type": "code",
   "execution_count": null,
   "id": "fd6f11c6-13bb-4290-9797-f13833792d7d",
   "metadata": {
    "is_executing": true
   },
   "outputs": [],
   "source": [
    "vmc.plot()"
   ]
  },
  {
   "cell_type": "code",
   "outputs": [],
   "source": [],
   "metadata": {
    "collapsed": false,
    "is_executing": true
   },
   "id": "ccfaf50a9d5d0a20",
   "execution_count": null
  }
 ],
 "metadata": {
  "kernelspec": {
   "display_name": "Python 3 (ipykernel)",
   "language": "python",
   "name": "python3"
  },
  "language_info": {
   "codemirror_mode": {
    "name": "ipython",
    "version": 3
   },
   "file_extension": ".py",
   "mimetype": "text/x-python",
   "name": "python",
   "nbconvert_exporter": "python",
   "pygments_lexer": "ipython3",
   "version": "3.11.6"
  }
 },
 "nbformat": 4,
 "nbformat_minor": 5
}
