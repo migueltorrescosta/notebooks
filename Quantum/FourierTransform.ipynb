{
 "cells": [
  {
   "metadata": {},
   "cell_type": "markdown",
   "source": [
    "# Goal\n",
    "\n",
    "Visualize the Fourier transform $\\hat f(t) := \\int_{- \\infty} ^ {\\infty} f(x) e ^ {-2 \\pi i t x} dx$ for any function"
   ],
   "id": "c757599f6e02890c"
  },
  {
   "metadata": {},
   "cell_type": "markdown",
   "source": "# Import",
   "id": "ef4961a2539e0ff6"
  },
  {
   "metadata": {
    "ExecuteTime": {
     "end_time": "2024-04-10T10:05:49.000859Z",
     "start_time": "2024-04-10T10:05:48.998049Z"
    }
   },
   "cell_type": "code",
   "source": [
    "import numpy as np\n",
    "from IPython.core.pylabtools import figsize\n",
    "\n",
    "from src import visualization\n",
    "\n",
    "figsize(20, 9)\n",
    "\n"
   ],
   "id": "cf80af3bd65cb31b",
   "execution_count": 4,
   "outputs": []
  },
  {
   "metadata": {},
   "cell_type": "markdown",
   "source": "# Trigonometric example",
   "id": "1645dd89309b9ea5"
  },
  {
   "metadata": {
    "ExecuteTime": {
     "end_time": "2024-04-10T10:05:49.375241Z",
     "start_time": "2024-04-10T10:05:49.003454Z"
    }
   },
   "cell_type": "code",
   "source": [
    "visualization.fourier_transform(\n",
    "    f=lambda t: np.sin(2.0 * np.pi * t) + 0.5 * np.sin(2 * 2.0 * np.pi * t + 2)\n",
    ")"
   ],
   "id": "a831329576407724",
   "execution_count": 5,
   "outputs": []
  },
  {
   "metadata": {},
   "cell_type": "markdown",
   "source": "# Gaussian curve",
   "id": "3027f9bdc98483d"
  },
  {
   "metadata": {
    "ExecuteTime": {
     "end_time": "2024-04-10T10:05:49.795828Z",
     "start_time": "2024-04-10T10:05:49.376615Z"
    }
   },
   "cell_type": "code",
   "source": [
    "visualization.fourier_transform(\n",
    "    f=lambda t: np.exp(- t ** 2),\n",
    "    time_domain_n=100\n",
    ")"
   ],
   "id": "287718801302d19a",
   "execution_count": 6,
   "outputs": []
  },
  {
   "metadata": {
    "ExecuteTime": {
     "end_time": "2024-04-10T10:05:49.798816Z",
     "start_time": "2024-04-10T10:05:49.796601Z"
    }
   },
   "cell_type": "code",
   "source": "",
   "id": "e48d900568a7f58a",
   "execution_count": 6,
   "outputs": []
  }
 ],
 "metadata": {
  "kernelspec": {
   "display_name": "Python 3",
   "language": "python",
   "name": "python3"
  },
  "language_info": {
   "codemirror_mode": {
    "name": "ipython",
    "version": 2
   },
   "file_extension": ".py",
   "mimetype": "text/x-python",
   "name": "python",
   "nbconvert_exporter": "python",
   "pygments_lexer": "ipython2",
   "version": "2.7.6"
  }
 },
 "nbformat": 4,
 "nbformat_minor": 5
}
