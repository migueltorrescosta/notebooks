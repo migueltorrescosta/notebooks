{
 "cells": [
  {
   "cell_type": "markdown",
   "id": "f16110a9-6ca3-4302-b4ca-e084eea8d00e",
   "metadata": {
    "jp-MarkdownHeadingCollapsed": true
   },
   "source": [
    "# Imports"
   ]
  },
  {
   "cell_type": "code",
   "execution_count": 1,
   "id": "c5a7c285-a7dc-428a-b252-5788f38f7435",
   "metadata": {},
   "outputs": [],
   "source": [
    "import numpy as np\n",
    "from scipy import signal\n",
    "import matplotlib.pyplot as plt\n",
    "from matplotlib import animation\n",
    "\n",
    "import ipywidgets as widgets\n",
    "from mpl_toolkits import mplot3d\n",
    "import numpy as np\n",
    "import matplotlib.pyplot as plt"
   ]
  },
  {
   "cell_type": "markdown",
   "id": "9a3ee9d0-52f4-4ac7-aa23-48b65d22fe9f",
   "metadata": {},
   "source": [
    "# Classes"
   ]
  },
  {
   "cell_type": "code",
   "execution_count": 2,
   "id": "c032afd4-29e9-4b17-8c9c-2874b02bb84f",
   "metadata": {},
   "outputs": [],
   "source": [
    "class Wave:\n",
    "\n",
    "    def __init__(\n",
    "        self,\n",
    "        amplitude=1,\n",
    "        phase=0,\n",
    "        time_frequency=.1,\n",
    "        space_frequency=.1,\n",
    "        weight=1\n",
    "    ):\n",
    "        self.amplitude = amplitude\n",
    "        self.phase=0\n",
    "        self.time_frequency = time_frequency\n",
    "        self.space_frequency = space_frequency\n",
    "        self.wave = ax.plot(\n",
    "            t[0],\n",
    "            np.cos(t[0]),\n",
    "            label=f\"{self.amplitude}*cos({self.phase}+{self.space_frequency}x+t{self.time_frequency}\"\n",
    "        )[0]\n",
    "        self.wave.set_xdata(t)\n",
    "\n",
    "    def update_wave(self, frame):\n",
    "        wave.set_ydata([\n",
    "            np.multiply(\n",
    "                self.amplitude,\n",
    "                np.cos(\n",
    "                    np.sum(\n",
    "                        self.phase,\n",
    "                        v*space_frequency,\n",
    "                        frame*time_frequency\n",
    "                    )\n",
    "                )\n",
    "            )\n",
    "            for v in t\n",
    "        ])"
   ]
  },
  {
   "cell_type": "markdown",
   "id": "d7ed2ff5-62bf-46c9-886f-c75dce984cde",
   "metadata": {},
   "source": [
    "# Goal\n",
    "\n",
    "Show the \"superposition\" of a left and right moving wave as a single plot"
   ]
  },
  {
   "cell_type": "code",
   "execution_count": 3,
   "id": "2a488fd3-80f2-4668-a2f6-a683ed9de4dc",
   "metadata": {},
   "outputs": [],
   "source": [
    "%matplotlib widget"
   ]
  },
  {
   "cell_type": "code",
   "execution_count": 7,
   "id": "61e3e3a5-7a00-43ea-baf6-656b324e7ce5",
   "metadata": {},
   "outputs": [
    {
     "name": "stderr",
     "output_type": "stream",
     "text": [
      "No artists with labels found to put in legend.  Note that artists whose label start with an underscore are ignored when legend() is called with no argument.\n"
     ]
    },
    {
     "data": {
      "application/vnd.jupyter.widget-view+json": {
       "model_id": "284c5a14768b4159b897f17993d5cc93",
       "version_major": 2,
       "version_minor": 0
      },
      "image/png": "[encoded data removed]",
      "text/html": [
       "\n",
       "            <div style=\"display: inline-block;\">\n",
       "                <div class=\"jupyter-widgets widget-label\" style=\"text-align: center;\">\n",
       "                    Figure\n",
       "                </div>\n",
       "                <img src='data:image/png;base64,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' width=1000.0/>\n",
       "            </div>\n",
       "        "
      ],
      "text/plain": [
       "Canvas(toolbar=Toolbar(toolitems=[('Home', 'Reset original view', 'home', 'home'), ('Back', 'Back to previous …"
      ]
     },
     "metadata": {},
     "output_type": "display_data"
    }
   ],
   "source": [
    "fig, ax = plt.subplots(figsize=(10,2))\n",
    "t = np.linspace(0, 10, 100)\n",
    "\n",
    "waves = [\n",
    "    Wave(),\n",
    "    Wave(time_frequency=-.1)\n",
    "]\n",
    "wave_sum = ax.plot(t[0], np.cos(t[0]))[0]\n",
    "wave_sum.set_xdata(t)\n",
    "\n",
    "ax.set(xlim=[0, 10], ylim=[-1, 1])\n",
    "ax.legend()\n",
    "\n",
    "\n",
    "def update(frame):\n",
    "    # update the scatter plots:\n",
    "    \n",
    "    for wave in waves:\n",
    "        wave.wave.update_wave(frame)\n",
    "        \n",
    "    wave_sum.set_ydata(\n",
    "        np.sum([\n",
    "            w.get_ydata()*w.weight for w in waves\n",
    "        ])\n",
    "    )\n",
    "    return (*[w.wave for w in waves], wave_sum)\n",
    "\n",
    "\n",
    "ani = animation.FuncAnimation(fig=fig, func=update, frames=10**6, interval=20)\n",
    "plt.show()"
   ]
  },
  {
   "cell_type": "code",
   "execution_count": null,
   "id": "d88e86ce-5ee0-4568-855d-38f5589d2663",
   "metadata": {},
   "outputs": [],
   "source": []
  }
 ],
 "metadata": {
  "kernelspec": {
   "display_name": "Python 3 (ipykernel)",
   "language": "python",
   "name": "python3"
  },
  "language_info": {
   "codemirror_mode": {
    "name": "ipython",
    "version": 3
   },
   "file_extension": ".py",
   "mimetype": "text/x-python",
   "name": "python",
   "nbconvert_exporter": "python",
   "pygments_lexer": "ipython3",
   "version": "3.11.6"
  }
 },
 "nbformat": 4,
 "nbformat_minor": 5
}
