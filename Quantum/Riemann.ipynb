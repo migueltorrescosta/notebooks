{
 "cells": [
  {
   "cell_type": "markdown",
   "id": "61f0405b-7345-45a4-96b2-c8ef7e2a3003",
   "metadata": {},
   "source": [
    "# Overview\n",
    "\n",
    "1. $H_t(z) := \\int_{0}^{\\infty}e^{tu^2}\\phi (u) \\cos (zu) du$\n",
    "2. $\\Phi (u) := \\sum_{n=1}^{\\infty} (2 \\pi^2n^4 e^{9u} - 3 \\pi n^2 e^{5u}) \\exp{(-\\pi n^2 e^{4u})}$\n",
    "3. The equations above describe the heatflow of the Riemann Equation.\n",
    "4. $\\exists Λ \\in \\mathbb{R}$ such that $\\forall t \\geq Λ$, we have the zeroes of ${H_t}$ being real. This is known as the [de Bruijn–Newman constant](https://en.wikipedia.org/wiki/De_Bruijn%E2%80%93Newman_constant).\n",
    "5. $Λ \\geq 0$ was [proved](https://arxiv.org/pdf/1801.05914.pdf) by Brad Rogers & Terence Tau.\n",
    "6. $Λ > 0$ is equivalent to the Riemann Hypothesis.\n",
    "7. $Λ \\leq .22$ was [proved](https://github.com/km-git-acc/dbn_upper_bound/blob/master/Writeup/debruijn.pdf) as part of the polimath project.\n",
    "8. $H_0(z) = \\int_0^{\\infty}\\phi (u) cos(zu) du$ is the Fourier representation of $H_0(z)$\n",
    "\n",
    "We want to find bounds on $Λ$, following an approach similar to the polymath project\n",
    "\n",
    "# Plan to bound $Λ$\n",
    "\n",
    "1. Choose a $t \\geq Λ$ ( $t>.2$ suffices for the time being )\n",
    "2. Take $n$ zeroes $(x_1, x_2, \\dots , x_n)$ of $H_t$\n",
    "3. Computationally estimate how the $x_i$ evolve backwards in time (i.e. towards $t=0$, getting an estimate of the time $t_k$ at which the trajectories of the various $x_i$ converge to a single point\n",
    "4. Reproduce the above with higher values for $n$, obtaining iteratively better estimates of $Λ$.\n",
    "5. If\n",
    "   1. $G \\approx 0$, we proved nothing 😢.\n",
    "   2. $G$ is statistically far from $0$, we have shown that Riemann's Hypothesis is likely true 🎉\n",
    "  \n",
    "# Pre-requisites\n",
    "1. Do we have examples ( in code or books ) of approximating path trajectories using heatflow?\n",
    "2. What are the best methods known to find zeroes of the Riemann Zeta, i.e. the $(x_1, x_2, ... , x_n)$"
   ]
  },
  {
   "cell_type": "markdown",
   "id": "d0cce21e-f68c-4c16-91b0-c08c75acd68f",
   "metadata": {},
   "source": [
    "# Visualizing $H_t$\n",
    "\n",
    "We approximate $H_t$ by adding more terms to the sum and approximating the integral. Since the exponential in the integral decreases much faster than the $\\Phi$ terms, we can approximate the integral.\n",
    "\n",
    "We will define a function $h(t,u,z,k)=e^{tu^2} \\left [ \\sum_{n=1}^{k} (2 \\pi^2n^4 e^{9u} - 3 \\pi n^2 e^{5u}) \\exp{(-\\pi n^2 e^{4u})} \\right ] \\cos (zu)$, and then approximate the integral over $u$ using QUADPACK\n",
    "\n",
    "1. $H_t(z) := \\int_{0}^{\\infty}e^{tu^2}\\phi (u) \\cos (zu) du$\n",
    "2. $\\Phi (u) := \\sum_{n=1}^{\\infty} (2 \\pi^2n^4 e^{9u} - 3 \\pi n^2 e^{5u}) \\exp{(-\\pi n^2 e^{4u})}$"
   ]
  },
  {
   "cell_type": "code",
   "execution_count": 1,
   "id": "8fb1197e-335f-4ab3-9612-8eef1d8837f8",
   "metadata": {},
   "outputs": [],
   "source": [
    "import math\n",
    "import numpy as np\n",
    "import pandas as pd\n",
    "import seaborn as sns\n",
    "from tqdm.auto import tqdm\n",
    "from matplotlib import pyplot\n",
    "from scipy.integrate import quad # https://docs.scipy.org/doc/scipy/reference/generated/scipy.integrate.quad.html#scipy.integrate.quad\n",
    "import itertools"
   ]
  },
  {
   "cell_type": "code",
   "execution_count": 2,
   "id": "fe4d8886-7da9-44e3-9471-a67ec473068c",
   "metadata": {},
   "outputs": [],
   "source": [
    "def h(t, u, z, k):\n",
    "    return np.product([\n",
    "        math.exp(t*u**2),\n",
    "        np.sum([\n",
    "            (2*math.pi**2*n**4*math.exp(9*u)-3*math.pi*n**2*math.exp(5*u))*math.exp(-1*math.pi*n**2*math.exp(4*u))\n",
    "            for n in range(1, k+1)\n",
    "        ]),\n",
    "        math.cos(z*u)\n",
    "    ])\n",
    "\n",
    "def H(t,z,k,b):\n",
    "    function = lambda u: h(t,u,z,k)\n",
    "    return quad(\n",
    "        func=function,\n",
    "        a=0,\n",
    "        b=b\n",
    "    )"
   ]
  },
  {
   "cell_type": "markdown",
   "id": "d69b9eda-3a06-4d71-a269-372943d485fe",
   "metadata": {},
   "source": [
    "## Building the relevant data"
   ]
  },
  {
   "cell_type": "code",
   "execution_count": 3,
   "id": "ba01bdff-9eef-439f-b172-b24bf3bf4ab4",
   "metadata": {},
   "outputs": [
    {
     "data": {
      "application/vnd.jupyter.widget-view+json": {
       "model_id": "51aa6fca5ac64e178231be266d2527fb",
       "version_major": 2,
       "version_minor": 0
      },
      "text/plain": [
       "  0%|          | 0/20000 [00:00<?, ?it/s]"
      ]
     },
     "metadata": {},
     "output_type": "display_data"
    }
   ],
   "source": [
    "k_array = [100]\n",
    "b_array = [16] # [2**i for i in range(5)]\n",
    "z_array = np.divide(range(-10000,10000), 100)\n",
    "total = len(k_array) * len(b_array) * len(z_array)\n",
    "\n",
    "df = pd.DataFrame([\n",
    "    {\n",
    "        \"k\": k,\n",
    "        \"b\":b,\n",
    "        \"z\": z,\n",
    "        \"h\": H(t=1, z=z, k=k, b=b)[0],\n",
    "        \"error\": H(t=1, z=z, k=k, b=b)[1],\n",
    "    }\n",
    "    for k, b, z in tqdm(\n",
    "        itertools.product(k_array, b_array, z_array),\n",
    "        total=np.product(total)\n",
    "    )\n",
    "])\n",
    "df[\"logerror\"] = [math.log(e, 10) for e in df[\"error\"]]\n",
    "df[\"sign\"] = [np.sign(h) for h in df[\"h\"]]"
   ]
  },
  {
   "cell_type": "code",
   "execution_count": 4,
   "id": "435bc2a0-d13a-43a4-975a-d52faa5a7d94",
   "metadata": {},
   "outputs": [
    {
     "data": {
      "text/html": [
       "<div>\n",
       "<style scoped>\n",
       "    .dataframe tbody tr th:only-of-type {\n",
       "        vertical-align: middle;\n",
       "    }\n",
       "\n",
       "    .dataframe tbody tr th {\n",
       "        vertical-align: top;\n",
       "    }\n",
       "\n",
       "    .dataframe thead th {\n",
       "        text-align: right;\n",
       "    }\n",
       "</style>\n",
       "<table border=\"1\" class=\"dataframe\">\n",
       "  <thead>\n",
       "    <tr style=\"text-align: right;\">\n",
       "      <th></th>\n",
       "      <th>k</th>\n",
       "      <th>b</th>\n",
       "      <th>z</th>\n",
       "      <th>h</th>\n",
       "      <th>error</th>\n",
       "      <th>logerror</th>\n",
       "      <th>sign</th>\n",
       "    </tr>\n",
       "  </thead>\n",
       "  <tbody>\n",
       "    <tr>\n",
       "      <th>0</th>\n",
       "      <td>100</td>\n",
       "      <td>16</td>\n",
       "      <td>-100.00</td>\n",
       "      <td>8.597207e-16</td>\n",
       "      <td>2.632662e-09</td>\n",
       "      <td>-8.579605</td>\n",
       "      <td>1.0</td>\n",
       "    </tr>\n",
       "    <tr>\n",
       "      <th>1</th>\n",
       "      <td>100</td>\n",
       "      <td>16</td>\n",
       "      <td>-99.99</td>\n",
       "      <td>8.673558e-16</td>\n",
       "      <td>2.639797e-09</td>\n",
       "      <td>-8.578430</td>\n",
       "      <td>1.0</td>\n",
       "    </tr>\n",
       "    <tr>\n",
       "      <th>2</th>\n",
       "      <td>100</td>\n",
       "      <td>16</td>\n",
       "      <td>-99.98</td>\n",
       "      <td>8.762153e-16</td>\n",
       "      <td>2.646870e-09</td>\n",
       "      <td>-8.577267</td>\n",
       "      <td>1.0</td>\n",
       "    </tr>\n",
       "    <tr>\n",
       "      <th>3</th>\n",
       "      <td>100</td>\n",
       "      <td>16</td>\n",
       "      <td>-99.97</td>\n",
       "      <td>8.858728e-16</td>\n",
       "      <td>2.653881e-09</td>\n",
       "      <td>-8.576119</td>\n",
       "      <td>1.0</td>\n",
       "    </tr>\n",
       "    <tr>\n",
       "      <th>4</th>\n",
       "      <td>100</td>\n",
       "      <td>16</td>\n",
       "      <td>-99.96</td>\n",
       "      <td>8.963722e-16</td>\n",
       "      <td>2.660830e-09</td>\n",
       "      <td>-8.574983</td>\n",
       "      <td>1.0</td>\n",
       "    </tr>\n",
       "  </tbody>\n",
       "</table>\n",
       "</div>"
      ],
      "text/plain": [
       "     k   b       z             h         error  logerror  sign\n",
       "0  100  16 -100.00  8.597207e-16  2.632662e-09 -8.579605   1.0\n",
       "1  100  16  -99.99  8.673558e-16  2.639797e-09 -8.578430   1.0\n",
       "2  100  16  -99.98  8.762153e-16  2.646870e-09 -8.577267   1.0\n",
       "3  100  16  -99.97  8.858728e-16  2.653881e-09 -8.576119   1.0\n",
       "4  100  16  -99.96  8.963722e-16  2.660830e-09 -8.574983   1.0"
      ]
     },
     "execution_count": 4,
     "metadata": {},
     "output_type": "execute_result"
    }
   ],
   "source": [
    "df.head()"
   ]
  },
  {
   "cell_type": "markdown",
   "id": "84f030de-2c78-4491-a72d-ec132bb7000c",
   "metadata": {},
   "source": [
    "## $H_{0.22}(z)$ looks normally distributed around zero"
   ]
  },
  {
   "cell_type": "code",
   "execution_count": 5,
   "id": "a35f2cca-3ecd-4c0f-9b06-bf1693d0d971",
   "metadata": {},
   "outputs": [
    {
     "data": {
      "text/plain": [
       "<Axes: xlabel='z', ylabel='h'>"
      ]
     },
     "execution_count": 5,
     "metadata": {},
     "output_type": "execute_result"
    },
    {
     "data": {
      "image/png": "[encoded data removed]",
      "text/plain": [
       "<Figure size 640x480 with 1 Axes>"
      ]
     },
     "metadata": {},
     "output_type": "display_data"
    }
   ],
   "source": [
    "sns.lineplot(\n",
    "    x=\"z\",\n",
    "    y=\"h\",\n",
    "    hue=\"b\",\n",
    "    data=df[df[\"b\"]==16]\n",
    ")"
   ]
  },
  {
   "cell_type": "markdown",
   "id": "fdcd3f9d-3e21-46e6-879f-3f25d8bd8cd6",
   "metadata": {},
   "source": [
    "## Visualizing the sign of $h$\n",
    "\n",
    "- The location of zeroes become easier to observe: we have a zero whenever the sign of $h$ swaps, as seen below.\n",
    "- The zeroes are not clear from the image above."
   ]
  },
  {
   "cell_type": "code",
   "execution_count": 6,
   "id": "0601d103-cf31-4216-a1d1-7c879bdc9397",
   "metadata": {},
   "outputs": [
    {
     "data": {
      "text/plain": [
       "<Axes: xlabel='z', ylabel='sign'>"
      ]
     },
     "execution_count": 6,
     "metadata": {},
     "output_type": "execute_result"
    },
    {
     "data": {
      "image/png": "[encoded data removed]",
      "text/plain": [
       "<Figure size 2000x100 with 1 Axes>"
      ]
     },
     "metadata": {},
     "output_type": "display_data"
    }
   ],
   "source": [
    "fig, ax = pyplot.subplots(figsize=(20,1))\n",
    "sns.lineplot(\n",
    "    x=\"z\",\n",
    "    y=\"sign\",\n",
    "    hue=\"b\",\n",
    "    data=df[df[\"b\"]==16],\n",
    "    ax=ax\n",
    ")"
   ]
  },
  {
   "cell_type": "markdown",
   "id": "892edd95-44a9-4e06-8b0b-c79be0831027",
   "metadata": {},
   "source": [
    "The zeroes above are unreliable: we calculated this function using a small $k$ and integrating $h$ only on $\\int_0^{b}$ . They are merely a starting point for finding the zeroes"
   ]
  }
 ],
 "metadata": {
  "kernelspec": {
   "display_name": "Python 3 (ipykernel)",
   "language": "python",
   "name": "python3"
  },
  "language_info": {
   "codemirror_mode": {
    "name": "ipython",
    "version": 3
   },
   "file_extension": ".py",
   "mimetype": "text/x-python",
   "name": "python",
   "nbconvert_exporter": "python",
   "pygments_lexer": "ipython3",
   "version": "3.11.6"
  }
 },
 "nbformat": 4,
 "nbformat_minor": 5
}
