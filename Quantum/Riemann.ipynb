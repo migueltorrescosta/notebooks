{
 "cells": [
  {
   "cell_type": "markdown",
   "id": "61f0405b-7345-45a4-96b2-c8ef7e2a3003",
   "metadata": {},
   "source": [
    "# Overview\n",
    "\n",
    "1. $H_t(z) := \\int_{0}^{\\infty}e^{tu^2}\\phi (u) \\cos (zu) du$\n",
    "2. $\\Phi (u) := \\sum_{n=1}^{\\infty} (2 \\pi^2n^4 e^{9u} - 3 \\pi n^2 e^{5u}) \\exp{(-\\pi n^2 e^{4u})}$\n",
    "3. The equations above describe the heatflow of the Riemann Equation.\n",
    "4. $\\exists Λ \\in \\mathbb{R}$ such that $\\forall t \\geq Λ$, we have the zeroes of ${H_t}$ being real. This is known as the [de Bruijn–Newman constant](https://en.wikipedia.org/wiki/De_Bruijn%E2%80%93Newman_constant).\n",
    "5. $Λ \\geq 0$ was [proved](https://arxiv.org/pdf/1801.05914.pdf) by Brad Rogers & Terence Tau.\n",
    "6. $Λ > 0$ is equivalent to the Riemann Hypothesis.\n",
    "7. $Λ \\leq .22$ was [proved](https://github.com/km-git-acc/dbn_upper_bound/blob/master/Writeup/debruijn.pdf) as part of the polimath project.\n",
    "8. $H_0(z) = \\int_0^{\\infty}\\phi (u) cos(zu) du$ is the Fourier representation of $H_0(z)$\n",
    "\n",
    "We want to find bounds on $Λ$, following an approach similar to the polymath project\n",
    "\n",
    "# Plan to bound $Λ$\n",
    "\n",
    "1. Choose a $t \\geq Λ$ ( $t>.2$ suffices for the time being )\n",
    "2. Take $n$ zeroes $(x_1, x_2, \\dots , x_n)$ of $H_t$\n",
    "3. Computationally estimate how the $x_i$ evolve backwards in time (i.e. towards $t=0$, getting an estimate of the time $t_k$ at which the trajectories of the various $x_i$ converge to a single point\n",
    "4. Reproduce the above with higher values for $n$, obtaining iteratively better estimates of $Λ$.\n",
    "5. If\n",
    "   1. $G \\approx 0$, we proved nothing 😢.\n",
    "   2. $G$ is statistically far from $0$, we have shown that Riemann's Hypothesis is likely true 🎉\n",
    "  \n",
    "# Pre-requisites\n",
    "1. Do we have examples ( in code or books ) of approximating path trajectories using heatflow?\n",
    "2. What are the best methods known to find zeroes of the Riemann Zeta, i.e. the $(x_1, x_2, ... , x_n)$"
   ]
  },
  {
   "cell_type": "code",
   "execution_count": null,
   "id": "eb1ea772-0da5-44c3-873b-9b56500d5cb2",
   "metadata": {},
   "outputs": [],
   "source": []
  }
 ],
 "metadata": {
  "kernelspec": {
   "display_name": "Python 3 (ipykernel)",
   "language": "python",
   "name": "python3"
  },
  "language_info": {
   "codemirror_mode": {
    "name": "ipython",
    "version": 3
   },
   "file_extension": ".py",
   "mimetype": "text/x-python",
   "name": "python",
   "nbconvert_exporter": "python",
   "pygments_lexer": "ipython3",
   "version": "3.11.6"
  }
 },
 "nbformat": 4,
 "nbformat_minor": 5
}
