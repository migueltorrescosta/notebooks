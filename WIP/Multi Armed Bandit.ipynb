{
 "cells": [
  {
   "cell_type": "markdown",
   "metadata": {},
   "source": [
    "# All imports"
   ]
  },
  {
   "cell_type": "code",
   "execution_count": 1,
   "metadata": {},
   "outputs": [],
   "source": [
    "import numpy as np\n",
    "import functools\n",
    "import seaborn as sns\n",
    "import matplotlib.pyplot as plt"
   ]
  },
  {
   "cell_type": "markdown",
   "metadata": {},
   "source": [
    "# Mathsy Aux Functions"
   ]
  },
  {
   "cell_type": "code",
   "execution_count": 2,
   "metadata": {},
   "outputs": [],
   "source": [
    "# Returns the probability of n theta bernoulli variables getting r positives multiplied by \n",
    "def bernoulli_prob(n,r,theta):\n",
    "    theta *= 1.\n",
    "    return (theta**r) * (1-theta)**(n-r)"
   ]
  },
  {
   "cell_type": "markdown",
   "metadata": {},
   "source": [
    "# pdfs Aux Functions"
   ]
  },
  {
   "cell_type": "code",
   "execution_count": 3,
   "metadata": {},
   "outputs": [],
   "source": [
    "# Returns a pdf from a number of observations and number of transactions, assuming a initial uniform pdf\n",
    "# TODO: If n is too big the probabilities get set to zero due to floating point errors\n",
    "# TODO: Need to start using BigInt types or find another way around this\n",
    "def generate_pdf(n,r,bins):\n",
    "    # n : number of observations\n",
    "    # r : number of positives\n",
    "    # bins : number of points in the x coordinate to be generated\n",
    "    x_coordinate = np.linspace(0,1,bins+1)\n",
    "    f = functools.partial(bernoulli_prob,n,r)\n",
    "    y_coordinate = list(map(f,x_coordinate))\n",
    "    # TODO: Find a better way to normalize a vector\n",
    "    y_coordinate = np.multiply(y_coordinate,(bins*1./sum(y_coordinate)))\n",
    "    return y_coordinate\n",
    "\n",
    "# Updates the confidence interval based on the original pdf\n",
    "def bayesian_update(original_pdf,update_factor, bins):\n",
    "    assert len(original_pdf) == bins\n",
    "    assert len(update_factor) == bins\n",
    "    updated_pdf = np.multiply(original_pdf,update_factor)\n",
    "    # TODO: Find a better way to normalize a vector\n",
    "    updated_pdf = np.multiply(updated_pdf,bins*1./sum(updated_pdf))\n",
    "    return updated_pdf"
   ]
  },
  {
   "cell_type": "markdown",
   "metadata": {},
   "source": [
    "# Plot Aux Functions"
   ]
  },
  {
   "cell_type": "code",
   "execution_count": 4,
   "metadata": {},
   "outputs": [],
   "source": [
    "# Plots the various pdfs with their description\n",
    "def plotting(distributions,bins):\n",
    "    x_coordinate = np.linspace(0,1,bins+1)\n",
    "    for pdf,colour,subtitle in distributions:\n",
    "        pass\n",
    "    plt.show()"
   ]
  },
  {
   "cell_type": "code",
   "execution_count": 5,
   "metadata": {},
   "outputs": [
    {
     "data": {
      "text/plain": [
       "array([  0.00000000e+000,   7.53830282e-062,   1.02817285e-035,\n",
       "         4.09529087e-022,   1.13686085e-013,   4.50654421e-008,\n",
       "         2.72766933e-004,   8.91366159e-002,   3.33919477e+000,\n",
       "         2.32864065e+001,   4.20588058e+001,   2.48812926e+001,\n",
       "         5.72964853e+000,   5.85141673e-001,   2.93094811e-002,\n",
       "         7.79394776e-004,   1.17207165e-005,   1.04899572e-007,\n",
       "         5.82527051e-010,   2.07718668e-012,   4.89312489e-015,\n",
       "         7.79668659e-018,   8.57055499e-021,   6.60746238e-024,\n",
       "         3.62206021e-027,   1.42802681e-030,   4.08771865e-034,\n",
       "         8.56148236e-038,   1.32022625e-041,   1.50630209e-045,\n",
       "         1.27632103e-049,   8.05284776e-054,   3.78981237e-058,\n",
       "         1.33141934e-062,   3.49166150e-067,   6.83004957e-072,\n",
       "         9.95004636e-077,   1.07712314e-081,   8.63930193e-087,\n",
       "         5.11576580e-092,   2.22701386e-097,   7.09242238e-103,\n",
       "         1.64331829e-108,   2.75305004e-114,   3.31200052e-120,\n",
       "         2.83968629e-126,   1.72093890e-132,   7.30578481e-139,\n",
       "         2.15145096e-145,   4.34875492e-152,   5.96489465e-159,\n",
       "         5.48388170e-166,   3.33462073e-173,   1.26311557e-180,\n",
       "         0.00000000e+000,   0.00000000e+000,   0.00000000e+000,\n",
       "         0.00000000e+000,   0.00000000e+000,   0.00000000e+000,\n",
       "         0.00000000e+000,   0.00000000e+000,   0.00000000e+000,\n",
       "         0.00000000e+000,   0.00000000e+000,   0.00000000e+000,\n",
       "         0.00000000e+000,   0.00000000e+000,   0.00000000e+000,\n",
       "         0.00000000e+000,   0.00000000e+000,   0.00000000e+000,\n",
       "         0.00000000e+000,   0.00000000e+000,   0.00000000e+000,\n",
       "         0.00000000e+000,   0.00000000e+000,   0.00000000e+000,\n",
       "         0.00000000e+000,   0.00000000e+000,   0.00000000e+000,\n",
       "         0.00000000e+000,   0.00000000e+000,   0.00000000e+000,\n",
       "         0.00000000e+000,   0.00000000e+000,   0.00000000e+000,\n",
       "         0.00000000e+000,   0.00000000e+000,   0.00000000e+000,\n",
       "         0.00000000e+000,   0.00000000e+000,   0.00000000e+000,\n",
       "         0.00000000e+000,   0.00000000e+000,   0.00000000e+000,\n",
       "         0.00000000e+000,   0.00000000e+000,   0.00000000e+000,\n",
       "         0.00000000e+000,   0.00000000e+000])"
      ]
     },
     "execution_count": 5,
     "metadata": {},
     "output_type": "execute_result"
    }
   ],
   "source": [
    "x = generate_pdf(10**3,10**2,10**2)\n",
    "x"
   ]
  },
  {
   "cell_type": "code",
   "execution_count": null,
   "metadata": {},
   "outputs": [],
   "source": []
  }
 ],
 "metadata": {
  "kernelspec": {
   "display_name": "Python 3",
   "language": "python",
   "name": "python3"
  },
  "language_info": {
   "codemirror_mode": {
    "name": "ipython",
    "version": 3
   },
   "file_extension": ".py",
   "mimetype": "text/x-python",
   "name": "python",
   "nbconvert_exporter": "python",
   "pygments_lexer": "ipython3",
   "version": "3.5.2"
  }
 },
 "nbformat": 4,
 "nbformat_minor": 2
}
