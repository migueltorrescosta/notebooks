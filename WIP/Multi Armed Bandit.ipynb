{
 "cells": [
  {
   "cell_type": "markdown",
   "metadata": {},
   "source": [
    "# All imports"
   ]
  },
  {
   "cell_type": "code",
   "execution_count": 1,
   "metadata": {},
   "outputs": [],
   "source": [
    "import numpy as np\n",
    "import functools\n",
    "\n",
    "import seaborn as sns\n",
    "import matplotlib.pyplot as plt\n",
    "import matplotlib.patches as mpatches"
   ]
  },
  {
   "cell_type": "markdown",
   "metadata": {},
   "source": [
    "# Mathsy Aux Functions"
   ]
  },
  {
   "cell_type": "code",
   "execution_count": 2,
   "metadata": {},
   "outputs": [],
   "source": [
    "# Returns the probability of n theta bernoulli variables getting r positives multiplied by \n",
    "def bernoulli_prob(n,r,theta):\n",
    "    theta *= 1.\n",
    "    return (theta**r) * (1-theta)**(n-r)\n",
    "\n",
    "# Scales a vector to have L1 length equal to 1\n",
    "def normalize_vector(vect):\n",
    "    return np.divide(vect,sum(vect))"
   ]
  },
  {
   "cell_type": "markdown",
   "metadata": {},
   "source": [
    "# pdfs Aux Functions"
   ]
  },
  {
   "cell_type": "code",
   "execution_count": 3,
   "metadata": {},
   "outputs": [],
   "source": [
    "# Returns a pdf from a number of observations and number of transactions, assuming a initial uniform pdf\n",
    "# TODO: If n is too big the probabilities get set to zero due to floating point errors\n",
    "# TODO: Need to start using BigInt types or find another way around this\n",
    "def generate_pdf(n,r,bins=10**4):\n",
    "    # n : number of observations\n",
    "    # r : number of positives\n",
    "    # bins : number of points in the x coordinate to be generated\n",
    "    x_coordinate = np.linspace(0,1,bins+1)\n",
    "    f = functools.partial(bernoulli_prob,n,r)\n",
    "    y_coordinate = list(map(f,x_coordinate))\n",
    "    # TODO: Find a better way to normalize a vector\n",
    "    y_coordinate = np.multiply(y_coordinate,(bins*1./sum(y_coordinate)))\n",
    "    return y_coordinate\n",
    "\n",
    "# Updates the confidence interval based on the original pdf\n",
    "def bayesian_update(original_pdf,update_factor, bins):\n",
    "    assert len(original_pdf) == bins\n",
    "    assert len(update_factor) == bins\n",
    "    updated_pdf = np.multiply(original_pdf,update_factor)\n",
    "    # TODO: Find a better way to normalize a vector\n",
    "    updated_pdf = np.multiply(updated_pdf,bins*1./sum(updated_pdf))\n",
    "    return updated_pdf"
   ]
  },
  {
   "cell_type": "markdown",
   "metadata": {},
   "source": [
    "# Plot Aux Functions"
   ]
  },
  {
   "cell_type": "code",
   "execution_count": 4,
   "metadata": {},
   "outputs": [],
   "source": [
    "# Compares the plots given arrays of equal length\n",
    "def plot_pdfs(distributions,bins=1000,fig_width=20,fig_height=3):\n",
    "    plt.rcParams[\"figure.figsize\"] = [fig_width,fig_height]\n",
    "    patches = []\n",
    "    for distribution,color,name in distributions:\n",
    "        y_coordinate = distribution\n",
    "        x_coordinate = np.linspace(0,1,len(y_coordinate))\n",
    "        plt.plot(x_coordinate,y_coordinate,color)\n",
    "        patches.append(mpatches.Patch(color=color, label=name))\n",
    "    plt.legend(handles=patches)\n",
    "    plt.ylabel('probabiity density function')\n",
    "    plt.show()"
   ]
  },
  {
   "cell_type": "markdown",
   "metadata": {},
   "source": [
    "# Main"
   ]
  },
  {
   "cell_type": "code",
   "execution_count": 5,
   "metadata": {},
   "outputs": [],
   "source": [
    "obs = [(10,2,'g','alternative_1'),(100,3,'b','alternative_2'),(100,4,'r','control')]\n",
    "def f(a):\n",
    "    return (generate_pdf(a[0],a[1]),a[2],a[3])\n",
    "obs = list(map(f,obs))"
   ]
  },
  {
   "cell_type": "code",
   "execution_count": 6,
   "metadata": {},
   "outputs": [
    {
     "data": {
      "image/png": "[encoded data removed]",
      "text/plain": [
       "<matplotlib.figure.Figure at 0x7efc998a87f0>"
      ]
     },
     "metadata": {},
     "output_type": "display_data"
    }
   ],
   "source": [
    "plot_pdfs(obs)"
   ]
  },
  {
   "cell_type": "code",
   "execution_count": null,
   "metadata": {},
   "outputs": [],
   "source": []
  }
 ],
 "metadata": {
  "kernelspec": {
   "display_name": "Python 3",
   "language": "python",
   "name": "python3"
  },
  "language_info": {
   "codemirror_mode": {
    "name": "ipython",
    "version": 3
   },
   "file_extension": ".py",
   "mimetype": "text/x-python",
   "name": "python",
   "nbconvert_exporter": "python",
   "pygments_lexer": "ipython3",
   "version": "3.5.2"
  }
 },
 "nbformat": 4,
 "nbformat_minor": 2
}
