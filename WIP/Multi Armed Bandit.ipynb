{
 "cells": [
  {
   "cell_type": "markdown",
   "metadata": {},
   "source": [
    "# All imports"
   ]
  },
  {
   "cell_type": "code",
   "execution_count": 1,
   "metadata": {},
   "outputs": [],
   "source": [
    "import numpy as np\n",
    "import functools\n",
    "import seaborn as sns\n",
    "import matplotlib.pyplot as plt"
   ]
  },
  {
   "cell_type": "markdown",
   "metadata": {},
   "source": [
    "# Aux Functions"
   ]
  },
  {
   "cell_type": "code",
   "execution_count": 17,
   "metadata": {},
   "outputs": [],
   "source": [
    "# Returns a pdf from a number of observations and number of transactions, assuming a initial uniform pdf\n",
    "# TODO: If n is too big the probabilities get set to zero due to floating point errors\n",
    "# TODO: Need to start using largint types or find another way around this\n",
    "def generate_pdf(n,r,bins):\n",
    "    # n : number of observations\n",
    "    # r : number of positives\n",
    "    # bins : number of points in the x coordinate to be generated\n",
    "    x_coordinate = np.linspace(0,1,bins+1)\n",
    "    f = functools.partial(bernoulli_prob,n,r)\n",
    "    y_coordinate = list(map(f,x_coordinate))\n",
    "    # TODO: Find a better way to normalize a vector\n",
    "    y_coordinate = np.multiply(y_coordinate,(bins*1./sum(y_coordinate)))\n",
    "    return y_coordinate\n",
    "\n",
    "# Returns the probability of n theta bernoulli variables getting r positives multiplied by \n",
    "def bernoulli_prob(n,r,theta):\n",
    "    theta *= 1.\n",
    "    return (theta**r) * (1-theta)**(n-r)\n",
    "\n",
    "# Updates the confidence interval based on the original pdf\n",
    "def bayesian_update(original_pdf,update_factor, bins):\n",
    "    assert len(original_pdf) == bins\n",
    "    assert len(update_factor) == bins\n",
    "    updated_pdf = np.multiply(original_pdf,update_factor)\n",
    "    # TODO: Find a better way to normalize a vector\n",
    "    updated_pdf = np.multiply(updated_pdf,bins*1./sum(updated_pdf))\n",
    "    return updated_pdf\n",
    "\n",
    "\n",
    "# Plots the various pdfs with their description\n",
    "def plotting(distributions,bins):\n",
    "    x_coordinate = np.linspace(0,1,bins+1)\n",
    "    for pdf,colour,subtitle in distributions:\n",
    "        pass\n",
    "    plt.show()"
   ]
  },
  {
   "cell_type": "code",
   "execution_count": 24,
   "metadata": {},
   "outputs": [
    {
     "data": {
      "text/plain": [
       "array([  0.00000000e+000,   1.00000000e+001,   1.58365316e-050,\n",
       "         2.76564415e-108,   4.86286479e-175,   4.80548699e-254,\n",
       "         0.00000000e+000,   0.00000000e+000,   0.00000000e+000,\n",
       "         0.00000000e+000,   0.00000000e+000])"
      ]
     },
     "execution_count": 24,
     "metadata": {},
     "output_type": "execute_result"
    }
   ],
   "source": [
    "x = generate_pdf(10**3,1,10)\n",
    "x"
   ]
  },
  {
   "cell_type": "code",
   "execution_count": 25,
   "metadata": {},
   "outputs": [
    {
     "data": {
      "text/plain": [
       "10.0"
      ]
     },
     "execution_count": 25,
     "metadata": {},
     "output_type": "execute_result"
    }
   ],
   "source": [
    "sum(x)"
   ]
  },
  {
   "cell_type": "code",
   "execution_count": null,
   "metadata": {},
   "outputs": [],
   "source": []
  }
 ],
 "metadata": {
  "kernelspec": {
   "display_name": "Python 3",
   "language": "python",
   "name": "python3"
  },
  "language_info": {
   "codemirror_mode": {
    "name": "ipython",
    "version": 3
   },
   "file_extension": ".py",
   "mimetype": "text/x-python",
   "name": "python",
   "nbconvert_exporter": "python",
   "pygments_lexer": "ipython3",
   "version": "3.5.2"
  }
 },
 "nbformat": 4,
 "nbformat_minor": 2
}
